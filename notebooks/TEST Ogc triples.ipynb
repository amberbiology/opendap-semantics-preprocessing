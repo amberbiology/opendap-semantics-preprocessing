{
 "cells": [
  {
   "cell_type": "markdown",
   "metadata": {},
   "source": [
    "OGC triples for WxS GetCapabilities as Catalog Records"
   ]
  },
  {
   "cell_type": "code",
   "execution_count": 30,
   "metadata": {
    "collapsed": false
   },
   "outputs": [],
   "source": [
    "%reload_ext autoreload\n",
    "%autoreload 2\n",
    "\n",
    "import os\n",
    "import json\n",
    "import glob\n",
    "from semproc.parser import Parser\n",
    "from semproc.preprocessors.ogc_preprocessors import OgcReader\n",
    "from semproc.serializers.rdfgraphs import RdfGrapher"
   ]
  },
  {
   "cell_type": "code",
   "execution_count": 31,
   "metadata": {
    "collapsed": true
   },
   "outputs": [],
   "source": [
    "with open('../response_examples/wms_v1.3.0.xml', 'r') as f:\n",
    "    response = f.read()\n",
    "\n",
    "# this shouldn't be necessary but cargo-culting here is fine by me.\n",
    "response = response.replace('\\\\\\n', '').replace('\\r\\n', '').replace('\\\\r', '').replace('\\\\n', '').replace('\\n', '')\n",
    "response = response.decode('utf-8', errors='replace').encode('unicode_escape') \n",
    "    \n",
    "url = 'http://ferret.pmel.noaa.gov/thredds/wms/las/woa05_monthly/data_ferret.pmel.noaa.gov_thredds_dodsC_data_PMEL_WOA05nc_monthly_o0112mn1.nc.jnl'\n",
    "identity = {\n",
    "    \"service\": {\n",
    "        \"name\": \"WMS\",\n",
    "        \"request\": \"GetCapabilities\",\n",
    "        \"version\": [\n",
    "            \"1.3.0\"\n",
    "        ]\n",
    "    },\n",
    "    \"protocol\": \"OGC\"\n",
    "}"
   ]
  },
  {
   "cell_type": "code",
   "execution_count": 32,
   "metadata": {
    "collapsed": true
   },
   "outputs": [],
   "source": [
    "reader = OgcReader(identity, response, url, {'harvest_date': '2015-09-15T12:45:00Z'})"
   ]
  },
  {
   "cell_type": "code",
   "execution_count": 33,
   "metadata": {
    "collapsed": false
   },
   "outputs": [],
   "source": [
    "reader.parse()"
   ]
  },
  {
   "cell_type": "code",
   "execution_count": 34,
   "metadata": {
    "collapsed": false
   },
   "outputs": [
    {
     "data": {
      "text/plain": [
       "{'catalog_record': {'conformsTo': ['http://www.opengis.net/wms',\n",
       "   'http://schemas.opengis.net/wms/1.3.0/capabilities_1_3_0.xsd'],\n",
       "  'dateCreated': '2015-09-15T12:45:00Z',\n",
       "  'description': 'Scientific Data',\n",
       "  'lastUpdated': '2015-09-15T12:45:00Z',\n",
       "  'object_id': 'urn:sha:89c0265fb336ecbb52b9997aede4c7730d61334d49a103cd66e98e48',\n",
       "  'relationships': [{'object_id': 'urn:uuid:d8a835ff-56bd-477d-b5b8-6b141bcf2ad6',\n",
       "    'relate': 'conformsTo'}],\n",
       "  'urls': [{'HTTPStatusFamilyCode': 200,\n",
       "    'HTTPStatusFamilyType': 'Success message',\n",
       "    'atTime': '2015-09-15T12:45:00Z',\n",
       "    'hasConfidence': 'Good',\n",
       "    'hasUrl': 'http://ferret.pmel.noaa.gov/thredds/wms/las/woa05_monthly/data_ferret.pmel.noaa.gov_thredds_dodsC_data_PMEL_WOA05nc_monthly_o0112mn1.nc.jnl',\n",
       "    'hasUrlSource': 'Harvested',\n",
       "    'object_id': 'urn:uuid:c41c1685-df10-4c8d-a0e8-7b1593237b4b',\n",
       "    'reasonPhrase': 'OK',\n",
       "    'statusCodeValue': 200,\n",
       "    'validatedOn': '2015-09-15T12:45:00Z'}]},\n",
       " 'keywords': [{'object_id': 'urn:uuid:d8a835ff-56bd-477d-b5b8-6b141bcf2ad6',\n",
       "   'terms': ['meteorology', 'atmosphere', 'climate', 'ocean', 'earth science'],\n",
       "   'thesaurus': 'Unknown',\n",
       "   'type': 'theme'}]}"
      ]
     },
     "execution_count": 34,
     "metadata": {},
     "output_type": "execute_result"
    }
   ],
   "source": [
    "reader.description"
   ]
  },
  {
   "cell_type": "code",
   "execution_count": 35,
   "metadata": {
    "collapsed": false
   },
   "outputs": [
    {
     "name": "stdout",
     "output_type": "stream",
     "text": [
      "@prefix bcube: <http://purl.org/BCube/#> .\n",
      "@prefix bibo: <http://purl.org/ontology/bibo/#> .\n",
      "@prefix dc: <http://purl.org/dc/elements/1.1/> .\n",
      "@prefix dcat: <http://www.w3.org/TR/vocab-dcat/#> .\n",
      "@prefix dct: <http://purl.org/dc/terms/> .\n",
      "@prefix esip: <http://purl.org/esip/#> .\n",
      "@prefix foaf: <http://xmlns.com/foaf/0.1/> .\n",
      "@prefix owl: <http://www.w3.org/2002/07/owl#> .\n",
      "@prefix prov: <http://purl.org/net/provenance/ns#> .\n",
      "@prefix rdf: <http://www.w3.org/1999/02/22-rdf-syntax-ns#> .\n",
      "@prefix rdfs: <http://www.w3.org/2000/01/rdf-schema#> .\n",
      "@prefix vcard: <http://www.w3.org/TR/vcard-rdf/#> .\n",
      "@prefix vivo: <http://vivo.ufl.edu/ontology/vivo-ufl/#> .\n",
      "@prefix xml: <http://www.w3.org/XML/1998/namespace> .\n",
      "@prefix xsd: <http://www.w3.org/2001/XMLSchema#> .\n",
      "\n",
      "<urn:sha:89c0265fb336ecbb52b9997aede4c7730d61334d49a103cd66e98e48> bcube:dateCreated \"2015-09-15T12:45:00Z\" ;\n",
      "    bcube:has <urn:uuid:c41c1685-df10-4c8d-a0e8-7b1593237b4b> ;\n",
      "    bcube:lastUpdated \"2015-09-15T12:45:00Z\" ;\n",
      "    dc:conformsTo <urn:uuid:d8a835ff-56bd-477d-b5b8-6b141bcf2ad6>,\n",
      "        \"http://schemas.opengis.net/wms/1.3.0/capabilities_1_3_0.xsd\",\n",
      "        \"http://www.opengis.net/wms\" ;\n",
      "    owl:a dcat:CatalogRecord .\n",
      "\n",
      "<urn:uuid:c41c1685-df10-4c8d-a0e8-7b1593237b4b> bcube:HTTPStatusFamilyCode 200 ;\n",
      "    bcube:HTTPStatusFamilyType \"Success message\" ;\n",
      "    bcube:atTime \"2015-09-15T12:45:00Z\" ;\n",
      "    bcube:hasConfidence \"Good\" ;\n",
      "    bcube:hasUrlSource \"Harvested\" ;\n",
      "    bcube:reasonPhrase \"OK\" ;\n",
      "    bcube:statusCodeValue 200 ;\n",
      "    bcube:validatedOn \"2015-09-15T12:45:00Z\" ;\n",
      "    owl:a bcube:Url ;\n",
      "    vcard:hasUrl \"http://ferret.pmel.noaa.gov/thredds/wms/las/woa05_monthly/data_ferret.pmel.noaa.gov_thredds_dodsC_data_PMEL_WOA05nc_monthly_o0112mn1.nc.jnl\" .\n",
      "\n",
      "<urn:uuid:d8a835ff-56bd-477d-b5b8-6b141bcf2ad6> bcube:hasValue \"atmosphere\",\n",
      "        \"climate\",\n",
      "        \"earth science\",\n",
      "        \"meteorology\",\n",
      "        \"ocean\" ;\n",
      "    dc:hasType \"theme\" ;\n",
      "    dc:partOf \"Unknown\" ;\n",
      "    owl:a bcube:thesaurusSubset .\n",
      "\n",
      "\n"
     ]
    }
   ],
   "source": [
    "grapher = RdfGrapher(reader.description)\n",
    "grapher.serialize()\n",
    "print grapher.emit_format()"
   ]
  },
  {
   "cell_type": "code",
   "execution_count": null,
   "metadata": {
    "collapsed": true
   },
   "outputs": [],
   "source": []
  }
 ],
 "metadata": {
  "kernelspec": {
   "display_name": "Python 2",
   "language": "python",
   "name": "python2"
  },
  "language_info": {
   "codemirror_mode": {
    "name": "ipython",
    "version": 2
   },
   "file_extension": ".py",
   "mimetype": "text/x-python",
   "name": "python",
   "nbconvert_exporter": "python",
   "pygments_lexer": "ipython2",
   "version": "2.7.10"
  }
 },
 "nbformat": 4,
 "nbformat_minor": 0
}
