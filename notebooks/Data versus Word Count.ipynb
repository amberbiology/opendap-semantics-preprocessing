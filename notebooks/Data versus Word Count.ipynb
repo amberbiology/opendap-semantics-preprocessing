{
 "cells": [
  {
   "cell_type": "markdown",
   "metadata": {},
   "source": [
    "Let's do some word counting!\n",
    "\n",
    "From two sets of bags: one with duplicates removed (thredds) and one without. Note that there are still issues with parsers, with bag generation, with thredds.\n",
    "\n",
    "What we're doing:\n",
    "\n",
    "- ~~create a bag of words for each successfully parsed response (bag must have two or more words)~~\n",
    "- create a bag of words from the xml text()/attrib.values (raw xml no semantic understanding, etc)\n",
    "- map identity to data flag (is it a data service?)\n",
    "- let's do some eda - number of words per response type (which, thought i had done that?)\n",
    "- chart words per data v not data\n",
    "\n",
    "and, if that looks reasonable, let's make a linear regression - one parameter (word count) to predict boolean data v no data.\n",
    "\n",
    "\n",
    "### ! NOTE: identification is ongoing !"
   ]
  },
  {
   "cell_type": "code",
   "execution_count": 45,
   "metadata": {
    "collapsed": true
   },
   "outputs": [],
   "source": [
    "%reload_ext autoreload\n",
    "%autoreload 2\n",
    "\n",
    "import os\n",
    "import json\n",
    "import glob\n",
    "from itertools import chain\n",
    "import dateutil.parser as dateparser\n",
    "from semproc.nlp_utils import *\n",
    "from semproc.bag_parser import BagParser"
   ]
  },
  {
   "cell_type": "code",
   "execution_count": 2,
   "metadata": {
    "collapsed": true
   },
   "outputs": [],
   "source": [
    "# some odds and ends\n",
    "\n",
    "def _prep(filepath):\n",
    "    # assume this is from the identified json \n",
    "    with open(filepath, 'r') as f:\n",
    "        data = json.loads(f.read())\n",
    "\n",
    "    response = data.get('content', '')\n",
    "    response = response.replace('\\\\\\n', '').replace('\\r\\n', '').replace('\\\\r', '').replace('\\\\n', '').replace('\\n', '')\n",
    "    response = response.decode('utf-8', errors='replace').encode('unicode_escape')\n",
    "    \n",
    "    identity = data.get('identity', [])\n",
    "    url = data.get('source_url', '')\n",
    "    \n",
    "    return identity, response, url"
   ]
  },
  {
   "cell_type": "code",
   "execution_count": 3,
   "metadata": {
    "collapsed": true
   },
   "outputs": [],
   "source": [
    "files = ['/Users/sscott/Documents/tmp/identified/0a87b35f00a9a9c4b6b884ddf7cb210e_identified.json']"
   ]
  },
  {
   "cell_type": "code",
   "execution_count": 14,
   "metadata": {
    "collapsed": true
   },
   "outputs": [],
   "source": [
    "# not using this - too specific\n",
    "exclude_tags = ['@schemaLocation', '@codeList']"
   ]
  },
  {
   "cell_type": "markdown",
   "metadata": {},
   "source": [
    "remove:\n",
    "\n",
    "- urls\n",
    "- dates\n",
    "- numbers\n",
    "- urns\n",
    "- emails\n",
    "- hashes (uuids, md5, sha if possible)\n",
    "\n",
    "\n",
    "My assumptions regarding the linear regression model:\n",
    "\n",
    "First, we have to make some guesses about what is or isn't a data response. This is before any true modeling or semantic inference so I am relying solely on the response type. Namely, that OGC services are data (spatial or time series data, at least), FGDC, ISO and DIF are likely to refer to data, OAI-PMH, OpenSearch, feeds (RSS or ATOM) are unclear (they could refer to data but that is the larger NLP question). I am going to lump CSW in these possible-but-not-known data services today."
   ]
  },
  {
   "cell_type": "code",
   "execution_count": 46,
   "metadata": {
    "collapsed": false
   },
   "outputs": [],
   "source": [
    "# some of the processing methods\n",
    "\n",
    "stopword_corpora = [\n",
    "    \"mimetypes.txt\",\n",
    "    \"namespaces.txt\"\n",
    "]\n",
    "\n",
    "# TODO: this is clearly unwarranted copypasta\n",
    "def remove_urls(text_as_list):\n",
    "    pttn = re.compile(ur\"((?:(?:https?|ftp|http)://)(?:\\S+(?::\\S*)?@)?(?:(?!(?:10|127)(?:.\\d{1,3}){3})(?!(?:169.254|192.168)(?:.\\d{1,3}){2})(?!172.(?:1[6-9]|2\\d|3[0-1])(?:.\\d{1,3}){2})(?:[1-9]\\d?|1\\d\\d|2[01]\\d|22[0-3])(?:.(?:1?\\d{1,2}|2[0-4]\\d|25[0-5])){2}(?:.(?:[1-9]\\d?|1\\d\\d|2[0-4]\\d|25[0-4]))|(?:(?:[a-z\\\\u00a1-\\\\uffff0-9]-*)*[a-z\\\\u00a1-\\\\uffff0-9]+)(?:.(?:[a-z\\\\u00a1-\\\\uffff0-9]-*)*[a-z\\\\u00a1-\\\\uffff0-9]+)*(?:.(?:[a-z\\\\u00a1-\\\\uffff]{2,})))(?::\\d{2,5})?(?:/\\S*)?)\", re.IGNORECASE)\n",
    "    new_text = []\n",
    "    for text in text_as_list:\n",
    "        if pttn.search(text) is None:\n",
    "            new_text.append(text)\n",
    "    return new_text\n",
    "\n",
    "def remove_urns(text_as_list):\n",
    "    pttn = re.compile(ur\"(?![http://])(?![https://])(?![ftp://])(([a-z0-9.\\S][a-z0-9-.\\S]{0,}\\S:{1,2}\\S)+[a-z0-9()+,\\-.=@;$_!*'%/?#]+)\", re.IGNORECASE)\n",
    "    new_text = []\n",
    "    for text in text_as_list:\n",
    "        if pttn.search(text) is None:\n",
    "            new_text.append(text)\n",
    "    return new_text\n",
    "\n",
    "def remove_hashes(text_as_list):\n",
    "    # this is just the uuid pattern right now\n",
    "    pttn = re.compile(ur'([a-f\\d]{8}(-[a-f\\d]{4}){3}-[a-f\\d]{12}?)', re.IGNORECASE)\n",
    "    new_text = []\n",
    "    for text in text_as_list:\n",
    "        if pttn.search(text) is None:\n",
    "            new_text.append(text)\n",
    "    return new_text\n",
    "\n",
    "def remove_timestamps(text_as_list):\n",
    "    new_text = []\n",
    "    for text in text_as_list:\n",
    "        try:\n",
    "            d = dateparser.parse(text)\n",
    "        except:\n",
    "            new_text.append(text)\n",
    "    return new_text\n",
    "\n",
    "def handle_whitespace(text):\n",
    "    text = ' '.join(text.strip().split())\n",
    "    return text.split()"
   ]
  },
  {
   "cell_type": "code",
   "execution_count": 47,
   "metadata": {
    "collapsed": false,
    "scrolled": true
   },
   "outputs": [
    {
     "name": "stdout",
     "output_type": "stream",
     "text": [
      "['eng', 'utf8', u'utf8', 'series', u'series', u'DOC/NOAA/NOS/OCS', u'United', u'States', u'Department', u'Commerce', u'(DOC),', u'National', u'Oceanic', u'Atmospheric', u'Administration', u'(NOAA),', u'National', u'Ocean', u'Service', u'(NOS),', u'Office', u'Coast', u'Survey', u'(OCS)', 'Hydrographic', 'Services', 'Division,', 'IT', 'Specialist', '(301)', '713-2698', 'x118', '(301)', '713-4533', 'NOAA/NOS/OCS/HSD', 'East-West', 'Highway,', 'SSMC3', 'Silver', 'Spring', 'MD', '20910', 'USA', 'hydro.info@noaa.gov', 'pointOfContact', u'pointOfContact', 'ISO', '19115-2', 'Geographic', 'Information', 'Metadata', 'Part', '2:', 'Extensions', 'for', 'Imagery', 'Gridded', 'Data', 'ISO', u'North', u'American', u'Datum', 'North', 'American', 'Datum', 'NAD83', 'revision', u'revision', u'withheld', 'NAD83', 'Link', 'to', 'Geographic', 'Markup', 'Language', '(GML)', 'description', 'reference', 'system.', 'information', u'information', 'resourceProvider', u'resourceProvider', u'EPSG', u'Registry', 'European', 'Petroleum', 'Survey', 'Group', 'European', 'Petroleum', 'Survey', 'Group', 'Geodetic', 'Parameter', 'Registry', 'Registry', 'that', 'accesses', 'the', 'EPSG', 'Geodetic', 'Parameter', 'Dataset,', 'which', 'is', 'structured', 'dataset', 'Coordinate', 'Reference', 'Systems', 'Coordinate', 'Transformations.', 'search', u'search', 'publisher', u'publisher', u'Mean', u'Lower', u'Low', u'Water', 'Mean', 'Lower', 'Low', 'Water', 'depth', 'MLLW', 'depth', 'revision', u'revision', u'withheld', 'MLLW', 'depth', 'GML', 'for', 'Mean', 'Lower', 'Low', 'Water', 'vertical', 'coordinate', 'reference', 'system', '(in', 'meters)', 'available', 'from', 'the', 'epsg-registry.', 'information', u'information', 'resourceProvider', u'resourceProvider', u'EPSG', u'Registry', 'European', 'Petroleum', 'Survey', 'Group', 'European', 'Petroleum', 'Survey', 'Group', 'Geodetic', 'Parameter', 'Registry', 'Registry', 'that', 'accesses', 'the', 'EPSG', 'Geodetic', 'Parameter', 'Dataset,', 'which', 'is', 'structured', 'dataset', 'Coordinate', 'Reference', 'Systems', 'Coordinate', 'Transformations.', 'search', u'search', 'publisher', u'publisher', u'Metadata', u'Extension', u'Information', 'xml', 'MD_MetadataExtensionInformation.xml', 'Metadata', 'Extension', 'Information', 'information', u'information', 'H10857:', 'NOS', 'Hydrographic', 'Survey,', 'Charleston', 'Harbor,', 'South', 'Carolina', 'Adjoining', 'Waterways,', 'South', 'Carolina,', 'publication', u'publication', 'Survey', 'ID:', 'H10857', u'DOC/NOAA/NOS/HSD', u'United', u'States', u'Department', u'Commerce', u'(DOC),', u'National', u'Oceanic', u'Atmospheric', u'Administration', u'(NOAA),', u'National', u'Ocean', u'Service', u'(NOS),', u'Office', u'Coast', u'Survey', u'(OCS),', u'Hydrographic', u'Surveys', u'Division', u'(HSD)', 'originator', u'originator', 'Field', 'Number:', 'OPR-G301-AHP-98', 'Sheet:', 'G', 'The', 'National', 'Oceanic', 'Atmospheric', 'Administration', '(NOAA)', 'has', 'the', 'statutory', 'mandate', 'to', 'collect', 'hydrographic', 'data', 'in', 'support', 'nautical', 'chart', 'compilation', 'for', 'safe', 'navigation', 'to', 'provide', 'background', 'data', 'for', 'engineers,', 'scientific,', 'other', 'commercial', 'industrial', 'activities.', 'Hydrographic', 'survey', 'data', 'primarily', 'consist', 'water', 'depths,', 'but', 'also', 'include', 'features', '(e.g.', 'rocks,', 'wrecks),', 'navigation', 'aids,', 'shoreline', 'identification,', 'bottom', 'type', 'information.', 'NOAA', 'is', 'responsible', 'for', 'archiving', 'distributing', 'the', 'source', 'data', 'as', 'described', 'in', 'this', 'metadata', 'record.', 'These', 'hydrographic', 'data', 'are', 'made', 'available', 'to', 'the', 'public', 'for', 'wide', 'variety', 'uses,', 'such', 'as', 'sea-bottom', 'characterization,', 'habitat', 'classification,', 'coastal', 'studies,', 'boundary', 'issues,', 'tsunami', 'forecasting.', 'These', 'data', 'are', 'not', 'intended', 'to', 'be', 'used', 'for', 'navigation.', 'Nautical', 'charts', 'produced', 'certified', 'by', 'NOAA', 'should', 'be', 'used', 'for', 'navigation', 'purposes.', 'Chief', 'Party:', 'Brian', 'Link', 'completed', u'completed', u'DOC/NOAA/NOS/OCS/HSD', u'United', u'States', u'Department', u'Commerce', u'(DOC),', u'National', u'Oceanic', u'Atmospheric', u'Administration', u'(NOAA),', u'National', u'Ocean', u'Service', u'(NOS),', u'Office', u'Coast', u'Survey', u'(OCS),', u'Hydrographic', u'Surveys', u'Division', u'(HSD)', 'Chief,', 'Hydrographic', 'Surveys', 'Division', '(301)', '713-2700', 'NOAA/NOS/OCS/HSD', 'East', 'West', 'Highway,', 'SSMC3', 'Silver', 'Spring', 'MD', '20910-3282', 'USA', 'HSD.Inquiries@noaa.gov', 'pointOfContact', u'pointOfContact', 'notPlanned', u'notPlanned', 'Hydrographic', 'Surveys', 'for', 'Selected', 'Locations', 'Within', 'the', 'United', 'States', '(hydro_bathy_2006)', 'project', u'project', u'NASA/GCMD', u'Project', u'Keywords', 'NASA/GCMD', 'Project', 'Keywords', u'unknown', u'GCMD', u'User', u'Support', u'Office', u'8294BEE08B11359FE040AC8C5AB460D1', 'NASA', 'GCMD', 'User', 'Support', 'Office', 'gcmduso@gcmd.gsfc.nasa.gov', 'GCMD', 'Feedback', 'Form', 'Have', 'Comment', 'for', 'the', 'GCMD?', 'information', u'information', 'custodian', u'custodian', u'GCMD', u'Valids', u'inapplicable', u'GCMD', u'Keyword', u'Page', 'GCMD', 'Keywords', 'Page', 'This', 'page', 'describes', 'the', 'NASA', 'GCMD', 'Keywords,', 'how', 'to', 'reference', 'those', 'keywords', 'provides', 'download', 'instructions.', 'information', u'information', 'custodian', u'custodian', u'EARTH', u'SCIENCE', u'Oceans', u'Bathymetry/Seafloor', u'Topography', u'Bathymetry', u'EARTH', u'SCIENCE', u'Oceans', u'Bathymetry/Seafloor', u'Topography', u'Seafloor', u'Topography', u'EARTH', u'SCIENCE', u'Oceans', u'Bathymetry/Seafloor', u'Topography', u'Water', u'Depth', u'EARTH', u'SCIENCE', u'Oceans', u'Marine', u'Sediments', u'Sediment', u'Composition', 'theme', u'theme', u'NASA/GCMD', u'Science', u'Keyword', u'Thesaurus', 'NASA/GCMD', 'Science', 'Keywords', u'unknown', u'GCMD', u'User', u'Support', u'Office', u'8294BEE08B11359FE040AC8C5AB460D1', 'NASA', 'GCMD', 'User', 'Support', 'Office', 'gcmduso@gcmd.gsfc.nasa.gov', 'GCMD', 'Feedback', 'Form', 'Have', 'Comment', 'for', 'the', 'GCMD?', 'information', u'information', 'custodian', u'custodian', u'GCMD', u'Valids', u'inapplicable', u'GCMD', u'Keyword', u'Page', 'GCMD', 'Keywords', 'Page', 'This', 'page', 'describes', 'the', 'NASA', 'GCMD', 'Keywords,', 'how', 'to', 'reference', 'those', 'keywords', 'provides', 'download', 'instructions.', 'information', u'information', 'custodian', u'custodian', u'DOC/NOAA/NESDIS/NGDC', u'National', u'Geophysical', u'Data', u'Center,', u'NESDIS,', u'NOAA,', u'U.S.', u'Department', u'Commerce', 'dataCenter', u'dataCenter', u'NASA/GCMD', u'Science', u'Keyword', u'Thesaurus', 'NASA/GCMD', 'Science', 'Keywords', u'unknown', u'GCMD', u'User', u'Support', u'Office', u'8294BEE08B11359FE040AC8C5AB460D1', 'NASA', 'GCMD', 'User', 'Support', 'Office', 'gcmduso@gcmd.gsfc.nasa.gov', 'GCMD', 'Feedback', 'Form', 'Have', 'Comment', 'for', 'the', 'GCMD?', 'information', u'information', 'custodian', u'custodian', u'GCMD', u'Valids', u'inapplicable', u'GCMD', u'Keyword', u'Page', 'GCMD', 'Keywords', 'Page', 'This', 'page', 'describes', 'the', 'NASA', 'GCMD', 'Keywords,', 'how', 'to', 'reference', 'those', 'keywords', 'provides', 'download', 'instructions.', 'information', u'information', 'custodian', u'custodian', u'In', u'Situ', u'Ocean-based', u'Platforms', u'SHIPS', 'platform', u'platform', u'NASA/GCMD', u'Platform', u'Keyword', u'Thesaurus', u'82A5DD195659CBECE040AC8C5AB41A40', 'NASA/GCMD', 'Platform', 'Keywords', u'unknown', u'GCMD', u'User', u'Support', u'Office', u'8294BEE08B11359FE040AC8C5AB460D1', 'NASA', 'GCMD', 'User', 'Support', 'Office', 'gcmduso@gcmd.gsfc.nasa.gov', 'GCMD', 'Feedback', 'Form', 'Have', 'Comment', 'for', 'the', 'GCMD?', 'information', u'information', 'custodian', u'custodian', u'GCMD', u'Valids', u'inapplicable', u'GCMD', u'Keyword', u'Page', 'GCMD', 'Keywords', 'Page', 'This', 'page', 'describes', 'the', 'NASA', 'GCMD', 'Keywords,', 'how', 'to', 'reference', 'those', 'keywords', 'provides', 'download', 'instructions.', 'information', u'information', 'custodian', u'custodian', u'In', u'Situ/Laboratory', u'Instruments', u'Profilers/Sounders', u'Acoustic', u'Sounders', u'MSBS', u'Multibeam', u'Swath', u'Bathymetry', u'System', u'In', u'Situ/Laboratory', u'Instruments', u'Profilers/Sounders', u'Acoustic', u'Sounders', u'MBES', u'Multibeam', u'Mapping', u'System', u'In', u'Situ/Laboratory', u'Instruments', u'Profilers/Sounders', u'Acoustic', u'Sounders', u'SONAR', u'Sound', u'Navigation', u'Ranging', u'In', u'Situ/Laboratory', u'Instruments', u'Profilers/Sounders', u'Acoustic', u'Sounders', u'Earth', u'Remote', u'Sensing', u'Instruments', u'Passive', u'Remote', u'Sensing', u'Positioning/Navigation', u'GPS', u'GPS', u'RECEIVERS', u'Earth', u'Remote', u'Sensing', u'Instruments', u'Passive', u'Remote', u'Sensing', u'Positioning/Navigation', u'GPS', u'GPS/IMU', u'Global', u'Positioning', u'System/Inertial', u'Measurement', u'Unit', 'instrument', u'instrument', u'NASA/GCMD', u'Instrument', u'Keyword', u'Thesaurus', u'82A5DD195658CBECE040AC8C5AB41A40', 'NASA/GCMD', 'Instrument', 'Keywords', u'unknown', u'GCMD', u'User', u'Support', u'Office', u'8294BEE08B11359FE040AC8C5AB460D1', 'NASA', 'GCMD', 'User', 'Support', 'Office', 'gcmduso@gcmd.gsfc.nasa.gov', 'GCMD', 'Feedback', 'Form', 'Have', 'Comment', 'for', 'the', 'GCMD?', 'information', u'information', 'custodian', u'custodian', u'GCMD', u'Valids', u'inapplicable', u'GCMD', u'Keyword', u'Page', 'GCMD', 'Keywords', 'Page', 'This', 'page', 'describes', 'the', 'NASA', 'GCMD', 'Keywords,', 'how', 'to', 'reference', 'those', 'keywords', 'provides', 'download', 'instructions.', 'information', u'information', 'custodian', u'custodian', 'South', 'Carolina', 'Goose', 'Creek', 'to', 'Red', 'Bank', 'Landing', 'Goose', 'Creek', 'to', 'Red', 'Bank', 'Landing', 'place', u'place', u'Getty', u'Thesaurus', u'Geographic', u'Names', 'Getty', 'Thesaurus', 'Geographic', 'Names', 'revision', u'revision', 'Getty', 'Research', 'Institute', 'Getty', 'Center', 'Drive,', 'Suite', 'Los', 'Angeles', 'California', '90049-1688', 'United', 'States', 'TGN@getty.edu', 'Getty', 'Thesaurus', 'Geographic', 'Names', 'Online', 'Page', 'This', 'page', 'provides', 'an', 'interface', 'to', 'search', 'the', 'Getty', 'Thesaurus', 'Geographic', 'Names.', 'information', u'information', 'custodian', u'custodian', u'NOAA', u'Disclaimer', 'While', 'every', 'effort', 'has', 'been', 'made', 'to', 'ensure', 'that', 'these', 'data', 'are', 'accurate', 'reliable', 'within', 'the', 'limits', 'the', 'current', 'state', 'the', 'art,', 'NOAA', 'cannot', 'assume', 'liability', 'for', 'any', 'damages', 'caused', 'by', 'any', 'errors', 'or', 'omissions', 'in', 'the', 'data,', 'nor', 'as', 'result', 'the', 'failure', 'the', 'data', 'to', 'function', 'particular', 'system.', 'NOAA', 'makes', 'no', 'warranty,', 'expressed', 'or', 'implied,', 'nor', 'does', 'the', 'fact', 'distribution', 'constitute', 'such', 'warranty.', u'Not', u'for', u'Navigation', 'Not', 'to', 'be', 'used', 'for', 'navigation.', 'Although', 'these', 'data', 'are', 'high', 'quality', 'useful', 'for', 'planning', 'modeling', 'purposes,', 'they', 'are', 'not', 'suitable', 'for', 'navigation.', 'For', 'navigation,', 'please', 'refer', 'to', 'the', 'NOS', 'nautical', 'chart', 'series.', u'Raw', u'Data', u'Disclaimer', 'These', 'data', 'are', 'considered', 'raw', 'have', 'not', 'been', 'subjected', 'to', 'the', \"NOAA's\", 'quality', 'control', 'or', 'quality', 'assurance', 'procedures.', 'They', 'are', 'released', 'for', 'limited', 'public', 'use', 'as', 'preliminary', 'data', 'to', 'be', 'used', 'only', 'with', 'appropriate', 'caution.', 'NOAA', 'cannot', 'assume', 'liability', 'for', 'any', 'damages', 'caused', 'by', 'any', 'errors', 'or', 'omissions', 'in', 'the', 'data,', 'nor', 'as', 'result', 'the', 'failure', 'the', 'data', 'to', 'function', 'particular', 'system.', 'NOAA', 'makes', 'no', 'warranty,', 'expressed', 'or', 'implied,', 'nor', 'does', 'the', 'fact', 'distribution', 'constitute', 'such', 'warranty.', 'grid', u'grid', 'eng;', 'USA', u'inapplicable', 'oceans', u'boundingExtent', 'Coastal,', 'navigationally', 'significant', 'waters', 'the', 'United', 'States', 'America,', 'U.S.', 'protectorates,', 'partner', 'sovereign', 'nations.', u'boundingGeographicBoundingBox', u'boundingTemporalExtent', u'tpl', u'boundingVerticalExtent', '-0.7', u'msl', u'depth', u'in', u'meters', u'onRequest', u'inapplicable', u'DOC/NOAA/NESDIS/NGDC', u'United', u'States', u'Department', u'Commerce', u'(DOC),', u'National', u'Oceanic', u'Atmospheric', u'Administration', u'(NOAA),', u'National', u'Environmental', u'Satellite,', u'Data,', u'Information', u'Service', u'(NESDIS),', u'National', u'Geophysical', u'Data', u'Center', u'(NGDC)', 'National', 'Ocean', 'Service', 'Hydrographic', 'Database', 'Manager', '(303)', '497-6390', '(303)', '497-6513', 'NOAA/NESDIS/NGDC/MGG', 'Broadway', 'E/GC3', 'Boulder', 'CO', '80305-3328', 'USA', 'Hydro.Info@noaa.gov', 'distributor', u'distributor', 'None', 'Download', 'XML', u'unknown', 'Structured', 'markup', 'metadata', 'document.', '100000', 'H10857.xml', 'Survey', 'metadata', 'record.', 'download', u'download', u'DOC/NOAA/NESDIS/NGDC', u'United', u'States', u'Department', u'Commerce', u'(DOC),', u'National', u'Oceanic', u'Atmospheric', u'Administration', u'(NOAA),', u'National', u'Environmental', u'Satellite,', u'Data,', u'Information', u'Service', u'(NESDIS),', u'National', u'Geophysical', u'Data', u'Center', u'(NGDC)', 'National', 'Ocean', 'Service', 'Hydrographic', 'Database', 'Manager', '(303)', '497-6390', '(303)', '497-6513', 'NOAA/NESDIS/NGDC/MGG', 'Broadway', 'E/GC3', 'Boulder', 'CO', '80305-3328', 'USA', 'Hydro.Info@noaa.gov', 'distributor', u'distributor', 'None', 'Download', 'project_sketches', u'unknown', 'Project', 'Sketch', 'in', 'JPEG', 'format', '1507989', 'OPR-G301-AHP-99(H10857).jpg', 'Project', 'Sketch', 'in', 'JPEG', 'format', 'download', u'download', u'DOC/NOAA/NESDIS/NGDC', u'United', u'States', u'Department', u'Commerce', u'(DOC),', u'National', u'Oceanic', u'Atmospheric', u'Administration', u'(NOAA),', u'National', u'Environmental', u'Satellite,', u'Data,', u'Information', u'Service', u'(NESDIS),', u'National', u'Geophysical', u'Data', u'Center', u'(NGDC)', 'National', 'Ocean', 'Service', 'Hydrographic', 'Database', 'Manager', '(303)', '497-6390', '(303)', '497-6513', 'NOAA/NESDIS/NGDC/MGG', 'Broadway', 'E/GC3', 'Boulder', 'CO', '80305-3328', 'USA', 'Hydro.Info@noaa.gov', 'distributor', u'distributor', 'None', 'Download', 'Tide_Note', u'unknown', 'NOAA/NOS', 'Tide', 'Note', 'in', 'PDF', 'format', '171451', 'H10857.tn.pdf', 'NOAA/NOS', 'Tide', 'Note', 'in', 'PDF', 'format', 'download', u'download', u'DOC/NOAA/NESDIS/NGDC', u'United', u'States', u'Department', u'Commerce', u'(DOC),', u'National', u'Oceanic', u'Atmospheric', u'Administration', u'(NOAA),', u'National', u'Environmental', u'Satellite,', u'Data,', u'Information', u'Service', u'(NESDIS),', u'National', u'Geophysical', u'Data', u'Center', u'(NGDC)', 'National', 'Ocean', 'Service', 'Hydrographic', 'Database', 'Manager', '(303)', '497-6390', '(303)', '497-6513', 'NOAA/NESDIS/NGDC/MGG', 'Broadway', 'E/GC3', 'Boulder', 'CO', '80305-3328', 'USA', 'Hydro.Info@noaa.gov', 'distributor', u'distributor', 'None', 'Download', 'SMOOTH_SHEET', u'unknown', 'NOAA/NOS', 'Smooth', 'Sheet', 'survey', 'image', '19821821', 'H10857.tif.gz', 'NOAA/NOS', 'Smooth', 'Sheet', 'survey', 'image', 'download', u'download', u'DOC/NOAA/NESDIS/NGDC', u'United', u'States', u'Department', u'Commerce', u'(DOC),', u'National', u'Oceanic', u'Atmospheric', u'Administration', u'(NOAA),', u'National', u'Environmental', u'Satellite,', u'Data,', u'Information', u'Service', u'(NESDIS),', u'National', u'Geophysical', u'Data', u'Center', u'(NGDC)', 'National', 'Ocean', 'Service', 'Hydrographic', 'Database', 'Manager', '(303)', '497-6390', '(303)', '497-6513', 'NOAA/NESDIS/NGDC/MGG', 'Broadway', 'E/GC3', 'Boulder', 'CO', '80305-3328', 'USA', 'Hydro.Info@noaa.gov', 'distributor', u'distributor', 'None', 'Download', 'SMOOTH_MRSID', u'unknown', 'NOAA/NOS', 'Smooth', 'Sheet', 'survey', 'image', 'in', 'MrSID', 'format', '18849850', 'H10857.sid.gz', 'NOAA/NOS', 'Smooth', 'Sheet', 'survey', 'image', 'in', 'MrSID', 'format', 'download', u'download', u'DOC/NOAA/NESDIS/NGDC', u'United', u'States', u'Department', u'Commerce', u'(DOC),', u'National', u'Oceanic', u'Atmospheric', u'Administration', u'(NOAA),', u'National', u'Environmental', u'Satellite,', u'Data,', u'Information', u'Service', u'(NESDIS),', u'National', u'Geophysical', u'Data', u'Center', u'(NGDC)', 'National', 'Ocean', 'Service', 'Hydrographic', 'Database', 'Manager', '(303)', '497-6390', '(303)', '497-6513', 'NOAA/NESDIS/NGDC/MGG', 'Broadway', 'E/GC3', 'Boulder', 'CO', '80305-3328', 'USA', 'Hydro.Info@noaa.gov', 'distributor', u'distributor', 'None', 'Download', 'GEODAS_H93', u'unknown', 'NOAA/NOS', 'HYD93', 'format', 'ASCII', 'header', 'metadata', '(see', '14141', 'H10857_h93.htm', 'NOAA/NOS', 'HYD93', 'format', 'ASCII', 'header', 'metadata', '(see', 'download', u'download', u'DOC/NOAA/NESDIS/NGDC', u'United', u'States', u'Department', u'Commerce', u'(DOC),', u'National', u'Oceanic', u'Atmospheric', u'Administration', u'(NOAA),', u'National', u'Environmental', u'Satellite,', u'Data,', u'Information', u'Service', u'(NESDIS),', u'National', u'Geophysical', u'Data', u'Center', u'(NGDC)', 'National', 'Ocean', 'Service', 'Hydrographic', 'Database', 'Manager', '(303)', '497-6390', '(303)', '497-6513', 'NOAA/NESDIS/NGDC/MGG', 'Broadway', 'E/GC3', 'Boulder', 'CO', '80305-3328', 'USA', 'Hydro.Info@noaa.gov', 'distributor', u'distributor', 'None', 'Download', 'GEODAS_XYZ', u'unknown', 'NOAA/NOS', 'ASCII', 'XYZ', 'sounding', 'data', '33307', 'H10857.xyz.gz', 'NOAA/NOS', 'ASCII', 'XYZ', 'sounding', 'data', 'download', u'download', u'DOC/NOAA/NESDIS/NGDC', u'United', u'States', u'Department', u'Commerce', u'(DOC),', u'National', u'Oceanic', u'Atmospheric', u'Administration', u'(NOAA),', u'National', u'Environmental', u'Satellite,', u'Data,', u'Information', u'Service', u'(NESDIS),', u'National', u'Geophysical', u'Data', u'Center', u'(NGDC)', 'National', 'Ocean', 'Service', 'Hydrographic', 'Database', 'Manager', '(303)', '497-6390', '(303)', '497-6513', 'NOAA/NESDIS/NGDC/MGG', 'Broadway', 'E/GC3', 'Boulder', 'CO', '80305-3328', 'USA', 'Hydro.Info@noaa.gov', 'distributor', u'distributor', 'None', 'Download', 'GEODAS_A93', u'unknown', 'NOAA/NOS', 'HYD93', 'format', 'ASCII', 'sounding', 'data', '(see', '34414', 'H10857.a93.gz', 'NOAA/NOS', 'HYD93', 'format', 'ASCII', 'sounding', 'data', '(see', 'download', u'download', u'DOC/NOAA/NESDIS/NGDC', u'United', u'States', u'Department', u'Commerce', u'(DOC),', u'National', u'Oceanic', u'Atmospheric', u'Administration', u'(NOAA),', u'National', u'Environmental', u'Satellite,', u'Data,', u'Information', u'Service', u'(NESDIS),', u'National', u'Geophysical', u'Data', u'Center', u'(NGDC)', 'National', 'Ocean', 'Service', 'Hydrographic', 'Database', 'Manager', '(303)', '497-6390', '(303)', '497-6513', 'NOAA/NESDIS/NGDC/MGG', 'Broadway', 'E/GC3', 'Boulder', 'CO', '80305-3328', 'USA', 'Hydro.Info@noaa.gov', 'distributor', u'distributor', 'None', 'Download', 'DR_PDF', u'unknown', 'NOAA/NOS', 'Descriptive', 'Report', 'in', 'PDF', 'format', '2603608', 'H10857.pdf', 'NOAA/NOS', 'Descriptive', 'Report', 'in', 'PDF', 'format', 'download', u'download', 'dataset', u'dataset', 'NOS', 'Survey', 'data', 'is', 'collect', 'by', 'surface', 'vessels', 'varying', 'characteristics.', 'The', 'three', 'primary', 'sources', 'survey', 'data', 'are', 'NOAA', 'survey', 'ships,', 'national', 'response', 'teams,', 'contract', 'vessels.', 'The', 'ships', 'collect', 'data,', 'conduct', 'basic', 'board', 'data', 'processing', 'then', 'send', 'these', 'data', 'to', 'NGDC', 'for', 'archival', '\"RAW\"', 'data.', 'After', 'archiving', 'the', 'RAW', 'data', 'NGDC', 'sends', 'the', 'data', 'to', 'the', 'processing', 'branches', '(Atlantic', 'or', 'Pacific)', 'for', 'further', 'processing.', 'The', 'processing', 'branches', 'complete', 'processing', 'these', 'data', 'generate', 'products.', 'The', 'processed', 'survey', 'data', 'is', 'sent', 'to', 'NGDC', 'for', 'archival', 'the', 'products', 'are', 'sent', 'to', 'the', 'Hydrographic', 'Surveys', 'Division', '(HSD)', 'for', 'approval.', 'Once', 'products', 'are', 'approved', 'by', 'HSD,', 'these', 'survey', 'products', 'are', 'sent', 'to', 'NGDC', 'for', 'archival', 'posting', 'on-line.', 'Tide', 'station:', 'General', 'Dynamics,', 'Cooper', 'River,', 'South', 'Carolina', 'ID:', '8664022', 'Temporary-30', 'Days-AHP2', 'Tide', 'epoch:', 'Status:', 'Subordinate', 'Notes:', 'Tide', 'station:', 'Army', 'Depot,', 'South', 'Carolina', 'ID:', '8664662', 'National', 'Water', 'Level', 'Observation', 'Network', '(NWLON)', 'Tide', 'epoch:', 'Status:', 'Primary', 'Notes:', 'Tide', 'station:', 'Charleston,', 'South', 'Carolina', 'ID:', '8665530', 'National', 'Water', 'Level', 'Observation', 'Network', '(NWLON)', 'Tide', 'epoch:', 'Status:', 'Primary', 'Notes:', 'USCG', 'Beacon', 'ID:', 'US', 'Coast', 'Guard', 'Beacon', 'US', 'Coast', 'Guard', 'Beacon', 'located', 'in:', 'Charleston,', 'South', 'Carolina', 'NOAA', 'SeaArk', 'Launch', u'unknown', u'unknown', 'completed', u'completed', 'NOS', 'Hydrographic', 'Survey', 'Descriptive', 'Report', 'creation', u'creation']\n"
     ]
    }
   ],
   "source": [
    "for f in files:\n",
    "    identity, response, url = _prep(f)\n",
    "    \n",
    "    parser = BagParser(response, True, True)\n",
    "    # todo: split on the forward slashes (keywords but only after chucking urls)\n",
    "    bag = [handle_whitespace(b[1]) for b in parser.strip_text()]\n",
    "\n",
    "    # flatten the response (we are tokenizing on the whitespace only)\n",
    "    bag = list(chain.from_iterable(bag))\n",
    "\n",
    "    # try to chuck the urls and urns\n",
    "    bag = remove_urls(bag)\n",
    "    bag = remove_urns(bag)\n",
    "    bag = remove_hashes(bag)\n",
    "    bag = remove_timestamps(bag)\n",
    "    \n",
    "    # let's go for removing phone numbers?\n",
    "    \n",
    "    # and postal codes\n",
    "\n",
    "    \n",
    "#     bag = ' '.join(bag)\n",
    "#     for sc in stopword_corpora:\n",
    "#         bag = remove_tokens(sc, bag)\n",
    "    \n",
    "#     bag = remove_numeric(bag)\n",
    "    \n",
    "#     bag = bag.split()\n",
    "    \n",
    "    print bag"
   ]
  },
  {
   "cell_type": "code",
   "execution_count": null,
   "metadata": {
    "collapsed": true
   },
   "outputs": [],
   "source": []
  },
  {
   "cell_type": "code",
   "execution_count": null,
   "metadata": {
    "collapsed": false
   },
   "outputs": [],
   "source": []
  },
  {
   "cell_type": "code",
   "execution_count": null,
   "metadata": {
    "collapsed": true
   },
   "outputs": [],
   "source": []
  },
  {
   "cell_type": "markdown",
   "metadata": {},
   "source": [
    "## THIS IS OUT-OF-DATE \n",
    "\n",
    "but hanging on to it for a bit."
   ]
  },
  {
   "cell_type": "code",
   "execution_count": 45,
   "metadata": {
    "collapsed": false
   },
   "outputs": [
    {
     "data": {
      "text/plain": [
       "[('../solr_superset/bags_of_words_no_dupes/0005001cd381e9613dc44fe6efafdf08_parsed_bow.txt',\n",
       "  178,\n",
       "  u'ISO-19115'),\n",
       " ('../solr_superset/bags_of_words_no_dupes/00164fc758489d7c671f939d6c533bad_parsed_bow.txt',\n",
       "  107,\n",
       "  u'ISO-19115'),\n",
       " ('../solr_superset/bags_of_words_no_dupes/001ef148783e50940d569316c6b6d608_parsed_bow.txt',\n",
       "  4,\n",
       "  u'UNIDATA'),\n",
       " ('../solr_superset/bags_of_words_no_dupes/003492e5f3a49d31f697200a7f427122_parsed_bow.txt',\n",
       "  182,\n",
       "  u'ISO-19115'),\n",
       " ('../solr_superset/bags_of_words_no_dupes/004749541a8acce4f454dd95f6b0c4c9_parsed_bow.txt',\n",
       "  3,\n",
       "  u'OpenSearch')]"
      ]
     },
     "execution_count": 45,
     "metadata": {},
     "output_type": "execute_result"
    }
   ],
   "source": [
    "import os\n",
    "import glob\n",
    "import json\n",
    "\n",
    "identified_bows = []\n",
    "\n",
    "for f in glob.glob('../solr_superset/bags_of_words_no_dupes/*.txt'):\n",
    "    with open(f, 'r') as g:\n",
    "        bow = g.read()\n",
    "    \n",
    "    c = len([b for b in bow.split() if b])\n",
    "    \n",
    "    basename = os.path.basename(f).split('_')[0]\n",
    "    \n",
    "    # go get the identified result and see what it is\n",
    "    ip = os.path.join('../solr_superset/identified/', basename + '_identified.json')\n",
    "    if not os.path.exists(ip):\n",
    "        print 'missing file: ', ip\n",
    "        continue\n",
    "    \n",
    "    with open(ip, 'r') as g:\n",
    "        data = json.loads(g.read())\n",
    "    \n",
    "    protocol = data.get('identity', {}).get('protocol', '')\n",
    "    \n",
    "    if not protocol:\n",
    "        print 'no identity: ', f\n",
    "        continue\n",
    "    \n",
    "    identified_bows.append((f, c, protocol))\n",
    "\n",
    "identified_bows[:5]\n"
   ]
  },
  {
   "cell_type": "code",
   "execution_count": null,
   "metadata": {
    "collapsed": true
   },
   "outputs": [],
   "source": [
    "# let's make some better bags of words\n"
   ]
  },
  {
   "cell_type": "code",
   "execution_count": 41,
   "metadata": {
    "collapsed": false
   },
   "outputs": [
    {
     "data": {
      "text/plain": [
       "{'mean': {u'ISO-19115': 105.63237979306147,\n",
       "  u'OAI-PMH': 3.2941176470588234,\n",
       "  u'OGC:CSW': 19.0,\n",
       "  u'OGC:SOS': 81.333333333333329,\n",
       "  u'OGC:WCS': 33.81818181818182,\n",
       "  u'OGC:WFS': 19.572815533980581,\n",
       "  u'OGC:WMS': 51.650406504065039,\n",
       "  u'OpenSearch': 10.553088803088803,\n",
       "  u'UNIDATA': 9.5384615384615383}}"
      ]
     },
     "execution_count": 41,
     "metadata": {},
     "output_type": "execute_result"
    },
    {
     "data": {
      "image/png": "[encoded data removed]",
      "text/plain": [
       "<matplotlib.figure.Figure at 0x107fa45d0>"
      ]
     },
     "metadata": {},
     "output_type": "display_data"
    }
   ],
   "source": [
    "import pandas as pd\n",
    "import numpy as np\n",
    "\n",
    "\n",
    "pd.set_option('precision',2)\n",
    "\n",
    "df = pd.DataFrame(identified_bows, columns=['file', 'count', 'protocol'])\n",
    "\n",
    "p_df = df.groupby(df['protocol'])\n",
    "#p_df.agg([np.mean])\n",
    "\n",
    "p_df = df.groupby(df['protocol']).agg({'count': {'mean':'mean'}})\n",
    "\n",
    "p_df.columns = p_df.columns.droplevel(0)\n",
    "\n",
    "df.groupby(df['protocol']).agg({'count': {'mean':'mean'}})['count'].hist()\n",
    "\n",
    "p_dt = p_df.to_dict()\n",
    "\n",
    "p_dt"
   ]
  },
  {
   "cell_type": "code",
   "execution_count": 40,
   "metadata": {
    "collapsed": false
   },
   "outputs": [
    {
     "data": {
      "text/html": [
       "<div style=\"max-height:1000px;max-width:1500px;overflow:auto;\">\n",
       "<table border=\"1\" class=\"dataframe\">\n",
       "  <thead>\n",
       "    <tr style=\"text-align: right;\">\n",
       "      <th></th>\n",
       "      <th>mean</th>\n",
       "    </tr>\n",
       "    <tr>\n",
       "      <th>protocol</th>\n",
       "      <th></th>\n",
       "    </tr>\n",
       "  </thead>\n",
       "  <tbody>\n",
       "    <tr>\n",
       "      <th>ISO-19115</th>\n",
       "      <td> 105.6</td>\n",
       "    </tr>\n",
       "    <tr>\n",
       "      <th>OAI-PMH</th>\n",
       "      <td>   3.3</td>\n",
       "    </tr>\n",
       "    <tr>\n",
       "      <th>OGC:CSW</th>\n",
       "      <td>  19.0</td>\n",
       "    </tr>\n",
       "    <tr>\n",
       "      <th>OGC:SOS</th>\n",
       "      <td>  81.3</td>\n",
       "    </tr>\n",
       "    <tr>\n",
       "      <th>OGC:WCS</th>\n",
       "      <td>  33.8</td>\n",
       "    </tr>\n",
       "    <tr>\n",
       "      <th>OGC:WFS</th>\n",
       "      <td>  19.6</td>\n",
       "    </tr>\n",
       "    <tr>\n",
       "      <th>OGC:WMS</th>\n",
       "      <td>  51.7</td>\n",
       "    </tr>\n",
       "    <tr>\n",
       "      <th>OpenSearch</th>\n",
       "      <td>  10.6</td>\n",
       "    </tr>\n",
       "    <tr>\n",
       "      <th>UNIDATA</th>\n",
       "      <td>   9.5</td>\n",
       "    </tr>\n",
       "  </tbody>\n",
       "</table>\n",
       "</div>"
      ],
      "text/plain": [
       "             mean\n",
       "protocol         \n",
       "ISO-19115   105.6\n",
       "OAI-PMH       3.3\n",
       "OGC:CSW      19.0\n",
       "OGC:SOS      81.3\n",
       "OGC:WCS      33.8\n",
       "OGC:WFS      19.6\n",
       "OGC:WMS      51.7\n",
       "OpenSearch   10.6\n",
       "UNIDATA       9.5"
      ]
     },
     "execution_count": 40,
     "metadata": {},
     "output_type": "execute_result"
    }
   ],
   "source": [
    "#new_df = p_df.agg([np.mean])\n",
    "new_df['count']\n"
   ]
  },
  {
   "cell_type": "code",
   "execution_count": 43,
   "metadata": {
    "collapsed": false
   },
   "outputs": [
    {
     "ename": "SyntaxError",
     "evalue": "invalid syntax (<ipython-input-43-169aae5eeb7b>, line 9)",
     "output_type": "error",
     "traceback": [
      "\u001b[0;36m  File \u001b[0;32m\"<ipython-input-43-169aae5eeb7b>\"\u001b[0;36m, line \u001b[0;32m9\u001b[0m\n\u001b[0;31m    xticks(xLocations+200/2, p_dt['mean'].keys())\u001b[0m\n\u001b[0m         ^\u001b[0m\n\u001b[0;31mSyntaxError\u001b[0m\u001b[0;31m:\u001b[0m invalid syntax\n"
     ]
    }
   ],
   "source": [
    "import matplotlib.pyplot as plt\n",
    "%matplotlib inline\n",
    "\n",
    "xlocations = np.array(range(len(p_dt['mean'].keys())))+0.5\n",
    "\n",
    "fig, ax = plt.subplots()\n",
    "\n",
    "ax.bar(xLocations, p_dt['mean'].values(0, width=200)\n",
    "xticks(xLocations+200/2, p_dt['mean'].keys())\n",
    "\n",
    "plt.show()"
   ]
  },
  {
   "cell_type": "code",
   "execution_count": null,
   "metadata": {
    "collapsed": true
   },
   "outputs": [],
   "source": []
  }
 ],
 "metadata": {
  "kernelspec": {
   "display_name": "Python 2",
   "language": "python",
   "name": "python2"
  },
  "language_info": {
   "codemirror_mode": {
    "name": "ipython",
    "version": 2
   },
   "file_extension": ".py",
   "mimetype": "text/x-python",
   "name": "python",
   "nbconvert_exporter": "python",
   "pygments_lexer": "ipython2",
   "version": "2.7.10"
  }
 },
 "nbformat": 4,
 "nbformat_minor": 0
}
