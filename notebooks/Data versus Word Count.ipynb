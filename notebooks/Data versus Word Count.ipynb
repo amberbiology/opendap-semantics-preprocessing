{
 "cells": [
  {
   "cell_type": "markdown",
   "metadata": {},
   "source": [
    "Let's do some word counting!\n",
    "\n",
    "From two sets of bags: one with duplicates removed (thredds) and one without. Note that there are still issues with parsers, with bag generation, with thredds.\n",
    "\n",
    "What we're doing:\n",
    "\n",
    "- ~~create a bag of words for each successfully parsed response (bag must have two or more words)~~\n",
    "- create a bag of words from the xml text()/attrib.values (raw xml no semantic understanding, etc)\n",
    "- map identity to data flag (is it a data service?)\n",
    "- let's do some eda - number of words per response type (which, thought i had done that?)\n",
    "- chart words per data v not data\n",
    "\n",
    "and, if that looks reasonable, let's make a linear regression - one parameter (word count) to predict boolean data v no data."
   ]
  },
  {
   "cell_type": "code",
   "execution_count": 45,
   "metadata": {
    "collapsed": false
   },
   "outputs": [
    {
     "data": {
      "text/plain": [
       "[('../solr_superset/bags_of_words_no_dupes/0005001cd381e9613dc44fe6efafdf08_parsed_bow.txt',\n",
       "  178,\n",
       "  u'ISO-19115'),\n",
       " ('../solr_superset/bags_of_words_no_dupes/00164fc758489d7c671f939d6c533bad_parsed_bow.txt',\n",
       "  107,\n",
       "  u'ISO-19115'),\n",
       " ('../solr_superset/bags_of_words_no_dupes/001ef148783e50940d569316c6b6d608_parsed_bow.txt',\n",
       "  4,\n",
       "  u'UNIDATA'),\n",
       " ('../solr_superset/bags_of_words_no_dupes/003492e5f3a49d31f697200a7f427122_parsed_bow.txt',\n",
       "  182,\n",
       "  u'ISO-19115'),\n",
       " ('../solr_superset/bags_of_words_no_dupes/004749541a8acce4f454dd95f6b0c4c9_parsed_bow.txt',\n",
       "  3,\n",
       "  u'OpenSearch')]"
      ]
     },
     "execution_count": 45,
     "metadata": {},
     "output_type": "execute_result"
    }
   ],
   "source": [
    "import os\n",
    "import glob\n",
    "import json\n",
    "\n",
    "identified_bows = []\n",
    "\n",
    "for f in glob.glob('../solr_superset/bags_of_words_no_dupes/*.txt'):\n",
    "    with open(f, 'r') as g:\n",
    "        bow = g.read()\n",
    "    \n",
    "    c = len([b for b in bow.split() if b])\n",
    "    \n",
    "    basename = os.path.basename(f).split('_')[0]\n",
    "    \n",
    "    # go get the identified result and see what it is\n",
    "    ip = os.path.join('../solr_superset/identified/', basename + '_identified.json')\n",
    "    if not os.path.exists(ip):\n",
    "        print 'missing file: ', ip\n",
    "        continue\n",
    "    \n",
    "    with open(ip, 'r') as g:\n",
    "        data = json.loads(g.read())\n",
    "    \n",
    "    protocol = data.get('identity', {}).get('protocol', '')\n",
    "    \n",
    "    if not protocol:\n",
    "        print 'no identity: ', f\n",
    "        continue\n",
    "    \n",
    "    identified_bows.append((f, c, protocol))\n",
    "\n",
    "identified_bows[:5]\n"
   ]
  },
  {
   "cell_type": "code",
   "execution_count": null,
   "metadata": {
    "collapsed": true
   },
   "outputs": [],
   "source": [
    "# let's make some better bags of words\n"
   ]
  },
  {
   "cell_type": "code",
   "execution_count": 41,
   "metadata": {
    "collapsed": false
   },
   "outputs": [
    {
     "data": {
      "text/plain": [
       "{'mean': {u'ISO-19115': 105.63237979306147,\n",
       "  u'OAI-PMH': 3.2941176470588234,\n",
       "  u'OGC:CSW': 19.0,\n",
       "  u'OGC:SOS': 81.333333333333329,\n",
       "  u'OGC:WCS': 33.81818181818182,\n",
       "  u'OGC:WFS': 19.572815533980581,\n",
       "  u'OGC:WMS': 51.650406504065039,\n",
       "  u'OpenSearch': 10.553088803088803,\n",
       "  u'UNIDATA': 9.5384615384615383}}"
      ]
     },
     "execution_count": 41,
     "metadata": {},
     "output_type": "execute_result"
    },
    {
     "data": {
      "image/png": "[encoded data removed]",
      "text/plain": [
       "<matplotlib.figure.Figure at 0x107fa45d0>"
      ]
     },
     "metadata": {},
     "output_type": "display_data"
    }
   ],
   "source": [
    "import pandas as pd\n",
    "import numpy as np\n",
    "\n",
    "\n",
    "pd.set_option('precision',2)\n",
    "\n",
    "df = pd.DataFrame(identified_bows, columns=['file', 'count', 'protocol'])\n",
    "\n",
    "p_df = df.groupby(df['protocol'])\n",
    "#p_df.agg([np.mean])\n",
    "\n",
    "p_df = df.groupby(df['protocol']).agg({'count': {'mean':'mean'}})\n",
    "\n",
    "p_df.columns = p_df.columns.droplevel(0)\n",
    "\n",
    "df.groupby(df['protocol']).agg({'count': {'mean':'mean'}})['count'].hist()\n",
    "\n",
    "p_dt = p_df.to_dict()\n",
    "\n",
    "p_dt"
   ]
  },
  {
   "cell_type": "code",
   "execution_count": 40,
   "metadata": {
    "collapsed": false
   },
   "outputs": [
    {
     "data": {
      "text/html": [
       "<div style=\"max-height:1000px;max-width:1500px;overflow:auto;\">\n",
       "<table border=\"1\" class=\"dataframe\">\n",
       "  <thead>\n",
       "    <tr style=\"text-align: right;\">\n",
       "      <th></th>\n",
       "      <th>mean</th>\n",
       "    </tr>\n",
       "    <tr>\n",
       "      <th>protocol</th>\n",
       "      <th></th>\n",
       "    </tr>\n",
       "  </thead>\n",
       "  <tbody>\n",
       "    <tr>\n",
       "      <th>ISO-19115</th>\n",
       "      <td> 105.6</td>\n",
       "    </tr>\n",
       "    <tr>\n",
       "      <th>OAI-PMH</th>\n",
       "      <td>   3.3</td>\n",
       "    </tr>\n",
       "    <tr>\n",
       "      <th>OGC:CSW</th>\n",
       "      <td>  19.0</td>\n",
       "    </tr>\n",
       "    <tr>\n",
       "      <th>OGC:SOS</th>\n",
       "      <td>  81.3</td>\n",
       "    </tr>\n",
       "    <tr>\n",
       "      <th>OGC:WCS</th>\n",
       "      <td>  33.8</td>\n",
       "    </tr>\n",
       "    <tr>\n",
       "      <th>OGC:WFS</th>\n",
       "      <td>  19.6</td>\n",
       "    </tr>\n",
       "    <tr>\n",
       "      <th>OGC:WMS</th>\n",
       "      <td>  51.7</td>\n",
       "    </tr>\n",
       "    <tr>\n",
       "      <th>OpenSearch</th>\n",
       "      <td>  10.6</td>\n",
       "    </tr>\n",
       "    <tr>\n",
       "      <th>UNIDATA</th>\n",
       "      <td>   9.5</td>\n",
       "    </tr>\n",
       "  </tbody>\n",
       "</table>\n",
       "</div>"
      ],
      "text/plain": [
       "             mean\n",
       "protocol         \n",
       "ISO-19115   105.6\n",
       "OAI-PMH       3.3\n",
       "OGC:CSW      19.0\n",
       "OGC:SOS      81.3\n",
       "OGC:WCS      33.8\n",
       "OGC:WFS      19.6\n",
       "OGC:WMS      51.7\n",
       "OpenSearch   10.6\n",
       "UNIDATA       9.5"
      ]
     },
     "execution_count": 40,
     "metadata": {},
     "output_type": "execute_result"
    }
   ],
   "source": [
    "#new_df = p_df.agg([np.mean])\n",
    "new_df['count']\n"
   ]
  },
  {
   "cell_type": "code",
   "execution_count": 43,
   "metadata": {
    "collapsed": false
   },
   "outputs": [
    {
     "ename": "SyntaxError",
     "evalue": "invalid syntax (<ipython-input-43-169aae5eeb7b>, line 9)",
     "output_type": "error",
     "traceback": [
      "\u001b[0;36m  File \u001b[0;32m\"<ipython-input-43-169aae5eeb7b>\"\u001b[0;36m, line \u001b[0;32m9\u001b[0m\n\u001b[0;31m    xticks(xLocations+200/2, p_dt['mean'].keys())\u001b[0m\n\u001b[0m         ^\u001b[0m\n\u001b[0;31mSyntaxError\u001b[0m\u001b[0;31m:\u001b[0m invalid syntax\n"
     ]
    }
   ],
   "source": [
    "import matplotlib.pyplot as plt\n",
    "%matplotlib inline\n",
    "\n",
    "xlocations = np.array(range(len(p_dt['mean'].keys())))+0.5\n",
    "\n",
    "fig, ax = plt.subplots()\n",
    "\n",
    "ax.bar(xLocations, p_dt['mean'].values(0, width=200)\n",
    "xticks(xLocations+200/2, p_dt['mean'].keys())\n",
    "\n",
    "plt.show()"
   ]
  },
  {
   "cell_type": "code",
   "execution_count": null,
   "metadata": {
    "collapsed": true
   },
   "outputs": [],
   "source": []
  }
 ],
 "metadata": {
  "kernelspec": {
   "display_name": "Python 2",
   "language": "python",
   "name": "python2"
  },
  "language_info": {
   "codemirror_mode": {
    "name": "ipython",
    "version": 2
   },
   "file_extension": ".py",
   "mimetype": "text/x-python",
   "name": "python",
   "nbconvert_exporter": "python",
   "pygments_lexer": "ipython2",
   "version": "2.7.9"
  }
 },
 "nbformat": 4,
 "nbformat_minor": 0
}
