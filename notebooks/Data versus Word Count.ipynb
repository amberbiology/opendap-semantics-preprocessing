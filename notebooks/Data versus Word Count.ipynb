{
 "cells": [
  {
   "cell_type": "markdown",
   "metadata": {},
   "source": [
    "Let's do some word counting!\n",
    "\n",
    "From two sets of bags: one with duplicates removed (thredds) and one without. Note that there are still issues with parsers, with bag generation, with thredds.\n",
    "\n",
    "What we're doing:\n",
    "\n",
    "- create a bag of words for each successfully parsed response (bag must have two or more words)\n",
    "- map identity to data flag (is it a data service?)\n",
    "- let's do some eda - number of words per response type (which, thought i had done that?)\n",
    "- chart words per data v not data\n",
    "\n",
    "and, if that looks reasonable, let's make a linear regression - one parameter (word count) to predict boolean data v no data."
   ]
  },
  {
   "cell_type": "code",
   "execution_count": null,
   "metadata": {
    "collapsed": true
   },
   "outputs": [],
   "source": [
    "import os\n",
    "import glob\n",
    "\n",
    "for f in glob.glob('../solr_superset/bags_of_words_no_dupes/*.txt'):\n",
    "    with open(f, 'r') as g:\n",
    "        bow = g.read()\n",
    "    \n",
    "    \n"
   ]
  }
 ],
 "metadata": {
  "kernelspec": {
   "display_name": "Python 2",
   "language": "python",
   "name": "python2"
  },
  "language_info": {
   "codemirror_mode": {
    "name": "ipython",
    "version": 2
   },
   "file_extension": ".py",
   "mimetype": "text/x-python",
   "name": "python",
   "nbconvert_exporter": "python",
   "pygments_lexer": "ipython2",
   "version": "2.7.9"
  }
 },
 "nbformat": 4,
 "nbformat_minor": 0
}
