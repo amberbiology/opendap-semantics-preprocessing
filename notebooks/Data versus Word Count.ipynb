{
 "cells": [
  {
   "cell_type": "markdown",
   "metadata": {},
   "source": [
    "Let's do some word counting!\n",
    "\n",
    "From two sets of bags: one with duplicates removed (thredds) and one without. Note that there are still issues with parsers, with bag generation, with thredds.\n",
    "\n",
    "What we're doing:\n",
    "\n",
    "- ~~create a bag of words for each successfully parsed response (bag must have two or more words)~~\n",
    "- create a bag of words from the xml text()/attrib.values (raw xml no semantic understanding, etc)\n",
    "- map identity to data flag (is it a data service?)\n",
    "- let's do some eda - number of words per response type (which, thought i had done that?)\n",
    "- chart words per data v not data\n",
    "\n",
    "and, if that looks reasonable, let's make a linear regression - one parameter (word count) to predict boolean data v no data.\n",
    "\n",
    "\n",
    "### ! NOTE: identification is ongoing !"
   ]
  },
  {
   "cell_type": "code",
   "execution_count": 1,
   "metadata": {
    "collapsed": false
   },
   "outputs": [],
   "source": [
    "%reload_ext autoreload\n",
    "%autoreload 2\n",
    "\n",
    "import os\n",
    "import json\n",
    "import glob\n",
    "import string\n",
    "from itertools import chain\n",
    "import dateutil.parser as dateparser\n",
    "from semproc.nlp_utils import *\n",
    "from semproc.bag_parser import BagParser"
   ]
  },
  {
   "cell_type": "code",
   "execution_count": 2,
   "metadata": {
    "collapsed": true
   },
   "outputs": [],
   "source": [
    "# some odds and ends\n",
    "\n",
    "def _prep(filepath):\n",
    "    # assume this is from the identified json \n",
    "    with open(filepath, 'r') as f:\n",
    "        data = json.loads(f.read())\n",
    "\n",
    "    response = data.get('content', '')\n",
    "    response = response.replace('\\\\\\n', '').replace('\\r\\n', '').replace('\\\\r', '').replace('\\\\n', '').replace('\\n', '')\n",
    "    response = response.decode('utf-8', errors='replace').encode('unicode_escape')\n",
    "    \n",
    "    identity = data.get('identity', [])\n",
    "    url = data.get('source_url', '')\n",
    "    \n",
    "    return identity, response, url"
   ]
  },
  {
   "cell_type": "code",
   "execution_count": 25,
   "metadata": {
    "collapsed": true
   },
   "outputs": [],
   "source": [
    "files = ['/Users/sscott/Documents/tmp/identified/0a87b35f00a9a9c4b6b884ddf7cb210e_identified.json']\n",
    "\n",
    "files = glob.glob('/Users/sscott/Documents/tmp/identified/*_identified.json')"
   ]
  },
  {
   "cell_type": "code",
   "execution_count": 14,
   "metadata": {
    "collapsed": true
   },
   "outputs": [],
   "source": [
    "# not using this - too specific\n",
    "exclude_tags = ['@schemaLocation', '@codeList']"
   ]
  },
  {
   "cell_type": "markdown",
   "metadata": {},
   "source": [
    "remove:\n",
    "\n",
    "- urls\n",
    "- dates\n",
    "- numbers\n",
    "- urns\n",
    "- emails\n",
    "- hashes (uuids, md5, sha if possible)\n",
    "\n",
    "\n",
    "My assumptions regarding the linear regression model:\n",
    "\n",
    "First, we have to make some guesses about what is or isn't a data response. This is before any true modeling or semantic inference so I am relying solely on the response type. Namely, that OGC services are data (spatial or time series data, at least), FGDC, ISO and DIF are likely to refer to data, OAI-PMH, OpenSearch, feeds (RSS or ATOM) are unclear (they could refer to data but that is the larger NLP question). I am going to lump CSW in these possible-but-not-known data services today."
   ]
  },
  {
   "cell_type": "code",
   "execution_count": 10,
   "metadata": {
    "collapsed": false
   },
   "outputs": [],
   "source": [
    "# some of the processing methods\n",
    "\n",
    "stopword_corpora = [\n",
    "    \"mimetypes.txt\",\n",
    "    \"namespaces.txt\"\n",
    "]\n",
    "\n",
    "# TODO: this is clearly unwarranted copypasta\n",
    "def remove_urls(text_as_list):\n",
    "    pttn = re.compile(ur\"((?:(?:https?|ftp|http)://)(?:\\S+(?::\\S*)?@)?(?:(?!(?:10|127)(?:.\\d{1,3}){3})(?!(?:169.254|192.168)(?:.\\d{1,3}){2})(?!172.(?:1[6-9]|2\\d|3[0-1])(?:.\\d{1,3}){2})(?:[1-9]\\d?|1\\d\\d|2[01]\\d|22[0-3])(?:.(?:1?\\d{1,2}|2[0-4]\\d|25[0-5])){2}(?:.(?:[1-9]\\d?|1\\d\\d|2[0-4]\\d|25[0-4]))|(?:(?:[a-z\\\\u00a1-\\\\uffff0-9]-*)*[a-z\\\\u00a1-\\\\uffff0-9]+)(?:.(?:[a-z\\\\u00a1-\\\\uffff0-9]-*)*[a-z\\\\u00a1-\\\\uffff0-9]+)*(?:.(?:[a-z\\\\u00a1-\\\\uffff]{2,})))(?::\\d{2,5})?(?:/\\S*)?)\", re.IGNORECASE)\n",
    "    new_text = []\n",
    "    for text in text_as_list:\n",
    "        if pttn.search(text) is None:\n",
    "            new_text.append(text)\n",
    "    return new_text\n",
    "\n",
    "def remove_urns(text_as_list):\n",
    "    pttn = re.compile(ur\"(?![http://])(?![https://])(?![ftp://])(([a-z0-9.\\S][a-z0-9-.\\S]{0,}\\S:{1,2}\\S)+[a-z0-9()+,\\-.=@;$_!*'%/?#]+)\", re.IGNORECASE)\n",
    "    new_text = []\n",
    "    for text in text_as_list:\n",
    "        if pttn.search(text) is None:\n",
    "            new_text.append(text)\n",
    "    return new_text\n",
    "\n",
    "def remove_hashes(text_as_list):\n",
    "    # uuids and md5s\n",
    "    pttns = [\n",
    "        re.compile(ur\"([a-f0-9]{32})\", re.IGNORECASE),\n",
    "        re.compile(ur'([a-f\\d]{8}(-[a-f\\d]{4}){3}-[a-f\\d]{12}?)', re.IGNORECASE)\n",
    "    ]\n",
    "    new_text = []\n",
    "    for text in text_as_list:\n",
    "        found = 0\n",
    "        for pttn in pttns:\n",
    "            if pttn.search(text) is not None:\n",
    "                found += 1\n",
    "        if not found:      \n",
    "            new_text.append(text)\n",
    "    return new_text\n",
    "\n",
    "def remove_timestamps(text_as_list):\n",
    "    new_text = []\n",
    "    for text in text_as_list:\n",
    "        try:\n",
    "            d = dateparser.parse(text)\n",
    "        except:\n",
    "            new_text.append(text)\n",
    "    return new_text\n",
    "\n",
    "def remove_emails(text_as_list):\n",
    "    pttn = re.compile(ur'(\\w+[.|\\w])*@(\\w+[.])*\\w+', re.IGNORECASE)\n",
    "    new_text = []\n",
    "    for text in text_as_list:\n",
    "        if pttn.search(text) is None:\n",
    "            new_text.append(text)\n",
    "    return new_text\n",
    "\n",
    "def remove_numberlike(text_as_list):\n",
    "    # remove anything that is just numbers or punctuation\n",
    "    # and in a dinky way. do not care.\n",
    "    new_text = []\n",
    "    for text in text_as_list:\n",
    "        try:\n",
    "            txt = str(text)\n",
    "            x = ''.join([t for t in txt if str.isdigit(t) or t in string.punctuation])\n",
    "            if len(x) != len(text):\n",
    "                new_text.append(text)\n",
    "        except:\n",
    "            # wow, we're just not caring right now\n",
    "            new_text.append(text)\n",
    "        \n",
    "    return new_text\n",
    "\n",
    "def remove_punctuation(text_as_list):\n",
    "    '''\n",
    "    remove any punctuation from the text (for\n",
    "        bag of words to be just words)\n",
    "    '''\n",
    "    simple_pattern = r'[;|>+:=.,()/?!\\[\\]{}]'\n",
    "    \n",
    "    new_text = []\n",
    "    for text in text_as_list:\n",
    "        text = re.sub(simple_pattern, ' ', text)\n",
    "        # catch the singleton hyphens\n",
    "        text = text.replace(' - ', ' ')\n",
    "        if text:\n",
    "            new_text.append(text)\n",
    "    return new_text\n",
    "    \n",
    "\n",
    "def handle_whitespace(text):\n",
    "    text = ' '.join(text.strip().split())\n",
    "    return text.split()\n",
    "\n",
    "def split_things(text_as_list):\n",
    "    simple_pattern = r'[/:.]'\n",
    "    new_text = [re.split(simple_pattern, text) for text in text_as_list]\n",
    "    new_text = list(chain.from_iterable(new_text))\n",
    "    return [text for text in new_text if text]"
   ]
  },
  {
   "cell_type": "code",
   "execution_count": 28,
   "metadata": {
    "collapsed": false,
    "scrolled": true
   },
   "outputs": [
    {
     "name": "stderr",
     "output_type": "stream",
     "text": [
      "//anaconda/lib/python2.7/site-packages/bs4/__init__.py:189: UserWarning: \"http://data.nodc.noaa.gov/coris/data/CoRIS/fgdc_schema_coris/fgdc-std-001-1998.xsd\" looks like a URL. Beautiful Soup is not an HTTP client. You should probably use an HTTP client to get the document behind the URL, and feed that document to Beautiful Soup.\n",
      "  '\"%s\" looks like a URL. Beautiful Soup is not an HTTP client. You should probably use an HTTP client to get the document behind the URL, and feed that document to Beautiful Soup.' % markup)\n",
      "//anaconda/lib/python2.7/site-packages/bs4/__init__.py:189: UserWarning: \"http://gisinfo.co.walworth.wi.us/arcgis/rest/services/1956Orthophotography/MapServer/WMTS/1.0.0/WMTSCapabilities.xml\" looks like a URL. Beautiful Soup is not an HTTP client. You should probably use an HTTP client to get the document behind the URL, and feed that document to Beautiful Soup.\n",
      "  '\"%s\" looks like a URL. Beautiful Soup is not an HTTP client. You should probably use an HTTP client to get the document behind the URL, and feed that document to Beautiful Soup.' % markup)\n",
      "//anaconda/lib/python2.7/site-packages/bs4/__init__.py:189: UserWarning: \"http://gisinfo.co.walworth.wi.us/arcgis/rest/services/1956Orthophotography/MapServer/WMTS?\" looks like a URL. Beautiful Soup is not an HTTP client. You should probably use an HTTP client to get the document behind the URL, and feed that document to Beautiful Soup.\n",
      "  '\"%s\" looks like a URL. Beautiful Soup is not an HTTP client. You should probably use an HTTP client to get the document behind the URL, and feed that document to Beautiful Soup.' % markup)\n",
      "//anaconda/lib/python2.7/site-packages/bs4/__init__.py:189: UserWarning: \"http://gisinfo.co.walworth.wi.us/arcgis/rest/services/1956Orthophotography/MapServer/WMTS/tile/1.0.0/\" looks like a URL. Beautiful Soup is not an HTTP client. You should probably use an HTTP client to get the document behind the URL, and feed that document to Beautiful Soup.\n",
      "  '\"%s\" looks like a URL. Beautiful Soup is not an HTTP client. You should probably use an HTTP client to get the document behind the URL, and feed that document to Beautiful Soup.' % markup)\n",
      "//anaconda/lib/python2.7/site-packages/bs4/__init__.py:189: UserWarning: \"http://gisinfo.co.walworth.wi.us/arcgis/rest/services/1956Orthophotography/MapServer/WMTS/tile/1.0.0/1956Orthophotography/{Style}/{TileMatrixSet}/{TileMatrix}/{TileRow}/{TileCol}.jpg\" looks like a URL. Beautiful Soup is not an HTTP client. You should probably use an HTTP client to get the document behind the URL, and feed that document to Beautiful Soup.\n",
      "  '\"%s\" looks like a URL. Beautiful Soup is not an HTTP client. You should probably use an HTTP client to get the document behind the URL, and feed that document to Beautiful Soup.' % markup)\n",
      "//anaconda/lib/python2.7/site-packages/bs4/__init__.py:189: UserWarning: \"http://fgdcxml.sourceforge.net/schema/fgdc-std-012-2002/fgdc-std-012-2002.xsd\" looks like a URL. Beautiful Soup is not an HTTP client. You should probably use an HTTP client to get the document behind the URL, and feed that document to Beautiful Soup.\n",
      "  '\"%s\" looks like a URL. Beautiful Soup is not an HTTP client. You should probably use an HTTP client to get the document behind the URL, and feed that document to Beautiful Soup.' % markup)\n",
      "//anaconda/lib/python2.7/site-packages/bs4/__init__.py:189: UserWarning: \"http://gispub.epa.gov/arcgis/services/r4/WatershedTable/MapServer/WmsServer?request=GetLegendGraphic%26version=1.3.0%26format=image/png%26layer=0\" looks like a URL. Beautiful Soup is not an HTTP client. You should probably use an HTTP client to get the document behind the URL, and feed that document to Beautiful Soup.\n",
      "  '\"%s\" looks like a URL. Beautiful Soup is not an HTTP client. You should probably use an HTTP client to get the document behind the URL, and feed that document to Beautiful Soup.' % markup)\n",
      "//anaconda/lib/python2.7/site-packages/bs4/__init__.py:189: UserWarning: \"http://ferret.pmel.noaa.gov/thredds/wcs/las/woa05_monthly/data_ferret.pmel.noaa.gov_thredds_dodsC_data_PMEL_WOA05nc_monthly_o0112mn1.nc.jnl\" looks like a URL. Beautiful Soup is not an HTTP client. You should probably use an HTTP client to get the document behind the URL, and feed that document to Beautiful Soup.\n",
      "  '\"%s\" looks like a URL. Beautiful Soup is not an HTTP client. You should probably use an HTTP client to get the document behind the URL, and feed that document to Beautiful Soup.' % markup)\n",
      "//anaconda/lib/python2.7/site-packages/bs4/__init__.py:189: UserWarning: \"http://www.fgdc.gov/metadata/fgdc-std-001-1998.xsd\" looks like a URL. Beautiful Soup is not an HTTP client. You should probably use an HTTP client to get the document behind the URL, and feed that document to Beautiful Soup.\n",
      "  '\"%s\" looks like a URL. Beautiful Soup is not an HTTP client. You should probably use an HTTP client to get the document behind the URL, and feed that document to Beautiful Soup.' % markup)\n",
      "//anaconda/lib/python2.7/site-packages/bs4/__init__.py:189: UserWarning: \"http://www.my.site/\" looks like a URL. Beautiful Soup is not an HTTP client. You should probably use an HTTP client to get the document behind the URL, and feed that document to Beautiful Soup.\n",
      "  '\"%s\" looks like a URL. Beautiful Soup is not an HTTP client. You should probably use an HTTP client to get the document behind the URL, and feed that document to Beautiful Soup.' % markup)\n",
      "//anaconda/lib/python2.7/site-packages/bs4/__init__.py:189: UserWarning: \"http://osmc.noaa.gov/thredds/wms/osmc_valid_obs_ship\" looks like a URL. Beautiful Soup is not an HTTP client. You should probably use an HTTP client to get the document behind the URL, and feed that document to Beautiful Soup.\n",
      "  '\"%s\" looks like a URL. Beautiful Soup is not an HTTP client. You should probably use an HTTP client to get the document behind the URL, and feed that document to Beautiful Soup.' % markup)\n",
      "//anaconda/lib/python2.7/site-packages/bs4/__init__.py:189: UserWarning: \"http://osmc.noaa.gov/thredds/wms/osmc_valid_obs_ship?REQUEST=GetLegendGraphic&LAYER=SST_OBS&PALETTE=redblue\" looks like a URL. Beautiful Soup is not an HTTP client. You should probably use an HTTP client to get the document behind the URL, and feed that document to Beautiful Soup.\n",
      "  '\"%s\" looks like a URL. Beautiful Soup is not an HTTP client. You should probably use an HTTP client to get the document behind the URL, and feed that document to Beautiful Soup.' % markup)\n",
      "//anaconda/lib/python2.7/site-packages/bs4/__init__.py:189: UserWarning: \"http://osmc.noaa.gov/thredds/wms/osmc_valid_obs_ship?REQUEST=GetLegendGraphic&LAYER=SST_OBS&PALETTE=alg\" looks like a URL. Beautiful Soup is not an HTTP client. You should probably use an HTTP client to get the document behind the URL, and feed that document to Beautiful Soup.\n",
      "  '\"%s\" looks like a URL. Beautiful Soup is not an HTTP client. You should probably use an HTTP client to get the document behind the URL, and feed that document to Beautiful Soup.' % markup)\n",
      "//anaconda/lib/python2.7/site-packages/bs4/__init__.py:189: UserWarning: \"http://osmc.noaa.gov/thredds/wms/osmc_valid_obs_ship?REQUEST=GetLegendGraphic&LAYER=SST_OBS&PALETTE=ncview\" looks like a URL. Beautiful Soup is not an HTTP client. You should probably use an HTTP client to get the document behind the URL, and feed that document to Beautiful Soup.\n",
      "  '\"%s\" looks like a URL. Beautiful Soup is not an HTTP client. You should probably use an HTTP client to get the document behind the URL, and feed that document to Beautiful Soup.' % markup)\n",
      "//anaconda/lib/python2.7/site-packages/bs4/__init__.py:189: UserWarning: \"http://osmc.noaa.gov/thredds/wms/osmc_valid_obs_ship?REQUEST=GetLegendGraphic&LAYER=SST_OBS&PALETTE=greyscale\" looks like a URL. Beautiful Soup is not an HTTP client. You should probably use an HTTP client to get the document behind the URL, and feed that document to Beautiful Soup.\n",
      "  '\"%s\" looks like a URL. Beautiful Soup is not an HTTP client. You should probably use an HTTP client to get the document behind the URL, and feed that document to Beautiful Soup.' % markup)\n",
      "//anaconda/lib/python2.7/site-packages/bs4/__init__.py:189: UserWarning: \"http://osmc.noaa.gov/thredds/wms/osmc_valid_obs_ship?REQUEST=GetLegendGraphic&LAYER=SST_OBS&PALETTE=alg2\" looks like a URL. Beautiful Soup is not an HTTP client. You should probably use an HTTP client to get the document behind the URL, and feed that document to Beautiful Soup.\n",
      "  '\"%s\" looks like a URL. Beautiful Soup is not an HTTP client. You should probably use an HTTP client to get the document behind the URL, and feed that document to Beautiful Soup.' % markup)\n",
      "//anaconda/lib/python2.7/site-packages/bs4/__init__.py:189: UserWarning: \"http://osmc.noaa.gov/thredds/wms/osmc_valid_obs_ship?REQUEST=GetLegendGraphic&LAYER=SST_OBS&PALETTE=occam\" looks like a URL. Beautiful Soup is not an HTTP client. You should probably use an HTTP client to get the document behind the URL, and feed that document to Beautiful Soup.\n",
      "  '\"%s\" looks like a URL. Beautiful Soup is not an HTTP client. You should probably use an HTTP client to get the document behind the URL, and feed that document to Beautiful Soup.' % markup)\n",
      "//anaconda/lib/python2.7/site-packages/bs4/__init__.py:189: UserWarning: \"http://osmc.noaa.gov/thredds/wms/osmc_valid_obs_ship?REQUEST=GetLegendGraphic&LAYER=SST_OBS&PALETTE=rainbow\" looks like a URL. Beautiful Soup is not an HTTP client. You should probably use an HTTP client to get the document behind the URL, and feed that document to Beautiful Soup.\n",
      "  '\"%s\" looks like a URL. Beautiful Soup is not an HTTP client. You should probably use an HTTP client to get the document behind the URL, and feed that document to Beautiful Soup.' % markup)\n",
      "//anaconda/lib/python2.7/site-packages/bs4/__init__.py:189: UserWarning: \"http://osmc.noaa.gov/thredds/wms/osmc_valid_obs_ship?REQUEST=GetLegendGraphic&LAYER=SST_OBS&PALETTE=sst_36\" looks like a URL. Beautiful Soup is not an HTTP client. You should probably use an HTTP client to get the document behind the URL, and feed that document to Beautiful Soup.\n",
      "  '\"%s\" looks like a URL. Beautiful Soup is not an HTTP client. You should probably use an HTTP client to get the document behind the URL, and feed that document to Beautiful Soup.' % markup)\n",
      "//anaconda/lib/python2.7/site-packages/bs4/__init__.py:189: UserWarning: \"http://osmc.noaa.gov/thredds/wms/osmc_valid_obs_ship?REQUEST=GetLegendGraphic&LAYER=SST_OBS&PALETTE=ferret\" looks like a URL. Beautiful Soup is not an HTTP client. You should probably use an HTTP client to get the document behind the URL, and feed that document to Beautiful Soup.\n",
      "  '\"%s\" looks like a URL. Beautiful Soup is not an HTTP client. You should probably use an HTTP client to get the document behind the URL, and feed that document to Beautiful Soup.' % markup)\n",
      "//anaconda/lib/python2.7/site-packages/bs4/__init__.py:189: UserWarning: \"http://osmc.noaa.gov/thredds/wms/osmc_valid_obs_ship?REQUEST=GetLegendGraphic&LAYER=SST_OBS&PALETTE=occam_pastel-30\" looks like a URL. Beautiful Soup is not an HTTP client. You should probably use an HTTP client to get the document behind the URL, and feed that document to Beautiful Soup.\n",
      "  '\"%s\" looks like a URL. Beautiful Soup is not an HTTP client. You should probably use an HTTP client to get the document behind the URL, and feed that document to Beautiful Soup.' % markup)\n",
      "//anaconda/lib/python2.7/site-packages/bs4/__init__.py:189: UserWarning: \"http://osmc.noaa.gov/thredds/wms/osmc_valid_obs_ship?REQUEST=GetLegendGraphic&LAYER=SLP_OBS&PALETTE=redblue\" looks like a URL. Beautiful Soup is not an HTTP client. You should probably use an HTTP client to get the document behind the URL, and feed that document to Beautiful Soup.\n",
      "  '\"%s\" looks like a URL. Beautiful Soup is not an HTTP client. You should probably use an HTTP client to get the document behind the URL, and feed that document to Beautiful Soup.' % markup)\n",
      "//anaconda/lib/python2.7/site-packages/bs4/__init__.py:189: UserWarning: \"http://osmc.noaa.gov/thredds/wms/osmc_valid_obs_ship?REQUEST=GetLegendGraphic&LAYER=SLP_OBS&PALETTE=alg\" looks like a URL. Beautiful Soup is not an HTTP client. You should probably use an HTTP client to get the document behind the URL, and feed that document to Beautiful Soup.\n",
      "  '\"%s\" looks like a URL. Beautiful Soup is not an HTTP client. You should probably use an HTTP client to get the document behind the URL, and feed that document to Beautiful Soup.' % markup)\n",
      "//anaconda/lib/python2.7/site-packages/bs4/__init__.py:189: UserWarning: \"http://osmc.noaa.gov/thredds/wms/osmc_valid_obs_ship?REQUEST=GetLegendGraphic&LAYER=SLP_OBS&PALETTE=ncview\" looks like a URL. Beautiful Soup is not an HTTP client. You should probably use an HTTP client to get the document behind the URL, and feed that document to Beautiful Soup.\n",
      "  '\"%s\" looks like a URL. Beautiful Soup is not an HTTP client. You should probably use an HTTP client to get the document behind the URL, and feed that document to Beautiful Soup.' % markup)\n",
      "//anaconda/lib/python2.7/site-packages/bs4/__init__.py:189: UserWarning: \"http://osmc.noaa.gov/thredds/wms/osmc_valid_obs_ship?REQUEST=GetLegendGraphic&LAYER=SLP_OBS&PALETTE=greyscale\" looks like a URL. Beautiful Soup is not an HTTP client. You should probably use an HTTP client to get the document behind the URL, and feed that document to Beautiful Soup.\n",
      "  '\"%s\" looks like a URL. Beautiful Soup is not an HTTP client. You should probably use an HTTP client to get the document behind the URL, and feed that document to Beautiful Soup.' % markup)\n",
      "//anaconda/lib/python2.7/site-packages/bs4/__init__.py:189: UserWarning: \"http://osmc.noaa.gov/thredds/wms/osmc_valid_obs_ship?REQUEST=GetLegendGraphic&LAYER=SLP_OBS&PALETTE=alg2\" looks like a URL. Beautiful Soup is not an HTTP client. You should probably use an HTTP client to get the document behind the URL, and feed that document to Beautiful Soup.\n",
      "  '\"%s\" looks like a URL. Beautiful Soup is not an HTTP client. You should probably use an HTTP client to get the document behind the URL, and feed that document to Beautiful Soup.' % markup)\n",
      "//anaconda/lib/python2.7/site-packages/bs4/__init__.py:189: UserWarning: \"http://osmc.noaa.gov/thredds/wms/osmc_valid_obs_ship?REQUEST=GetLegendGraphic&LAYER=SLP_OBS&PALETTE=occam\" looks like a URL. Beautiful Soup is not an HTTP client. You should probably use an HTTP client to get the document behind the URL, and feed that document to Beautiful Soup.\n",
      "  '\"%s\" looks like a URL. Beautiful Soup is not an HTTP client. You should probably use an HTTP client to get the document behind the URL, and feed that document to Beautiful Soup.' % markup)\n",
      "//anaconda/lib/python2.7/site-packages/bs4/__init__.py:189: UserWarning: \"http://osmc.noaa.gov/thredds/wms/osmc_valid_obs_ship?REQUEST=GetLegendGraphic&LAYER=SLP_OBS&PALETTE=rainbow\" looks like a URL. Beautiful Soup is not an HTTP client. You should probably use an HTTP client to get the document behind the URL, and feed that document to Beautiful Soup.\n",
      "  '\"%s\" looks like a URL. Beautiful Soup is not an HTTP client. You should probably use an HTTP client to get the document behind the URL, and feed that document to Beautiful Soup.' % markup)\n",
      "//anaconda/lib/python2.7/site-packages/bs4/__init__.py:189: UserWarning: \"http://osmc.noaa.gov/thredds/wms/osmc_valid_obs_ship?REQUEST=GetLegendGraphic&LAYER=SLP_OBS&PALETTE=sst_36\" looks like a URL. Beautiful Soup is not an HTTP client. You should probably use an HTTP client to get the document behind the URL, and feed that document to Beautiful Soup.\n",
      "  '\"%s\" looks like a URL. Beautiful Soup is not an HTTP client. You should probably use an HTTP client to get the document behind the URL, and feed that document to Beautiful Soup.' % markup)\n",
      "//anaconda/lib/python2.7/site-packages/bs4/__init__.py:189: UserWarning: \"http://osmc.noaa.gov/thredds/wms/osmc_valid_obs_ship?REQUEST=GetLegendGraphic&LAYER=SLP_OBS&PALETTE=ferret\" looks like a URL. Beautiful Soup is not an HTTP client. You should probably use an HTTP client to get the document behind the URL, and feed that document to Beautiful Soup.\n",
      "  '\"%s\" looks like a URL. Beautiful Soup is not an HTTP client. You should probably use an HTTP client to get the document behind the URL, and feed that document to Beautiful Soup.' % markup)\n",
      "//anaconda/lib/python2.7/site-packages/bs4/__init__.py:189: UserWarning: \"http://osmc.noaa.gov/thredds/wms/osmc_valid_obs_ship?REQUEST=GetLegendGraphic&LAYER=SLP_OBS&PALETTE=occam_pastel-30\" looks like a URL. Beautiful Soup is not an HTTP client. You should probably use an HTTP client to get the document behind the URL, and feed that document to Beautiful Soup.\n",
      "  '\"%s\" looks like a URL. Beautiful Soup is not an HTTP client. You should probably use an HTTP client to get the document behind the URL, and feed that document to Beautiful Soup.' % markup)\n",
      "//anaconda/lib/python2.7/site-packages/bs4/__init__.py:189: UserWarning: \"http://osmc.noaa.gov/thredds/wms/osmc_valid_obs_ship?REQUEST=GetLegendGraphic&LAYER=CLOUD_OBS&PALETTE=redblue\" looks like a URL. Beautiful Soup is not an HTTP client. You should probably use an HTTP client to get the document behind the URL, and feed that document to Beautiful Soup.\n",
      "  '\"%s\" looks like a URL. Beautiful Soup is not an HTTP client. You should probably use an HTTP client to get the document behind the URL, and feed that document to Beautiful Soup.' % markup)\n",
      "//anaconda/lib/python2.7/site-packages/bs4/__init__.py:189: UserWarning: \"http://osmc.noaa.gov/thredds/wms/osmc_valid_obs_ship?REQUEST=GetLegendGraphic&LAYER=CLOUD_OBS&PALETTE=alg\" looks like a URL. Beautiful Soup is not an HTTP client. You should probably use an HTTP client to get the document behind the URL, and feed that document to Beautiful Soup.\n",
      "  '\"%s\" looks like a URL. Beautiful Soup is not an HTTP client. You should probably use an HTTP client to get the document behind the URL, and feed that document to Beautiful Soup.' % markup)\n",
      "//anaconda/lib/python2.7/site-packages/bs4/__init__.py:189: UserWarning: \"http://osmc.noaa.gov/thredds/wms/osmc_valid_obs_ship?REQUEST=GetLegendGraphic&LAYER=CLOUD_OBS&PALETTE=ncview\" looks like a URL. Beautiful Soup is not an HTTP client. You should probably use an HTTP client to get the document behind the URL, and feed that document to Beautiful Soup.\n",
      "  '\"%s\" looks like a URL. Beautiful Soup is not an HTTP client. You should probably use an HTTP client to get the document behind the URL, and feed that document to Beautiful Soup.' % markup)\n",
      "//anaconda/lib/python2.7/site-packages/bs4/__init__.py:189: UserWarning: \"http://osmc.noaa.gov/thredds/wms/osmc_valid_obs_ship?REQUEST=GetLegendGraphic&LAYER=CLOUD_OBS&PALETTE=greyscale\" looks like a URL. Beautiful Soup is not an HTTP client. You should probably use an HTTP client to get the document behind the URL, and feed that document to Beautiful Soup.\n",
      "  '\"%s\" looks like a URL. Beautiful Soup is not an HTTP client. You should probably use an HTTP client to get the document behind the URL, and feed that document to Beautiful Soup.' % markup)\n",
      "//anaconda/lib/python2.7/site-packages/bs4/__init__.py:189: UserWarning: \"http://osmc.noaa.gov/thredds/wms/osmc_valid_obs_ship?REQUEST=GetLegendGraphic&LAYER=CLOUD_OBS&PALETTE=alg2\" looks like a URL. Beautiful Soup is not an HTTP client. You should probably use an HTTP client to get the document behind the URL, and feed that document to Beautiful Soup.\n",
      "  '\"%s\" looks like a URL. Beautiful Soup is not an HTTP client. You should probably use an HTTP client to get the document behind the URL, and feed that document to Beautiful Soup.' % markup)\n",
      "//anaconda/lib/python2.7/site-packages/bs4/__init__.py:189: UserWarning: \"http://osmc.noaa.gov/thredds/wms/osmc_valid_obs_ship?REQUEST=GetLegendGraphic&LAYER=CLOUD_OBS&PALETTE=occam\" looks like a URL. Beautiful Soup is not an HTTP client. You should probably use an HTTP client to get the document behind the URL, and feed that document to Beautiful Soup.\n",
      "  '\"%s\" looks like a URL. Beautiful Soup is not an HTTP client. You should probably use an HTTP client to get the document behind the URL, and feed that document to Beautiful Soup.' % markup)\n",
      "//anaconda/lib/python2.7/site-packages/bs4/__init__.py:189: UserWarning: \"http://osmc.noaa.gov/thredds/wms/osmc_valid_obs_ship?REQUEST=GetLegendGraphic&LAYER=CLOUD_OBS&PALETTE=rainbow\" looks like a URL. Beautiful Soup is not an HTTP client. You should probably use an HTTP client to get the document behind the URL, and feed that document to Beautiful Soup.\n",
      "  '\"%s\" looks like a URL. Beautiful Soup is not an HTTP client. You should probably use an HTTP client to get the document behind the URL, and feed that document to Beautiful Soup.' % markup)\n",
      "//anaconda/lib/python2.7/site-packages/bs4/__init__.py:189: UserWarning: \"http://osmc.noaa.gov/thredds/wms/osmc_valid_obs_ship?REQUEST=GetLegendGraphic&LAYER=CLOUD_OBS&PALETTE=sst_36\" looks like a URL. Beautiful Soup is not an HTTP client. You should probably use an HTTP client to get the document behind the URL, and feed that document to Beautiful Soup.\n",
      "  '\"%s\" looks like a URL. Beautiful Soup is not an HTTP client. You should probably use an HTTP client to get the document behind the URL, and feed that document to Beautiful Soup.' % markup)\n",
      "//anaconda/lib/python2.7/site-packages/bs4/__init__.py:189: UserWarning: \"http://osmc.noaa.gov/thredds/wms/osmc_valid_obs_ship?REQUEST=GetLegendGraphic&LAYER=CLOUD_OBS&PALETTE=ferret\" looks like a URL. Beautiful Soup is not an HTTP client. You should probably use an HTTP client to get the document behind the URL, and feed that document to Beautiful Soup.\n",
      "  '\"%s\" looks like a URL. Beautiful Soup is not an HTTP client. You should probably use an HTTP client to get the document behind the URL, and feed that document to Beautiful Soup.' % markup)\n",
      "//anaconda/lib/python2.7/site-packages/bs4/__init__.py:189: UserWarning: \"http://osmc.noaa.gov/thredds/wms/osmc_valid_obs_ship?REQUEST=GetLegendGraphic&LAYER=CLOUD_OBS&PALETTE=occam_pastel-30\" looks like a URL. Beautiful Soup is not an HTTP client. You should probably use an HTTP client to get the document behind the URL, and feed that document to Beautiful Soup.\n",
      "  '\"%s\" looks like a URL. Beautiful Soup is not an HTTP client. You should probably use an HTTP client to get the document behind the URL, and feed that document to Beautiful Soup.' % markup)\n",
      "//anaconda/lib/python2.7/site-packages/bs4/__init__.py:189: UserWarning: \"http://osmc.noaa.gov/thredds/wms/osmc_valid_obs_ship?REQUEST=GetLegendGraphic&LAYER=DEWPT_OBS&PALETTE=redblue\" looks like a URL. Beautiful Soup is not an HTTP client. You should probably use an HTTP client to get the document behind the URL, and feed that document to Beautiful Soup.\n",
      "  '\"%s\" looks like a URL. Beautiful Soup is not an HTTP client. You should probably use an HTTP client to get the document behind the URL, and feed that document to Beautiful Soup.' % markup)\n",
      "//anaconda/lib/python2.7/site-packages/bs4/__init__.py:189: UserWarning: \"http://osmc.noaa.gov/thredds/wms/osmc_valid_obs_ship?REQUEST=GetLegendGraphic&LAYER=DEWPT_OBS&PALETTE=alg\" looks like a URL. Beautiful Soup is not an HTTP client. You should probably use an HTTP client to get the document behind the URL, and feed that document to Beautiful Soup.\n",
      "  '\"%s\" looks like a URL. Beautiful Soup is not an HTTP client. You should probably use an HTTP client to get the document behind the URL, and feed that document to Beautiful Soup.' % markup)\n",
      "//anaconda/lib/python2.7/site-packages/bs4/__init__.py:189: UserWarning: \"http://osmc.noaa.gov/thredds/wms/osmc_valid_obs_ship?REQUEST=GetLegendGraphic&LAYER=DEWPT_OBS&PALETTE=ncview\" looks like a URL. Beautiful Soup is not an HTTP client. You should probably use an HTTP client to get the document behind the URL, and feed that document to Beautiful Soup.\n",
      "  '\"%s\" looks like a URL. Beautiful Soup is not an HTTP client. You should probably use an HTTP client to get the document behind the URL, and feed that document to Beautiful Soup.' % markup)\n",
      "//anaconda/lib/python2.7/site-packages/bs4/__init__.py:189: UserWarning: \"http://osmc.noaa.gov/thredds/wms/osmc_valid_obs_ship?REQUEST=GetLegendGraphic&LAYER=DEWPT_OBS&PALETTE=greyscale\" looks like a URL. Beautiful Soup is not an HTTP client. You should probably use an HTTP client to get the document behind the URL, and feed that document to Beautiful Soup.\n",
      "  '\"%s\" looks like a URL. Beautiful Soup is not an HTTP client. You should probably use an HTTP client to get the document behind the URL, and feed that document to Beautiful Soup.' % markup)\n",
      "//anaconda/lib/python2.7/site-packages/bs4/__init__.py:189: UserWarning: \"http://osmc.noaa.gov/thredds/wms/osmc_valid_obs_ship?REQUEST=GetLegendGraphic&LAYER=DEWPT_OBS&PALETTE=alg2\" looks like a URL. Beautiful Soup is not an HTTP client. You should probably use an HTTP client to get the document behind the URL, and feed that document to Beautiful Soup.\n",
      "  '\"%s\" looks like a URL. Beautiful Soup is not an HTTP client. You should probably use an HTTP client to get the document behind the URL, and feed that document to Beautiful Soup.' % markup)\n",
      "//anaconda/lib/python2.7/site-packages/bs4/__init__.py:189: UserWarning: \"http://osmc.noaa.gov/thredds/wms/osmc_valid_obs_ship?REQUEST=GetLegendGraphic&LAYER=DEWPT_OBS&PALETTE=occam\" looks like a URL. Beautiful Soup is not an HTTP client. You should probably use an HTTP client to get the document behind the URL, and feed that document to Beautiful Soup.\n",
      "  '\"%s\" looks like a URL. Beautiful Soup is not an HTTP client. You should probably use an HTTP client to get the document behind the URL, and feed that document to Beautiful Soup.' % markup)\n",
      "//anaconda/lib/python2.7/site-packages/bs4/__init__.py:189: UserWarning: \"http://osmc.noaa.gov/thredds/wms/osmc_valid_obs_ship?REQUEST=GetLegendGraphic&LAYER=DEWPT_OBS&PALETTE=rainbow\" looks like a URL. Beautiful Soup is not an HTTP client. You should probably use an HTTP client to get the document behind the URL, and feed that document to Beautiful Soup.\n",
      "  '\"%s\" looks like a URL. Beautiful Soup is not an HTTP client. You should probably use an HTTP client to get the document behind the URL, and feed that document to Beautiful Soup.' % markup)\n",
      "//anaconda/lib/python2.7/site-packages/bs4/__init__.py:189: UserWarning: \"http://osmc.noaa.gov/thredds/wms/osmc_valid_obs_ship?REQUEST=GetLegendGraphic&LAYER=DEWPT_OBS&PALETTE=sst_36\" looks like a URL. Beautiful Soup is not an HTTP client. You should probably use an HTTP client to get the document behind the URL, and feed that document to Beautiful Soup.\n",
      "  '\"%s\" looks like a URL. Beautiful Soup is not an HTTP client. You should probably use an HTTP client to get the document behind the URL, and feed that document to Beautiful Soup.' % markup)\n",
      "//anaconda/lib/python2.7/site-packages/bs4/__init__.py:189: UserWarning: \"http://osmc.noaa.gov/thredds/wms/osmc_valid_obs_ship?REQUEST=GetLegendGraphic&LAYER=DEWPT_OBS&PALETTE=ferret\" looks like a URL. Beautiful Soup is not an HTTP client. You should probably use an HTTP client to get the document behind the URL, and feed that document to Beautiful Soup.\n",
      "  '\"%s\" looks like a URL. Beautiful Soup is not an HTTP client. You should probably use an HTTP client to get the document behind the URL, and feed that document to Beautiful Soup.' % markup)\n",
      "//anaconda/lib/python2.7/site-packages/bs4/__init__.py:189: UserWarning: \"http://osmc.noaa.gov/thredds/wms/osmc_valid_obs_ship?REQUEST=GetLegendGraphic&LAYER=DEWPT_OBS&PALETTE=occam_pastel-30\" looks like a URL. Beautiful Soup is not an HTTP client. You should probably use an HTTP client to get the document behind the URL, and feed that document to Beautiful Soup.\n",
      "  '\"%s\" looks like a URL. Beautiful Soup is not an HTTP client. You should probably use an HTTP client to get the document behind the URL, and feed that document to Beautiful Soup.' % markup)\n",
      "//anaconda/lib/python2.7/site-packages/bs4/__init__.py:189: UserWarning: \"http://osmc.noaa.gov/thredds/wms/osmc_valid_obs_ship?REQUEST=GetLegendGraphic&LAYER=WIND_OBS&PALETTE=redblue\" looks like a URL. Beautiful Soup is not an HTTP client. You should probably use an HTTP client to get the document behind the URL, and feed that document to Beautiful Soup.\n",
      "  '\"%s\" looks like a URL. Beautiful Soup is not an HTTP client. You should probably use an HTTP client to get the document behind the URL, and feed that document to Beautiful Soup.' % markup)\n",
      "//anaconda/lib/python2.7/site-packages/bs4/__init__.py:189: UserWarning: \"http://osmc.noaa.gov/thredds/wms/osmc_valid_obs_ship?REQUEST=GetLegendGraphic&LAYER=WIND_OBS&PALETTE=alg\" looks like a URL. Beautiful Soup is not an HTTP client. You should probably use an HTTP client to get the document behind the URL, and feed that document to Beautiful Soup.\n",
      "  '\"%s\" looks like a URL. Beautiful Soup is not an HTTP client. You should probably use an HTTP client to get the document behind the URL, and feed that document to Beautiful Soup.' % markup)\n",
      "//anaconda/lib/python2.7/site-packages/bs4/__init__.py:189: UserWarning: \"http://osmc.noaa.gov/thredds/wms/osmc_valid_obs_ship?REQUEST=GetLegendGraphic&LAYER=WIND_OBS&PALETTE=ncview\" looks like a URL. Beautiful Soup is not an HTTP client. You should probably use an HTTP client to get the document behind the URL, and feed that document to Beautiful Soup.\n",
      "  '\"%s\" looks like a URL. Beautiful Soup is not an HTTP client. You should probably use an HTTP client to get the document behind the URL, and feed that document to Beautiful Soup.' % markup)\n",
      "//anaconda/lib/python2.7/site-packages/bs4/__init__.py:189: UserWarning: \"http://osmc.noaa.gov/thredds/wms/osmc_valid_obs_ship?REQUEST=GetLegendGraphic&LAYER=WIND_OBS&PALETTE=greyscale\" looks like a URL. Beautiful Soup is not an HTTP client. You should probably use an HTTP client to get the document behind the URL, and feed that document to Beautiful Soup.\n",
      "  '\"%s\" looks like a URL. Beautiful Soup is not an HTTP client. You should probably use an HTTP client to get the document behind the URL, and feed that document to Beautiful Soup.' % markup)\n",
      "//anaconda/lib/python2.7/site-packages/bs4/__init__.py:189: UserWarning: \"http://osmc.noaa.gov/thredds/wms/osmc_valid_obs_ship?REQUEST=GetLegendGraphic&LAYER=WIND_OBS&PALETTE=alg2\" looks like a URL. Beautiful Soup is not an HTTP client. You should probably use an HTTP client to get the document behind the URL, and feed that document to Beautiful Soup.\n",
      "  '\"%s\" looks like a URL. Beautiful Soup is not an HTTP client. You should probably use an HTTP client to get the document behind the URL, and feed that document to Beautiful Soup.' % markup)\n",
      "//anaconda/lib/python2.7/site-packages/bs4/__init__.py:189: UserWarning: \"http://osmc.noaa.gov/thredds/wms/osmc_valid_obs_ship?REQUEST=GetLegendGraphic&LAYER=WIND_OBS&PALETTE=occam\" looks like a URL. Beautiful Soup is not an HTTP client. You should probably use an HTTP client to get the document behind the URL, and feed that document to Beautiful Soup.\n",
      "  '\"%s\" looks like a URL. Beautiful Soup is not an HTTP client. You should probably use an HTTP client to get the document behind the URL, and feed that document to Beautiful Soup.' % markup)\n",
      "//anaconda/lib/python2.7/site-packages/bs4/__init__.py:189: UserWarning: \"http://osmc.noaa.gov/thredds/wms/osmc_valid_obs_ship?REQUEST=GetLegendGraphic&LAYER=WIND_OBS&PALETTE=rainbow\" looks like a URL. Beautiful Soup is not an HTTP client. You should probably use an HTTP client to get the document behind the URL, and feed that document to Beautiful Soup.\n",
      "  '\"%s\" looks like a URL. Beautiful Soup is not an HTTP client. You should probably use an HTTP client to get the document behind the URL, and feed that document to Beautiful Soup.' % markup)\n",
      "//anaconda/lib/python2.7/site-packages/bs4/__init__.py:189: UserWarning: \"http://osmc.noaa.gov/thredds/wms/osmc_valid_obs_ship?REQUEST=GetLegendGraphic&LAYER=WIND_OBS&PALETTE=sst_36\" looks like a URL. Beautiful Soup is not an HTTP client. You should probably use an HTTP client to get the document behind the URL, and feed that document to Beautiful Soup.\n",
      "  '\"%s\" looks like a URL. Beautiful Soup is not an HTTP client. You should probably use an HTTP client to get the document behind the URL, and feed that document to Beautiful Soup.' % markup)\n",
      "//anaconda/lib/python2.7/site-packages/bs4/__init__.py:189: UserWarning: \"http://osmc.noaa.gov/thredds/wms/osmc_valid_obs_ship?REQUEST=GetLegendGraphic&LAYER=WIND_OBS&PALETTE=ferret\" looks like a URL. Beautiful Soup is not an HTTP client. You should probably use an HTTP client to get the document behind the URL, and feed that document to Beautiful Soup.\n",
      "  '\"%s\" looks like a URL. Beautiful Soup is not an HTTP client. You should probably use an HTTP client to get the document behind the URL, and feed that document to Beautiful Soup.' % markup)\n",
      "//anaconda/lib/python2.7/site-packages/bs4/__init__.py:189: UserWarning: \"http://osmc.noaa.gov/thredds/wms/osmc_valid_obs_ship?REQUEST=GetLegendGraphic&LAYER=WIND_OBS&PALETTE=occam_pastel-30\" looks like a URL. Beautiful Soup is not an HTTP client. You should probably use an HTTP client to get the document behind the URL, and feed that document to Beautiful Soup.\n",
      "  '\"%s\" looks like a URL. Beautiful Soup is not an HTTP client. You should probably use an HTTP client to get the document behind the URL, and feed that document to Beautiful Soup.' % markup)\n",
      "//anaconda/lib/python2.7/site-packages/bs4/__init__.py:189: UserWarning: \"http://osmc.noaa.gov/thredds/wms/osmc_valid_obs_ship?REQUEST=GetLegendGraphic&LAYER=ATEMP_OBS&PALETTE=redblue\" looks like a URL. Beautiful Soup is not an HTTP client. You should probably use an HTTP client to get the document behind the URL, and feed that document to Beautiful Soup.\n",
      "  '\"%s\" looks like a URL. Beautiful Soup is not an HTTP client. You should probably use an HTTP client to get the document behind the URL, and feed that document to Beautiful Soup.' % markup)\n",
      "//anaconda/lib/python2.7/site-packages/bs4/__init__.py:189: UserWarning: \"http://osmc.noaa.gov/thredds/wms/osmc_valid_obs_ship?REQUEST=GetLegendGraphic&LAYER=ATEMP_OBS&PALETTE=alg\" looks like a URL. Beautiful Soup is not an HTTP client. You should probably use an HTTP client to get the document behind the URL, and feed that document to Beautiful Soup.\n",
      "  '\"%s\" looks like a URL. Beautiful Soup is not an HTTP client. You should probably use an HTTP client to get the document behind the URL, and feed that document to Beautiful Soup.' % markup)\n",
      "//anaconda/lib/python2.7/site-packages/bs4/__init__.py:189: UserWarning: \"http://osmc.noaa.gov/thredds/wms/osmc_valid_obs_ship?REQUEST=GetLegendGraphic&LAYER=ATEMP_OBS&PALETTE=ncview\" looks like a URL. Beautiful Soup is not an HTTP client. You should probably use an HTTP client to get the document behind the URL, and feed that document to Beautiful Soup.\n",
      "  '\"%s\" looks like a URL. Beautiful Soup is not an HTTP client. You should probably use an HTTP client to get the document behind the URL, and feed that document to Beautiful Soup.' % markup)\n",
      "//anaconda/lib/python2.7/site-packages/bs4/__init__.py:189: UserWarning: \"http://osmc.noaa.gov/thredds/wms/osmc_valid_obs_ship?REQUEST=GetLegendGraphic&LAYER=ATEMP_OBS&PALETTE=greyscale\" looks like a URL. Beautiful Soup is not an HTTP client. You should probably use an HTTP client to get the document behind the URL, and feed that document to Beautiful Soup.\n",
      "  '\"%s\" looks like a URL. Beautiful Soup is not an HTTP client. You should probably use an HTTP client to get the document behind the URL, and feed that document to Beautiful Soup.' % markup)\n",
      "//anaconda/lib/python2.7/site-packages/bs4/__init__.py:189: UserWarning: \"http://osmc.noaa.gov/thredds/wms/osmc_valid_obs_ship?REQUEST=GetLegendGraphic&LAYER=ATEMP_OBS&PALETTE=alg2\" looks like a URL. Beautiful Soup is not an HTTP client. You should probably use an HTTP client to get the document behind the URL, and feed that document to Beautiful Soup.\n",
      "  '\"%s\" looks like a URL. Beautiful Soup is not an HTTP client. You should probably use an HTTP client to get the document behind the URL, and feed that document to Beautiful Soup.' % markup)\n",
      "//anaconda/lib/python2.7/site-packages/bs4/__init__.py:189: UserWarning: \"http://osmc.noaa.gov/thredds/wms/osmc_valid_obs_ship?REQUEST=GetLegendGraphic&LAYER=ATEMP_OBS&PALETTE=occam\" looks like a URL. Beautiful Soup is not an HTTP client. You should probably use an HTTP client to get the document behind the URL, and feed that document to Beautiful Soup.\n",
      "  '\"%s\" looks like a URL. Beautiful Soup is not an HTTP client. You should probably use an HTTP client to get the document behind the URL, and feed that document to Beautiful Soup.' % markup)\n",
      "//anaconda/lib/python2.7/site-packages/bs4/__init__.py:189: UserWarning: \"http://osmc.noaa.gov/thredds/wms/osmc_valid_obs_ship?REQUEST=GetLegendGraphic&LAYER=ATEMP_OBS&PALETTE=rainbow\" looks like a URL. Beautiful Soup is not an HTTP client. You should probably use an HTTP client to get the document behind the URL, and feed that document to Beautiful Soup.\n",
      "  '\"%s\" looks like a URL. Beautiful Soup is not an HTTP client. You should probably use an HTTP client to get the document behind the URL, and feed that document to Beautiful Soup.' % markup)\n",
      "//anaconda/lib/python2.7/site-packages/bs4/__init__.py:189: UserWarning: \"http://osmc.noaa.gov/thredds/wms/osmc_valid_obs_ship?REQUEST=GetLegendGraphic&LAYER=ATEMP_OBS&PALETTE=sst_36\" looks like a URL. Beautiful Soup is not an HTTP client. You should probably use an HTTP client to get the document behind the URL, and feed that document to Beautiful Soup.\n",
      "  '\"%s\" looks like a URL. Beautiful Soup is not an HTTP client. You should probably use an HTTP client to get the document behind the URL, and feed that document to Beautiful Soup.' % markup)\n",
      "//anaconda/lib/python2.7/site-packages/bs4/__init__.py:189: UserWarning: \"http://osmc.noaa.gov/thredds/wms/osmc_valid_obs_ship?REQUEST=GetLegendGraphic&LAYER=ATEMP_OBS&PALETTE=ferret\" looks like a URL. Beautiful Soup is not an HTTP client. You should probably use an HTTP client to get the document behind the URL, and feed that document to Beautiful Soup.\n",
      "  '\"%s\" looks like a URL. Beautiful Soup is not an HTTP client. You should probably use an HTTP client to get the document behind the URL, and feed that document to Beautiful Soup.' % markup)\n",
      "//anaconda/lib/python2.7/site-packages/bs4/__init__.py:189: UserWarning: \"http://osmc.noaa.gov/thredds/wms/osmc_valid_obs_ship?REQUEST=GetLegendGraphic&LAYER=ATEMP_OBS&PALETTE=occam_pastel-30\" looks like a URL. Beautiful Soup is not an HTTP client. You should probably use an HTTP client to get the document behind the URL, and feed that document to Beautiful Soup.\n",
      "  '\"%s\" looks like a URL. Beautiful Soup is not an HTTP client. You should probably use an HTTP client to get the document behind the URL, and feed that document to Beautiful Soup.' % markup)\n",
      "//anaconda/lib/python2.7/site-packages/bs4/__init__.py:189: UserWarning: \"http://www.ngdc.noaa.gov/metadata/published/xsd/schema/resources/Codelist/gmxCodelists.xml#MD_RestrictionCode\" looks like a URL. Beautiful Soup is not an HTTP client. You should probably use an HTTP client to get the document behind the URL, and feed that document to Beautiful Soup.\n",
      "  '\"%s\" looks like a URL. Beautiful Soup is not an HTTP client. You should probably use an HTTP client to get the document behind the URL, and feed that document to Beautiful Soup.' % markup)\n",
      "//anaconda/lib/python2.7/site-packages/bs4/__init__.py:189: UserWarning: \"http://www.ngdc.noaa.gov/metadata/published/xsd/schema/resources/Codelist/gmxCodelists.xml#DS_AssociationTypeCode\" looks like a URL. Beautiful Soup is not an HTTP client. You should probably use an HTTP client to get the document behind the URL, and feed that document to Beautiful Soup.\n",
      "  '\"%s\" looks like a URL. Beautiful Soup is not an HTTP client. You should probably use an HTTP client to get the document behind the URL, and feed that document to Beautiful Soup.' % markup)\n",
      "//anaconda/lib/python2.7/site-packages/bs4/__init__.py:189: UserWarning: \"http://www.ngdc.noaa.gov/metadata/published/xsd/schema/resources/Codelist/gmxCodelists.xml#DS_InitiativeTypeCode\" looks like a URL. Beautiful Soup is not an HTTP client. You should probably use an HTTP client to get the document behind the URL, and feed that document to Beautiful Soup.\n",
      "  '\"%s\" looks like a URL. Beautiful Soup is not an HTTP client. You should probably use an HTTP client to get the document behind the URL, and feed that document to Beautiful Soup.' % markup)\n",
      "//anaconda/lib/python2.7/site-packages/bs4/__init__.py:189: UserWarning: \"http://www.isotc211.org/2005/gmd\" looks like a URL. Beautiful Soup is not an HTTP client. You should probably use an HTTP client to get the document behind the URL, and feed that document to Beautiful Soup.\n",
      "  '\"%s\" looks like a URL. Beautiful Soup is not an HTTP client. You should probably use an HTTP client to get the document behind the URL, and feed that document to Beautiful Soup.' % markup)\n",
      "//anaconda/lib/python2.7/site-packages/bs4/__init__.py:189: UserWarning: \"http://water.usgs.gov/GIS/metadata/usgswrd/fgdc-std-001-1998.xsd\" looks like a URL. Beautiful Soup is not an HTTP client. You should probably use an HTTP client to get the document behind the URL, and feed that document to Beautiful Soup.\n",
      "  '\"%s\" looks like a URL. Beautiful Soup is not an HTTP client. You should probably use an HTTP client to get the document behind the URL, and feed that document to Beautiful Soup.' % markup)\n",
      "//anaconda/lib/python2.7/site-packages/bs4/__init__.py:189: UserWarning: \"https://inport.nmfs.noaa.gov/inport/item/22028\" looks like a URL. Beautiful Soup is not an HTTP client. You should probably use an HTTP client to get the document behind the URL, and feed that document to Beautiful Soup.\n",
      "  '\"%s\" looks like a URL. Beautiful Soup is not an HTTP client. You should probably use an HTTP client to get the document behind the URL, and feed that document to Beautiful Soup.' % markup)\n",
      "//anaconda/lib/python2.7/site-packages/bs4/__init__.py:189: UserWarning: \"http://www.tc211.org/ISO19139/resources/codeList.xml#MD_MaintenanceFrequencyCode\" looks like a URL. Beautiful Soup is not an HTTP client. You should probably use an HTTP client to get the document behind the URL, and feed that document to Beautiful Soup.\n",
      "  '\"%s\" looks like a URL. Beautiful Soup is not an HTTP client. You should probably use an HTTP client to get the document behind the URL, and feed that document to Beautiful Soup.' % markup)\n",
      "//anaconda/lib/python2.7/site-packages/bs4/__init__.py:189: UserWarning: \"http://www.isotc211.org/2005/resources/Codelist/gmxCodelists.xml#MD_GeometricObjectTypeCode\" looks like a URL. Beautiful Soup is not an HTTP client. You should probably use an HTTP client to get the document behind the URL, and feed that document to Beautiful Soup.\n",
      "  '\"%s\" looks like a URL. Beautiful Soup is not an HTTP client. You should probably use an HTTP client to get the document behind the URL, and feed that document to Beautiful Soup.' % markup)\n",
      "//anaconda/lib/python2.7/site-packages/bs4/__init__.py:189: UserWarning: \"http://www.ngdc.noaa.gov/metadata/published/xsd/schema/resources/Codelist/gmxCodelists.xml#LanguageCode\" looks like a URL. Beautiful Soup is not an HTTP client. You should probably use an HTTP client to get the document behind the URL, and feed that document to Beautiful Soup.\n",
      "  '\"%s\" looks like a URL. Beautiful Soup is not an HTTP client. You should probably use an HTTP client to get the document behind the URL, and feed that document to Beautiful Soup.' % markup)\n",
      "//anaconda/lib/python2.7/site-packages/bs4/__init__.py:189: UserWarning: \"http://www.ngdc.noaa.gov/metadata/published/xsd/schema/resources/Codelist/gmxCodelists.xml#MD_CharacterSetCode\" looks like a URL. Beautiful Soup is not an HTTP client. You should probably use an HTTP client to get the document behind the URL, and feed that document to Beautiful Soup.\n",
      "  '\"%s\" looks like a URL. Beautiful Soup is not an HTTP client. You should probably use an HTTP client to get the document behind the URL, and feed that document to Beautiful Soup.' % markup)\n",
      "//anaconda/lib/python2.7/site-packages/bs4/__init__.py:189: UserWarning: \"http://www.tc211.org/ISO19139/resources/codeList.xml#SV_CouplingType\" looks like a URL. Beautiful Soup is not an HTTP client. You should probably use an HTTP client to get the document behind the URL, and feed that document to Beautiful Soup.\n",
      "  '\"%s\" looks like a URL. Beautiful Soup is not an HTTP client. You should probably use an HTTP client to get the document behind the URL, and feed that document to Beautiful Soup.' % markup)\n",
      "//anaconda/lib/python2.7/site-packages/bs4/__init__.py:189: UserWarning: \"http://example.org/someUnitsDictionary.xml#milliseconds\" looks like a URL. Beautiful Soup is not an HTTP client. You should probably use an HTTP client to get the document behind the URL, and feed that document to Beautiful Soup.\n",
      "  '\"%s\" looks like a URL. Beautiful Soup is not an HTTP client. You should probably use an HTTP client to get the document behind the URL, and feed that document to Beautiful Soup.' % markup)\n",
      "//anaconda/lib/python2.7/site-packages/bs4/__init__.py:189: UserWarning: \"http://example.org/someUnitsDictionary.xml#cm2%2Fs2%20%20%20%20%20%20\" looks like a URL. Beautiful Soup is not an HTTP client. You should probably use an HTTP client to get the document behind the URL, and feed that document to Beautiful Soup.\n",
      "  '\"%s\" looks like a URL. Beautiful Soup is not an HTTP client. You should probably use an HTTP client to get the document behind the URL, and feed that document to Beautiful Soup.' % markup)\n",
      "//anaconda/lib/python2.7/site-packages/bs4/__init__.py:189: UserWarning: \"http://example.org/someUnitsDictionary.xml#seconds%20%20%20%20%20\" looks like a URL. Beautiful Soup is not an HTTP client. You should probably use an HTTP client to get the document behind the URL, and feed that document to Beautiful Soup.\n",
      "  '\"%s\" looks like a URL. Beautiful Soup is not an HTTP client. You should probably use an HTTP client to get the document behind the URL, and feed that document to Beautiful Soup.' % markup)\n",
      "//anaconda/lib/python2.7/site-packages/bs4/__init__.py:189: UserWarning: \"http://example.org/someUnitsDictionary.xml#degrees\" looks like a URL. Beautiful Soup is not an HTTP client. You should probably use an HTTP client to get the document behind the URL, and feed that document to Beautiful Soup.\n",
      "  '\"%s\" looks like a URL. Beautiful Soup is not an HTTP client. You should probably use an HTTP client to get the document behind the URL, and feed that document to Beautiful Soup.' % markup)\n",
      "//anaconda/lib/python2.7/site-packages/bs4/__init__.py:189: UserWarning: \"http://example.org/someUnitsDictionary.xml#m\" looks like a URL. Beautiful Soup is not an HTTP client. You should probably use an HTTP client to get the document behind the URL, and feed that document to Beautiful Soup.\n",
      "  '\"%s\" looks like a URL. Beautiful Soup is not an HTTP client. You should probably use an HTTP client to get the document behind the URL, and feed that document to Beautiful Soup.' % markup)\n",
      "//anaconda/lib/python2.7/site-packages/bs4/__init__.py:189: UserWarning: \"http://example.org/someUnitsDictionary.xml#days\" looks like a URL. Beautiful Soup is not an HTTP client. You should probably use an HTTP client to get the document behind the URL, and feed that document to Beautiful Soup.\n",
      "  '\"%s\" looks like a URL. Beautiful Soup is not an HTTP client. You should probably use an HTTP client to get the document behind the URL, and feed that document to Beautiful Soup.' % markup)\n",
      "//anaconda/lib/python2.7/site-packages/bs4/__init__.py:189: UserWarning: \"http://www.ngdc.noaa.gov/metadata/published/xsd/schema/resources/Codelist/gmxCodelists.xml#CI_PresentationFormCode\" looks like a URL. Beautiful Soup is not an HTTP client. You should probably use an HTTP client to get the document behind the URL, and feed that document to Beautiful Soup.\n",
      "  '\"%s\" looks like a URL. Beautiful Soup is not an HTTP client. You should probably use an HTTP client to get the document behind the URL, and feed that document to Beautiful Soup.' % markup)\n",
      "//anaconda/lib/python2.7/site-packages/bs4/__init__.py:189: UserWarning: \"http://coastalmap.marine.usgs.gov/cmgp/services/EastCoast/Mass_Seafloor/MapServer/WCSServer\" looks like a URL. Beautiful Soup is not an HTTP client. You should probably use an HTTP client to get the document behind the URL, and feed that document to Beautiful Soup.\n",
      "  '\"%s\" looks like a URL. Beautiful Soup is not an HTTP client. You should probably use an HTTP client to get the document behind the URL, and feed that document to Beautiful Soup.' % markup)\n",
      "//anaconda/lib/python2.7/site-packages/bs4/__init__.py:189: UserWarning: \"http://pubs.usgs.gov/of/2010/1091/\" looks like a URL. Beautiful Soup is not an HTTP client. You should probably use an HTTP client to get the document behind the URL, and feed that document to Beautiful Soup.\n",
      "  '\"%s\" looks like a URL. Beautiful Soup is not an HTTP client. You should probably use an HTTP client to get the document behind the URL, and feed that document to Beautiful Soup.' % markup)\n",
      "//anaconda/lib/python2.7/site-packages/bs4/__init__.py:189: UserWarning: \"http://pubs.usgs.gov/of/2010/1091/GIS/raster/bathy/rb_bathy_1m.htm\" looks like a URL. Beautiful Soup is not an HTTP client. You should probably use an HTTP client to get the document behind the URL, and feed that document to Beautiful Soup.\n",
      "  '\"%s\" looks like a URL. Beautiful Soup is not an HTTP client. You should probably use an HTTP client to get the document behind the URL, and feed that document to Beautiful Soup.' % markup)\n",
      "//anaconda/lib/python2.7/site-packages/bs4/__init__.py:189: UserWarning: \"http://pubs.usgs.gov/of/2010/1091/GIS/raster/bathy/rb_bathy_1m.zip\" looks like a URL. Beautiful Soup is not an HTTP client. You should probably use an HTTP client to get the document behind the URL, and feed that document to Beautiful Soup.\n",
      "  '\"%s\" looks like a URL. Beautiful Soup is not an HTTP client. You should probably use an HTTP client to get the document behind the URL, and feed that document to Beautiful Soup.' % markup)\n",
      "//anaconda/lib/python2.7/site-packages/bs4/__init__.py:189: UserWarning: \"http://pubs.usgs.gov/of/2012/1002/\" looks like a URL. Beautiful Soup is not an HTTP client. You should probably use an HTTP client to get the document behind the URL, and feed that document to Beautiful Soup.\n",
      "  '\"%s\" looks like a URL. Beautiful Soup is not an HTTP client. You should probably use an HTTP client to get the document behind the URL, and feed that document to Beautiful Soup.' % markup)\n",
      "//anaconda/lib/python2.7/site-packages/bs4/__init__.py:189: UserWarning: \"http://pubs.usgs.gov/of/2012/1002/GIS/raster/bathy/BB_bathy5m.html\" looks like a URL. Beautiful Soup is not an HTTP client. You should probably use an HTTP client to get the document behind the URL, and feed that document to Beautiful Soup.\n",
      "  '\"%s\" looks like a URL. Beautiful Soup is not an HTTP client. You should probably use an HTTP client to get the document behind the URL, and feed that document to Beautiful Soup.' % markup)\n",
      "//anaconda/lib/python2.7/site-packages/bs4/__init__.py:189: UserWarning: \"http://pubs.usgs.gov/of/2012/1002/GIS/raster/bathy/BB_bathy5m.zip\" looks like a URL. Beautiful Soup is not an HTTP client. You should probably use an HTTP client to get the document behind the URL, and feed that document to Beautiful Soup.\n",
      "  '\"%s\" looks like a URL. Beautiful Soup is not an HTTP client. You should probably use an HTTP client to get the document behind the URL, and feed that document to Beautiful Soup.' % markup)\n",
      "//anaconda/lib/python2.7/site-packages/bs4/__init__.py:189: UserWarning: \"http://pubs.usgs.gov/of/2011/1184/\" looks like a URL. Beautiful Soup is not an HTTP client. You should probably use an HTTP client to get the document behind the URL, and feed that document to Beautiful Soup.\n",
      "  '\"%s\" looks like a URL. Beautiful Soup is not an HTTP client. You should probably use an HTTP client to get the document behind the URL, and feed that document to Beautiful Soup.' % markup)\n",
      "//anaconda/lib/python2.7/site-packages/bs4/__init__.py:189: UserWarning: \"http://pubs.usgs.gov/of/2011/1184/GIS_catalog/bathy/filled/ei_2hm_fill.html\" looks like a URL. Beautiful Soup is not an HTTP client. You should probably use an HTTP client to get the document behind the URL, and feed that document to Beautiful Soup.\n",
      "  '\"%s\" looks like a URL. Beautiful Soup is not an HTTP client. You should probably use an HTTP client to get the document behind the URL, and feed that document to Beautiful Soup.' % markup)\n",
      "//anaconda/lib/python2.7/site-packages/bs4/__init__.py:189: UserWarning: \"http://pubs.usgs.gov/of/2011/1184/GIS_catalog/bathy/ei_2hm_fill.zip\" looks like a URL. Beautiful Soup is not an HTTP client. You should probably use an HTTP client to get the document behind the URL, and feed that document to Beautiful Soup.\n",
      "  '\"%s\" looks like a URL. Beautiful Soup is not an HTTP client. You should probably use an HTTP client to get the document behind the URL, and feed that document to Beautiful Soup.' % markup)\n",
      "//anaconda/lib/python2.7/site-packages/bs4/__init__.py:189: UserWarning: \"http://pubs.usgs.gov/of/2012/1006/\" looks like a URL. Beautiful Soup is not an HTTP client. You should probably use an HTTP client to get the document behind the URL, and feed that document to Beautiful Soup.\n",
      "  '\"%s\" looks like a URL. Beautiful Soup is not an HTTP client. You should probably use an HTTP client to get the document behind the URL, and feed that document to Beautiful Soup.' % markup)\n",
      "//anaconda/lib/python2.7/site-packages/bs4/__init__.py:189: UserWarning: \"http://pubs.usgs.gov/of/2012/1006/GIS/raster/bathymetry/vs_bath_5m.html\" looks like a URL. Beautiful Soup is not an HTTP client. You should probably use an HTTP client to get the document behind the URL, and feed that document to Beautiful Soup.\n",
      "  '\"%s\" looks like a URL. Beautiful Soup is not an HTTP client. You should probably use an HTTP client to get the document behind the URL, and feed that document to Beautiful Soup.' % markup)\n",
      "//anaconda/lib/python2.7/site-packages/bs4/__init__.py:189: UserWarning: \"http://pubs.usgs.gov/of/2012/1006/GIS/raster/bathymetry/vs_bath_5m.zip\" looks like a URL. Beautiful Soup is not an HTTP client. You should probably use an HTTP client to get the document behind the URL, and feed that document to Beautiful Soup.\n",
      "  '\"%s\" looks like a URL. Beautiful Soup is not an HTTP client. You should probably use an HTTP client to get the document behind the URL, and feed that document to Beautiful Soup.' % markup)\n",
      "//anaconda/lib/python2.7/site-packages/bs4/__init__.py:189: UserWarning: \"http://pubs.usgs.gov/of/2012/1002/GIS/raster/hlshd/BB_hlshd5m.html\" looks like a URL. Beautiful Soup is not an HTTP client. You should probably use an HTTP client to get the document behind the URL, and feed that document to Beautiful Soup.\n",
      "  '\"%s\" looks like a URL. Beautiful Soup is not an HTTP client. You should probably use an HTTP client to get the document behind the URL, and feed that document to Beautiful Soup.' % markup)\n",
      "//anaconda/lib/python2.7/site-packages/bs4/__init__.py:189: UserWarning: \"http://pubs.usgs.gov/of/2012/1002/GIS/raster/hlshd/bb_hlshd5m.zip\" looks like a URL. Beautiful Soup is not an HTTP client. You should probably use an HTTP client to get the document behind the URL, and feed that document to Beautiful Soup.\n",
      "  '\"%s\" looks like a URL. Beautiful Soup is not an HTTP client. You should probably use an HTTP client to get the document behind the URL, and feed that document to Beautiful Soup.' % markup)\n",
      "//anaconda/lib/python2.7/site-packages/bs4/__init__.py:189: UserWarning: \"http://pubs.usgs.gov/of/2011/1184/GIS_catalog/bathy/ei_2hm_fillhs.html\" looks like a URL. Beautiful Soup is not an HTTP client. You should probably use an HTTP client to get the document behind the URL, and feed that document to Beautiful Soup.\n",
      "  '\"%s\" looks like a URL. Beautiful Soup is not an HTTP client. You should probably use an HTTP client to get the document behind the URL, and feed that document to Beautiful Soup.' % markup)\n",
      "//anaconda/lib/python2.7/site-packages/bs4/__init__.py:189: UserWarning: \"http://pubs.usgs.gov/of/2011/1184/GIS_catalog/bathy/ei_2hm_fillhs.zip\" looks like a URL. Beautiful Soup is not an HTTP client. You should probably use an HTTP client to get the document behind the URL, and feed that document to Beautiful Soup.\n",
      "  '\"%s\" looks like a URL. Beautiful Soup is not an HTTP client. You should probably use an HTTP client to get the document behind the URL, and feed that document to Beautiful Soup.' % markup)\n",
      "//anaconda/lib/python2.7/site-packages/bs4/__init__.py:189: UserWarning: \"http://pubs.usgs.gov/of/2012/1006/GIS/raster/bathymetry/vs_bath5m_hs.html\" looks like a URL. Beautiful Soup is not an HTTP client. You should probably use an HTTP client to get the document behind the URL, and feed that document to Beautiful Soup.\n",
      "  '\"%s\" looks like a URL. Beautiful Soup is not an HTTP client. You should probably use an HTTP client to get the document behind the URL, and feed that document to Beautiful Soup.' % markup)\n",
      "//anaconda/lib/python2.7/site-packages/bs4/__init__.py:189: UserWarning: \"http://pubs.usgs.gov/of/2012/1006/GIS/raster/bathymetry/vs_bath5m_hs.zip\" looks like a URL. Beautiful Soup is not an HTTP client. You should probably use an HTTP client to get the document behind the URL, and feed that document to Beautiful Soup.\n",
      "  '\"%s\" looks like a URL. Beautiful Soup is not an HTTP client. You should probably use an HTTP client to get the document behind the URL, and feed that document to Beautiful Soup.' % markup)\n",
      "//anaconda/lib/python2.7/site-packages/bs4/__init__.py:189: UserWarning: \"http://pubs.usgs.gov/of/2007/1373/\" looks like a URL. Beautiful Soup is not an HTTP client. You should probably use an HTTP client to get the document behind the URL, and feed that document to Beautiful Soup.\n",
      "  '\"%s\" looks like a URL. Beautiful Soup is not an HTTP client. You should probably use an HTTP client to get the document behind the URL, and feed that document to Beautiful Soup.' % markup)\n",
      "//anaconda/lib/python2.7/site-packages/bs4/__init__.py:189: UserWarning: \"http://pubs.usgs.gov/of/2007/1373/GIS/raster/backscatter/klein_bs1m.html\" looks like a URL. Beautiful Soup is not an HTTP client. You should probably use an HTTP client to get the document behind the URL, and feed that document to Beautiful Soup.\n",
      "  '\"%s\" looks like a URL. Beautiful Soup is not an HTTP client. You should probably use an HTTP client to get the document behind the URL, and feed that document to Beautiful Soup.' % markup)\n",
      "//anaconda/lib/python2.7/site-packages/bs4/__init__.py:189: UserWarning: \"http://pubs.usgs.gov/of/2007/1373/GIS/raster/backscatter/reson_bs5m.html\" looks like a URL. Beautiful Soup is not an HTTP client. You should probably use an HTTP client to get the document behind the URL, and feed that document to Beautiful Soup.\n",
      "  '\"%s\" looks like a URL. Beautiful Soup is not an HTTP client. You should probably use an HTTP client to get the document behind the URL, and feed that document to Beautiful Soup.' % markup)\n",
      "//anaconda/lib/python2.7/site-packages/bs4/__init__.py:189: UserWarning: \"http://pubs.usgs.gov/of/2007/1373/GIS/raster/backscatter/klein_bs1m.zip\" looks like a URL. Beautiful Soup is not an HTTP client. You should probably use an HTTP client to get the document behind the URL, and feed that document to Beautiful Soup.\n",
      "  '\"%s\" looks like a URL. Beautiful Soup is not an HTTP client. You should probably use an HTTP client to get the document behind the URL, and feed that document to Beautiful Soup.' % markup)\n",
      "//anaconda/lib/python2.7/site-packages/bs4/__init__.py:189: UserWarning: \"http://pubs.usgs.gov/of/2007/1373/GIS/raster/backscatter/reson_bs5m_geog.zip\" looks like a URL. Beautiful Soup is not an HTTP client. You should probably use an HTTP client to get the document behind the URL, and feed that document to Beautiful Soup.\n",
      "  '\"%s\" looks like a URL. Beautiful Soup is not an HTTP client. You should probably use an HTTP client to get the document behind the URL, and feed that document to Beautiful Soup.' % markup)\n",
      "//anaconda/lib/python2.7/site-packages/bs4/__init__.py:189: UserWarning: \"http://pubs.usgs.gov/of/2010/1091/GIS/raster/backscatter/RB_Backscatter_1m.htm\" looks like a URL. Beautiful Soup is not an HTTP client. You should probably use an HTTP client to get the document behind the URL, and feed that document to Beautiful Soup.\n",
      "  '\"%s\" looks like a URL. Beautiful Soup is not an HTTP client. You should probably use an HTTP client to get the document behind the URL, and feed that document to Beautiful Soup.' % markup)\n",
      "//anaconda/lib/python2.7/site-packages/bs4/__init__.py:189: UserWarning: \"http://pubs.usgs.gov/of/2010/1091/GIS/raster/backscatter/RB_Backscatter_1m.zip\" looks like a URL. Beautiful Soup is not an HTTP client. You should probably use an HTTP client to get the document behind the URL, and feed that document to Beautiful Soup.\n",
      "  '\"%s\" looks like a URL. Beautiful Soup is not an HTTP client. You should probably use an HTTP client to get the document behind the URL, and feed that document to Beautiful Soup.' % markup)\n",
      "//anaconda/lib/python2.7/site-packages/bs4/__init__.py:189: UserWarning: \"http://pubs.usgs.gov/of/2012/1002/GIS/raster/backscatter/BB_backscatter1m.html\" looks like a URL. Beautiful Soup is not an HTTP client. You should probably use an HTTP client to get the document behind the URL, and feed that document to Beautiful Soup.\n",
      "  '\"%s\" looks like a URL. Beautiful Soup is not an HTTP client. You should probably use an HTTP client to get the document behind the URL, and feed that document to Beautiful Soup.' % markup)\n",
      "//anaconda/lib/python2.7/site-packages/bs4/__init__.py:189: UserWarning: \"http://pubs.usgs.gov/of/2012/1002/GIS/raster/backscatter/BB_backscatter1m.zip\" looks like a URL. Beautiful Soup is not an HTTP client. You should probably use an HTTP client to get the document behind the URL, and feed that document to Beautiful Soup.\n",
      "  '\"%s\" looks like a URL. Beautiful Soup is not an HTTP client. You should probably use an HTTP client to get the document behind the URL, and feed that document to Beautiful Soup.' % markup)\n",
      "//anaconda/lib/python2.7/site-packages/bs4/__init__.py:189: UserWarning: \"http://pubs.usgs.gov/of/2011/1184/GIS_catalog/sidescan/2010-003-FA_SSmosaic_BuzzardsBay.html\" looks like a URL. Beautiful Soup is not an HTTP client. You should probably use an HTTP client to get the document behind the URL, and feed that document to Beautiful Soup.\n",
      "  '\"%s\" looks like a URL. Beautiful Soup is not an HTTP client. You should probably use an HTTP client to get the document behind the URL, and feed that document to Beautiful Soup.' % markup)\n",
      "//anaconda/lib/python2.7/site-packages/bs4/__init__.py:189: UserWarning: \"http://pubs.usgs.gov/of/2011/1184/GIS_catalog/sidescan/2010-003-FA_ssBuzzardsBay.zip\" looks like a URL. Beautiful Soup is not an HTTP client. You should probably use an HTTP client to get the document behind the URL, and feed that document to Beautiful Soup.\n",
      "  '\"%s\" looks like a URL. Beautiful Soup is not an HTTP client. You should probably use an HTTP client to get the document behind the URL, and feed that document to Beautiful Soup.' % markup)\n",
      "//anaconda/lib/python2.7/site-packages/bs4/__init__.py:189: UserWarning: \"http://pubs.usgs.gov/of/2011/1184/GIS_catalog/sidescan/2010-003-FA_SSmosaic_Nashawena.html\" looks like a URL. Beautiful Soup is not an HTTP client. You should probably use an HTTP client to get the document behind the URL, and feed that document to Beautiful Soup.\n",
      "  '\"%s\" looks like a URL. Beautiful Soup is not an HTTP client. You should probably use an HTTP client to get the document behind the URL, and feed that document to Beautiful Soup.' % markup)\n",
      "//anaconda/lib/python2.7/site-packages/bs4/__init__.py:189: UserWarning: \"http://pubs.usgs.gov/of/2011/1184/GIS_catalog/sidescan/2010-003-FA_ssNashawena.zip\" looks like a URL. Beautiful Soup is not an HTTP client. You should probably use an HTTP client to get the document behind the URL, and feed that document to Beautiful Soup.\n",
      "  '\"%s\" looks like a URL. Beautiful Soup is not an HTTP client. You should probably use an HTTP client to get the document behind the URL, and feed that document to Beautiful Soup.' % markup)\n",
      "//anaconda/lib/python2.7/site-packages/bs4/__init__.py:189: UserWarning: \"http://pubs.usgs.gov/of/2011/1184/GIS_catalog/sidescan/2010-003-FA_SSmosaic_Penikese.html\" looks like a URL. Beautiful Soup is not an HTTP client. You should probably use an HTTP client to get the document behind the URL, and feed that document to Beautiful Soup.\n",
      "  '\"%s\" looks like a URL. Beautiful Soup is not an HTTP client. You should probably use an HTTP client to get the document behind the URL, and feed that document to Beautiful Soup.' % markup)\n",
      "//anaconda/lib/python2.7/site-packages/bs4/__init__.py:189: UserWarning: \"http://pubs.usgs.gov/of/2011/1184/GIS_catalog/sidescan/2010-003-FA_ssPenikese.zip\" looks like a URL. Beautiful Soup is not an HTTP client. You should probably use an HTTP client to get the document behind the URL, and feed that document to Beautiful Soup.\n",
      "  '\"%s\" looks like a URL. Beautiful Soup is not an HTTP client. You should probably use an HTTP client to get the document behind the URL, and feed that document to Beautiful Soup.' % markup)\n",
      "//anaconda/lib/python2.7/site-packages/bs4/__init__.py:189: UserWarning: \"http://pubs.usgs.gov/of/2011/1184/GIS_catalog/sidescan/2010-003-FA_SSmosaic_MVsound.html\" looks like a URL. Beautiful Soup is not an HTTP client. You should probably use an HTTP client to get the document behind the URL, and feed that document to Beautiful Soup.\n",
      "  '\"%s\" looks like a URL. Beautiful Soup is not an HTTP client. You should probably use an HTTP client to get the document behind the URL, and feed that document to Beautiful Soup.' % markup)\n",
      "//anaconda/lib/python2.7/site-packages/bs4/__init__.py:189: UserWarning: \"http://pubs.usgs.gov/of/2011/1184/GIS_catalog/sidescan/2010-003-FA_ssMVsound.zip\" looks like a URL. Beautiful Soup is not an HTTP client. You should probably use an HTTP client to get the document behind the URL, and feed that document to Beautiful Soup.\n",
      "  '\"%s\" looks like a URL. Beautiful Soup is not an HTTP client. You should probably use an HTTP client to get the document behind the URL, and feed that document to Beautiful Soup.' % markup)\n",
      "//anaconda/lib/python2.7/site-packages/bs4/__init__.py:189: UserWarning: \"http://pubs.usgs.gov/of/2012/1006/GIS/raster/backscatter/VS_Backscatter_1m.html\" looks like a URL. Beautiful Soup is not an HTTP client. You should probably use an HTTP client to get the document behind the URL, and feed that document to Beautiful Soup.\n",
      "  '\"%s\" looks like a URL. Beautiful Soup is not an HTTP client. You should probably use an HTTP client to get the document behind the URL, and feed that document to Beautiful Soup.' % markup)\n",
      "//anaconda/lib/python2.7/site-packages/bs4/__init__.py:189: UserWarning: \"http://pubs.usgs.gov/of/2012/1006/GIS/raster/backscatter/VS_Backscatter_1m.zip\" looks like a URL. Beautiful Soup is not an HTTP client. You should probably use an HTTP client to get the document behind the URL, and feed that document to Beautiful Soup.\n",
      "  '\"%s\" looks like a URL. Beautiful Soup is not an HTTP client. You should probably use an HTTP client to get the document behind the URL, and feed that document to Beautiful Soup.' % markup)\n"
     ]
    },
    {
     "ename": "KeyboardInterrupt",
     "evalue": "",
     "output_type": "error",
     "traceback": [
      "\u001b[0;31m---------------------------------------------------------------------------\u001b[0m",
      "\u001b[0;31mKeyboardInterrupt\u001b[0m                         Traceback (most recent call last)",
      "\u001b[0;32m<ipython-input-28-46bccfb60d43>\u001b[0m in \u001b[0;36m<module>\u001b[0;34m()\u001b[0m\n\u001b[1;32m     27\u001b[0m     \u001b[0;31m# try to chuck the urls and urns\u001b[0m\u001b[0;34m\u001b[0m\u001b[0;34m\u001b[0m\u001b[0m\n\u001b[1;32m     28\u001b[0m     \u001b[0mbag\u001b[0m \u001b[0;34m=\u001b[0m \u001b[0mremove_urls\u001b[0m\u001b[0;34m(\u001b[0m\u001b[0mbag\u001b[0m\u001b[0;34m)\u001b[0m\u001b[0;34m\u001b[0m\u001b[0m\n\u001b[0;32m---> 29\u001b[0;31m     \u001b[0mbag\u001b[0m \u001b[0;34m=\u001b[0m \u001b[0mremove_emails\u001b[0m\u001b[0;34m(\u001b[0m\u001b[0mbag\u001b[0m\u001b[0;34m)\u001b[0m\u001b[0;34m\u001b[0m\u001b[0m\n\u001b[0m\u001b[1;32m     30\u001b[0m     \u001b[0mbag\u001b[0m \u001b[0;34m=\u001b[0m \u001b[0mremove_urns\u001b[0m\u001b[0;34m(\u001b[0m\u001b[0mbag\u001b[0m\u001b[0;34m)\u001b[0m\u001b[0;34m\u001b[0m\u001b[0m\n\u001b[1;32m     31\u001b[0m     \u001b[0mbag\u001b[0m \u001b[0;34m=\u001b[0m \u001b[0mremove_hashes\u001b[0m\u001b[0;34m(\u001b[0m\u001b[0mbag\u001b[0m\u001b[0;34m)\u001b[0m\u001b[0;34m\u001b[0m\u001b[0m\n",
      "\u001b[0;32m<ipython-input-10-f2369cc6f7a2>\u001b[0m in \u001b[0;36mremove_emails\u001b[0;34m(text_as_list)\u001b[0m\n\u001b[1;32m     52\u001b[0m     \u001b[0mnew_text\u001b[0m \u001b[0;34m=\u001b[0m \u001b[0;34m[\u001b[0m\u001b[0;34m]\u001b[0m\u001b[0;34m\u001b[0m\u001b[0m\n\u001b[1;32m     53\u001b[0m     \u001b[0;32mfor\u001b[0m \u001b[0mtext\u001b[0m \u001b[0;32min\u001b[0m \u001b[0mtext_as_list\u001b[0m\u001b[0;34m:\u001b[0m\u001b[0;34m\u001b[0m\u001b[0m\n\u001b[0;32m---> 54\u001b[0;31m         \u001b[0;32mif\u001b[0m \u001b[0mpttn\u001b[0m\u001b[0;34m.\u001b[0m\u001b[0msearch\u001b[0m\u001b[0;34m(\u001b[0m\u001b[0mtext\u001b[0m\u001b[0;34m)\u001b[0m \u001b[0;32mis\u001b[0m \u001b[0mNone\u001b[0m\u001b[0;34m:\u001b[0m\u001b[0;34m\u001b[0m\u001b[0m\n\u001b[0m\u001b[1;32m     55\u001b[0m             \u001b[0mnew_text\u001b[0m\u001b[0;34m.\u001b[0m\u001b[0mappend\u001b[0m\u001b[0;34m(\u001b[0m\u001b[0mtext\u001b[0m\u001b[0;34m)\u001b[0m\u001b[0;34m\u001b[0m\u001b[0m\n\u001b[1;32m     56\u001b[0m     \u001b[0;32mreturn\u001b[0m \u001b[0mnew_text\u001b[0m\u001b[0;34m\u001b[0m\u001b[0m\n",
      "\u001b[0;31mKeyboardInterrupt\u001b[0m: "
     ]
    }
   ],
   "source": [
    "# the url, protocol, raw count and distinct count\n",
    "stats = []\n",
    "\n",
    "count_if_identified = 0\n",
    "limit = 100\n",
    "\n",
    "for f in files:\n",
    "    identity, response, url = _prep(f)\n",
    "    \n",
    "    if not identity:\n",
    "        continue\n",
    "    \n",
    "    if not [i for i in identity if i.get('protocol', '') in ['ISO', 'OGC', 'OAI-PMH', 'FGDC']]:\n",
    "        continue\n",
    "    \n",
    "    if count_if_identified > limit:\n",
    "        break\n",
    "    \n",
    "    # we're going to ignore any <a> tags embedded in the text content\n",
    "    # but if we don't want to do that later, it throws bs4 warnings (fyi).\n",
    "    parser = BagParser(response, True, False)\n",
    "    bag = [handle_whitespace(b[1]) for b in parser.strip_text()]\n",
    "\n",
    "    # flatten the response (we are tokenizing on the whitespace only)\n",
    "    bag = list(chain.from_iterable(bag))\n",
    "\n",
    "    # try to chuck the urls and urns\n",
    "    bag = remove_urls(bag)\n",
    "    bag = remove_emails(bag)\n",
    "    bag = remove_urns(bag)\n",
    "    bag = remove_hashes(bag)\n",
    "    bag = remove_timestamps(bag)\n",
    "    bag = remove_numberlike(bag)\n",
    "    \n",
    "    # note that we kinda don't care about some of the left over bits\n",
    "    # of punctuation for the simple count tests (it's a word either way)\n",
    "    # BUT if we go with DISTINCT words or the later BoW NLP work,\n",
    "    # we will care so... anyway, i'm just going to care now\n",
    "    \n",
    "    bag = remove_punctuation(bag)\n",
    "    \n",
    "    # and one more round of whitespace (split and strip)\n",
    "    new_bag = []\n",
    "    for b in bag:\n",
    "        parts = b.split(' ')\n",
    "        for p in parts:\n",
    "            # and just make everything unicode. safety first!\n",
    "            new_bag.append(unicode(p.strip()))\n",
    "    \n",
    "    # split on the forward slashes (keywords but only after chucking urls)\n",
    "    bag = split_things(new_bag)\n",
    "\n",
    "    # we'll not remove actual stopwords, fyi\n",
    "    \n",
    "    raw_count = len(bag)\n",
    "    distinct_count = len(set(bag))\n",
    "    \n",
    "    stats.append('|'.join([url.replace('|', ';;'),\n",
    "                           ';;'.join([i['protocol'] for i in identity if i.get('protocol', '') in ['ISO', 'OGC', 'OAI-PMH', 'FGDC']]),\n",
    "                           str(raw_count),\n",
    "                           str(distinct_count)]))\n",
    "    \n",
    "    count_if_identified += 1\n",
    "    # print identity, raw_count, distinct_count                      \n",
    "    # print bag"
   ]
  },
  {
   "cell_type": "code",
   "execution_count": 29,
   "metadata": {
    "collapsed": false
   },
   "outputs": [],
   "source": [
    "with open('data_v_word_counts_20150713.csv', 'w') as f:\n",
    "    f.write('url|protocol|raw|distinct\\n')\n",
    "    f.write('\\n'.join(stats))"
   ]
  },
  {
   "cell_type": "code",
   "execution_count": 30,
   "metadata": {
    "collapsed": false
   },
   "outputs": [
    {
     "data": {
      "text/plain": [
       "44"
      ]
     },
     "execution_count": 30,
     "metadata": {},
     "output_type": "execute_result"
    }
   ],
   "source": [
    "len(stats)"
   ]
  },
  {
   "cell_type": "code",
   "execution_count": null,
   "metadata": {
    "collapsed": true
   },
   "outputs": [],
   "source": []
  },
  {
   "cell_type": "markdown",
   "metadata": {
    "collapsed": true
   },
   "source": [
    "### the next steps\n",
    "\n",
    "run the counts\n",
    "\n",
    "get some samples by protocol (hook up postgres and do that)\n",
    "\n",
    "run the linear regression\n",
    "\n",
    "let's make a chart!\n"
   ]
  },
  {
   "cell_type": "code",
   "execution_count": 1,
   "metadata": {
    "collapsed": false
   },
   "outputs": [
    {
     "data": {
      "text/plain": [
       "32"
      ]
     },
     "execution_count": 1,
     "metadata": {},
     "output_type": "execute_result"
    }
   ],
   "source": [
    "# len('82A5DD195658CBECE040AC8C5AB41A40') = 32\n",
    "\n",
    "\n"
   ]
  },
  {
   "cell_type": "code",
   "execution_count": null,
   "metadata": {
    "collapsed": true
   },
   "outputs": [],
   "source": []
  },
  {
   "cell_type": "code",
   "execution_count": null,
   "metadata": {
    "collapsed": true
   },
   "outputs": [],
   "source": []
  },
  {
   "cell_type": "markdown",
   "metadata": {},
   "source": [
    "## THIS IS OUT-OF-DATE \n",
    "\n",
    "but hanging on to it for a bit."
   ]
  },
  {
   "cell_type": "code",
   "execution_count": 45,
   "metadata": {
    "collapsed": false
   },
   "outputs": [
    {
     "data": {
      "text/plain": [
       "[('../solr_superset/bags_of_words_no_dupes/0005001cd381e9613dc44fe6efafdf08_parsed_bow.txt',\n",
       "  178,\n",
       "  u'ISO-19115'),\n",
       " ('../solr_superset/bags_of_words_no_dupes/00164fc758489d7c671f939d6c533bad_parsed_bow.txt',\n",
       "  107,\n",
       "  u'ISO-19115'),\n",
       " ('../solr_superset/bags_of_words_no_dupes/001ef148783e50940d569316c6b6d608_parsed_bow.txt',\n",
       "  4,\n",
       "  u'UNIDATA'),\n",
       " ('../solr_superset/bags_of_words_no_dupes/003492e5f3a49d31f697200a7f427122_parsed_bow.txt',\n",
       "  182,\n",
       "  u'ISO-19115'),\n",
       " ('../solr_superset/bags_of_words_no_dupes/004749541a8acce4f454dd95f6b0c4c9_parsed_bow.txt',\n",
       "  3,\n",
       "  u'OpenSearch')]"
      ]
     },
     "execution_count": 45,
     "metadata": {},
     "output_type": "execute_result"
    }
   ],
   "source": [
    "import os\n",
    "import glob\n",
    "import json\n",
    "\n",
    "identified_bows = []\n",
    "\n",
    "for f in glob.glob('../solr_superset/bags_of_words_no_dupes/*.txt'):\n",
    "    with open(f, 'r') as g:\n",
    "        bow = g.read()\n",
    "    \n",
    "    c = len([b for b in bow.split() if b])\n",
    "    \n",
    "    basename = os.path.basename(f).split('_')[0]\n",
    "    \n",
    "    # go get the identified result and see what it is\n",
    "    ip = os.path.join('../solr_superset/identified/', basename + '_identified.json')\n",
    "    if not os.path.exists(ip):\n",
    "        print 'missing file: ', ip\n",
    "        continue\n",
    "    \n",
    "    with open(ip, 'r') as g:\n",
    "        data = json.loads(g.read())\n",
    "    \n",
    "    protocol = data.get('identity', {}).get('protocol', '')\n",
    "    \n",
    "    if not protocol:\n",
    "        print 'no identity: ', f\n",
    "        continue\n",
    "    \n",
    "    identified_bows.append((f, c, protocol))\n",
    "\n",
    "identified_bows[:5]\n"
   ]
  },
  {
   "cell_type": "code",
   "execution_count": null,
   "metadata": {
    "collapsed": true
   },
   "outputs": [],
   "source": [
    "# let's make some better bags of words\n"
   ]
  },
  {
   "cell_type": "code",
   "execution_count": 41,
   "metadata": {
    "collapsed": false
   },
   "outputs": [
    {
     "data": {
      "text/plain": [
       "{'mean': {u'ISO-19115': 105.63237979306147,\n",
       "  u'OAI-PMH': 3.2941176470588234,\n",
       "  u'OGC:CSW': 19.0,\n",
       "  u'OGC:SOS': 81.333333333333329,\n",
       "  u'OGC:WCS': 33.81818181818182,\n",
       "  u'OGC:WFS': 19.572815533980581,\n",
       "  u'OGC:WMS': 51.650406504065039,\n",
       "  u'OpenSearch': 10.553088803088803,\n",
       "  u'UNIDATA': 9.5384615384615383}}"
      ]
     },
     "execution_count": 41,
     "metadata": {},
     "output_type": "execute_result"
    },
    {
     "data": {
      "image/png": "[encoded data removed]",
      "text/plain": [
       "<matplotlib.figure.Figure at 0x107fa45d0>"
      ]
     },
     "metadata": {},
     "output_type": "display_data"
    }
   ],
   "source": [
    "import pandas as pd\n",
    "import numpy as np\n",
    "\n",
    "\n",
    "pd.set_option('precision',2)\n",
    "\n",
    "df = pd.DataFrame(identified_bows, columns=['file', 'count', 'protocol'])\n",
    "\n",
    "p_df = df.groupby(df['protocol'])\n",
    "#p_df.agg([np.mean])\n",
    "\n",
    "p_df = df.groupby(df['protocol']).agg({'count': {'mean':'mean'}})\n",
    "\n",
    "p_df.columns = p_df.columns.droplevel(0)\n",
    "\n",
    "df.groupby(df['protocol']).agg({'count': {'mean':'mean'}})['count'].hist()\n",
    "\n",
    "p_dt = p_df.to_dict()\n",
    "\n",
    "p_dt"
   ]
  },
  {
   "cell_type": "code",
   "execution_count": 40,
   "metadata": {
    "collapsed": false
   },
   "outputs": [
    {
     "data": {
      "text/html": [
       "<div style=\"max-height:1000px;max-width:1500px;overflow:auto;\">\n",
       "<table border=\"1\" class=\"dataframe\">\n",
       "  <thead>\n",
       "    <tr style=\"text-align: right;\">\n",
       "      <th></th>\n",
       "      <th>mean</th>\n",
       "    </tr>\n",
       "    <tr>\n",
       "      <th>protocol</th>\n",
       "      <th></th>\n",
       "    </tr>\n",
       "  </thead>\n",
       "  <tbody>\n",
       "    <tr>\n",
       "      <th>ISO-19115</th>\n",
       "      <td> 105.6</td>\n",
       "    </tr>\n",
       "    <tr>\n",
       "      <th>OAI-PMH</th>\n",
       "      <td>   3.3</td>\n",
       "    </tr>\n",
       "    <tr>\n",
       "      <th>OGC:CSW</th>\n",
       "      <td>  19.0</td>\n",
       "    </tr>\n",
       "    <tr>\n",
       "      <th>OGC:SOS</th>\n",
       "      <td>  81.3</td>\n",
       "    </tr>\n",
       "    <tr>\n",
       "      <th>OGC:WCS</th>\n",
       "      <td>  33.8</td>\n",
       "    </tr>\n",
       "    <tr>\n",
       "      <th>OGC:WFS</th>\n",
       "      <td>  19.6</td>\n",
       "    </tr>\n",
       "    <tr>\n",
       "      <th>OGC:WMS</th>\n",
       "      <td>  51.7</td>\n",
       "    </tr>\n",
       "    <tr>\n",
       "      <th>OpenSearch</th>\n",
       "      <td>  10.6</td>\n",
       "    </tr>\n",
       "    <tr>\n",
       "      <th>UNIDATA</th>\n",
       "      <td>   9.5</td>\n",
       "    </tr>\n",
       "  </tbody>\n",
       "</table>\n",
       "</div>"
      ],
      "text/plain": [
       "             mean\n",
       "protocol         \n",
       "ISO-19115   105.6\n",
       "OAI-PMH       3.3\n",
       "OGC:CSW      19.0\n",
       "OGC:SOS      81.3\n",
       "OGC:WCS      33.8\n",
       "OGC:WFS      19.6\n",
       "OGC:WMS      51.7\n",
       "OpenSearch   10.6\n",
       "UNIDATA       9.5"
      ]
     },
     "execution_count": 40,
     "metadata": {},
     "output_type": "execute_result"
    }
   ],
   "source": [
    "#new_df = p_df.agg([np.mean])\n",
    "new_df['count']\n"
   ]
  },
  {
   "cell_type": "code",
   "execution_count": 43,
   "metadata": {
    "collapsed": false
   },
   "outputs": [
    {
     "ename": "SyntaxError",
     "evalue": "invalid syntax (<ipython-input-43-169aae5eeb7b>, line 9)",
     "output_type": "error",
     "traceback": [
      "\u001b[0;36m  File \u001b[0;32m\"<ipython-input-43-169aae5eeb7b>\"\u001b[0;36m, line \u001b[0;32m9\u001b[0m\n\u001b[0;31m    xticks(xLocations+200/2, p_dt['mean'].keys())\u001b[0m\n\u001b[0m         ^\u001b[0m\n\u001b[0;31mSyntaxError\u001b[0m\u001b[0;31m:\u001b[0m invalid syntax\n"
     ]
    }
   ],
   "source": [
    "import matplotlib.pyplot as plt\n",
    "%matplotlib inline\n",
    "\n",
    "xlocations = np.array(range(len(p_dt['mean'].keys())))+0.5\n",
    "\n",
    "fig, ax = plt.subplots()\n",
    "\n",
    "ax.bar(xLocations, p_dt['mean'].values(0, width=200)\n",
    "xticks(xLocations+200/2, p_dt['mean'].keys())\n",
    "\n",
    "plt.show()"
   ]
  },
  {
   "cell_type": "code",
   "execution_count": null,
   "metadata": {
    "collapsed": true
   },
   "outputs": [],
   "source": []
  }
 ],
 "metadata": {
  "kernelspec": {
   "display_name": "Python 2",
   "language": "python",
   "name": "python2"
  },
  "language_info": {
   "codemirror_mode": {
    "name": "ipython",
    "version": 2
   },
   "file_extension": ".py",
   "mimetype": "text/x-python",
   "name": "python",
   "nbconvert_exporter": "python",
   "pygments_lexer": "ipython2",
   "version": "2.7.10"
  }
 },
 "nbformat": 4,
 "nbformat_minor": 0
}
