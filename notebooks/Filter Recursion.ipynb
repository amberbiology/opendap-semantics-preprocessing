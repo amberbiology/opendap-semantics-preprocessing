{
 "metadata": {
  "name": "",
  "signature": "sha256:c621c7f2bceeb1e3de321f6012ce4e09fa3d60e165f768d9af117495cbd10ae2"
 },
 "nbformat": 3,
 "nbformat_minor": 0,
 "worksheets": [
  {
   "cells": [
    {
     "cell_type": "code",
     "collapsed": false,
     "input": [
      "\n",
      "def _evaluate(clauses, sums):\n",
      "    '''\n",
      "    evaluate a list a dicts where the key is\n",
      "    the operator and the value is a list of\n",
      "    booleans\n",
      "    '''\n",
      "    print 'init:', clauses\n",
      "    print 'init:', sums\n",
      "    if isinstance(clauses, bool):\n",
      "        # so this should be the rolled up value\n",
      "        print 'final:', clauses\n",
      "        return clauses\n",
      "\n",
      "    for k, v in clauses.iteritems():\n",
      "        if isinstance(v, dict):\n",
      "            print 'is dict', v\n",
      "            return sums + _evaluate(v, 0)\n",
      "        elif isinstance(v, list) and not all(isinstance(i, bool) for i in v):\n",
      "            # TODO: this is not a good assumption\n",
      "            print 'list'\n",
      "            for i in v:\n",
      "                print '\\t', i\n",
      "                sums += _evaluate(i, 0)\n",
      "            return sums\n",
      "        if k == 'ands':\n",
      "            # everything must be true\n",
      "            sums += sum(v) == len(v)\n",
      "            print '\\t', k, v, sums\n",
      "        elif k == 'ors':\n",
      "            # any one must be true\n",
      "            sums += sum(v) > 0\n",
      "            print '\\t', k, v, sums\n",
      "\n",
      "    print 'return:', sums\n",
      "    return sums\n",
      "\n",
      "\n",
      "evals = {'ors': [{'ands': [False, True]}, {'ands': [True, True]}]}\n",
      "_evaluate(evals, 0)\n",
      "\n"
     ],
     "language": "python",
     "metadata": {},
     "outputs": [
      {
       "output_type": "stream",
       "stream": "stdout",
       "text": [
        "init: {'ors': [{'ands': [False, True]}, {'ands': [True, True]}]}\n",
        "init: 0\n",
        "list\n",
        "\t{'ands': [False, True]}\n",
        "init: {'ands': [False, True]}\n",
        "init: 0\n",
        "\tands [False, True] 0\n",
        "return: 0\n",
        "\t{'ands': [True, True]}\n",
        "init: {'ands': [True, True]}\n",
        "init: 0\n",
        "\tands [True, True] 1\n",
        "return: 1\n"
       ]
      },
      {
       "metadata": {},
       "output_type": "pyout",
       "prompt_number": 8,
       "text": [
        "1"
       ]
      }
     ],
     "prompt_number": 8
    },
    {
     "cell_type": "code",
     "collapsed": false,
     "input": [
      "evals = {'ors': [{'ors': [False, True]}, {'ors': [True, True]}]}\n",
      "_evaluate(evals, 0)"
     ],
     "language": "python",
     "metadata": {},
     "outputs": [
      {
       "output_type": "stream",
       "stream": "stdout",
       "text": [
        "init: {'ors': [{'ors': [False, True]}, {'ors': [True, True]}]}\n",
        "init: 0\n",
        "list\n",
        "\t{'ors': [False, True]}\n",
        "init: {'ors': [False, True]}\n",
        "init: 0\n",
        "\tors [False, True] 1\n",
        "return: 1\n",
        "\t{'ors': [True, True]}\n",
        "init: {'ors': [True, True]}\n",
        "init: 0\n",
        "\tors [True, True] 1\n",
        "return: 1\n"
       ]
      },
      {
       "metadata": {},
       "output_type": "pyout",
       "prompt_number": 9,
       "text": [
        "2"
       ]
      }
     ],
     "prompt_number": 9
    },
    {
     "cell_type": "code",
     "collapsed": false,
     "input": [
      "evals = {'ors': [{'ands': [False, True]}, {'ands': [True, False]}]}\n",
      "_evaluate(evals, 0)"
     ],
     "language": "python",
     "metadata": {},
     "outputs": [
      {
       "output_type": "stream",
       "stream": "stdout",
       "text": [
        "init: {'ors': [{'ands': [False, True]}, {'ands': [True, False]}]}\n",
        "init: 0\n",
        "list\n",
        "\t{'ands': [False, True]}\n",
        "init: {'ands': [False, True]}\n",
        "init: 0\n",
        "\tands [False, True] 0\n",
        "return: 0\n",
        "\t{'ands': [True, False]}\n",
        "init: {'ands': [True, False]}\n",
        "init: 0\n",
        "\tands [True, False] 0\n",
        "return: 0\n"
       ]
      },
      {
       "metadata": {},
       "output_type": "pyout",
       "prompt_number": 10,
       "text": [
        "0"
       ]
      }
     ],
     "prompt_number": 10
    },
    {
     "cell_type": "code",
     "collapsed": false,
     "input": [],
     "language": "python",
     "metadata": {},
     "outputs": []
    }
   ],
   "metadata": {}
  }
 ]
}