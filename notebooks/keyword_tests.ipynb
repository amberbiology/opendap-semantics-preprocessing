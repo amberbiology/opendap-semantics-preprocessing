{
 "metadata": {
  "name": "",
  "signature": "sha256:63943f29e368312177b6cb8ab0a9851fed1ca06e8edc240cead52949dcfb8f57"
 },
 "nbformat": 3,
 "nbformat_minor": 0,
 "worksheets": [
  {
   "cells": [
    {
     "cell_type": "markdown",
     "metadata": {},
     "source": [
      "### Keyword Splitting tests\n",
      "\n",
      "See semantics-preprocessing [Issue #8](https://github.com/b-cube/semantics-preprocessing/issues/8)\n",
      "\n",
      "So how do we take some text structure from an unknown, but parsable, metadata source and make it usable by some NLP or other feature characterization method? In some standards, we have a keyword structure that is an implied list (keywords.keyword, etc) but, even within that structure, the free text as \"keyword\" can be some char-delimited list of terms based on the source's metadata generation practices. For example, a keyword text element can be the \">\"-delimited hierarchy of GCMD terms (we can debate the necessity of splitting those structures based on other characterization needs later). \n",
      "\n",
      "In addition, those terms can be phrases so a naive \"split on whitespace\" is an issue.\n",
      "\n",
      "Our test strings as a set of tuples (label, string to test):"
     ]
    },
    {
     "cell_type": "code",
     "collapsed": false,
     "input": [
      "keyword_strings = [\n",
      "    (\"Basic comma-delimited singletons\", \"soil, clay, pedon, loam\"),\n",
      "    (\"Basic comma-delimited singletons and phrases\", \"soil, clay, silty clay, silty loam\"),\n",
      "    (\"Whitespace-delimited singletons (DC, OpenSearch)\", \"soil clay pedon loam\"),\n",
      "    (\"GCMD Term List\", \"EARTH SCIENCE > Oceans > Bathymetry/Seafloor Topography > Seafloor Topography\"),\n",
      "    (\"An actual phrase/sentence\", \"Hydrographic Surveys for Selected Locations Within the United States (hydro_bathy_2006)\"),\n",
      "\n",
      "]"
     ],
     "language": "python",
     "metadata": {},
     "outputs": []
    },
    {
     "cell_type": "markdown",
     "metadata": {},
     "source": []
    }
   ],
   "metadata": {}
  }
 ]
}