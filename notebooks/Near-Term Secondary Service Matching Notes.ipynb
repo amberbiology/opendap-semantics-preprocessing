{
 "cells": [
  {
   "cell_type": "markdown",
   "metadata": {},
   "source": [
    "Notes for the near-term \"Can we match some secondary service request to a service request in the previous harvests?\"\n",
    "\n",
    "Maybe. Likely. We'll see.\n",
    "\n",
    "ogc should be straightforward.\n",
    "ignore thredds for now.\n",
    "oai-pmh also okay.\n",
    "not actually sure about opensearch.\n",
    "\n",
    "the preprocessing:\n",
    "    put together the set of base urls as a rough cut (if bases don't match, bail)\n",
    "    for base urls that match, check the expected query parameters\n",
    "    if match, relate as parent service.\n",
    "    if not, bail."
   ]
  },
  {
   "cell_type": "code",
   "execution_count": null,
   "metadata": {
    "collapsed": true
   },
   "outputs": [],
   "source": []
  }
 ],
 "metadata": {
  "kernelspec": {
   "display_name": "Python 2",
   "language": "python",
   "name": "python2"
  },
  "language_info": {
   "codemirror_mode": {
    "name": "ipython",
    "version": 2
   },
   "file_extension": ".py",
   "mimetype": "text/x-python",
   "name": "python",
   "nbconvert_exporter": "python",
   "pygments_lexer": "ipython2",
   "version": "2.7.10"
  }
 },
 "nbformat": 4,
 "nbformat_minor": 0
}
