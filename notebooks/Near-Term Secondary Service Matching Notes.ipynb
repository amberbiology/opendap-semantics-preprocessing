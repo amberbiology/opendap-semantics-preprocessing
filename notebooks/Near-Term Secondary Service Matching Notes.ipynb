{
 "cells": [
  {
   "cell_type": "markdown",
   "metadata": {},
   "source": [
    "Notes for the near-term \"Can we match some secondary service request to a service request in the previous harvests?\"\n",
    "\n",
    "Maybe. Likely. We'll see.\n",
    "\n",
    "ogc should be straightforward.\n",
    "ignore thredds for now.\n",
    "oai-pmh also okay.\n",
    "not actually sure about opensearch.\n",
    "\n",
    "the preprocessing:\n",
    "    put together the set of base urls as a rough cut (if bases don't match, bail)\n",
    "    for base urls that match, check the expected query parameters\n",
    "    if match, relate as parent service.\n",
    "    if not, bail. "
   ]
  },
  {
   "cell_type": "code",
   "execution_count": 22,
   "metadata": {
    "collapsed": true
   },
   "outputs": [],
   "source": [
    "import os\n",
    "import csv\n",
    "import json\n",
    "import urllib, urlparse\n",
    "from itertools import izip"
   ]
  },
  {
   "cell_type": "code",
   "execution_count": null,
   "metadata": {
    "collapsed": true
   },
   "outputs": [],
   "source": [
    "# with open('harvest_baseurls.txt', 'r') as f:\n",
    "#     base_urls = [a.strip() for a in f.readlines()]"
   ]
  },
  {
   "cell_type": "code",
   "execution_count": 10,
   "metadata": {
    "collapsed": false
   },
   "outputs": [],
   "source": [
    "with open('harvest_urls_by_protocol.txt', 'r') as f:\n",
    "    response_urls = [a.replace('\"', '').strip().split('||') for a in f.readlines()[1:]]"
   ]
  },
  {
   "cell_type": "code",
   "execution_count": 11,
   "metadata": {
    "collapsed": false
   },
   "outputs": [
    {
     "name": "stdout",
     "output_type": "stream",
     "text": [
      "[['http://107.20.228.18/arcgis/services/Wetlands/MapServer/WMSServer?request=GetCapabilities&service=WMS', 'OGC:WMS'], ['http://10ncee.org/?format=feed&type=atom', 'ATOM'], ['http://10ncee.org/?format=feed&type=rss', 'ATOM']]\n"
     ]
    }
   ],
   "source": [
    "print response_urls[:3]"
   ]
  },
  {
   "cell_type": "code",
   "execution_count": 69,
   "metadata": {
    "collapsed": false
   },
   "outputs": [],
   "source": [
    "nesting = {}\n",
    "for source_url, protocol in response_urls:\n",
    "    if protocol in ['DDI', 'FGDC', 'WordPress'] \\\n",
    "        or 'demo.mapserver.org' in source_url or 'opendap' in source_url \\\n",
    "        or 'ISO-' in protocol or 'KeywordSearch' in source_url or 'ToolsUI.jnlp?' in source_url:\n",
    "        continue\n",
    "    source_url = urllib.unquote(source_url)\n",
    "    parts = urlparse.urlparse(source_url)\n",
    "    \n",
    "    base = urlparse.urlunparse((\n",
    "        parts.scheme, parts.netloc, parts.path, None, None, None\n",
    "        ))\n",
    "    \n",
    "    bases = nesting.get(base, [])\n",
    "    params = dict( (k.lower(), v if len(v)>1 else list(set(v))[0] ) \n",
    "           for k, v in urlparse.parse_qs(parts.query).iteritems() )\n",
    "    \n",
    "    bases.append((protocol, source_url, params))\n",
    "    nesting[base] = bases\n",
    "\n",
    "# print [nesting[k] for k in nesting.keys()[:10]]"
   ]
  },
  {
   "cell_type": "code",
   "execution_count": 70,
   "metadata": {
    "collapsed": true
   },
   "outputs": [],
   "source": [
    "potentials = {k:v for k, v in nesting.iteritems() if len(v) > 1}"
   ]
  },
  {
   "cell_type": "code",
   "execution_count": 71,
   "metadata": {
    "collapsed": false
   },
   "outputs": [
    {
     "data": {
      "text/plain": [
       "[[('ATOM',\n",
       "   'http://www.openaccessweek.org/profiles/friend/feed?user=0ehknuk3zjb7w&xn_auth=no',\n",
       "   {'user': '0ehknuk3zjb7w', 'xn_auth': 'no'}),\n",
       "  ('ATOM',\n",
       "   'http://www.openaccessweek.org/profiles/friend/feed?user=2c52kvye8oxrd&xn_auth=no',\n",
       "   {'user': '2c52kvye8oxrd', 'xn_auth': 'no'}),\n",
       "  ('ATOM',\n",
       "   'http://www.openaccessweek.org/profiles/friend/feed?user=2mvlhwd1uivbe&xn_auth=no',\n",
       "   {'user': '2mvlhwd1uivbe', 'xn_auth': 'no'}),\n",
       "  ('ATOM',\n",
       "   'http://www.openaccessweek.org/profiles/friend/feed?xn_auth=no&sort=mostRecent&page=1',\n",
       "   {'page': '1', 'sort': 'mostRecent', 'xn_auth': 'no'})],\n",
       " [('ATOM',\n",
       "   'http://www.nottingham.ac.uk/Biosciences/business/business.aspx?EventsStandardandMiniCombo_MiniList_SyndicationType=2',\n",
       "   {'eventsstandardandminicombo_minilist_syndicationtype': '2'}),\n",
       "  ('ATOM',\n",
       "   'http://www.nottingham.ac.uk/Biosciences/business/business.aspx?EventsStandardandMiniCombo_StandardList_SyndicationType=2',\n",
       "   {'eventsstandardandminicombo_standardlist_syndicationtype': '2'}),\n",
       "  ('ATOM',\n",
       "   'http://www.nottingham.ac.uk/Biosciences/business/business.aspx?MiniListing_SyndicationType=2',\n",
       "   {'minilisting_syndicationtype': '2'}),\n",
       "  ('ATOM',\n",
       "   'http://www.nottingham.ac.uk/Biosciences/business/business.aspx?SyndicationType=2',\n",
       "   {'syndicationtype': '2'})],\n",
       " [('RDF', 'http://www.opendoar.org/rss1data.php', {}),\n",
       "  ('RDF',\n",
       "   'http://www.opendoar.org/rss1data.php?rss=&step=20&cID=4&format=summary',\n",
       "   {'cid': '4', 'format': 'summary', 'step': '20'}),\n",
       "  ('RDF',\n",
       "   'http://www.opendoar.org/rss1data.php?rss=&step=20&format=summary',\n",
       "   {'format': 'summary', 'step': '20'}),\n",
       "  ('RDF',\n",
       "   'http://www.opendoar.org/rss1data.php?rss=&step=20&oID=2267&format=summary&search=University',\n",
       "   {'format': 'summary', 'oid': '2267', 'search': 'University', 'step': '20'}),\n",
       "  ('RDF',\n",
       "   'http://www.opendoar.org/rss1data.php?rss=&step=50&rSoftWareName=DigiTool&format=titles',\n",
       "   {'format': 'titles', 'rsoftwarename': 'DigiTool', 'step': '50'}),\n",
       "  ('RDF',\n",
       "   'http://www.opendoar.org/rss1data.php?rss=&step=50&rSoftWareName=Digital+Commons&format=titles',\n",
       "   {'format': 'titles', 'rsoftwarename': 'Digital Commons', 'step': '50'})],\n",
       " [('Sitemap',\n",
       "   'http://encdirect.noaa.gov/arcgis/rest/services/usace?f=geositemap',\n",
       "   {'f': 'geositemap'}),\n",
       "  ('Sitemap',\n",
       "   'http://encdirect.noaa.gov/arcgis/rest/services/usace?f=sitemap',\n",
       "   {'f': 'sitemap'})],\n",
       " [('',\n",
       "   'http://www.ituc-csi.org/oembed.api/?format=xml&url=http://www.ituc-csi.org/an-ambitious-climate-agreement',\n",
       "   {'format': 'xml',\n",
       "    'url': 'http://www.ituc-csi.org/an-ambitious-climate-agreement'}),\n",
       "  ('',\n",
       "   'http://www.ituc-csi.org/oembed.api/?format=xml&url=http://www.ituc-csi.org/belgium-fgtb-abvv',\n",
       "   {'format': 'xml', 'url': 'http://www.ituc-csi.org/belgium-fgtb-abvv'}),\n",
       "  ('',\n",
       "   'http://www.ituc-csi.org/oembed.api/?format=xml&url=http://www.ituc-csi.org/creating-quality-jobs-and',\n",
       "   {'format': 'xml',\n",
       "    'url': 'http://www.ituc-csi.org/creating-quality-jobs-and'}),\n",
       "  ('',\n",
       "   'http://www.ituc-csi.org/oembed.api/?format=xml&url=http://www.ituc-csi.org/espaldarazo-del-tribunal-supremo',\n",
       "   {'format': 'xml',\n",
       "    'url': 'http://www.ituc-csi.org/espaldarazo-del-tribunal-supremo'}),\n",
       "  ('',\n",
       "   'http://www.ituc-csi.org/oembed.api/?format=xml&url=http://www.ituc-csi.org/iraq-grave-fears-for-kidnapped',\n",
       "   {'format': 'xml',\n",
       "    'url': 'http://www.ituc-csi.org/iraq-grave-fears-for-kidnapped'}),\n",
       "  ('',\n",
       "   'http://www.ituc-csi.org/oembed.api/?format=xml&url=http://www.ituc-csi.org/la-juventud-trabajadora-pide-a-los',\n",
       "   {'format': 'xml',\n",
       "    'url': 'http://www.ituc-csi.org/la-juventud-trabajadora-pide-a-los'}),\n",
       "  ('',\n",
       "   'http://www.ituc-csi.org/oembed.api/?format=xml&url=http://www.ituc-csi.org/manifiesto-en-defensa-del-derecho',\n",
       "   {'format': 'xml',\n",
       "    'url': 'http://www.ituc-csi.org/manifiesto-en-defensa-del-derecho'}),\n",
       "  ('',\n",
       "   'http://www.ituc-csi.org/oembed.api/?format=xml&url=http://www.ituc-csi.org/nuestro-futuro-no-puede-ponerse-en',\n",
       "   {'format': 'xml',\n",
       "    'url': 'http://www.ituc-csi.org/nuestro-futuro-no-puede-ponerse-en'}),\n",
       "  ('',\n",
       "   'http://www.ituc-csi.org/oembed.api/?format=xml&url=http://www.ituc-csi.org/primer-plano-de-carlos-mamani',\n",
       "   {'format': 'xml',\n",
       "    'url': 'http://www.ituc-csi.org/primer-plano-de-carlos-mamani'}),\n",
       "  ('',\n",
       "   'http://www.ituc-csi.org/oembed.api/?format=xml&url=http://www.ituc-csi.org/swaziland-detention-of-mario',\n",
       "   {'format': 'xml',\n",
       "    'url': 'http://www.ituc-csi.org/swaziland-detention-of-mario'}),\n",
       "  ('',\n",
       "   'http://www.ituc-csi.org/oembed.api/?format=xml&url=http://www.ituc-csi.org/the-g20-s-employment-working-group',\n",
       "   {'format': 'xml',\n",
       "    'url': 'http://www.ituc-csi.org/the-g20-s-employment-working-group'}),\n",
       "  ('',\n",
       "   'http://www.ituc-csi.org/oembed.api/?format=xml&url=http://www.ituc-csi.org/trade-union-focus-on-development-14918?lang=en',\n",
       "   {'format': 'xml',\n",
       "    'url': 'http://www.ituc-csi.org/trade-union-focus-on-development-14918?lang=en'}),\n",
       "  ('',\n",
       "   'http://www.ituc-csi.org/oembed.api/?format=xml&url=http://www.ituc-csi.org/trade-unions-as-advocates-of',\n",
       "   {'format': 'xml',\n",
       "    'url': 'http://www.ituc-csi.org/trade-unions-as-advocates-of'}),\n",
       "  ('',\n",
       "   'http://www.ituc-csi.org/oembed.api/?format=xml&url=http://www.ituc-csi.org/union-of-green-climate-change',\n",
       "   {'format': 'xml',\n",
       "    'url': 'http://www.ituc-csi.org/union-of-green-climate-change'}),\n",
       "  ('',\n",
       "   'http://www.ituc-csi.org/oembed.api/?format=xml&url=http://www.ituc-csi.org/women-s-equality-campaign-moves-to',\n",
       "   {'format': 'xml',\n",
       "    'url': 'http://www.ituc-csi.org/women-s-equality-campaign-moves-to'})],\n",
       " [('RSS',\n",
       "   'http://www.lung.org/system/rss/channel.jsp?subsiteID=55336064&feed=feed-88069444&feedFormat=rss2',\n",
       "   {'feed': 'feed-88069444', 'feedformat': 'rss2', 'subsiteid': '55336064'}),\n",
       "  ('RSS',\n",
       "   'http://www.lung.org/system/rss/channel.jsp?subsiteID=55336064&feed=feed-88133330&feedFormat=rss2',\n",
       "   {'feed': 'feed-88133330', 'feedformat': 'rss2', 'subsiteid': '55336064'})],\n",
       " [('ATOM',\n",
       "   'http://www.nottingham.ac.uk/ugstudy/undergraduateprospectus.aspx?SyndicationType=2',\n",
       "   {'syndicationtype': '2'}),\n",
       "  ('ATOM',\n",
       "   'http://www.nottingham.ac.uk/ugstudy/undergraduateprospectus.aspx?UGHomepageRotate_List_GoToPage=2&UGHomepageRotate_SyndicationType=2',\n",
       "   {'ughomepagerotate_list_gotopage': '2',\n",
       "    'ughomepagerotate_syndicationtype': '2'}),\n",
       "  ('ATOM',\n",
       "   'http://www.nottingham.ac.uk/ugstudy/undergraduateprospectus.aspx?UGHomepageRotate_SyndicationType=2',\n",
       "   {'ughomepagerotate_syndicationtype': '2'})],\n",
       " [('',\n",
       "   'http://mrdata.usgs.gov/wfs/digitized?request=describefeaturetype&service=WFS&version=1.1.0&typename=digitized,digital',\n",
       "   {'request': 'describefeaturetype',\n",
       "    'service': 'WFS',\n",
       "    'typename': 'digitized,digital',\n",
       "    'version': '1.1.0'}),\n",
       "  ('OGC:WFS',\n",
       "   'http://mrdata.usgs.gov/wfs/digitized?request=getcapabilities&service=WFS&version=1.1.0',\n",
       "   {'request': 'getcapabilities', 'service': 'WFS', 'version': '1.1.0'}),\n",
       "  ('OGC:WFS',\n",
       "   'http://mrdata.usgs.gov/wfs/digitized?request=getfeature&service=WFS&version=1.1.0&typename=digitized,digital&maxfeatures=10',\n",
       "   {'maxfeatures': '10',\n",
       "    'request': 'getfeature',\n",
       "    'service': 'WFS',\n",
       "    'typename': 'digitized,digital',\n",
       "    'version': '1.1.0'})],\n",
       " [('',\n",
       "   'http://api.plos.org/search?q=*:*&fq=doc_type:full&fl=id,title,counter_total_all&sort=counter_total_all desc&api_key=DEMO',\n",
       "   {'api_key': 'DEMO',\n",
       "    'fl': 'id,title,counter_total_all',\n",
       "    'fq': 'doc_type:full',\n",
       "    'q': '*:*',\n",
       "    'sort': 'counter_total_all desc'}),\n",
       "  ('',\n",
       "   'http://api.plos.org/search?q=*:*&fq=doc_type:full&fl=id,title,counter_total_all,counter_total_month,alm_scopusCiteCount,alm_citeulikeCount,alm_connoteaCount,alm_mendeleyCount,alm_twitterCount,alm_facebookCount,alm_pmc_usage_total_all&api_key=DEMO',\n",
       "   {'api_key': 'DEMO',\n",
       "    'fl': 'id,title,counter_total_all,counter_total_month,alm_scopusCiteCount,alm_citeulikeCount,alm_connoteaCount,alm_mendeleyCount,alm_twitterCount,alm_facebookCount,alm_pmc_usage_total_all',\n",
       "    'fq': 'doc_type:full',\n",
       "    'q': '*:*'}),\n",
       "  ('ATOM',\n",
       "   'http://api.plos.org/search?q=*:*&fq=doc_type:full&fl=id,title_display,abstract,publication_date&sort=counter_total_month desc&api_key=DEMO&wt=xslt&tr=atom.xsl',\n",
       "   {'api_key': 'DEMO',\n",
       "    'fl': 'id,title_display,abstract,publication_date',\n",
       "    'fq': 'doc_type:full',\n",
       "    'q': '*:*',\n",
       "    'sort': 'counter_total_month desc',\n",
       "    'tr': 'atom.xsl',\n",
       "    'wt': 'xslt'})],\n",
       " [('ATOM',\n",
       "   'https://www.royalholloway.ac.uk/classics/home.aspx?PGcourseslist_SyndicationType=2',\n",
       "   {'pgcourseslist_syndicationtype': '2'}),\n",
       "  ('ATOM',\n",
       "   'https://www.royalholloway.ac.uk/classics/home.aspx?UGcourseslist_SyndicationType=2',\n",
       "   {'ugcourseslist_syndicationtype': '2'})]]"
      ]
     },
     "execution_count": 71,
     "metadata": {},
     "output_type": "execute_result"
    }
   ],
   "source": [
    "[nesting[k] for k in potentials.keys()[:10]]"
   ]
  },
  {
   "cell_type": "code",
   "execution_count": 74,
   "metadata": {
    "collapsed": false
   },
   "outputs": [
    {
     "name": "stdout",
     "output_type": "stream",
     "text": [
      "wtf {'layers': 'bluemarble,TRMM_3B42_V6_DAILY', 'format': 'PNG', 'request': 'GetMap', 'height': '800', 'width': '1500', 'version': '1.1.1', 'bbox': '-180,-90,180,90', 'time': '2006-09-11', 'srs': 'epsg:4326'}\n"
     ]
    },
    {
     "data": {
      "text/plain": [
       "[('http://www.openaccessweek.org/profiles/friend/feed?user=0ehknuk3zjb7w&xn_auth=no',\n",
       "  'http://www.openaccessweek.org/profiles/friend/feed?user=2c52kvye8oxrd&xn_auth=no'),\n",
       " ('http://www.openaccessweek.org/profiles/friend/feed?user=0ehknuk3zjb7w&xn_auth=no',\n",
       "  'http://www.openaccessweek.org/profiles/friend/feed?user=2mvlhwd1uivbe&xn_auth=no'),\n",
       " ('http://www.openaccessweek.org/profiles/friend/feed?user=0ehknuk3zjb7w&xn_auth=no',\n",
       "  'http://www.openaccessweek.org/profiles/friend/feed?xn_auth=no&sort=mostRecent&page=1'),\n",
       " ('http://www.openaccessweek.org/profiles/friend/feed?user=2c52kvye8oxrd&xn_auth=no',\n",
       "  'http://www.openaccessweek.org/profiles/friend/feed?user=0ehknuk3zjb7w&xn_auth=no'),\n",
       " ('http://www.openaccessweek.org/profiles/friend/feed?user=2c52kvye8oxrd&xn_auth=no',\n",
       "  'http://www.openaccessweek.org/profiles/friend/feed?user=2mvlhwd1uivbe&xn_auth=no'),\n",
       " ('http://www.openaccessweek.org/profiles/friend/feed?user=2c52kvye8oxrd&xn_auth=no',\n",
       "  'http://www.openaccessweek.org/profiles/friend/feed?xn_auth=no&sort=mostRecent&page=1'),\n",
       " ('http://www.openaccessweek.org/profiles/friend/feed?user=2mvlhwd1uivbe&xn_auth=no',\n",
       "  'http://www.openaccessweek.org/profiles/friend/feed?user=0ehknuk3zjb7w&xn_auth=no'),\n",
       " ('http://www.openaccessweek.org/profiles/friend/feed?user=2mvlhwd1uivbe&xn_auth=no',\n",
       "  'http://www.openaccessweek.org/profiles/friend/feed?user=2c52kvye8oxrd&xn_auth=no'),\n",
       " ('http://www.openaccessweek.org/profiles/friend/feed?user=2mvlhwd1uivbe&xn_auth=no',\n",
       "  'http://www.openaccessweek.org/profiles/friend/feed?xn_auth=no&sort=mostRecent&page=1'),\n",
       " ('http://www.openaccessweek.org/profiles/friend/feed?xn_auth=no&sort=mostRecent&page=1',\n",
       "  'http://www.openaccessweek.org/profiles/friend/feed?user=0ehknuk3zjb7w&xn_auth=no'),\n",
       " ('http://www.openaccessweek.org/profiles/friend/feed?xn_auth=no&sort=mostRecent&page=1',\n",
       "  'http://www.openaccessweek.org/profiles/friend/feed?user=2c52kvye8oxrd&xn_auth=no'),\n",
       " ('http://www.openaccessweek.org/profiles/friend/feed?xn_auth=no&sort=mostRecent&page=1',\n",
       "  'http://www.openaccessweek.org/profiles/friend/feed?user=2mvlhwd1uivbe&xn_auth=no'),\n",
       " ('http://www.opendoar.org/rss1data.php?rss=&step=20&cID=4&format=summary',\n",
       "  'http://www.opendoar.org/rss1data.php?rss=&step=20&format=summary'),\n",
       " ('http://www.opendoar.org/rss1data.php?rss=&step=20&cID=4&format=summary',\n",
       "  'http://www.opendoar.org/rss1data.php?rss=&step=20&oID=2267&format=summary&search=University'),\n",
       " ('http://www.opendoar.org/rss1data.php?rss=&step=20&cID=4&format=summary',\n",
       "  'http://www.opendoar.org/rss1data.php?rss=&step=50&rSoftWareName=DigiTool&format=titles'),\n",
       " ('http://www.opendoar.org/rss1data.php?rss=&step=20&cID=4&format=summary',\n",
       "  'http://www.opendoar.org/rss1data.php?rss=&step=50&rSoftWareName=Digital+Commons&format=titles'),\n",
       " ('http://www.opendoar.org/rss1data.php?rss=&step=20&format=summary',\n",
       "  'http://www.opendoar.org/rss1data.php?rss=&step=20&cID=4&format=summary'),\n",
       " ('http://www.opendoar.org/rss1data.php?rss=&step=20&format=summary',\n",
       "  'http://www.opendoar.org/rss1data.php?rss=&step=20&oID=2267&format=summary&search=University'),\n",
       " ('http://www.opendoar.org/rss1data.php?rss=&step=20&format=summary',\n",
       "  'http://www.opendoar.org/rss1data.php?rss=&step=50&rSoftWareName=DigiTool&format=titles'),\n",
       " ('http://www.opendoar.org/rss1data.php?rss=&step=20&format=summary',\n",
       "  'http://www.opendoar.org/rss1data.php?rss=&step=50&rSoftWareName=Digital+Commons&format=titles'),\n",
       " ('http://www.opendoar.org/rss1data.php?rss=&step=20&oID=2267&format=summary&search=University',\n",
       "  'http://www.opendoar.org/rss1data.php?rss=&step=20&cID=4&format=summary'),\n",
       " ('http://www.opendoar.org/rss1data.php?rss=&step=20&oID=2267&format=summary&search=University',\n",
       "  'http://www.opendoar.org/rss1data.php?rss=&step=20&format=summary'),\n",
       " ('http://www.opendoar.org/rss1data.php?rss=&step=20&oID=2267&format=summary&search=University',\n",
       "  'http://www.opendoar.org/rss1data.php?rss=&step=50&rSoftWareName=DigiTool&format=titles'),\n",
       " ('http://www.opendoar.org/rss1data.php?rss=&step=20&oID=2267&format=summary&search=University',\n",
       "  'http://www.opendoar.org/rss1data.php?rss=&step=50&rSoftWareName=Digital+Commons&format=titles'),\n",
       " ('http://www.opendoar.org/rss1data.php?rss=&step=50&rSoftWareName=DigiTool&format=titles',\n",
       "  'http://www.opendoar.org/rss1data.php?rss=&step=20&cID=4&format=summary')]"
      ]
     },
     "execution_count": 74,
     "metadata": {},
     "output_type": "execute_result"
    }
   ],
   "source": [
    "ogc_set = {'service', 'request', 'version'}\n",
    "oai_set = {'verb', 'metadataprefix'}\n",
    "\n",
    "def match_dict(in_dict, tuples):\n",
    "    matches = []\n",
    "    for protocol, response, params in tuples:\n",
    "        try:\n",
    "            if len([k for k, v in params.iteritems() \n",
    "                         if [i for i, j in in_dict.iteritems() \n",
    "                             if i==k and j.lower()==v.lower() and v and j]]) > 0:\n",
    "                matches.append(response)\n",
    "        except:\n",
    "            print response\n",
    "            print in_dict, params\n",
    "    \n",
    "    return matches\n",
    "    \n",
    "def match_keys(in_keys, tuples):\n",
    "    return [t[1] for t in tuples if set(in_keys).intersection(set(t[2].keys()))]\n",
    "    \n",
    "\n",
    "parentage = []\n",
    "for base_url, response_tuples in potentials.iteritems():\n",
    "    # so. go through the dict to match\n",
    "    # certain param sets in the lists.\n",
    "    \n",
    "    for protocol, response, params in response_tuples:\n",
    "        matches = []\n",
    "        if len(list(ogc_set.intersection(set(params.keys())))) > 1:\n",
    "            # try for ogc but must have at least two of the three\n",
    "            if params.get('request', '').lower() != 'getcapabilities':\n",
    "                if not params.get('service', ''):\n",
    "                    print 'wtf', params\n",
    "                to_match = {\n",
    "                    'service': params.get('service', ''),\n",
    "                    'version': params.get('version', ''),\n",
    "                    'request': 'getcapabilities'\n",
    "                }\n",
    "\n",
    "                matches = match_dict(to_match, response_tuples)\n",
    "        elif oai_set.intersection(set(params.keys())):\n",
    "            if params.get('verb', '') != 'identify':\n",
    "                to_match = {'verb': 'identify'}\n",
    "                matches = match_dict(to_match, response_tuples)\n",
    "        else:\n",
    "            matches = match_keys(params.keys(), response_tuples)\n",
    "            \n",
    "        if matches:\n",
    "            matches = [m.replace('|', ';;') for m in matches if m != response]\n",
    "            parentage += izip([response.replace('|', ';;')]*len(matches), matches)\n",
    "    \n",
    "parentage[:25]\n",
    "    "
   ]
  },
  {
   "cell_type": "code",
   "execution_count": 75,
   "metadata": {
    "collapsed": true
   },
   "outputs": [],
   "source": [
    "with open('harvest_parentage.csv', 'w') as f:\n",
    "    f.write('source|possible_match\\n')\n",
    "    f.write('\\n'.join(['|'.join(p) for p in parentage]))"
   ]
  },
  {
   "cell_type": "code",
   "execution_count": 82,
   "metadata": {
    "collapsed": true
   },
   "outputs": [],
   "source": [
    "ogc_set = {'service', 'request', 'version'}\n",
    "oai_set = {'verb', 'metadataprefix'}\n",
    "\n",
    "def match_dict(in_dict, tuples):\n",
    "    matches = []\n",
    "    for protocol, response, params in tuples:\n",
    "        try:\n",
    "            if len([k for k, v in params.iteritems() \n",
    "                         if [i for i, j in in_dict.iteritems() \n",
    "                             if i==k and j.lower()==v.lower() and v and j]]) == len(in_dict.keys()):\n",
    "                matches.append(response)\n",
    "        except:\n",
    "            print response\n",
    "            print in_dict, params\n",
    "    \n",
    "    return matches\n",
    "    \n",
    "def match_keys(in_keys, tuples):\n",
    "    return [t[1] for t in tuples if set(in_keys).intersection(set(t[2].keys()))]\n",
    "    \n",
    "\n",
    "parentage = []\n",
    "for base_url, response_tuples in potentials.iteritems():\n",
    "    # so. go through the dict to match\n",
    "    # certain param sets in the lists.\n",
    "    \n",
    "    for protocol, response, params in response_tuples:\n",
    "        if protocol not in ['OpenSearch', 'OAI-PMH', 'OGC:WMS',\n",
    "                            'OGC:WFS', 'OGC:WCS', 'OGC:CSW']:\n",
    "            continue\n",
    "        matches = []\n",
    "        if len(list(ogc_set.intersection(set(params.keys())))) > 1:\n",
    "            # try for ogc but must have at least two of the three\n",
    "            if params.get('request', '').lower() != 'getcapabilities':\n",
    "                if not params.get('service', ''):\n",
    "                    print 'wtf', params\n",
    "                to_match = {\n",
    "                    'service': params.get('service', ''),\n",
    "                    'version': params.get('version', ''),\n",
    "                    'request': 'getcapabilities'\n",
    "                }\n",
    "\n",
    "                matches = match_dict(to_match, response_tuples)\n",
    "        elif oai_set.intersection(set(params.keys())):\n",
    "            if params.get('verb', '') != 'identify':\n",
    "                to_match = {'verb': 'identify'}\n",
    "                matches = match_dict(to_match, response_tuples)\n",
    "        else:\n",
    "            matches = match_keys(params.keys(), response_tuples)\n",
    "            \n",
    "        if matches:\n",
    "            matches = [m.replace('|', ';;') for m in matches if m != response]\n",
    "            parentage += izip([protocol]*len(matches), [response.replace('|', ';;')]*len(matches), matches)"
   ]
  },
  {
   "cell_type": "code",
   "execution_count": 84,
   "metadata": {
    "collapsed": false
   },
   "outputs": [],
   "source": [
    "with open('harvest_parentage_priority.csv', 'w') as f:\n",
    "    f.write('protocol|source|possible_match\\n')\n",
    "    f.write('\\n'.join(['|'.join(p) for p in parentage]))"
   ]
  },
  {
   "cell_type": "markdown",
   "metadata": {},
   "source": [
    "### looking for parents in rss/atom responses and checking for existence in the set"
   ]
  },
  {
   "cell_type": "code",
   "execution_count": 92,
   "metadata": {
    "collapsed": false
   },
   "outputs": [
    {
     "name": "stdout",
     "output_type": "stream",
     "text": [
      "missing file?!:  ../solr_superset/cleaned/raw_content_md5_cleaned.json\n",
      "failed: ../solr_superset/cleaned/d9356117ed107957e63bd36a0c0637da_cleaned.json\n",
      "409 of 7532 (5.0%) feed responses contain an OSDD rel link\n"
     ]
    }
   ],
   "source": [
    "from lxml import etree\n",
    "import os\n",
    "import json\n",
    "from itertools import izip\n",
    "\n",
    "links_to_check = []\n",
    "counter = 0\n",
    "total = 0\n",
    "with open('harvest_urls_feeds.csv', 'r') as f:\n",
    "    reader = csv.reader(f, delimiter='|')\n",
    "    for row in reader:\n",
    "        # get the hash and parse that, looking for links with opensearchdescription types\n",
    "        # what we're looking for: <link rel='search' type='application/opensearchdescription+xml' \n",
    "        #    href='https://www.sciencebase.gov/catalog/opensearchdescription.xml'/>\n",
    "        filepath = os.path.join('..', 'solr_superset', \n",
    "                                'cleaned', row[1].strip() + '_cleaned.json')\n",
    "        if not os.path.exists(filepath):\n",
    "            print 'missing file?!: ', filepath\n",
    "            continue\n",
    "        \n",
    "        with open(filepath, 'r') as g:\n",
    "            data = json.loads(g.read())\n",
    "        \n",
    "        content = data.get('content').encode('unicode_escape')\n",
    "        \n",
    "        try:\n",
    "            xml = etree.fromstring(content)\n",
    "        except:\n",
    "            print 'failed:', filepath\n",
    "            continue\n",
    "        \n",
    "        # go for a rel with type\n",
    "        links = xml.xpath('/*/*[local-name()=\"link\" and @rel=\"search\" and @type=\"application/opensearchdescription+xml\"]/@*[local-name()=\"href\"]')\n",
    "        \n",
    "        if links:\n",
    "            counter += 1\n",
    "            links_to_check += ['|'.join(i) for i in list(izip([row[0].strip()]*len(links), links))]\n",
    "        \n",
    "        total += 1\n",
    "\n",
    "if links_to_check:\n",
    "    with open('harvest_opensearch_to_check.csv', 'w') as f:\n",
    "        f.write('source|to_check\\n')\n",
    "        f.write('\\n'.join(links_to_check))\n",
    "    \n",
    "print '{0} of {1} ({2}%) feed responses contain an OSDD rel link'.format(counter, total, round((float(counter)/total) * 100))    \n",
    "    "
   ]
  },
  {
   "cell_type": "code",
   "execution_count": 95,
   "metadata": {
    "collapsed": false
   },
   "outputs": [
    {
     "data": {
      "text/plain": [
       "59"
      ]
     },
     "execution_count": 95,
     "metadata": {},
     "output_type": "execute_result"
    }
   ],
   "source": [
    "# and then see if we can match those osdd links with a known link in the harvest.\n",
    "with open('harvest_opensearch_osdd.txt', 'r') as f:\n",
    "    opensearches = [a.strip() for a in f.readlines()]\n",
    "\n",
    "founds = []\n",
    "for link_to_check in links_to_check:\n",
    "    parts = link_to_check.strip().split('|')\n",
    "    source = parts[0]\n",
    "    link = parts[1]\n",
    "    if link in opensearches:\n",
    "        founds.append('|'.join([source, link]))\n",
    "\n",
    "len(founds)"
   ]
  },
  {
   "cell_type": "code",
   "execution_count": 96,
   "metadata": {
    "collapsed": true
   },
   "outputs": [],
   "source": [
    "with open('harvest_opensearch_found_parents.csv', 'w') as f:\n",
    "    f.write('source|link\\n')\n",
    "    f.write('\\n'.join(founds))"
   ]
  },
  {
   "cell_type": "code",
   "execution_count": null,
   "metadata": {
    "collapsed": true
   },
   "outputs": [],
   "source": []
  },
  {
   "cell_type": "code",
   "execution_count": 41,
   "metadata": {
    "collapsed": false
   },
   "outputs": [
    {
     "data": {
      "text/plain": [
       "{'BBOX': ['-84.7978536015,41.440374,-75.737539764,45.97524',\n",
       "  '-84.7978536015,41.440374,-75.737539764,45.97524'],\n",
       " 'FORMAT': ['png'],\n",
       " 'HEIGHT': ['300'],\n",
       " 'LAYERS': ['cities', 'cities'],\n",
       " 'REQUEST': ['GetMap', 'GetMap'],\n",
       " 'SERVICE': ['WMS'],\n",
       " 'SLD': ['http:/demo.mapserver.org/ogc-demos/map/sld/sld_symbol_external.xml'],\n",
       " 'SRS': ['EPSG:4326'],\n",
       " 'TRANSPARENT': ['TRUE'],\n",
       " 'VERSION': ['1.1.1', '1.1.1'],\n",
       " 'WIDTH': ['400'],\n",
       " 'http:/demo.mapserver.org/cgi-bin/wms?SERVICE': ['WMS']}"
      ]
     },
     "execution_count": 41,
     "metadata": {},
     "output_type": "execute_result"
    }
   ],
   "source": [
    "# what the heck, mapserver demo.\n",
    "\n",
    "u = 'http://demo.mapserver.org/cgi-bin/wms?SERVICE=WMS&VERSION=1.1.1&REQUEST=GetMap&LAYERS=cities&BBOX=-84.7978536015,41.440374,-75.737539764,45.97524&http:/demo.mapserver.org/cgi-bin/wms?SERVICE=WMS&VERSION=1.1.1&REQUEST=GetMap&LAYERS=cities&BBOX=-84.7978536015,41.440374,-75.737539764,45.97524&FORMAT=png&WIDTH=400&HEIGHT=300&SRS=EPSG:4326&STYLES=&TRANSPARENT=TRUE&SLD=http:/demo.mapserver.org/ogc-demos/map/sld/sld_symbol_external.xml'\n",
    "\n",
    "parts = urlparse.urlparse(u)\n",
    "qs = parts.query\n",
    "\n",
    "params = urlparse.parse_qs(qs)\n",
    "\n",
    "params"
   ]
  },
  {
   "cell_type": "code",
   "execution_count": 52,
   "metadata": {
    "collapsed": false
   },
   "outputs": [
    {
     "data": {
      "text/plain": [
       "'http://data.opencolorado.org/dataset/history/2012-avondale-tapestry-segmetation-profile'"
      ]
     },
     "execution_count": 52,
     "metadata": {},
     "output_type": "execute_result"
    }
   ],
   "source": [
    "u = 'http://data.opencolorado.org/dataset/history/2012-avondale-tapestry-segmetation-profile?days=7&format=atom'\n",
    "parts = urlparse.urlparse(u)\n",
    "\n",
    "urlparse.urlunparse((\n",
    "    parts.scheme, parts.netloc, parts.path, None, None, None\n",
    "    ))"
   ]
  },
  {
   "cell_type": "code",
   "execution_count": null,
   "metadata": {
    "collapsed": true
   },
   "outputs": [],
   "source": []
  }
 ],
 "metadata": {
  "kernelspec": {
   "display_name": "Python 2",
   "language": "python",
   "name": "python2"
  },
  "language_info": {
   "codemirror_mode": {
    "name": "ipython",
    "version": 2
   },
   "file_extension": ".py",
   "mimetype": "text/x-python",
   "name": "python",
   "nbconvert_exporter": "python",
   "pygments_lexer": "ipython2",
   "version": "2.7.10"
  }
 },
 "nbformat": 4,
 "nbformat_minor": 0
}
