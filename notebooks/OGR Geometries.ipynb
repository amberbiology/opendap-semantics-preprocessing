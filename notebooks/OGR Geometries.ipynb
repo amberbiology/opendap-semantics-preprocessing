{
 "cells": [
  {
   "cell_type": "code",
   "execution_count": 12,
   "metadata": {
    "collapsed": true
   },
   "outputs": [],
   "source": [
    "from osgeo import ogr\n",
    "from lxml import etree"
   ]
  },
  {
   "cell_type": "code",
   "execution_count": 10,
   "metadata": {
    "collapsed": false
   },
   "outputs": [
    {
     "name": "stdout",
     "output_type": "stream",
     "text": [
      "POLYGON((-79.3 30.0, -79.3 43.6, 22.4 43.6, 22.4 30.0, -79.3 30.0))\n",
      "POLYGON ((-79.3 30.0,-79.3 43.6,22.4 43.6,22.4 30.0,-79.3 30.0))\n",
      "POLYGON ((-79.3 30.0,-79.3 43.6,22.4 43.6,22.4 30.0,-79.3 30.0))\n"
     ]
    }
   ],
   "source": [
    "bbox = [-79.3, 30.0, 22.4, 43.6]\n",
    "\n",
    "def bbox_to_wkt(bbox):\n",
    "    return 'POLYGON((%(minx)s %(miny)s, %(minx)s %(maxy)s, %(maxx)s %(maxy)s, %(maxx)s %(miny)s, %(minx)s %(miny)s))' \\\n",
    "        % {'minx': bbox[0], 'miny': bbox[1], 'maxx': bbox[2], 'maxy': bbox[3]}\n",
    "    \n",
    "    \n",
    "in_wkt = bbox_to_wkt(bbox)\n",
    "print in_wkt\n",
    "\n",
    "geom = ogr.CreateGeometryFromWkt(in_wkt)\n",
    "\n",
    "print geom\n",
    "\n",
    "out_wkt = geom.ExportToWkt()\n",
    "\n",
    "print out_wkt\n",
    "\n",
    "\n"
   ]
  },
  {
   "cell_type": "code",
   "execution_count": 20,
   "metadata": {
    "collapsed": false
   },
   "outputs": [
    {
     "name": "stdout",
     "output_type": "stream",
     "text": [
      "urn:ogc:def:crs:EPSG::4326\n"
     ]
    }
   ],
   "source": [
    "bp = '''<extent xmlns:gml=\"http://www.opengis.net/gml/3.2\">\n",
    "    <EX_Extent>\n",
    "        <geographicElement>\n",
    "            <EX_BoundingPolygon>\n",
    "                <polygon>\n",
    "                    <gml:Polygon gml:id=\"US3PR10M_P1\" srsName=\"urn:ogc:def:crs:EPSG::4326\">\n",
    "                        <gml:exterior>\n",
    "                            <gml:LinearRing>\n",
    "                                <gml:pos>18.3798 -64.90292</gml:pos>\n",
    "                                <gml:pos>18.3755 -64.90292</gml:pos>\n",
    "                                <gml:pos>18.3755 -64.62383</gml:pos>\n",
    "                                <gml:pos>18.1666 -64.62383</gml:pos>\n",
    "                                <gml:pos>18.1666 -64.41686</gml:pos>\n",
    "                                <gml:pos>17.6722 -64.41711</gml:pos>\n",
    "                                <gml:pos>17.6289 -64.41711</gml:pos>\n",
    "                                <gml:pos>17.5813 -64.41667</gml:pos>\n",
    "                                <gml:pos>17.1707 -64.41667</gml:pos>\n",
    "                                <gml:pos>17.1707 -68.00001</gml:pos>\n",
    "                                <gml:pos>19.0063 -68.00001</gml:pos>\n",
    "                                <gml:pos>19.0063 -64.90292</gml:pos>\n",
    "                                <gml:pos>18.3798 -64.90292</gml:pos>\n",
    "                            </gml:LinearRing>\n",
    "                        </gml:exterior>\n",
    "                    </gml:Polygon>\n",
    "                </polygon>\n",
    "            </EX_BoundingPolygon>\n",
    "        </geographicElement>\n",
    "    </EX_Extent>\n",
    "</extent>\n",
    "'''\n",
    "xml = etree.fromstring(bp)\n",
    "gml_extent = next(iter(xml.xpath('//*/*[local-name()=\"polygon\"]/*[local-name()=\"Polygon\"]')), None)\n",
    "\n",
    "srsname = gml_extent.attrib.get('srsName', 'urn:ogc:def:crs:EPSG::4326')\n",
    "print srsname\n"
   ]
  },
  {
   "cell_type": "code",
   "execution_count": 15,
   "metadata": {
    "collapsed": false
   },
   "outputs": [
    {
     "data": {
      "text/plain": [
       "'POLYGON ((18.3798 -64.90292,18.3755 -64.90292,18.3755 -64.62383,18.1666 -64.62383,18.1666 -64.41686,17.6722 -64.41711,17.6289 -64.41711,17.5813 -64.41667,17.1707 -64.41667,17.1707 -68.00001,19.0063 -68.00001,19.0063 -64.90292,18.3798 -64.90292))'"
      ]
     },
     "execution_count": 15,
     "metadata": {},
     "output_type": "execute_result"
    }
   ],
   "source": [
    "geom = ogr.CreateGeometryFromGML(etree.tostring(gml_extent))\n",
    "geom.ExportToWkt()"
   ]
  },
  {
   "cell_type": "code",
   "execution_count": 21,
   "metadata": {
    "collapsed": false
   },
   "outputs": [
    {
     "data": {
      "text/plain": [
       "'EPSG:4326'"
      ]
     },
     "execution_count": 21,
     "metadata": {},
     "output_type": "execute_result"
    }
   ],
   "source": [
    "urn = 'urn:ogc:def:crs:EPSG::4326'\n",
    "\n",
    "def convert_urn_to_epsg(urn):\n",
    "    parts = urn.split(':')\n",
    "    return 'EPSG:' + parts[-1]\n",
    "    \n",
    "    \n",
    "convert_urn_to_epsg(urn)"
   ]
  },
  {
   "cell_type": "code",
   "execution_count": null,
   "metadata": {
    "collapsed": true
   },
   "outputs": [],
   "source": []
  }
 ],
 "metadata": {
  "kernelspec": {
   "display_name": "Python 2",
   "language": "python",
   "name": "python2"
  },
  "language_info": {
   "codemirror_mode": {
    "name": "ipython",
    "version": 2
   },
   "file_extension": ".py",
   "mimetype": "text/x-python",
   "name": "python",
   "nbconvert_exporter": "python",
   "pygments_lexer": "ipython2",
   "version": "2.7.10"
  }
 },
 "nbformat": 4,
 "nbformat_minor": 0
}
