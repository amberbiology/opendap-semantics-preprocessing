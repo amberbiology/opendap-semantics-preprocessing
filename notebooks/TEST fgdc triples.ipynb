{
 "cells": [
  {
   "cell_type": "markdown",
   "metadata": {},
   "source": [
    "quick checks of the new fgdc triples structure\n",
    "and maybe the triples (yes the triples, whatevs)"
   ]
  },
  {
   "cell_type": "code",
   "execution_count": 18,
   "metadata": {
    "collapsed": true
   },
   "outputs": [],
   "source": [
    "%reload_ext autoreload\n",
    "%autoreload 2\n",
    "\n",
    "import os\n",
    "import json\n",
    "import glob\n",
    "from semproc.parser import Parser\n",
    "from semproc.preprocessors.metadata_preprocessors import FgdcItemReader"
   ]
  },
  {
   "cell_type": "code",
   "execution_count": 5,
   "metadata": {
    "collapsed": true
   },
   "outputs": [],
   "source": [
    "# load the proto-triples example\n",
    "with open('../response_examples/fgdc_proto_example_1.xml', 'r') as f:\n",
    "    response = f.read()\n",
    "\n",
    "response = response.replace('\\\\\\n', '').replace('\\r\\n', '').replace('\\\\r', '').replace('\\\\n', '').replace('\\n', '')\n",
    "response = response.decode('utf-8', errors='replace').encode('unicode_escape') \n",
    "    \n",
    "url = 'https://bluehub.jrc.ec.europa.eu/erddap/metadata/fgdc/xml/noaa_pfeg_d543_8870_bc7f_fgdc.xml'\n",
    "identities = [\n",
    "    {\"protocol\": \"FGDC\", \n",
    "     \"metadata\": {\n",
    "            \"version\": [\"FGDC Content Standards for Digital Geospatial Metadata, FGDC-STD-001-1998\"], \n",
    "            \"name\": \"FGDC\"}\n",
    "    }\n",
    "]\n",
    "\n",
    "parser = Parser(response)"
   ]
  },
  {
   "cell_type": "code",
   "execution_count": 19,
   "metadata": {
    "collapsed": false
   },
   "outputs": [
    {
     "data": {
      "text/plain": [
       "{'catalog_record': {'conformsTo': 'http://www.ngdc.noaa.gov/metadata/published/xsd/ngdcSchema/schema.xsd',\n",
       "  'harvestDate': '',\n",
       "  'url': ''},\n",
       " 'dataset': {'abstract': 'Navy Global Environmental Model (NAVGEM) is a global numerical weather prediction computer model. It replaced NOGAPS as the prime model in the middle of February 2013 at the Navy Fleet Numerical Meteorology and Oceanography Center (FNMOC) Weather model synoptic site. [Wikipedia]',\n",
       "  'identifier': '',\n",
       "  'spatial_extent': {'east': '180.0',\n",
       "   'north': '90.0',\n",
       "   'south': '-90.0',\n",
       "   'west': '-180.0',\n",
       "   'wkt': 'POLYGON ((-180 -90,-180 90,180 90,180 -90,-180 -90))'},\n",
       "  'title': 'Navy Global Environmental Model (NAVGEM), 0.5 degree, Pressure MSL'},\n",
       " 'keywords': [{'terms': ['conversion',\n",
       "    'data',\n",
       "    'fnmoc',\n",
       "    'level',\n",
       "    'mean',\n",
       "    'navg',\n",
       "    'observed',\n",
       "    'pressure',\n",
       "    'sea',\n",
       "    'theortically',\n",
       "    'value'],\n",
       "   'thesaurus': 'Uncontrolled',\n",
       "   'type': 'theme'},\n",
       "  {'terms': ['time', 'latitude', 'longitude'],\n",
       "   'thesaurus': 'CF Standard Name Table v27',\n",
       "   'type': 'theme'}],\n",
       " 'publisher': {'location': 'Ispra, VA, Italy',\n",
       "  'name': 'ERDDAP, version 1.60, at Maritime Affairs Unit of the Joint Research Centre'},\n",
       " 'temporal_extent': {'endDate': '20140813', 'startDate': '20130215'},\n",
       " 'webpages': [{'url': 'https://bluehub.jrc.ec.europa.eu/erddap/griddap/noaa_pfeg_d543_8870_bc7f.html'},\n",
       "  {'url': 'https://bluehub.jrc.ec.europa.eu/erddap/griddap/noaa_pfeg_d543_8870_bc7f.graph'},\n",
       "  {'url': 'https://bluehub.jrc.ec.europa.eu/erddap/wms/noaa_pfeg_d543_8870_bc7f/request'}]}"
      ]
     },
     "execution_count": 19,
     "metadata": {},
     "output_type": "execute_result"
    }
   ],
   "source": [
    "# execute the parse\n",
    "reader = FgdcItemReader(parser.xml)\n",
    "reader.parse_item()"
   ]
  },
  {
   "cell_type": "code",
   "execution_count": null,
   "metadata": {
    "collapsed": true
   },
   "outputs": [],
   "source": [
    "# let's play with triples"
   ]
  }
 ],
 "metadata": {
  "kernelspec": {
   "display_name": "Python 2",
   "language": "python",
   "name": "python2"
  },
  "language_info": {
   "codemirror_mode": {
    "name": "ipython",
    "version": 2
   },
   "file_extension": ".py",
   "mimetype": "text/x-python",
   "name": "python",
   "nbconvert_exporter": "python",
   "pygments_lexer": "ipython2",
   "version": "2.7.10"
  }
 },
 "nbformat": 4,
 "nbformat_minor": 0
}
