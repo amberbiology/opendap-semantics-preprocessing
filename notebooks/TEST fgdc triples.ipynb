{
 "cells": [
  {
   "cell_type": "markdown",
   "metadata": {},
   "source": [
    "quick checks of the new fgdc triples structure\n",
    "and maybe the triples (yes the triples, whatevs)"
   ]
  },
  {
   "cell_type": "code",
   "execution_count": 18,
   "metadata": {
    "collapsed": true
   },
   "outputs": [],
   "source": [
    "%reload_ext autoreload\n",
    "%autoreload 2\n",
    "\n",
    "import os\n",
    "import json\n",
    "import glob\n",
    "from semproc.parser import Parser\n",
    "from semproc.preprocessors.metadata_preprocessors import FgdcItemReader"
   ]
  },
  {
   "cell_type": "code",
   "execution_count": 43,
   "metadata": {
    "collapsed": true
   },
   "outputs": [],
   "source": [
    "# load the proto-triples example\n",
    "with open('../response_examples/fgdc_proto_example_1.xml', 'r') as f:\n",
    "    response = f.read()\n",
    "\n",
    "response = response.replace('\\\\\\n', '').replace('\\r\\n', '').replace('\\\\r', '').replace('\\\\n', '').replace('\\n', '')\n",
    "response = response.decode('utf-8', errors='replace').encode('unicode_escape') \n",
    "    \n",
    "url = 'https://bluehub.jrc.ec.europa.eu/erddap/metadata/fgdc/xml/noaa_pfeg_d543_8870_bc7f_fgdc.xml'\n",
    "identities = [\n",
    "    {\"protocol\": \"FGDC\", \n",
    "     \"metadata\": {\n",
    "            \"version\": [\"FGDC Content Standards for Digital Geospatial Metadata, FGDC-STD-001-1998\"], \n",
    "            \"name\": \"FGDC\"}\n",
    "    }\n",
    "]\n",
    "\n",
    "parser = Parser(response)"
   ]
  },
  {
   "cell_type": "code",
   "execution_count": 44,
   "metadata": {
    "collapsed": false
   },
   "outputs": [],
   "source": [
    "# execute the parse\n",
    "reader = FgdcItemReader(parser.xml)\n",
    "description = reader.parse_item()\n",
    "\n",
    "# for the faking of things\n",
    "description['catalog_record']['url'] = url\n",
    "description['catalog_record']['harvestDate'] = '2015-06-20T20:22:00.643Z'"
   ]
  },
  {
   "cell_type": "code",
   "execution_count": 45,
   "metadata": {
    "collapsed": false
   },
   "outputs": [
    {
     "data": {
      "text/plain": [
       "{'catalog_record': {'conformsTo': 'http://www.ngdc.noaa.gov/metadata/published/xsd/ngdcSchema/schema.xsd',\n",
       "  'harvestDate': '2015-06-20T20:22:00.643Z',\n",
       "  'url': 'https://bluehub.jrc.ec.europa.eu/erddap/metadata/fgdc/xml/noaa_pfeg_d543_8870_bc7f_fgdc.xml'},\n",
       " 'dataset': {'abstract': 'Navy Global Environmental Model (NAVGEM) is a global numerical weather prediction computer model. It replaced NOGAPS as the prime model in the middle of February 2013 at the Navy Fleet Numerical Meteorology and Oceanography Center (FNMOC) Weather model synoptic site. [Wikipedia]',\n",
       "  'identifier': '',\n",
       "  'spatial_extent': {'east': '180.0',\n",
       "   'north': '90.0',\n",
       "   'south': '-90.0',\n",
       "   'west': '-180.0',\n",
       "   'wkt': 'POLYGON ((-180 -90,-180 90,180 90,180 -90,-180 -90))'},\n",
       "  'title': 'Navy Global Environmental Model (NAVGEM), 0.5 degree, Pressure MSL'},\n",
       " 'keywords': [{'terms': ['conversion',\n",
       "    'data',\n",
       "    'fnmoc',\n",
       "    'level',\n",
       "    'mean',\n",
       "    'navg',\n",
       "    'observed',\n",
       "    'pressure',\n",
       "    'sea',\n",
       "    'theortically',\n",
       "    'value'],\n",
       "   'thesaurus': 'Uncontrolled',\n",
       "   'type': 'theme'},\n",
       "  {'terms': ['time', 'latitude', 'longitude'],\n",
       "   'thesaurus': 'CF Standard Name Table v27',\n",
       "   'type': 'theme'}],\n",
       " 'publisher': {'location': 'Ispra, VA, Italy',\n",
       "  'name': 'ERDDAP, version 1.60, at Maritime Affairs Unit of the Joint Research Centre'},\n",
       " 'temporal_extent': {'endDate': '20140813', 'startDate': '20130215'},\n",
       " 'webpages': [{'url': 'https://bluehub.jrc.ec.europa.eu/erddap/griddap/noaa_pfeg_d543_8870_bc7f.html'},\n",
       "  {'url': 'https://bluehub.jrc.ec.europa.eu/erddap/griddap/noaa_pfeg_d543_8870_bc7f.graph'},\n",
       "  {'url': 'https://bluehub.jrc.ec.europa.eu/erddap/wms/noaa_pfeg_d543_8870_bc7f/request'}]}"
      ]
     },
     "execution_count": 45,
     "metadata": {},
     "output_type": "execute_result"
    }
   ],
   "source": [
    "description"
   ]
  },
  {
   "cell_type": "code",
   "execution_count": 48,
   "metadata": {
    "collapsed": false
   },
   "outputs": [
    {
     "name": "stdout",
     "output_type": "stream",
     "text": [
      "<urn:sha:21a2c32fd74798563eed88a3fcd1acf38092f47e> <http://purl.org/nsidc/bcube/vcard#hasURL> \"https://bluehub.jrc.ec.europa.eu/erddap/metadata/fgdc/xml/noaa_pfeg_d543_8870_bc7f_fgdc.xml\" .\n",
      "<urn:sha:21a2c32fd74798563eed88a3fcd1acf38092f47e> <http://www.w3.org/2002/07/owl#a> <http://purl.org/nsidc/bcube/dcat#CatalogRecord> .\n",
      "<urn:sha:21a2c32fd74798563eed88a3fcd1acf38092f47e> <http://purl.org/dc/elements/1.1/conformsTo> \"http://www.ngdc.noaa.gov/metadata/published/xsd/ngdcSchema/schema.xsd\" .\n",
      "<urn:uuid:346e2158-38dd-4e75-beab-7ef0ca004a9a> <http://www.w3.org/2002/07/owl#a> <http://purl.org/nsidc/bcube/dcat#Dataset> .\n",
      "<urn:sha:21a2c32fd74798563eed88a3fcd1acf38092f47e> <http://purl.org/nsidc/bcube/vivo#harvestDate> \"2015-06-20T20:22:00.643Z\" .\n",
      "\n",
      "\n"
     ]
    }
   ],
   "source": [
    "# let's play with triples\n",
    "\n",
    "import rdflib\n",
    "import hashlib\n",
    "from uuid import uuid4\n",
    "from rdflib import Graph, Literal, RDF, RDFS, Namespace, URIRef\n",
    "from rdflib.namespace import DC, DCTERMS, FOAF, XSD, OWL\n",
    "\n",
    "\n",
    "class Grapher():\n",
    "    def __init__(self):\n",
    "        self.graph = Graph()\n",
    "        self._bind_namespaces()\n",
    "    \n",
    "    # some faked namespaces\n",
    "    _ontology_uris = {\n",
    "        'bcube': 'http://purl.org/nsidc/bcube/bcube#',\n",
    "        'vcard': 'http://purl.org/nsidc/bcube/vcard#',\n",
    "        'esip': 'http://purl.org/nsidc/bcube/esip#',\n",
    "        'vivo': 'http://purl.org/nsidc/bcube/vivo#',\n",
    "        'GeoSPARQL': 'http://purl.org/nsidc/bcube/geosparql#',\n",
    "        'dcat': 'http://purl.org/nsidc/bcube/dcat#',\n",
    "        'dc': str(DC),\n",
    "        'dct': str(DCTERMS),\n",
    "        'foaf': str(FOAF),\n",
    "        'xsd': str(XSD),\n",
    "        'owl': str(OWL)\n",
    "    }\n",
    "    \n",
    "    def _bind_namespaces(self):\n",
    "        # bind our lovely fake namespaces\n",
    "        for prefix, uri in self._ontology_uris.iteritems():\n",
    "            self.graph.bind(prefix, uri)\n",
    "\n",
    "    def generate_predicate(self, prefix, name):\n",
    "        return Namespace(self._ontology_uris[prefix])[name]\n",
    "            \n",
    "    def create_resource(self, resource_prefix, resource_type, identifier=''):\n",
    "        # make a thing with a uuid as a urn\n",
    "        # and just assign it to type if it's not overridden\n",
    "        identifier = identifier if identifier else uuid4().urn\n",
    "        resource = self.graph.resource(identifier)\n",
    "        ref = Namespace(self._ontology_uris[resource_prefix])[resource_type]\n",
    "        resource.add(OWL.a, URIRef(ref))\n",
    "        return resource\n",
    "\n",
    "    def serialize(self):\n",
    "        return self.graph.serialize(format='nt')\n",
    "\n",
    "grapher = Grapher()    \n",
    "\n",
    "# so from our json.\n",
    "for root_entity_type, root_entity in description.iteritems():\n",
    "    #print root_entity\n",
    "    \n",
    "    if root_entity_type == 'catalog_record':\n",
    "        catalog_record = grapher.create_resource('dcat', 'CatalogRecord', 'urn:sha:21a2c32fd74798563eed88a3fcd1acf38092f47e')\n",
    "        catalog_record.add(grapher.generate_predicate('vcard', 'hasURL'), Literal(root_entity['url']))\n",
    "        catalog_record.add(grapher.generate_predicate('vivo', 'harvestDate'), Literal(root_entity['harvestDate']))\n",
    "        catalog_record.add(DC.conformsTo, Literal(root_entity['conformsTo']))\n",
    "    elif root_entity_type == 'dataset':\n",
    "        dataset = grapher.create_resource('dcat', 'Dataset')\n",
    "    else:\n",
    "        continue\n",
    "    \n",
    "    \n",
    "nt = grapher.serialize()    \n",
    "print nt\n"
   ]
  },
  {
   "cell_type": "code",
   "execution_count": null,
   "metadata": {
    "collapsed": true
   },
   "outputs": [],
   "source": []
  }
 ],
 "metadata": {
  "kernelspec": {
   "display_name": "Python 2",
   "language": "python",
   "name": "python2"
  },
  "language_info": {
   "codemirror_mode": {
    "name": "ipython",
    "version": 2
   },
   "file_extension": ".py",
   "mimetype": "text/x-python",
   "name": "python",
   "nbconvert_exporter": "python",
   "pygments_lexer": "ipython2",
   "version": "2.7.10"
  }
 },
 "nbformat": 4,
 "nbformat_minor": 0
}
