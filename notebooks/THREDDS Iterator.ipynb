{
 "metadata": {
  "name": "",
  "signature": "sha256:8e269efb37df16f1d197a255afcf248b1d8e3f7d2336292d9c602b403a5e5e7c"
 },
 "nbformat": 3,
 "nbformat_minor": 0,
 "worksheets": [
  {
   "cells": [
    {
     "cell_type": "markdown",
     "metadata": {},
     "source": [
      "## Generating a THREDDS catalog tree from an unknown catalog entry point\n",
      "\n",
      "Proof of concept iterator to move and down a THREDDS server to generate the compete tree from an unknown starting point (provided it is a catalog.xml response). This makes no assumptions about the version of THREDDS running.\n",
      "\n",
      "For any catalog entry point, gather all catalogRef and dataset elements (metadata elements if they support a URL), generate all endpoints for those elements based on defined services (iso, opendap, wcs, etc), generate the URL for the child referenced by the element, and generate a \"best guess\" for the next higher level catalog page.\n",
      "\n",
      "For reference, there is also this bit of Python: https://github.com/asascience-open/thredds_crawler\n",
      "\n",
      "that takes a root catalog URL and generates the tree moving downstream. It is limited to the one version which likely means it won't handle the relative path variations found through the crawler well. "
     ]
    },
    {
     "cell_type": "code",
     "collapsed": false,
     "input": [
      "%reload_ext autoreload\n",
      "%autoreload 2\n",
      "\n",
      "from lxml import etree\n",
      "import requests\n",
      "import urlparse\n",
      "import pprint\n",
      "\n",
      "pp = pprint.PrettyPrinter(indent=4)\n",
      "\n",
      "def intersect_url(url, path, bases=[]):\n",
      "    '''\n",
      "    the generic path builder to handle all currently known thredds \n",
      "    structures.\n",
      "    \n",
      "    to generate the higher-level catalog.xml request:\n",
      "        intersect_url(source_url, '../catalog.xml')\n",
      "    \n",
      "    to generate the \"siblings\" based on the supported service set:\n",
      "        intersect_url(source_url, 'MyData/dataset_a.nc', ['/thredds/iso', '/thredds/wms'])\n",
      "        \n",
      "    to generate the current element's endpoint:\n",
      "        intersect_url(source_url, element.href)\n",
      "        # where href is going to be based on the element and version\n",
      "    '''\n",
      "    parts = urlparse.urlparse(path)\n",
      "    if parts.scheme and parts.netloc:\n",
      "        # it's a valid url, do nothing\n",
      "        return [path]\n",
      "\n",
      "    parts = urlparse.urlparse(url)\n",
      "    url_paths = parts.path.split('/')\n",
      "    paths = path.split('/')\n",
      "    \n",
      "    # TODO: sort out the url path starting with / and a pointer to \n",
      "    #       some service base generating a URL at the host path incorrectly\n",
      "    if bases:\n",
      "        #print 'use bases', path\n",
      "        return [urlparse.urlunparse((\n",
      "            parts.scheme,\n",
      "            parts.netloc,\n",
      "            '/'.join([b, path]),\n",
      "            parts.params,\n",
      "            parts.query,\n",
      "            parts.fragment\n",
      "        )) for b in bases]\n",
      "    \n",
      "    match_index = url_paths.index(paths[0]) if paths[0] in url_paths else -1\n",
      "    if match_index < 0:\n",
      "        #print 'no match', path\n",
      "        return [urlparse.urljoin(url.replace('catalog.xml', ''), path)]\n",
      "    else:\n",
      "        #print 'match', path\n",
      "        return [urlparse.urljoin(\n",
      "            urlparse.urlunparse(\n",
      "                (\n",
      "                    parts.scheme, \n",
      "                    parts.netloc, \n",
      "                    '/'.join(url_paths[0:match_index+1]), \n",
      "                     parts.params, \n",
      "                     parts.query, \n",
      "                     parts.fragment)\n",
      "                ),\n",
      "            path\n",
      "        )]\n",
      "\n",
      "def extract_element_tag(tag):\n",
      "    if not tag:\n",
      "        return\n",
      "    return tag.split('}')[-1]\n",
      "\n",
      "def test_url(url):\n",
      "    # basic url existence check - we only want 200s \n",
      "    # (and can update this later for redirects but that seems\n",
      "    #  unlikely from the server implementation point of view)\n",
      "    req = requests.head(url)\n",
      "    return req.status_code in [200]\n",
      "\n",
      "def parse_xml(xml_as_string, harvest_point):\n",
      "    # returns a list of tuples (id, endpoints, parentId)\n",
      "    xml = etree.fromstring(xml_as_string)\n",
      "    \n",
      "    endpoints = []\n",
      "    \n",
      "    # get the service block (bases are only in that nested structure)\n",
      "    services = xml.xpath('//*[local-name()=\"service\" and @base != \"\"]')\n",
      "    service_bases = list(set([s.attrib.get('base') for s in services]))\n",
      "    \n",
      "    # check for datasets\n",
      "    datasets = xml.xpath('//*[local-name()=\"dataset\"]')\n",
      "    for dataset in datasets:\n",
      "        dataset_id = dataset.attrib.get('ID', '')\n",
      "        url_base = dataset.attrib.get('urlPath', '')\n",
      "        if not url_base:\n",
      "            # try the element version\n",
      "            ub = next(iter(dataset.xpath('*[local-name()=\"access\"]')), None)\n",
      "            url_base = ub.attrib.get('urlPath', '') if ub is not None else ''\n",
      "        if not url_base:\n",
      "            continue\n",
      "        \n",
      "        parent_id = dataset.getparent().attrib.get('ID', harvest_point)\n",
      "        dataset_endpoints = intersect_url(harvest_point, url_base, service_bases)\n",
      "        \n",
      "        if service_bases:\n",
      "            dataset_endpoints += intersect_url(harvest_point, url_base, service_bases)\n",
      "\n",
      "        endpoints.append(('dataset', dataset_id, list(set(dataset_endpoints)), parent_id))\n",
      "    \n",
      "    # check for catalogRefs at root\n",
      "    catalog_refs = xml.xpath('//*[local-name()=\"catalogRef\"]')\n",
      "    for catalog_ref in catalog_refs:\n",
      "        catalog_id = catalog_ref.attrib.get('ID', '')\n",
      "        if not catalog_id:\n",
      "            continue\n",
      "        catalog_base = catalog_ref.attrib.get('{http://www.w3.org/1999/xlink}href', '')\n",
      "        if not catalog_base:\n",
      "            continue\n",
      "            \n",
      "        parent_id = catalog_ref.getparent().attrib.get('ID', harvest_point)\n",
      "        endpoints.append(('catalog', catalog_id, [intersect_url(harvest_point, catalog_base)], parent_id))\n",
      "    \n",
      "    # and add the higher-level catalog\n",
      "    parent = intersect_url(harvest_point, '../catalog.xml')\n",
      "    endpoints.append(('catalog', harvest_point, [parent], parent))\n",
      "    \n",
      "    return endpoints\n",
      "    \n",
      "def harvest(url, endpoints):\n",
      "    '''\n",
      "    for a url, make a head request\n",
      "    if 200, make a get request and parse the xml\n",
      "    continue for any endpoint *not* a dataset and\n",
      "    keep all of the found endpoints (type, id, url, parent id)\n",
      "    '''\n",
      "    pass"
     ],
     "language": "python",
     "metadata": {},
     "outputs": [],
     "prompt_number": 46
    },
    {
     "cell_type": "code",
     "collapsed": false,
     "input": [
      "'''\n",
      "execution\n",
      "\n",
      "from the access point, create the set of urls to test\n",
      "test the urls\n",
      "\n",
      "get a json? tree of catalog url [harvested urls]\n",
      "\n",
      "NOTE: if dataset element, the terminus contains a dataSize element (that\n",
      "      is the data file, do not execute any GET). these are also the ONLY\n",
      "      urls to generate using the base option.\n",
      "\n",
      "'''\n",
      "tree = []\n",
      "\n",
      "# um, what happened? the catalog isn't being returned?\n",
      "# harvest_point = 'http://stellwagen.er.usgs.gov/thredds/catalog/TSdata/DEEP_REEF/catalog.xml'\n",
      "\n",
      "\n",
      "harvest_point = 'http://acdisc.gsfc.nasa.gov/opendap/Nimbus7_TOMS_Level3/catalog.xml'\n",
      "req = requests.get(harvest_point)\n",
      "if req.status_code != 200:\n",
      "    print req.content\n",
      "    \n",
      "endpoints = parse_xml(req.content, harvest_point)\n",
      "pp.pprint(endpoints)\n",
      "\n",
      "# let's just see if those are ok links with some HEAD requests\n",
      "for objid, endpoint, parentid in endpoints:\n",
      "    is_valid = test_url(endpoint[0])\n",
      "    pp.pprint((objid, endpoint[0], is_valid))\n"
     ],
     "language": "python",
     "metadata": {},
     "outputs": [
      {
       "output_type": "stream",
       "stream": "stdout",
       "text": [
        "catrefs 13\n",
        "[   (   '/opendap/hyrax/Nimbus7_TOMS_Level3/TOMSN7L3.008/',\n",
        "        [   'http://acdisc.gsfc.nasa.gov/opendap/Nimbus7_TOMS_Level3/TOMSN7L3.008/catalog.xml'],\n",
        "        '/opendap/hyrax/Nimbus7_TOMS_Level3/'),\n",
        "    (   '/opendap/hyrax/Nimbus7_TOMS_Level3/TOMSN7L3daer.008/',\n",
        "        [   'http://acdisc.gsfc.nasa.gov/opendap/Nimbus7_TOMS_Level3/TOMSN7L3daer.008/catalog.xml'],\n",
        "        '/opendap/hyrax/Nimbus7_TOMS_Level3/'),\n",
        "    (   '/opendap/hyrax/Nimbus7_TOMS_Level3/TOMSN7L3dery.008/',\n",
        "        [   'http://acdisc.gsfc.nasa.gov/opendap/Nimbus7_TOMS_Level3/TOMSN7L3dery.008/catalog.xml'],\n",
        "        '/opendap/hyrax/Nimbus7_TOMS_Level3/'),\n",
        "    (   '/opendap/hyrax/Nimbus7_TOMS_Level3/TOMSN7L3dref.008/',\n",
        "        [   'http://acdisc.gsfc.nasa.gov/opendap/Nimbus7_TOMS_Level3/TOMSN7L3dref.008/catalog.xml'],\n",
        "        '/opendap/hyrax/Nimbus7_TOMS_Level3/'),\n",
        "    (   '/opendap/hyrax/Nimbus7_TOMS_Level3/TOMSN7L3dtoz.008/',\n",
        "        [   'http://acdisc.gsfc.nasa.gov/opendap/Nimbus7_TOMS_Level3/TOMSN7L3dtoz.008/catalog.xml'],\n",
        "        '/opendap/hyrax/Nimbus7_TOMS_Level3/'),\n",
        "    (   '/opendap/hyrax/Nimbus7_TOMS_Level3/TOMSN7L3maer.008/',\n",
        "        [   'http://acdisc.gsfc.nasa.gov/opendap/Nimbus7_TOMS_Level3/TOMSN7L3maer.008/catalog.xml'],\n",
        "        '/opendap/hyrax/Nimbus7_TOMS_Level3/'),\n",
        "    (   '/opendap/hyrax/Nimbus7_TOMS_Level3/TOMSN7L3mery.008/',\n",
        "        [   'http://acdisc.gsfc.nasa.gov/opendap/Nimbus7_TOMS_Level3/TOMSN7L3mery.008/catalog.xml'],\n",
        "        '/opendap/hyrax/Nimbus7_TOMS_Level3/'),\n",
        "    (   '/opendap/hyrax/Nimbus7_TOMS_Level3/TOMSN7L3mref.008/',\n",
        "        [   'http://acdisc.gsfc.nasa.gov/opendap/Nimbus7_TOMS_Level3/TOMSN7L3mref.008/catalog.xml'],\n",
        "        '/opendap/hyrax/Nimbus7_TOMS_Level3/'),\n",
        "    (   '/opendap/hyrax/Nimbus7_TOMS_Level3/TOMSN7L3mtoz.008/',\n",
        "        [   'http://acdisc.gsfc.nasa.gov/opendap/Nimbus7_TOMS_Level3/TOMSN7L3mtoz.008/catalog.xml'],\n",
        "        '/opendap/hyrax/Nimbus7_TOMS_Level3/'),\n",
        "    (   '/opendap/hyrax/Nimbus7_TOMS_Level3/TOMSN7L3zaer.008/',\n",
        "        [   'http://acdisc.gsfc.nasa.gov/opendap/Nimbus7_TOMS_Level3/TOMSN7L3zaer.008/catalog.xml'],\n",
        "        '/opendap/hyrax/Nimbus7_TOMS_Level3/'),\n",
        "    (   '/opendap/hyrax/Nimbus7_TOMS_Level3/TOMSN7L3zref.008/',\n",
        "        [   'http://acdisc.gsfc.nasa.gov/opendap/Nimbus7_TOMS_Level3/TOMSN7L3zref.008/catalog.xml'],\n",
        "        '/opendap/hyrax/Nimbus7_TOMS_Level3/'),\n",
        "    (   '/opendap/hyrax/Nimbus7_TOMS_Level3/TOMSN7L3ztoz.008/',\n",
        "        [   'http://acdisc.gsfc.nasa.gov/opendap/Nimbus7_TOMS_Level3/TOMSN7L3ztoz.008/catalog.xml'],\n",
        "        '/opendap/hyrax/Nimbus7_TOMS_Level3/'),\n",
        "    (   '/opendap/hyrax/Nimbus7_TOMS_Level3/TOMSN7OVP.008/',\n",
        "        [   'http://acdisc.gsfc.nasa.gov/opendap/Nimbus7_TOMS_Level3/TOMSN7OVP.008/catalog.xml'],\n",
        "        '/opendap/hyrax/Nimbus7_TOMS_Level3/'),\n",
        "    (   'http://acdisc.gsfc.nasa.gov/opendap/Nimbus7_TOMS_Level3/catalog.xml',\n",
        "        ['http://acdisc.gsfc.nasa.gov/opendap/catalog.xml'],\n",
        "        'http://acdisc.gsfc.nasa.gov/opendap/catalog.xml')]\n",
        "("
       ]
      },
      {
       "output_type": "stream",
       "stream": "stdout",
       "text": [
        "   '/opendap/hyrax/Nimbus7_TOMS_Level3/TOMSN7L3.008/',\n",
        "    'http://acdisc.gsfc.nasa.gov/opendap/Nimbus7_TOMS_Level3/TOMSN7L3.008/catalog.xml',\n",
        "    True)\n",
        "("
       ]
      },
      {
       "output_type": "stream",
       "stream": "stdout",
       "text": [
        "   '/opendap/hyrax/Nimbus7_TOMS_Level3/TOMSN7L3daer.008/',\n",
        "    'http://acdisc.gsfc.nasa.gov/opendap/Nimbus7_TOMS_Level3/TOMSN7L3daer.008/catalog.xml',\n",
        "    True)\n",
        "("
       ]
      },
      {
       "output_type": "stream",
       "stream": "stdout",
       "text": [
        "   '/opendap/hyrax/Nimbus7_TOMS_Level3/TOMSN7L3dery.008/',\n",
        "    'http://acdisc.gsfc.nasa.gov/opendap/Nimbus7_TOMS_Level3/TOMSN7L3dery.008/catalog.xml',\n",
        "    True)\n",
        "("
       ]
      },
      {
       "output_type": "stream",
       "stream": "stdout",
       "text": [
        "   '/opendap/hyrax/Nimbus7_TOMS_Level3/TOMSN7L3dref.008/',\n",
        "    'http://acdisc.gsfc.nasa.gov/opendap/Nimbus7_TOMS_Level3/TOMSN7L3dref.008/catalog.xml',\n",
        "    True)\n",
        "("
       ]
      },
      {
       "output_type": "stream",
       "stream": "stdout",
       "text": [
        "   '/opendap/hyrax/Nimbus7_TOMS_Level3/TOMSN7L3dtoz.008/',\n",
        "    'http://acdisc.gsfc.nasa.gov/opendap/Nimbus7_TOMS_Level3/TOMSN7L3dtoz.008/catalog.xml',\n",
        "    True)\n",
        "("
       ]
      },
      {
       "output_type": "stream",
       "stream": "stdout",
       "text": [
        "   '/opendap/hyrax/Nimbus7_TOMS_Level3/TOMSN7L3maer.008/',\n",
        "    'http://acdisc.gsfc.nasa.gov/opendap/Nimbus7_TOMS_Level3/TOMSN7L3maer.008/catalog.xml',\n",
        "    True)\n",
        "("
       ]
      },
      {
       "output_type": "stream",
       "stream": "stdout",
       "text": [
        "   '/opendap/hyrax/Nimbus7_TOMS_Level3/TOMSN7L3mery.008/',\n",
        "    'http://acdisc.gsfc.nasa.gov/opendap/Nimbus7_TOMS_Level3/TOMSN7L3mery.008/catalog.xml',\n",
        "    True)\n",
        "("
       ]
      },
      {
       "output_type": "stream",
       "stream": "stdout",
       "text": [
        "   '/opendap/hyrax/Nimbus7_TOMS_Level3/TOMSN7L3mref.008/',\n",
        "    'http://acdisc.gsfc.nasa.gov/opendap/Nimbus7_TOMS_Level3/TOMSN7L3mref.008/catalog.xml',\n",
        "    True)\n",
        "("
       ]
      },
      {
       "output_type": "stream",
       "stream": "stdout",
       "text": [
        "   '/opendap/hyrax/Nimbus7_TOMS_Level3/TOMSN7L3mtoz.008/',\n",
        "    'http://acdisc.gsfc.nasa.gov/opendap/Nimbus7_TOMS_Level3/TOMSN7L3mtoz.008/catalog.xml',\n",
        "    True)\n",
        "("
       ]
      },
      {
       "output_type": "stream",
       "stream": "stdout",
       "text": [
        "   '/opendap/hyrax/Nimbus7_TOMS_Level3/TOMSN7L3zaer.008/',\n",
        "    'http://acdisc.gsfc.nasa.gov/opendap/Nimbus7_TOMS_Level3/TOMSN7L3zaer.008/catalog.xml',\n",
        "    True)\n",
        "("
       ]
      },
      {
       "output_type": "stream",
       "stream": "stdout",
       "text": [
        "   '/opendap/hyrax/Nimbus7_TOMS_Level3/TOMSN7L3zref.008/',\n",
        "    'http://acdisc.gsfc.nasa.gov/opendap/Nimbus7_TOMS_Level3/TOMSN7L3zref.008/catalog.xml',\n",
        "    True)\n",
        "("
       ]
      },
      {
       "output_type": "stream",
       "stream": "stdout",
       "text": [
        "   '/opendap/hyrax/Nimbus7_TOMS_Level3/TOMSN7L3ztoz.008/',\n",
        "    'http://acdisc.gsfc.nasa.gov/opendap/Nimbus7_TOMS_Level3/TOMSN7L3ztoz.008/catalog.xml',\n",
        "    True)\n",
        "("
       ]
      },
      {
       "output_type": "stream",
       "stream": "stdout",
       "text": [
        "   '/opendap/hyrax/Nimbus7_TOMS_Level3/TOMSN7OVP.008/',\n",
        "    'http://acdisc.gsfc.nasa.gov/opendap/Nimbus7_TOMS_Level3/TOMSN7OVP.008/catalog.xml',\n",
        "    True)\n",
        "("
       ]
      },
      {
       "output_type": "stream",
       "stream": "stdout",
       "text": [
        "   'http://acdisc.gsfc.nasa.gov/opendap/Nimbus7_TOMS_Level3/catalog.xml',\n",
        "    'http://acdisc.gsfc.nasa.gov/opendap/catalog.xml',\n",
        "    True)\n"
       ]
      }
     ],
     "prompt_number": 47
    },
    {
     "cell_type": "code",
     "collapsed": false,
     "input": [
      "harvest_point = 'http://acdisc.gsfc.nasa.gov/opendap/catalog.xml'\n",
      "\n",
      "# once more with emphasis\n",
      "req = requests.get(harvest_point)\n",
      "if req.status_code != 200:\n",
      "    print req.content\n",
      "    \n",
      "endpoints = parse_xml(req.content, harvest_point)\n",
      "pp.pprint(endpoints)\n",
      "\n",
      "# let's just see if those are ok links with some HEAD requests\n",
      "for objid, endpoint, parentid in endpoints:\n",
      "    is_valid = test_url(endpoint[0])\n",
      "    pp.pprint((objid, endpoint[0], is_valid))\n",
      "\n",
      "# intersect_url(harvest_point, '/HDF-EOS5.README', ['/opendap/hyrax'])    \n",
      "    "
     ],
     "language": "python",
     "metadata": {},
     "outputs": [
      {
       "output_type": "stream",
       "stream": "stdout",
       "text": [
        "catrefs 9\n",
        "[   (   '/opendap/hyrax/HDF-EOS5.README',\n",
        "        ['http://acdisc.gsfc.nasa.gov/opendap/hyrax//HDF-EOS5.README'],\n",
        "        '/opendap/hyrax/'),\n",
        "    (   '/opendap/hyrax/Aqua_AIRS_Level3/',\n",
        "        ['http://acdisc.gsfc.nasa.gov/opendap/Aqua_AIRS_Level3/catalog.xml'],\n",
        "        '/opendap/hyrax/'),\n",
        "    (   '/opendap/hyrax/Aqua_MODIS_Level3/',\n",
        "        ['http://acdisc.gsfc.nasa.gov/opendap/Aqua_MODIS_Level3/catalog.xml'],\n",
        "        '/opendap/hyrax/'),\n",
        "    (   '/opendap/hyrax/Catalog/',\n",
        "        ['http://acdisc.gsfc.nasa.gov/opendap/Catalog/catalog.xml'],\n",
        "        '/opendap/hyrax/'),\n",
        "    (   '/opendap/hyrax/EarthProbe_TOMS_Level3/',\n",
        "        [   'http://acdisc.gsfc.nasa.gov/opendap/EarthProbe_TOMS_Level3/catalog.xml'],\n",
        "        '/opendap/hyrax/'),\n",
        "    (   '/opendap/hyrax/HDF-EOS5/',\n",
        "        ['http://acdisc.gsfc.nasa.gov/opendap/HDF-EOS5/catalog.xml'],\n",
        "        '/opendap/hyrax/'),\n",
        "    (   '/opendap/hyrax/Meteor3_TOMS_Level3/',\n",
        "        [   'http://acdisc.gsfc.nasa.gov/opendap/Meteor3_TOMS_Level3/catalog.xml'],\n",
        "        '/opendap/hyrax/'),\n",
        "    (   '/opendap/hyrax/Nimbus7_TOMS_Level3/',\n",
        "        [   'http://acdisc.gsfc.nasa.gov/opendap/Nimbus7_TOMS_Level3/catalog.xml'],\n",
        "        '/opendap/hyrax/'),\n",
        "    (   '/opendap/hyrax/Terra_MODIS_Level3/',\n",
        "        [   'http://acdisc.gsfc.nasa.gov/opendap/Terra_MODIS_Level3/catalog.xml'],\n",
        "        '/opendap/hyrax/'),\n",
        "    (   '/opendap/hyrax/ncml/',\n",
        "        ['http://acdisc.gsfc.nasa.gov/opendap/ncml/catalog.xml'],\n",
        "        '/opendap/hyrax/'),\n",
        "    (   'http://acdisc.gsfc.nasa.gov/opendap/catalog.xml',\n",
        "        ['http://acdisc.gsfc.nasa.gov/catalog.xml'],\n",
        "        'http://acdisc.gsfc.nasa.gov/catalog.xml')]\n",
        "("
       ]
      },
      {
       "output_type": "stream",
       "stream": "stdout",
       "text": [
        "   '/opendap/hyrax/HDF-EOS5.README',\n",
        "    'http://acdisc.gsfc.nasa.gov/opendap/hyrax//HDF-EOS5.README',\n",
        "    False)\n",
        "("
       ]
      },
      {
       "output_type": "stream",
       "stream": "stdout",
       "text": [
        "   '/opendap/hyrax/Aqua_AIRS_Level3/',\n",
        "    'http://acdisc.gsfc.nasa.gov/opendap/Aqua_AIRS_Level3/catalog.xml',\n",
        "    True)\n",
        "("
       ]
      },
      {
       "output_type": "stream",
       "stream": "stdout",
       "text": [
        "   '/opendap/hyrax/Aqua_MODIS_Level3/',\n",
        "    'http://acdisc.gsfc.nasa.gov/opendap/Aqua_MODIS_Level3/catalog.xml',\n",
        "    True)\n",
        "("
       ]
      },
      {
       "output_type": "stream",
       "stream": "stdout",
       "text": [
        "   '/opendap/hyrax/Catalog/',\n",
        "    'http://acdisc.gsfc.nasa.gov/opendap/Catalog/catalog.xml',\n",
        "    True)\n",
        "("
       ]
      },
      {
       "output_type": "stream",
       "stream": "stdout",
       "text": [
        "   '/opendap/hyrax/EarthProbe_TOMS_Level3/',\n",
        "    'http://acdisc.gsfc.nasa.gov/opendap/EarthProbe_TOMS_Level3/catalog.xml',\n",
        "    True)\n",
        "("
       ]
      },
      {
       "output_type": "stream",
       "stream": "stdout",
       "text": [
        "   '/opendap/hyrax/HDF-EOS5/',\n",
        "    'http://acdisc.gsfc.nasa.gov/opendap/HDF-EOS5/catalog.xml',\n",
        "    True)\n",
        "("
       ]
      },
      {
       "output_type": "stream",
       "stream": "stdout",
       "text": [
        "   '/opendap/hyrax/Meteor3_TOMS_Level3/',\n",
        "    'http://acdisc.gsfc.nasa.gov/opendap/Meteor3_TOMS_Level3/catalog.xml',\n",
        "    True)\n",
        "("
       ]
      },
      {
       "output_type": "stream",
       "stream": "stdout",
       "text": [
        "   '/opendap/hyrax/Nimbus7_TOMS_Level3/',\n",
        "    'http://acdisc.gsfc.nasa.gov/opendap/Nimbus7_TOMS_Level3/catalog.xml',\n",
        "    True)\n",
        "("
       ]
      },
      {
       "output_type": "stream",
       "stream": "stdout",
       "text": [
        "   '/opendap/hyrax/Terra_MODIS_Level3/',\n",
        "    'http://acdisc.gsfc.nasa.gov/opendap/Terra_MODIS_Level3/catalog.xml',\n",
        "    True)\n",
        "("
       ]
      },
      {
       "output_type": "stream",
       "stream": "stdout",
       "text": [
        "   '/opendap/hyrax/ncml/',\n",
        "    'http://acdisc.gsfc.nasa.gov/opendap/ncml/catalog.xml',\n",
        "    True)\n",
        "("
       ]
      },
      {
       "output_type": "stream",
       "stream": "stdout",
       "text": [
        "   'http://acdisc.gsfc.nasa.gov/opendap/catalog.xml',\n",
        "    'http://acdisc.gsfc.nasa.gov/catalog.xml',\n",
        "    False)\n"
       ]
      }
     ],
     "prompt_number": 48
    },
    {
     "cell_type": "code",
     "collapsed": false,
     "input": [
      "harvest_point = 'http://acdisc.gsfc.nasa.gov/opendap/Nimbus7_TOMS_Level3/TOMSN7L3dery.008/1987/catalog.xml'\n",
      "\n",
      "# once more with emphasis\n",
      "req = requests.get(harvest_point)\n",
      "if req.status_code != 200:\n",
      "    print req.content\n",
      "    \n",
      "endpoints = parse_xml(req.content, harvest_point)\n",
      "pp.pprint(endpoints)\n",
      "\n",
      "# let's just see if those are ok links with some HEAD requests\n",
      "for objid, endpoint, parentid in endpoints:\n",
      "    is_valid = test_url(endpoint[0])\n",
      "    pp.pprint((objid, endpoint[0], is_valid))"
     ],
     "language": "python",
     "metadata": {},
     "outputs": [
      {
       "output_type": "stream",
       "stream": "stdout",
       "text": [
        "catrefs 0\n",
        "["
       ]
      },
      {
       "output_type": "stream",
       "stream": "stdout",
       "text": [
        "   (   '/opendap/hyrax/Nimbus7_TOMS_Level3/TOMSN7L3dery.008/1987/L3_eryln_n7t_19870101.txt',\n",
        "        [   'http://acdisc.gsfc.nasa.gov/opendap/hyrax//Nimbus7_TOMS_Level3/TOMSN7L3dery.008/1987/L3_eryln_n7t_19870101.txt'],\n",
        "        '/opendap/hyrax/Nimbus7_TOMS_Level3/TOMSN7L3dery.008/1987/'),\n",
        "    (   '/opendap/hyrax/Nimbus7_TOMS_Level3/TOMSN7L3dery.008/1987/L3_eryln_n7t_19870102.txt',\n",
        "        [   'http://acdisc.gsfc.nasa.gov/opendap/hyrax//Nimbus7_TOMS_Level3/TOMSN7L3dery.008/1987/L3_eryln_n7t_19870102.txt'],\n",
        "        '/opendap/hyrax/Nimbus7_TOMS_Level3/TOMSN7L3dery.008/1987/'),\n",
        "    (   '/opendap/hyrax/Nimbus7_TOMS_Level3/TOMSN7L3dery.008/1987/L3_eryln_n7t_19870103.txt',\n",
        "        [   'http://acdisc.gsfc.nasa.gov/opendap/hyrax//Nimbus7_TOMS_Level3/TOMSN7L3dery.008/1987/L3_eryln_n7t_19870103.txt'],\n",
        "        '/opendap/hyrax/Nimbus7_TOMS_Level3/TOMSN7L3dery.008/1987/'),\n",
        "    (   '/opendap/hyrax/Nimbus7_TOMS_Level3/TOMSN7L3dery.008/1987/L3_eryln_n7t_19870104.txt',\n",
        "        [   'http://acdisc.gsfc.nasa.gov/opendap/hyrax//Nimbus7_TOMS_Level3/TOMSN7L3dery.008/1987/L3_eryln_n7t_19870104.txt'],\n",
        "        '/opendap/hyrax/Nimbus7_TOMS_Level3/TOMSN7L3dery.008/1987/'),\n",
        "    (   '/opendap/hyrax/Nimbus7_TOMS_Level3/TOMSN7L3dery.008/1987/L3_eryln_n7t_19870105.txt',\n",
        "        [   'http://acdisc.gsfc.nasa.gov/opendap/hyrax//Nimbus7_TOMS_Level3/TOMSN7L3dery.008/1987/L3_eryln_n7t_19870105.txt'],\n",
        "        '/opendap/hyrax/Nimbus7_TOMS_Level3/TOMSN7L3dery.008/1987/'),\n",
        "    (   '/opendap/hyrax/Nimbus7_TOMS_Level3/TOMSN7L3dery.008/1987/L3_eryln_n7t_19870106.txt',\n",
        "        [   'http://acdisc.gsfc.nasa.gov/opendap/hyrax//Nimbus7_TOMS_Level3/TOMSN7L3dery.008/1987/L3_eryln_n7t_19870106.txt'],\n",
        "        '/opendap/hyrax/Nimbus7_TOMS_Level3/TOMSN7L3dery.008/1987/'),\n",
        "    (   '/opendap/hyrax/Nimbus7_TOMS_Level3/TOMSN7L3dery.008/1987/L3_eryln_n7t_19870107.txt',\n",
        "        [   'http://acdisc.gsfc.nasa.gov/opendap/hyrax//Nimbus7_TOMS_Level3/TOMSN7L3dery.008/1987/L3_eryln_n7t_19870107.txt'],\n",
        "        '/opendap/hyrax/Nimbus7_TOMS_Level3/TOMSN7L3dery.008/1987/'),\n",
        "    (   '/opendap/hyrax/Nimbus7_TOMS_Level3/TOMSN7L3dery.008/1987/L3_eryln_n7t_19870108.txt',\n",
        "        [   'http://acdisc.gsfc.nasa.gov/opendap/hyrax//Nimbus7_TOMS_Level3/TOMSN7L3dery.008/1987/L3_eryln_n7t_19870108.txt'],\n",
        "        '/opendap/hyrax/Nimbus7_TOMS_Level3/TOMSN7L3dery.008/1987/'),\n",
        "    (   '/opendap/hyrax/Nimbus7_TOMS_Level3/TOMSN7L3dery.008/1987/L3_eryln_n7t_19870109.txt',\n",
        "        [   'http://acdisc.gsfc.nasa.gov/opendap/hyrax//Nimbus7_TOMS_Level3/TOMSN7L3dery.008/1987/L3_eryln_n7t_19870109.txt'],\n",
        "        '/opendap/hyrax/Nimbus7_TOMS_Level3/TOMSN7L3dery.008/1987/'),\n",
        "    (   '/opendap/hyrax/Nimbus7_TOMS_Level3/TOMSN7L3dery.008/1987/L3_eryln_n7t_19870110.txt',\n",
        "        [   'http://acdisc.gsfc.nasa.gov/opendap/hyrax//Nimbus7_TOMS_Level3/TOMSN7L3dery.008/1987/L3_eryln_n7t_19870110.txt'],\n",
        "        '/opendap/hyrax/Nimbus7_TOMS_Level3/TOMSN7L3dery.008/1987/'),\n",
        "    (   '/opendap/hyrax/Nimbus7_TOMS_Level3/TOMSN7L3dery.008/1987/L3_eryln_n7t_19870111.txt',\n",
        "        [   'http://acdisc.gsfc.nasa.gov/opendap/hyrax//Nimbus7_TOMS_Level3/TOMSN7L3dery.008/1987/L3_eryln_n7t_19870111.txt'],\n",
        "        '/opendap/hyrax/Nimbus7_TOMS_Level3/TOMSN7L3dery.008/1987/'),\n",
        "    (   '/opendap/hyrax/Nimbus7_TOMS_Level3/TOMSN7L3dery.008/1987/L3_eryln_n7t_19870112.txt',\n",
        "        [   'http://acdisc.gsfc.nasa.gov/opendap/hyrax//Nimbus7_TOMS_Level3/TOMSN7L3dery.008/1987/L3_eryln_n7t_19870112.txt'],\n",
        "        '/opendap/hyrax/Nimbus7_TOMS_Level3/TOMSN7L3dery.008/1987/'),\n",
        "    (   '/opendap/hyrax/Nimbus7_TOMS_Level3/TOMSN7L3dery.008/1987/L3_eryln_n7t_19870113.txt',\n",
        "        [   'http://acdisc.gsfc.nasa.gov/opendap/hyrax//Nimbus7_TOMS_Level3/TOMSN7L3dery.008/1987/L3_eryln_n7t_19870113.txt'],\n",
        "        '/opendap/hyrax/Nimbus7_TOMS_Level3/TOMSN7L3dery.008/1987/'),\n",
        "    (   '/opendap/hyrax/Nimbus7_TOMS_Level3/TOMSN7L3dery.008/1987/L3_eryln_n7t_19870114.txt',\n",
        "        [   'http://acdisc.gsfc.nasa.gov/opendap/hyrax//Nimbus7_TOMS_Level3/TOMSN7L3dery.008/1987/L3_eryln_n7t_19870114.txt'],\n",
        "        '/opendap/hyrax/Nimbus7_TOMS_Level3/TOMSN7L3dery.008/1987/'),\n",
        "    (   '/opendap/hyrax/Nimbus7_TOMS_Level3/TOMSN7L3dery.008/1987/L3_eryln_n7t_19870115.txt',\n",
        "        [   'http://acdisc.gsfc.nasa.gov/opendap/hyrax//Nimbus7_TOMS_Level3/TOMSN7L3dery.008/1987/L3_eryln_n7t_19870115.txt'],\n",
        "        '/opendap/hyrax/Nimbus7_TOMS_Level3/TOMSN7L3dery.008/1987/'),\n",
        "    (   '/opendap/hyrax/Nimbus7_TOMS_Level3/TOMSN7L3dery.008/1987/L3_eryln_n7t_19870116.txt',\n",
        "        [   'http://acdisc.gsfc.nasa.gov/opendap/hyrax//Nimbus7_TOMS_Level3/TOMSN7L3dery.008/1987/L3_eryln_n7t_19870116.txt'],\n",
        "        '/opendap/hyrax/Nimbus7_TOMS_Level3/TOMSN7L3dery.008/1987/'),\n",
        "    (   '/opendap/hyrax/Nimbus7_TOMS_Level3/TOMSN7L3dery.008/1987/L3_eryln_n7t_19870117.txt',\n",
        "        [   'http://acdisc.gsfc.nasa.gov/opendap/hyrax//Nimbus7_TOMS_Level3/TOMSN7L3dery.008/1987/L3_eryln_n7t_19870117.txt'],\n",
        "        '/opendap/hyrax/Nimbus7_TOMS_Level3/TOMSN7L3dery.008/1987/'),\n",
        "    (   '/opendap/hyrax/Nimbus7_TOMS_Level3/TOMSN7L3dery.008/1987/L3_eryln_n7t_19870118.txt',\n",
        "        [   'http://acdisc.gsfc.nasa.gov/opendap/hyrax//Nimbus7_TOMS_Level3/TOMSN7L3dery.008/1987/L3_eryln_n7t_19870118.txt'],\n",
        "        '/opendap/hyrax/Nimbus7_TOMS_Level3/TOMSN7L3dery.008/1987/'),\n",
        "    (   '/opendap/hyrax/Nimbus7_TOMS_Level3/TOMSN7L3dery.008/1987/L3_eryln_n7t_19870119.txt',\n",
        "        [   'http://acdisc.gsfc.nasa.gov/opendap/hyrax//Nimbus7_TOMS_Level3/TOMSN7L3dery.008/1987/L3_eryln_n7t_19870119.txt'],\n",
        "        '/opendap/hyrax/Nimbus7_TOMS_Level3/TOMSN7L3dery.008/1987/'),\n",
        "    (   '/opendap/hyrax/Nimbus7_TOMS_Level3/TOMSN7L3dery.008/1987/L3_eryln_n7t_19870120.txt',\n",
        "        [   'http://acdisc.gsfc.nasa.gov/opendap/hyrax//Nimbus7_TOMS_Level3/TOMSN7L3dery.008/1987/L3_eryln_n7t_19870120.txt'],\n",
        "        '/opendap/hyrax/Nimbus7_TOMS_Level3/TOMSN7L3dery.008/1987/'),\n",
        "    (   '/opendap/hyrax/Nimbus7_TOMS_Level3/TOMSN7L3dery.008/1987/L3_eryln_n7t_19870121.txt',\n",
        "        [   'http://acdisc.gsfc.nasa.gov/opendap/hyrax//Nimbus7_TOMS_Level3/TOMSN7L3dery.008/1987/L3_eryln_n7t_19870121.txt'],\n",
        "        '/opendap/hyrax/Nimbus7_TOMS_Level3/TOMSN7L3dery.008/1987/'),\n",
        "    (   '/opendap/hyrax/Nimbus7_TOMS_Level3/TOMSN7L3dery.008/1987/L3_eryln_n7t_19870122.txt',\n",
        "        [   'http://acdisc.gsfc.nasa.gov/opendap/hyrax//Nimbus7_TOMS_Level3/TOMSN7L3dery.008/1987/L3_eryln_n7t_19870122.txt'],\n",
        "        '/opendap/hyrax/Nimbus7_TOMS_Level3/TOMSN7L3dery.008/1987/'),\n",
        "    (   '/opendap/hyrax/Nimbus7_TOMS_Level3/TOMSN7L3dery.008/1987/L3_eryln_n7t_19870123.txt',\n",
        "        [   'http://acdisc.gsfc.nasa.gov/opendap/hyrax//Nimbus7_TOMS_Level3/TOMSN7L3dery.008/1987/L3_eryln_n7t_19870123.txt'],\n",
        "        '/opendap/hyrax/Nimbus7_TOMS_Level3/TOMSN7L3dery.008/1987/'),\n",
        "    (   '/opendap/hyrax/Nimbus7_TOMS_Level3/TOMSN7L3dery.008/1987/L3_eryln_n7t_19870124.txt',\n",
        "        [   'http://acdisc.gsfc.nasa.gov/opendap/hyrax//Nimbus7_TOMS_Level3/TOMSN7L3dery.008/1987/L3_eryln_n7t_19870124.txt'],\n",
        "        '/opendap/hyrax/Nimbus7_TOMS_Level3/TOMSN7L3dery.008/1987/'),\n",
        "    (   '/opendap/hyrax/Nimbus7_TOMS_Level3/TOMSN7L3dery.008/1987/L3_eryln_n7t_19870125.txt',\n",
        "        [   'http://acdisc.gsfc.nasa.gov/opendap/hyrax//Nimbus7_TOMS_Level3/TOMSN7L3dery.008/1987/L3_eryln_n7t_19870125.txt'],\n",
        "        '/opendap/hyrax/Nimbus7_TOMS_Level3/TOMSN7L3dery.008/1987/'),\n",
        "    (   '/opendap/hyrax/Nimbus7_TOMS_Level3/TOMSN7L3dery.008/1987/L3_eryln_n7t_19870126.txt',\n",
        "        [   'http://acdisc.gsfc.nasa.gov/opendap/hyrax//Nimbus7_TOMS_Level3/TOMSN7L3dery.008/1987/L3_eryln_n7t_19870126.txt'],\n",
        "        '/opendap/hyrax/Nimbus7_TOMS_Level3/TOMSN7L3dery.008/1987/'),\n",
        "    (   '/opendap/hyrax/Nimbus7_TOMS_Level3/TOMSN7L3dery.008/1987/L3_eryln_n7t_19870127.txt',\n",
        "        [   'http://acdisc.gsfc.nasa.gov/opendap/hyrax//Nimbus7_TOMS_Level3/TOMSN7L3dery.008/1987/L3_eryln_n7t_19870127.txt'],\n",
        "        '/opendap/hyrax/Nimbus7_TOMS_Level3/TOMSN7L3dery.008/1987/'),\n",
        "    (   '/opendap/hyrax/Nimbus7_TOMS_Level3/TOMSN7L3dery.008/1987/L3_eryln_n7t_19870128.txt',\n",
        "        [   'http://acdisc.gsfc.nasa.gov/opendap/hyrax//Nimbus7_TOMS_Level3/TOMSN7L3dery.008/1987/L3_eryln_n7t_19870128.txt'],\n",
        "        '/opendap/hyrax/Nimbus7_TOMS_Level3/TOMSN7L3dery.008/1987/'),\n",
        "    (   '/opendap/hyrax/Nimbus7_TOMS_Level3/TOMSN7L3dery.008/1987/L3_eryln_n7t_19870129.txt',\n",
        "        [   'http://acdisc.gsfc.nasa.gov/opendap/hyrax//Nimbus7_TOMS_Level3/TOMSN7L3dery.008/1987/L3_eryln_n7t_19870129.txt'],\n",
        "        '/opendap/hyrax/Nimbus7_TOMS_Level3/TOMSN7L3dery.008/1987/'),\n",
        "    (   '/opendap/hyrax/Nimbus7_TOMS_Level3/TOMSN7L3dery.008/1987/L3_eryln_n7t_19870130.txt',\n",
        "        [   'http://acdisc.gsfc.nasa.gov/opendap/hyrax//Nimbus7_TOMS_Level3/TOMSN7L3dery.008/1987/L3_eryln_n7t_19870130.txt'],\n",
        "        '/opendap/hyrax/Nimbus7_TOMS_Level3/TOMSN7L3dery.008/1987/'),\n",
        "    (   '/opendap/hyrax/Nimbus7_TOMS_Level3/TOMSN7L3dery.008/1987/L3_eryln_n7t_19870131.txt',\n",
        "        [   'http://acdisc.gsfc.nasa.gov/opendap/hyrax//Nimbus7_TOMS_Level3/TOMSN7L3dery.008/1987/L3_eryln_n7t_19870131.txt'],\n",
        "        '/opendap/hyrax/Nimbus7_TOMS_Level3/TOMSN7L3dery.008/1987/'),\n",
        "    (   '/opendap/hyrax/Nimbus7_TOMS_Level3/TOMSN7L3dery.008/1987/L3_eryln_n7t_19870201.txt',\n",
        "        [   'http://acdisc.gsfc.nasa.gov/opendap/hyrax//Nimbus7_TOMS_Level3/TOMSN7L3dery.008/1987/L3_eryln_n7t_19870201.txt'],\n",
        "        '/opendap/hyrax/Nimbus7_TOMS_Level3/TOMSN7L3dery.008/1987/'),\n",
        "    (   '/opendap/hyrax/Nimbus7_TOMS_Level3/TOMSN7L3dery.008/1987/L3_eryln_n7t_19870202.txt',\n",
        "        [   'http://acdisc.gsfc.nasa.gov/opendap/hyrax//Nimbus7_TOMS_Level3/TOMSN7L3dery.008/1987/L3_eryln_n7t_19870202.txt'],\n",
        "        '/opendap/hyrax/Nimbus7_TOMS_Level3/TOMSN7L3dery.008/1987/'),\n",
        "    (   '/opendap/hyrax/Nimbus7_TOMS_Level3/TOMSN7L3dery.008/1987/L3_eryln_n7t_19870203.txt',\n",
        "        [   'http://acdisc.gsfc.nasa.gov/opendap/hyrax//Nimbus7_TOMS_Level3/TOMSN7L3dery.008/1987/L3_eryln_n7t_19870203.txt'],\n",
        "        '/opendap/hyrax/Nimbus7_TOMS_Level3/TOMSN7L3dery.008/1987/'),\n",
        "    (   '/opendap/hyrax/Nimbus7_TOMS_Level3/TOMSN7L3dery.008/1987/L3_eryln_n7t_19870204.txt',\n",
        "        [   'http://acdisc.gsfc.nasa.gov/opendap/hyrax//Nimbus7_TOMS_Level3/TOMSN7L3dery.008/1987/L3_eryln_n7t_19870204.txt'],\n",
        "        '/opendap/hyrax/Nimbus7_TOMS_Level3/TOMSN7L3dery.008/1987/'),\n",
        "    (   '/opendap/hyrax/Nimbus7_TOMS_Level3/TOMSN7L3dery.008/1987/L3_eryln_n7t_19870205.txt',\n",
        "        [   'http://acdisc.gsfc.nasa.gov/opendap/hyrax//Nimbus7_TOMS_Level3/TOMSN7L3dery.008/1987/L3_eryln_n7t_19870205.txt'],\n",
        "        '/opendap/hyrax/Nimbus7_TOMS_Level3/TOMSN7L3dery.008/1987/'),\n",
        "    (   '/opendap/hyrax/Nimbus7_TOMS_Level3/TOMSN7L3dery.008/1987/L3_eryln_n7t_19870206.txt',\n",
        "        [   'http://acdisc.gsfc.nasa.gov/opendap/hyrax//Nimbus7_TOMS_Level3/TOMSN7L3dery.008/1987/L3_eryln_n7t_19870206.txt'],\n",
        "        '/opendap/hyrax/Nimbus7_TOMS_Level3/TOMSN7L3dery.008/1987/'),\n",
        "    (   '/opendap/hyrax/Nimbus7_TOMS_Level3/TOMSN7L3dery.008/1987/L3_eryln_n7t_19870207.txt',\n",
        "        [   'http://acdisc.gsfc.nasa.gov/opendap/hyrax//Nimbus7_TOMS_Level3/TOMSN7L3dery.008/1987/L3_eryln_n7t_19870207.txt'],\n",
        "        '/opendap/hyrax/Nimbus7_TOMS_Level3/TOMSN7L3dery.008/1987/'),\n",
        "    (   '/opendap/hyrax/Nimbus7_TOMS_Level3/TOMSN7L3dery.008/1987/L3_eryln_n7t_19870208.txt',\n",
        "        [   'http://acdisc.gsfc.nasa.gov/opendap/hyrax//Nimbus7_TOMS_Level3/TOMSN7L3dery.008/1987/L3_eryln_n7t_19870208.txt'],\n",
        "        '/opendap/hyrax/Nimbus7_TOMS_Level3/TOMSN7L3dery.008/1987/'),\n",
        "    (   '/opendap/hyrax/Nimbus7_TOMS_Level3/TOMSN7L3dery.008/1987/L3_eryln_n7t_19870209.txt',\n",
        "        [   'http://acdisc.gsfc.nasa.gov/opendap/hyrax//Nimbus7_TOMS_Level3/TOMSN7L3dery.008/1987/L3_eryln_n7t_19870209.txt'],\n",
        "        '/opendap/hyrax/Nimbus7_TOMS_Level3/TOMSN7L3dery.008/1987/'),\n",
        "    (   '/opendap/hyrax/Nimbus7_TOMS_Level3/TOMSN7L3dery.008/1987/L3_eryln_n7t_19870210.txt',\n",
        "        [   'http://acdisc.gsfc.nasa.gov/opendap/hyrax//Nimbus7_TOMS_Level3/TOMSN7L3dery.008/1987/L3_eryln_n7t_19870210.txt'],\n",
        "        '/opendap/hyrax/Nimbus7_TOMS_Level3/TOMSN7L3dery.008/1987/'),\n",
        "    (   '/opendap/hyrax/Nimbus7_TOMS_Level3/TOMSN7L3dery.008/1987/L3_eryln_n7t_19870211.txt',\n",
        "        [   'http://acdisc.gsfc.nasa.gov/opendap/hyrax//Nimbus7_TOMS_Level3/TOMSN7L3dery.008/1987/L3_eryln_n7t_19870211.txt'],\n",
        "        '/opendap/hyrax/Nimbus7_TOMS_Level3/TOMSN7L3dery.008/1987/'),\n",
        "    (   '/opendap/hyrax/Nimbus7_TOMS_Level3/TOMSN7L3dery.008/1987/L3_eryln_n7t_19870212.txt',\n",
        "        [   'http://acdisc.gsfc.nasa.gov/opendap/hyrax//Nimbus7_TOMS_Level3/TOMSN7L3dery.008/1987/L3_eryln_n7t_19870212.txt'],\n",
        "        '/opendap/hyrax/Nimbus7_TOMS_Level3/TOMSN7L3dery.008/1987/'),\n",
        "    (   '/opendap/hyrax/Nimbus7_TOMS_Level3/TOMSN7L3dery.008/1987/L3_eryln_n7t_19870213.txt',\n",
        "        [   'http://acdisc.gsfc.nasa.gov/opendap/hyrax//Nimbus7_TOMS_Level3/TOMSN7L3dery.008/1987/L3_eryln_n7t_19870213.txt'],\n",
        "        '/opendap/hyrax/Nimbus7_TOMS_Level3/TOMSN7L3dery.008/1987/'),\n",
        "    (   '/opendap/hyrax/Nimbus7_TOMS_Level3/TOMSN7L3dery.008/1987/L3_eryln_n7t_19870214.txt',\n",
        "        [   'http://acdisc.gsfc.nasa.gov/opendap/hyrax//Nimbus7_TOMS_Level3/TOMSN7L3dery.008/1987/L3_eryln_n7t_19870214.txt'],\n",
        "        '/opendap/hyrax/Nimbus7_TOMS_Level3/TOMSN7L3dery.008/1987/'),\n",
        "    (   '/opendap/hyrax/Nimbus7_TOMS_Level3/TOMSN7L3dery.008/1987/L3_eryln_n7t_19870215.txt',\n",
        "        [   'http://acdisc.gsfc.nasa.gov/opendap/hyrax//Nimbus7_TOMS_Level3/TOMSN7L3dery.008/1987/L3_eryln_n7t_19870215.txt'],\n",
        "        '/opendap/hyrax/Nimbus7_TOMS_Level3/TOMSN7L3dery.008/1987/'),\n",
        "    (   '/opendap/hyrax/Nimbus7_TOMS_Level3/TOMSN7L3dery.008/1987/L3_eryln_n7t_19870216.txt',\n",
        "        [   'http://acdisc.gsfc.nasa.gov/opendap/hyrax//Nimbus7_TOMS_Level3/TOMSN7L3dery.008/1987/L3_eryln_n7t_19870216.txt'],\n",
        "        '/opendap/hyrax/Nimbus7_TOMS_Level3/TOMSN7L3dery.008/1987/'),\n",
        "    (   '/opendap/hyrax/Nimbus7_TOMS_Level3/TOMSN7L3dery.008/1987/L3_eryln_n7t_19870217.txt',\n",
        "        [   'http://acdisc.gsfc.nasa.gov/opendap/hyrax//Nimbus7_TOMS_Level3/TOMSN7L3dery.008/1987/L3_eryln_n7t_19870217.txt'],\n",
        "        '/opendap/hyrax/Nimbus7_TOMS_Level3/TOMSN7L3dery.008/1987/'),\n",
        "    (   '/opendap/hyrax/Nimbus7_TOMS_Level3/TOMSN7L3dery.008/1987/L3_eryln_n7t_19870218.txt',\n",
        "        [   'http://acdisc.gsfc.nasa.gov/opendap/hyrax//Nimbus7_TOMS_Level3/TOMSN7L3dery.008/1987/L3_eryln_n7t_19870218.txt'],\n",
        "        '/opendap/hyrax/Nimbus7_TOMS_Level3/TOMSN7L3dery.008/1987/'),\n",
        "    (   '/opendap/hyrax/Nimbus7_TOMS_Level3/TOMSN7L3dery.008/1987/L3_eryln_n7t_19870219.txt',\n",
        "        [   'http://acdisc.gsfc.nasa.gov/opendap/hyrax//Nimbus7_TOMS_Level3/TOMSN7L3dery.008/1987/L3_eryln_n7t_19870219.txt'],\n",
        "        '/opendap/hyrax/Nimbus7_TOMS_Level3/TOMSN7L3dery.008/1987/'),\n",
        "    (   '/opendap/hyrax/Nimbus7_TOMS_Level3/TOMSN7L3dery.008/1987/L3_eryln_n7t_19870220.txt',\n",
        "        [   'http://acdisc.gsfc.nasa.gov/opendap/hyrax//Nimbus7_TOMS_Level3/TOMSN7L3dery.008/1987/L3_eryln_n7t_19870220.txt'],\n",
        "        '/opendap/hyrax/Nimbus7_TOMS_Level3/TOMSN7L3dery.008/1987/'),\n",
        "    (   '/opendap/hyrax/Nimbus7_TOMS_Level3/TOMSN7L3dery.008/1987/L3_eryln_n7t_19870221.txt',\n",
        "        [   'http://acdisc.gsfc.nasa.gov/opendap/hyrax//Nimbus7_TOMS_Level3/TOMSN7L3dery.008/1987/L3_eryln_n7t_19870221.txt'],\n",
        "        '/opendap/hyrax/Nimbus7_TOMS_Level3/TOMSN7L3dery.008/1987/'),\n",
        "    (   '/opendap/hyrax/Nimbus7_TOMS_Level3/TOMSN7L3dery.008/1987/L3_eryln_n7t_19870222.txt',\n",
        "        [   'http://acdisc.gsfc.nasa.gov/opendap/hyrax//Nimbus7_TOMS_Level3/TOMSN7L3dery.008/1987/L3_eryln_n7t_19870222.txt'],\n",
        "        '/opendap/hyrax/Nimbus7_TOMS_Level3/TOMSN7L3dery.008/1987/'),\n",
        "    (   '/opendap/hyrax/Nimbus7_TOMS_Level3/TOMSN7L3dery.008/1987/L3_eryln_n7t_19870223.txt',\n",
        "        [   'http://acdisc.gsfc.nasa.gov/opendap/hyrax//Nimbus7_TOMS_Level3/TOMSN7L3dery.008/1987/L3_eryln_n7t_19870223.txt'],\n",
        "        '/opendap/hyrax/Nimbus7_TOMS_Level3/TOMSN7L3dery.008/1987/'),\n",
        "    (   '/opendap/hyrax/Nimbus7_TOMS_Level3/TOMSN7L3dery.008/1987/L3_eryln_n7t_19870224.txt',\n",
        "        [   'http://acdisc.gsfc.nasa.gov/opendap/hyrax//Nimbus7_TOMS_Level3/TOMSN7L3dery.008/1987/L3_eryln_n7t_19870224.txt'],\n",
        "        '/opendap/hyrax/Nimbus7_TOMS_Level3/TOMSN7L3dery.008/1987/'),\n",
        "    (   '/opendap/hyrax/Nimbus7_TOMS_Level3/TOMSN7L3dery.008/1987/L3_eryln_n7t_19870225.txt',\n",
        "        [   'http://acdisc.gsfc.nasa.gov/opendap/hyrax//Nimbus7_TOMS_Level3/TOMSN7L3dery.008/1987/L3_eryln_n7t_19870225.txt'],\n",
        "        '/opendap/hyrax/Nimbus7_TOMS_Level3/TOMSN7L3dery.008/1987/'),\n",
        "    (   '/opendap/hyrax/Nimbus7_TOMS_Level3/TOMSN7L3dery.008/1987/L3_eryln_n7t_19870226.txt',\n",
        "        [   'http://acdisc.gsfc.nasa.gov/opendap/hyrax//Nimbus7_TOMS_Level3/TOMSN7L3dery.008/1987/L3_eryln_n7t_19870226.txt'],\n",
        "        '/opendap/hyrax/Nimbus7_TOMS_Level3/TOMSN7L3dery.008/1987/'),\n",
        "    (   '/opendap/hyrax/Nimbus7_TOMS_Level3/TOMSN7L3dery.008/1987/L3_eryln_n7t_19870227.txt',\n",
        "        [   'http://acdisc.gsfc.nasa.gov/opendap/hyrax//Nimbus7_TOMS_Level3/TOMSN7L3dery.008/1987/L3_eryln_n7t_19870227.txt'],\n",
        "        '/opendap/hyrax/Nimbus7_TOMS_Level3/TOMSN7L3dery.008/1987/'),\n",
        "    (   '/opendap/hyrax/Nimbus7_TOMS_Level3/TOMSN7L3dery.008/1987/L3_eryln_n7t_19870228.txt',\n",
        "        [   'http://acdisc.gsfc.nasa.gov/opendap/hyrax//Nimbus7_TOMS_Level3/TOMSN7L3dery.008/1987/L3_eryln_n7t_19870228.txt'],\n",
        "        '/opendap/hyrax/Nimbus7_TOMS_Level3/TOMSN7L3dery.008/1987/'),\n",
        "    (   '/opendap/hyrax/Nimbus7_TOMS_Level3/TOMSN7L3dery.008/1987/L3_eryln_n7t_19870301.txt',\n",
        "        [   'http://acdisc.gsfc.nasa.gov/opendap/hyrax//Nimbus7_TOMS_Level3/TOMSN7L3dery.008/1987/L3_eryln_n7t_19870301.txt'],\n",
        "        '/opendap/hyrax/Nimbus7_TOMS_Level3/TOMSN7L3dery.008/1987/'),\n",
        "    (   '/opendap/hyrax/Nimbus7_TOMS_Level3/TOMSN7L3dery.008/1987/L3_eryln_n7t_19870302.txt',\n",
        "        [   'http://acdisc.gsfc.nasa.gov/opendap/hyrax//Nimbus7_TOMS_Level3/TOMSN7L3dery.008/1987/L3_eryln_n7t_19870302.txt'],\n",
        "        '/opendap/hyrax/Nimbus7_TOMS_Level3/TOMSN7L3dery.008/1987/'),\n",
        "    (   '/opendap/hyrax/Nimbus7_TOMS_Level3/TOMSN7L3dery.008/1987/L3_eryln_n7t_19870303.txt',\n",
        "        [   'http://acdisc.gsfc.nasa.gov/opendap/hyrax//Nimbus7_TOMS_Level3/TOMSN7L3dery.008/1987/L3_eryln_n7t_19870303.txt'],\n",
        "        '/opendap/hyrax/Nimbus7_TOMS_Level3/TOMSN7L3dery.008/1987/'),\n",
        "    (   '/opendap/hyrax/Nimbus7_TOMS_Level3/TOMSN7L3dery.008/1987/L3_eryln_n7t_19870304.txt',\n",
        "        [   'http://acdisc.gsfc.nasa.gov/opendap/hyrax//Nimbus7_TOMS_Level3/TOMSN7L3dery.008/1987/L3_eryln_n7t_19870304.txt'],\n",
        "        '/opendap/hyrax/Nimbus7_TOMS_Level3/TOMSN7L3dery.008/1987/'),\n",
        "    (   '/opendap/hyrax/Nimbus7_TOMS_Level3/TOMSN7L3dery.008/1987/L3_eryln_n7t_19870305.txt',\n",
        "        [   'http://acdisc.gsfc.nasa.gov/opendap/hyrax//Nimbus7_TOMS_Level3/TOMSN7L3dery.008/1987/L3_eryln_n7t_19870305.txt'],\n",
        "        '/opendap/hyrax/Nimbus7_TOMS_Level3/TOMSN7L3dery.008/1987/'),\n",
        "    (   '/opendap/hyrax/Nimbus7_TOMS_Level3/TOMSN7L3dery.008/1987/L3_eryln_n7t_19870306.txt',\n",
        "        [   'http://acdisc.gsfc.nasa.gov/opendap/hyrax//Nimbus7_TOMS_Level3/TOMSN7L3dery.008/1987/L3_eryln_n7t_19870306.txt'],\n",
        "        '/opendap/hyrax/Nimbus7_TOMS_Level3/TOMSN7L3dery.008/1987/'),\n",
        "    (   '/opendap/hyrax/Nimbus7_TOMS_Level3/TOMSN7L3dery.008/1987/L3_eryln_n7t_19870307.txt',\n",
        "        [   'http://acdisc.gsfc.nasa.gov/opendap/hyrax//Nimbus7_TOMS_Level3/TOMSN7L3dery.008/1987/L3_eryln_n7t_19870307.txt'],\n",
        "        '/opendap/hyrax/Nimbus7_TOMS_Level3/TOMSN7L3dery.008/1987/'),\n",
        "    (   '/opendap/hyrax/Nimbus7_TOMS_Level3/TOMSN7L3dery.008/1987/L3_eryln_n7t_19870308.txt',\n",
        "        [   'http://acdisc.gsfc.nasa.gov/opendap/hyrax//Nimbus7_TOMS_Level3/TOMSN7L3dery.008/1987/L3_eryln_n7t_19870308.txt'],\n",
        "        '/opendap/hyrax/Nimbus7_TOMS_Level3/TOMSN7L3dery.008/1987/'),\n",
        "    (   '/opendap/hyrax/Nimbus7_TOMS_Level3/TOMSN7L3dery.008/1987/L3_eryln_n7t_19870309.txt',\n",
        "        [   'http://acdisc.gsfc.nasa.gov/opendap/hyrax//Nimbus7_TOMS_Level3/TOMSN7L3dery.008/1987/L3_eryln_n7t_19870309.txt'],\n",
        "        '/opendap/hyrax/Nimbus7_TOMS_Level3/TOMSN7L3dery.008/1987/'),\n",
        "    (   '/opendap/hyrax/Nimbus7_TOMS_Level3/TOMSN7L3dery.008/1987/L3_eryln_n7t_19870310.txt',\n",
        "        [   'http://acdisc.gsfc.nasa.gov/opendap/hyrax//Nimbus7_TOMS_Level3/TOMSN7L3dery.008/1987/L3_eryln_n7t_19870310.txt'],\n",
        "        '/opendap/hyrax/Nimbus7_TOMS_Level3/TOMSN7L3dery.008/1987/'),\n",
        "    (   '/opendap/hyrax/Nimbus7_TOMS_Level3/TOMSN7L3dery.008/1987/L3_eryln_n7t_19870311.txt',\n",
        "        [   'http://acdisc.gsfc.nasa.gov/opendap/hyrax//Nimbus7_TOMS_Level3/TOMSN7L3dery.008/1987/L3_eryln_n7t_19870311.txt'],\n",
        "        '/opendap/hyrax/Nimbus7_TOMS_Level3/TOMSN7L3dery.008/1987/'),\n",
        "    (   '/opendap/hyrax/Nimbus7_TOMS_Level3/TOMSN7L3dery.008/1987/L3_eryln_n7t_19870312.txt',\n",
        "        [   'http://acdisc.gsfc.nasa.gov/opendap/hyrax//Nimbus7_TOMS_Level3/TOMSN7L3dery.008/1987/L3_eryln_n7t_19870312.txt'],\n",
        "        '/opendap/hyrax/Nimbus7_TOMS_Level3/TOMSN7L3dery.008/1987/'),\n",
        "    (   '/opendap/hyrax/Nimbus7_TOMS_Level3/TOMSN7L3dery.008/1987/L3_eryln_n7t_19870313.txt',\n",
        "        [   'http://acdisc.gsfc.nasa.gov/opendap/hyrax//Nimbus7_TOMS_Level3/TOMSN7L3dery.008/1987/L3_eryln_n7t_19870313.txt'],\n",
        "        '/opendap/hyrax/Nimbus7_TOMS_Level3/TOMSN7L3dery.008/1987/'),\n",
        "    (   '/opendap/hyrax/Nimbus7_TOMS_Level3/TOMSN7L3dery.008/1987/L3_eryln_n7t_19870314.txt',\n",
        "        [   'http://acdisc.gsfc.nasa.gov/opendap/hyrax//Nimbus7_TOMS_Level3/TOMSN7L3dery.008/1987/L3_eryln_n7t_19870314.txt'],\n",
        "        '/opendap/hyrax/Nimbus7_TOMS_Level3/TOMSN7L3dery.008/1987/'),\n",
        "    (   '/opendap/hyrax/Nimbus7_TOMS_Level3/TOMSN7L3dery.008/1987/L3_eryln_n7t_19870315.txt',\n",
        "        [   'http://acdisc.gsfc.nasa.gov/opendap/hyrax//Nimbus7_TOMS_Level3/TOMSN7L3dery.008/1987/L3_eryln_n7t_19870315.txt'],\n",
        "        '/opendap/hyrax/Nimbus7_TOMS_Level3/TOMSN7L3dery.008/1987/'),\n",
        "    (   '/opendap/hyrax/Nimbus7_TOMS_Level3/TOMSN7L3dery.008/1987/L3_eryln_n7t_19870316.txt',\n",
        "        [   'http://acdisc.gsfc.nasa.gov/opendap/hyrax//Nimbus7_TOMS_Level3/TOMSN7L3dery.008/1987/L3_eryln_n7t_19870316.txt'],\n",
        "        '/opendap/hyrax/Nimbus7_TOMS_Level3/TOMSN7L3dery.008/1987/'),\n",
        "    (   '/opendap/hyrax/Nimbus7_TOMS_Level3/TOMSN7L3dery.008/1987/L3_eryln_n7t_19870317.txt',\n",
        "        [   'http://acdisc.gsfc.nasa.gov/opendap/hyrax//Nimbus7_TOMS_Level3/TOMSN7L3dery.008/1987/L3_eryln_n7t_19870317.txt'],\n",
        "        '/opendap/hyrax/Nimbus7_TOMS_Level3/TOMSN7L3dery.008/1987/'),\n",
        "    (   '/opendap/hyrax/Nimbus7_TOMS_Level3/TOMSN7L3dery.008/1987/L3_eryln_n7t_19870318.txt',\n",
        "        [   'http://acdisc.gsfc.nasa.gov/opendap/hyrax//Nimbus7_TOMS_Level3/TOMSN7L3dery.008/1987/L3_eryln_n7t_19870318.txt'],\n",
        "        '/opendap/hyrax/Nimbus7_TOMS_Level3/TOMSN7L3dery.008/1987/'),\n",
        "    (   '/opendap/hyrax/Nimbus7_TOMS_Level3/TOMSN7L3dery.008/1987/L3_eryln_n7t_19870319.txt',\n",
        "        [   'http://acdisc.gsfc.nasa.gov/opendap/hyrax//Nimbus7_TOMS_Level3/TOMSN7L3dery.008/1987/L3_eryln_n7t_19870319.txt'],\n",
        "        '/opendap/hyrax/Nimbus7_TOMS_Level3/TOMSN7L3dery.008/1987/'),\n",
        "    (   '/opendap/hyrax/Nimbus7_TOMS_Level3/TOMSN7L3dery.008/1987/L3_eryln_n7t_19870320.txt',\n",
        "        [   'http://acdisc.gsfc.nasa.gov/opendap/hyrax//Nimbus7_TOMS_Level3/TOMSN7L3dery.008/1987/L3_eryln_n7t_19870320.txt'],\n",
        "        '/opendap/hyrax/Nimbus7_TOMS_Level3/TOMSN7L3dery.008/1987/'),\n",
        "    (   '/opendap/hyrax/Nimbus7_TOMS_Level3/TOMSN7L3dery.008/1987/L3_eryln_n7t_19870321.txt',\n",
        "        [   'http://acdisc.gsfc.nasa.gov/opendap/hyrax//Nimbus7_TOMS_Level3/TOMSN7L3dery.008/1987/L3_eryln_n7t_19870321.txt'],\n",
        "        '/opendap/hyrax/Nimbus7_TOMS_Level3/TOMSN7L3dery.008/1987/'),\n",
        "    (   '/opendap/hyrax/Nimbus7_TOMS_Level3/TOMSN7L3dery.008/1987/L3_eryln_n7t_19870322.txt',\n",
        "        [   'http://acdisc.gsfc.nasa.gov/opendap/hyrax//Nimbus7_TOMS_Level3/TOMSN7L3dery.008/1987/L3_eryln_n7t_19870322.txt'],\n",
        "        '/opendap/hyrax/Nimbus7_TOMS_Level3/TOMSN7L3dery.008/1987/'),\n",
        "    (   '/opendap/hyrax/Nimbus7_TOMS_Level3/TOMSN7L3dery.008/1987/L3_eryln_n7t_19870323.txt',\n",
        "        [   'http://acdisc.gsfc.nasa.gov/opendap/hyrax//Nimbus7_TOMS_Level3/TOMSN7L3dery.008/1987/L3_eryln_n7t_19870323.txt'],\n",
        "        '/opendap/hyrax/Nimbus7_TOMS_Level3/TOMSN7L3dery.008/1987/'),\n",
        "    (   '/opendap/hyrax/Nimbus7_TOMS_Level3/TOMSN7L3dery.008/1987/L3_eryln_n7t_19870324.txt',\n",
        "        [   'http://acdisc.gsfc.nasa.gov/opendap/hyrax//Nimbus7_TOMS_Level3/TOMSN7L3dery.008/1987/L3_eryln_n7t_19870324.txt'],\n",
        "        '/opendap/hyrax/Nimbus7_TOMS_Level3/TOMSN7L3dery.008/1987/'),\n",
        "    (   '/opendap/hyrax/Nimbus7_TOMS_Level3/TOMSN7L3dery.008/1987/L3_eryln_n7t_19870325.txt',\n",
        "        [   'http://acdisc.gsfc.nasa.gov/opendap/hyrax//Nimbus7_TOMS_Level3/TOMSN7L3dery.008/1987/L3_eryln_n7t_19870325.txt'],\n",
        "        '/opendap/hyrax/Nimbus7_TOMS_Level3/TOMSN7L3dery.008/1987/'),\n",
        "    (   '/opendap/hyrax/Nimbus7_TOMS_Level3/TOMSN7L3dery.008/1987/L3_eryln_n7t_19870326.txt',\n",
        "        [   'http://acdisc.gsfc.nasa.gov/opendap/hyrax//Nimbus7_TOMS_Level3/TOMSN7L3dery.008/1987/L3_eryln_n7t_19870326.txt'],\n",
        "        '/opendap/hyrax/Nimbus7_TOMS_Level3/TOMSN7L3dery.008/1987/'),\n",
        "    (   '/opendap/hyrax/Nimbus7_TOMS_Level3/TOMSN7L3dery.008/1987/L3_eryln_n7t_19870327.txt',\n",
        "        [   'http://acdisc.gsfc.nasa.gov/opendap/hyrax//Nimbus7_TOMS_Level3/TOMSN7L3dery.008/1987/L3_eryln_n7t_19870327.txt'],\n",
        "        '/opendap/hyrax/Nimbus7_TOMS_Level3/TOMSN7L3dery.008/1987/'),\n",
        "    (   '/opendap/hyrax/Nimbus7_TOMS_Level3/TOMSN7L3dery.008/1987/L3_eryln_n7t_19870328.txt',\n",
        "        [   'http://acdisc.gsfc.nasa.gov/opendap/hyrax//Nimbus7_TOMS_Level3/TOMSN7L3dery.008/1987/L3_eryln_n7t_19870328.txt'],\n",
        "        '/opendap/hyrax/Nimbus7_TOMS_Level3/TOMSN7L3dery.008/1987/'),\n",
        "    (   '/opendap/hyrax/Nimbus7_TOMS_Level3/TOMSN7L3dery.008/1987/L3_eryln_n7t_19870329.txt',\n",
        "        [   'http://acdisc.gsfc.nasa.gov/opendap/hyrax//Nimbus7_TOMS_Level3/TOMSN7L3dery.008/1987/L3_eryln_n7t_19870329.txt'],\n",
        "        '/opendap/hyrax/Nimbus7_TOMS_Level3/TOMSN7L3dery.008/1987/'),\n",
        "    (   '/opendap/hyrax/Nimbus7_TOMS_Level3/TOMSN7L3dery.008/1987/L3_eryln_n7t_19870330.txt',\n",
        "        [   'http://acdisc.gsfc.nasa.gov/opendap/hyrax//Nimbus7_TOMS_Level3/TOMSN7L3dery.008/1987/L3_eryln_n7t_19870330.txt'],\n",
        "        '/opendap/hyrax/Nimbus7_TOMS_Level3/TOMSN7L3dery.008/1987/'),\n",
        "    (   '/opendap/hyrax/Nimbus7_TOMS_Level3/TOMSN7L3dery.008/1987/L3_eryln_n7t_19870331.txt',\n",
        "        [   'http://acdisc.gsfc.nasa.gov/opendap/hyrax//Nimbus7_TOMS_Level3/TOMSN7L3dery.008/1987/L3_eryln_n7t_19870331.txt'],\n",
        "        '/opendap/hyrax/Nimbus7_TOMS_Level3/TOMSN7L3dery.008/1987/'),\n",
        "    (   '/opendap/hyrax/Nimbus7_TOMS_Level3/TOMSN7L3dery.008/1987/L3_eryln_n7t_19870401.txt',\n",
        "        [   'http://acdisc.gsfc.nasa.gov/opendap/hyrax//Nimbus7_TOMS_Level3/TOMSN7L3dery.008/1987/L3_eryln_n7t_19870401.txt'],\n",
        "        '/opendap/hyrax/Nimbus7_TOMS_Level3/TOMSN7L3dery.008/1987/'),\n",
        "    (   '/opendap/hyrax/Nimbus7_TOMS_Level3/TOMSN7L3dery.008/1987/L3_eryln_n7t_19870402.txt',\n",
        "        [   'http://acdisc.gsfc.nasa.gov/opendap/hyrax//Nimbus7_TOMS_Level3/TOMSN7L3dery.008/1987/L3_eryln_n7t_19870402.txt'],\n",
        "        '/opendap/hyrax/Nimbus7_TOMS_Level3/TOMSN7L3dery.008/1987/'),\n",
        "    (   '/opendap/hyrax/Nimbus7_TOMS_Level3/TOMSN7L3dery.008/1987/L3_eryln_n7t_19870403.txt',\n",
        "        [   'http://acdisc.gsfc.nasa.gov/opendap/hyrax//Nimbus7_TOMS_Level3/TOMSN7L3dery.008/1987/L3_eryln_n7t_19870403.txt'],\n",
        "        '/opendap/hyrax/Nimbus7_TOMS_Level3/TOMSN7L3dery.008/1987/'),\n",
        "    (   '/opendap/hyrax/Nimbus7_TOMS_Level3/TOMSN7L3dery.008/1987/L3_eryln_n7t_19870404.txt',\n",
        "        [   'http://acdisc.gsfc.nasa.gov/opendap/hyrax//Nimbus7_TOMS_Level3/TOMSN7L3dery.008/1987/L3_eryln_n7t_19870404.txt'],\n",
        "        '/opendap/hyrax/Nimbus7_TOMS_Level3/TOMSN7L3dery.008/1987/'),\n",
        "    (   '/opendap/hyrax/Nimbus7_TOMS_Level3/TOMSN7L3dery.008/1987/L3_eryln_n7t_19870405.txt',\n",
        "        [   'http://acdisc.gsfc.nasa.gov/opendap/hyrax//Nimbus7_TOMS_Level3/TOMSN7L3dery.008/1987/L3_eryln_n7t_19870405.txt'],\n",
        "        '/opendap/hyrax/Nimbus7_TOMS_Level3/TOMSN7L3dery.008/1987/'),\n",
        "    (   '/opendap/hyrax/Nimbus7_TOMS_Level3/TOMSN7L3dery.008/1987/L3_eryln_n7t_19870406.txt',\n",
        "        [   'http://acdisc.gsfc.nasa.gov/opendap/hyrax//Nimbus7_TOMS_Level3/TOMSN7L3dery.008/1987/L3_eryln_n7t_19870406.txt'],\n",
        "        '/opendap/hyrax/Nimbus7_TOMS_Level3/TOMSN7L3dery.008/1987/'),\n",
        "    (   '/opendap/hyrax/Nimbus7_TOMS_Level3/TOMSN7L3dery.008/1987/L3_eryln_n7t_19870407.txt',\n",
        "        [   'http://acdisc.gsfc.nasa.gov/opendap/hyrax//Nimbus7_TOMS_Level3/TOMSN7L3dery.008/1987/L3_eryln_n7t_19870407.txt'],\n",
        "        '/opendap/hyrax/Nimbus7_TOMS_Level3/TOMSN7L3dery.008/1987/'),\n",
        "    (   '/opendap/hyrax/Nimbus7_TOMS_Level3/TOMSN7L3dery.008/1987/L3_eryln_n7t_19870408.txt',\n",
        "        [   'http://acdisc.gsfc.nasa.gov/opendap/hyrax//Nimbus7_TOMS_Level3/TOMSN7L3dery.008/1987/L3_eryln_n7t_19870408.txt'],\n",
        "        '/opendap/hyrax/Nimbus7_TOMS_Level3/TOMSN7L3dery.008/1987/'),\n",
        "    (   '/opendap/hyrax/Nimbus7_TOMS_Level3/TOMSN7L3dery.008/1987/L3_eryln_n7t_19870409.txt',\n",
        "        [   'http://acdisc.gsfc.nasa.gov/opendap/hyrax//Nimbus7_TOMS_Level3/TOMSN7L3dery.008/1987/L3_eryln_n7t_19870409.txt'],\n",
        "        '/opendap/hyrax/Nimbus7_TOMS_Level3/TOMSN7L3dery.008/1987/'),\n",
        "    (   '/opendap/hyrax/Nimbus7_TOMS_Level3/TOMSN7L3dery.008/1987/L3_eryln_n7t_19870410.txt',\n",
        "        [   'http://acdisc.gsfc.nasa.gov/opendap/hyrax//Nimbus7_TOMS_Level3/TOMSN7L3dery.008/1987/L3_eryln_n7t_19870410.txt'],\n",
        "        '/opendap/hyrax/Nimbus7_TOMS_Level3/TOMSN7L3dery.008/1987/'),\n",
        "    (   '/opendap/hyrax/Nimbus7_TOMS_Level3/TOMSN7L3dery.008/1987/L3_eryln_n7t_19870411.txt',\n",
        "        [   'http://acdisc.gsfc.nasa.gov/opendap/hyrax//Nimbus7_TOMS_Level3/TOMSN7L3dery.008/1987/L3_eryln_n7t_19870411.txt'],\n",
        "        '/opendap/hyrax/Nimbus7_TOMS_Level3/TOMSN7L3dery.008/1987/'),\n",
        "    (   '/opendap/hyrax/Nimbus7_TOMS_Level3/TOMSN7L3dery.008/1987/L3_eryln_n7t_19870412.txt',\n",
        "        [   'http://acdisc.gsfc.nasa.gov/opendap/hyrax//Nimbus7_TOMS_Level3/TOMSN7L3dery.008/1987/L3_eryln_n7t_19870412.txt'],\n",
        "        '/opendap/hyrax/Nimbus7_TOMS_Level3/TOMSN7L3dery.008/1987/'),\n",
        "    (   '/opendap/hyrax/Nimbus7_TOMS_Level3/TOMSN7L3dery.008/1987/L3_eryln_n7t_19870413.txt',\n",
        "        [   'http://acdisc.gsfc.nasa.gov/opendap/hyrax//Nimbus7_TOMS_Level3/TOMSN7L3dery.008/1987/L3_eryln_n7t_19870413.txt'],\n",
        "        '/opendap/hyrax/Nimbus7_TOMS_Level3/TOMSN7L3dery.008/1987/'),\n",
        "    (   '/opendap/hyrax/Nimbus7_TOMS_Level3/TOMSN7L3dery.008/1987/L3_eryln_n7t_19870414.txt',\n",
        "        [   'http://acdisc.gsfc.nasa.gov/opendap/hyrax//Nimbus7_TOMS_Level3/TOMSN7L3dery.008/1987/L3_eryln_n7t_19870414.txt'],\n",
        "        '/opendap/hyrax/Nimbus7_TOMS_Level3/TOMSN7L3dery.008/1987/'),\n",
        "    (   '/opendap/hyrax/Nimbus7_TOMS_Level3/TOMSN7L3dery.008/1987/L3_eryln_n7t_19870415.txt',\n",
        "        [   'http://acdisc.gsfc.nasa.gov/opendap/hyrax//Nimbus7_TOMS_Level3/TOMSN7L3dery.008/1987/L3_eryln_n7t_19870415.txt'],\n",
        "        '/opendap/hyrax/Nimbus7_TOMS_Level3/TOMSN7L3dery.008/1987/'),\n",
        "    (   '/opendap/hyrax/Nimbus7_TOMS_Level3/TOMSN7L3dery.008/1987/L3_eryln_n7t_19870416.txt',\n",
        "        [   'http://acdisc.gsfc.nasa.gov/opendap/hyrax//Nimbus7_TOMS_Level3/TOMSN7L3dery.008/1987/L3_eryln_n7t_19870416.txt'],\n",
        "        '/opendap/hyrax/Nimbus7_TOMS_Level3/TOMSN7L3dery.008/1987/'),\n",
        "    (   '/opendap/hyrax/Nimbus7_TOMS_Level3/TOMSN7L3dery.008/1987/L3_eryln_n7t_19870417.txt',\n",
        "        [   'http://acdisc.gsfc.nasa.gov/opendap/hyrax//Nimbus7_TOMS_Level3/TOMSN7L3dery.008/1987/L3_eryln_n7t_19870417.txt'],\n",
        "        '/opendap/hyrax/Nimbus7_TOMS_Level3/TOMSN7L3dery.008/1987/'),\n",
        "    (   '/opendap/hyrax/Nimbus7_TOMS_Level3/TOMSN7L3dery.008/1987/L3_eryln_n7t_19870418.txt',\n",
        "        [   'http://acdisc.gsfc.nasa.gov/opendap/hyrax//Nimbus7_TOMS_Level3/TOMSN7L3dery.008/1987/L3_eryln_n7t_19870418.txt'"
       ]
      },
      {
       "output_type": "stream",
       "stream": "stdout",
       "text": [
        "],\n",
        "        '/opendap/hyrax/Nimbus7_TOMS_Level3/TOMSN7L3dery.008/1987/'),\n",
        "    (   '/opendap/hyrax/Nimbus7_TOMS_Level3/TOMSN7L3dery.008/1987/L3_eryln_n7t_19870419.txt',\n",
        "        [   'http://acdisc.gsfc.nasa.gov/opendap/hyrax//Nimbus7_TOMS_Level3/TOMSN7L3dery.008/1987/L3_eryln_n7t_19870419.txt'],\n",
        "        '/opendap/hyrax/Nimbus7_TOMS_Level3/TOMSN7L3dery.008/1987/'),\n",
        "    (   '/opendap/hyrax/Nimbus7_TOMS_Level3/TOMSN7L3dery.008/1987/L3_eryln_n7t_19870420.txt',\n",
        "        [   'http://acdisc.gsfc.nasa.gov/opendap/hyrax//Nimbus7_TOMS_Level3/TOMSN7L3dery.008/1987/L3_eryln_n7t_19870420.txt'],\n",
        "        '/opendap/hyrax/Nimbus7_TOMS_Level3/TOMSN7L3dery.008/1987/'),\n",
        "    (   '/opendap/hyrax/Nimbus7_TOMS_Level3/TOMSN7L3dery.008/1987/L3_eryln_n7t_19870421.txt',\n",
        "        [   'http://acdisc.gsfc.nasa.gov/opendap/hyrax//Nimbus7_TOMS_Level3/TOMSN7L3dery.008/1987/L3_eryln_n7t_19870421.txt'],\n",
        "        '/opendap/hyrax/Nimbus7_TOMS_Level3/TOMSN7L3dery.008/1987/'),\n",
        "    (   '/opendap/hyrax/Nimbus7_TOMS_Level3/TOMSN7L3dery.008/1987/L3_eryln_n7t_19870422.txt',\n",
        "        [   'http://acdisc.gsfc.nasa.gov/opendap/hyrax//Nimbus7_TOMS_Level3/TOMSN7L3dery.008/1987/L3_eryln_n7t_19870422.txt'],\n",
        "        '/opendap/hyrax/Nimbus7_TOMS_Level3/TOMSN7L3dery.008/1987/'),\n",
        "    (   '/opendap/hyrax/Nimbus7_TOMS_Level3/TOMSN7L3dery.008/1987/L3_eryln_n7t_19870423.txt',\n",
        "        [   'http://acdisc.gsfc.nasa.gov/opendap/hyrax//Nimbus7_TOMS_Level3/TOMSN7L3dery.008/1987/L3_eryln_n7t_19870423.txt'],\n",
        "        '/opendap/hyrax/Nimbus7_TOMS_Level3/TOMSN7L3dery.008/1987/'),\n",
        "    (   '/opendap/hyrax/Nimbus7_TOMS_Level3/TOMSN7L3dery.008/1987/L3_eryln_n7t_19870424.txt',\n",
        "        [   'http://acdisc.gsfc.nasa.gov/opendap/hyrax//Nimbus7_TOMS_Level3/TOMSN7L3dery.008/1987/L3_eryln_n7t_19870424.txt'],\n",
        "        '/opendap/hyrax/Nimbus7_TOMS_Level3/TOMSN7L3dery.008/1987/'),\n",
        "    (   '/opendap/hyrax/Nimbus7_TOMS_Level3/TOMSN7L3dery.008/1987/L3_eryln_n7t_19870425.txt',\n",
        "        [   'http://acdisc.gsfc.nasa.gov/opendap/hyrax//Nimbus7_TOMS_Level3/TOMSN7L3dery.008/1987/L3_eryln_n7t_19870425.txt'],\n",
        "        '/opendap/hyrax/Nimbus7_TOMS_Level3/TOMSN7L3dery.008/1987/'),\n",
        "    (   '/opendap/hyrax/Nimbus7_TOMS_Level3/TOMSN7L3dery.008/1987/L3_eryln_n7t_19870426.txt',\n",
        "        [   'http://acdisc.gsfc.nasa.gov/opendap/hyrax//Nimbus7_TOMS_Level3/TOMSN7L3dery.008/1987/L3_eryln_n7t_19870426.txt'],\n",
        "        '/opendap/hyrax/Nimbus7_TOMS_Level3/TOMSN7L3dery.008/1987/'),\n",
        "    (   '/opendap/hyrax/Nimbus7_TOMS_Level3/TOMSN7L3dery.008/1987/L3_eryln_n7t_19870427.txt',\n",
        "        [   'http://acdisc.gsfc.nasa.gov/opendap/hyrax//Nimbus7_TOMS_Level3/TOMSN7L3dery.008/1987/L3_eryln_n7t_19870427.txt'],\n",
        "        '/opendap/hyrax/Nimbus7_TOMS_Level3/TOMSN7L3dery.008/1987/'),\n",
        "    (   '/opendap/hyrax/Nimbus7_TOMS_Level3/TOMSN7L3dery.008/1987/L3_eryln_n7t_19870428.txt',\n",
        "        [   'http://acdisc.gsfc.nasa.gov/opendap/hyrax//Nimbus7_TOMS_Level3/TOMSN7L3dery.008/1987/L3_eryln_n7t_19870428.txt'],\n",
        "        '/opendap/hyrax/Nimbus7_TOMS_Level3/TOMSN7L3dery.008/1987/'),\n",
        "    (   '/opendap/hyrax/Nimbus7_TOMS_Level3/TOMSN7L3dery.008/1987/L3_eryln_n7t_19870429.txt',\n",
        "        [   'http://acdisc.gsfc.nasa.gov/opendap/hyrax//Nimbus7_TOMS_Level3/TOMSN7L3dery.008/1987/L3_eryln_n7t_19870429.txt'],\n",
        "        '/opendap/hyrax/Nimbus7_TOMS_Level3/TOMSN7L3dery.008/1987/'),\n",
        "    (   '/opendap/hyrax/Nimbus7_TOMS_Level3/TOMSN7L3dery.008/1987/L3_eryln_n7t_19870430.txt',\n",
        "        [   'http://acdisc.gsfc.nasa.gov/opendap/hyrax//Nimbus7_TOMS_Level3/TOMSN7L3dery.008/1987/L3_eryln_n7t_19870430.txt'],\n",
        "        '/opendap/hyrax/Nimbus7_TOMS_Level3/TOMSN7L3dery.008/1987/'),\n",
        "    (   '/opendap/hyrax/Nimbus7_TOMS_Level3/TOMSN7L3dery.008/1987/L3_eryln_n7t_19870501.txt',\n",
        "        [   'http://acdisc.gsfc.nasa.gov/opendap/hyrax//Nimbus7_TOMS_Level3/TOMSN7L3dery.008/1987/L3_eryln_n7t_19870501.txt'],\n",
        "        '/opendap/hyrax/Nimbus7_TOMS_Level3/TOMSN7L3dery.008/1987/'),\n",
        "    (   '/opendap/hyrax/Nimbus7_TOMS_Level3/TOMSN7L3dery.008/1987/L3_eryln_n7t_19870502.txt',\n",
        "        [   'http://acdisc.gsfc.nasa.gov/opendap/hyrax//Nimbus7_TOMS_Level3/TOMSN7L3dery.008/1987/L3_eryln_n7t_19870502.txt'],\n",
        "        '/opendap/hyrax/Nimbus7_TOMS_Level3/TOMSN7L3dery.008/1987/'),\n",
        "    (   '/opendap/hyrax/Nimbus7_TOMS_Level3/TOMSN7L3dery.008/1987/L3_eryln_n7t_19870503.txt',\n",
        "        [   'http://acdisc.gsfc.nasa.gov/opendap/hyrax//Nimbus7_TOMS_Level3/TOMSN7L3dery.008/1987/L3_eryln_n7t_19870503.txt'],\n",
        "        '/opendap/hyrax/Nimbus7_TOMS_Level3/TOMSN7L3dery.008/1987/'),\n",
        "    (   '/opendap/hyrax/Nimbus7_TOMS_Level3/TOMSN7L3dery.008/1987/L3_eryln_n7t_19870504.txt',\n",
        "        [   'http://acdisc.gsfc.nasa.gov/opendap/hyrax//Nimbus7_TOMS_Level3/TOMSN7L3dery.008/1987/L3_eryln_n7t_19870504.txt'],\n",
        "        '/opendap/hyrax/Nimbus7_TOMS_Level3/TOMSN7L3dery.008/1987/'),\n",
        "    (   '/opendap/hyrax/Nimbus7_TOMS_Level3/TOMSN7L3dery.008/1987/L3_eryln_n7t_19870505.txt',\n",
        "        [   'http://acdisc.gsfc.nasa.gov/opendap/hyrax//Nimbus7_TOMS_Level3/TOMSN7L3dery.008/1987/L3_eryln_n7t_19870505.txt'],\n",
        "        '/opendap/hyrax/Nimbus7_TOMS_Level3/TOMSN7L3dery.008/1987/'),\n",
        "    (   '/opendap/hyrax/Nimbus7_TOMS_Level3/TOMSN7L3dery.008/1987/L3_eryln_n7t_19870506.txt',\n",
        "        [   'http://acdisc.gsfc.nasa.gov/opendap/hyrax//Nimbus7_TOMS_Level3/TOMSN7L3dery.008/1987/L3_eryln_n7t_19870506.txt'],\n",
        "        '/opendap/hyrax/Nimbus7_TOMS_Level3/TOMSN7L3dery.008/1987/'),\n",
        "    (   '/opendap/hyrax/Nimbus7_TOMS_Level3/TOMSN7L3dery.008/1987/L3_eryln_n7t_19870507.txt',\n",
        "        [   'http://acdisc.gsfc.nasa.gov/opendap/hyrax//Nimbus7_TOMS_Level3/TOMSN7L3dery.008/1987/L3_eryln_n7t_19870507.txt'],\n",
        "        '/opendap/hyrax/Nimbus7_TOMS_Level3/TOMSN7L3dery.008/1987/'),\n",
        "    (   '/opendap/hyrax/Nimbus7_TOMS_Level3/TOMSN7L3dery.008/1987/L3_eryln_n7t_19870508.txt',\n",
        "        [   'http://acdisc.gsfc.nasa.gov/opendap/hyrax//Nimbus7_TOMS_Level3/TOMSN7L3dery.008/1987/L3_eryln_n7t_19870508.txt'],\n",
        "        '/opendap/hyrax/Nimbus7_TOMS_Level3/TOMSN7L3dery.008/1987/'),\n",
        "    (   '/opendap/hyrax/Nimbus7_TOMS_Level3/TOMSN7L3dery.008/1987/L3_eryln_n7t_19870509.txt',\n",
        "        [   'http://acdisc.gsfc.nasa.gov/opendap/hyrax//Nimbus7_TOMS_Level3/TOMSN7L3dery.008/1987/L3_eryln_n7t_19870509.txt'],\n",
        "        '/opendap/hyrax/Nimbus7_TOMS_Level3/TOMSN7L3dery.008/1987/'),\n",
        "    (   '/opendap/hyrax/Nimbus7_TOMS_Level3/TOMSN7L3dery.008/1987/L3_eryln_n7t_19870510.txt',\n",
        "        [   'http://acdisc.gsfc.nasa.gov/opendap/hyrax//Nimbus7_TOMS_Level3/TOMSN7L3dery.008/1987/L3_eryln_n7t_19870510.txt'],\n",
        "        '/opendap/hyrax/Nimbus7_TOMS_Level3/TOMSN7L3dery.008/1987/'),\n",
        "    (   '/opendap/hyrax/Nimbus7_TOMS_Level3/TOMSN7L3dery.008/1987/L3_eryln_n7t_19870511.txt',\n",
        "        [   'http://acdisc.gsfc.nasa.gov/opendap/hyrax//Nimbus7_TOMS_Level3/TOMSN7L3dery.008/1987/L3_eryln_n7t_19870511.txt'],\n",
        "        '/opendap/hyrax/Nimbus7_TOMS_Level3/TOMSN7L3dery.008/1987/'),\n",
        "    (   '/opendap/hyrax/Nimbus7_TOMS_Level3/TOMSN7L3dery.008/1987/L3_eryln_n7t_19870512.txt',\n",
        "        [   'http://acdisc.gsfc.nasa.gov/opendap/hyrax//Nimbus7_TOMS_Level3/TOMSN7L3dery.008/1987/L3_eryln_n7t_19870512.txt'],\n",
        "        '/opendap/hyrax/Nimbus7_TOMS_Level3/TOMSN7L3dery.008/1987/'),\n",
        "    (   '/opendap/hyrax/Nimbus7_TOMS_Level3/TOMSN7L3dery.008/1987/L3_eryln_n7t_19870513.txt',\n",
        "        [   'http://acdisc.gsfc.nasa.gov/opendap/hyrax//Nimbus7_TOMS_Level3/TOMSN7L3dery.008/1987/L3_eryln_n7t_19870513.txt'],\n",
        "        '/opendap/hyrax/Nimbus7_TOMS_Level3/TOMSN7L3dery.008/1987/'),\n",
        "    (   '/opendap/hyrax/Nimbus7_TOMS_Level3/TOMSN7L3dery.008/1987/L3_eryln_n7t_19870514.txt',\n",
        "        [   'http://acdisc.gsfc.nasa.gov/opendap/hyrax//Nimbus7_TOMS_Level3/TOMSN7L3dery.008/1987/L3_eryln_n7t_19870514.txt'],\n",
        "        '/opendap/hyrax/Nimbus7_TOMS_Level3/TOMSN7L3dery.008/1987/'),\n",
        "    (   '/opendap/hyrax/Nimbus7_TOMS_Level3/TOMSN7L3dery.008/1987/L3_eryln_n7t_19870515.txt',\n",
        "        [   'http://acdisc.gsfc.nasa.gov/opendap/hyrax//Nimbus7_TOMS_Level3/TOMSN7L3dery.008/1987/L3_eryln_n7t_19870515.txt'],\n",
        "        '/opendap/hyrax/Nimbus7_TOMS_Level3/TOMSN7L3dery.008/1987/'),\n",
        "    (   '/opendap/hyrax/Nimbus7_TOMS_Level3/TOMSN7L3dery.008/1987/L3_eryln_n7t_19870516.txt',\n",
        "        [   'http://acdisc.gsfc.nasa.gov/opendap/hyrax//Nimbus7_TOMS_Level3/TOMSN7L3dery.008/1987/L3_eryln_n7t_19870516.txt'],\n",
        "        '/opendap/hyrax/Nimbus7_TOMS_Level3/TOMSN7L3dery.008/1987/'),\n",
        "    (   '/opendap/hyrax/Nimbus7_TOMS_Level3/TOMSN7L3dery.008/1987/L3_eryln_n7t_19870517.txt',\n",
        "        [   'http://acdisc.gsfc.nasa.gov/opendap/hyrax//Nimbus7_TOMS_Level3/TOMSN7L3dery.008/1987/L3_eryln_n7t_19870517.txt'],\n",
        "        '/opendap/hyrax/Nimbus7_TOMS_Level3/TOMSN7L3dery.008/1987/'),\n",
        "    (   '/opendap/hyrax/Nimbus7_TOMS_Level3/TOMSN7L3dery.008/1987/L3_eryln_n7t_19870518.txt',\n",
        "        [   'http://acdisc.gsfc.nasa.gov/opendap/hyrax//Nimbus7_TOMS_Level3/TOMSN7L3dery.008/1987/L3_eryln_n7t_19870518.txt'],\n",
        "        '/opendap/hyrax/Nimbus7_TOMS_Level3/TOMSN7L3dery.008/1987/'),\n",
        "    (   '/opendap/hyrax/Nimbus7_TOMS_Level3/TOMSN7L3dery.008/1987/L3_eryln_n7t_19870519.txt',\n",
        "        [   'http://acdisc.gsfc.nasa.gov/opendap/hyrax//Nimbus7_TOMS_Level3/TOMSN7L3dery.008/1987/L3_eryln_n7t_19870519.txt'],\n",
        "        '/opendap/hyrax/Nimbus7_TOMS_Level3/TOMSN7L3dery.008/1987/'),\n",
        "    (   '/opendap/hyrax/Nimbus7_TOMS_Level3/TOMSN7L3dery.008/1987/L3_eryln_n7t_19870520.txt',\n",
        "        [   'http://acdisc.gsfc.nasa.gov/opendap/hyrax//Nimbus7_TOMS_Level3/TOMSN7L3dery.008/1987/L3_eryln_n7t_19870520.txt'],\n",
        "        '/opendap/hyrax/Nimbus7_TOMS_Level3/TOMSN7L3dery.008/1987/'),\n",
        "    (   '/opendap/hyrax/Nimbus7_TOMS_Level3/TOMSN7L3dery.008/1987/L3_eryln_n7t_19870521.txt',\n",
        "        [   'http://acdisc.gsfc.nasa.gov/opendap/hyrax//Nimbus7_TOMS_Level3/TOMSN7L3dery.008/1987/L3_eryln_n7t_19870521.txt'],\n",
        "        '/opendap/hyrax/Nimbus7_TOMS_Level3/TOMSN7L3dery.008/1987/'),\n",
        "    (   '/opendap/hyrax/Nimbus7_TOMS_Level3/TOMSN7L3dery.008/1987/L3_eryln_n7t_19870522.txt',\n",
        "        [   'http://acdisc.gsfc.nasa.gov/opendap/hyrax//Nimbus7_TOMS_Level3/TOMSN7L3dery.008/1987/L3_eryln_n7t_19870522.txt'],\n",
        "        '/opendap/hyrax/Nimbus7_TOMS_Level3/TOMSN7L3dery.008/1987/'),\n",
        "    (   '/opendap/hyrax/Nimbus7_TOMS_Level3/TOMSN7L3dery.008/1987/L3_eryln_n7t_19870523.txt',\n",
        "        [   'http://acdisc.gsfc.nasa.gov/opendap/hyrax//Nimbus7_TOMS_Level3/TOMSN7L3dery.008/1987/L3_eryln_n7t_19870523.txt'],\n",
        "        '/opendap/hyrax/Nimbus7_TOMS_Level3/TOMSN7L3dery.008/1987/'),\n",
        "    (   '/opendap/hyrax/Nimbus7_TOMS_Level3/TOMSN7L3dery.008/1987/L3_eryln_n7t_19870524.txt',\n",
        "        [   'http://acdisc.gsfc.nasa.gov/opendap/hyrax//Nimbus7_TOMS_Level3/TOMSN7L3dery.008/1987/L3_eryln_n7t_19870524.txt'],\n",
        "        '/opendap/hyrax/Nimbus7_TOMS_Level3/TOMSN7L3dery.008/1987/'),\n",
        "    (   '/opendap/hyrax/Nimbus7_TOMS_Level3/TOMSN7L3dery.008/1987/L3_eryln_n7t_19870525.txt',\n",
        "        [   'http://acdisc.gsfc.nasa.gov/opendap/hyrax//Nimbus7_TOMS_Level3/TOMSN7L3dery.008/1987/L3_eryln_n7t_19870525.txt'],\n",
        "        '/opendap/hyrax/Nimbus7_TOMS_Level3/TOMSN7L3dery.008/1987/'),\n",
        "    (   '/opendap/hyrax/Nimbus7_TOMS_Level3/TOMSN7L3dery.008/1987/L3_eryln_n7t_19870526.txt',\n",
        "        [   'http://acdisc.gsfc.nasa.gov/opendap/hyrax//Nimbus7_TOMS_Level3/TOMSN7L3dery.008/1987/L3_eryln_n7t_19870526.txt'],\n",
        "        '/opendap/hyrax/Nimbus7_TOMS_Level3/TOMSN7L3dery.008/1987/'),\n",
        "    (   '/opendap/hyrax/Nimbus7_TOMS_Level3/TOMSN7L3dery.008/1987/L3_eryln_n7t_19870527.txt',\n",
        "        [   'http://acdisc.gsfc.nasa.gov/opendap/hyrax//Nimbus7_TOMS_Level3/TOMSN7L3dery.008/1987/L3_eryln_n7t_19870527.txt'],\n",
        "        '/opendap/hyrax/Nimbus7_TOMS_Level3/TOMSN7L3dery.008/1987/'),\n",
        "    (   '/opendap/hyrax/Nimbus7_TOMS_Level3/TOMSN7L3dery.008/1987/L3_eryln_n7t_19870528.txt',\n",
        "        [   'http://acdisc.gsfc.nasa.gov/opendap/hyrax//Nimbus7_TOMS_Level3/TOMSN7L3dery.008/1987/L3_eryln_n7t_19870528.txt'],\n",
        "        '/opendap/hyrax/Nimbus7_TOMS_Level3/TOMSN7L3dery.008/1987/'),\n",
        "    (   '/opendap/hyrax/Nimbus7_TOMS_Level3/TOMSN7L3dery.008/1987/L3_eryln_n7t_19870529.txt',\n",
        "        [   'http://acdisc.gsfc.nasa.gov/opendap/hyrax//Nimbus7_TOMS_Level3/TOMSN7L3dery.008/1987/L3_eryln_n7t_19870529.txt'],\n",
        "        '/opendap/hyrax/Nimbus7_TOMS_Level3/TOMSN7L3dery.008/1987/'),\n",
        "    (   '/opendap/hyrax/Nimbus7_TOMS_Level3/TOMSN7L3dery.008/1987/L3_eryln_n7t_19870530.txt',\n",
        "        [   'http://acdisc.gsfc.nasa.gov/opendap/hyrax//Nimbus7_TOMS_Level3/TOMSN7L3dery.008/1987/L3_eryln_n7t_19870530.txt'],\n",
        "        '/opendap/hyrax/Nimbus7_TOMS_Level3/TOMSN7L3dery.008/1987/'),\n",
        "    (   '/opendap/hyrax/Nimbus7_TOMS_Level3/TOMSN7L3dery.008/1987/L3_eryln_n7t_19870531.txt',\n",
        "        [   'http://acdisc.gsfc.nasa.gov/opendap/hyrax//Nimbus7_TOMS_Level3/TOMSN7L3dery.008/1987/L3_eryln_n7t_19870531.txt'],\n",
        "        '/opendap/hyrax/Nimbus7_TOMS_Level3/TOMSN7L3dery.008/1987/'),\n",
        "    (   '/opendap/hyrax/Nimbus7_TOMS_Level3/TOMSN7L3dery.008/1987/L3_eryln_n7t_19870601.txt',\n",
        "        [   'http://acdisc.gsfc.nasa.gov/opendap/hyrax//Nimbus7_TOMS_Level3/TOMSN7L3dery.008/1987/L3_eryln_n7t_19870601.txt'],\n",
        "        '/opendap/hyrax/Nimbus7_TOMS_Level3/TOMSN7L3dery.008/1987/'),\n",
        "    (   '/opendap/hyrax/Nimbus7_TOMS_Level3/TOMSN7L3dery.008/1987/L3_eryln_n7t_19870602.txt',\n",
        "        [   'http://acdisc.gsfc.nasa.gov/opendap/hyrax//Nimbus7_TOMS_Level3/TOMSN7L3dery.008/1987/L3_eryln_n7t_19870602.txt'],\n",
        "        '/opendap/hyrax/Nimbus7_TOMS_Level3/TOMSN7L3dery.008/1987/'),\n",
        "    (   '/opendap/hyrax/Nimbus7_TOMS_Level3/TOMSN7L3dery.008/1987/L3_eryln_n7t_19870603.txt',\n",
        "        [   'http://acdisc.gsfc.nasa.gov/opendap/hyrax//Nimbus7_TOMS_Level3/TOMSN7L3dery.008/1987/L3_eryln_n7t_19870603.txt'],\n",
        "        '/opendap/hyrax/Nimbus7_TOMS_Level3/TOMSN7L3dery.008/1987/'),\n",
        "    (   '/opendap/hyrax/Nimbus7_TOMS_Level3/TOMSN7L3dery.008/1987/L3_eryln_n7t_19870604.txt',\n",
        "        [   'http://acdisc.gsfc.nasa.gov/opendap/hyrax//Nimbus7_TOMS_Level3/TOMSN7L3dery.008/1987/L3_eryln_n7t_19870604.txt'],\n",
        "        '/opendap/hyrax/Nimbus7_TOMS_Level3/TOMSN7L3dery.008/1987/'),\n",
        "    (   '/opendap/hyrax/Nimbus7_TOMS_Level3/TOMSN7L3dery.008/1987/L3_eryln_n7t_19870605.txt',\n",
        "        [   'http://acdisc.gsfc.nasa.gov/opendap/hyrax//Nimbus7_TOMS_Level3/TOMSN7L3dery.008/1987/L3_eryln_n7t_19870605.txt'],\n",
        "        '/opendap/hyrax/Nimbus7_TOMS_Level3/TOMSN7L3dery.008/1987/'),\n",
        "    (   '/opendap/hyrax/Nimbus7_TOMS_Level3/TOMSN7L3dery.008/1987/L3_eryln_n7t_19870606.txt',\n",
        "        [   'http://acdisc.gsfc.nasa.gov/opendap/hyrax//Nimbus7_TOMS_Level3/TOMSN7L3dery.008/1987/L3_eryln_n7t_19870606.txt'],\n",
        "        '/opendap/hyrax/Nimbus7_TOMS_Level3/TOMSN7L3dery.008/1987/'),\n",
        "    (   '/opendap/hyrax/Nimbus7_TOMS_Level3/TOMSN7L3dery.008/1987/L3_eryln_n7t_19870607.txt',\n",
        "        [   'http://acdisc.gsfc.nasa.gov/opendap/hyrax//Nimbus7_TOMS_Level3/TOMSN7L3dery.008/1987/L3_eryln_n7t_19870607.txt'],\n",
        "        '/opendap/hyrax/Nimbus7_TOMS_Level3/TOMSN7L3dery.008/1987/'),\n",
        "    (   '/opendap/hyrax/Nimbus7_TOMS_Level3/TOMSN7L3dery.008/1987/L3_eryln_n7t_19870608.txt',\n",
        "        [   'http://acdisc.gsfc.nasa.gov/opendap/hyrax//Nimbus7_TOMS_Level3/TOMSN7L3dery.008/1987/L3_eryln_n7t_19870608.txt'],\n",
        "        '/opendap/hyrax/Nimbus7_TOMS_Level3/TOMSN7L3dery.008/1987/'),\n",
        "    (   '/opendap/hyrax/Nimbus7_TOMS_Level3/TOMSN7L3dery.008/1987/L3_eryln_n7t_19870609.txt',\n",
        "        [   'http://acdisc.gsfc.nasa.gov/opendap/hyrax//Nimbus7_TOMS_Level3/TOMSN7L3dery.008/1987/L3_eryln_n7t_19870609.txt'],\n",
        "        '/opendap/hyrax/Nimbus7_TOMS_Level3/TOMSN7L3dery.008/1987/'),\n",
        "    (   '/opendap/hyrax/Nimbus7_TOMS_Level3/TOMSN7L3dery.008/1987/L3_eryln_n7t_19870610.txt',\n",
        "        [   'http://acdisc.gsfc.nasa.gov/opendap/hyrax//Nimbus7_TOMS_Level3/TOMSN7L3dery.008/1987/L3_eryln_n7t_19870610.txt'],\n",
        "        '/opendap/hyrax/Nimbus7_TOMS_Level3/TOMSN7L3dery.008/1987/'),\n",
        "    (   '/opendap/hyrax/Nimbus7_TOMS_Level3/TOMSN7L3dery.008/1987/L3_eryln_n7t_19870611.txt',\n",
        "        [   'http://acdisc.gsfc.nasa.gov/opendap/hyrax//Nimbus7_TOMS_Level3/TOMSN7L3dery.008/1987/L3_eryln_n7t_19870611.txt'],\n",
        "        '/opendap/hyrax/Nimbus7_TOMS_Level3/TOMSN7L3dery.008/1987/'),\n",
        "    (   '/opendap/hyrax/Nimbus7_TOMS_Level3/TOMSN7L3dery.008/1987/L3_eryln_n7t_19870612.txt',\n",
        "        [   'http://acdisc.gsfc.nasa.gov/opendap/hyrax//Nimbus7_TOMS_Level3/TOMSN7L3dery.008/1987/L3_eryln_n7t_19870612.txt'],\n",
        "        '/opendap/hyrax/Nimbus7_TOMS_Level3/TOMSN7L3dery.008/1987/'),\n",
        "    (   '/opendap/hyrax/Nimbus7_TOMS_Level3/TOMSN7L3dery.008/1987/L3_eryln_n7t_19870613.txt',\n",
        "        [   'http://acdisc.gsfc.nasa.gov/opendap/hyrax//Nimbus7_TOMS_Level3/TOMSN7L3dery.008/1987/L3_eryln_n7t_19870613.txt'],\n",
        "        '/opendap/hyrax/Nimbus7_TOMS_Level3/TOMSN7L3dery.008/1987/'),\n",
        "    (   '/opendap/hyrax/Nimbus7_TOMS_Level3/TOMSN7L3dery.008/1987/L3_eryln_n7t_19870614.txt',\n",
        "        [   'http://acdisc.gsfc.nasa.gov/opendap/hyrax//Nimbus7_TOMS_Level3/TOMSN7L3dery.008/1987/L3_eryln_n7t_19870614.txt'],\n",
        "        '/opendap/hyrax/Nimbus7_TOMS_Level3/TOMSN7L3dery.008/1987/'),\n",
        "    (   '/opendap/hyrax/Nimbus7_TOMS_Level3/TOMSN7L3dery.008/1987/L3_eryln_n7t_19870615.txt',\n",
        "        [   'http://acdisc.gsfc.nasa.gov/opendap/hyrax//Nimbus7_TOMS_Level3/TOMSN7L3dery.008/1987/L3_eryln_n7t_19870615.txt'],\n",
        "        '/opendap/hyrax/Nimbus7_TOMS_Level3/TOMSN7L3dery.008/1987/'),\n",
        "    (   '/opendap/hyrax/Nimbus7_TOMS_Level3/TOMSN7L3dery.008/1987/L3_eryln_n7t_19870616.txt',\n",
        "        [   'http://acdisc.gsfc.nasa.gov/opendap/hyrax//Nimbus7_TOMS_Level3/TOMSN7L3dery.008/1987/L3_eryln_n7t_19870616.txt'],\n",
        "        '/opendap/hyrax/Nimbus7_TOMS_Level3/TOMSN7L3dery.008/1987/'),\n",
        "    (   '/opendap/hyrax/Nimbus7_TOMS_Level3/TOMSN7L3dery.008/1987/L3_eryln_n7t_19870617.txt',\n",
        "        [   'http://acdisc.gsfc.nasa.gov/opendap/hyrax//Nimbus7_TOMS_Level3/TOMSN7L3dery.008/1987/L3_eryln_n7t_19870617.txt'],\n",
        "        '/opendap/hyrax/Nimbus7_TOMS_Level3/TOMSN7L3dery.008/1987/'),\n",
        "    (   '/opendap/hyrax/Nimbus7_TOMS_Level3/TOMSN7L3dery.008/1987/L3_eryln_n7t_19870618.txt',\n",
        "        [   'http://acdisc.gsfc.nasa.gov/opendap/hyrax//Nimbus7_TOMS_Level3/TOMSN7L3dery.008/1987/L3_eryln_n7t_19870618.txt'],\n",
        "        '/opendap/hyrax/Nimbus7_TOMS_Level3/TOMSN7L3dery.008/1987/'),\n",
        "    (   '/opendap/hyrax/Nimbus7_TOMS_Level3/TOMSN7L3dery.008/1987/L3_eryln_n7t_19870619.txt',\n",
        "        [   'http://acdisc.gsfc.nasa.gov/opendap/hyrax//Nimbus7_TOMS_Level3/TOMSN7L3dery.008/1987/L3_eryln_n7t_19870619.txt'],\n",
        "        '/opendap/hyrax/Nimbus7_TOMS_Level3/TOMSN7L3dery.008/1987/'),\n",
        "    (   '/opendap/hyrax/Nimbus7_TOMS_Level3/TOMSN7L3dery.008/1987/L3_eryln_n7t_19870620.txt',\n",
        "        [   'http://acdisc.gsfc.nasa.gov/opendap/hyrax//Nimbus7_TOMS_Level3/TOMSN7L3dery.008/1987/L3_eryln_n7t_19870620.txt'],\n",
        "        '/opendap/hyrax/Nimbus7_TOMS_Level3/TOMSN7L3dery.008/1987/'),\n",
        "    (   '/opendap/hyrax/Nimbus7_TOMS_Level3/TOMSN7L3dery.008/1987/L3_eryln_n7t_19870621.txt',\n",
        "        [   'http://acdisc.gsfc.nasa.gov/opendap/hyrax//Nimbus7_TOMS_Level3/TOMSN7L3dery.008/1987/L3_eryln_n7t_19870621.txt'],\n",
        "        '/opendap/hyrax/Nimbus7_TOMS_Level3/TOMSN7L3dery.008/1987/'),\n",
        "    (   '/opendap/hyrax/Nimbus7_TOMS_Level3/TOMSN7L3dery.008/1987/L3_eryln_n7t_19870622.txt',\n",
        "        [   'http://acdisc.gsfc.nasa.gov/opendap/hyrax//Nimbus7_TOMS_Level3/TOMSN7L3dery.008/1987/L3_eryln_n7t_19870622.txt'],\n",
        "        '/opendap/hyrax/Nimbus7_TOMS_Level3/TOMSN7L3dery.008/1987/'),\n",
        "    (   '/opendap/hyrax/Nimbus7_TOMS_Level3/TOMSN7L3dery.008/1987/L3_eryln_n7t_19870623.txt',\n",
        "        [   'http://acdisc.gsfc.nasa.gov/opendap/hyrax//Nimbus7_TOMS_Level3/TOMSN7L3dery.008/1987/L3_eryln_n7t_19870623.txt'],\n",
        "        '/opendap/hyrax/Nimbus7_TOMS_Level3/TOMSN7L3dery.008/1987/'),\n",
        "    (   '/opendap/hyrax/Nimbus7_TOMS_Level3/TOMSN7L3dery.008/1987/L3_eryln_n7t_19870624.txt',\n",
        "        [   'http://acdisc.gsfc.nasa.gov/opendap/hyrax//Nimbus7_TOMS_Level3/TOMSN7L3dery.008/1987/L3_eryln_n7t_19870624.txt'],\n",
        "        '/opendap/hyrax/Nimbus7_TOMS_Level3/TOMSN7L3dery.008/1987/'),\n",
        "    (   '/opendap/hyrax/Nimbus7_TOMS_Level3/TOMSN7L3dery.008/1987/L3_eryln_n7t_19870625.txt',\n",
        "        [   'http://acdisc.gsfc.nasa.gov/opendap/hyrax//Nimbus7_TOMS_Level3/TOMSN7L3dery.008/1987/L3_eryln_n7t_19870625.txt'],\n",
        "        '/opendap/hyrax/Nimbus7_TOMS_Level3/TOMSN7L3dery.008/1987/'),\n",
        "    (   '/opendap/hyrax/Nimbus7_TOMS_Level3/TOMSN7L3dery.008/1987/L3_eryln_n7t_19870626.txt',\n",
        "        [   'http://acdisc.gsfc.nasa.gov/opendap/hyrax//Nimbus7_TOMS_Level3/TOMSN7L3dery.008/1987/L3_eryln_n7t_19870626.txt'],\n",
        "        '/opendap/hyrax/Nimbus7_TOMS_Level3/TOMSN7L3dery.008/1987/'),\n",
        "    (   '/opendap/hyrax/Nimbus7_TOMS_Level3/TOMSN7L3dery.008/1987/L3_eryln_n7t_19870627.txt',\n",
        "        [   'http://acdisc.gsfc.nasa.gov/opendap/hyrax//Nimbus7_TOMS_Level3/TOMSN7L3dery.008/1987/L3_eryln_n7t_19870627.txt'],\n",
        "        '/opendap/hyrax/Nimbus7_TOMS_Level3/TOMSN7L3dery.008/1987/'),\n",
        "    (   '/opendap/hyrax/Nimbus7_TOMS_Level3/TOMSN7L3dery.008/1987/L3_eryln_n7t_19870628.txt',\n",
        "        [   'http://acdisc.gsfc.nasa.gov/opendap/hyrax//Nimbus7_TOMS_Level3/TOMSN7L3dery.008/1987/L3_eryln_n7t_19870628.txt'],\n",
        "        '/opendap/hyrax/Nimbus7_TOMS_Level3/TOMSN7L3dery.008/1987/'),\n",
        "    (   '/opendap/hyrax/Nimbus7_TOMS_Level3/TOMSN7L3dery.008/1987/L3_eryln_n7t_19870629.txt',\n",
        "        [   'http://acdisc.gsfc.nasa.gov/opendap/hyrax//Nimbus7_TOMS_Level3/TOMSN7L3dery.008/1987/L3_eryln_n7t_19870629.txt'],\n",
        "        '/opendap/hyrax/Nimbus7_TOMS_Level3/TOMSN7L3dery.008/1987/'),\n",
        "    (   '/opendap/hyrax/Nimbus7_TOMS_Level3/TOMSN7L3dery.008/1987/L3_eryln_n7t_19870630.txt',\n",
        "        [   'http://acdisc.gsfc.nasa.gov/opendap/hyrax//Nimbus7_TOMS_Level3/TOMSN7L3dery.008/1987/L3_eryln_n7t_19870630.txt'],\n",
        "        '/opendap/hyrax/Nimbus7_TOMS_Level3/TOMSN7L3dery.008/1987/'),\n",
        "    (   '/opendap/hyrax/Nimbus7_TOMS_Level3/TOMSN7L3dery.008/1987/L3_eryln_n7t_19870701.txt',\n",
        "        [   'http://acdisc.gsfc.nasa.gov/opendap/hyrax//Nimbus7_TOMS_Level3/TOMSN7L3dery.008/1987/L3_eryln_n7t_19870701.txt'],\n",
        "        '/opendap/hyrax/Nimbus7_TOMS_Level3/TOMSN7L3dery.008/1987/'),\n",
        "    (   '/opendap/hyrax/Nimbus7_TOMS_Level3/TOMSN7L3dery.008/1987/L3_eryln_n7t_19870702.txt',\n",
        "        [   'http://acdisc.gsfc.nasa.gov/opendap/hyrax//Nimbus7_TOMS_Level3/TOMSN7L3dery.008/1987/L3_eryln_n7t_19870702.txt'],\n",
        "        '/opendap/hyrax/Nimbus7_TOMS_Level3/TOMSN7L3dery.008/1987/'),\n",
        "    (   '/opendap/hyrax/Nimbus7_TOMS_Level3/TOMSN7L3dery.008/1987/L3_eryln_n7t_19870703.txt',\n",
        "        [   'http://acdisc.gsfc.nasa.gov/opendap/hyrax//Nimbus7_TOMS_Level3/TOMSN7L3dery.008/1987/L3_eryln_n7t_19870703.txt'],\n",
        "        '/opendap/hyrax/Nimbus7_TOMS_Level3/TOMSN7L3dery.008/1987/'),\n",
        "    (   '/opendap/hyrax/Nimbus7_TOMS_Level3/TOMSN7L3dery.008/1987/L3_eryln_n7t_19870704.txt',\n",
        "        [   'http://acdisc.gsfc.nasa.gov/opendap/hyrax//Nimbus7_TOMS_Level3/TOMSN7L3dery.008/1987/L3_eryln_n7t_19870704.txt'],\n",
        "        '/opendap/hyrax/Nimbus7_TOMS_Level3/TOMSN7L3dery.008/1987/'),\n",
        "    (   '/opendap/hyrax/Nimbus7_TOMS_Level3/TOMSN7L3dery.008/1987/L3_eryln_n7t_19870705.txt',\n",
        "        [   'http://acdisc.gsfc.nasa.gov/opendap/hyrax//Nimbus7_TOMS_Level3/TOMSN7L3dery.008/1987/L3_eryln_n7t_19870705.txt'],\n",
        "        '/opendap/hyrax/Nimbus7_TOMS_Level3/TOMSN7L3dery.008/1987/'),\n",
        "    (   '/opendap/hyrax/Nimbus7_TOMS_Level3/TOMSN7L3dery.008/1987/L3_eryln_n7t_19870706.txt',\n",
        "        [   'http://acdisc.gsfc.nasa.gov/opendap/hyrax//Nimbus7_TOMS_Level3/TOMSN7L3dery.008/1987/L3_eryln_n7t_19870706.txt'],\n",
        "        '/opendap/hyrax/Nimbus7_TOMS_Level3/TOMSN7L3dery.008/1987/'),\n",
        "    (   '/opendap/hyrax/Nimbus7_TOMS_Level3/TOMSN7L3dery.008/1987/L3_eryln_n7t_19870707.txt',\n",
        "        [   'http://acdisc.gsfc.nasa.gov/opendap/hyrax//Nimbus7_TOMS_Level3/TOMSN7L3dery.008/1987/L3_eryln_n7t_19870707.txt'],\n",
        "        '/opendap/hyrax/Nimbus7_TOMS_Level3/TOMSN7L3dery.008/1987/'),\n",
        "    (   '/opendap/hyrax/Nimbus7_TOMS_Level3/TOMSN7L3dery.008/1987/L3_eryln_n7t_19870708.txt',\n",
        "        [   'http://acdisc.gsfc.nasa.gov/opendap/hyrax//Nimbus7_TOMS_Level3/TOMSN7L3dery.008/1987/L3_eryln_n7t_19870708.txt'],\n",
        "        '/opendap/hyrax/Nimbus7_TOMS_Level3/TOMSN7L3dery.008/1987/'),\n",
        "    (   '/opendap/hyrax/Nimbus7_TOMS_Level3/TOMSN7L3dery.008/1987/L3_eryln_n7t_19870709.txt',\n",
        "        [   'http://acdisc.gsfc.nasa.gov/opendap/hyrax//Nimbus7_TOMS_Level3/TOMSN7L3dery.008/1987/L3_eryln_n7t_19870709.txt'],\n",
        "        '/opendap/hyrax/Nimbus7_TOMS_Level3/TOMSN7L3dery.008/1987/'),\n",
        "    (   '/opendap/hyrax/Nimbus7_TOMS_Level3/TOMSN7L3dery.008/1987/L3_eryln_n7t_19870710.txt',\n",
        "        [   'http://acdisc.gsfc.nasa.gov/opendap/hyrax//Nimbus7_TOMS_Level3/TOMSN7L3dery.008/1987/L3_eryln_n7t_19870710.txt'],\n",
        "        '/opendap/hyrax/Nimbus7_TOMS_Level3/TOMSN7L3dery.008/1987/'),\n",
        "    (   '/opendap/hyrax/Nimbus7_TOMS_Level3/TOMSN7L3dery.008/1987/L3_eryln_n7t_19870711.txt',\n",
        "        [   'http://acdisc.gsfc.nasa.gov/opendap/hyrax//Nimbus7_TOMS_Level3/TOMSN7L3dery.008/1987/L3_eryln_n7t_19870711.txt'],\n",
        "        '/opendap/hyrax/Nimbus7_TOMS_Level3/TOMSN7L3dery.008/1987/'),\n",
        "    (   '/opendap/hyrax/Nimbus7_TOMS_Level3/TOMSN7L3dery.008/1987/L3_eryln_n7t_19870712.txt',\n",
        "        [   'http://acdisc.gsfc.nasa.gov/opendap/hyrax//Nimbus7_TOMS_Level3/TOMSN7L3dery.008/1987/L3_eryln_n7t_19870712.txt'],\n",
        "        '/opendap/hyrax/Nimbus7_TOMS_Level3/TOMSN7L3dery.008/1987/'),\n",
        "    (   '/opendap/hyrax/Nimbus7_TOMS_Level3/TOMSN7L3dery.008/1987/L3_eryln_n7t_19870713.txt',\n",
        "        [   'http://acdisc.gsfc.nasa.gov/opendap/hyrax//Nimbus7_TOMS_Level3/TOMSN7L3dery.008/1987/L3_eryln_n7t_19870713.txt'],\n",
        "        '/opendap/hyrax/Nimbus7_TOMS_Level3/TOMSN7L3dery.008/1987/'),\n",
        "    (   '/opendap/hyrax/Nimbus7_TOMS_Level3/TOMSN7L3dery.008/1987/L3_eryln_n7t_19870714.txt',\n",
        "        [   'http://acdisc.gsfc.nasa.gov/opendap/hyrax//Nimbus7_TOMS_Level3/TOMSN7L3dery.008/1987/L3_eryln_n7t_19870714.txt'],\n",
        "        '/opendap/hyrax/Nimbus7_TOMS_Level3/TOMSN7L3dery.008/1987/'),\n",
        "    (   '/opendap/hyrax/Nimbus7_TOMS_Level3/TOMSN7L3dery.008/1987/L3_eryln_n7t_19870715.txt',\n",
        "        [   'http://acdisc.gsfc.nasa.gov/opendap/hyrax//Nimbus7_TOMS_Level3/TOMSN7L3dery.008/1987/L3_eryln_n7t_19870715.txt'],\n",
        "        '/opendap/hyrax/Nimbus7_TOMS_Level3/TOMSN7L3dery.008/1987/'),\n",
        "    (   '/opendap/hyrax/Nimbus7_TOMS_Level3/TOMSN7L3dery.008/1987/L3_eryln_n7t_19870716.txt',\n",
        "        [   'http://acdisc.gsfc.nasa.gov/opendap/hyrax//Nimbus7_TOMS_Level3/TOMSN7L3dery.008/1987/L3_eryln_n7t_19870716.txt'],\n",
        "        '/opendap/hyrax/Nimbus7_TOMS_Level3/TOMSN7L3dery.008/1987/'),\n",
        "    (   '/opendap/hyrax/Nimbus7_TOMS_Level3/TOMSN7L3dery.008/1987/L3_eryln_n7t_19870717.txt',\n",
        "        [   'http://acdisc.gsfc.nasa.gov/opendap/hyrax//Nimbus7_TOMS_Level3/TOMSN7L3dery.008/1987/L3_eryln_n7t_19870717.txt'],\n",
        "        '/opendap/hyrax/Nimbus7_TOMS_Level3/TOMSN7L3dery.008/1987/'),\n",
        "    (   '/opendap/hyrax/Nimbus7_TOMS_Level3/TOMSN7L3dery.008/1987/L3_eryln_n7t_19870718.txt',\n",
        "        [   'http://acdisc.gsfc.nasa.gov/opendap/hyrax//Nimbus7_TOMS_Level3/TOMSN7L3dery.008/1987/L3_eryln_n7t_19870718.txt'],\n",
        "        '/opendap/hyrax/Nimbus7_TOMS_Level3/TOMSN7L3dery.008/1987/'),\n",
        "    (   '/opendap/hyrax/Nimbus7_TOMS_Level3/TOMSN7L3dery.008/1987/L3_eryln_n7t_19870719.txt',\n",
        "        [   'http://acdisc.gsfc.nasa.gov/opendap/hyrax//Nimbus7_TOMS_Level3/TOMSN7L3dery.008/1987/L3_eryln_n7t_19870719.txt'],\n",
        "        '/opendap/hyrax/Nimbus7_TOMS_Level3/TOMSN7L3dery.008/1987/'),\n",
        "    (   '/opendap/hyrax/Nimbus7_TOMS_Level3/TOMSN7L3dery.008/1987/L3_eryln_n7t_19870720.txt',\n",
        "        [   'http://acdisc.gsfc.nasa.gov/opendap/hyrax//Nimbus7_TOMS_Level3/TOMSN7L3dery.008/1987/L3_eryln_n7t_19870720.txt'],\n",
        "        '/opendap/hyrax/Nimbus7_TOMS_Level3/TOMSN7L3dery.008/1987/'),\n",
        "    (   '/opendap/hyrax/Nimbus7_TOMS_Level3/TOMSN7L3dery.008/1987/L3_eryln_n7t_19870721.txt',\n",
        "        [   'http://acdisc.gsfc.nasa.gov/opendap/hyrax//Nimbus7_TOMS_Level3/TOMSN7L3dery.008/1987/L3_eryln_n7t_19870721.txt'],\n",
        "        '/opendap/hyrax/Nimbus7_TOMS_Level3/TOMSN7L3dery.008/1987/'),\n",
        "    (   '/opendap/hyrax/Nimbus7_TOMS_Level3/TOMSN7L3dery.008/1987/L3_eryln_n7t_19870722.txt',\n",
        "        [   'http://acdisc.gsfc.nasa.gov/opendap/hyrax//Nimbus7_TOMS_Level3/TOMSN7L3dery.008/1987/L3_eryln_n7t_19870722.txt'],\n",
        "        '/opendap/hyrax/Nimbus7_TOMS_Level3/TOMSN7L3dery.008/1987/'),\n",
        "    (   '/opendap/hyrax/Nimbus7_TOMS_Level3/TOMSN7L3dery.008/1987/L3_eryln_n7t_19870723.txt',\n",
        "        [   'http://acdisc.gsfc.nasa.gov/opendap/hyrax//Nimbus7_TOMS_Level3/TOMSN7L3dery.008/1987/L3_eryln_n7t_19870723.txt'],\n",
        "        '/opendap/hyrax/Nimbus7_TOMS_Level3/TOMSN7L3dery.008/1987/'),\n",
        "    (   '/opendap/hyrax/Nimbus7_TOMS_Level3/TOMSN7L3dery.008/1987/L3_eryln_n7t_19870724.txt',\n",
        "        [   'http://acdisc.gsfc.nasa.gov/opendap/hyrax//Nimbus7_TOMS_Level3/TOMSN7L3dery.008/1987/L3_eryln_n7t_19870724.txt'],\n",
        "        '/opendap/hyrax/Nimbus7_TOMS_Level3/TOMSN7L3dery.008/1987/'),\n",
        "    (   '/opendap/hyrax/Nimbus7_TOMS_Level3/TOMSN7L3dery.008/1987/L3_eryln_n7t_19870725.txt',\n",
        "        [   'http://acdisc.gsfc.nasa.gov/opendap/hyrax//Nimbus7_TOMS_Level3/TOMSN7L3dery.008/1987/L3_eryln_n7t_19870725.txt'],\n",
        "        '/opendap/hyrax/Nimbus7_TOMS_Level3/TOMSN7L3dery.008/1987/'),\n",
        "    (   '/opendap/hyrax/Nimbus7_TOMS_Level3/TOMSN7L3dery.008/1987/L3_eryln_n7t_19870726.txt',\n",
        "        [   'http://acdisc.gsfc.nasa.gov/opendap/hyrax//Nimbus7_TOMS_Level3/TOMSN7L3dery.008/1987/L3_eryln_n7t_19870726.txt'],\n",
        "        '/opendap/hyrax/Nimbus7_TOMS_Level3/TOMSN7L3dery.008/1987/'),\n",
        "    (   '/opendap/hyrax/Nimbus7_TOMS_Level3/TOMSN7L3dery.008/1987/L3_eryln_n7t_19870727.txt',\n",
        "        [   'http://acdisc.gsfc.nasa.gov/opendap/hyrax//Nimbus7_TOMS_Level3/TOMSN7L3dery.008/1987/L3_eryln_n7t_19870727.txt'],\n",
        "        '/opendap/hyrax/Nimbus7_TOMS_Level3/TOMSN7L3dery.008/1987/'),\n",
        "    (   '/opendap/hyrax/Nimbus7_TOMS_Level3/TOMSN7L3dery.008/1987/L3_eryln_n7t_19870728.txt',\n",
        "        [   'http://acdisc.gsfc.nasa.gov/opendap/hyrax//Nimbus7_TOMS_Level3/TOMSN7L3dery.008/1987/L3_eryln_n7t_19870728.txt'],\n",
        "        '/opendap/hyrax/Nimbus7_TOMS_Level3/TOMSN7L3dery.008/1987/'),\n",
        "    (   '/opendap/hyrax/Nimbus7_TOMS_Level3/TOMSN7L3dery.008/1987/L3_eryln_n7t_19870729.txt',\n",
        "        [   'http://acdisc.gsfc.nasa.gov/opendap/hyrax//Nimbus7_TOMS_Level3/TOMSN7L3dery.008/1987/L3_eryln_n7t_19870729.txt'],\n",
        "        '/opendap/hyrax/Nimbus7_TOMS_Level3/TOMSN7L3dery.008/1987/'),\n",
        "    (   '/opendap/hyrax/Nimbus7_TOMS_Level3/TOMSN7L3dery.008/1987/L3_eryln_n7t_19870730.txt',\n",
        "        [   'http://acdisc.gsfc.nasa.gov/opendap/hyrax//Nimbus7_TOMS_Level3/TOMSN7L3dery.008/1987/L3_eryln_n7t_19870730.txt'],\n",
        "        '/opendap/hyrax/Nimbus7_TOMS_Level3/TOMSN7L3dery.008/1987/'),\n",
        "    (   '/opendap/hyrax/Nimbus7_TOMS_Level3/TOMSN7L3dery.008/1987/L3_eryln_n7t_19870731.txt',\n",
        "        [   'http://acdisc.gsfc.nasa.gov/opendap/hyrax//Nimbus7_TOMS_Level3/TOMSN7L3dery.008/1987/L3_eryln_n7t_19870731.txt'],\n",
        "        '/opendap/hyrax/Nimbus7_TOMS_Level3/TOMSN7L3dery.008/1987/'),\n",
        "    (   '/opendap/hyrax/Nimbus7_TOMS_Level3/TOMSN7L3dery.008/1987/L3_eryln_n7t_19870801.txt',\n",
        "        [   'http://acdisc.gsfc.nasa.gov/opendap/hyrax//Nimbus7_TOMS_Level3/TOMSN7L3dery.008/1987/L3_eryln_n7t_19870801.txt'],\n",
        "        '/opendap/hyrax/Nimbus7_TOMS_Level3/TOMSN7L3dery.008/1987/'),\n",
        "    (   '/opendap/hyrax/Nimbus7_TOMS_Level3/TOMSN7L3dery.008/1987/L3_eryln_n7t_19870802.txt',\n",
        "        [   'http://acdisc.gsfc.nasa.gov/opendap/hyrax//Nimbus7_TOMS_Level3/TOMSN7L3dery.008/1987/L3_eryln_n7t_19870802.txt'],\n",
        "        '/opendap/hyrax/Nimbus7_TOMS_Level3/TOMSN7L3dery.008/1987/'),\n",
        "    (   '/opendap/hyrax/Nimbus7_TOMS_Level3/TOMSN7L3dery.008/1987/L3_eryln_n7t_19870803.txt',\n",
        "        [   'http://acdisc.gsfc.nasa.gov/opendap/hyrax//Nimbus7_TOMS_Level3/TOMSN7L3dery.008/1987/L3_eryln_n7t_19870803.txt'],\n",
        "        '/opendap/hyrax/Nimbus7_TOMS_Level3/TOMSN7L3dery.008/1987/'),\n",
        "    (   '/opendap/hyrax/Nimbus7_TOMS_Level3/TOMSN7L3dery.008/1987/L3_eryln_n7t_19870804.txt',\n",
        "        [   'http://acdisc.gsfc.nasa.gov/opendap/hyrax//Nimbus7_TOMS_Level3/TOMSN7L3dery.008/1987/L3_eryln_n7t_19870804.txt'],\n",
        "        '/opendap/hyrax/Nimbus7_TOMS_Level3/TOMSN7L3dery.008/1987/'),\n",
        "    (   '/opendap/hyrax/Nimbus7_TOMS_Level3/TOMSN7L3dery.008/1987/L3_eryln_n7t_19870805.txt',\n",
        "        [   'http://acdisc.gsfc.nasa.gov/opendap/hyrax//Nimbus7_TOMS_Level3/TOMSN7L3dery.008/1987/L3_eryln_n7t_19870805.txt'],\n",
        "        '/opendap/hyrax/Nimbus7_TOMS_Level3/TOMSN7L3dery.008/1987/'),\n",
        "    (   '/opendap/hyrax/Nimbus7_TOMS_Level3/TOMSN7L3dery.008/1987/L3_eryln_n7t_19870806.txt',\n",
        "        [   'http://acdisc.gsfc.nasa.gov/opendap/hyrax//Nimbus7_TOMS_Level3/TOMSN7L3dery.008/1987/L3_eryln_n7t_19870806.txt'],\n",
        "        '/opendap/hyrax/Nimbus7_TOMS_Level3/TOMSN7L3dery.008/1987/'),\n",
        "    (   '/opendap/hyrax/Nimbus7_TOMS_Level3/TOMSN7L3dery.008/1987/L3_eryln_n7t_19870807.txt',\n",
        "        [   'http://acdisc.gsfc.nasa.gov/opendap/hyrax//Nimbus7_TOMS_Level3/TOMSN7L3dery.008/1987/L3_eryln_n7t_19870807.txt'],\n",
        "        '/opendap/hyrax/Nimbus7_TOMS_Level3/TOMSN7L3dery.008/1987/'),\n",
        "    (   '/opendap/hyrax/Nimbus7_TOMS_Level3/TOMSN7L3dery.008/1987/L3_eryln_n7t_19870808.txt',\n",
        "        [   'http://acdisc.gsfc.nasa.gov/opendap/hyrax//Nimbus7_TOMS_Level3/TOMSN7L3dery.008/1987/L3_eryln_n7t_19870808.txt'],\n",
        "        '/opendap/hyrax/Nimbus7_TOMS_Level3/TOMSN7L3dery.008/1987/'),\n",
        "    (   '/opendap/hyrax/Nimbus7_TOMS_Level3/TOMSN7L3dery.008/1987/L3_eryln_n7t_19870809.txt',\n",
        "        [   'http://acdisc.gsfc.nasa.gov/opendap/hyrax//Nimbus7_TOMS_Level3/TOMSN7L3dery.008/1987/L3_eryln_n7t_19870809.txt'],\n",
        "        '/opendap/hyrax/Nimbus7_TOMS_Level3/TOMSN7L3dery.008/1987/'),\n",
        "    (   '/opendap/hyrax/Nimbus7_TOMS_Level3/TOMSN7L3dery.008/1987/L3_eryln_n7t_19870810.txt',\n",
        "        [   'http://acdisc.gsfc.nasa.gov/opendap/hyrax//Nimbus7_TOMS_Level3/TOMSN7L3dery.008/1987/L3_eryln_n7t_19870810.txt'],\n",
        "        '/opendap/hyrax/Nimbus7_TOMS_Level3/TOMSN7L3dery.008/1987/'),\n",
        "    (   '/opendap/hyrax/Nimbus7_TOMS_Level3/TOMSN7L3dery.008/1987/L3_eryln_n7t_19870811.txt',\n",
        "        [   'http://acdisc.gsfc.nasa.gov/opendap/hyrax//Nimbus7_TOMS_Level3/TOMSN7L3dery.008/1987/L3_eryln_n7t_19870811.txt'],\n",
        "        '/opendap/hyrax/Nimbus7_TOMS_Level3/TOMSN7L3dery.008/1987/'),\n",
        "    ("
       ]
      },
      {
       "output_type": "stream",
       "stream": "stdout",
       "text": [
        "   '/opendap/hyrax/Nimbus7_TOMS_Level3/TOMSN7L3dery.008/1987/L3_eryln_n7t_19870812.txt',\n",
        "        [   'http://acdisc.gsfc.nasa.gov/opendap/hyrax//Nimbus7_TOMS_Level3/TOMSN7L3dery.008/1987/L3_eryln_n7t_19870812.txt'],\n",
        "        '/opendap/hyrax/Nimbus7_TOMS_Level3/TOMSN7L3dery.008/1987/'),\n",
        "    (   '/opendap/hyrax/Nimbus7_TOMS_Level3/TOMSN7L3dery.008/1987/L3_eryln_n7t_19870813.txt',\n",
        "        [   'http://acdisc.gsfc.nasa.gov/opendap/hyrax//Nimbus7_TOMS_Level3/TOMSN7L3dery.008/1987/L3_eryln_n7t_19870813.txt'],\n",
        "        '/opendap/hyrax/Nimbus7_TOMS_Level3/TOMSN7L3dery.008/1987/'),\n",
        "    (   '/opendap/hyrax/Nimbus7_TOMS_Level3/TOMSN7L3dery.008/1987/L3_eryln_n7t_19870814.txt',\n",
        "        [   'http://acdisc.gsfc.nasa.gov/opendap/hyrax//Nimbus7_TOMS_Level3/TOMSN7L3dery.008/1987/L3_eryln_n7t_19870814.txt'],\n",
        "        '/opendap/hyrax/Nimbus7_TOMS_Level3/TOMSN7L3dery.008/1987/'),\n",
        "    (   '/opendap/hyrax/Nimbus7_TOMS_Level3/TOMSN7L3dery.008/1987/L3_eryln_n7t_19870815.txt',\n",
        "        [   'http://acdisc.gsfc.nasa.gov/opendap/hyrax//Nimbus7_TOMS_Level3/TOMSN7L3dery.008/1987/L3_eryln_n7t_19870815.txt'],\n",
        "        '/opendap/hyrax/Nimbus7_TOMS_Level3/TOMSN7L3dery.008/1987/'),\n",
        "    (   '/opendap/hyrax/Nimbus7_TOMS_Level3/TOMSN7L3dery.008/1987/L3_eryln_n7t_19870816.txt',\n",
        "        [   'http://acdisc.gsfc.nasa.gov/opendap/hyrax//Nimbus7_TOMS_Level3/TOMSN7L3dery.008/1987/L3_eryln_n7t_19870816.txt'],\n",
        "        '/opendap/hyrax/Nimbus7_TOMS_Level3/TOMSN7L3dery.008/1987/'),\n",
        "    (   '/opendap/hyrax/Nimbus7_TOMS_Level3/TOMSN7L3dery.008/1987/L3_eryln_n7t_19870817.txt',\n",
        "        [   'http://acdisc.gsfc.nasa.gov/opendap/hyrax//Nimbus7_TOMS_Level3/TOMSN7L3dery.008/1987/L3_eryln_n7t_19870817.txt'],\n",
        "        '/opendap/hyrax/Nimbus7_TOMS_Level3/TOMSN7L3dery.008/1987/'),\n",
        "    (   '/opendap/hyrax/Nimbus7_TOMS_Level3/TOMSN7L3dery.008/1987/L3_eryln_n7t_19870818.txt',\n",
        "        [   'http://acdisc.gsfc.nasa.gov/opendap/hyrax//Nimbus7_TOMS_Level3/TOMSN7L3dery.008/1987/L3_eryln_n7t_19870818.txt'],\n",
        "        '/opendap/hyrax/Nimbus7_TOMS_Level3/TOMSN7L3dery.008/1987/'),\n",
        "    (   '/opendap/hyrax/Nimbus7_TOMS_Level3/TOMSN7L3dery.008/1987/L3_eryln_n7t_19870819.txt',\n",
        "        [   'http://acdisc.gsfc.nasa.gov/opendap/hyrax//Nimbus7_TOMS_Level3/TOMSN7L3dery.008/1987/L3_eryln_n7t_19870819.txt'],\n",
        "        '/opendap/hyrax/Nimbus7_TOMS_Level3/TOMSN7L3dery.008/1987/'),\n",
        "    (   '/opendap/hyrax/Nimbus7_TOMS_Level3/TOMSN7L3dery.008/1987/L3_eryln_n7t_19870820.txt',\n",
        "        [   'http://acdisc.gsfc.nasa.gov/opendap/hyrax//Nimbus7_TOMS_Level3/TOMSN7L3dery.008/1987/L3_eryln_n7t_19870820.txt'],\n",
        "        '/opendap/hyrax/Nimbus7_TOMS_Level3/TOMSN7L3dery.008/1987/'),\n",
        "    (   '/opendap/hyrax/Nimbus7_TOMS_Level3/TOMSN7L3dery.008/1987/L3_eryln_n7t_19870821.txt',\n",
        "        [   'http://acdisc.gsfc.nasa.gov/opendap/hyrax//Nimbus7_TOMS_Level3/TOMSN7L3dery.008/1987/L3_eryln_n7t_19870821.txt'],\n",
        "        '/opendap/hyrax/Nimbus7_TOMS_Level3/TOMSN7L3dery.008/1987/'),\n",
        "    (   '/opendap/hyrax/Nimbus7_TOMS_Level3/TOMSN7L3dery.008/1987/L3_eryln_n7t_19870822.txt',\n",
        "        [   'http://acdisc.gsfc.nasa.gov/opendap/hyrax//Nimbus7_TOMS_Level3/TOMSN7L3dery.008/1987/L3_eryln_n7t_19870822.txt'],\n",
        "        '/opendap/hyrax/Nimbus7_TOMS_Level3/TOMSN7L3dery.008/1987/'),\n",
        "    (   '/opendap/hyrax/Nimbus7_TOMS_Level3/TOMSN7L3dery.008/1987/L3_eryln_n7t_19870823.txt',\n",
        "        [   'http://acdisc.gsfc.nasa.gov/opendap/hyrax//Nimbus7_TOMS_Level3/TOMSN7L3dery.008/1987/L3_eryln_n7t_19870823.txt'],\n",
        "        '/opendap/hyrax/Nimbus7_TOMS_Level3/TOMSN7L3dery.008/1987/'),\n",
        "    (   '/opendap/hyrax/Nimbus7_TOMS_Level3/TOMSN7L3dery.008/1987/L3_eryln_n7t_19870824.txt',\n",
        "        [   'http://acdisc.gsfc.nasa.gov/opendap/hyrax//Nimbus7_TOMS_Level3/TOMSN7L3dery.008/1987/L3_eryln_n7t_19870824.txt'],\n",
        "        '/opendap/hyrax/Nimbus7_TOMS_Level3/TOMSN7L3dery.008/1987/'),\n",
        "    (   '/opendap/hyrax/Nimbus7_TOMS_Level3/TOMSN7L3dery.008/1987/L3_eryln_n7t_19870825.txt',\n",
        "        [   'http://acdisc.gsfc.nasa.gov/opendap/hyrax//Nimbus7_TOMS_Level3/TOMSN7L3dery.008/1987/L3_eryln_n7t_19870825.txt'],\n",
        "        '/opendap/hyrax/Nimbus7_TOMS_Level3/TOMSN7L3dery.008/1987/'),\n",
        "    (   '/opendap/hyrax/Nimbus7_TOMS_Level3/TOMSN7L3dery.008/1987/L3_eryln_n7t_19870826.txt',\n",
        "        [   'http://acdisc.gsfc.nasa.gov/opendap/hyrax//Nimbus7_TOMS_Level3/TOMSN7L3dery.008/1987/L3_eryln_n7t_19870826.txt'],\n",
        "        '/opendap/hyrax/Nimbus7_TOMS_Level3/TOMSN7L3dery.008/1987/'),\n",
        "    (   '/opendap/hyrax/Nimbus7_TOMS_Level3/TOMSN7L3dery.008/1987/L3_eryln_n7t_19870827.txt',\n",
        "        [   'http://acdisc.gsfc.nasa.gov/opendap/hyrax//Nimbus7_TOMS_Level3/TOMSN7L3dery.008/1987/L3_eryln_n7t_19870827.txt'],\n",
        "        '/opendap/hyrax/Nimbus7_TOMS_Level3/TOMSN7L3dery.008/1987/'),\n",
        "    (   '/opendap/hyrax/Nimbus7_TOMS_Level3/TOMSN7L3dery.008/1987/L3_eryln_n7t_19870828.txt',\n",
        "        [   'http://acdisc.gsfc.nasa.gov/opendap/hyrax//Nimbus7_TOMS_Level3/TOMSN7L3dery.008/1987/L3_eryln_n7t_19870828.txt'],\n",
        "        '/opendap/hyrax/Nimbus7_TOMS_Level3/TOMSN7L3dery.008/1987/'),\n",
        "    (   '/opendap/hyrax/Nimbus7_TOMS_Level3/TOMSN7L3dery.008/1987/L3_eryln_n7t_19870829.txt',\n",
        "        [   'http://acdisc.gsfc.nasa.gov/opendap/hyrax//Nimbus7_TOMS_Level3/TOMSN7L3dery.008/1987/L3_eryln_n7t_19870829.txt'],\n",
        "        '/opendap/hyrax/Nimbus7_TOMS_Level3/TOMSN7L3dery.008/1987/'),\n",
        "    (   '/opendap/hyrax/Nimbus7_TOMS_Level3/TOMSN7L3dery.008/1987/L3_eryln_n7t_19870830.txt',\n",
        "        [   'http://acdisc.gsfc.nasa.gov/opendap/hyrax//Nimbus7_TOMS_Level3/TOMSN7L3dery.008/1987/L3_eryln_n7t_19870830.txt'],\n",
        "        '/opendap/hyrax/Nimbus7_TOMS_Level3/TOMSN7L3dery.008/1987/'),\n",
        "    (   '/opendap/hyrax/Nimbus7_TOMS_Level3/TOMSN7L3dery.008/1987/L3_eryln_n7t_19870831.txt',\n",
        "        [   'http://acdisc.gsfc.nasa.gov/opendap/hyrax//Nimbus7_TOMS_Level3/TOMSN7L3dery.008/1987/L3_eryln_n7t_19870831.txt'],\n",
        "        '/opendap/hyrax/Nimbus7_TOMS_Level3/TOMSN7L3dery.008/1987/'),\n",
        "    (   '/opendap/hyrax/Nimbus7_TOMS_Level3/TOMSN7L3dery.008/1987/L3_eryln_n7t_19870901.txt',\n",
        "        [   'http://acdisc.gsfc.nasa.gov/opendap/hyrax//Nimbus7_TOMS_Level3/TOMSN7L3dery.008/1987/L3_eryln_n7t_19870901.txt'],\n",
        "        '/opendap/hyrax/Nimbus7_TOMS_Level3/TOMSN7L3dery.008/1987/'),\n",
        "    (   '/opendap/hyrax/Nimbus7_TOMS_Level3/TOMSN7L3dery.008/1987/L3_eryln_n7t_19870902.txt',\n",
        "        [   'http://acdisc.gsfc.nasa.gov/opendap/hyrax//Nimbus7_TOMS_Level3/TOMSN7L3dery.008/1987/L3_eryln_n7t_19870902.txt'],\n",
        "        '/opendap/hyrax/Nimbus7_TOMS_Level3/TOMSN7L3dery.008/1987/'),\n",
        "    (   '/opendap/hyrax/Nimbus7_TOMS_Level3/TOMSN7L3dery.008/1987/L3_eryln_n7t_19870903.txt',\n",
        "        [   'http://acdisc.gsfc.nasa.gov/opendap/hyrax//Nimbus7_TOMS_Level3/TOMSN7L3dery.008/1987/L3_eryln_n7t_19870903.txt'],\n",
        "        '/opendap/hyrax/Nimbus7_TOMS_Level3/TOMSN7L3dery.008/1987/'),\n",
        "    (   '/opendap/hyrax/Nimbus7_TOMS_Level3/TOMSN7L3dery.008/1987/L3_eryln_n7t_19870904.txt',\n",
        "        [   'http://acdisc.gsfc.nasa.gov/opendap/hyrax//Nimbus7_TOMS_Level3/TOMSN7L3dery.008/1987/L3_eryln_n7t_19870904.txt'],\n",
        "        '/opendap/hyrax/Nimbus7_TOMS_Level3/TOMSN7L3dery.008/1987/'),\n",
        "    (   '/opendap/hyrax/Nimbus7_TOMS_Level3/TOMSN7L3dery.008/1987/L3_eryln_n7t_19870905.txt',\n",
        "        [   'http://acdisc.gsfc.nasa.gov/opendap/hyrax//Nimbus7_TOMS_Level3/TOMSN7L3dery.008/1987/L3_eryln_n7t_19870905.txt'],\n",
        "        '/opendap/hyrax/Nimbus7_TOMS_Level3/TOMSN7L3dery.008/1987/'),\n",
        "    (   '/opendap/hyrax/Nimbus7_TOMS_Level3/TOMSN7L3dery.008/1987/L3_eryln_n7t_19870906.txt',\n",
        "        [   'http://acdisc.gsfc.nasa.gov/opendap/hyrax//Nimbus7_TOMS_Level3/TOMSN7L3dery.008/1987/L3_eryln_n7t_19870906.txt'],\n",
        "        '/opendap/hyrax/Nimbus7_TOMS_Level3/TOMSN7L3dery.008/1987/'),\n",
        "    (   '/opendap/hyrax/Nimbus7_TOMS_Level3/TOMSN7L3dery.008/1987/L3_eryln_n7t_19870907.txt',\n",
        "        [   'http://acdisc.gsfc.nasa.gov/opendap/hyrax//Nimbus7_TOMS_Level3/TOMSN7L3dery.008/1987/L3_eryln_n7t_19870907.txt'],\n",
        "        '/opendap/hyrax/Nimbus7_TOMS_Level3/TOMSN7L3dery.008/1987/'),\n",
        "    (   '/opendap/hyrax/Nimbus7_TOMS_Level3/TOMSN7L3dery.008/1987/L3_eryln_n7t_19870908.txt',\n",
        "        [   'http://acdisc.gsfc.nasa.gov/opendap/hyrax//Nimbus7_TOMS_Level3/TOMSN7L3dery.008/1987/L3_eryln_n7t_19870908.txt'],\n",
        "        '/opendap/hyrax/Nimbus7_TOMS_Level3/TOMSN7L3dery.008/1987/'),\n",
        "    (   '/opendap/hyrax/Nimbus7_TOMS_Level3/TOMSN7L3dery.008/1987/L3_eryln_n7t_19870909.txt',\n",
        "        [   'http://acdisc.gsfc.nasa.gov/opendap/hyrax//Nimbus7_TOMS_Level3/TOMSN7L3dery.008/1987/L3_eryln_n7t_19870909.txt'],\n",
        "        '/opendap/hyrax/Nimbus7_TOMS_Level3/TOMSN7L3dery.008/1987/'),\n",
        "    (   '/opendap/hyrax/Nimbus7_TOMS_Level3/TOMSN7L3dery.008/1987/L3_eryln_n7t_19870910.txt',\n",
        "        [   'http://acdisc.gsfc.nasa.gov/opendap/hyrax//Nimbus7_TOMS_Level3/TOMSN7L3dery.008/1987/L3_eryln_n7t_19870910.txt'],\n",
        "        '/opendap/hyrax/Nimbus7_TOMS_Level3/TOMSN7L3dery.008/1987/'),\n",
        "    (   '/opendap/hyrax/Nimbus7_TOMS_Level3/TOMSN7L3dery.008/1987/L3_eryln_n7t_19870911.txt',\n",
        "        [   'http://acdisc.gsfc.nasa.gov/opendap/hyrax//Nimbus7_TOMS_Level3/TOMSN7L3dery.008/1987/L3_eryln_n7t_19870911.txt'],\n",
        "        '/opendap/hyrax/Nimbus7_TOMS_Level3/TOMSN7L3dery.008/1987/'),\n",
        "    (   '/opendap/hyrax/Nimbus7_TOMS_Level3/TOMSN7L3dery.008/1987/L3_eryln_n7t_19870912.txt',\n",
        "        [   'http://acdisc.gsfc.nasa.gov/opendap/hyrax//Nimbus7_TOMS_Level3/TOMSN7L3dery.008/1987/L3_eryln_n7t_19870912.txt'],\n",
        "        '/opendap/hyrax/Nimbus7_TOMS_Level3/TOMSN7L3dery.008/1987/'),\n",
        "    (   '/opendap/hyrax/Nimbus7_TOMS_Level3/TOMSN7L3dery.008/1987/L3_eryln_n7t_19870913.txt',\n",
        "        [   'http://acdisc.gsfc.nasa.gov/opendap/hyrax//Nimbus7_TOMS_Level3/TOMSN7L3dery.008/1987/L3_eryln_n7t_19870913.txt'],\n",
        "        '/opendap/hyrax/Nimbus7_TOMS_Level3/TOMSN7L3dery.008/1987/'),\n",
        "    (   '/opendap/hyrax/Nimbus7_TOMS_Level3/TOMSN7L3dery.008/1987/L3_eryln_n7t_19870914.txt',\n",
        "        [   'http://acdisc.gsfc.nasa.gov/opendap/hyrax//Nimbus7_TOMS_Level3/TOMSN7L3dery.008/1987/L3_eryln_n7t_19870914.txt'],\n",
        "        '/opendap/hyrax/Nimbus7_TOMS_Level3/TOMSN7L3dery.008/1987/'),\n",
        "    (   '/opendap/hyrax/Nimbus7_TOMS_Level3/TOMSN7L3dery.008/1987/L3_eryln_n7t_19870915.txt',\n",
        "        [   'http://acdisc.gsfc.nasa.gov/opendap/hyrax//Nimbus7_TOMS_Level3/TOMSN7L3dery.008/1987/L3_eryln_n7t_19870915.txt'],\n",
        "        '/opendap/hyrax/Nimbus7_TOMS_Level3/TOMSN7L3dery.008/1987/'),\n",
        "    (   '/opendap/hyrax/Nimbus7_TOMS_Level3/TOMSN7L3dery.008/1987/L3_eryln_n7t_19870916.txt',\n",
        "        [   'http://acdisc.gsfc.nasa.gov/opendap/hyrax//Nimbus7_TOMS_Level3/TOMSN7L3dery.008/1987/L3_eryln_n7t_19870916.txt'],\n",
        "        '/opendap/hyrax/Nimbus7_TOMS_Level3/TOMSN7L3dery.008/1987/'),\n",
        "    (   '/opendap/hyrax/Nimbus7_TOMS_Level3/TOMSN7L3dery.008/1987/L3_eryln_n7t_19870917.txt',\n",
        "        [   'http://acdisc.gsfc.nasa.gov/opendap/hyrax//Nimbus7_TOMS_Level3/TOMSN7L3dery.008/1987/L3_eryln_n7t_19870917.txt'],\n",
        "        '/opendap/hyrax/Nimbus7_TOMS_Level3/TOMSN7L3dery.008/1987/'),\n",
        "    (   '/opendap/hyrax/Nimbus7_TOMS_Level3/TOMSN7L3dery.008/1987/L3_eryln_n7t_19870918.txt',\n",
        "        [   'http://acdisc.gsfc.nasa.gov/opendap/hyrax//Nimbus7_TOMS_Level3/TOMSN7L3dery.008/1987/L3_eryln_n7t_19870918.txt'],\n",
        "        '/opendap/hyrax/Nimbus7_TOMS_Level3/TOMSN7L3dery.008/1987/'),\n",
        "    (   '/opendap/hyrax/Nimbus7_TOMS_Level3/TOMSN7L3dery.008/1987/L3_eryln_n7t_19870919.txt',\n",
        "        [   'http://acdisc.gsfc.nasa.gov/opendap/hyrax//Nimbus7_TOMS_Level3/TOMSN7L3dery.008/1987/L3_eryln_n7t_19870919.txt'],\n",
        "        '/opendap/hyrax/Nimbus7_TOMS_Level3/TOMSN7L3dery.008/1987/'),\n",
        "    (   '/opendap/hyrax/Nimbus7_TOMS_Level3/TOMSN7L3dery.008/1987/L3_eryln_n7t_19870920.txt',\n",
        "        [   'http://acdisc.gsfc.nasa.gov/opendap/hyrax//Nimbus7_TOMS_Level3/TOMSN7L3dery.008/1987/L3_eryln_n7t_19870920.txt'],\n",
        "        '/opendap/hyrax/Nimbus7_TOMS_Level3/TOMSN7L3dery.008/1987/'),\n",
        "    (   '/opendap/hyrax/Nimbus7_TOMS_Level3/TOMSN7L3dery.008/1987/L3_eryln_n7t_19870921.txt',\n",
        "        [   'http://acdisc.gsfc.nasa.gov/opendap/hyrax//Nimbus7_TOMS_Level3/TOMSN7L3dery.008/1987/L3_eryln_n7t_19870921.txt'],\n",
        "        '/opendap/hyrax/Nimbus7_TOMS_Level3/TOMSN7L3dery.008/1987/'),\n",
        "    (   '/opendap/hyrax/Nimbus7_TOMS_Level3/TOMSN7L3dery.008/1987/L3_eryln_n7t_19870922.txt',\n",
        "        [   'http://acdisc.gsfc.nasa.gov/opendap/hyrax//Nimbus7_TOMS_Level3/TOMSN7L3dery.008/1987/L3_eryln_n7t_19870922.txt'],\n",
        "        '/opendap/hyrax/Nimbus7_TOMS_Level3/TOMSN7L3dery.008/1987/'),\n",
        "    (   '/opendap/hyrax/Nimbus7_TOMS_Level3/TOMSN7L3dery.008/1987/L3_eryln_n7t_19870923.txt',\n",
        "        [   'http://acdisc.gsfc.nasa.gov/opendap/hyrax//Nimbus7_TOMS_Level3/TOMSN7L3dery.008/1987/L3_eryln_n7t_19870923.txt'],\n",
        "        '/opendap/hyrax/Nimbus7_TOMS_Level3/TOMSN7L3dery.008/1987/'),\n",
        "    (   '/opendap/hyrax/Nimbus7_TOMS_Level3/TOMSN7L3dery.008/1987/L3_eryln_n7t_19870924.txt',\n",
        "        [   'http://acdisc.gsfc.nasa.gov/opendap/hyrax//Nimbus7_TOMS_Level3/TOMSN7L3dery.008/1987/L3_eryln_n7t_19870924.txt'],\n",
        "        '/opendap/hyrax/Nimbus7_TOMS_Level3/TOMSN7L3dery.008/1987/'),\n",
        "    (   '/opendap/hyrax/Nimbus7_TOMS_Level3/TOMSN7L3dery.008/1987/L3_eryln_n7t_19870925.txt',\n",
        "        [   'http://acdisc.gsfc.nasa.gov/opendap/hyrax//Nimbus7_TOMS_Level3/TOMSN7L3dery.008/1987/L3_eryln_n7t_19870925.txt'],\n",
        "        '/opendap/hyrax/Nimbus7_TOMS_Level3/TOMSN7L3dery.008/1987/'),\n",
        "    (   '/opendap/hyrax/Nimbus7_TOMS_Level3/TOMSN7L3dery.008/1987/L3_eryln_n7t_19870926.txt',\n",
        "        [   'http://acdisc.gsfc.nasa.gov/opendap/hyrax//Nimbus7_TOMS_Level3/TOMSN7L3dery.008/1987/L3_eryln_n7t_19870926.txt'],\n",
        "        '/opendap/hyrax/Nimbus7_TOMS_Level3/TOMSN7L3dery.008/1987/'),\n",
        "    (   '/opendap/hyrax/Nimbus7_TOMS_Level3/TOMSN7L3dery.008/1987/L3_eryln_n7t_19870927.txt',\n",
        "        [   'http://acdisc.gsfc.nasa.gov/opendap/hyrax//Nimbus7_TOMS_Level3/TOMSN7L3dery.008/1987/L3_eryln_n7t_19870927.txt'],\n",
        "        '/opendap/hyrax/Nimbus7_TOMS_Level3/TOMSN7L3dery.008/1987/'),\n",
        "    (   '/opendap/hyrax/Nimbus7_TOMS_Level3/TOMSN7L3dery.008/1987/L3_eryln_n7t_19870928.txt',\n",
        "        [   'http://acdisc.gsfc.nasa.gov/opendap/hyrax//Nimbus7_TOMS_Level3/TOMSN7L3dery.008/1987/L3_eryln_n7t_19870928.txt'],\n",
        "        '/opendap/hyrax/Nimbus7_TOMS_Level3/TOMSN7L3dery.008/1987/'),\n",
        "    (   '/opendap/hyrax/Nimbus7_TOMS_Level3/TOMSN7L3dery.008/1987/L3_eryln_n7t_19870929.txt',\n",
        "        [   'http://acdisc.gsfc.nasa.gov/opendap/hyrax//Nimbus7_TOMS_Level3/TOMSN7L3dery.008/1987/L3_eryln_n7t_19870929.txt'],\n",
        "        '/opendap/hyrax/Nimbus7_TOMS_Level3/TOMSN7L3dery.008/1987/'),\n",
        "    (   '/opendap/hyrax/Nimbus7_TOMS_Level3/TOMSN7L3dery.008/1987/L3_eryln_n7t_19870930.txt',\n",
        "        [   'http://acdisc.gsfc.nasa.gov/opendap/hyrax//Nimbus7_TOMS_Level3/TOMSN7L3dery.008/1987/L3_eryln_n7t_19870930.txt'],\n",
        "        '/opendap/hyrax/Nimbus7_TOMS_Level3/TOMSN7L3dery.008/1987/'),\n",
        "    (   '/opendap/hyrax/Nimbus7_TOMS_Level3/TOMSN7L3dery.008/1987/L3_eryln_n7t_19871001.txt',\n",
        "        [   'http://acdisc.gsfc.nasa.gov/opendap/hyrax//Nimbus7_TOMS_Level3/TOMSN7L3dery.008/1987/L3_eryln_n7t_19871001.txt'],\n",
        "        '/opendap/hyrax/Nimbus7_TOMS_Level3/TOMSN7L3dery.008/1987/'),\n",
        "    (   '/opendap/hyrax/Nimbus7_TOMS_Level3/TOMSN7L3dery.008/1987/L3_eryln_n7t_19871002.txt',\n",
        "        [   'http://acdisc.gsfc.nasa.gov/opendap/hyrax//Nimbus7_TOMS_Level3/TOMSN7L3dery.008/1987/L3_eryln_n7t_19871002.txt'],\n",
        "        '/opendap/hyrax/Nimbus7_TOMS_Level3/TOMSN7L3dery.008/1987/'),\n",
        "    (   '/opendap/hyrax/Nimbus7_TOMS_Level3/TOMSN7L3dery.008/1987/L3_eryln_n7t_19871003.txt',\n",
        "        [   'http://acdisc.gsfc.nasa.gov/opendap/hyrax//Nimbus7_TOMS_Level3/TOMSN7L3dery.008/1987/L3_eryln_n7t_19871003.txt'],\n",
        "        '/opendap/hyrax/Nimbus7_TOMS_Level3/TOMSN7L3dery.008/1987/'),\n",
        "    (   '/opendap/hyrax/Nimbus7_TOMS_Level3/TOMSN7L3dery.008/1987/L3_eryln_n7t_19871004.txt',\n",
        "        [   'http://acdisc.gsfc.nasa.gov/opendap/hyrax//Nimbus7_TOMS_Level3/TOMSN7L3dery.008/1987/L3_eryln_n7t_19871004.txt'],\n",
        "        '/opendap/hyrax/Nimbus7_TOMS_Level3/TOMSN7L3dery.008/1987/'),\n",
        "    (   '/opendap/hyrax/Nimbus7_TOMS_Level3/TOMSN7L3dery.008/1987/L3_eryln_n7t_19871005.txt',\n",
        "        [   'http://acdisc.gsfc.nasa.gov/opendap/hyrax//Nimbus7_TOMS_Level3/TOMSN7L3dery.008/1987/L3_eryln_n7t_19871005.txt'],\n",
        "        '/opendap/hyrax/Nimbus7_TOMS_Level3/TOMSN7L3dery.008/1987/'),\n",
        "    (   '/opendap/hyrax/Nimbus7_TOMS_Level3/TOMSN7L3dery.008/1987/L3_eryln_n7t_19871006.txt',\n",
        "        [   'http://acdisc.gsfc.nasa.gov/opendap/hyrax//Nimbus7_TOMS_Level3/TOMSN7L3dery.008/1987/L3_eryln_n7t_19871006.txt'],\n",
        "        '/opendap/hyrax/Nimbus7_TOMS_Level3/TOMSN7L3dery.008/1987/'),\n",
        "    (   '/opendap/hyrax/Nimbus7_TOMS_Level3/TOMSN7L3dery.008/1987/L3_eryln_n7t_19871007.txt',\n",
        "        [   'http://acdisc.gsfc.nasa.gov/opendap/hyrax//Nimbus7_TOMS_Level3/TOMSN7L3dery.008/1987/L3_eryln_n7t_19871007.txt'],\n",
        "        '/opendap/hyrax/Nimbus7_TOMS_Level3/TOMSN7L3dery.008/1987/'),\n",
        "    (   '/opendap/hyrax/Nimbus7_TOMS_Level3/TOMSN7L3dery.008/1987/L3_eryln_n7t_19871008.txt',\n",
        "        [   'http://acdisc.gsfc.nasa.gov/opendap/hyrax//Nimbus7_TOMS_Level3/TOMSN7L3dery.008/1987/L3_eryln_n7t_19871008.txt'],\n",
        "        '/opendap/hyrax/Nimbus7_TOMS_Level3/TOMSN7L3dery.008/1987/'),\n",
        "    (   '/opendap/hyrax/Nimbus7_TOMS_Level3/TOMSN7L3dery.008/1987/L3_eryln_n7t_19871009.txt',\n",
        "        [   'http://acdisc.gsfc.nasa.gov/opendap/hyrax//Nimbus7_TOMS_Level3/TOMSN7L3dery.008/1987/L3_eryln_n7t_19871009.txt'],\n",
        "        '/opendap/hyrax/Nimbus7_TOMS_Level3/TOMSN7L3dery.008/1987/'),\n",
        "    (   '/opendap/hyrax/Nimbus7_TOMS_Level3/TOMSN7L3dery.008/1987/L3_eryln_n7t_19871010.txt',\n",
        "        [   'http://acdisc.gsfc.nasa.gov/opendap/hyrax//Nimbus7_TOMS_Level3/TOMSN7L3dery.008/1987/L3_eryln_n7t_19871010.txt'],\n",
        "        '/opendap/hyrax/Nimbus7_TOMS_Level3/TOMSN7L3dery.008/1987/'),\n",
        "    (   '/opendap/hyrax/Nimbus7_TOMS_Level3/TOMSN7L3dery.008/1987/L3_eryln_n7t_19871011.txt',\n",
        "        [   'http://acdisc.gsfc.nasa.gov/opendap/hyrax//Nimbus7_TOMS_Level3/TOMSN7L3dery.008/1987/L3_eryln_n7t_19871011.txt'],\n",
        "        '/opendap/hyrax/Nimbus7_TOMS_Level3/TOMSN7L3dery.008/1987/'),\n",
        "    (   '/opendap/hyrax/Nimbus7_TOMS_Level3/TOMSN7L3dery.008/1987/L3_eryln_n7t_19871012.txt',\n",
        "        [   'http://acdisc.gsfc.nasa.gov/opendap/hyrax//Nimbus7_TOMS_Level3/TOMSN7L3dery.008/1987/L3_eryln_n7t_19871012.txt'],\n",
        "        '/opendap/hyrax/Nimbus7_TOMS_Level3/TOMSN7L3dery.008/1987/'),\n",
        "    (   '/opendap/hyrax/Nimbus7_TOMS_Level3/TOMSN7L3dery.008/1987/L3_eryln_n7t_19871013.txt',\n",
        "        [   'http://acdisc.gsfc.nasa.gov/opendap/hyrax//Nimbus7_TOMS_Level3/TOMSN7L3dery.008/1987/L3_eryln_n7t_19871013.txt'],\n",
        "        '/opendap/hyrax/Nimbus7_TOMS_Level3/TOMSN7L3dery.008/1987/'),\n",
        "    (   '/opendap/hyrax/Nimbus7_TOMS_Level3/TOMSN7L3dery.008/1987/L3_eryln_n7t_19871014.txt',\n",
        "        [   'http://acdisc.gsfc.nasa.gov/opendap/hyrax//Nimbus7_TOMS_Level3/TOMSN7L3dery.008/1987/L3_eryln_n7t_19871014.txt'],\n",
        "        '/opendap/hyrax/Nimbus7_TOMS_Level3/TOMSN7L3dery.008/1987/'),\n",
        "    (   '/opendap/hyrax/Nimbus7_TOMS_Level3/TOMSN7L3dery.008/1987/L3_eryln_n7t_19871015.txt',\n",
        "        [   'http://acdisc.gsfc.nasa.gov/opendap/hyrax//Nimbus7_TOMS_Level3/TOMSN7L3dery.008/1987/L3_eryln_n7t_19871015.txt'],\n",
        "        '/opendap/hyrax/Nimbus7_TOMS_Level3/TOMSN7L3dery.008/1987/'),\n",
        "    (   '/opendap/hyrax/Nimbus7_TOMS_Level3/TOMSN7L3dery.008/1987/L3_eryln_n7t_19871016.txt',\n",
        "        [   'http://acdisc.gsfc.nasa.gov/opendap/hyrax//Nimbus7_TOMS_Level3/TOMSN7L3dery.008/1987/L3_eryln_n7t_19871016.txt'],\n",
        "        '/opendap/hyrax/Nimbus7_TOMS_Level3/TOMSN7L3dery.008/1987/'),\n",
        "    (   '/opendap/hyrax/Nimbus7_TOMS_Level3/TOMSN7L3dery.008/1987/L3_eryln_n7t_19871017.txt',\n",
        "        [   'http://acdisc.gsfc.nasa.gov/opendap/hyrax//Nimbus7_TOMS_Level3/TOMSN7L3dery.008/1987/L3_eryln_n7t_19871017.txt'],\n",
        "        '/opendap/hyrax/Nimbus7_TOMS_Level3/TOMSN7L3dery.008/1987/'),\n",
        "    (   '/opendap/hyrax/Nimbus7_TOMS_Level3/TOMSN7L3dery.008/1987/L3_eryln_n7t_19871018.txt',\n",
        "        [   'http://acdisc.gsfc.nasa.gov/opendap/hyrax//Nimbus7_TOMS_Level3/TOMSN7L3dery.008/1987/L3_eryln_n7t_19871018.txt'],\n",
        "        '/opendap/hyrax/Nimbus7_TOMS_Level3/TOMSN7L3dery.008/1987/'),\n",
        "    (   '/opendap/hyrax/Nimbus7_TOMS_Level3/TOMSN7L3dery.008/1987/L3_eryln_n7t_19871019.txt',\n",
        "        [   'http://acdisc.gsfc.nasa.gov/opendap/hyrax//Nimbus7_TOMS_Level3/TOMSN7L3dery.008/1987/L3_eryln_n7t_19871019.txt'],\n",
        "        '/opendap/hyrax/Nimbus7_TOMS_Level3/TOMSN7L3dery.008/1987/'),\n",
        "    (   '/opendap/hyrax/Nimbus7_TOMS_Level3/TOMSN7L3dery.008/1987/L3_eryln_n7t_19871020.txt',\n",
        "        [   'http://acdisc.gsfc.nasa.gov/opendap/hyrax//Nimbus7_TOMS_Level3/TOMSN7L3dery.008/1987/L3_eryln_n7t_19871020.txt'],\n",
        "        '/opendap/hyrax/Nimbus7_TOMS_Level3/TOMSN7L3dery.008/1987/'),\n",
        "    (   '/opendap/hyrax/Nimbus7_TOMS_Level3/TOMSN7L3dery.008/1987/L3_eryln_n7t_19871021.txt',\n",
        "        [   'http://acdisc.gsfc.nasa.gov/opendap/hyrax//Nimbus7_TOMS_Level3/TOMSN7L3dery.008/1987/L3_eryln_n7t_19871021.txt'],\n",
        "        '/opendap/hyrax/Nimbus7_TOMS_Level3/TOMSN7L3dery.008/1987/'),\n",
        "    (   '/opendap/hyrax/Nimbus7_TOMS_Level3/TOMSN7L3dery.008/1987/L3_eryln_n7t_19871022.txt',\n",
        "        [   'http://acdisc.gsfc.nasa.gov/opendap/hyrax//Nimbus7_TOMS_Level3/TOMSN7L3dery.008/1987/L3_eryln_n7t_19871022.txt'],\n",
        "        '/opendap/hyrax/Nimbus7_TOMS_Level3/TOMSN7L3dery.008/1987/'),\n",
        "    (   '/opendap/hyrax/Nimbus7_TOMS_Level3/TOMSN7L3dery.008/1987/L3_eryln_n7t_19871023.txt',\n",
        "        [   'http://acdisc.gsfc.nasa.gov/opendap/hyrax//Nimbus7_TOMS_Level3/TOMSN7L3dery.008/1987/L3_eryln_n7t_19871023.txt'],\n",
        "        '/opendap/hyrax/Nimbus7_TOMS_Level3/TOMSN7L3dery.008/1987/'),\n",
        "    (   '/opendap/hyrax/Nimbus7_TOMS_Level3/TOMSN7L3dery.008/1987/L3_eryln_n7t_19871024.txt',\n",
        "        [   'http://acdisc.gsfc.nasa.gov/opendap/hyrax//Nimbus7_TOMS_Level3/TOMSN7L3dery.008/1987/L3_eryln_n7t_19871024.txt'],\n",
        "        '/opendap/hyrax/Nimbus7_TOMS_Level3/TOMSN7L3dery.008/1987/'),\n",
        "    (   '/opendap/hyrax/Nimbus7_TOMS_Level3/TOMSN7L3dery.008/1987/L3_eryln_n7t_19871025.txt',\n",
        "        [   'http://acdisc.gsfc.nasa.gov/opendap/hyrax//Nimbus7_TOMS_Level3/TOMSN7L3dery.008/1987/L3_eryln_n7t_19871025.txt'],\n",
        "        '/opendap/hyrax/Nimbus7_TOMS_Level3/TOMSN7L3dery.008/1987/'),\n",
        "    (   '/opendap/hyrax/Nimbus7_TOMS_Level3/TOMSN7L3dery.008/1987/L3_eryln_n7t_19871026.txt',\n",
        "        [   'http://acdisc.gsfc.nasa.gov/opendap/hyrax//Nimbus7_TOMS_Level3/TOMSN7L3dery.008/1987/L3_eryln_n7t_19871026.txt'],\n",
        "        '/opendap/hyrax/Nimbus7_TOMS_Level3/TOMSN7L3dery.008/1987/'),\n",
        "    (   '/opendap/hyrax/Nimbus7_TOMS_Level3/TOMSN7L3dery.008/1987/L3_eryln_n7t_19871027.txt',\n",
        "        [   'http://acdisc.gsfc.nasa.gov/opendap/hyrax//Nimbus7_TOMS_Level3/TOMSN7L3dery.008/1987/L3_eryln_n7t_19871027.txt'],\n",
        "        '/opendap/hyrax/Nimbus7_TOMS_Level3/TOMSN7L3dery.008/1987/'),\n",
        "    (   '/opendap/hyrax/Nimbus7_TOMS_Level3/TOMSN7L3dery.008/1987/L3_eryln_n7t_19871028.txt',\n",
        "        [   'http://acdisc.gsfc.nasa.gov/opendap/hyrax//Nimbus7_TOMS_Level3/TOMSN7L3dery.008/1987/L3_eryln_n7t_19871028.txt'],\n",
        "        '/opendap/hyrax/Nimbus7_TOMS_Level3/TOMSN7L3dery.008/1987/'),\n",
        "    (   '/opendap/hyrax/Nimbus7_TOMS_Level3/TOMSN7L3dery.008/1987/L3_eryln_n7t_19871029.txt',\n",
        "        [   'http://acdisc.gsfc.nasa.gov/opendap/hyrax//Nimbus7_TOMS_Level3/TOMSN7L3dery.008/1987/L3_eryln_n7t_19871029.txt'],\n",
        "        '/opendap/hyrax/Nimbus7_TOMS_Level3/TOMSN7L3dery.008/1987/'),\n",
        "    (   '/opendap/hyrax/Nimbus7_TOMS_Level3/TOMSN7L3dery.008/1987/L3_eryln_n7t_19871030.txt',\n",
        "        [   'http://acdisc.gsfc.nasa.gov/opendap/hyrax//Nimbus7_TOMS_Level3/TOMSN7L3dery.008/1987/L3_eryln_n7t_19871030.txt'],\n",
        "        '/opendap/hyrax/Nimbus7_TOMS_Level3/TOMSN7L3dery.008/1987/'),\n",
        "    (   '/opendap/hyrax/Nimbus7_TOMS_Level3/TOMSN7L3dery.008/1987/L3_eryln_n7t_19871031.txt',\n",
        "        [   'http://acdisc.gsfc.nasa.gov/opendap/hyrax//Nimbus7_TOMS_Level3/TOMSN7L3dery.008/1987/L3_eryln_n7t_19871031.txt'],\n",
        "        '/opendap/hyrax/Nimbus7_TOMS_Level3/TOMSN7L3dery.008/1987/'),\n",
        "    (   '/opendap/hyrax/Nimbus7_TOMS_Level3/TOMSN7L3dery.008/1987/L3_eryln_n7t_19871101.txt',\n",
        "        [   'http://acdisc.gsfc.nasa.gov/opendap/hyrax//Nimbus7_TOMS_Level3/TOMSN7L3dery.008/1987/L3_eryln_n7t_19871101.txt'],\n",
        "        '/opendap/hyrax/Nimbus7_TOMS_Level3/TOMSN7L3dery.008/1987/'),\n",
        "    (   '/opendap/hyrax/Nimbus7_TOMS_Level3/TOMSN7L3dery.008/1987/L3_eryln_n7t_19871102.txt',\n",
        "        [   'http://acdisc.gsfc.nasa.gov/opendap/hyrax//Nimbus7_TOMS_Level3/TOMSN7L3dery.008/1987/L3_eryln_n7t_19871102.txt'],\n",
        "        '/opendap/hyrax/Nimbus7_TOMS_Level3/TOMSN7L3dery.008/1987/'),\n",
        "    (   '/opendap/hyrax/Nimbus7_TOMS_Level3/TOMSN7L3dery.008/1987/L3_eryln_n7t_19871103.txt',\n",
        "        [   'http://acdisc.gsfc.nasa.gov/opendap/hyrax//Nimbus7_TOMS_Level3/TOMSN7L3dery.008/1987/L3_eryln_n7t_19871103.txt'],\n",
        "        '/opendap/hyrax/Nimbus7_TOMS_Level3/TOMSN7L3dery.008/1987/'),\n",
        "    (   '/opendap/hyrax/Nimbus7_TOMS_Level3/TOMSN7L3dery.008/1987/L3_eryln_n7t_19871104.txt',\n",
        "        [   'http://acdisc.gsfc.nasa.gov/opendap/hyrax//Nimbus7_TOMS_Level3/TOMSN7L3dery.008/1987/L3_eryln_n7t_19871104.txt'],\n",
        "        '/opendap/hyrax/Nimbus7_TOMS_Level3/TOMSN7L3dery.008/1987/'),\n",
        "    (   '/opendap/hyrax/Nimbus7_TOMS_Level3/TOMSN7L3dery.008/1987/L3_eryln_n7t_19871105.txt',\n",
        "        [   'http://acdisc.gsfc.nasa.gov/opendap/hyrax//Nimbus7_TOMS_Level3/TOMSN7L3dery.008/1987/L3_eryln_n7t_19871105.txt'],\n",
        "        '/opendap/hyrax/Nimbus7_TOMS_Level3/TOMSN7L3dery.008/1987/'),\n",
        "    (   '/opendap/hyrax/Nimbus7_TOMS_Level3/TOMSN7L3dery.008/1987/L3_eryln_n7t_19871106.txt',\n",
        "        [   'http://acdisc.gsfc.nasa.gov/opendap/hyrax//Nimbus7_TOMS_Level3/TOMSN7L3dery.008/1987/L3_eryln_n7t_19871106.txt'],\n",
        "        '/opendap/hyrax/Nimbus7_TOMS_Level3/TOMSN7L3dery.008/1987/'),\n",
        "    (   '/opendap/hyrax/Nimbus7_TOMS_Level3/TOMSN7L3dery.008/1987/L3_eryln_n7t_19871107.txt',\n",
        "        [   'http://acdisc.gsfc.nasa.gov/opendap/hyrax//Nimbus7_TOMS_Level3/TOMSN7L3dery.008/1987/L3_eryln_n7t_19871107.txt'],\n",
        "        '/opendap/hyrax/Nimbus7_TOMS_Level3/TOMSN7L3dery.008/1987/'),\n",
        "    (   '/opendap/hyrax/Nimbus7_TOMS_Level3/TOMSN7L3dery.008/1987/L3_eryln_n7t_19871108.txt',\n",
        "        [   'http://acdisc.gsfc.nasa.gov/opendap/hyrax//Nimbus7_TOMS_Level3/TOMSN7L3dery.008/1987/L3_eryln_n7t_19871108.txt'],\n",
        "        '/opendap/hyrax/Nimbus7_TOMS_Level3/TOMSN7L3dery.008/1987/'),\n",
        "    (   '/opendap/hyrax/Nimbus7_TOMS_Level3/TOMSN7L3dery.008/1987/L3_eryln_n7t_19871109.txt',\n",
        "        [   'http://acdisc.gsfc.nasa.gov/opendap/hyrax//Nimbus7_TOMS_Level3/TOMSN7L3dery.008/1987/L3_eryln_n7t_19871109.txt'],\n",
        "        '/opendap/hyrax/Nimbus7_TOMS_Level3/TOMSN7L3dery.008/1987/'),\n",
        "    (   '/opendap/hyrax/Nimbus7_TOMS_Level3/TOMSN7L3dery.008/1987/L3_eryln_n7t_19871110.txt',\n",
        "        [   'http://acdisc.gsfc.nasa.gov/opendap/hyrax//Nimbus7_TOMS_Level3/TOMSN7L3dery.008/1987/L3_eryln_n7t_19871110.txt'],\n",
        "        '/opendap/hyrax/Nimbus7_TOMS_Level3/TOMSN7L3dery.008/1987/'),\n",
        "    (   '/opendap/hyrax/Nimbus7_TOMS_Level3/TOMSN7L3dery.008/1987/L3_eryln_n7t_19871111.txt',\n",
        "        [   'http://acdisc.gsfc.nasa.gov/opendap/hyrax//Nimbus7_TOMS_Level3/TOMSN7L3dery.008/1987/L3_eryln_n7t_19871111.txt'],\n",
        "        '/opendap/hyrax/Nimbus7_TOMS_Level3/TOMSN7L3dery.008/1987/'),\n",
        "    (   '/opendap/hyrax/Nimbus7_TOMS_Level3/TOMSN7L3dery.008/1987/L3_eryln_n7t_19871112.txt',\n",
        "        [   'http://acdisc.gsfc.nasa.gov/opendap/hyrax//Nimbus7_TOMS_Level3/TOMSN7L3dery.008/1987/L3_eryln_n7t_19871112.txt'],\n",
        "        '/opendap/hyrax/Nimbus7_TOMS_Level3/TOMSN7L3dery.008/1987/'),\n",
        "    (   '/opendap/hyrax/Nimbus7_TOMS_Level3/TOMSN7L3dery.008/1987/L3_eryln_n7t_19871113.txt',\n",
        "        [   'http://acdisc.gsfc.nasa.gov/opendap/hyrax//Nimbus7_TOMS_Level3/TOMSN7L3dery.008/1987/L3_eryln_n7t_19871113.txt'],\n",
        "        '/opendap/hyrax/Nimbus7_TOMS_Level3/TOMSN7L3dery.008/1987/'),\n",
        "    (   '/opendap/hyrax/Nimbus7_TOMS_Level3/TOMSN7L3dery.008/1987/L3_eryln_n7t_19871114.txt',\n",
        "        [   'http://acdisc.gsfc.nasa.gov/opendap/hyrax//Nimbus7_TOMS_Level3/TOMSN7L3dery.008/1987/L3_eryln_n7t_19871114.txt'],\n",
        "        '/opendap/hyrax/Nimbus7_TOMS_Level3/TOMSN7L3dery.008/1987/'),\n",
        "    (   '/opendap/hyrax/Nimbus7_TOMS_Level3/TOMSN7L3dery.008/1987/L3_eryln_n7t_19871115.txt',\n",
        "        [   'http://acdisc.gsfc.nasa.gov/opendap/hyrax//Nimbus7_TOMS_Level3/TOMSN7L3dery.008/1987/L3_eryln_n7t_19871115.txt'],\n",
        "        '/opendap/hyrax/Nimbus7_TOMS_Level3/TOMSN7L3dery.008/1987/'),\n",
        "    (   '/opendap/hyrax/Nimbus7_TOMS_Level3/TOMSN7L3dery.008/1987/L3_eryln_n7t_19871116.txt',\n",
        "        [   'http://acdisc.gsfc.nasa.gov/opendap/hyrax//Nimbus7_TOMS_Level3/TOMSN7L3dery.008/1987/L3_eryln_n7t_19871116.txt'],\n",
        "        '/opendap/hyrax/Nimbus7_TOMS_Level3/TOMSN7L3dery.008/1987/'),\n",
        "    (   '/opendap/hyrax/Nimbus7_TOMS_Level3/TOMSN7L3dery.008/1987/L3_eryln_n7t_19871117.txt',\n",
        "        [   'http://acdisc.gsfc.nasa.gov/opendap/hyrax//Nimbus7_TOMS_Level3/TOMSN7L3dery.008/1987/L3_eryln_n7t_19871117.txt'],\n",
        "        '/opendap/hyrax/Nimbus7_TOMS_Level3/TOMSN7L3dery.008/1987/'),\n",
        "    (   '/opendap/hyrax/Nimbus7_TOMS_Level3/TOMSN7L3dery.008/1987/L3_eryln_n7t_19871118.txt',\n",
        "        [   'http://acdisc.gsfc.nasa.gov/opendap/hyrax//Nimbus7_TOMS_Level3/TOMSN7L3dery.008/1987/L3_eryln_n7t_19871118.txt'],\n",
        "        '/opendap/hyrax/Nimbus7_TOMS_Level3/TOMSN7L3dery.008/1987/'),\n",
        "    (   '/opendap/hyrax/Nimbus7_TOMS_Level3/TOMSN7L3dery.008/1987/L3_eryln_n7t_19871119.txt',\n",
        "        [   'http://acdisc.gsfc.nasa.gov/opendap/hyrax//Nimbus7_TOMS_Level3/TOMSN7L3dery.008/1987/L3_eryln_n7t_19871119.txt'],\n",
        "        '/opendap/hyrax/Nimbus7_TOMS_Level3/TOMSN7L3dery.008/1987/'),\n",
        "    (   '/opendap/hyrax/Nimbus7_TOMS_Level3/TOMSN7L3dery.008/1987/L3_eryln_n7t_19871120.txt',\n",
        "        [   'http://acdisc.gsfc.nasa.gov/opendap/hyrax//Nimbus7_TOMS_Level3/TOMSN7L3dery.008/1987/L3_eryln_n7t_19871120.txt'],\n",
        "        '/opendap/hyrax/Nimbus7_TOMS_Level3/TOMSN7L3dery.008/1987/'),\n",
        "    (   '/opendap/hyrax/Nimbus7_TOMS_Level3/TOMSN7L3dery.008/1987/L3_eryln_n7t_19871121.txt',\n",
        "        [   'http://acdisc.gsfc.nasa.gov/opendap/hyrax//Nimbus7_TOMS_Level3/TOMSN7L3dery.008/1987/L3_eryln_n7t_19871121.txt'],\n",
        "        '/opendap/hyrax/Nimbus7_TOMS_Level3/TOMSN7L3dery.008/1987/'),\n",
        "    (   '/opendap/hyrax/Nimbus7_TOMS_Level3/TOMSN7L3dery.008/1987/L3_eryln_n7t_19871122.txt',\n",
        "        [   'http://acdisc.gsfc.nasa.gov/opendap/hyrax//Nimbus7_TOMS_Level3/TOMSN7L3dery.008/1987/L3_eryln_n7t_19871122.txt'],\n",
        "        '/opendap/hyrax/Nimbus7_TOMS_Level3/TOMSN7L3dery.008/1987/'),\n",
        "    (   '/opendap/hyrax/Nimbus7_TOMS_Level3/TOMSN7L3dery.008/1987/L3_eryln_n7t_19871124.txt',\n",
        "        [   'http://acdisc.gsfc.nasa.gov/opendap/hyrax//Nimbus7_TOMS_Level3/TOMSN7L3dery.008/1987/L3_eryln_n7t_19871124.txt'],\n",
        "        '/opendap/hyrax/Nimbus7_TOMS_Level3/TOMSN7L3dery.008/1987/'),\n",
        "    (   '/opendap/hyrax/Nimbus7_TOMS_Level3/TOMSN7L3dery.008/1987/L3_eryln_n7t_19871125.txt',\n",
        "        [   'http://acdisc.gsfc.nasa.gov/opendap/hyrax//Nimbus7_TOMS_Level3/TOMSN7L3dery.008/1987/L3_eryln_n7t_19871125.txt'],\n",
        "        '/opendap/hyrax/Nimbus7_TOMS_Level3/TOMSN7L3dery.008/1987/'),\n",
        "    (   '/opendap/hyrax/Nimbus7_TOMS_Level3/TOMSN7L3dery.008/1987/L3_eryln_n7t_19871126.txt',\n",
        "        [   'http://acdisc.gsfc.nasa.gov/opendap/hyrax//Nimbus7_TOMS_Level3/TOMSN7L3dery.008/1987/L3_eryln_n7t_19871126.txt'],\n",
        "        '/opendap/hyrax/Nimbus7_TOMS_Level3/TOMSN7L3dery.008/1987/'),\n",
        "    (   '/opendap/hyrax/Nimbus7_TOMS_Level3/TOMSN7L3dery.008/1987/L3_eryln_n7t_19871127.txt',\n",
        "        [   'http://acdisc.gsfc.nasa.gov/opendap/hyrax//Nimbus7_TOMS_Level3/TOMSN7L3dery.008/1987/L3_eryln_n7t_19871127.txt'],\n",
        "        '/opendap/hyrax/Nimbus7_TOMS_Level3/TOMSN7L3dery.008/1987/'),\n",
        "    (   '/opendap/hyrax/Nimbus7_TOMS_Level3/TOMSN7L3dery.008/1987/L3_eryln_n7t_19871128.txt',\n",
        "        [   'http://acdisc.gsfc.nasa.gov/opendap/hyrax//Nimbus7_TOMS_Level3/TOMSN7L3dery.008/1987/L3_eryln_n7t_19871128.txt'],\n",
        "        '/opendap/hyrax/Nimbus7_TOMS_Level3/TOMSN7L3dery.008/1987/'),\n",
        "    (   '/opendap/hyrax/Nimbus7_TOMS_Level3/TOMSN7L3dery.008/1987/L3_eryln_n7t_19871129.txt',\n",
        "        [   'http://acdisc.gsfc.nasa.gov/opendap/hyrax//Nimbus7_TOMS_Level3/TOMSN7L3dery.008/1987/L3_eryln_n7t_19871129.txt'],\n",
        "        '/opendap/hyrax/Nimbus7_TOMS_Level3/TOMSN7L3dery.008/1987/'),\n",
        "    (   '/opendap/hyrax/Nimbus7_TOMS_Level3/TOMSN7L3dery.008/1987/L3_eryln_n7t_19871130.txt',\n",
        "        [   'http://acdisc.gsfc.nasa.gov/opendap/hyrax//Nimbus7_TOMS_Level3/TOMSN7L3dery.008/1987/L3_eryln_n7t_19871130.txt'],\n",
        "        '/opendap/hyrax/Nimbus7_TOMS_Level3/TOMSN7L3dery.008/1987/'),\n",
        "    (   '/opendap/hyrax/Nimbus7_TOMS_Level3/TOMSN7L3dery.008/1987/L3_eryln_n7t_19871201.txt',\n",
        "        [   'http://acdisc.gsfc.nasa.gov/opendap/hyrax//Nimbus7_TOMS_Level3/TOMSN7L3dery.008/1987/L3_eryln_n7t_19871201.txt'],\n",
        "        '/opendap/hyrax/Nimbus7_TOMS_Level3/TOMSN7L3dery.008/1987/'),\n",
        "    (   '/opendap/hyrax/Nimbus7_TOMS_Level3/TOMSN7L3dery.008/1987/L3_eryln_n7t_19871202.txt',\n",
        "        [   'http://acdisc.gsfc.nasa.gov/opendap/hyrax//Nimbus7_TOMS_Level3/TOMSN7L3dery.008/1987/L3_eryln_n7t_19871202.txt'],\n",
        "        '/opendap/hyrax/Nimbus7_TOMS_Level3/TOMSN7L3dery.008/1987/'),\n",
        "    (   '/opendap/hyrax/Nimbus7_TOMS_Level3/TOMSN7L3dery.008/1987/L3_eryln_n7t_19871203.txt',\n",
        "        [   'http://acdisc.gsfc.nasa.gov/opendap/hyrax//Nimbus7_TOMS_Level3/TOMSN7L3dery.008/1987/L3_eryln_n7t_19871203.txt'],\n",
        "        '/opendap/hyrax/Nimbus7_TOMS_Level3/TOMSN7L3dery.008/1987/'),\n",
        "    (   '/opendap/hyrax/Nimbus7_TOMS_Level3/TOMSN7L3dery.008/1987/L3_eryln_n7t_19871204.txt',\n",
        "        [   'http://acdisc.gsfc.nasa.gov/opendap/hyrax//Nimbus7_TOMS_Level3/TOMSN7L3dery.008/1987/L3_eryln_n7t_19871204.txt'],\n",
        "        '/opendap/hyrax/Nimbus7_TOMS_Level3/TOMSN7L3dery.008/1987/'),\n",
        "    (   '/opendap/hyrax/Nimbus7_TOMS_Level3/TOMSN7L3dery.008/1987/L3_eryln_n7t_19871205.txt',\n",
        "        [   'http://acdisc.gsfc.nasa.gov/opendap/hyrax//Nimbus7_TOMS_Level3/TOMSN7L3dery.008/1987/L3_eryln_n7t_19871205.txt'],\n",
        "        '/opendap/hyrax/Nimbus7_TOMS_Level3/TOMSN7L3dery.008/1987/'),\n",
        "    (   '/opendap/hyrax/Nimbus7_TOMS_Level3/TOMSN7L3dery.008/1987/L3_eryln_n7t_19871206.txt',\n",
        "        [   'http://acdisc.gsfc.nasa.gov/opendap/hyrax//Nimbus7_TOMS_Level3/TOMSN7L3dery.008/1987/L3_eryln_n7t_19871206.txt'],\n",
        "        '/opendap/hyrax/Nimbus7_TOMS_Level3/TOMSN7L3dery.008/1987/'),\n",
        "    (   '/opendap/hyrax/Nimbus7_TOMS_Level3/TOMSN7L3dery.008/1987/L3_eryln_n7t_19871207.txt',\n",
        "        [   'http://acdisc.gsfc.nasa.gov/opendap/hyrax//Nimbus7_TOMS_Level3/TOMSN7L3dery.008/1987/L3_eryln_n7t_19871207.txt'],\n",
        "        '/opendap/hyrax/Nimbus7_TOMS_Level3/TOMSN7L3dery.008/1987/'),\n",
        "    (   '/opendap/hyrax/Nimbus7_TOMS_Level3/TOMSN7L3dery.008/1987/L3_eryln_n7t_19871208.txt',\n",
        "        [   'http://acdisc.gsfc.nasa.gov/opendap/hyrax//Nimbus7_TOMS_Level3/TOMSN7L3dery.008/1987/L3_eryln_n7t_19871208.txt'],\n",
        "        '/opendap/hyrax/Nimbus7_TOMS_Level3/TOMSN7L3dery.008/1987/'),\n",
        "    (   '/opendap/hyrax/Nimbus7_TOMS_Level3/TOMSN7L3dery.008/1987/L3_eryln_n7t_19871209.txt',\n",
        "        [   'http://acdisc.gsfc.nasa.gov/opendap/hyrax//Nimbus7_TOMS_Level3/TOMSN7L3dery.008/1987/L3_eryln_n7t_19871209.txt'],\n",
        "        '/opendap/hyrax/Nimbus7_TOMS_Level3/TOMSN7L3dery.008/1987/'),\n",
        "    (   '/opendap/hyrax/Nimbus7_TOMS_Level3/TOMSN7L3dery.008/1987/L3_eryln_n7t_19871210.txt',\n",
        "        [   'http://acdisc.gsfc.nasa.gov/opendap/hyrax//Nimbus7_TOMS_Level3/TOMSN7L3dery.008/1987/L3_eryln_n7t_19871210.txt'],\n",
        "        '/opendap/hyrax/Nimbus7_TOMS_Level3/TOMSN7L3dery.008/1987/'),\n",
        "    (   '/opendap/hyrax/Nimbus7_TOMS_Level3/TOMSN7L3dery.008/1987/L3_eryln_n7t_19871211.txt',\n",
        "        [   'http://acdisc.gsfc.nasa.gov/opendap/hyrax//Nimbus7_TOMS_Level3/TOMSN7L3dery.008/1987/L3_eryln_n7t_19871211.txt'],\n",
        "        '/opendap/hyrax/Nimbus7_TOMS_Level3/TOMSN7L3dery.008/1987/'),\n",
        "    (   '/opendap/hyrax/Nimbus7_TOMS_Level3/TOMSN7L3dery.008/1987/L3_eryln_n7t_19871212.txt',\n",
        "        [   'http://acdisc.gsfc.nasa.gov/opendap/hyrax//Nimbus7_TOMS_Level3/TOMSN7L3dery.008/1987/L3_eryln_n7t_19871212.txt'],\n",
        "        '/opendap/hyrax/Nimbus7_TOMS_Level3/TOMSN7L3dery.008/1987/'),\n",
        "    (   '/opendap/hyrax/Nimbus7_TOMS_Level3/TOMSN7L3dery.008/1987/L3_eryln_n7t_19871213.txt',\n",
        "        [   'http://acdisc.gsfc.nasa.gov/opendap/hyrax//Nimbus7_TOMS_Level3/TOMSN7L3dery.008/1987/L3_eryln_n7t_19871213.txt'],\n",
        "        '/opendap/hyrax/Nimbus7_TOMS_Level3/TOMSN7L3dery.008/1987/'),\n",
        "    (   '/opendap/hyrax/Nimbus7_TOMS_Level3/TOMSN7L3dery.008/1987/L3_eryln_n7t_19871214.txt',\n",
        "        [   'http://acdisc.gsfc.nasa.gov/opendap/hyrax//Nimbus7_TOMS_Level3/TOMSN7L3dery.008/1987/L3_eryln_n7t_19871214.txt'],\n",
        "        '/opendap/hyrax/Nimbus7_TOMS_Level3/TOMSN7L3dery.008/1987/'),\n",
        "    (   '/opendap/hyrax/Nimbus7_TOMS_Level3/TOMSN7L3dery.008/1987/L3_eryln_n7t_19871215.txt',\n",
        "        [   'http://acdisc.gsfc.nasa.gov/opendap/hyrax//Nimbus7_TOMS_Level3/TOMSN7L3dery.008/1987/L3_eryln_n7t_19871215.txt'],\n",
        "        '/opendap/hyrax/Nimbus7_TOMS_Level3/TOMSN7L3dery.008/1987/'),\n",
        "    (   '/opendap/hyrax/Nimbus7_TOMS_Level3/TOMSN7L3dery.008/1987/L3_eryln_n7t_19871216.txt',\n",
        "        [   'http://acdisc.gsfc.nasa.gov/opendap/hyrax//Nimbus7_TOMS_Level3/TOMSN7L3dery.008/1987/L3_eryln_n7t_19871216.txt'],\n",
        "        '/opendap/hyrax/Nimbus7_TOMS_Level3/TOMSN7L3dery.008/1987/'),\n",
        "    (   '/opendap/hyrax/Nimbus7_TOMS_Level3/TOMSN7L3dery.008/1987/L3_eryln_n7t_19871217.txt',\n",
        "        [   'http://acdisc.gsfc.nasa.gov/opendap/hyrax//Nimbus7_TOMS_Level3/TOMSN7L3dery.008/1987/L3_eryln_n7t_19871217.txt'],\n",
        "        '/opendap/hyrax/Nimbus7_TOMS_Level3/TOMSN7L3dery.008/1987/'),\n",
        "    (   '/opendap/hyrax/Nimbus7_TOMS_Level3/TOMSN7L3dery.008/1987/L3_eryln_n7t_19871218.txt',\n",
        "        [   'http://acdisc.gsfc.nasa.gov/opendap/hyrax//Nimbus7_TOMS_Level3/TOMSN7L3dery.008/1987/L3_eryln_n7t_19871218.txt'],\n",
        "        '/opendap/hyrax/Nimbus7_TOMS_Level3/TOMSN7L3dery.008/1987/'),\n",
        "    (   '/opendap/hyrax/Nimbus7_TOMS_Level3/TOMSN7L3dery.008/1987/L3_eryln_n7t_19871219.txt',\n",
        "        [   'http://acdisc.gsfc.nasa.gov/opendap/hyrax//Nimbus7_TOMS_Level3/TOMSN7L3dery.008/1987/L3_eryln_n7t_19871219.txt'],\n",
        "        '/opendap/hyrax/Nimbus7_TOMS_Level3/TOMSN7L3dery.008/1987/'),\n",
        "    (   '/opendap/hyrax/Nimbus7_TOMS_Level3/TOMSN7L3dery.008/1987/L3_eryln_n7t_19871220.txt',\n",
        "        [   'http://acdisc.gsfc.nasa.gov/opendap/hyrax//Nimbus7_TOMS_Level3/TOMSN7L3dery.008/1987/L3_eryln_n7t_19871220.txt'],\n",
        "        '/opendap/hyrax/Nimbus7_TOMS_Level3/TOMSN7L3dery.008/1987/'),\n",
        "    ("
       ]
      },
      {
       "output_type": "stream",
       "stream": "stdout",
       "text": [
        "   '/opendap/hyrax/Nimbus7_TOMS_Level3/TOMSN7L3dery.008/1987/L3_eryln_n7t_19871221.txt',\n",
        "        [   'http://acdisc.gsfc.nasa.gov/opendap/hyrax//Nimbus7_TOMS_Level3/TOMSN7L3dery.008/1987/L3_eryln_n7t_19871221.txt'],\n",
        "        '/opendap/hyrax/Nimbus7_TOMS_Level3/TOMSN7L3dery.008/1987/'),\n",
        "    (   '/opendap/hyrax/Nimbus7_TOMS_Level3/TOMSN7L3dery.008/1987/L3_eryln_n7t_19871222.txt',\n",
        "        [   'http://acdisc.gsfc.nasa.gov/opendap/hyrax//Nimbus7_TOMS_Level3/TOMSN7L3dery.008/1987/L3_eryln_n7t_19871222.txt'],\n",
        "        '/opendap/hyrax/Nimbus7_TOMS_Level3/TOMSN7L3dery.008/1987/'),\n",
        "    (   '/opendap/hyrax/Nimbus7_TOMS_Level3/TOMSN7L3dery.008/1987/L3_eryln_n7t_19871223.txt',\n",
        "        [   'http://acdisc.gsfc.nasa.gov/opendap/hyrax//Nimbus7_TOMS_Level3/TOMSN7L3dery.008/1987/L3_eryln_n7t_19871223.txt'],\n",
        "        '/opendap/hyrax/Nimbus7_TOMS_Level3/TOMSN7L3dery.008/1987/'),\n",
        "    (   '/opendap/hyrax/Nimbus7_TOMS_Level3/TOMSN7L3dery.008/1987/L3_eryln_n7t_19871224.txt',\n",
        "        [   'http://acdisc.gsfc.nasa.gov/opendap/hyrax//Nimbus7_TOMS_Level3/TOMSN7L3dery.008/1987/L3_eryln_n7t_19871224.txt'],\n",
        "        '/opendap/hyrax/Nimbus7_TOMS_Level3/TOMSN7L3dery.008/1987/'),\n",
        "    (   '/opendap/hyrax/Nimbus7_TOMS_Level3/TOMSN7L3dery.008/1987/L3_eryln_n7t_19871225.txt',\n",
        "        [   'http://acdisc.gsfc.nasa.gov/opendap/hyrax//Nimbus7_TOMS_Level3/TOMSN7L3dery.008/1987/L3_eryln_n7t_19871225.txt'],\n",
        "        '/opendap/hyrax/Nimbus7_TOMS_Level3/TOMSN7L3dery.008/1987/'),\n",
        "    (   '/opendap/hyrax/Nimbus7_TOMS_Level3/TOMSN7L3dery.008/1987/L3_eryln_n7t_19871226.txt',\n",
        "        [   'http://acdisc.gsfc.nasa.gov/opendap/hyrax//Nimbus7_TOMS_Level3/TOMSN7L3dery.008/1987/L3_eryln_n7t_19871226.txt'],\n",
        "        '/opendap/hyrax/Nimbus7_TOMS_Level3/TOMSN7L3dery.008/1987/'),\n",
        "    (   '/opendap/hyrax/Nimbus7_TOMS_Level3/TOMSN7L3dery.008/1987/L3_eryln_n7t_19871227.txt',\n",
        "        [   'http://acdisc.gsfc.nasa.gov/opendap/hyrax//Nimbus7_TOMS_Level3/TOMSN7L3dery.008/1987/L3_eryln_n7t_19871227.txt'],\n",
        "        '/opendap/hyrax/Nimbus7_TOMS_Level3/TOMSN7L3dery.008/1987/'),\n",
        "    (   '/opendap/hyrax/Nimbus7_TOMS_Level3/TOMSN7L3dery.008/1987/L3_eryln_n7t_19871228.txt',\n",
        "        [   'http://acdisc.gsfc.nasa.gov/opendap/hyrax//Nimbus7_TOMS_Level3/TOMSN7L3dery.008/1987/L3_eryln_n7t_19871228.txt'],\n",
        "        '/opendap/hyrax/Nimbus7_TOMS_Level3/TOMSN7L3dery.008/1987/'),\n",
        "    (   '/opendap/hyrax/Nimbus7_TOMS_Level3/TOMSN7L3dery.008/1987/L3_eryln_n7t_19871229.txt',\n",
        "        [   'http://acdisc.gsfc.nasa.gov/opendap/hyrax//Nimbus7_TOMS_Level3/TOMSN7L3dery.008/1987/L3_eryln_n7t_19871229.txt'],\n",
        "        '/opendap/hyrax/Nimbus7_TOMS_Level3/TOMSN7L3dery.008/1987/'),\n",
        "    (   '/opendap/hyrax/Nimbus7_TOMS_Level3/TOMSN7L3dery.008/1987/L3_eryln_n7t_19871230.txt',\n",
        "        [   'http://acdisc.gsfc.nasa.gov/opendap/hyrax//Nimbus7_TOMS_Level3/TOMSN7L3dery.008/1987/L3_eryln_n7t_19871230.txt'],\n",
        "        '/opendap/hyrax/Nimbus7_TOMS_Level3/TOMSN7L3dery.008/1987/'),\n",
        "    (   '/opendap/hyrax/Nimbus7_TOMS_Level3/TOMSN7L3dery.008/1987/L3_eryln_n7t_19871231.txt',\n",
        "        [   'http://acdisc.gsfc.nasa.gov/opendap/hyrax//Nimbus7_TOMS_Level3/TOMSN7L3dery.008/1987/L3_eryln_n7t_19871231.txt'],\n",
        "        '/opendap/hyrax/Nimbus7_TOMS_Level3/TOMSN7L3dery.008/1987/'),\n",
        "    (   'http://acdisc.gsfc.nasa.gov/opendap/Nimbus7_TOMS_Level3/TOMSN7L3dery.008/1987/catalog.xml',\n",
        "        [   'http://acdisc.gsfc.nasa.gov/opendap/Nimbus7_TOMS_Level3/TOMSN7L3dery.008/catalog.xml'],\n",
        "        'http://acdisc.gsfc.nasa.gov/opendap/Nimbus7_TOMS_Level3/TOMSN7L3dery.008/catalog.xml')]\n",
        "("
       ]
      },
      {
       "output_type": "stream",
       "stream": "stdout",
       "text": [
        "   '/opendap/hyrax/Nimbus7_TOMS_Level3/TOMSN7L3dery.008/1987/L3_eryln_n7t_19870101.txt',\n",
        "    'http://acdisc.gsfc.nasa.gov/opendap/hyrax//Nimbus7_TOMS_Level3/TOMSN7L3dery.008/1987/L3_eryln_n7t_19870101.txt',\n",
        "    True)\n",
        "("
       ]
      },
      {
       "output_type": "stream",
       "stream": "stdout",
       "text": [
        "   '/opendap/hyrax/Nimbus7_TOMS_Level3/TOMSN7L3dery.008/1987/L3_eryln_n7t_19870102.txt',\n",
        "    'http://acdisc.gsfc.nasa.gov/opendap/hyrax//Nimbus7_TOMS_Level3/TOMSN7L3dery.008/1987/L3_eryln_n7t_19870102.txt',\n",
        "    True)\n",
        "("
       ]
      },
      {
       "output_type": "stream",
       "stream": "stdout",
       "text": [
        "   '/opendap/hyrax/Nimbus7_TOMS_Level3/TOMSN7L3dery.008/1987/L3_eryln_n7t_19870103.txt',\n",
        "    'http://acdisc.gsfc.nasa.gov/opendap/hyrax//Nimbus7_TOMS_Level3/TOMSN7L3dery.008/1987/L3_eryln_n7t_19870103.txt',\n",
        "    True)\n",
        "("
       ]
      },
      {
       "output_type": "stream",
       "stream": "stdout",
       "text": [
        "   '/opendap/hyrax/Nimbus7_TOMS_Level3/TOMSN7L3dery.008/1987/L3_eryln_n7t_19870104.txt',\n",
        "    'http://acdisc.gsfc.nasa.gov/opendap/hyrax//Nimbus7_TOMS_Level3/TOMSN7L3dery.008/1987/L3_eryln_n7t_19870104.txt',\n",
        "    True)\n",
        "("
       ]
      },
      {
       "output_type": "stream",
       "stream": "stdout",
       "text": [
        "   '/opendap/hyrax/Nimbus7_TOMS_Level3/TOMSN7L3dery.008/1987/L3_eryln_n7t_19870105.txt',\n",
        "    'http://acdisc.gsfc.nasa.gov/opendap/hyrax//Nimbus7_TOMS_Level3/TOMSN7L3dery.008/1987/L3_eryln_n7t_19870105.txt',\n",
        "    True)\n",
        "("
       ]
      },
      {
       "output_type": "stream",
       "stream": "stdout",
       "text": [
        "   '/opendap/hyrax/Nimbus7_TOMS_Level3/TOMSN7L3dery.008/1987/L3_eryln_n7t_19870106.txt',\n",
        "    'http://acdisc.gsfc.nasa.gov/opendap/hyrax//Nimbus7_TOMS_Level3/TOMSN7L3dery.008/1987/L3_eryln_n7t_19870106.txt',\n",
        "    True)\n",
        "("
       ]
      },
      {
       "output_type": "stream",
       "stream": "stdout",
       "text": [
        "   '/opendap/hyrax/Nimbus7_TOMS_Level3/TOMSN7L3dery.008/1987/L3_eryln_n7t_19870107.txt',\n",
        "    'http://acdisc.gsfc.nasa.gov/opendap/hyrax//Nimbus7_TOMS_Level3/TOMSN7L3dery.008/1987/L3_eryln_n7t_19870107.txt',\n",
        "    True)\n",
        "("
       ]
      },
      {
       "output_type": "stream",
       "stream": "stdout",
       "text": [
        "   '/opendap/hyrax/Nimbus7_TOMS_Level3/TOMSN7L3dery.008/1987/L3_eryln_n7t_19870108.txt',\n",
        "    'http://acdisc.gsfc.nasa.gov/opendap/hyrax//Nimbus7_TOMS_Level3/TOMSN7L3dery.008/1987/L3_eryln_n7t_19870108.txt',\n",
        "    True)\n",
        "("
       ]
      },
      {
       "output_type": "stream",
       "stream": "stdout",
       "text": [
        "   '/opendap/hyrax/Nimbus7_TOMS_Level3/TOMSN7L3dery.008/1987/L3_eryln_n7t_19870109.txt',\n",
        "    'http://acdisc.gsfc.nasa.gov/opendap/hyrax//Nimbus7_TOMS_Level3/TOMSN7L3dery.008/1987/L3_eryln_n7t_19870109.txt',\n",
        "    True)\n",
        "("
       ]
      },
      {
       "output_type": "stream",
       "stream": "stdout",
       "text": [
        "   '/opendap/hyrax/Nimbus7_TOMS_Level3/TOMSN7L3dery.008/1987/L3_eryln_n7t_19870110.txt',\n",
        "    'http://acdisc.gsfc.nasa.gov/opendap/hyrax//Nimbus7_TOMS_Level3/TOMSN7L3dery.008/1987/L3_eryln_n7t_19870110.txt',\n",
        "    True)\n",
        "("
       ]
      },
      {
       "output_type": "stream",
       "stream": "stdout",
       "text": [
        "   '/opendap/hyrax/Nimbus7_TOMS_Level3/TOMSN7L3dery.008/1987/L3_eryln_n7t_19870111.txt',\n",
        "    'http://acdisc.gsfc.nasa.gov/opendap/hyrax//Nimbus7_TOMS_Level3/TOMSN7L3dery.008/1987/L3_eryln_n7t_19870111.txt',\n",
        "    True)\n",
        "("
       ]
      },
      {
       "output_type": "stream",
       "stream": "stdout",
       "text": [
        "   '/opendap/hyrax/Nimbus7_TOMS_Level3/TOMSN7L3dery.008/1987/L3_eryln_n7t_19870112.txt',\n",
        "    'http://acdisc.gsfc.nasa.gov/opendap/hyrax//Nimbus7_TOMS_Level3/TOMSN7L3dery.008/1987/L3_eryln_n7t_19870112.txt',\n",
        "    True)\n",
        "("
       ]
      },
      {
       "output_type": "stream",
       "stream": "stdout",
       "text": [
        "   '/opendap/hyrax/Nimbus7_TOMS_Level3/TOMSN7L3dery.008/1987/L3_eryln_n7t_19870113.txt',\n",
        "    'http://acdisc.gsfc.nasa.gov/opendap/hyrax//Nimbus7_TOMS_Level3/TOMSN7L3dery.008/1987/L3_eryln_n7t_19870113.txt',\n",
        "    True)\n",
        "("
       ]
      },
      {
       "output_type": "stream",
       "stream": "stdout",
       "text": [
        "   '/opendap/hyrax/Nimbus7_TOMS_Level3/TOMSN7L3dery.008/1987/L3_eryln_n7t_19870114.txt',\n",
        "    'http://acdisc.gsfc.nasa.gov/opendap/hyrax//Nimbus7_TOMS_Level3/TOMSN7L3dery.008/1987/L3_eryln_n7t_19870114.txt',\n",
        "    True)\n",
        "("
       ]
      },
      {
       "output_type": "stream",
       "stream": "stdout",
       "text": [
        "   '/opendap/hyrax/Nimbus7_TOMS_Level3/TOMSN7L3dery.008/1987/L3_eryln_n7t_19870115.txt',\n",
        "    'http://acdisc.gsfc.nasa.gov/opendap/hyrax//Nimbus7_TOMS_Level3/TOMSN7L3dery.008/1987/L3_eryln_n7t_19870115.txt',\n",
        "    True)\n",
        "("
       ]
      },
      {
       "output_type": "stream",
       "stream": "stdout",
       "text": [
        "   '/opendap/hyrax/Nimbus7_TOMS_Level3/TOMSN7L3dery.008/1987/L3_eryln_n7t_19870116.txt',\n",
        "    'http://acdisc.gsfc.nasa.gov/opendap/hyrax//Nimbus7_TOMS_Level3/TOMSN7L3dery.008/1987/L3_eryln_n7t_19870116.txt',\n",
        "    True)\n",
        "("
       ]
      },
      {
       "output_type": "stream",
       "stream": "stdout",
       "text": [
        "   '/opendap/hyrax/Nimbus7_TOMS_Level3/TOMSN7L3dery.008/1987/L3_eryln_n7t_19870117.txt',\n",
        "    'http://acdisc.gsfc.nasa.gov/opendap/hyrax//Nimbus7_TOMS_Level3/TOMSN7L3dery.008/1987/L3_eryln_n7t_19870117.txt',\n",
        "    True)\n",
        "("
       ]
      },
      {
       "output_type": "stream",
       "stream": "stdout",
       "text": [
        "   '/opendap/hyrax/Nimbus7_TOMS_Level3/TOMSN7L3dery.008/1987/L3_eryln_n7t_19870118.txt',\n",
        "    'http://acdisc.gsfc.nasa.gov/opendap/hyrax//Nimbus7_TOMS_Level3/TOMSN7L3dery.008/1987/L3_eryln_n7t_19870118.txt',\n",
        "    True)\n",
        "("
       ]
      },
      {
       "output_type": "stream",
       "stream": "stdout",
       "text": [
        "   '/opendap/hyrax/Nimbus7_TOMS_Level3/TOMSN7L3dery.008/1987/L3_eryln_n7t_19870119.txt',\n",
        "    'http://acdisc.gsfc.nasa.gov/opendap/hyrax//Nimbus7_TOMS_Level3/TOMSN7L3dery.008/1987/L3_eryln_n7t_19870119.txt',\n",
        "    True)\n",
        "("
       ]
      },
      {
       "output_type": "stream",
       "stream": "stdout",
       "text": [
        "   '/opendap/hyrax/Nimbus7_TOMS_Level3/TOMSN7L3dery.008/1987/L3_eryln_n7t_19870120.txt',\n",
        "    'http://acdisc.gsfc.nasa.gov/opendap/hyrax//Nimbus7_TOMS_Level3/TOMSN7L3dery.008/1987/L3_eryln_n7t_19870120.txt',\n",
        "    True)\n",
        "("
       ]
      },
      {
       "output_type": "stream",
       "stream": "stdout",
       "text": [
        "   '/opendap/hyrax/Nimbus7_TOMS_Level3/TOMSN7L3dery.008/1987/L3_eryln_n7t_19870121.txt',\n",
        "    'http://acdisc.gsfc.nasa.gov/opendap/hyrax//Nimbus7_TOMS_Level3/TOMSN7L3dery.008/1987/L3_eryln_n7t_19870121.txt',\n",
        "    True)\n",
        "("
       ]
      },
      {
       "output_type": "stream",
       "stream": "stdout",
       "text": [
        "   '/opendap/hyrax/Nimbus7_TOMS_Level3/TOMSN7L3dery.008/1987/L3_eryln_n7t_19870122.txt',\n",
        "    'http://acdisc.gsfc.nasa.gov/opendap/hyrax//Nimbus7_TOMS_Level3/TOMSN7L3dery.008/1987/L3_eryln_n7t_19870122.txt',\n",
        "    True)\n",
        "("
       ]
      },
      {
       "output_type": "stream",
       "stream": "stdout",
       "text": [
        "   '/opendap/hyrax/Nimbus7_TOMS_Level3/TOMSN7L3dery.008/1987/L3_eryln_n7t_19870123.txt',\n",
        "    'http://acdisc.gsfc.nasa.gov/opendap/hyrax//Nimbus7_TOMS_Level3/TOMSN7L3dery.008/1987/L3_eryln_n7t_19870123.txt',\n",
        "    True)\n",
        "("
       ]
      },
      {
       "output_type": "stream",
       "stream": "stdout",
       "text": [
        "   '/opendap/hyrax/Nimbus7_TOMS_Level3/TOMSN7L3dery.008/1987/L3_eryln_n7t_19870124.txt',\n",
        "    'http://acdisc.gsfc.nasa.gov/opendap/hyrax//Nimbus7_TOMS_Level3/TOMSN7L3dery.008/1987/L3_eryln_n7t_19870124.txt',\n",
        "    True)\n",
        "("
       ]
      },
      {
       "output_type": "stream",
       "stream": "stdout",
       "text": [
        "   '/opendap/hyrax/Nimbus7_TOMS_Level3/TOMSN7L3dery.008/1987/L3_eryln_n7t_19870125.txt',\n",
        "    'http://acdisc.gsfc.nasa.gov/opendap/hyrax//Nimbus7_TOMS_Level3/TOMSN7L3dery.008/1987/L3_eryln_n7t_19870125.txt',\n",
        "    True)\n",
        "("
       ]
      },
      {
       "output_type": "stream",
       "stream": "stdout",
       "text": [
        "   '/opendap/hyrax/Nimbus7_TOMS_Level3/TOMSN7L3dery.008/1987/L3_eryln_n7t_19870126.txt',\n",
        "    'http://acdisc.gsfc.nasa.gov/opendap/hyrax//Nimbus7_TOMS_Level3/TOMSN7L3dery.008/1987/L3_eryln_n7t_19870126.txt',\n",
        "    True)\n",
        "("
       ]
      },
      {
       "output_type": "stream",
       "stream": "stdout",
       "text": [
        "   '/opendap/hyrax/Nimbus7_TOMS_Level3/TOMSN7L3dery.008/1987/L3_eryln_n7t_19870127.txt',\n",
        "    'http://acdisc.gsfc.nasa.gov/opendap/hyrax//Nimbus7_TOMS_Level3/TOMSN7L3dery.008/1987/L3_eryln_n7t_19870127.txt',\n",
        "    True)\n",
        "("
       ]
      },
      {
       "output_type": "stream",
       "stream": "stdout",
       "text": [
        "   '/opendap/hyrax/Nimbus7_TOMS_Level3/TOMSN7L3dery.008/1987/L3_eryln_n7t_19870128.txt',\n",
        "    'http://acdisc.gsfc.nasa.gov/opendap/hyrax//Nimbus7_TOMS_Level3/TOMSN7L3dery.008/1987/L3_eryln_n7t_19870128.txt',\n",
        "    True)\n",
        "("
       ]
      },
      {
       "output_type": "stream",
       "stream": "stdout",
       "text": [
        "   '/opendap/hyrax/Nimbus7_TOMS_Level3/TOMSN7L3dery.008/1987/L3_eryln_n7t_19870129.txt',\n",
        "    'http://acdisc.gsfc.nasa.gov/opendap/hyrax//Nimbus7_TOMS_Level3/TOMSN7L3dery.008/1987/L3_eryln_n7t_19870129.txt',\n",
        "    True)\n",
        "("
       ]
      },
      {
       "output_type": "stream",
       "stream": "stdout",
       "text": [
        "   '/opendap/hyrax/Nimbus7_TOMS_Level3/TOMSN7L3dery.008/1987/L3_eryln_n7t_19870130.txt',\n",
        "    'http://acdisc.gsfc.nasa.gov/opendap/hyrax//Nimbus7_TOMS_Level3/TOMSN7L3dery.008/1987/L3_eryln_n7t_19870130.txt',\n",
        "    True)\n",
        "("
       ]
      },
      {
       "output_type": "stream",
       "stream": "stdout",
       "text": [
        "   '/opendap/hyrax/Nimbus7_TOMS_Level3/TOMSN7L3dery.008/1987/L3_eryln_n7t_19870131.txt',\n",
        "    'http://acdisc.gsfc.nasa.gov/opendap/hyrax//Nimbus7_TOMS_Level3/TOMSN7L3dery.008/1987/L3_eryln_n7t_19870131.txt',\n",
        "    True)\n",
        "("
       ]
      },
      {
       "output_type": "stream",
       "stream": "stdout",
       "text": [
        "   '/opendap/hyrax/Nimbus7_TOMS_Level3/TOMSN7L3dery.008/1987/L3_eryln_n7t_19870201.txt',\n",
        "    'http://acdisc.gsfc.nasa.gov/opendap/hyrax//Nimbus7_TOMS_Level3/TOMSN7L3dery.008/1987/L3_eryln_n7t_19870201.txt',\n",
        "    True)\n",
        "("
       ]
      },
      {
       "output_type": "stream",
       "stream": "stdout",
       "text": [
        "   '/opendap/hyrax/Nimbus7_TOMS_Level3/TOMSN7L3dery.008/1987/L3_eryln_n7t_19870202.txt',\n",
        "    'http://acdisc.gsfc.nasa.gov/opendap/hyrax//Nimbus7_TOMS_Level3/TOMSN7L3dery.008/1987/L3_eryln_n7t_19870202.txt',\n",
        "    True)\n",
        "("
       ]
      },
      {
       "output_type": "stream",
       "stream": "stdout",
       "text": [
        "   '/opendap/hyrax/Nimbus7_TOMS_Level3/TOMSN7L3dery.008/1987/L3_eryln_n7t_19870203.txt',\n",
        "    'http://acdisc.gsfc.nasa.gov/opendap/hyrax//Nimbus7_TOMS_Level3/TOMSN7L3dery.008/1987/L3_eryln_n7t_19870203.txt',\n",
        "    True)\n",
        "("
       ]
      },
      {
       "output_type": "stream",
       "stream": "stdout",
       "text": [
        "   '/opendap/hyrax/Nimbus7_TOMS_Level3/TOMSN7L3dery.008/1987/L3_eryln_n7t_19870204.txt',\n",
        "    'http://acdisc.gsfc.nasa.gov/opendap/hyrax//Nimbus7_TOMS_Level3/TOMSN7L3dery.008/1987/L3_eryln_n7t_19870204.txt',\n",
        "    True)\n",
        "("
       ]
      },
      {
       "output_type": "stream",
       "stream": "stdout",
       "text": [
        "   '/opendap/hyrax/Nimbus7_TOMS_Level3/TOMSN7L3dery.008/1987/L3_eryln_n7t_19870205.txt',\n",
        "    'http://acdisc.gsfc.nasa.gov/opendap/hyrax//Nimbus7_TOMS_Level3/TOMSN7L3dery.008/1987/L3_eryln_n7t_19870205.txt',\n",
        "    True)\n",
        "("
       ]
      },
      {
       "output_type": "stream",
       "stream": "stdout",
       "text": [
        "   '/opendap/hyrax/Nimbus7_TOMS_Level3/TOMSN7L3dery.008/1987/L3_eryln_n7t_19870206.txt',\n",
        "    'http://acdisc.gsfc.nasa.gov/opendap/hyrax//Nimbus7_TOMS_Level3/TOMSN7L3dery.008/1987/L3_eryln_n7t_19870206.txt',\n",
        "    True)\n",
        "("
       ]
      },
      {
       "output_type": "stream",
       "stream": "stdout",
       "text": [
        "   '/opendap/hyrax/Nimbus7_TOMS_Level3/TOMSN7L3dery.008/1987/L3_eryln_n7t_19870207.txt',\n",
        "    'http://acdisc.gsfc.nasa.gov/opendap/hyrax//Nimbus7_TOMS_Level3/TOMSN7L3dery.008/1987/L3_eryln_n7t_19870207.txt',\n",
        "    True)\n",
        "("
       ]
      },
      {
       "output_type": "stream",
       "stream": "stdout",
       "text": [
        "   '/opendap/hyrax/Nimbus7_TOMS_Level3/TOMSN7L3dery.008/1987/L3_eryln_n7t_19870208.txt',\n",
        "    'http://acdisc.gsfc.nasa.gov/opendap/hyrax//Nimbus7_TOMS_Level3/TOMSN7L3dery.008/1987/L3_eryln_n7t_19870208.txt',\n",
        "    True)\n",
        "("
       ]
      },
      {
       "output_type": "stream",
       "stream": "stdout",
       "text": [
        "   '/opendap/hyrax/Nimbus7_TOMS_Level3/TOMSN7L3dery.008/1987/L3_eryln_n7t_19870209.txt',\n",
        "    'http://acdisc.gsfc.nasa.gov/opendap/hyrax//Nimbus7_TOMS_Level3/TOMSN7L3dery.008/1987/L3_eryln_n7t_19870209.txt',\n",
        "    True)\n",
        "("
       ]
      },
      {
       "output_type": "stream",
       "stream": "stdout",
       "text": [
        "   '/opendap/hyrax/Nimbus7_TOMS_Level3/TOMSN7L3dery.008/1987/L3_eryln_n7t_19870210.txt',\n",
        "    'http://acdisc.gsfc.nasa.gov/opendap/hyrax//Nimbus7_TOMS_Level3/TOMSN7L3dery.008/1987/L3_eryln_n7t_19870210.txt',\n",
        "    True)\n",
        "("
       ]
      },
      {
       "output_type": "stream",
       "stream": "stdout",
       "text": [
        "   '/opendap/hyrax/Nimbus7_TOMS_Level3/TOMSN7L3dery.008/1987/L3_eryln_n7t_19870211.txt',\n",
        "    'http://acdisc.gsfc.nasa.gov/opendap/hyrax//Nimbus7_TOMS_Level3/TOMSN7L3dery.008/1987/L3_eryln_n7t_19870211.txt',\n",
        "    True)\n",
        "("
       ]
      },
      {
       "output_type": "stream",
       "stream": "stdout",
       "text": [
        "   '/opendap/hyrax/Nimbus7_TOMS_Level3/TOMSN7L3dery.008/1987/L3_eryln_n7t_19870212.txt',\n",
        "    'http://acdisc.gsfc.nasa.gov/opendap/hyrax//Nimbus7_TOMS_Level3/TOMSN7L3dery.008/1987/L3_eryln_n7t_19870212.txt',\n",
        "    True)\n",
        "("
       ]
      },
      {
       "output_type": "stream",
       "stream": "stdout",
       "text": [
        "   '/opendap/hyrax/Nimbus7_TOMS_Level3/TOMSN7L3dery.008/1987/L3_eryln_n7t_19870213.txt',\n",
        "    'http://acdisc.gsfc.nasa.gov/opendap/hyrax//Nimbus7_TOMS_Level3/TOMSN7L3dery.008/1987/L3_eryln_n7t_19870213.txt',\n",
        "    True)\n",
        "("
       ]
      },
      {
       "output_type": "stream",
       "stream": "stdout",
       "text": [
        "   '/opendap/hyrax/Nimbus7_TOMS_Level3/TOMSN7L3dery.008/1987/L3_eryln_n7t_19870214.txt',\n",
        "    'http://acdisc.gsfc.nasa.gov/opendap/hyrax//Nimbus7_TOMS_Level3/TOMSN7L3dery.008/1987/L3_eryln_n7t_19870214.txt',\n",
        "    True)\n",
        "("
       ]
      },
      {
       "output_type": "stream",
       "stream": "stdout",
       "text": [
        "   '/opendap/hyrax/Nimbus7_TOMS_Level3/TOMSN7L3dery.008/1987/L3_eryln_n7t_19870215.txt',\n",
        "    'http://acdisc.gsfc.nasa.gov/opendap/hyrax//Nimbus7_TOMS_Level3/TOMSN7L3dery.008/1987/L3_eryln_n7t_19870215.txt',\n",
        "    True)\n",
        "("
       ]
      },
      {
       "output_type": "stream",
       "stream": "stdout",
       "text": [
        "   '/opendap/hyrax/Nimbus7_TOMS_Level3/TOMSN7L3dery.008/1987/L3_eryln_n7t_19870216.txt',\n",
        "    'http://acdisc.gsfc.nasa.gov/opendap/hyrax//Nimbus7_TOMS_Level3/TOMSN7L3dery.008/1987/L3_eryln_n7t_19870216.txt',\n",
        "    True)\n",
        "("
       ]
      },
      {
       "output_type": "stream",
       "stream": "stdout",
       "text": [
        "   '/opendap/hyrax/Nimbus7_TOMS_Level3/TOMSN7L3dery.008/1987/L3_eryln_n7t_19870217.txt',\n",
        "    'http://acdisc.gsfc.nasa.gov/opendap/hyrax//Nimbus7_TOMS_Level3/TOMSN7L3dery.008/1987/L3_eryln_n7t_19870217.txt',\n",
        "    True)\n",
        "("
       ]
      },
      {
       "output_type": "stream",
       "stream": "stdout",
       "text": [
        "   '/opendap/hyrax/Nimbus7_TOMS_Level3/TOMSN7L3dery.008/1987/L3_eryln_n7t_19870218.txt',\n",
        "    'http://acdisc.gsfc.nasa.gov/opendap/hyrax//Nimbus7_TOMS_Level3/TOMSN7L3dery.008/1987/L3_eryln_n7t_19870218.txt',\n",
        "    True)\n",
        "("
       ]
      },
      {
       "output_type": "stream",
       "stream": "stdout",
       "text": [
        "   '/opendap/hyrax/Nimbus7_TOMS_Level3/TOMSN7L3dery.008/1987/L3_eryln_n7t_19870219.txt',\n",
        "    'http://acdisc.gsfc.nasa.gov/opendap/hyrax//Nimbus7_TOMS_Level3/TOMSN7L3dery.008/1987/L3_eryln_n7t_19870219.txt',\n",
        "    True)\n",
        "("
       ]
      },
      {
       "output_type": "stream",
       "stream": "stdout",
       "text": [
        "   '/opendap/hyrax/Nimbus7_TOMS_Level3/TOMSN7L3dery.008/1987/L3_eryln_n7t_19870220.txt',\n",
        "    'http://acdisc.gsfc.nasa.gov/opendap/hyrax//Nimbus7_TOMS_Level3/TOMSN7L3dery.008/1987/L3_eryln_n7t_19870220.txt',\n",
        "    True)\n",
        "("
       ]
      },
      {
       "output_type": "stream",
       "stream": "stdout",
       "text": [
        "   '/opendap/hyrax/Nimbus7_TOMS_Level3/TOMSN7L3dery.008/1987/L3_eryln_n7t_19870221.txt',\n",
        "    'http://acdisc.gsfc.nasa.gov/opendap/hyrax//Nimbus7_TOMS_Level3/TOMSN7L3dery.008/1987/L3_eryln_n7t_19870221.txt',\n",
        "    True)\n",
        "("
       ]
      },
      {
       "output_type": "stream",
       "stream": "stdout",
       "text": [
        "   '/opendap/hyrax/Nimbus7_TOMS_Level3/TOMSN7L3dery.008/1987/L3_eryln_n7t_19870222.txt',\n",
        "    'http://acdisc.gsfc.nasa.gov/opendap/hyrax//Nimbus7_TOMS_Level3/TOMSN7L3dery.008/1987/L3_eryln_n7t_19870222.txt',\n",
        "    True)\n",
        "("
       ]
      },
      {
       "output_type": "stream",
       "stream": "stdout",
       "text": [
        "   '/opendap/hyrax/Nimbus7_TOMS_Level3/TOMSN7L3dery.008/1987/L3_eryln_n7t_19870223.txt',\n",
        "    'http://acdisc.gsfc.nasa.gov/opendap/hyrax//Nimbus7_TOMS_Level3/TOMSN7L3dery.008/1987/L3_eryln_n7t_19870223.txt',\n",
        "    True)\n",
        "("
       ]
      },
      {
       "output_type": "stream",
       "stream": "stdout",
       "text": [
        "   '/opendap/hyrax/Nimbus7_TOMS_Level3/TOMSN7L3dery.008/1987/L3_eryln_n7t_19870224.txt',\n",
        "    'http://acdisc.gsfc.nasa.gov/opendap/hyrax//Nimbus7_TOMS_Level3/TOMSN7L3dery.008/1987/L3_eryln_n7t_19870224.txt',\n",
        "    True)\n",
        "("
       ]
      },
      {
       "output_type": "stream",
       "stream": "stdout",
       "text": [
        "   '/opendap/hyrax/Nimbus7_TOMS_Level3/TOMSN7L3dery.008/1987/L3_eryln_n7t_19870225.txt',\n",
        "    'http://acdisc.gsfc.nasa.gov/opendap/hyrax//Nimbus7_TOMS_Level3/TOMSN7L3dery.008/1987/L3_eryln_n7t_19870225.txt',\n",
        "    True)\n",
        "("
       ]
      },
      {
       "output_type": "stream",
       "stream": "stdout",
       "text": [
        "   '/opendap/hyrax/Nimbus7_TOMS_Level3/TOMSN7L3dery.008/1987/L3_eryln_n7t_19870226.txt',\n",
        "    'http://acdisc.gsfc.nasa.gov/opendap/hyrax//Nimbus7_TOMS_Level3/TOMSN7L3dery.008/1987/L3_eryln_n7t_19870226.txt',\n",
        "    True)\n",
        "("
       ]
      },
      {
       "output_type": "stream",
       "stream": "stdout",
       "text": [
        "   '/opendap/hyrax/Nimbus7_TOMS_Level3/TOMSN7L3dery.008/1987/L3_eryln_n7t_19870227.txt',\n",
        "    'http://acdisc.gsfc.nasa.gov/opendap/hyrax//Nimbus7_TOMS_Level3/TOMSN7L3dery.008/1987/L3_eryln_n7t_19870227.txt',\n",
        "    True)\n",
        "("
       ]
      },
      {
       "output_type": "stream",
       "stream": "stdout",
       "text": [
        "   '/opendap/hyrax/Nimbus7_TOMS_Level3/TOMSN7L3dery.008/1987/L3_eryln_n7t_19870228.txt',\n",
        "    'http://acdisc.gsfc.nasa.gov/opendap/hyrax//Nimbus7_TOMS_Level3/TOMSN7L3dery.008/1987/L3_eryln_n7t_19870228.txt',\n",
        "    True)\n",
        "("
       ]
      },
      {
       "output_type": "stream",
       "stream": "stdout",
       "text": [
        "   '/opendap/hyrax/Nimbus7_TOMS_Level3/TOMSN7L3dery.008/1987/L3_eryln_n7t_19870301.txt',\n",
        "    'http://acdisc.gsfc.nasa.gov/opendap/hyrax//Nimbus7_TOMS_Level3/TOMSN7L3dery.008/1987/L3_eryln_n7t_19870301.txt',\n",
        "    True)\n",
        "("
       ]
      },
      {
       "output_type": "stream",
       "stream": "stdout",
       "text": [
        "   '/opendap/hyrax/Nimbus7_TOMS_Level3/TOMSN7L3dery.008/1987/L3_eryln_n7t_19870302.txt',\n",
        "    'http://acdisc.gsfc.nasa.gov/opendap/hyrax//Nimbus7_TOMS_Level3/TOMSN7L3dery.008/1987/L3_eryln_n7t_19870302.txt',\n",
        "    True)\n",
        "("
       ]
      },
      {
       "output_type": "stream",
       "stream": "stdout",
       "text": [
        "   '/opendap/hyrax/Nimbus7_TOMS_Level3/TOMSN7L3dery.008/1987/L3_eryln_n7t_19870303.txt',\n",
        "    'http://acdisc.gsfc.nasa.gov/opendap/hyrax//Nimbus7_TOMS_Level3/TOMSN7L3dery.008/1987/L3_eryln_n7t_19870303.txt',\n",
        "    True)\n",
        "("
       ]
      },
      {
       "output_type": "stream",
       "stream": "stdout",
       "text": [
        "   '/opendap/hyrax/Nimbus7_TOMS_Level3/TOMSN7L3dery.008/1987/L3_eryln_n7t_19870304.txt',\n",
        "    'http://acdisc.gsfc.nasa.gov/opendap/hyrax//Nimbus7_TOMS_Level3/TOMSN7L3dery.008/1987/L3_eryln_n7t_19870304.txt',\n",
        "    True)\n",
        "("
       ]
      },
      {
       "output_type": "stream",
       "stream": "stdout",
       "text": [
        "   '/opendap/hyrax/Nimbus7_TOMS_Level3/TOMSN7L3dery.008/1987/L3_eryln_n7t_19870305.txt',\n",
        "    'http://acdisc.gsfc.nasa.gov/opendap/hyrax//Nimbus7_TOMS_Level3/TOMSN7L3dery.008/1987/L3_eryln_n7t_19870305.txt',\n",
        "    True)\n",
        "("
       ]
      },
      {
       "output_type": "stream",
       "stream": "stdout",
       "text": [
        "   '/opendap/hyrax/Nimbus7_TOMS_Level3/TOMSN7L3dery.008/1987/L3_eryln_n7t_19870306.txt',\n",
        "    'http://acdisc.gsfc.nasa.gov/opendap/hyrax//Nimbus7_TOMS_Level3/TOMSN7L3dery.008/1987/L3_eryln_n7t_19870306.txt',\n",
        "    True)\n",
        "("
       ]
      },
      {
       "output_type": "stream",
       "stream": "stdout",
       "text": [
        "   '/opendap/hyrax/Nimbus7_TOMS_Level3/TOMSN7L3dery.008/1987/L3_eryln_n7t_19870307.txt',\n",
        "    'http://acdisc.gsfc.nasa.gov/opendap/hyrax//Nimbus7_TOMS_Level3/TOMSN7L3dery.008/1987/L3_eryln_n7t_19870307.txt',\n",
        "    True)\n",
        "("
       ]
      },
      {
       "output_type": "stream",
       "stream": "stdout",
       "text": [
        "   '/opendap/hyrax/Nimbus7_TOMS_Level3/TOMSN7L3dery.008/1987/L3_eryln_n7t_19870308.txt',\n",
        "    'http://acdisc.gsfc.nasa.gov/opendap/hyrax//Nimbus7_TOMS_Level3/TOMSN7L3dery.008/1987/L3_eryln_n7t_19870308.txt',\n",
        "    True)\n",
        "("
       ]
      },
      {
       "output_type": "stream",
       "stream": "stdout",
       "text": [
        "   '/opendap/hyrax/Nimbus7_TOMS_Level3/TOMSN7L3dery.008/1987/L3_eryln_n7t_19870309.txt',\n",
        "    'http://acdisc.gsfc.nasa.gov/opendap/hyrax//Nimbus7_TOMS_Level3/TOMSN7L3dery.008/1987/L3_eryln_n7t_19870309.txt',\n",
        "    True)\n",
        "("
       ]
      },
      {
       "output_type": "stream",
       "stream": "stdout",
       "text": [
        "   '/opendap/hyrax/Nimbus7_TOMS_Level3/TOMSN7L3dery.008/1987/L3_eryln_n7t_19870310.txt',\n",
        "    'http://acdisc.gsfc.nasa.gov/opendap/hyrax//Nimbus7_TOMS_Level3/TOMSN7L3dery.008/1987/L3_eryln_n7t_19870310.txt',\n",
        "    True)\n",
        "("
       ]
      },
      {
       "output_type": "stream",
       "stream": "stdout",
       "text": [
        "   '/opendap/hyrax/Nimbus7_TOMS_Level3/TOMSN7L3dery.008/1987/L3_eryln_n7t_19870311.txt',\n",
        "    'http://acdisc.gsfc.nasa.gov/opendap/hyrax//Nimbus7_TOMS_Level3/TOMSN7L3dery.008/1987/L3_eryln_n7t_19870311.txt',\n",
        "    True)\n",
        "("
       ]
      },
      {
       "output_type": "stream",
       "stream": "stdout",
       "text": [
        "   '/opendap/hyrax/Nimbus7_TOMS_Level3/TOMSN7L3dery.008/1987/L3_eryln_n7t_19870312.txt',\n",
        "    'http://acdisc.gsfc.nasa.gov/opendap/hyrax//Nimbus7_TOMS_Level3/TOMSN7L3dery.008/1987/L3_eryln_n7t_19870312.txt',\n",
        "    True)\n",
        "("
       ]
      },
      {
       "output_type": "stream",
       "stream": "stdout",
       "text": [
        "   '/opendap/hyrax/Nimbus7_TOMS_Level3/TOMSN7L3dery.008/1987/L3_eryln_n7t_19870313.txt',\n",
        "    'http://acdisc.gsfc.nasa.gov/opendap/hyrax//Nimbus7_TOMS_Level3/TOMSN7L3dery.008/1987/L3_eryln_n7t_19870313.txt',\n",
        "    True)\n",
        "("
       ]
      },
      {
       "output_type": "stream",
       "stream": "stdout",
       "text": [
        "   '/opendap/hyrax/Nimbus7_TOMS_Level3/TOMSN7L3dery.008/1987/L3_eryln_n7t_19870314.txt',\n",
        "    'http://acdisc.gsfc.nasa.gov/opendap/hyrax//Nimbus7_TOMS_Level3/TOMSN7L3dery.008/1987/L3_eryln_n7t_19870314.txt',\n",
        "    True)\n",
        "("
       ]
      },
      {
       "output_type": "stream",
       "stream": "stdout",
       "text": [
        "   '/opendap/hyrax/Nimbus7_TOMS_Level3/TOMSN7L3dery.008/1987/L3_eryln_n7t_19870315.txt',\n",
        "    'http://acdisc.gsfc.nasa.gov/opendap/hyrax//Nimbus7_TOMS_Level3/TOMSN7L3dery.008/1987/L3_eryln_n7t_19870315.txt',\n",
        "    True)\n",
        "("
       ]
      },
      {
       "output_type": "stream",
       "stream": "stdout",
       "text": [
        "   '/opendap/hyrax/Nimbus7_TOMS_Level3/TOMSN7L3dery.008/1987/L3_eryln_n7t_19870316.txt',\n",
        "    'http://acdisc.gsfc.nasa.gov/opendap/hyrax//Nimbus7_TOMS_Level3/TOMSN7L3dery.008/1987/L3_eryln_n7t_19870316.txt',\n",
        "    True)\n",
        "("
       ]
      },
      {
       "output_type": "stream",
       "stream": "stdout",
       "text": [
        "   '/opendap/hyrax/Nimbus7_TOMS_Level3/TOMSN7L3dery.008/1987/L3_eryln_n7t_19870317.txt',\n",
        "    'http://acdisc.gsfc.nasa.gov/opendap/hyrax//Nimbus7_TOMS_Level3/TOMSN7L3dery.008/1987/L3_eryln_n7t_19870317.txt',\n",
        "    True)\n",
        "("
       ]
      },
      {
       "output_type": "stream",
       "stream": "stdout",
       "text": [
        "   '/opendap/hyrax/Nimbus7_TOMS_Level3/TOMSN7L3dery.008/1987/L3_eryln_n7t_19870318.txt',\n",
        "    'http://acdisc.gsfc.nasa.gov/opendap/hyrax//Nimbus7_TOMS_Level3/TOMSN7L3dery.008/1987/L3_eryln_n7t_19870318.txt',\n",
        "    True)\n",
        "("
       ]
      },
      {
       "output_type": "stream",
       "stream": "stdout",
       "text": [
        "   '/opendap/hyrax/Nimbus7_TOMS_Level3/TOMSN7L3dery.008/1987/L3_eryln_n7t_19870319.txt',\n",
        "    'http://acdisc.gsfc.nasa.gov/opendap/hyrax//Nimbus7_TOMS_Level3/TOMSN7L3dery.008/1987/L3_eryln_n7t_19870319.txt',\n",
        "    True)\n",
        "("
       ]
      },
      {
       "output_type": "stream",
       "stream": "stdout",
       "text": [
        "   '/opendap/hyrax/Nimbus7_TOMS_Level3/TOMSN7L3dery.008/1987/L3_eryln_n7t_19870320.txt',\n",
        "    'http://acdisc.gsfc.nasa.gov/opendap/hyrax//Nimbus7_TOMS_Level3/TOMSN7L3dery.008/1987/L3_eryln_n7t_19870320.txt',\n",
        "    True)\n",
        "("
       ]
      },
      {
       "output_type": "stream",
       "stream": "stdout",
       "text": [
        "   '/opendap/hyrax/Nimbus7_TOMS_Level3/TOMSN7L3dery.008/1987/L3_eryln_n7t_19870321.txt',\n",
        "    'http://acdisc.gsfc.nasa.gov/opendap/hyrax//Nimbus7_TOMS_Level3/TOMSN7L3dery.008/1987/L3_eryln_n7t_19870321.txt',\n",
        "    True)\n",
        "("
       ]
      },
      {
       "output_type": "stream",
       "stream": "stdout",
       "text": [
        "   '/opendap/hyrax/Nimbus7_TOMS_Level3/TOMSN7L3dery.008/1987/L3_eryln_n7t_19870322.txt',\n",
        "    'http://acdisc.gsfc.nasa.gov/opendap/hyrax//Nimbus7_TOMS_Level3/TOMSN7L3dery.008/1987/L3_eryln_n7t_19870322.txt',\n",
        "    True)\n",
        "("
       ]
      },
      {
       "output_type": "stream",
       "stream": "stdout",
       "text": [
        "   '/opendap/hyrax/Nimbus7_TOMS_Level3/TOMSN7L3dery.008/1987/L3_eryln_n7t_19870323.txt',\n",
        "    'http://acdisc.gsfc.nasa.gov/opendap/hyrax//Nimbus7_TOMS_Level3/TOMSN7L3dery.008/1987/L3_eryln_n7t_19870323.txt',\n",
        "    True)\n",
        "("
       ]
      },
      {
       "output_type": "stream",
       "stream": "stdout",
       "text": [
        "   '/opendap/hyrax/Nimbus7_TOMS_Level3/TOMSN7L3dery.008/1987/L3_eryln_n7t_19870324.txt',\n",
        "    'http://acdisc.gsfc.nasa.gov/opendap/hyrax//Nimbus7_TOMS_Level3/TOMSN7L3dery.008/1987/L3_eryln_n7t_19870324.txt',\n",
        "    True)\n",
        "("
       ]
      },
      {
       "output_type": "stream",
       "stream": "stdout",
       "text": [
        "   '/opendap/hyrax/Nimbus7_TOMS_Level3/TOMSN7L3dery.008/1987/L3_eryln_n7t_19870325.txt',\n",
        "    'http://acdisc.gsfc.nasa.gov/opendap/hyrax//Nimbus7_TOMS_Level3/TOMSN7L3dery.008/1987/L3_eryln_n7t_19870325.txt',\n",
        "    True)\n",
        "("
       ]
      },
      {
       "output_type": "stream",
       "stream": "stdout",
       "text": [
        "   '/opendap/hyrax/Nimbus7_TOMS_Level3/TOMSN7L3dery.008/1987/L3_eryln_n7t_19870326.txt',\n",
        "    'http://acdisc.gsfc.nasa.gov/opendap/hyrax//Nimbus7_TOMS_Level3/TOMSN7L3dery.008/1987/L3_eryln_n7t_19870326.txt',\n",
        "    True)\n",
        "("
       ]
      },
      {
       "output_type": "stream",
       "stream": "stdout",
       "text": [
        "   '/opendap/hyrax/Nimbus7_TOMS_Level3/TOMSN7L3dery.008/1987/L3_eryln_n7t_19870327.txt',\n",
        "    'http://acdisc.gsfc.nasa.gov/opendap/hyrax//Nimbus7_TOMS_Level3/TOMSN7L3dery.008/1987/L3_eryln_n7t_19870327.txt',\n",
        "    True)\n",
        "("
       ]
      },
      {
       "output_type": "stream",
       "stream": "stdout",
       "text": [
        "   '/opendap/hyrax/Nimbus7_TOMS_Level3/TOMSN7L3dery.008/1987/L3_eryln_n7t_19870328.txt',\n",
        "    'http://acdisc.gsfc.nasa.gov/opendap/hyrax//Nimbus7_TOMS_Level3/TOMSN7L3dery.008/1987/L3_eryln_n7t_19870328.txt',\n",
        "    True)\n",
        "("
       ]
      },
      {
       "output_type": "stream",
       "stream": "stdout",
       "text": [
        "   '/opendap/hyrax/Nimbus7_TOMS_Level3/TOMSN7L3dery.008/1987/L3_eryln_n7t_19870329.txt',\n",
        "    'http://acdisc.gsfc.nasa.gov/opendap/hyrax//Nimbus7_TOMS_Level3/TOMSN7L3dery.008/1987/L3_eryln_n7t_19870329.txt',\n",
        "    True)\n",
        "("
       ]
      },
      {
       "output_type": "stream",
       "stream": "stdout",
       "text": [
        "   '/opendap/hyrax/Nimbus7_TOMS_Level3/TOMSN7L3dery.008/1987/L3_eryln_n7t_19870330.txt',\n",
        "    'http://acdisc.gsfc.nasa.gov/opendap/hyrax//Nimbus7_TOMS_Level3/TOMSN7L3dery.008/1987/L3_eryln_n7t_19870330.txt',\n",
        "    True)\n",
        "("
       ]
      },
      {
       "output_type": "stream",
       "stream": "stdout",
       "text": [
        "   '/opendap/hyrax/Nimbus7_TOMS_Level3/TOMSN7L3dery.008/1987/L3_eryln_n7t_19870331.txt',\n",
        "    'http://acdisc.gsfc.nasa.gov/opendap/hyrax//Nimbus7_TOMS_Level3/TOMSN7L3dery.008/1987/L3_eryln_n7t_19870331.txt',\n",
        "    True)\n",
        "("
       ]
      },
      {
       "output_type": "stream",
       "stream": "stdout",
       "text": [
        "   '/opendap/hyrax/Nimbus7_TOMS_Level3/TOMSN7L3dery.008/1987/L3_eryln_n7t_19870401.txt',\n",
        "    'http://acdisc.gsfc.nasa.gov/opendap/hyrax//Nimbus7_TOMS_Level3/TOMSN7L3dery.008/1987/L3_eryln_n7t_19870401.txt',\n",
        "    True)\n",
        "("
       ]
      },
      {
       "output_type": "stream",
       "stream": "stdout",
       "text": [
        "   '/opendap/hyrax/Nimbus7_TOMS_Level3/TOMSN7L3dery.008/1987/L3_eryln_n7t_19870402.txt',\n",
        "    'http://acdisc.gsfc.nasa.gov/opendap/hyrax//Nimbus7_TOMS_Level3/TOMSN7L3dery.008/1987/L3_eryln_n7t_19870402.txt',\n",
        "    True)\n",
        "("
       ]
      },
      {
       "output_type": "stream",
       "stream": "stdout",
       "text": [
        "   '/opendap/hyrax/Nimbus7_TOMS_Level3/TOMSN7L3dery.008/1987/L3_eryln_n7t_19870403.txt',\n",
        "    'http://acdisc.gsfc.nasa.gov/opendap/hyrax//Nimbus7_TOMS_Level3/TOMSN7L3dery.008/1987/L3_eryln_n7t_19870403.txt',\n",
        "    True)\n",
        "("
       ]
      },
      {
       "output_type": "stream",
       "stream": "stdout",
       "text": [
        "   '/opendap/hyrax/Nimbus7_TOMS_Level3/TOMSN7L3dery.008/1987/L3_eryln_n7t_19870404.txt',\n",
        "    'http://acdisc.gsfc.nasa.gov/opendap/hyrax//Nimbus7_TOMS_Level3/TOMSN7L3dery.008/1987/L3_eryln_n7t_19870404.txt',\n",
        "    True)\n",
        "("
       ]
      },
      {
       "output_type": "stream",
       "stream": "stdout",
       "text": [
        "   '/opendap/hyrax/Nimbus7_TOMS_Level3/TOMSN7L3dery.008/1987/L3_eryln_n7t_19870405.txt',\n",
        "    'http://acdisc.gsfc.nasa.gov/opendap/hyrax//Nimbus7_TOMS_Level3/TOMSN7L3dery.008/1987/L3_eryln_n7t_19870405.txt',\n",
        "    True)\n",
        "("
       ]
      },
      {
       "output_type": "stream",
       "stream": "stdout",
       "text": [
        "   '/opendap/hyrax/Nimbus7_TOMS_Level3/TOMSN7L3dery.008/1987/L3_eryln_n7t_19870406.txt',\n",
        "    'http://acdisc.gsfc.nasa.gov/opendap/hyrax//Nimbus7_TOMS_Level3/TOMSN7L3dery.008/1987/L3_eryln_n7t_19870406.txt',\n",
        "    True)\n",
        "("
       ]
      },
      {
       "output_type": "stream",
       "stream": "stdout",
       "text": [
        "   '/opendap/hyrax/Nimbus7_TOMS_Level3/TOMSN7L3dery.008/1987/L3_eryln_n7t_19870407.txt',\n",
        "    'http://acdisc.gsfc.nasa.gov/opendap/hyrax//Nimbus7_TOMS_Level3/TOMSN7L3dery.008/1987/L3_eryln_n7t_19870407.txt',\n",
        "    True)\n",
        "("
       ]
      },
      {
       "output_type": "stream",
       "stream": "stdout",
       "text": [
        "   '/opendap/hyrax/Nimbus7_TOMS_Level3/TOMSN7L3dery.008/1987/L3_eryln_n7t_19870408.txt',\n",
        "    'http://acdisc.gsfc.nasa.gov/opendap/hyrax//Nimbus7_TOMS_Level3/TOMSN7L3dery.008/1987/L3_eryln_n7t_19870408.txt',\n",
        "    True)\n",
        "("
       ]
      },
      {
       "output_type": "stream",
       "stream": "stdout",
       "text": [
        "   '/opendap/hyrax/Nimbus7_TOMS_Level3/TOMSN7L3dery.008/1987/L3_eryln_n7t_19870409.txt',\n",
        "    'http://acdisc.gsfc.nasa.gov/opendap/hyrax//Nimbus7_TOMS_Level3/TOMSN7L3dery.008/1987/L3_eryln_n7t_19870409.txt',\n",
        "    True)\n",
        "("
       ]
      },
      {
       "output_type": "stream",
       "stream": "stdout",
       "text": [
        "   '/opendap/hyrax/Nimbus7_TOMS_Level3/TOMSN7L3dery.008/1987/L3_eryln_n7t_19870410.txt',\n",
        "    'http://acdisc.gsfc.nasa.gov/opendap/hyrax//Nimbus7_TOMS_Level3/TOMSN7L3dery.008/1987/L3_eryln_n7t_19870410.txt',\n",
        "    True)\n",
        "("
       ]
      },
      {
       "output_type": "stream",
       "stream": "stdout",
       "text": [
        "   '/opendap/hyrax/Nimbus7_TOMS_Level3/TOMSN7L3dery.008/1987/L3_eryln_n7t_19870411.txt',\n",
        "    'http://acdisc.gsfc.nasa.gov/opendap/hyrax//Nimbus7_TOMS_Level3/TOMSN7L3dery.008/1987/L3_eryln_n7t_19870411.txt',\n",
        "    True)\n",
        "("
       ]
      },
      {
       "output_type": "stream",
       "stream": "stdout",
       "text": [
        "   '/opendap/hyrax/Nimbus7_TOMS_Level3/TOMSN7L3dery.008/1987/L3_eryln_n7t_19870412.txt',\n",
        "    'http://acdisc.gsfc.nasa.gov/opendap/hyrax//Nimbus7_TOMS_Level3/TOMSN7L3dery.008/1987/L3_eryln_n7t_19870412.txt',\n",
        "    True)\n",
        "("
       ]
      },
      {
       "output_type": "stream",
       "stream": "stdout",
       "text": [
        "   '/opendap/hyrax/Nimbus7_TOMS_Level3/TOMSN7L3dery.008/1987/L3_eryln_n7t_19870413.txt',\n",
        "    'http://acdisc.gsfc.nasa.gov/opendap/hyrax//Nimbus7_TOMS_Level3/TOMSN7L3dery.008/1987/L3_eryln_n7t_19870413.txt',\n",
        "    True)\n",
        "("
       ]
      },
      {
       "output_type": "stream",
       "stream": "stdout",
       "text": [
        "   '/opendap/hyrax/Nimbus7_TOMS_Level3/TOMSN7L3dery.008/1987/L3_eryln_n7t_19870414.txt',\n",
        "    'http://acdisc.gsfc.nasa.gov/opendap/hyrax//Nimbus7_TOMS_Level3/TOMSN7L3dery.008/1987/L3_eryln_n7t_19870414.txt',\n",
        "    True)\n",
        "("
       ]
      },
      {
       "output_type": "stream",
       "stream": "stdout",
       "text": [
        "   '/opendap/hyrax/Nimbus7_TOMS_Level3/TOMSN7L3dery.008/1987/L3_eryln_n7t_19870415.txt',\n",
        "    'http://acdisc.gsfc.nasa.gov/opendap/hyrax//Nimbus7_TOMS_Level3/TOMSN7L3dery.008/1987/L3_eryln_n7t_19870415.txt',\n",
        "    True)\n",
        "("
       ]
      },
      {
       "output_type": "stream",
       "stream": "stdout",
       "text": [
        "   '/opendap/hyrax/Nimbus7_TOMS_Level3/TOMSN7L3dery.008/1987/L3_eryln_n7t_19870416.txt',\n",
        "    'http://acdisc.gsfc.nasa.gov/opendap/hyrax//Nimbus7_TOMS_Level3/TOMSN7L3dery.008/1987/L3_eryln_n7t_19870416.txt',\n",
        "    True)\n",
        "("
       ]
      },
      {
       "output_type": "stream",
       "stream": "stdout",
       "text": [
        "   '/opendap/hyrax/Nimbus7_TOMS_Level3/TOMSN7L3dery.008/1987/L3_eryln_n7t_19870417.txt',\n",
        "    'http://acdisc.gsfc.nasa.gov/opendap/hyrax//Nimbus7_TOMS_Level3/TOMSN7L3dery.008/1987/L3_eryln_n7t_19870417.txt',\n",
        "    True)\n",
        "("
       ]
      },
      {
       "output_type": "stream",
       "stream": "stdout",
       "text": [
        "   '/opendap/hyrax/Nimbus7_TOMS_Level3/TOMSN7L3dery.008/1987/L3_eryln_n7t_19870418.txt',\n",
        "    'http://acdisc.gsfc.nasa.gov/opendap/hyrax//Nimbus7_TOMS_Level3/TOMSN7L3dery.008/1987/L3_eryln_n7t_19870418.txt',\n",
        "    True)\n",
        "("
       ]
      },
      {
       "output_type": "stream",
       "stream": "stdout",
       "text": [
        "   '/opendap/hyrax/Nimbus7_TOMS_Level3/TOMSN7L3dery.008/1987/L3_eryln_n7t_19870419.txt',\n",
        "    'http://acdisc.gsfc.nasa.gov/opendap/hyrax//Nimbus7_TOMS_Level3/TOMSN7L3dery.008/1987/L3_eryln_n7t_19870419.txt',\n",
        "    True)\n",
        "("
       ]
      },
      {
       "output_type": "stream",
       "stream": "stdout",
       "text": [
        "   '/opendap/hyrax/Nimbus7_TOMS_Level3/TOMSN7L3dery.008/1987/L3_eryln_n7t_19870420.txt',\n",
        "    'http://acdisc.gsfc.nasa.gov/opendap/hyrax//Nimbus7_TOMS_Level3/TOMSN7L3dery.008/1987/L3_eryln_n7t_19870420.txt',\n",
        "    True)\n",
        "("
       ]
      },
      {
       "output_type": "stream",
       "stream": "stdout",
       "text": [
        "   '/opendap/hyrax/Nimbus7_TOMS_Level3/TOMSN7L3dery.008/1987/L3_eryln_n7t_19870421.txt',\n",
        "    'http://acdisc.gsfc.nasa.gov/opendap/hyrax//Nimbus7_TOMS_Level3/TOMSN7L3dery.008/1987/L3_eryln_n7t_19870421.txt',\n",
        "    True)\n",
        "("
       ]
      },
      {
       "output_type": "stream",
       "stream": "stdout",
       "text": [
        "   '/opendap/hyrax/Nimbus7_TOMS_Level3/TOMSN7L3dery.008/1987/L3_eryln_n7t_19870422.txt',\n",
        "    'http://acdisc.gsfc.nasa.gov/opendap/hyrax//Nimbus7_TOMS_Level3/TOMSN7L3dery.008/1987/L3_eryln_n7t_19870422.txt',\n",
        "    True)\n",
        "("
       ]
      },
      {
       "output_type": "stream",
       "stream": "stdout",
       "text": [
        "   '/opendap/hyrax/Nimbus7_TOMS_Level3/TOMSN7L3dery.008/1987/L3_eryln_n7t_19870423.txt',\n",
        "    'http://acdisc.gsfc.nasa.gov/opendap/hyrax//Nimbus7_TOMS_Level3/TOMSN7L3dery.008/1987/L3_eryln_n7t_19870423.txt',\n",
        "    True)\n",
        "("
       ]
      },
      {
       "output_type": "stream",
       "stream": "stdout",
       "text": [
        "   '/opendap/hyrax/Nimbus7_TOMS_Level3/TOMSN7L3dery.008/1987/L3_eryln_n7t_19870424.txt',\n",
        "    'http://acdisc.gsfc.nasa.gov/opendap/hyrax//Nimbus7_TOMS_Level3/TOMSN7L3dery.008/1987/L3_eryln_n7t_19870424.txt',\n",
        "    True)\n",
        "("
       ]
      },
      {
       "output_type": "stream",
       "stream": "stdout",
       "text": [
        "   '/opendap/hyrax/Nimbus7_TOMS_Level3/TOMSN7L3dery.008/1987/L3_eryln_n7t_19870425.txt',\n",
        "    'http://acdisc.gsfc.nasa.gov/opendap/hyrax//Nimbus7_TOMS_Level3/TOMSN7L3dery.008/1987/L3_eryln_n7t_19870425.txt',\n",
        "    True)\n",
        "("
       ]
      },
      {
       "output_type": "stream",
       "stream": "stdout",
       "text": [
        "   '/opendap/hyrax/Nimbus7_TOMS_Level3/TOMSN7L3dery.008/1987/L3_eryln_n7t_19870426.txt',\n",
        "    'http://acdisc.gsfc.nasa.gov/opendap/hyrax//Nimbus7_TOMS_Level3/TOMSN7L3dery.008/1987/L3_eryln_n7t_19870426.txt',\n",
        "    True)\n",
        "("
       ]
      },
      {
       "output_type": "stream",
       "stream": "stdout",
       "text": [
        "   '/opendap/hyrax/Nimbus7_TOMS_Level3/TOMSN7L3dery.008/1987/L3_eryln_n7t_19870427.txt',\n",
        "    'http://acdisc.gsfc.nasa.gov/opendap/hyrax//Nimbus7_TOMS_Level3/TOMSN7L3dery.008/1987/L3_eryln_n7t_19870427.txt',\n",
        "    True)\n",
        "("
       ]
      },
      {
       "output_type": "stream",
       "stream": "stdout",
       "text": [
        "   '/opendap/hyrax/Nimbus7_TOMS_Level3/TOMSN7L3dery.008/1987/L3_eryln_n7t_19870428.txt',\n",
        "    'http://acdisc.gsfc.nasa.gov/opendap/hyrax//Nimbus7_TOMS_Level3/TOMSN7L3dery.008/1987/L3_eryln_n7t_19870428.txt',\n",
        "    True)\n",
        "("
       ]
      },
      {
       "output_type": "stream",
       "stream": "stdout",
       "text": [
        "   '/opendap/hyrax/Nimbus7_TOMS_Level3/TOMSN7L3dery.008/1987/L3_eryln_n7t_19870429.txt',\n",
        "    'http://acdisc.gsfc.nasa.gov/opendap/hyrax//Nimbus7_TOMS_Level3/TOMSN7L3dery.008/1987/L3_eryln_n7t_19870429.txt',\n",
        "    True)\n",
        "("
       ]
      },
      {
       "output_type": "stream",
       "stream": "stdout",
       "text": [
        "   '/opendap/hyrax/Nimbus7_TOMS_Level3/TOMSN7L3dery.008/1987/L3_eryln_n7t_19870430.txt',\n",
        "    'http://acdisc.gsfc.nasa.gov/opendap/hyrax//Nimbus7_TOMS_Level3/TOMSN7L3dery.008/1987/L3_eryln_n7t_19870430.txt',\n",
        "    True)\n",
        "("
       ]
      },
      {
       "output_type": "stream",
       "stream": "stdout",
       "text": [
        "   '/opendap/hyrax/Nimbus7_TOMS_Level3/TOMSN7L3dery.008/1987/L3_eryln_n7t_19870501.txt',\n",
        "    'http://acdisc.gsfc.nasa.gov/opendap/hyrax//Nimbus7_TOMS_Level3/TOMSN7L3dery.008/1987/L3_eryln_n7t_19870501.txt',\n",
        "    True)\n",
        "("
       ]
      },
      {
       "output_type": "stream",
       "stream": "stdout",
       "text": [
        "   '/opendap/hyrax/Nimbus7_TOMS_Level3/TOMSN7L3dery.008/1987/L3_eryln_n7t_19870502.txt',\n",
        "    'http://acdisc.gsfc.nasa.gov/opendap/hyrax//Nimbus7_TOMS_Level3/TOMSN7L3dery.008/1987/L3_eryln_n7t_19870502.txt',\n",
        "    True)\n",
        "("
       ]
      },
      {
       "output_type": "stream",
       "stream": "stdout",
       "text": [
        "   '/opendap/hyrax/Nimbus7_TOMS_Level3/TOMSN7L3dery.008/1987/L3_eryln_n7t_19870503.txt',\n",
        "    'http://acdisc.gsfc.nasa.gov/opendap/hyrax//Nimbus7_TOMS_Level3/TOMSN7L3dery.008/1987/L3_eryln_n7t_19870503.txt',\n",
        "    True)\n",
        "("
       ]
      },
      {
       "output_type": "stream",
       "stream": "stdout",
       "text": [
        "   '/opendap/hyrax/Nimbus7_TOMS_Level3/TOMSN7L3dery.008/1987/L3_eryln_n7t_19870504.txt',\n",
        "    'http://acdisc.gsfc.nasa.gov/opendap/hyrax//Nimbus7_TOMS_Level3/TOMSN7L3dery.008/1987/L3_eryln_n7t_19870504.txt',\n",
        "    True)\n",
        "("
       ]
      },
      {
       "output_type": "stream",
       "stream": "stdout",
       "text": [
        "   '/opendap/hyrax/Nimbus7_TOMS_Level3/TOMSN7L3dery.008/1987/L3_eryln_n7t_19870505.txt',\n",
        "    'http://acdisc.gsfc.nasa.gov/opendap/hyrax//Nimbus7_TOMS_Level3/TOMSN7L3dery.008/1987/L3_eryln_n7t_19870505.txt',\n",
        "    True)\n",
        "("
       ]
      },
      {
       "output_type": "stream",
       "stream": "stdout",
       "text": [
        "   '/opendap/hyrax/Nimbus7_TOMS_Level3/TOMSN7L3dery.008/1987/L3_eryln_n7t_19870506.txt',\n",
        "    'http://acdisc.gsfc.nasa.gov/opendap/hyrax//Nimbus7_TOMS_Level3/TOMSN7L3dery.008/1987/L3_eryln_n7t_19870506.txt',\n",
        "    True)\n",
        "("
       ]
      },
      {
       "output_type": "stream",
       "stream": "stdout",
       "text": [
        "   '/opendap/hyrax/Nimbus7_TOMS_Level3/TOMSN7L3dery.008/1987/L3_eryln_n7t_19870507.txt',\n",
        "    'http://acdisc.gsfc.nasa.gov/opendap/hyrax//Nimbus7_TOMS_Level3/TOMSN7L3dery.008/1987/L3_eryln_n7t_19870507.txt',\n",
        "    True)\n",
        "("
       ]
      },
      {
       "output_type": "stream",
       "stream": "stdout",
       "text": [
        "   '/opendap/hyrax/Nimbus7_TOMS_Level3/TOMSN7L3dery.008/1987/L3_eryln_n7t_19870508.txt',\n",
        "    'http://acdisc.gsfc.nasa.gov/opendap/hyrax//Nimbus7_TOMS_Level3/TOMSN7L3dery.008/1987/L3_eryln_n7t_19870508.txt',\n",
        "    True)\n",
        "("
       ]
      },
      {
       "output_type": "stream",
       "stream": "stdout",
       "text": [
        "   '/opendap/hyrax/Nimbus7_TOMS_Level3/TOMSN7L3dery.008/1987/L3_eryln_n7t_19870509.txt',\n",
        "    'http://acdisc.gsfc.nasa.gov/opendap/hyrax//Nimbus7_TOMS_Level3/TOMSN7L3dery.008/1987/L3_eryln_n7t_19870509.txt',\n",
        "    True)\n",
        "("
       ]
      },
      {
       "output_type": "stream",
       "stream": "stdout",
       "text": [
        "   '/opendap/hyrax/Nimbus7_TOMS_Level3/TOMSN7L3dery.008/1987/L3_eryln_n7t_19870510.txt',\n",
        "    'http://acdisc.gsfc.nasa.gov/opendap/hyrax//Nimbus7_TOMS_Level3/TOMSN7L3dery.008/1987/L3_eryln_n7t_19870510.txt',\n",
        "    True)\n",
        "("
       ]
      },
      {
       "output_type": "stream",
       "stream": "stdout",
       "text": [
        "   '/opendap/hyrax/Nimbus7_TOMS_Level3/TOMSN7L3dery.008/1987/L3_eryln_n7t_19870511.txt',\n",
        "    'http://acdisc.gsfc.nasa.gov/opendap/hyrax//Nimbus7_TOMS_Level3/TOMSN7L3dery.008/1987/L3_eryln_n7t_19870511.txt',\n",
        "    True)\n",
        "("
       ]
      },
      {
       "output_type": "stream",
       "stream": "stdout",
       "text": [
        "   '/opendap/hyrax/Nimbus7_TOMS_Level3/TOMSN7L3dery.008/1987/L3_eryln_n7t_19870512.txt',\n",
        "    'http://acdisc.gsfc.nasa.gov/opendap/hyrax//Nimbus7_TOMS_Level3/TOMSN7L3dery.008/1987/L3_eryln_n7t_19870512.txt',\n",
        "    True)\n",
        "("
       ]
      },
      {
       "output_type": "stream",
       "stream": "stdout",
       "text": [
        "   '/opendap/hyrax/Nimbus7_TOMS_Level3/TOMSN7L3dery.008/1987/L3_eryln_n7t_19870513.txt',\n",
        "    'http://acdisc.gsfc.nasa.gov/opendap/hyrax//Nimbus7_TOMS_Level3/TOMSN7L3dery.008/1987/L3_eryln_n7t_19870513.txt',\n",
        "    True)\n",
        "("
       ]
      },
      {
       "output_type": "stream",
       "stream": "stdout",
       "text": [
        "   '/opendap/hyrax/Nimbus7_TOMS_Level3/TOMSN7L3dery.008/1987/L3_eryln_n7t_19870514.txt',\n",
        "    'http://acdisc.gsfc.nasa.gov/opendap/hyrax//Nimbus7_TOMS_Level3/TOMSN7L3dery.008/1987/L3_eryln_n7t_19870514.txt',\n",
        "    True)\n",
        "("
       ]
      },
      {
       "output_type": "stream",
       "stream": "stdout",
       "text": [
        "   '/opendap/hyrax/Nimbus7_TOMS_Level3/TOMSN7L3dery.008/1987/L3_eryln_n7t_19870515.txt',\n",
        "    'http://acdisc.gsfc.nasa.gov/opendap/hyrax//Nimbus7_TOMS_Level3/TOMSN7L3dery.008/1987/L3_eryln_n7t_19870515.txt',\n",
        "    True)\n",
        "("
       ]
      },
      {
       "output_type": "stream",
       "stream": "stdout",
       "text": [
        "   '/opendap/hyrax/Nimbus7_TOMS_Level3/TOMSN7L3dery.008/1987/L3_eryln_n7t_19870516.txt',\n",
        "    'http://acdisc.gsfc.nasa.gov/opendap/hyrax//Nimbus7_TOMS_Level3/TOMSN7L3dery.008/1987/L3_eryln_n7t_19870516.txt',\n",
        "    True)\n",
        "("
       ]
      },
      {
       "output_type": "stream",
       "stream": "stdout",
       "text": [
        "   '/opendap/hyrax/Nimbus7_TOMS_Level3/TOMSN7L3dery.008/1987/L3_eryln_n7t_19870517.txt',\n",
        "    'http://acdisc.gsfc.nasa.gov/opendap/hyrax//Nimbus7_TOMS_Level3/TOMSN7L3dery.008/1987/L3_eryln_n7t_19870517.txt',\n",
        "    True)\n",
        "("
       ]
      },
      {
       "output_type": "stream",
       "stream": "stdout",
       "text": [
        "   '/opendap/hyrax/Nimbus7_TOMS_Level3/TOMSN7L3dery.008/1987/L3_eryln_n7t_19870518.txt',\n",
        "    'http://acdisc.gsfc.nasa.gov/opendap/hyrax//Nimbus7_TOMS_Level3/TOMSN7L3dery.008/1987/L3_eryln_n7t_19870518.txt',\n",
        "    True)\n",
        "("
       ]
      },
      {
       "output_type": "stream",
       "stream": "stdout",
       "text": [
        "   '/opendap/hyrax/Nimbus7_TOMS_Level3/TOMSN7L3dery.008/1987/L3_eryln_n7t_19870519.txt',\n",
        "    'http://acdisc.gsfc.nasa.gov/opendap/hyrax//Nimbus7_TOMS_Level3/TOMSN7L3dery.008/1987/L3_eryln_n7t_19870519.txt',\n",
        "    True)\n",
        "("
       ]
      },
      {
       "output_type": "stream",
       "stream": "stdout",
       "text": [
        "   '/opendap/hyrax/Nimbus7_TOMS_Level3/TOMSN7L3dery.008/1987/L3_eryln_n7t_19870520.txt',\n",
        "    'http://acdisc.gsfc.nasa.gov/opendap/hyrax//Nimbus7_TOMS_Level3/TOMSN7L3dery.008/1987/L3_eryln_n7t_19870520.txt',\n",
        "    True)\n",
        "("
       ]
      },
      {
       "output_type": "stream",
       "stream": "stdout",
       "text": [
        "   '/opendap/hyrax/Nimbus7_TOMS_Level3/TOMSN7L3dery.008/1987/L3_eryln_n7t_19870521.txt',\n",
        "    'http://acdisc.gsfc.nasa.gov/opendap/hyrax//Nimbus7_TOMS_Level3/TOMSN7L3dery.008/1987/L3_eryln_n7t_19870521.txt',\n",
        "    True)\n",
        "("
       ]
      },
      {
       "output_type": "stream",
       "stream": "stdout",
       "text": [
        "   '/opendap/hyrax/Nimbus7_TOMS_Level3/TOMSN7L3dery.008/1987/L3_eryln_n7t_19870522.txt',\n",
        "    'http://acdisc.gsfc.nasa.gov/opendap/hyrax//Nimbus7_TOMS_Level3/TOMSN7L3dery.008/1987/L3_eryln_n7t_19870522.txt',\n",
        "    True)\n",
        "("
       ]
      },
      {
       "output_type": "stream",
       "stream": "stdout",
       "text": [
        "   '/opendap/hyrax/Nimbus7_TOMS_Level3/TOMSN7L3dery.008/1987/L3_eryln_n7t_19870523.txt',\n",
        "    'http://acdisc.gsfc.nasa.gov/opendap/hyrax//Nimbus7_TOMS_Level3/TOMSN7L3dery.008/1987/L3_eryln_n7t_19870523.txt',\n",
        "    True)\n",
        "("
       ]
      },
      {
       "output_type": "stream",
       "stream": "stdout",
       "text": [
        "   '/opendap/hyrax/Nimbus7_TOMS_Level3/TOMSN7L3dery.008/1987/L3_eryln_n7t_19870524.txt',\n",
        "    'http://acdisc.gsfc.nasa.gov/opendap/hyrax//Nimbus7_TOMS_Level3/TOMSN7L3dery.008/1987/L3_eryln_n7t_19870524.txt',\n",
        "    True)\n",
        "("
       ]
      },
      {
       "output_type": "stream",
       "stream": "stdout",
       "text": [
        "   '/opendap/hyrax/Nimbus7_TOMS_Level3/TOMSN7L3dery.008/1987/L3_eryln_n7t_19870525.txt',\n",
        "    'http://acdisc.gsfc.nasa.gov/opendap/hyrax//Nimbus7_TOMS_Level3/TOMSN7L3dery.008/1987/L3_eryln_n7t_19870525.txt',\n",
        "    True)\n",
        "("
       ]
      },
      {
       "output_type": "stream",
       "stream": "stdout",
       "text": [
        "   '/opendap/hyrax/Nimbus7_TOMS_Level3/TOMSN7L3dery.008/1987/L3_eryln_n7t_19870526.txt',\n",
        "    'http://acdisc.gsfc.nasa.gov/opendap/hyrax//Nimbus7_TOMS_Level3/TOMSN7L3dery.008/1987/L3_eryln_n7t_19870526.txt',\n",
        "    True)\n",
        "("
       ]
      },
      {
       "output_type": "stream",
       "stream": "stdout",
       "text": [
        "   '/opendap/hyrax/Nimbus7_TOMS_Level3/TOMSN7L3dery.008/1987/L3_eryln_n7t_19870527.txt',\n",
        "    'http://acdisc.gsfc.nasa.gov/opendap/hyrax//Nimbus7_TOMS_Level3/TOMSN7L3dery.008/1987/L3_eryln_n7t_19870527.txt',\n",
        "    True)\n",
        "("
       ]
      },
      {
       "output_type": "stream",
       "stream": "stdout",
       "text": [
        "   '/opendap/hyrax/Nimbus7_TOMS_Level3/TOMSN7L3dery.008/1987/L3_eryln_n7t_19870528.txt',\n",
        "    'http://acdisc.gsfc.nasa.gov/opendap/hyrax//Nimbus7_TOMS_Level3/TOMSN7L3dery.008/1987/L3_eryln_n7t_19870528.txt',\n",
        "    True)\n",
        "("
       ]
      },
      {
       "output_type": "stream",
       "stream": "stdout",
       "text": [
        "   '/opendap/hyrax/Nimbus7_TOMS_Level3/TOMSN7L3dery.008/1987/L3_eryln_n7t_19870529.txt',\n",
        "    'http://acdisc.gsfc.nasa.gov/opendap/hyrax//Nimbus7_TOMS_Level3/TOMSN7L3dery.008/1987/L3_eryln_n7t_19870529.txt',\n",
        "    True)\n",
        "("
       ]
      },
      {
       "output_type": "stream",
       "stream": "stdout",
       "text": [
        "   '/opendap/hyrax/Nimbus7_TOMS_Level3/TOMSN7L3dery.008/1987/L3_eryln_n7t_19870530.txt',\n",
        "    'http://acdisc.gsfc.nasa.gov/opendap/hyrax//Nimbus7_TOMS_Level3/TOMSN7L3dery.008/1987/L3_eryln_n7t_19870530.txt',\n",
        "    True)\n",
        "("
       ]
      },
      {
       "output_type": "stream",
       "stream": "stdout",
       "text": [
        "   '/opendap/hyrax/Nimbus7_TOMS_Level3/TOMSN7L3dery.008/1987/L3_eryln_n7t_19870531.txt',\n",
        "    'http://acdisc.gsfc.nasa.gov/opendap/hyrax//Nimbus7_TOMS_Level3/TOMSN7L3dery.008/1987/L3_eryln_n7t_19870531.txt',\n",
        "    True)\n",
        "("
       ]
      },
      {
       "output_type": "stream",
       "stream": "stdout",
       "text": [
        "   '/opendap/hyrax/Nimbus7_TOMS_Level3/TOMSN7L3dery.008/1987/L3_eryln_n7t_19870601.txt',\n",
        "    'http://acdisc.gsfc.nasa.gov/opendap/hyrax//Nimbus7_TOMS_Level3/TOMSN7L3dery.008/1987/L3_eryln_n7t_19870601.txt',\n",
        "    True)\n",
        "("
       ]
      },
      {
       "output_type": "stream",
       "stream": "stdout",
       "text": [
        "   '/opendap/hyrax/Nimbus7_TOMS_Level3/TOMSN7L3dery.008/1987/L3_eryln_n7t_19870602.txt',\n",
        "    'http://acdisc.gsfc.nasa.gov/opendap/hyrax//Nimbus7_TOMS_Level3/TOMSN7L3dery.008/1987/L3_eryln_n7t_19870602.txt',\n",
        "    True)\n",
        "("
       ]
      },
      {
       "output_type": "stream",
       "stream": "stdout",
       "text": [
        "   '/opendap/hyrax/Nimbus7_TOMS_Level3/TOMSN7L3dery.008/1987/L3_eryln_n7t_19870603.txt',\n",
        "    'http://acdisc.gsfc.nasa.gov/opendap/hyrax//Nimbus7_TOMS_Level3/TOMSN7L3dery.008/1987/L3_eryln_n7t_19870603.txt',\n",
        "    True)\n",
        "("
       ]
      },
      {
       "output_type": "stream",
       "stream": "stdout",
       "text": [
        "   '/opendap/hyrax/Nimbus7_TOMS_Level3/TOMSN7L3dery.008/1987/L3_eryln_n7t_19870604.txt',\n",
        "    'http://acdisc.gsfc.nasa.gov/opendap/hyrax//Nimbus7_TOMS_Level3/TOMSN7L3dery.008/1987/L3_eryln_n7t_19870604.txt',\n",
        "    True)\n",
        "("
       ]
      },
      {
       "output_type": "stream",
       "stream": "stdout",
       "text": [
        "   '/opendap/hyrax/Nimbus7_TOMS_Level3/TOMSN7L3dery.008/1987/L3_eryln_n7t_19870605.txt',\n",
        "    'http://acdisc.gsfc.nasa.gov/opendap/hyrax//Nimbus7_TOMS_Level3/TOMSN7L3dery.008/1987/L3_eryln_n7t_19870605.txt',\n",
        "    True)\n",
        "("
       ]
      },
      {
       "output_type": "stream",
       "stream": "stdout",
       "text": [
        "   '/opendap/hyrax/Nimbus7_TOMS_Level3/TOMSN7L3dery.008/1987/L3_eryln_n7t_19870606.txt',\n",
        "    'http://acdisc.gsfc.nasa.gov/opendap/hyrax//Nimbus7_TOMS_Level3/TOMSN7L3dery.008/1987/L3_eryln_n7t_19870606.txt',\n",
        "    True)\n",
        "("
       ]
      },
      {
       "output_type": "stream",
       "stream": "stdout",
       "text": [
        "   '/opendap/hyrax/Nimbus7_TOMS_Level3/TOMSN7L3dery.008/1987/L3_eryln_n7t_19870607.txt',\n",
        "    'http://acdisc.gsfc.nasa.gov/opendap/hyrax//Nimbus7_TOMS_Level3/TOMSN7L3dery.008/1987/L3_eryln_n7t_19870607.txt',\n",
        "    True)\n",
        "("
       ]
      },
      {
       "output_type": "stream",
       "stream": "stdout",
       "text": [
        "   '/opendap/hyrax/Nimbus7_TOMS_Level3/TOMSN7L3dery.008/1987/L3_eryln_n7t_19870608.txt',\n",
        "    'http://acdisc.gsfc.nasa.gov/opendap/hyrax//Nimbus7_TOMS_Level3/TOMSN7L3dery.008/1987/L3_eryln_n7t_19870608.txt',\n",
        "    True)\n",
        "("
       ]
      },
      {
       "output_type": "stream",
       "stream": "stdout",
       "text": [
        "   '/opendap/hyrax/Nimbus7_TOMS_Level3/TOMSN7L3dery.008/1987/L3_eryln_n7t_19870609.txt',\n",
        "    'http://acdisc.gsfc.nasa.gov/opendap/hyrax//Nimbus7_TOMS_Level3/TOMSN7L3dery.008/1987/L3_eryln_n7t_19870609.txt',\n",
        "    True)\n",
        "("
       ]
      },
      {
       "output_type": "stream",
       "stream": "stdout",
       "text": [
        "   '/opendap/hyrax/Nimbus7_TOMS_Level3/TOMSN7L3dery.008/1987/L3_eryln_n7t_19870610.txt',\n",
        "    'http://acdisc.gsfc.nasa.gov/opendap/hyrax//Nimbus7_TOMS_Level3/TOMSN7L3dery.008/1987/L3_eryln_n7t_19870610.txt',\n",
        "    True)\n",
        "("
       ]
      },
      {
       "output_type": "stream",
       "stream": "stdout",
       "text": [
        "   '/opendap/hyrax/Nimbus7_TOMS_Level3/TOMSN7L3dery.008/1987/L3_eryln_n7t_19870611.txt',\n",
        "    'http://acdisc.gsfc.nasa.gov/opendap/hyrax//Nimbus7_TOMS_Level3/TOMSN7L3dery.008/1987/L3_eryln_n7t_19870611.txt',\n",
        "    True)\n",
        "("
       ]
      },
      {
       "output_type": "stream",
       "stream": "stdout",
       "text": [
        "   '/opendap/hyrax/Nimbus7_TOMS_Level3/TOMSN7L3dery.008/1987/L3_eryln_n7t_19870612.txt',\n",
        "    'http://acdisc.gsfc.nasa.gov/opendap/hyrax//Nimbus7_TOMS_Level3/TOMSN7L3dery.008/1987/L3_eryln_n7t_19870612.txt',\n",
        "    True)\n",
        "("
       ]
      },
      {
       "output_type": "stream",
       "stream": "stdout",
       "text": [
        "   '/opendap/hyrax/Nimbus7_TOMS_Level3/TOMSN7L3dery.008/1987/L3_eryln_n7t_19870613.txt',\n",
        "    'http://acdisc.gsfc.nasa.gov/opendap/hyrax//Nimbus7_TOMS_Level3/TOMSN7L3dery.008/1987/L3_eryln_n7t_19870613.txt',\n",
        "    True)\n",
        "("
       ]
      },
      {
       "output_type": "stream",
       "stream": "stdout",
       "text": [
        "   '/opendap/hyrax/Nimbus7_TOMS_Level3/TOMSN7L3dery.008/1987/L3_eryln_n7t_19870614.txt',\n",
        "    'http://acdisc.gsfc.nasa.gov/opendap/hyrax//Nimbus7_TOMS_Level3/TOMSN7L3dery.008/1987/L3_eryln_n7t_19870614.txt',\n",
        "    True)\n",
        "("
       ]
      },
      {
       "output_type": "stream",
       "stream": "stdout",
       "text": [
        "   '/opendap/hyrax/Nimbus7_TOMS_Level3/TOMSN7L3dery.008/1987/L3_eryln_n7t_19870615.txt',\n",
        "    'http://acdisc.gsfc.nasa.gov/opendap/hyrax//Nimbus7_TOMS_Level3/TOMSN7L3dery.008/1987/L3_eryln_n7t_19870615.txt',\n",
        "    True)\n",
        "("
       ]
      },
      {
       "output_type": "stream",
       "stream": "stdout",
       "text": [
        "   '/opendap/hyrax/Nimbus7_TOMS_Level3/TOMSN7L3dery.008/1987/L3_eryln_n7t_19870616.txt',\n",
        "    'http://acdisc.gsfc.nasa.gov/opendap/hyrax//Nimbus7_TOMS_Level3/TOMSN7L3dery.008/1987/L3_eryln_n7t_19870616.txt',\n",
        "    True)\n",
        "("
       ]
      },
      {
       "output_type": "stream",
       "stream": "stdout",
       "text": [
        "   '/opendap/hyrax/Nimbus7_TOMS_Level3/TOMSN7L3dery.008/1987/L3_eryln_n7t_19870617.txt',\n",
        "    'http://acdisc.gsfc.nasa.gov/opendap/hyrax//Nimbus7_TOMS_Level3/TOMSN7L3dery.008/1987/L3_eryln_n7t_19870617.txt',\n",
        "    True)\n",
        "("
       ]
      },
      {
       "output_type": "stream",
       "stream": "stdout",
       "text": [
        "   '/opendap/hyrax/Nimbus7_TOMS_Level3/TOMSN7L3dery.008/1987/L3_eryln_n7t_19870618.txt',\n",
        "    'http://acdisc.gsfc.nasa.gov/opendap/hyrax//Nimbus7_TOMS_Level3/TOMSN7L3dery.008/1987/L3_eryln_n7t_19870618.txt',\n",
        "    True)\n",
        "("
       ]
      },
      {
       "output_type": "stream",
       "stream": "stdout",
       "text": [
        "   '/opendap/hyrax/Nimbus7_TOMS_Level3/TOMSN7L3dery.008/1987/L3_eryln_n7t_19870619.txt',\n",
        "    'http://acdisc.gsfc.nasa.gov/opendap/hyrax//Nimbus7_TOMS_Level3/TOMSN7L3dery.008/1987/L3_eryln_n7t_19870619.txt',\n",
        "    True)\n",
        "("
       ]
      },
      {
       "output_type": "stream",
       "stream": "stdout",
       "text": [
        "   '/opendap/hyrax/Nimbus7_TOMS_Level3/TOMSN7L3dery.008/1987/L3_eryln_n7t_19870620.txt',\n",
        "    'http://acdisc.gsfc.nasa.gov/opendap/hyrax//Nimbus7_TOMS_Level3/TOMSN7L3dery.008/1987/L3_eryln_n7t_19870620.txt',\n",
        "    True)\n",
        "("
       ]
      },
      {
       "output_type": "stream",
       "stream": "stdout",
       "text": [
        "   '/opendap/hyrax/Nimbus7_TOMS_Level3/TOMSN7L3dery.008/1987/L3_eryln_n7t_19870621.txt',\n",
        "    'http://acdisc.gsfc.nasa.gov/opendap/hyrax//Nimbus7_TOMS_Level3/TOMSN7L3dery.008/1987/L3_eryln_n7t_19870621.txt',\n",
        "    True)\n",
        "("
       ]
      },
      {
       "output_type": "stream",
       "stream": "stdout",
       "text": [
        "   '/opendap/hyrax/Nimbus7_TOMS_Level3/TOMSN7L3dery.008/1987/L3_eryln_n7t_19870622.txt',\n",
        "    'http://acdisc.gsfc.nasa.gov/opendap/hyrax//Nimbus7_TOMS_Level3/TOMSN7L3dery.008/1987/L3_eryln_n7t_19870622.txt',\n",
        "    True)\n",
        "("
       ]
      },
      {
       "output_type": "stream",
       "stream": "stdout",
       "text": [
        "   '/opendap/hyrax/Nimbus7_TOMS_Level3/TOMSN7L3dery.008/1987/L3_eryln_n7t_19870623.txt',\n",
        "    'http://acdisc.gsfc.nasa.gov/opendap/hyrax//Nimbus7_TOMS_Level3/TOMSN7L3dery.008/1987/L3_eryln_n7t_19870623.txt',\n",
        "    True)\n",
        "("
       ]
      },
      {
       "output_type": "stream",
       "stream": "stdout",
       "text": [
        "   '/opendap/hyrax/Nimbus7_TOMS_Level3/TOMSN7L3dery.008/1987/L3_eryln_n7t_19870624.txt',\n",
        "    'http://acdisc.gsfc.nasa.gov/opendap/hyrax//Nimbus7_TOMS_Level3/TOMSN7L3dery.008/1987/L3_eryln_n7t_19870624.txt',\n",
        "    True)\n",
        "("
       ]
      },
      {
       "output_type": "stream",
       "stream": "stdout",
       "text": [
        "   '/opendap/hyrax/Nimbus7_TOMS_Level3/TOMSN7L3dery.008/1987/L3_eryln_n7t_19870625.txt',\n",
        "    'http://acdisc.gsfc.nasa.gov/opendap/hyrax//Nimbus7_TOMS_Level3/TOMSN7L3dery.008/1987/L3_eryln_n7t_19870625.txt',\n",
        "    True)\n",
        "("
       ]
      },
      {
       "output_type": "stream",
       "stream": "stdout",
       "text": [
        "   '/opendap/hyrax/Nimbus7_TOMS_Level3/TOMSN7L3dery.008/1987/L3_eryln_n7t_19870626.txt',\n",
        "    'http://acdisc.gsfc.nasa.gov/opendap/hyrax//Nimbus7_TOMS_Level3/TOMSN7L3dery.008/1987/L3_eryln_n7t_19870626.txt',\n",
        "    True)\n",
        "("
       ]
      },
      {
       "output_type": "stream",
       "stream": "stdout",
       "text": [
        "   '/opendap/hyrax/Nimbus7_TOMS_Level3/TOMSN7L3dery.008/1987/L3_eryln_n7t_19870627.txt',\n",
        "    'http://acdisc.gsfc.nasa.gov/opendap/hyrax//Nimbus7_TOMS_Level3/TOMSN7L3dery.008/1987/L3_eryln_n7t_19870627.txt',\n",
        "    True)\n",
        "("
       ]
      },
      {
       "output_type": "stream",
       "stream": "stdout",
       "text": [
        "   '/opendap/hyrax/Nimbus7_TOMS_Level3/TOMSN7L3dery.008/1987/L3_eryln_n7t_19870628.txt',\n",
        "    'http://acdisc.gsfc.nasa.gov/opendap/hyrax//Nimbus7_TOMS_Level3/TOMSN7L3dery.008/1987/L3_eryln_n7t_19870628.txt',\n",
        "    True)\n",
        "("
       ]
      },
      {
       "output_type": "stream",
       "stream": "stdout",
       "text": [
        "   '/opendap/hyrax/Nimbus7_TOMS_Level3/TOMSN7L3dery.008/1987/L3_eryln_n7t_19870629.txt',\n",
        "    'http://acdisc.gsfc.nasa.gov/opendap/hyrax//Nimbus7_TOMS_Level3/TOMSN7L3dery.008/1987/L3_eryln_n7t_19870629.txt',\n",
        "    True)\n",
        "("
       ]
      },
      {
       "output_type": "stream",
       "stream": "stdout",
       "text": [
        "   '/opendap/hyrax/Nimbus7_TOMS_Level3/TOMSN7L3dery.008/1987/L3_eryln_n7t_19870630.txt',\n",
        "    'http://acdisc.gsfc.nasa.gov/opendap/hyrax//Nimbus7_TOMS_Level3/TOMSN7L3dery.008/1987/L3_eryln_n7t_19870630.txt',\n",
        "    True)\n",
        "("
       ]
      },
      {
       "output_type": "stream",
       "stream": "stdout",
       "text": [
        "   '/opendap/hyrax/Nimbus7_TOMS_Level3/TOMSN7L3dery.008/1987/L3_eryln_n7t_19870701.txt',\n",
        "    'http://acdisc.gsfc.nasa.gov/opendap/hyrax//Nimbus7_TOMS_Level3/TOMSN7L3dery.008/1987/L3_eryln_n7t_19870701.txt',\n",
        "    True)\n",
        "("
       ]
      },
      {
       "output_type": "stream",
       "stream": "stdout",
       "text": [
        "   '/opendap/hyrax/Nimbus7_TOMS_Level3/TOMSN7L3dery.008/1987/L3_eryln_n7t_19870702.txt',\n",
        "    'http://acdisc.gsfc.nasa.gov/opendap/hyrax//Nimbus7_TOMS_Level3/TOMSN7L3dery.008/1987/L3_eryln_n7t_19870702.txt',\n",
        "    True)\n",
        "("
       ]
      },
      {
       "output_type": "stream",
       "stream": "stdout",
       "text": [
        "   '/opendap/hyrax/Nimbus7_TOMS_Level3/TOMSN7L3dery.008/1987/L3_eryln_n7t_19870703.txt',\n",
        "    'http://acdisc.gsfc.nasa.gov/opendap/hyrax//Nimbus7_TOMS_Level3/TOMSN7L3dery.008/1987/L3_eryln_n7t_19870703.txt',\n",
        "    True)\n",
        "("
       ]
      },
      {
       "output_type": "stream",
       "stream": "stdout",
       "text": [
        "   '/opendap/hyrax/Nimbus7_TOMS_Level3/TOMSN7L3dery.008/1987/L3_eryln_n7t_19870704.txt',\n",
        "    'http://acdisc.gsfc.nasa.gov/opendap/hyrax//Nimbus7_TOMS_Level3/TOMSN7L3dery.008/1987/L3_eryln_n7t_19870704.txt',\n",
        "    True)\n",
        "("
       ]
      },
      {
       "output_type": "stream",
       "stream": "stdout",
       "text": [
        "   '/opendap/hyrax/Nimbus7_TOMS_Level3/TOMSN7L3dery.008/1987/L3_eryln_n7t_19870705.txt',\n",
        "    'http://acdisc.gsfc.nasa.gov/opendap/hyrax//Nimbus7_TOMS_Level3/TOMSN7L3dery.008/1987/L3_eryln_n7t_19870705.txt',\n",
        "    True)\n",
        "("
       ]
      },
      {
       "output_type": "stream",
       "stream": "stdout",
       "text": [
        "   '/opendap/hyrax/Nimbus7_TOMS_Level3/TOMSN7L3dery.008/1987/L3_eryln_n7t_19870706.txt',\n",
        "    'http://acdisc.gsfc.nasa.gov/opendap/hyrax//Nimbus7_TOMS_Level3/TOMSN7L3dery.008/1987/L3_eryln_n7t_19870706.txt',\n",
        "    True)\n",
        "("
       ]
      },
      {
       "output_type": "stream",
       "stream": "stdout",
       "text": [
        "   '/opendap/hyrax/Nimbus7_TOMS_Level3/TOMSN7L3dery.008/1987/L3_eryln_n7t_19870707.txt',\n",
        "    'http://acdisc.gsfc.nasa.gov/opendap/hyrax//Nimbus7_TOMS_Level3/TOMSN7L3dery.008/1987/L3_eryln_n7t_19870707.txt',\n",
        "    True)\n",
        "("
       ]
      },
      {
       "output_type": "stream",
       "stream": "stdout",
       "text": [
        "   '/opendap/hyrax/Nimbus7_TOMS_Level3/TOMSN7L3dery.008/1987/L3_eryln_n7t_19870708.txt',\n",
        "    'http://acdisc.gsfc.nasa.gov/opendap/hyrax//Nimbus7_TOMS_Level3/TOMSN7L3dery.008/1987/L3_eryln_n7t_19870708.txt',\n",
        "    True)\n",
        "("
       ]
      },
      {
       "output_type": "stream",
       "stream": "stdout",
       "text": [
        "   '/opendap/hyrax/Nimbus7_TOMS_Level3/TOMSN7L3dery.008/1987/L3_eryln_n7t_19870709.txt',\n",
        "    'http://acdisc.gsfc.nasa.gov/opendap/hyrax//Nimbus7_TOMS_Level3/TOMSN7L3dery.008/1987/L3_eryln_n7t_19870709.txt',\n",
        "    True)\n",
        "("
       ]
      },
      {
       "output_type": "stream",
       "stream": "stdout",
       "text": [
        "   '/opendap/hyrax/Nimbus7_TOMS_Level3/TOMSN7L3dery.008/1987/L3_eryln_n7t_19870710.txt',\n",
        "    'http://acdisc.gsfc.nasa.gov/opendap/hyrax//Nimbus7_TOMS_Level3/TOMSN7L3dery.008/1987/L3_eryln_n7t_19870710.txt',\n",
        "    True)\n",
        "("
       ]
      },
      {
       "output_type": "stream",
       "stream": "stdout",
       "text": [
        "   '/opendap/hyrax/Nimbus7_TOMS_Level3/TOMSN7L3dery.008/1987/L3_eryln_n7t_19870711.txt',\n",
        "    'http://acdisc.gsfc.nasa.gov/opendap/hyrax//Nimbus7_TOMS_Level3/TOMSN7L3dery.008/1987/L3_eryln_n7t_19870711.txt',\n",
        "    True)\n",
        "("
       ]
      },
      {
       "output_type": "stream",
       "stream": "stdout",
       "text": [
        "   '/opendap/hyrax/Nimbus7_TOMS_Level3/TOMSN7L3dery.008/1987/L3_eryln_n7t_19870712.txt',\n",
        "    'http://acdisc.gsfc.nasa.gov/opendap/hyrax//Nimbus7_TOMS_Level3/TOMSN7L3dery.008/1987/L3_eryln_n7t_19870712.txt',\n",
        "    True)\n",
        "("
       ]
      },
      {
       "output_type": "stream",
       "stream": "stdout",
       "text": [
        "   '/opendap/hyrax/Nimbus7_TOMS_Level3/TOMSN7L3dery.008/1987/L3_eryln_n7t_19870713.txt',\n",
        "    'http://acdisc.gsfc.nasa.gov/opendap/hyrax//Nimbus7_TOMS_Level3/TOMSN7L3dery.008/1987/L3_eryln_n7t_19870713.txt',\n",
        "    True)\n",
        "("
       ]
      },
      {
       "output_type": "stream",
       "stream": "stdout",
       "text": [
        "   '/opendap/hyrax/Nimbus7_TOMS_Level3/TOMSN7L3dery.008/1987/L3_eryln_n7t_19870714.txt',\n",
        "    'http://acdisc.gsfc.nasa.gov/opendap/hyrax//Nimbus7_TOMS_Level3/TOMSN7L3dery.008/1987/L3_eryln_n7t_19870714.txt',\n",
        "    True)\n",
        "("
       ]
      },
      {
       "output_type": "stream",
       "stream": "stdout",
       "text": [
        "   '/opendap/hyrax/Nimbus7_TOMS_Level3/TOMSN7L3dery.008/1987/L3_eryln_n7t_19870715.txt',\n",
        "    'http://acdisc.gsfc.nasa.gov/opendap/hyrax//Nimbus7_TOMS_Level3/TOMSN7L3dery.008/1987/L3_eryln_n7t_19870715.txt',\n",
        "    True)\n",
        "("
       ]
      },
      {
       "output_type": "stream",
       "stream": "stdout",
       "text": [
        "   '/opendap/hyrax/Nimbus7_TOMS_Level3/TOMSN7L3dery.008/1987/L3_eryln_n7t_19870716.txt',\n",
        "    'http://acdisc.gsfc.nasa.gov/opendap/hyrax//Nimbus7_TOMS_Level3/TOMSN7L3dery.008/1987/L3_eryln_n7t_19870716.txt',\n",
        "    True)\n",
        "("
       ]
      },
      {
       "output_type": "stream",
       "stream": "stdout",
       "text": [
        "   '/opendap/hyrax/Nimbus7_TOMS_Level3/TOMSN7L3dery.008/1987/L3_eryln_n7t_19870717.txt',\n",
        "    'http://acdisc.gsfc.nasa.gov/opendap/hyrax//Nimbus7_TOMS_Level3/TOMSN7L3dery.008/1987/L3_eryln_n7t_19870717.txt',\n",
        "    True)\n",
        "("
       ]
      },
      {
       "output_type": "stream",
       "stream": "stdout",
       "text": [
        "   '/opendap/hyrax/Nimbus7_TOMS_Level3/TOMSN7L3dery.008/1987/L3_eryln_n7t_19870718.txt',\n",
        "    'http://acdisc.gsfc.nasa.gov/opendap/hyrax//Nimbus7_TOMS_Level3/TOMSN7L3dery.008/1987/L3_eryln_n7t_19870718.txt',\n",
        "    True)\n",
        "("
       ]
      },
      {
       "output_type": "stream",
       "stream": "stdout",
       "text": [
        "   '/opendap/hyrax/Nimbus7_TOMS_Level3/TOMSN7L3dery.008/1987/L3_eryln_n7t_19870719.txt',\n",
        "    'http://acdisc.gsfc.nasa.gov/opendap/hyrax//Nimbus7_TOMS_Level3/TOMSN7L3dery.008/1987/L3_eryln_n7t_19870719.txt',\n",
        "    True)\n",
        "("
       ]
      },
      {
       "output_type": "stream",
       "stream": "stdout",
       "text": [
        "   '/opendap/hyrax/Nimbus7_TOMS_Level3/TOMSN7L3dery.008/1987/L3_eryln_n7t_19870720.txt',\n",
        "    'http://acdisc.gsfc.nasa.gov/opendap/hyrax//Nimbus7_TOMS_Level3/TOMSN7L3dery.008/1987/L3_eryln_n7t_19870720.txt',\n",
        "    True)\n",
        "("
       ]
      },
      {
       "output_type": "stream",
       "stream": "stdout",
       "text": [
        "   '/opendap/hyrax/Nimbus7_TOMS_Level3/TOMSN7L3dery.008/1987/L3_eryln_n7t_19870721.txt',\n",
        "    'http://acdisc.gsfc.nasa.gov/opendap/hyrax//Nimbus7_TOMS_Level3/TOMSN7L3dery.008/1987/L3_eryln_n7t_19870721.txt',\n",
        "    True)\n",
        "("
       ]
      },
      {
       "output_type": "stream",
       "stream": "stdout",
       "text": [
        "   '/opendap/hyrax/Nimbus7_TOMS_Level3/TOMSN7L3dery.008/1987/L3_eryln_n7t_19870722.txt',\n",
        "    'http://acdisc.gsfc.nasa.gov/opendap/hyrax//Nimbus7_TOMS_Level3/TOMSN7L3dery.008/1987/L3_eryln_n7t_19870722.txt',\n",
        "    True)\n",
        "("
       ]
      },
      {
       "output_type": "stream",
       "stream": "stdout",
       "text": [
        "   '/opendap/hyrax/Nimbus7_TOMS_Level3/TOMSN7L3dery.008/1987/L3_eryln_n7t_19870723.txt',\n",
        "    'http://acdisc.gsfc.nasa.gov/opendap/hyrax//Nimbus7_TOMS_Level3/TOMSN7L3dery.008/1987/L3_eryln_n7t_19870723.txt',\n",
        "    True)\n",
        "("
       ]
      },
      {
       "output_type": "stream",
       "stream": "stdout",
       "text": [
        "   '/opendap/hyrax/Nimbus7_TOMS_Level3/TOMSN7L3dery.008/1987/L3_eryln_n7t_19870724.txt',\n",
        "    'http://acdisc.gsfc.nasa.gov/opendap/hyrax//Nimbus7_TOMS_Level3/TOMSN7L3dery.008/1987/L3_eryln_n7t_19870724.txt',\n",
        "    True)\n",
        "("
       ]
      },
      {
       "output_type": "stream",
       "stream": "stdout",
       "text": [
        "   '/opendap/hyrax/Nimbus7_TOMS_Level3/TOMSN7L3dery.008/1987/L3_eryln_n7t_19870725.txt',\n",
        "    'http://acdisc.gsfc.nasa.gov/opendap/hyrax//Nimbus7_TOMS_Level3/TOMSN7L3dery.008/1987/L3_eryln_n7t_19870725.txt',\n",
        "    True)\n",
        "("
       ]
      },
      {
       "output_type": "stream",
       "stream": "stdout",
       "text": [
        "   '/opendap/hyrax/Nimbus7_TOMS_Level3/TOMSN7L3dery.008/1987/L3_eryln_n7t_19870726.txt',\n",
        "    'http://acdisc.gsfc.nasa.gov/opendap/hyrax//Nimbus7_TOMS_Level3/TOMSN7L3dery.008/1987/L3_eryln_n7t_19870726.txt',\n",
        "    True)\n",
        "("
       ]
      },
      {
       "output_type": "stream",
       "stream": "stdout",
       "text": [
        "   '/opendap/hyrax/Nimbus7_TOMS_Level3/TOMSN7L3dery.008/1987/L3_eryln_n7t_19870727.txt',\n",
        "    'http://acdisc.gsfc.nasa.gov/opendap/hyrax//Nimbus7_TOMS_Level3/TOMSN7L3dery.008/1987/L3_eryln_n7t_19870727.txt',\n",
        "    True)\n",
        "("
       ]
      },
      {
       "output_type": "stream",
       "stream": "stdout",
       "text": [
        "   '/opendap/hyrax/Nimbus7_TOMS_Level3/TOMSN7L3dery.008/1987/L3_eryln_n7t_19870728.txt',\n",
        "    'http://acdisc.gsfc.nasa.gov/opendap/hyrax//Nimbus7_TOMS_Level3/TOMSN7L3dery.008/1987/L3_eryln_n7t_19870728.txt',\n",
        "    True)\n",
        "("
       ]
      },
      {
       "output_type": "stream",
       "stream": "stdout",
       "text": [
        "   '/opendap/hyrax/Nimbus7_TOMS_Level3/TOMSN7L3dery.008/1987/L3_eryln_n7t_19870729.txt',\n",
        "    'http://acdisc.gsfc.nasa.gov/opendap/hyrax//Nimbus7_TOMS_Level3/TOMSN7L3dery.008/1987/L3_eryln_n7t_19870729.txt',\n",
        "    True)\n",
        "("
       ]
      },
      {
       "output_type": "stream",
       "stream": "stdout",
       "text": [
        "   '/opendap/hyrax/Nimbus7_TOMS_Level3/TOMSN7L3dery.008/1987/L3_eryln_n7t_19870730.txt',\n",
        "    'http://acdisc.gsfc.nasa.gov/opendap/hyrax//Nimbus7_TOMS_Level3/TOMSN7L3dery.008/1987/L3_eryln_n7t_19870730.txt',\n",
        "    True)\n",
        "("
       ]
      },
      {
       "output_type": "stream",
       "stream": "stdout",
       "text": [
        "   '/opendap/hyrax/Nimbus7_TOMS_Level3/TOMSN7L3dery.008/1987/L3_eryln_n7t_19870731.txt',\n",
        "    'http://acdisc.gsfc.nasa.gov/opendap/hyrax//Nimbus7_TOMS_Level3/TOMSN7L3dery.008/1987/L3_eryln_n7t_19870731.txt',\n",
        "    True)\n",
        "("
       ]
      },
      {
       "output_type": "stream",
       "stream": "stdout",
       "text": [
        "   '/opendap/hyrax/Nimbus7_TOMS_Level3/TOMSN7L3dery.008/1987/L3_eryln_n7t_19870801.txt',\n",
        "    'http://acdisc.gsfc.nasa.gov/opendap/hyrax//Nimbus7_TOMS_Level3/TOMSN7L3dery.008/1987/L3_eryln_n7t_19870801.txt',\n",
        "    True)\n",
        "("
       ]
      },
      {
       "output_type": "stream",
       "stream": "stdout",
       "text": [
        "   '/opendap/hyrax/Nimbus7_TOMS_Level3/TOMSN7L3dery.008/1987/L3_eryln_n7t_19870802.txt',\n",
        "    'http://acdisc.gsfc.nasa.gov/opendap/hyrax//Nimbus7_TOMS_Level3/TOMSN7L3dery.008/1987/L3_eryln_n7t_19870802.txt',\n",
        "    True)\n",
        "("
       ]
      },
      {
       "output_type": "stream",
       "stream": "stdout",
       "text": [
        "   '/opendap/hyrax/Nimbus7_TOMS_Level3/TOMSN7L3dery.008/1987/L3_eryln_n7t_19870803.txt',\n",
        "    'http://acdisc.gsfc.nasa.gov/opendap/hyrax//Nimbus7_TOMS_Level3/TOMSN7L3dery.008/1987/L3_eryln_n7t_19870803.txt',\n",
        "    True)\n",
        "("
       ]
      },
      {
       "output_type": "stream",
       "stream": "stdout",
       "text": [
        "   '/opendap/hyrax/Nimbus7_TOMS_Level3/TOMSN7L3dery.008/1987/L3_eryln_n7t_19870804.txt',\n",
        "    'http://acdisc.gsfc.nasa.gov/opendap/hyrax//Nimbus7_TOMS_Level3/TOMSN7L3dery.008/1987/L3_eryln_n7t_19870804.txt',\n",
        "    True)\n",
        "("
       ]
      },
      {
       "output_type": "stream",
       "stream": "stdout",
       "text": [
        "   '/opendap/hyrax/Nimbus7_TOMS_Level3/TOMSN7L3dery.008/1987/L3_eryln_n7t_19870805.txt',\n",
        "    'http://acdisc.gsfc.nasa.gov/opendap/hyrax//Nimbus7_TOMS_Level3/TOMSN7L3dery.008/1987/L3_eryln_n7t_19870805.txt',\n",
        "    True)\n",
        "("
       ]
      },
      {
       "output_type": "stream",
       "stream": "stdout",
       "text": [
        "   '/opendap/hyrax/Nimbus7_TOMS_Level3/TOMSN7L3dery.008/1987/L3_eryln_n7t_19870806.txt',\n",
        "    'http://acdisc.gsfc.nasa.gov/opendap/hyrax//Nimbus7_TOMS_Level3/TOMSN7L3dery.008/1987/L3_eryln_n7t_19870806.txt',\n",
        "    True)\n",
        "("
       ]
      },
      {
       "output_type": "stream",
       "stream": "stdout",
       "text": [
        "   '/opendap/hyrax/Nimbus7_TOMS_Level3/TOMSN7L3dery.008/1987/L3_eryln_n7t_19870807.txt',\n",
        "    'http://acdisc.gsfc.nasa.gov/opendap/hyrax//Nimbus7_TOMS_Level3/TOMSN7L3dery.008/1987/L3_eryln_n7t_19870807.txt',\n",
        "    True)\n",
        "("
       ]
      },
      {
       "output_type": "stream",
       "stream": "stdout",
       "text": [
        "   '/opendap/hyrax/Nimbus7_TOMS_Level3/TOMSN7L3dery.008/1987/L3_eryln_n7t_19870808.txt',\n",
        "    'http://acdisc.gsfc.nasa.gov/opendap/hyrax//Nimbus7_TOMS_Level3/TOMSN7L3dery.008/1987/L3_eryln_n7t_19870808.txt',\n",
        "    True)\n",
        "("
       ]
      },
      {
       "output_type": "stream",
       "stream": "stdout",
       "text": [
        "   '/opendap/hyrax/Nimbus7_TOMS_Level3/TOMSN7L3dery.008/1987/L3_eryln_n7t_19870809.txt',\n",
        "    'http://acdisc.gsfc.nasa.gov/opendap/hyrax//Nimbus7_TOMS_Level3/TOMSN7L3dery.008/1987/L3_eryln_n7t_19870809.txt',\n",
        "    True)\n",
        "("
       ]
      },
      {
       "output_type": "stream",
       "stream": "stdout",
       "text": [
        "   '/opendap/hyrax/Nimbus7_TOMS_Level3/TOMSN7L3dery.008/1987/L3_eryln_n7t_19870810.txt',\n",
        "    'http://acdisc.gsfc.nasa.gov/opendap/hyrax//Nimbus7_TOMS_Level3/TOMSN7L3dery.008/1987/L3_eryln_n7t_19870810.txt',\n",
        "    True)\n",
        "("
       ]
      },
      {
       "output_type": "stream",
       "stream": "stdout",
       "text": [
        "   '/opendap/hyrax/Nimbus7_TOMS_Level3/TOMSN7L3dery.008/1987/L3_eryln_n7t_19870811.txt',\n",
        "    'http://acdisc.gsfc.nasa.gov/opendap/hyrax//Nimbus7_TOMS_Level3/TOMSN7L3dery.008/1987/L3_eryln_n7t_19870811.txt',\n",
        "    True)\n",
        "("
       ]
      },
      {
       "output_type": "stream",
       "stream": "stdout",
       "text": [
        "   '/opendap/hyrax/Nimbus7_TOMS_Level3/TOMSN7L3dery.008/1987/L3_eryln_n7t_19870812.txt',\n",
        "    'http://acdisc.gsfc.nasa.gov/opendap/hyrax//Nimbus7_TOMS_Level3/TOMSN7L3dery.008/1987/L3_eryln_n7t_19870812.txt',\n",
        "    True)\n",
        "("
       ]
      },
      {
       "output_type": "stream",
       "stream": "stdout",
       "text": [
        "   '/opendap/hyrax/Nimbus7_TOMS_Level3/TOMSN7L3dery.008/1987/L3_eryln_n7t_19870813.txt',\n",
        "    'http://acdisc.gsfc.nasa.gov/opendap/hyrax//Nimbus7_TOMS_Level3/TOMSN7L3dery.008/1987/L3_eryln_n7t_19870813.txt',\n",
        "    True)\n",
        "("
       ]
      },
      {
       "output_type": "stream",
       "stream": "stdout",
       "text": [
        "   '/opendap/hyrax/Nimbus7_TOMS_Level3/TOMSN7L3dery.008/1987/L3_eryln_n7t_19870814.txt',\n",
        "    'http://acdisc.gsfc.nasa.gov/opendap/hyrax//Nimbus7_TOMS_Level3/TOMSN7L3dery.008/1987/L3_eryln_n7t_19870814.txt',\n",
        "    True)\n",
        "("
       ]
      },
      {
       "output_type": "stream",
       "stream": "stdout",
       "text": [
        "   '/opendap/hyrax/Nimbus7_TOMS_Level3/TOMSN7L3dery.008/1987/L3_eryln_n7t_19870815.txt',\n",
        "    'http://acdisc.gsfc.nasa.gov/opendap/hyrax//Nimbus7_TOMS_Level3/TOMSN7L3dery.008/1987/L3_eryln_n7t_19870815.txt',\n",
        "    True)\n",
        "("
       ]
      },
      {
       "output_type": "stream",
       "stream": "stdout",
       "text": [
        "   '/opendap/hyrax/Nimbus7_TOMS_Level3/TOMSN7L3dery.008/1987/L3_eryln_n7t_19870816.txt',\n",
        "    'http://acdisc.gsfc.nasa.gov/opendap/hyrax//Nimbus7_TOMS_Level3/TOMSN7L3dery.008/1987/L3_eryln_n7t_19870816.txt',\n",
        "    True)\n",
        "("
       ]
      },
      {
       "output_type": "stream",
       "stream": "stdout",
       "text": [
        "   '/opendap/hyrax/Nimbus7_TOMS_Level3/TOMSN7L3dery.008/1987/L3_eryln_n7t_19870817.txt',\n",
        "    'http://acdisc.gsfc.nasa.gov/opendap/hyrax//Nimbus7_TOMS_Level3/TOMSN7L3dery.008/1987/L3_eryln_n7t_19870817.txt',\n",
        "    True)\n",
        "("
       ]
      },
      {
       "output_type": "stream",
       "stream": "stdout",
       "text": [
        "   '/opendap/hyrax/Nimbus7_TOMS_Level3/TOMSN7L3dery.008/1987/L3_eryln_n7t_19870818.txt',\n",
        "    'http://acdisc.gsfc.nasa.gov/opendap/hyrax//Nimbus7_TOMS_Level3/TOMSN7L3dery.008/1987/L3_eryln_n7t_19870818.txt',\n",
        "    True)\n",
        "("
       ]
      },
      {
       "output_type": "stream",
       "stream": "stdout",
       "text": [
        "   '/opendap/hyrax/Nimbus7_TOMS_Level3/TOMSN7L3dery.008/1987/L3_eryln_n7t_19870819.txt',\n",
        "    'http://acdisc.gsfc.nasa.gov/opendap/hyrax//Nimbus7_TOMS_Level3/TOMSN7L3dery.008/1987/L3_eryln_n7t_19870819.txt',\n",
        "    True)\n",
        "("
       ]
      },
      {
       "output_type": "stream",
       "stream": "stdout",
       "text": [
        "   '/opendap/hyrax/Nimbus7_TOMS_Level3/TOMSN7L3dery.008/1987/L3_eryln_n7t_19870820.txt',\n",
        "    'http://acdisc.gsfc.nasa.gov/opendap/hyrax//Nimbus7_TOMS_Level3/TOMSN7L3dery.008/1987/L3_eryln_n7t_19870820.txt',\n",
        "    True)\n",
        "("
       ]
      },
      {
       "output_type": "stream",
       "stream": "stdout",
       "text": [
        "   '/opendap/hyrax/Nimbus7_TOMS_Level3/TOMSN7L3dery.008/1987/L3_eryln_n7t_19870821.txt',\n",
        "    'http://acdisc.gsfc.nasa.gov/opendap/hyrax//Nimbus7_TOMS_Level3/TOMSN7L3dery.008/1987/L3_eryln_n7t_19870821.txt',\n",
        "    True)\n",
        "("
       ]
      },
      {
       "output_type": "stream",
       "stream": "stdout",
       "text": [
        "   '/opendap/hyrax/Nimbus7_TOMS_Level3/TOMSN7L3dery.008/1987/L3_eryln_n7t_19870822.txt',\n",
        "    'http://acdisc.gsfc.nasa.gov/opendap/hyrax//Nimbus7_TOMS_Level3/TOMSN7L3dery.008/1987/L3_eryln_n7t_19870822.txt',\n",
        "    True)\n",
        "("
       ]
      },
      {
       "output_type": "stream",
       "stream": "stdout",
       "text": [
        "   '/opendap/hyrax/Nimbus7_TOMS_Level3/TOMSN7L3dery.008/1987/L3_eryln_n7t_19870823.txt',\n",
        "    'http://acdisc.gsfc.nasa.gov/opendap/hyrax//Nimbus7_TOMS_Level3/TOMSN7L3dery.008/1987/L3_eryln_n7t_19870823.txt',\n",
        "    True)\n",
        "("
       ]
      },
      {
       "output_type": "stream",
       "stream": "stdout",
       "text": [
        "   '/opendap/hyrax/Nimbus7_TOMS_Level3/TOMSN7L3dery.008/1987/L3_eryln_n7t_19870824.txt',\n",
        "    'http://acdisc.gsfc.nasa.gov/opendap/hyrax//Nimbus7_TOMS_Level3/TOMSN7L3dery.008/1987/L3_eryln_n7t_19870824.txt',\n",
        "    True)\n",
        "("
       ]
      },
      {
       "output_type": "stream",
       "stream": "stdout",
       "text": [
        "   '/opendap/hyrax/Nimbus7_TOMS_Level3/TOMSN7L3dery.008/1987/L3_eryln_n7t_19870825.txt',\n",
        "    'http://acdisc.gsfc.nasa.gov/opendap/hyrax//Nimbus7_TOMS_Level3/TOMSN7L3dery.008/1987/L3_eryln_n7t_19870825.txt',\n",
        "    True)\n",
        "("
       ]
      },
      {
       "output_type": "stream",
       "stream": "stdout",
       "text": [
        "   '/opendap/hyrax/Nimbus7_TOMS_Level3/TOMSN7L3dery.008/1987/L3_eryln_n7t_19870826.txt',\n",
        "    'http://acdisc.gsfc.nasa.gov/opendap/hyrax//Nimbus7_TOMS_Level3/TOMSN7L3dery.008/1987/L3_eryln_n7t_19870826.txt',\n",
        "    True)\n",
        "("
       ]
      },
      {
       "output_type": "stream",
       "stream": "stdout",
       "text": [
        "   '/opendap/hyrax/Nimbus7_TOMS_Level3/TOMSN7L3dery.008/1987/L3_eryln_n7t_19870827.txt',\n",
        "    'http://acdisc.gsfc.nasa.gov/opendap/hyrax//Nimbus7_TOMS_Level3/TOMSN7L3dery.008/1987/L3_eryln_n7t_19870827.txt',\n",
        "    True)\n",
        "("
       ]
      },
      {
       "output_type": "stream",
       "stream": "stdout",
       "text": [
        "   '/opendap/hyrax/Nimbus7_TOMS_Level3/TOMSN7L3dery.008/1987/L3_eryln_n7t_19870828.txt',\n",
        "    'http://acdisc.gsfc.nasa.gov/opendap/hyrax//Nimbus7_TOMS_Level3/TOMSN7L3dery.008/1987/L3_eryln_n7t_19870828.txt',\n",
        "    True)\n",
        "("
       ]
      },
      {
       "output_type": "stream",
       "stream": "stdout",
       "text": [
        "   '/opendap/hyrax/Nimbus7_TOMS_Level3/TOMSN7L3dery.008/1987/L3_eryln_n7t_19870829.txt',\n",
        "    'http://acdisc.gsfc.nasa.gov/opendap/hyrax//Nimbus7_TOMS_Level3/TOMSN7L3dery.008/1987/L3_eryln_n7t_19870829.txt',\n",
        "    True)\n",
        "("
       ]
      },
      {
       "output_type": "stream",
       "stream": "stdout",
       "text": [
        "   '/opendap/hyrax/Nimbus7_TOMS_Level3/TOMSN7L3dery.008/1987/L3_eryln_n7t_19870830.txt',\n",
        "    'http://acdisc.gsfc.nasa.gov/opendap/hyrax//Nimbus7_TOMS_Level3/TOMSN7L3dery.008/1987/L3_eryln_n7t_19870830.txt',\n",
        "    True)\n",
        "("
       ]
      },
      {
       "output_type": "stream",
       "stream": "stdout",
       "text": [
        "   '/opendap/hyrax/Nimbus7_TOMS_Level3/TOMSN7L3dery.008/1987/L3_eryln_n7t_19870831.txt',\n",
        "    'http://acdisc.gsfc.nasa.gov/opendap/hyrax//Nimbus7_TOMS_Level3/TOMSN7L3dery.008/1987/L3_eryln_n7t_19870831.txt',\n",
        "    True)\n",
        "("
       ]
      },
      {
       "output_type": "stream",
       "stream": "stdout",
       "text": [
        "   '/opendap/hyrax/Nimbus7_TOMS_Level3/TOMSN7L3dery.008/1987/L3_eryln_n7t_19870901.txt',\n",
        "    'http://acdisc.gsfc.nasa.gov/opendap/hyrax//Nimbus7_TOMS_Level3/TOMSN7L3dery.008/1987/L3_eryln_n7t_19870901.txt',\n",
        "    True)\n",
        "("
       ]
      },
      {
       "output_type": "stream",
       "stream": "stdout",
       "text": [
        "   '/opendap/hyrax/Nimbus7_TOMS_Level3/TOMSN7L3dery.008/1987/L3_eryln_n7t_19870902.txt',\n",
        "    'http://acdisc.gsfc.nasa.gov/opendap/hyrax//Nimbus7_TOMS_Level3/TOMSN7L3dery.008/1987/L3_eryln_n7t_19870902.txt',\n",
        "    True)\n",
        "("
       ]
      },
      {
       "output_type": "stream",
       "stream": "stdout",
       "text": [
        "   '/opendap/hyrax/Nimbus7_TOMS_Level3/TOMSN7L3dery.008/1987/L3_eryln_n7t_19870903.txt',\n",
        "    'http://acdisc.gsfc.nasa.gov/opendap/hyrax//Nimbus7_TOMS_Level3/TOMSN7L3dery.008/1987/L3_eryln_n7t_19870903.txt',\n",
        "    True)\n",
        "("
       ]
      },
      {
       "output_type": "stream",
       "stream": "stdout",
       "text": [
        "   '/opendap/hyrax/Nimbus7_TOMS_Level3/TOMSN7L3dery.008/1987/L3_eryln_n7t_19870904.txt',\n",
        "    'http://acdisc.gsfc.nasa.gov/opendap/hyrax//Nimbus7_TOMS_Level3/TOMSN7L3dery.008/1987/L3_eryln_n7t_19870904.txt',\n",
        "    True)\n",
        "("
       ]
      },
      {
       "output_type": "stream",
       "stream": "stdout",
       "text": [
        "   '/opendap/hyrax/Nimbus7_TOMS_Level3/TOMSN7L3dery.008/1987/L3_eryln_n7t_19870905.txt',\n",
        "    'http://acdisc.gsfc.nasa.gov/opendap/hyrax//Nimbus7_TOMS_Level3/TOMSN7L3dery.008/1987/L3_eryln_n7t_19870905.txt',\n",
        "    True)\n",
        "("
       ]
      },
      {
       "output_type": "stream",
       "stream": "stdout",
       "text": [
        "   '/opendap/hyrax/Nimbus7_TOMS_Level3/TOMSN7L3dery.008/1987/L3_eryln_n7t_19870906.txt',\n",
        "    'http://acdisc.gsfc.nasa.gov/opendap/hyrax//Nimbus7_TOMS_Level3/TOMSN7L3dery.008/1987/L3_eryln_n7t_19870906.txt',\n",
        "    True)\n",
        "("
       ]
      },
      {
       "output_type": "stream",
       "stream": "stdout",
       "text": [
        "   '/opendap/hyrax/Nimbus7_TOMS_Level3/TOMSN7L3dery.008/1987/L3_eryln_n7t_19870907.txt',\n",
        "    'http://acdisc.gsfc.nasa.gov/opendap/hyrax//Nimbus7_TOMS_Level3/TOMSN7L3dery.008/1987/L3_eryln_n7t_19870907.txt',\n",
        "    True)\n",
        "("
       ]
      },
      {
       "output_type": "stream",
       "stream": "stdout",
       "text": [
        "   '/opendap/hyrax/Nimbus7_TOMS_Level3/TOMSN7L3dery.008/1987/L3_eryln_n7t_19870908.txt',\n",
        "    'http://acdisc.gsfc.nasa.gov/opendap/hyrax//Nimbus7_TOMS_Level3/TOMSN7L3dery.008/1987/L3_eryln_n7t_19870908.txt',\n",
        "    True)\n",
        "("
       ]
      },
      {
       "output_type": "stream",
       "stream": "stdout",
       "text": [
        "   '/opendap/hyrax/Nimbus7_TOMS_Level3/TOMSN7L3dery.008/1987/L3_eryln_n7t_19870909.txt',\n",
        "    'http://acdisc.gsfc.nasa.gov/opendap/hyrax//Nimbus7_TOMS_Level3/TOMSN7L3dery.008/1987/L3_eryln_n7t_19870909.txt',\n",
        "    True)\n",
        "("
       ]
      },
      {
       "output_type": "stream",
       "stream": "stdout",
       "text": [
        "   '/opendap/hyrax/Nimbus7_TOMS_Level3/TOMSN7L3dery.008/1987/L3_eryln_n7t_19870910.txt',\n",
        "    'http://acdisc.gsfc.nasa.gov/opendap/hyrax//Nimbus7_TOMS_Level3/TOMSN7L3dery.008/1987/L3_eryln_n7t_19870910.txt',\n",
        "    True)\n",
        "("
       ]
      },
      {
       "output_type": "stream",
       "stream": "stdout",
       "text": [
        "   '/opendap/hyrax/Nimbus7_TOMS_Level3/TOMSN7L3dery.008/1987/L3_eryln_n7t_19870911.txt',\n",
        "    'http://acdisc.gsfc.nasa.gov/opendap/hyrax//Nimbus7_TOMS_Level3/TOMSN7L3dery.008/1987/L3_eryln_n7t_19870911.txt',\n",
        "    True)\n",
        "("
       ]
      },
      {
       "output_type": "stream",
       "stream": "stdout",
       "text": [
        "   '/opendap/hyrax/Nimbus7_TOMS_Level3/TOMSN7L3dery.008/1987/L3_eryln_n7t_19870912.txt',\n",
        "    'http://acdisc.gsfc.nasa.gov/opendap/hyrax//Nimbus7_TOMS_Level3/TOMSN7L3dery.008/1987/L3_eryln_n7t_19870912.txt',\n",
        "    True)\n",
        "("
       ]
      },
      {
       "output_type": "stream",
       "stream": "stdout",
       "text": [
        "   '/opendap/hyrax/Nimbus7_TOMS_Level3/TOMSN7L3dery.008/1987/L3_eryln_n7t_19870913.txt',\n",
        "    'http://acdisc.gsfc.nasa.gov/opendap/hyrax//Nimbus7_TOMS_Level3/TOMSN7L3dery.008/1987/L3_eryln_n7t_19870913.txt',\n",
        "    True)\n",
        "("
       ]
      },
      {
       "output_type": "stream",
       "stream": "stdout",
       "text": [
        "   '/opendap/hyrax/Nimbus7_TOMS_Level3/TOMSN7L3dery.008/1987/L3_eryln_n7t_19870914.txt',\n",
        "    'http://acdisc.gsfc.nasa.gov/opendap/hyrax//Nimbus7_TOMS_Level3/TOMSN7L3dery.008/1987/L3_eryln_n7t_19870914.txt',\n",
        "    True)\n",
        "("
       ]
      },
      {
       "output_type": "stream",
       "stream": "stdout",
       "text": [
        "   '/opendap/hyrax/Nimbus7_TOMS_Level3/TOMSN7L3dery.008/1987/L3_eryln_n7t_19870915.txt',\n",
        "    'http://acdisc.gsfc.nasa.gov/opendap/hyrax//Nimbus7_TOMS_Level3/TOMSN7L3dery.008/1987/L3_eryln_n7t_19870915.txt',\n",
        "    True)\n",
        "("
       ]
      },
      {
       "output_type": "stream",
       "stream": "stdout",
       "text": [
        "   '/opendap/hyrax/Nimbus7_TOMS_Level3/TOMSN7L3dery.008/1987/L3_eryln_n7t_19870916.txt',\n",
        "    'http://acdisc.gsfc.nasa.gov/opendap/hyrax//Nimbus7_TOMS_Level3/TOMSN7L3dery.008/1987/L3_eryln_n7t_19870916.txt',\n",
        "    True)\n",
        "("
       ]
      },
      {
       "output_type": "stream",
       "stream": "stdout",
       "text": [
        "   '/opendap/hyrax/Nimbus7_TOMS_Level3/TOMSN7L3dery.008/1987/L3_eryln_n7t_19870917.txt',\n",
        "    'http://acdisc.gsfc.nasa.gov/opendap/hyrax//Nimbus7_TOMS_Level3/TOMSN7L3dery.008/1987/L3_eryln_n7t_19870917.txt',\n",
        "    True)\n",
        "("
       ]
      },
      {
       "output_type": "stream",
       "stream": "stdout",
       "text": [
        "   '/opendap/hyrax/Nimbus7_TOMS_Level3/TOMSN7L3dery.008/1987/L3_eryln_n7t_19870918.txt',\n",
        "    'http://acdisc.gsfc.nasa.gov/opendap/hyrax//Nimbus7_TOMS_Level3/TOMSN7L3dery.008/1987/L3_eryln_n7t_19870918.txt',\n",
        "    True)\n",
        "("
       ]
      },
      {
       "output_type": "stream",
       "stream": "stdout",
       "text": [
        "   '/opendap/hyrax/Nimbus7_TOMS_Level3/TOMSN7L3dery.008/1987/L3_eryln_n7t_19870919.txt',\n",
        "    'http://acdisc.gsfc.nasa.gov/opendap/hyrax//Nimbus7_TOMS_Level3/TOMSN7L3dery.008/1987/L3_eryln_n7t_19870919.txt',\n",
        "    True)\n",
        "("
       ]
      },
      {
       "output_type": "stream",
       "stream": "stdout",
       "text": [
        "   '/opendap/hyrax/Nimbus7_TOMS_Level3/TOMSN7L3dery.008/1987/L3_eryln_n7t_19870920.txt',\n",
        "    'http://acdisc.gsfc.nasa.gov/opendap/hyrax//Nimbus7_TOMS_Level3/TOMSN7L3dery.008/1987/L3_eryln_n7t_19870920.txt',\n",
        "    True)\n",
        "("
       ]
      },
      {
       "output_type": "stream",
       "stream": "stdout",
       "text": [
        "   '/opendap/hyrax/Nimbus7_TOMS_Level3/TOMSN7L3dery.008/1987/L3_eryln_n7t_19870921.txt',\n",
        "    'http://acdisc.gsfc.nasa.gov/opendap/hyrax//Nimbus7_TOMS_Level3/TOMSN7L3dery.008/1987/L3_eryln_n7t_19870921.txt',\n",
        "    True)\n",
        "("
       ]
      },
      {
       "output_type": "stream",
       "stream": "stdout",
       "text": [
        "   '/opendap/hyrax/Nimbus7_TOMS_Level3/TOMSN7L3dery.008/1987/L3_eryln_n7t_19870922.txt',\n",
        "    'http://acdisc.gsfc.nasa.gov/opendap/hyrax//Nimbus7_TOMS_Level3/TOMSN7L3dery.008/1987/L3_eryln_n7t_19870922.txt',\n",
        "    True)\n",
        "("
       ]
      },
      {
       "output_type": "stream",
       "stream": "stdout",
       "text": [
        "   '/opendap/hyrax/Nimbus7_TOMS_Level3/TOMSN7L3dery.008/1987/L3_eryln_n7t_19870923.txt',\n",
        "    'http://acdisc.gsfc.nasa.gov/opendap/hyrax//Nimbus7_TOMS_Level3/TOMSN7L3dery.008/1987/L3_eryln_n7t_19870923.txt',\n",
        "    True)\n",
        "("
       ]
      },
      {
       "output_type": "stream",
       "stream": "stdout",
       "text": [
        "   '/opendap/hyrax/Nimbus7_TOMS_Level3/TOMSN7L3dery.008/1987/L3_eryln_n7t_19870924.txt',\n",
        "    'http://acdisc.gsfc.nasa.gov/opendap/hyrax//Nimbus7_TOMS_Level3/TOMSN7L3dery.008/1987/L3_eryln_n7t_19870924.txt',\n",
        "    True)\n",
        "("
       ]
      },
      {
       "output_type": "stream",
       "stream": "stdout",
       "text": [
        "   '/opendap/hyrax/Nimbus7_TOMS_Level3/TOMSN7L3dery.008/1987/L3_eryln_n7t_19870925.txt',\n",
        "    'http://acdisc.gsfc.nasa.gov/opendap/hyrax//Nimbus7_TOMS_Level3/TOMSN7L3dery.008/1987/L3_eryln_n7t_19870925.txt',\n",
        "    True)\n",
        "("
       ]
      },
      {
       "output_type": "stream",
       "stream": "stdout",
       "text": [
        "   '/opendap/hyrax/Nimbus7_TOMS_Level3/TOMSN7L3dery.008/1987/L3_eryln_n7t_19870926.txt',\n",
        "    'http://acdisc.gsfc.nasa.gov/opendap/hyrax//Nimbus7_TOMS_Level3/TOMSN7L3dery.008/1987/L3_eryln_n7t_19870926.txt',\n",
        "    True)\n",
        "("
       ]
      },
      {
       "output_type": "stream",
       "stream": "stdout",
       "text": [
        "   '/opendap/hyrax/Nimbus7_TOMS_Level3/TOMSN7L3dery.008/1987/L3_eryln_n7t_19870927.txt',\n",
        "    'http://acdisc.gsfc.nasa.gov/opendap/hyrax//Nimbus7_TOMS_Level3/TOMSN7L3dery.008/1987/L3_eryln_n7t_19870927.txt',\n",
        "    True)\n",
        "("
       ]
      },
      {
       "output_type": "stream",
       "stream": "stdout",
       "text": [
        "   '/opendap/hyrax/Nimbus7_TOMS_Level3/TOMSN7L3dery.008/1987/L3_eryln_n7t_19870928.txt',\n",
        "    'http://acdisc.gsfc.nasa.gov/opendap/hyrax//Nimbus7_TOMS_Level3/TOMSN7L3dery.008/1987/L3_eryln_n7t_19870928.txt',\n",
        "    True)\n",
        "("
       ]
      },
      {
       "output_type": "stream",
       "stream": "stdout",
       "text": [
        "   '/opendap/hyrax/Nimbus7_TOMS_Level3/TOMSN7L3dery.008/1987/L3_eryln_n7t_19870929.txt',\n",
        "    'http://acdisc.gsfc.nasa.gov/opendap/hyrax//Nimbus7_TOMS_Level3/TOMSN7L3dery.008/1987/L3_eryln_n7t_19870929.txt',\n",
        "    True)\n",
        "("
       ]
      },
      {
       "output_type": "stream",
       "stream": "stdout",
       "text": [
        "   '/opendap/hyrax/Nimbus7_TOMS_Level3/TOMSN7L3dery.008/1987/L3_eryln_n7t_19870930.txt',\n",
        "    'http://acdisc.gsfc.nasa.gov/opendap/hyrax//Nimbus7_TOMS_Level3/TOMSN7L3dery.008/1987/L3_eryln_n7t_19870930.txt',\n",
        "    True)\n",
        "("
       ]
      },
      {
       "output_type": "stream",
       "stream": "stdout",
       "text": [
        "   '/opendap/hyrax/Nimbus7_TOMS_Level3/TOMSN7L3dery.008/1987/L3_eryln_n7t_19871001.txt',\n",
        "    'http://acdisc.gsfc.nasa.gov/opendap/hyrax//Nimbus7_TOMS_Level3/TOMSN7L3dery.008/1987/L3_eryln_n7t_19871001.txt',\n",
        "    True)\n",
        "("
       ]
      },
      {
       "output_type": "stream",
       "stream": "stdout",
       "text": [
        "   '/opendap/hyrax/Nimbus7_TOMS_Level3/TOMSN7L3dery.008/1987/L3_eryln_n7t_19871002.txt',\n",
        "    'http://acdisc.gsfc.nasa.gov/opendap/hyrax//Nimbus7_TOMS_Level3/TOMSN7L3dery.008/1987/L3_eryln_n7t_19871002.txt',\n",
        "    True)\n",
        "("
       ]
      },
      {
       "output_type": "stream",
       "stream": "stdout",
       "text": [
        "   '/opendap/hyrax/Nimbus7_TOMS_Level3/TOMSN7L3dery.008/1987/L3_eryln_n7t_19871003.txt',\n",
        "    'http://acdisc.gsfc.nasa.gov/opendap/hyrax//Nimbus7_TOMS_Level3/TOMSN7L3dery.008/1987/L3_eryln_n7t_19871003.txt',\n",
        "    True)\n",
        "("
       ]
      },
      {
       "output_type": "stream",
       "stream": "stdout",
       "text": [
        "   '/opendap/hyrax/Nimbus7_TOMS_Level3/TOMSN7L3dery.008/1987/L3_eryln_n7t_19871004.txt',\n",
        "    'http://acdisc.gsfc.nasa.gov/opendap/hyrax//Nimbus7_TOMS_Level3/TOMSN7L3dery.008/1987/L3_eryln_n7t_19871004.txt',\n",
        "    True)\n",
        "("
       ]
      },
      {
       "output_type": "stream",
       "stream": "stdout",
       "text": [
        "   '/opendap/hyrax/Nimbus7_TOMS_Level3/TOMSN7L3dery.008/1987/L3_eryln_n7t_19871005.txt',\n",
        "    'http://acdisc.gsfc.nasa.gov/opendap/hyrax//Nimbus7_TOMS_Level3/TOMSN7L3dery.008/1987/L3_eryln_n7t_19871005.txt',\n",
        "    True)\n",
        "("
       ]
      },
      {
       "output_type": "stream",
       "stream": "stdout",
       "text": [
        "   '/opendap/hyrax/Nimbus7_TOMS_Level3/TOMSN7L3dery.008/1987/L3_eryln_n7t_19871006.txt',\n",
        "    'http://acdisc.gsfc.nasa.gov/opendap/hyrax//Nimbus7_TOMS_Level3/TOMSN7L3dery.008/1987/L3_eryln_n7t_19871006.txt',\n",
        "    True)\n",
        "("
       ]
      },
      {
       "output_type": "stream",
       "stream": "stdout",
       "text": [
        "   '/opendap/hyrax/Nimbus7_TOMS_Level3/TOMSN7L3dery.008/1987/L3_eryln_n7t_19871007.txt',\n",
        "    'http://acdisc.gsfc.nasa.gov/opendap/hyrax//Nimbus7_TOMS_Level3/TOMSN7L3dery.008/1987/L3_eryln_n7t_19871007.txt',\n",
        "    True)\n",
        "("
       ]
      },
      {
       "output_type": "stream",
       "stream": "stdout",
       "text": [
        "   '/opendap/hyrax/Nimbus7_TOMS_Level3/TOMSN7L3dery.008/1987/L3_eryln_n7t_19871008.txt',\n",
        "    'http://acdisc.gsfc.nasa.gov/opendap/hyrax//Nimbus7_TOMS_Level3/TOMSN7L3dery.008/1987/L3_eryln_n7t_19871008.txt',\n",
        "    True)\n",
        "("
       ]
      },
      {
       "output_type": "stream",
       "stream": "stdout",
       "text": [
        "   '/opendap/hyrax/Nimbus7_TOMS_Level3/TOMSN7L3dery.008/1987/L3_eryln_n7t_19871009.txt',\n",
        "    'http://acdisc.gsfc.nasa.gov/opendap/hyrax//Nimbus7_TOMS_Level3/TOMSN7L3dery.008/1987/L3_eryln_n7t_19871009.txt',\n",
        "    True)\n",
        "("
       ]
      },
      {
       "output_type": "stream",
       "stream": "stdout",
       "text": [
        "   '/opendap/hyrax/Nimbus7_TOMS_Level3/TOMSN7L3dery.008/1987/L3_eryln_n7t_19871010.txt',\n",
        "    'http://acdisc.gsfc.nasa.gov/opendap/hyrax//Nimbus7_TOMS_Level3/TOMSN7L3dery.008/1987/L3_eryln_n7t_19871010.txt',\n",
        "    True)\n",
        "("
       ]
      },
      {
       "output_type": "stream",
       "stream": "stdout",
       "text": [
        "   '/opendap/hyrax/Nimbus7_TOMS_Level3/TOMSN7L3dery.008/1987/L3_eryln_n7t_19871011.txt',\n",
        "    'http://acdisc.gsfc.nasa.gov/opendap/hyrax//Nimbus7_TOMS_Level3/TOMSN7L3dery.008/1987/L3_eryln_n7t_19871011.txt',\n",
        "    True)\n",
        "("
       ]
      },
      {
       "output_type": "stream",
       "stream": "stdout",
       "text": [
        "   '/opendap/hyrax/Nimbus7_TOMS_Level3/TOMSN7L3dery.008/1987/L3_eryln_n7t_19871012.txt',\n",
        "    'http://acdisc.gsfc.nasa.gov/opendap/hyrax//Nimbus7_TOMS_Level3/TOMSN7L3dery.008/1987/L3_eryln_n7t_19871012.txt',\n",
        "    True)\n",
        "("
       ]
      },
      {
       "output_type": "stream",
       "stream": "stdout",
       "text": [
        "   '/opendap/hyrax/Nimbus7_TOMS_Level3/TOMSN7L3dery.008/1987/L3_eryln_n7t_19871013.txt',\n",
        "    'http://acdisc.gsfc.nasa.gov/opendap/hyrax//Nimbus7_TOMS_Level3/TOMSN7L3dery.008/1987/L3_eryln_n7t_19871013.txt',\n",
        "    True)\n",
        "("
       ]
      },
      {
       "output_type": "stream",
       "stream": "stdout",
       "text": [
        "   '/opendap/hyrax/Nimbus7_TOMS_Level3/TOMSN7L3dery.008/1987/L3_eryln_n7t_19871014.txt',\n",
        "    'http://acdisc.gsfc.nasa.gov/opendap/hyrax//Nimbus7_TOMS_Level3/TOMSN7L3dery.008/1987/L3_eryln_n7t_19871014.txt',\n",
        "    True)\n",
        "("
       ]
      },
      {
       "output_type": "stream",
       "stream": "stdout",
       "text": [
        "   '/opendap/hyrax/Nimbus7_TOMS_Level3/TOMSN7L3dery.008/1987/L3_eryln_n7t_19871015.txt',\n",
        "    'http://acdisc.gsfc.nasa.gov/opendap/hyrax//Nimbus7_TOMS_Level3/TOMSN7L3dery.008/1987/L3_eryln_n7t_19871015.txt',\n",
        "    True)\n",
        "("
       ]
      },
      {
       "output_type": "stream",
       "stream": "stdout",
       "text": [
        "   '/opendap/hyrax/Nimbus7_TOMS_Level3/TOMSN7L3dery.008/1987/L3_eryln_n7t_19871016.txt',\n",
        "    'http://acdisc.gsfc.nasa.gov/opendap/hyrax//Nimbus7_TOMS_Level3/TOMSN7L3dery.008/1987/L3_eryln_n7t_19871016.txt',\n",
        "    True)\n",
        "("
       ]
      },
      {
       "output_type": "stream",
       "stream": "stdout",
       "text": [
        "   '/opendap/hyrax/Nimbus7_TOMS_Level3/TOMSN7L3dery.008/1987/L3_eryln_n7t_19871017.txt',\n",
        "    'http://acdisc.gsfc.nasa.gov/opendap/hyrax//Nimbus7_TOMS_Level3/TOMSN7L3dery.008/1987/L3_eryln_n7t_19871017.txt',\n",
        "    True)\n",
        "("
       ]
      },
      {
       "output_type": "stream",
       "stream": "stdout",
       "text": [
        "   '/opendap/hyrax/Nimbus7_TOMS_Level3/TOMSN7L3dery.008/1987/L3_eryln_n7t_19871018.txt',\n",
        "    'http://acdisc.gsfc.nasa.gov/opendap/hyrax//Nimbus7_TOMS_Level3/TOMSN7L3dery.008/1987/L3_eryln_n7t_19871018.txt',\n",
        "    True)\n",
        "("
       ]
      },
      {
       "output_type": "stream",
       "stream": "stdout",
       "text": [
        "   '/opendap/hyrax/Nimbus7_TOMS_Level3/TOMSN7L3dery.008/1987/L3_eryln_n7t_19871019.txt',\n",
        "    'http://acdisc.gsfc.nasa.gov/opendap/hyrax//Nimbus7_TOMS_Level3/TOMSN7L3dery.008/1987/L3_eryln_n7t_19871019.txt',\n",
        "    True)\n",
        "("
       ]
      },
      {
       "output_type": "stream",
       "stream": "stdout",
       "text": [
        "   '/opendap/hyrax/Nimbus7_TOMS_Level3/TOMSN7L3dery.008/1987/L3_eryln_n7t_19871020.txt',\n",
        "    'http://acdisc.gsfc.nasa.gov/opendap/hyrax//Nimbus7_TOMS_Level3/TOMSN7L3dery.008/1987/L3_eryln_n7t_19871020.txt',\n",
        "    True)\n",
        "("
       ]
      },
      {
       "output_type": "stream",
       "stream": "stdout",
       "text": [
        "   '/opendap/hyrax/Nimbus7_TOMS_Level3/TOMSN7L3dery.008/1987/L3_eryln_n7t_19871021.txt',\n",
        "    'http://acdisc.gsfc.nasa.gov/opendap/hyrax//Nimbus7_TOMS_Level3/TOMSN7L3dery.008/1987/L3_eryln_n7t_19871021.txt',\n",
        "    True)\n",
        "("
       ]
      },
      {
       "output_type": "stream",
       "stream": "stdout",
       "text": [
        "   '/opendap/hyrax/Nimbus7_TOMS_Level3/TOMSN7L3dery.008/1987/L3_eryln_n7t_19871022.txt',\n",
        "    'http://acdisc.gsfc.nasa.gov/opendap/hyrax//Nimbus7_TOMS_Level3/TOMSN7L3dery.008/1987/L3_eryln_n7t_19871022.txt',\n",
        "    True)\n",
        "("
       ]
      },
      {
       "output_type": "stream",
       "stream": "stdout",
       "text": [
        "   '/opendap/hyrax/Nimbus7_TOMS_Level3/TOMSN7L3dery.008/1987/L3_eryln_n7t_19871023.txt',\n",
        "    'http://acdisc.gsfc.nasa.gov/opendap/hyrax//Nimbus7_TOMS_Level3/TOMSN7L3dery.008/1987/L3_eryln_n7t_19871023.txt',\n",
        "    True)\n",
        "("
       ]
      },
      {
       "output_type": "stream",
       "stream": "stdout",
       "text": [
        "   '/opendap/hyrax/Nimbus7_TOMS_Level3/TOMSN7L3dery.008/1987/L3_eryln_n7t_19871024.txt',\n",
        "    'http://acdisc.gsfc.nasa.gov/opendap/hyrax//Nimbus7_TOMS_Level3/TOMSN7L3dery.008/1987/L3_eryln_n7t_19871024.txt',\n",
        "    True)\n",
        "("
       ]
      },
      {
       "output_type": "stream",
       "stream": "stdout",
       "text": [
        "   '/opendap/hyrax/Nimbus7_TOMS_Level3/TOMSN7L3dery.008/1987/L3_eryln_n7t_19871025.txt',\n",
        "    'http://acdisc.gsfc.nasa.gov/opendap/hyrax//Nimbus7_TOMS_Level3/TOMSN7L3dery.008/1987/L3_eryln_n7t_19871025.txt',\n",
        "    True)\n",
        "("
       ]
      },
      {
       "output_type": "stream",
       "stream": "stdout",
       "text": [
        "   '/opendap/hyrax/Nimbus7_TOMS_Level3/TOMSN7L3dery.008/1987/L3_eryln_n7t_19871026.txt',\n",
        "    'http://acdisc.gsfc.nasa.gov/opendap/hyrax//Nimbus7_TOMS_Level3/TOMSN7L3dery.008/1987/L3_eryln_n7t_19871026.txt',\n",
        "    True)\n",
        "("
       ]
      },
      {
       "output_type": "stream",
       "stream": "stdout",
       "text": [
        "   '/opendap/hyrax/Nimbus7_TOMS_Level3/TOMSN7L3dery.008/1987/L3_eryln_n7t_19871027.txt',\n",
        "    'http://acdisc.gsfc.nasa.gov/opendap/hyrax//Nimbus7_TOMS_Level3/TOMSN7L3dery.008/1987/L3_eryln_n7t_19871027.txt',\n",
        "    True)\n",
        "("
       ]
      },
      {
       "output_type": "stream",
       "stream": "stdout",
       "text": [
        "   '/opendap/hyrax/Nimbus7_TOMS_Level3/TOMSN7L3dery.008/1987/L3_eryln_n7t_19871028.txt',\n",
        "    'http://acdisc.gsfc.nasa.gov/opendap/hyrax//Nimbus7_TOMS_Level3/TOMSN7L3dery.008/1987/L3_eryln_n7t_19871028.txt',\n",
        "    True)\n",
        "("
       ]
      },
      {
       "output_type": "stream",
       "stream": "stdout",
       "text": [
        "   '/opendap/hyrax/Nimbus7_TOMS_Level3/TOMSN7L3dery.008/1987/L3_eryln_n7t_19871029.txt',\n",
        "    'http://acdisc.gsfc.nasa.gov/opendap/hyrax//Nimbus7_TOMS_Level3/TOMSN7L3dery.008/1987/L3_eryln_n7t_19871029.txt',\n",
        "    True)\n",
        "("
       ]
      },
      {
       "output_type": "stream",
       "stream": "stdout",
       "text": [
        "   '/opendap/hyrax/Nimbus7_TOMS_Level3/TOMSN7L3dery.008/1987/L3_eryln_n7t_19871030.txt',\n",
        "    'http://acdisc.gsfc.nasa.gov/opendap/hyrax//Nimbus7_TOMS_Level3/TOMSN7L3dery.008/1987/L3_eryln_n7t_19871030.txt',\n",
        "    True)\n",
        "("
       ]
      },
      {
       "output_type": "stream",
       "stream": "stdout",
       "text": [
        "   '/opendap/hyrax/Nimbus7_TOMS_Level3/TOMSN7L3dery.008/1987/L3_eryln_n7t_19871031.txt',\n",
        "    'http://acdisc.gsfc.nasa.gov/opendap/hyrax//Nimbus7_TOMS_Level3/TOMSN7L3dery.008/1987/L3_eryln_n7t_19871031.txt',\n",
        "    True)\n",
        "("
       ]
      },
      {
       "output_type": "stream",
       "stream": "stdout",
       "text": [
        "   '/opendap/hyrax/Nimbus7_TOMS_Level3/TOMSN7L3dery.008/1987/L3_eryln_n7t_19871101.txt',\n",
        "    'http://acdisc.gsfc.nasa.gov/opendap/hyrax//Nimbus7_TOMS_Level3/TOMSN7L3dery.008/1987/L3_eryln_n7t_19871101.txt',\n",
        "    True)\n",
        "("
       ]
      },
      {
       "output_type": "stream",
       "stream": "stdout",
       "text": [
        "   '/opendap/hyrax/Nimbus7_TOMS_Level3/TOMSN7L3dery.008/1987/L3_eryln_n7t_19871102.txt',\n",
        "    'http://acdisc.gsfc.nasa.gov/opendap/hyrax//Nimbus7_TOMS_Level3/TOMSN7L3dery.008/1987/L3_eryln_n7t_19871102.txt',\n",
        "    True)\n",
        "("
       ]
      },
      {
       "output_type": "stream",
       "stream": "stdout",
       "text": [
        "   '/opendap/hyrax/Nimbus7_TOMS_Level3/TOMSN7L3dery.008/1987/L3_eryln_n7t_19871103.txt',\n",
        "    'http://acdisc.gsfc.nasa.gov/opendap/hyrax//Nimbus7_TOMS_Level3/TOMSN7L3dery.008/1987/L3_eryln_n7t_19871103.txt',\n",
        "    True)\n",
        "("
       ]
      },
      {
       "output_type": "stream",
       "stream": "stdout",
       "text": [
        "   '/opendap/hyrax/Nimbus7_TOMS_Level3/TOMSN7L3dery.008/1987/L3_eryln_n7t_19871104.txt',\n",
        "    'http://acdisc.gsfc.nasa.gov/opendap/hyrax//Nimbus7_TOMS_Level3/TOMSN7L3dery.008/1987/L3_eryln_n7t_19871104.txt',\n",
        "    True)\n",
        "("
       ]
      },
      {
       "output_type": "stream",
       "stream": "stdout",
       "text": [
        "   '/opendap/hyrax/Nimbus7_TOMS_Level3/TOMSN7L3dery.008/1987/L3_eryln_n7t_19871105.txt',\n",
        "    'http://acdisc.gsfc.nasa.gov/opendap/hyrax//Nimbus7_TOMS_Level3/TOMSN7L3dery.008/1987/L3_eryln_n7t_19871105.txt',\n",
        "    True)\n",
        "("
       ]
      },
      {
       "output_type": "stream",
       "stream": "stdout",
       "text": [
        "   '/opendap/hyrax/Nimbus7_TOMS_Level3/TOMSN7L3dery.008/1987/L3_eryln_n7t_19871106.txt',\n",
        "    'http://acdisc.gsfc.nasa.gov/opendap/hyrax//Nimbus7_TOMS_Level3/TOMSN7L3dery.008/1987/L3_eryln_n7t_19871106.txt',\n",
        "    True)\n",
        "("
       ]
      },
      {
       "output_type": "stream",
       "stream": "stdout",
       "text": [
        "   '/opendap/hyrax/Nimbus7_TOMS_Level3/TOMSN7L3dery.008/1987/L3_eryln_n7t_19871107.txt',\n",
        "    'http://acdisc.gsfc.nasa.gov/opendap/hyrax//Nimbus7_TOMS_Level3/TOMSN7L3dery.008/1987/L3_eryln_n7t_19871107.txt',\n",
        "    True)\n",
        "("
       ]
      },
      {
       "output_type": "stream",
       "stream": "stdout",
       "text": [
        "   '/opendap/hyrax/Nimbus7_TOMS_Level3/TOMSN7L3dery.008/1987/L3_eryln_n7t_19871108.txt',\n",
        "    'http://acdisc.gsfc.nasa.gov/opendap/hyrax//Nimbus7_TOMS_Level3/TOMSN7L3dery.008/1987/L3_eryln_n7t_19871108.txt',\n",
        "    True)\n",
        "("
       ]
      },
      {
       "output_type": "stream",
       "stream": "stdout",
       "text": [
        "   '/opendap/hyrax/Nimbus7_TOMS_Level3/TOMSN7L3dery.008/1987/L3_eryln_n7t_19871109.txt',\n",
        "    'http://acdisc.gsfc.nasa.gov/opendap/hyrax//Nimbus7_TOMS_Level3/TOMSN7L3dery.008/1987/L3_eryln_n7t_19871109.txt',\n",
        "    True)\n",
        "("
       ]
      },
      {
       "output_type": "stream",
       "stream": "stdout",
       "text": [
        "   '/opendap/hyrax/Nimbus7_TOMS_Level3/TOMSN7L3dery.008/1987/L3_eryln_n7t_19871110.txt',\n",
        "    'http://acdisc.gsfc.nasa.gov/opendap/hyrax//Nimbus7_TOMS_Level3/TOMSN7L3dery.008/1987/L3_eryln_n7t_19871110.txt',\n",
        "    True)\n",
        "("
       ]
      },
      {
       "output_type": "stream",
       "stream": "stdout",
       "text": [
        "   '/opendap/hyrax/Nimbus7_TOMS_Level3/TOMSN7L3dery.008/1987/L3_eryln_n7t_19871111.txt',\n",
        "    'http://acdisc.gsfc.nasa.gov/opendap/hyrax//Nimbus7_TOMS_Level3/TOMSN7L3dery.008/1987/L3_eryln_n7t_19871111.txt',\n",
        "    True)\n",
        "("
       ]
      },
      {
       "output_type": "stream",
       "stream": "stdout",
       "text": [
        "   '/opendap/hyrax/Nimbus7_TOMS_Level3/TOMSN7L3dery.008/1987/L3_eryln_n7t_19871112.txt',\n",
        "    'http://acdisc.gsfc.nasa.gov/opendap/hyrax//Nimbus7_TOMS_Level3/TOMSN7L3dery.008/1987/L3_eryln_n7t_19871112.txt',\n",
        "    True)\n",
        "("
       ]
      },
      {
       "output_type": "stream",
       "stream": "stdout",
       "text": [
        "   '/opendap/hyrax/Nimbus7_TOMS_Level3/TOMSN7L3dery.008/1987/L3_eryln_n7t_19871113.txt',\n",
        "    'http://acdisc.gsfc.nasa.gov/opendap/hyrax//Nimbus7_TOMS_Level3/TOMSN7L3dery.008/1987/L3_eryln_n7t_19871113.txt',\n",
        "    True)\n",
        "("
       ]
      },
      {
       "output_type": "stream",
       "stream": "stdout",
       "text": [
        "   '/opendap/hyrax/Nimbus7_TOMS_Level3/TOMSN7L3dery.008/1987/L3_eryln_n7t_19871114.txt',\n",
        "    'http://acdisc.gsfc.nasa.gov/opendap/hyrax//Nimbus7_TOMS_Level3/TOMSN7L3dery.008/1987/L3_eryln_n7t_19871114.txt',\n",
        "    True)\n",
        "("
       ]
      },
      {
       "output_type": "stream",
       "stream": "stdout",
       "text": [
        "   '/opendap/hyrax/Nimbus7_TOMS_Level3/TOMSN7L3dery.008/1987/L3_eryln_n7t_19871115.txt',\n",
        "    'http://acdisc.gsfc.nasa.gov/opendap/hyrax//Nimbus7_TOMS_Level3/TOMSN7L3dery.008/1987/L3_eryln_n7t_19871115.txt',\n",
        "    True)\n",
        "("
       ]
      },
      {
       "output_type": "stream",
       "stream": "stdout",
       "text": [
        "   '/opendap/hyrax/Nimbus7_TOMS_Level3/TOMSN7L3dery.008/1987/L3_eryln_n7t_19871116.txt',\n",
        "    'http://acdisc.gsfc.nasa.gov/opendap/hyrax//Nimbus7_TOMS_Level3/TOMSN7L3dery.008/1987/L3_eryln_n7t_19871116.txt',\n",
        "    True)\n",
        "("
       ]
      },
      {
       "output_type": "stream",
       "stream": "stdout",
       "text": [
        "   '/opendap/hyrax/Nimbus7_TOMS_Level3/TOMSN7L3dery.008/1987/L3_eryln_n7t_19871117.txt',\n",
        "    'http://acdisc.gsfc.nasa.gov/opendap/hyrax//Nimbus7_TOMS_Level3/TOMSN7L3dery.008/1987/L3_eryln_n7t_19871117.txt',\n",
        "    True)\n",
        "("
       ]
      },
      {
       "output_type": "stream",
       "stream": "stdout",
       "text": [
        "   '/opendap/hyrax/Nimbus7_TOMS_Level3/TOMSN7L3dery.008/1987/L3_eryln_n7t_19871118.txt',\n",
        "    'http://acdisc.gsfc.nasa.gov/opendap/hyrax//Nimbus7_TOMS_Level3/TOMSN7L3dery.008/1987/L3_eryln_n7t_19871118.txt',\n",
        "    True)\n",
        "("
       ]
      },
      {
       "output_type": "stream",
       "stream": "stdout",
       "text": [
        "   '/opendap/hyrax/Nimbus7_TOMS_Level3/TOMSN7L3dery.008/1987/L3_eryln_n7t_19871119.txt',\n",
        "    'http://acdisc.gsfc.nasa.gov/opendap/hyrax//Nimbus7_TOMS_Level3/TOMSN7L3dery.008/1987/L3_eryln_n7t_19871119.txt',\n",
        "    True)\n",
        "("
       ]
      },
      {
       "output_type": "stream",
       "stream": "stdout",
       "text": [
        "   '/opendap/hyrax/Nimbus7_TOMS_Level3/TOMSN7L3dery.008/1987/L3_eryln_n7t_19871120.txt',\n",
        "    'http://acdisc.gsfc.nasa.gov/opendap/hyrax//Nimbus7_TOMS_Level3/TOMSN7L3dery.008/1987/L3_eryln_n7t_19871120.txt',\n",
        "    True)\n",
        "("
       ]
      },
      {
       "output_type": "stream",
       "stream": "stdout",
       "text": [
        "   '/opendap/hyrax/Nimbus7_TOMS_Level3/TOMSN7L3dery.008/1987/L3_eryln_n7t_19871121.txt',\n",
        "    'http://acdisc.gsfc.nasa.gov/opendap/hyrax//Nimbus7_TOMS_Level3/TOMSN7L3dery.008/1987/L3_eryln_n7t_19871121.txt',\n",
        "    True)\n",
        "("
       ]
      },
      {
       "output_type": "stream",
       "stream": "stdout",
       "text": [
        "   '/opendap/hyrax/Nimbus7_TOMS_Level3/TOMSN7L3dery.008/1987/L3_eryln_n7t_19871122.txt',\n",
        "    'http://acdisc.gsfc.nasa.gov/opendap/hyrax//Nimbus7_TOMS_Level3/TOMSN7L3dery.008/1987/L3_eryln_n7t_19871122.txt',\n",
        "    True)\n",
        "("
       ]
      },
      {
       "output_type": "stream",
       "stream": "stdout",
       "text": [
        "   '/opendap/hyrax/Nimbus7_TOMS_Level3/TOMSN7L3dery.008/1987/L3_eryln_n7t_19871124.txt',\n",
        "    'http://acdisc.gsfc.nasa.gov/opendap/hyrax//Nimbus7_TOMS_Level3/TOMSN7L3dery.008/1987/L3_eryln_n7t_19871124.txt',\n",
        "    True)\n",
        "("
       ]
      },
      {
       "output_type": "stream",
       "stream": "stdout",
       "text": [
        "   '/opendap/hyrax/Nimbus7_TOMS_Level3/TOMSN7L3dery.008/1987/L3_eryln_n7t_19871125.txt',\n",
        "    'http://acdisc.gsfc.nasa.gov/opendap/hyrax//Nimbus7_TOMS_Level3/TOMSN7L3dery.008/1987/L3_eryln_n7t_19871125.txt',\n",
        "    True)\n",
        "("
       ]
      },
      {
       "output_type": "stream",
       "stream": "stdout",
       "text": [
        "   '/opendap/hyrax/Nimbus7_TOMS_Level3/TOMSN7L3dery.008/1987/L3_eryln_n7t_19871126.txt',\n",
        "    'http://acdisc.gsfc.nasa.gov/opendap/hyrax//Nimbus7_TOMS_Level3/TOMSN7L3dery.008/1987/L3_eryln_n7t_19871126.txt',\n",
        "    True)\n",
        "("
       ]
      },
      {
       "output_type": "stream",
       "stream": "stdout",
       "text": [
        "   '/opendap/hyrax/Nimbus7_TOMS_Level3/TOMSN7L3dery.008/1987/L3_eryln_n7t_19871127.txt',\n",
        "    'http://acdisc.gsfc.nasa.gov/opendap/hyrax//Nimbus7_TOMS_Level3/TOMSN7L3dery.008/1987/L3_eryln_n7t_19871127.txt',\n",
        "    True)\n",
        "("
       ]
      },
      {
       "output_type": "stream",
       "stream": "stdout",
       "text": [
        "   '/opendap/hyrax/Nimbus7_TOMS_Level3/TOMSN7L3dery.008/1987/L3_eryln_n7t_19871128.txt',\n",
        "    'http://acdisc.gsfc.nasa.gov/opendap/hyrax//Nimbus7_TOMS_Level3/TOMSN7L3dery.008/1987/L3_eryln_n7t_19871128.txt',\n",
        "    True)\n",
        "("
       ]
      },
      {
       "output_type": "stream",
       "stream": "stdout",
       "text": [
        "   '/opendap/hyrax/Nimbus7_TOMS_Level3/TOMSN7L3dery.008/1987/L3_eryln_n7t_19871129.txt',\n",
        "    'http://acdisc.gsfc.nasa.gov/opendap/hyrax//Nimbus7_TOMS_Level3/TOMSN7L3dery.008/1987/L3_eryln_n7t_19871129.txt',\n",
        "    True)\n",
        "("
       ]
      },
      {
       "output_type": "stream",
       "stream": "stdout",
       "text": [
        "   '/opendap/hyrax/Nimbus7_TOMS_Level3/TOMSN7L3dery.008/1987/L3_eryln_n7t_19871130.txt',\n",
        "    'http://acdisc.gsfc.nasa.gov/opendap/hyrax//Nimbus7_TOMS_Level3/TOMSN7L3dery.008/1987/L3_eryln_n7t_19871130.txt',\n",
        "    True)\n",
        "("
       ]
      },
      {
       "output_type": "stream",
       "stream": "stdout",
       "text": [
        "   '/opendap/hyrax/Nimbus7_TOMS_Level3/TOMSN7L3dery.008/1987/L3_eryln_n7t_19871201.txt',\n",
        "    'http://acdisc.gsfc.nasa.gov/opendap/hyrax//Nimbus7_TOMS_Level3/TOMSN7L3dery.008/1987/L3_eryln_n7t_19871201.txt',\n",
        "    True)\n",
        "("
       ]
      },
      {
       "output_type": "stream",
       "stream": "stdout",
       "text": [
        "   '/opendap/hyrax/Nimbus7_TOMS_Level3/TOMSN7L3dery.008/1987/L3_eryln_n7t_19871202.txt',\n",
        "    'http://acdisc.gsfc.nasa.gov/opendap/hyrax//Nimbus7_TOMS_Level3/TOMSN7L3dery.008/1987/L3_eryln_n7t_19871202.txt',\n",
        "    True)\n",
        "("
       ]
      },
      {
       "output_type": "stream",
       "stream": "stdout",
       "text": [
        "   '/opendap/hyrax/Nimbus7_TOMS_Level3/TOMSN7L3dery.008/1987/L3_eryln_n7t_19871203.txt',\n",
        "    'http://acdisc.gsfc.nasa.gov/opendap/hyrax//Nimbus7_TOMS_Level3/TOMSN7L3dery.008/1987/L3_eryln_n7t_19871203.txt',\n",
        "    True)\n",
        "("
       ]
      },
      {
       "output_type": "stream",
       "stream": "stdout",
       "text": [
        "   '/opendap/hyrax/Nimbus7_TOMS_Level3/TOMSN7L3dery.008/1987/L3_eryln_n7t_19871204.txt',\n",
        "    'http://acdisc.gsfc.nasa.gov/opendap/hyrax//Nimbus7_TOMS_Level3/TOMSN7L3dery.008/1987/L3_eryln_n7t_19871204.txt',\n",
        "    True)\n",
        "("
       ]
      },
      {
       "output_type": "stream",
       "stream": "stdout",
       "text": [
        "   '/opendap/hyrax/Nimbus7_TOMS_Level3/TOMSN7L3dery.008/1987/L3_eryln_n7t_19871205.txt',\n",
        "    'http://acdisc.gsfc.nasa.gov/opendap/hyrax//Nimbus7_TOMS_Level3/TOMSN7L3dery.008/1987/L3_eryln_n7t_19871205.txt',\n",
        "    True)\n",
        "("
       ]
      },
      {
       "output_type": "stream",
       "stream": "stdout",
       "text": [
        "   '/opendap/hyrax/Nimbus7_TOMS_Level3/TOMSN7L3dery.008/1987/L3_eryln_n7t_19871206.txt',\n",
        "    'http://acdisc.gsfc.nasa.gov/opendap/hyrax//Nimbus7_TOMS_Level3/TOMSN7L3dery.008/1987/L3_eryln_n7t_19871206.txt',\n",
        "    True)\n",
        "("
       ]
      },
      {
       "output_type": "stream",
       "stream": "stdout",
       "text": [
        "   '/opendap/hyrax/Nimbus7_TOMS_Level3/TOMSN7L3dery.008/1987/L3_eryln_n7t_19871207.txt',\n",
        "    'http://acdisc.gsfc.nasa.gov/opendap/hyrax//Nimbus7_TOMS_Level3/TOMSN7L3dery.008/1987/L3_eryln_n7t_19871207.txt',\n",
        "    True)\n",
        "("
       ]
      },
      {
       "output_type": "stream",
       "stream": "stdout",
       "text": [
        "   '/opendap/hyrax/Nimbus7_TOMS_Level3/TOMSN7L3dery.008/1987/L3_eryln_n7t_19871208.txt',\n",
        "    'http://acdisc.gsfc.nasa.gov/opendap/hyrax//Nimbus7_TOMS_Level3/TOMSN7L3dery.008/1987/L3_eryln_n7t_19871208.txt',\n",
        "    True)\n",
        "("
       ]
      },
      {
       "output_type": "stream",
       "stream": "stdout",
       "text": [
        "   '/opendap/hyrax/Nimbus7_TOMS_Level3/TOMSN7L3dery.008/1987/L3_eryln_n7t_19871209.txt',\n",
        "    'http://acdisc.gsfc.nasa.gov/opendap/hyrax//Nimbus7_TOMS_Level3/TOMSN7L3dery.008/1987/L3_eryln_n7t_19871209.txt',\n",
        "    True)\n",
        "("
       ]
      },
      {
       "output_type": "stream",
       "stream": "stdout",
       "text": [
        "   '/opendap/hyrax/Nimbus7_TOMS_Level3/TOMSN7L3dery.008/1987/L3_eryln_n7t_19871210.txt',\n",
        "    'http://acdisc.gsfc.nasa.gov/opendap/hyrax//Nimbus7_TOMS_Level3/TOMSN7L3dery.008/1987/L3_eryln_n7t_19871210.txt',\n",
        "    True)\n",
        "("
       ]
      },
      {
       "output_type": "stream",
       "stream": "stdout",
       "text": [
        "   '/opendap/hyrax/Nimbus7_TOMS_Level3/TOMSN7L3dery.008/1987/L3_eryln_n7t_19871211.txt',\n",
        "    'http://acdisc.gsfc.nasa.gov/opendap/hyrax//Nimbus7_TOMS_Level3/TOMSN7L3dery.008/1987/L3_eryln_n7t_19871211.txt',\n",
        "    True)\n",
        "("
       ]
      },
      {
       "output_type": "stream",
       "stream": "stdout",
       "text": [
        "   '/opendap/hyrax/Nimbus7_TOMS_Level3/TOMSN7L3dery.008/1987/L3_eryln_n7t_19871212.txt',\n",
        "    'http://acdisc.gsfc.nasa.gov/opendap/hyrax//Nimbus7_TOMS_Level3/TOMSN7L3dery.008/1987/L3_eryln_n7t_19871212.txt',\n",
        "    True)\n",
        "("
       ]
      },
      {
       "output_type": "stream",
       "stream": "stdout",
       "text": [
        "   '/opendap/hyrax/Nimbus7_TOMS_Level3/TOMSN7L3dery.008/1987/L3_eryln_n7t_19871213.txt',\n",
        "    'http://acdisc.gsfc.nasa.gov/opendap/hyrax//Nimbus7_TOMS_Level3/TOMSN7L3dery.008/1987/L3_eryln_n7t_19871213.txt',\n",
        "    True)\n",
        "("
       ]
      },
      {
       "output_type": "stream",
       "stream": "stdout",
       "text": [
        "   '/opendap/hyrax/Nimbus7_TOMS_Level3/TOMSN7L3dery.008/1987/L3_eryln_n7t_19871214.txt',\n",
        "    'http://acdisc.gsfc.nasa.gov/opendap/hyrax//Nimbus7_TOMS_Level3/TOMSN7L3dery.008/1987/L3_eryln_n7t_19871214.txt',\n",
        "    True)\n",
        "("
       ]
      },
      {
       "output_type": "stream",
       "stream": "stdout",
       "text": [
        "   '/opendap/hyrax/Nimbus7_TOMS_Level3/TOMSN7L3dery.008/1987/L3_eryln_n7t_19871215.txt',\n",
        "    'http://acdisc.gsfc.nasa.gov/opendap/hyrax//Nimbus7_TOMS_Level3/TOMSN7L3dery.008/1987/L3_eryln_n7t_19871215.txt',\n",
        "    True)\n",
        "("
       ]
      },
      {
       "output_type": "stream",
       "stream": "stdout",
       "text": [
        "   '/opendap/hyrax/Nimbus7_TOMS_Level3/TOMSN7L3dery.008/1987/L3_eryln_n7t_19871216.txt',\n",
        "    'http://acdisc.gsfc.nasa.gov/opendap/hyrax//Nimbus7_TOMS_Level3/TOMSN7L3dery.008/1987/L3_eryln_n7t_19871216.txt',\n",
        "    True)\n",
        "("
       ]
      },
      {
       "output_type": "stream",
       "stream": "stdout",
       "text": [
        "   '/opendap/hyrax/Nimbus7_TOMS_Level3/TOMSN7L3dery.008/1987/L3_eryln_n7t_19871217.txt',\n",
        "    'http://acdisc.gsfc.nasa.gov/opendap/hyrax//Nimbus7_TOMS_Level3/TOMSN7L3dery.008/1987/L3_eryln_n7t_19871217.txt',\n",
        "    True)\n",
        "("
       ]
      },
      {
       "output_type": "stream",
       "stream": "stdout",
       "text": [
        "   '/opendap/hyrax/Nimbus7_TOMS_Level3/TOMSN7L3dery.008/1987/L3_eryln_n7t_19871218.txt',\n",
        "    'http://acdisc.gsfc.nasa.gov/opendap/hyrax//Nimbus7_TOMS_Level3/TOMSN7L3dery.008/1987/L3_eryln_n7t_19871218.txt',\n",
        "    True)\n",
        "("
       ]
      },
      {
       "output_type": "stream",
       "stream": "stdout",
       "text": [
        "   '/opendap/hyrax/Nimbus7_TOMS_Level3/TOMSN7L3dery.008/1987/L3_eryln_n7t_19871219.txt',\n",
        "    'http://acdisc.gsfc.nasa.gov/opendap/hyrax//Nimbus7_TOMS_Level3/TOMSN7L3dery.008/1987/L3_eryln_n7t_19871219.txt',\n",
        "    True)\n",
        "("
       ]
      },
      {
       "output_type": "stream",
       "stream": "stdout",
       "text": [
        "   '/opendap/hyrax/Nimbus7_TOMS_Level3/TOMSN7L3dery.008/1987/L3_eryln_n7t_19871220.txt',\n",
        "    'http://acdisc.gsfc.nasa.gov/opendap/hyrax//Nimbus7_TOMS_Level3/TOMSN7L3dery.008/1987/L3_eryln_n7t_19871220.txt',\n",
        "    True)\n",
        "("
       ]
      },
      {
       "output_type": "stream",
       "stream": "stdout",
       "text": [
        "   '/opendap/hyrax/Nimbus7_TOMS_Level3/TOMSN7L3dery.008/1987/L3_eryln_n7t_19871221.txt',\n",
        "    'http://acdisc.gsfc.nasa.gov/opendap/hyrax//Nimbus7_TOMS_Level3/TOMSN7L3dery.008/1987/L3_eryln_n7t_19871221.txt',\n",
        "    True)\n",
        "("
       ]
      },
      {
       "output_type": "stream",
       "stream": "stdout",
       "text": [
        "   '/opendap/hyrax/Nimbus7_TOMS_Level3/TOMSN7L3dery.008/1987/L3_eryln_n7t_19871222.txt',\n",
        "    'http://acdisc.gsfc.nasa.gov/opendap/hyrax//Nimbus7_TOMS_Level3/TOMSN7L3dery.008/1987/L3_eryln_n7t_19871222.txt',\n",
        "    True)\n",
        "("
       ]
      },
      {
       "output_type": "stream",
       "stream": "stdout",
       "text": [
        "   '/opendap/hyrax/Nimbus7_TOMS_Level3/TOMSN7L3dery.008/1987/L3_eryln_n7t_19871223.txt',\n",
        "    'http://acdisc.gsfc.nasa.gov/opendap/hyrax//Nimbus7_TOMS_Level3/TOMSN7L3dery.008/1987/L3_eryln_n7t_19871223.txt',\n",
        "    True)\n",
        "("
       ]
      },
      {
       "output_type": "stream",
       "stream": "stdout",
       "text": [
        "   '/opendap/hyrax/Nimbus7_TOMS_Level3/TOMSN7L3dery.008/1987/L3_eryln_n7t_19871224.txt',\n",
        "    'http://acdisc.gsfc.nasa.gov/opendap/hyrax//Nimbus7_TOMS_Level3/TOMSN7L3dery.008/1987/L3_eryln_n7t_19871224.txt',\n",
        "    True)\n",
        "("
       ]
      },
      {
       "output_type": "stream",
       "stream": "stdout",
       "text": [
        "   '/opendap/hyrax/Nimbus7_TOMS_Level3/TOMSN7L3dery.008/1987/L3_eryln_n7t_19871225.txt',\n",
        "    'http://acdisc.gsfc.nasa.gov/opendap/hyrax//Nimbus7_TOMS_Level3/TOMSN7L3dery.008/1987/L3_eryln_n7t_19871225.txt',\n",
        "    True)\n",
        "("
       ]
      },
      {
       "output_type": "stream",
       "stream": "stdout",
       "text": [
        "   '/opendap/hyrax/Nimbus7_TOMS_Level3/TOMSN7L3dery.008/1987/L3_eryln_n7t_19871226.txt',\n",
        "    'http://acdisc.gsfc.nasa.gov/opendap/hyrax//Nimbus7_TOMS_Level3/TOMSN7L3dery.008/1987/L3_eryln_n7t_19871226.txt',\n",
        "    True)\n",
        "("
       ]
      },
      {
       "output_type": "stream",
       "stream": "stdout",
       "text": [
        "   '/opendap/hyrax/Nimbus7_TOMS_Level3/TOMSN7L3dery.008/1987/L3_eryln_n7t_19871227.txt',\n",
        "    'http://acdisc.gsfc.nasa.gov/opendap/hyrax//Nimbus7_TOMS_Level3/TOMSN7L3dery.008/1987/L3_eryln_n7t_19871227.txt',\n",
        "    True)\n",
        "("
       ]
      },
      {
       "output_type": "stream",
       "stream": "stdout",
       "text": [
        "   '/opendap/hyrax/Nimbus7_TOMS_Level3/TOMSN7L3dery.008/1987/L3_eryln_n7t_19871228.txt',\n",
        "    'http://acdisc.gsfc.nasa.gov/opendap/hyrax//Nimbus7_TOMS_Level3/TOMSN7L3dery.008/1987/L3_eryln_n7t_19871228.txt',\n",
        "    True)\n",
        "("
       ]
      },
      {
       "output_type": "stream",
       "stream": "stdout",
       "text": [
        "   '/opendap/hyrax/Nimbus7_TOMS_Level3/TOMSN7L3dery.008/1987/L3_eryln_n7t_19871229.txt',\n",
        "    'http://acdisc.gsfc.nasa.gov/opendap/hyrax//Nimbus7_TOMS_Level3/TOMSN7L3dery.008/1987/L3_eryln_n7t_19871229.txt',\n",
        "    True)\n",
        "("
       ]
      },
      {
       "output_type": "stream",
       "stream": "stdout",
       "text": [
        "   '/opendap/hyrax/Nimbus7_TOMS_Level3/TOMSN7L3dery.008/1987/L3_eryln_n7t_19871230.txt',\n",
        "    'http://acdisc.gsfc.nasa.gov/opendap/hyrax//Nimbus7_TOMS_Level3/TOMSN7L3dery.008/1987/L3_eryln_n7t_19871230.txt',\n",
        "    True)\n",
        "("
       ]
      },
      {
       "output_type": "stream",
       "stream": "stdout",
       "text": [
        "   '/opendap/hyrax/Nimbus7_TOMS_Level3/TOMSN7L3dery.008/1987/L3_eryln_n7t_19871231.txt',\n",
        "    'http://acdisc.gsfc.nasa.gov/opendap/hyrax//Nimbus7_TOMS_Level3/TOMSN7L3dery.008/1987/L3_eryln_n7t_19871231.txt',\n",
        "    True)\n",
        "("
       ]
      },
      {
       "output_type": "stream",
       "stream": "stdout",
       "text": [
        "   'http://acdisc.gsfc.nasa.gov/opendap/Nimbus7_TOMS_Level3/TOMSN7L3dery.008/1987/catalog.xml',\n",
        "    'http://acdisc.gsfc.nasa.gov/opendap/Nimbus7_TOMS_Level3/TOMSN7L3dery.008/catalog.xml',\n",
        "    True)\n"
       ]
      }
     ],
     "prompt_number": 49
    },
    {
     "cell_type": "code",
     "collapsed": false,
     "input": [],
     "language": "python",
     "metadata": {},
     "outputs": []
    }
   ],
   "metadata": {}
  }
 ]
}