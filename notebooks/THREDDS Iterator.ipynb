{
 "metadata": {
  "name": "",
  "signature": "sha256:6536b4cf321d5ea8bd4b2c97b808204c18c645c12538ab38b17c5763d525c18b"
 },
 "nbformat": 3,
 "nbformat_minor": 0,
 "worksheets": [
  {
   "cells": [
    {
     "cell_type": "markdown",
     "metadata": {},
     "source": [
      "## Generating a THREDDS catalog tree from an unknown catalog entry point\n",
      "\n",
      "Proof of concept iterator to move and down a THREDDS server to generate the compete tree from an unknown starting point (provided it is a catalog.xml response). This makes no assumptions about the version of THREDDS running.\n",
      "\n",
      "For any catalog entry point, gather all catalogRef and dataset elements (metadata elements if they support a URL), generate all endpoints for those elements based on defined services (iso, opendap, wcs, etc), generate the URL for the child referenced by the element, and generate a \"best guess\" for the next higher level catalog page.\n",
      "\n",
      "For reference, there is also this bit of Python: https://github.com/asascience-open/thredds_crawler\n",
      "\n",
      "that takes a root catalog URL and generates the tree moving downstream. It is limited to the one version which likely means it won't handle the relative path variations found through the crawler well. "
     ]
    },
    {
     "cell_type": "code",
     "collapsed": false,
     "input": [
      "%load_ext autoreload\n",
      "%autoreload 2\n",
      "\n",
      "from lxml import etree\n",
      "import requests\n",
      "import urlparse\n",
      "import pprint\n",
      "\n",
      "pp = pprint.PrettyPrinter(indent=4)\n",
      "\n",
      "def intersect_url(url, path, bases=[]):\n",
      "    '''\n",
      "    the generic path builder to handle all currently known thredds \n",
      "    structures.\n",
      "    \n",
      "    to generate the higher-level catalog.xml request:\n",
      "        intersect_url(source_url, '../catalog.xml')\n",
      "    \n",
      "    to generate the \"siblings\" based on the supported service set:\n",
      "        intersect_url(source_url, 'MyData/dataset_a.nc', ['/thredds/iso', '/thredds/wms'])\n",
      "        \n",
      "    to generate the current element's endpoint:\n",
      "        intersect_url(source_url, element.href)\n",
      "        # where href is going to be based on the element and version\n",
      "    '''\n",
      "    parts = urlparse.urlparse(path)\n",
      "    if parts.scheme and parts.netloc:\n",
      "        # it's a valid url, do nothing\n",
      "        return path\n",
      "\n",
      "    parts = urlparse.urlparse(url)\n",
      "    url_paths = parts.path.split('/')\n",
      "    paths = path.split('/')\n",
      "    \n",
      "    if bases:\n",
      "        return [urlparse.urlunparse((\n",
      "            parts.scheme,\n",
      "            parts.netloc,\n",
      "            '/'.join([b, path]),\n",
      "            parts.params,\n",
      "            parts.query,\n",
      "            parts.fragment\n",
      "        )) for b in bases]\n",
      "    \n",
      "    match_index = url_paths.index(paths[0]) if paths[0] in url_paths else -1\n",
      "    if match_index < 0:\n",
      "        return urlparse.urljoin(url.replace('catalog.xml', ''), path)\n",
      "    else:\n",
      "        return urlparse.urljoin(\n",
      "            urlparse.urlunparse(\n",
      "                (\n",
      "                    parts.scheme, \n",
      "                    parts.netloc, \n",
      "                    '/'.join(url_paths[0:match_index+1]), \n",
      "                     parts.params, \n",
      "                     parts.query, \n",
      "                     parts.fragment)\n",
      "                ),\n",
      "            path\n",
      "        ) \n",
      "\n",
      "def extract_element_tag(tag):\n",
      "    if not tag:\n",
      "        return\n",
      "    return tag.split('}')[-1]\n",
      "\n",
      "def test_url(url):\n",
      "    # basic url existence check - we only want 200s \n",
      "    # (and can update this later for redirects but that seems\n",
      "    #  unlikely from the server implementation point of view)\n",
      "    req = requests.head(url)\n",
      "    return req.status_code in [200]\n",
      "\n",
      "def parse_xml(xml_as_string, harvest_point):\n",
      "    # returns a list of tuples (id, endpoints, parentId)\n",
      "    xml = etree.fromstring(xml_as_string)\n",
      "    \n",
      "    endpoints = []\n",
      "    \n",
      "    # get the service block (bases are only in that nested structure)\n",
      "    services = xml.xpath('//*[local-name()=\"service\" and @base != \"\"]')\n",
      "    service_bases = list(set([s.attrib.get('base') for s in services]))\n",
      "    \n",
      "    # check for datasets\n",
      "    datasets = xml.xpath('//*[local-name()=\"dataset\"]')\n",
      "    for dataset in datasets:\n",
      "        dataset_id = dataset.attrib.get('ID', '')\n",
      "        url_base = dataset.attrib.get('urlPath', '')\n",
      "        if not url_base:\n",
      "            # try the element version\n",
      "            ub = next(iter(dataset.xpath('*[local-name()=\"access\"]')), None)\n",
      "            url_base = ub.attrib.get('urlPath', '') if ub is not None else ''\n",
      "        if not url_base:\n",
      "            continue\n",
      "        \n",
      "        parent_id = dataset.getparent().attrib.get('ID', harvest_point)\n",
      "        dataset_endpoints = [intersect_url(harvest_point, url_base)]\n",
      "        if service_bases:\n",
      "            dataset_endpoints += intersect_url(harvest_point, url_base, service_bases)\n",
      "\n",
      "        endpoints.append((dataset_id, list(set(dataset_endpoints)), parent_id))\n",
      "    \n",
      "    # check for catalogRefs at root\n",
      "    catalog_refs = xml.xpath('//*[local-name()=\"catalogRef\"]')\n",
      "    print 'catrefs', len(catalog_refs)\n",
      "    for catalog_ref in catalog_refs:\n",
      "        catalog_id = catalog_ref.attrib.get('ID', '')\n",
      "        if not catalog_id:\n",
      "            print 'no id att'\n",
      "            continue\n",
      "        catalog_base = catalog_ref.attrib.get('{http://www.w3.org/1999/xlink}href', '')\n",
      "        if not catalog_base:\n",
      "            print 'no href att'\n",
      "            continue\n",
      "            \n",
      "        parent_id = catalog_ref.getparent().attrib.get('ID', harvest_point)\n",
      "        endpoints.append((catalog_id, [intersect_url(harvest_point, catalog_base)], parent_id))\n",
      "    \n",
      "    # and add the higher-level catalog\n",
      "    parent = intersect_url(harvest_point, '../catalog.xml')\n",
      "    endpoints.append((harvest_point, [parent], parent))\n",
      "    \n",
      "    return endpoints\n",
      "    \n",
      "def harvest(url, endpoints):\n",
      "    pass"
     ],
     "language": "python",
     "metadata": {},
     "outputs": [
      {
       "output_type": "stream",
       "stream": "stdout",
       "text": [
        "The autoreload extension is already loaded. To reload it, use:\n",
        "  %reload_ext autoreload\n"
       ]
      }
     ],
     "prompt_number": 25
    },
    {
     "cell_type": "code",
     "collapsed": false,
     "input": [
      "'''\n",
      "execution\n",
      "\n",
      "from the access point, create the set of urls to test\n",
      "test the urls\n",
      "\n",
      "get a json? tree of catalog url [harvested urls]\n",
      "\n",
      "NOTE: if dataset element, the terminus contains a dataSize element (that\n",
      "      is the data file, do not execute any GET). these are also the ONLY\n",
      "      urls to generate using the base option.\n",
      "\n",
      "'''\n",
      "tree = []\n",
      "\n",
      "# um, what happened? the catalog isn't being returned?\n",
      "# harvest_point = 'http://stellwagen.er.usgs.gov/thredds/catalog/TSdata/DEEP_REEF/catalog.xml'\n",
      "\n",
      "\n",
      "harvest_point = 'http://acdisc.gsfc.nasa.gov/opendap/Nimbus7_TOMS_Level3/catalog.xml'\n",
      "req = requests.get(harvest_point)\n",
      "if req.status_code != 200:\n",
      "    print req.content\n",
      "    \n",
      "endpoints = parse_xml(req.content, harvest_point)\n",
      "#pp.pprint(endpoints)\n",
      "\n",
      "# let's just see if those are ok links with some HEAD requests\n",
      "for objid, endpoint, parentid in endpoints:\n",
      "    is_valid = test_url(endpoint[0])\n",
      "    #pp.pprint((objid, endpoint[0], is_valid))\n"
     ],
     "language": "python",
     "metadata": {},
     "outputs": [
      {
       "output_type": "stream",
       "stream": "stdout",
       "text": [
        "catrefs 13\n",
        "[   (   '/opendap/hyrax/Nimbus7_TOMS_Level3/TOMSN7L3.008/',\n",
        "        [   'http://acdisc.gsfc.nasa.gov/opendap/Nimbus7_TOMS_Level3/TOMSN7L3.008/catalog.xml'],\n",
        "        '/opendap/hyrax/Nimbus7_TOMS_Level3/'),\n",
        "    (   '/opendap/hyrax/Nimbus7_TOMS_Level3/TOMSN7L3daer.008/',\n",
        "        [   'http://acdisc.gsfc.nasa.gov/opendap/Nimbus7_TOMS_Level3/TOMSN7L3daer.008/catalog.xml'],\n",
        "        '/opendap/hyrax/Nimbus7_TOMS_Level3/'),\n",
        "    (   '/opendap/hyrax/Nimbus7_TOMS_Level3/TOMSN7L3dery.008/',\n",
        "        [   'http://acdisc.gsfc.nasa.gov/opendap/Nimbus7_TOMS_Level3/TOMSN7L3dery.008/catalog.xml'],\n",
        "        '/opendap/hyrax/Nimbus7_TOMS_Level3/'),\n",
        "    (   '/opendap/hyrax/Nimbus7_TOMS_Level3/TOMSN7L3dref.008/',\n",
        "        [   'http://acdisc.gsfc.nasa.gov/opendap/Nimbus7_TOMS_Level3/TOMSN7L3dref.008/catalog.xml'],\n",
        "        '/opendap/hyrax/Nimbus7_TOMS_Level3/'),\n",
        "    (   '/opendap/hyrax/Nimbus7_TOMS_Level3/TOMSN7L3dtoz.008/',\n",
        "        [   'http://acdisc.gsfc.nasa.gov/opendap/Nimbus7_TOMS_Level3/TOMSN7L3dtoz.008/catalog.xml'],\n",
        "        '/opendap/hyrax/Nimbus7_TOMS_Level3/'),\n",
        "    (   '/opendap/hyrax/Nimbus7_TOMS_Level3/TOMSN7L3maer.008/',\n",
        "        [   'http://acdisc.gsfc.nasa.gov/opendap/Nimbus7_TOMS_Level3/TOMSN7L3maer.008/catalog.xml'],\n",
        "        '/opendap/hyrax/Nimbus7_TOMS_Level3/'),\n",
        "    (   '/opendap/hyrax/Nimbus7_TOMS_Level3/TOMSN7L3mery.008/',\n",
        "        [   'http://acdisc.gsfc.nasa.gov/opendap/Nimbus7_TOMS_Level3/TOMSN7L3mery.008/catalog.xml'],\n",
        "        '/opendap/hyrax/Nimbus7_TOMS_Level3/'),\n",
        "    (   '/opendap/hyrax/Nimbus7_TOMS_Level3/TOMSN7L3mref.008/',\n",
        "        [   'http://acdisc.gsfc.nasa.gov/opendap/Nimbus7_TOMS_Level3/TOMSN7L3mref.008/catalog.xml'],\n",
        "        '/opendap/hyrax/Nimbus7_TOMS_Level3/'),\n",
        "    (   '/opendap/hyrax/Nimbus7_TOMS_Level3/TOMSN7L3mtoz.008/',\n",
        "        [   'http://acdisc.gsfc.nasa.gov/opendap/Nimbus7_TOMS_Level3/TOMSN7L3mtoz.008/catalog.xml'],\n",
        "        '/opendap/hyrax/Nimbus7_TOMS_Level3/'),\n",
        "    (   '/opendap/hyrax/Nimbus7_TOMS_Level3/TOMSN7L3zaer.008/',\n",
        "        [   'http://acdisc.gsfc.nasa.gov/opendap/Nimbus7_TOMS_Level3/TOMSN7L3zaer.008/catalog.xml'],\n",
        "        '/opendap/hyrax/Nimbus7_TOMS_Level3/'),\n",
        "    (   '/opendap/hyrax/Nimbus7_TOMS_Level3/TOMSN7L3zref.008/',\n",
        "        [   'http://acdisc.gsfc.nasa.gov/opendap/Nimbus7_TOMS_Level3/TOMSN7L3zref.008/catalog.xml'],\n",
        "        '/opendap/hyrax/Nimbus7_TOMS_Level3/'),\n",
        "    (   '/opendap/hyrax/Nimbus7_TOMS_Level3/TOMSN7L3ztoz.008/',\n",
        "        [   'http://acdisc.gsfc.nasa.gov/opendap/Nimbus7_TOMS_Level3/TOMSN7L3ztoz.008/catalog.xml'],\n",
        "        '/opendap/hyrax/Nimbus7_TOMS_Level3/'),\n",
        "    (   '/opendap/hyrax/Nimbus7_TOMS_Level3/TOMSN7OVP.008/',\n",
        "        [   'http://acdisc.gsfc.nasa.gov/opendap/Nimbus7_TOMS_Level3/TOMSN7OVP.008/catalog.xml'],\n",
        "        '/opendap/hyrax/Nimbus7_TOMS_Level3/'),\n",
        "    (   'http://acdisc.gsfc.nasa.gov/opendap/Nimbus7_TOMS_Level3/catalog.xml',\n",
        "        ['http://acdisc.gsfc.nasa.gov/opendap/catalog.xml'],\n",
        "        'http://acdisc.gsfc.nasa.gov/opendap/catalog.xml')]\n",
        "("
       ]
      },
      {
       "output_type": "stream",
       "stream": "stdout",
       "text": [
        "   '/opendap/hyrax/Nimbus7_TOMS_Level3/TOMSN7L3.008/',\n",
        "    'http://acdisc.gsfc.nasa.gov/opendap/Nimbus7_TOMS_Level3/TOMSN7L3.008/catalog.xml',\n",
        "    True)\n",
        "("
       ]
      },
      {
       "output_type": "stream",
       "stream": "stdout",
       "text": [
        "   '/opendap/hyrax/Nimbus7_TOMS_Level3/TOMSN7L3daer.008/',\n",
        "    'http://acdisc.gsfc.nasa.gov/opendap/Nimbus7_TOMS_Level3/TOMSN7L3daer.008/catalog.xml',\n",
        "    True)\n",
        "("
       ]
      },
      {
       "output_type": "stream",
       "stream": "stdout",
       "text": [
        "   '/opendap/hyrax/Nimbus7_TOMS_Level3/TOMSN7L3dery.008/',\n",
        "    'http://acdisc.gsfc.nasa.gov/opendap/Nimbus7_TOMS_Level3/TOMSN7L3dery.008/catalog.xml',\n",
        "    True)\n",
        "("
       ]
      },
      {
       "output_type": "stream",
       "stream": "stdout",
       "text": [
        "   '/opendap/hyrax/Nimbus7_TOMS_Level3/TOMSN7L3dref.008/',\n",
        "    'http://acdisc.gsfc.nasa.gov/opendap/Nimbus7_TOMS_Level3/TOMSN7L3dref.008/catalog.xml',\n",
        "    True)\n",
        "("
       ]
      },
      {
       "output_type": "stream",
       "stream": "stdout",
       "text": [
        "   '/opendap/hyrax/Nimbus7_TOMS_Level3/TOMSN7L3dtoz.008/',\n",
        "    'http://acdisc.gsfc.nasa.gov/opendap/Nimbus7_TOMS_Level3/TOMSN7L3dtoz.008/catalog.xml',\n",
        "    True)\n",
        "("
       ]
      },
      {
       "output_type": "stream",
       "stream": "stdout",
       "text": [
        "   '/opendap/hyrax/Nimbus7_TOMS_Level3/TOMSN7L3maer.008/',\n",
        "    'http://acdisc.gsfc.nasa.gov/opendap/Nimbus7_TOMS_Level3/TOMSN7L3maer.008/catalog.xml',\n",
        "    True)\n",
        "("
       ]
      },
      {
       "output_type": "stream",
       "stream": "stdout",
       "text": [
        "   '/opendap/hyrax/Nimbus7_TOMS_Level3/TOMSN7L3mery.008/',\n",
        "    'http://acdisc.gsfc.nasa.gov/opendap/Nimbus7_TOMS_Level3/TOMSN7L3mery.008/catalog.xml',\n",
        "    True)\n",
        "("
       ]
      },
      {
       "output_type": "stream",
       "stream": "stdout",
       "text": [
        "   '/opendap/hyrax/Nimbus7_TOMS_Level3/TOMSN7L3mref.008/',\n",
        "    'http://acdisc.gsfc.nasa.gov/opendap/Nimbus7_TOMS_Level3/TOMSN7L3mref.008/catalog.xml',\n",
        "    True)\n",
        "("
       ]
      },
      {
       "output_type": "stream",
       "stream": "stdout",
       "text": [
        "   '/opendap/hyrax/Nimbus7_TOMS_Level3/TOMSN7L3mtoz.008/',\n",
        "    'http://acdisc.gsfc.nasa.gov/opendap/Nimbus7_TOMS_Level3/TOMSN7L3mtoz.008/catalog.xml',\n",
        "    True)\n",
        "("
       ]
      },
      {
       "output_type": "stream",
       "stream": "stdout",
       "text": [
        "   '/opendap/hyrax/Nimbus7_TOMS_Level3/TOMSN7L3zaer.008/',\n",
        "    'http://acdisc.gsfc.nasa.gov/opendap/Nimbus7_TOMS_Level3/TOMSN7L3zaer.008/catalog.xml',\n",
        "    True)\n",
        "("
       ]
      },
      {
       "output_type": "stream",
       "stream": "stdout",
       "text": [
        "   '/opendap/hyrax/Nimbus7_TOMS_Level3/TOMSN7L3zref.008/',\n",
        "    'http://acdisc.gsfc.nasa.gov/opendap/Nimbus7_TOMS_Level3/TOMSN7L3zref.008/catalog.xml',\n",
        "    True)\n",
        "("
       ]
      },
      {
       "output_type": "stream",
       "stream": "stdout",
       "text": [
        "   '/opendap/hyrax/Nimbus7_TOMS_Level3/TOMSN7L3ztoz.008/',\n",
        "    'http://acdisc.gsfc.nasa.gov/opendap/Nimbus7_TOMS_Level3/TOMSN7L3ztoz.008/catalog.xml',\n",
        "    True)\n",
        "("
       ]
      },
      {
       "output_type": "stream",
       "stream": "stdout",
       "text": [
        "   '/opendap/hyrax/Nimbus7_TOMS_Level3/TOMSN7OVP.008/',\n",
        "    'http://acdisc.gsfc.nasa.gov/opendap/Nimbus7_TOMS_Level3/TOMSN7OVP.008/catalog.xml',\n",
        "    True)\n",
        "("
       ]
      },
      {
       "output_type": "stream",
       "stream": "stdout",
       "text": [
        "   'http://acdisc.gsfc.nasa.gov/opendap/Nimbus7_TOMS_Level3/catalog.xml',\n",
        "    'http://acdisc.gsfc.nasa.gov/opendap/catalog.xml',\n",
        "    True)\n"
       ]
      }
     ],
     "prompt_number": 19
    },
    {
     "cell_type": "code",
     "collapsed": false,
     "input": [
      "harvest_point = 'http://acdisc.gsfc.nasa.gov/opendap/catalog.xml'\n",
      "\n",
      "# once more with emphasis\n",
      "req = requests.get(harvest_point)\n",
      "if req.status_code != 200:\n",
      "    print req.content\n",
      "    \n",
      "endpoints = parse_xml(req.content, harvest_point)\n",
      "pp.pprint(endpoints)\n",
      "\n",
      "# let's just see if those are ok links with some HEAD requests\n",
      "for objid, endpoint, parentid in endpoints:\n",
      "    is_valid = test_url(endpoint[0])\n",
      "    pp.pprint((objid, endpoint[0], is_valid))"
     ],
     "language": "python",
     "metadata": {},
     "outputs": [
      {
       "output_type": "stream",
       "stream": "stdout",
       "text": [
        "catrefs 9\n",
        "[   (   '/opendap/hyrax/HDF-EOS5.README',\n",
        "        [   'http://acdisc.gsfc.nasa.gov/HDF-EOS5.README',\n",
        "            'http://acdisc.gsfc.nasa.gov/opendap/hyrax//HDF-EOS5.README'],\n",
        "        '/opendap/hyrax/'),\n",
        "    (   '/opendap/hyrax/Aqua_AIRS_Level3/',\n",
        "        ['http://acdisc.gsfc.nasa.gov/opendap/Aqua_AIRS_Level3/catalog.xml'],\n",
        "        '/opendap/hyrax/'),\n",
        "    (   '/opendap/hyrax/Aqua_MODIS_Level3/',\n",
        "        ['http://acdisc.gsfc.nasa.gov/opendap/Aqua_MODIS_Level3/catalog.xml'],\n",
        "        '/opendap/hyrax/'),\n",
        "    (   '/opendap/hyrax/Catalog/',\n",
        "        ['http://acdisc.gsfc.nasa.gov/opendap/Catalog/catalog.xml'],\n",
        "        '/opendap/hyrax/'),\n",
        "    (   '/opendap/hyrax/EarthProbe_TOMS_Level3/',\n",
        "        [   'http://acdisc.gsfc.nasa.gov/opendap/EarthProbe_TOMS_Level3/catalog.xml'],\n",
        "        '/opendap/hyrax/'),\n",
        "    (   '/opendap/hyrax/HDF-EOS5/',\n",
        "        ['http://acdisc.gsfc.nasa.gov/opendap/HDF-EOS5/catalog.xml'],\n",
        "        '/opendap/hyrax/'),\n",
        "    (   '/opendap/hyrax/Meteor3_TOMS_Level3/',\n",
        "        [   'http://acdisc.gsfc.nasa.gov/opendap/Meteor3_TOMS_Level3/catalog.xml'],\n",
        "        '/opendap/hyrax/'),\n",
        "    (   '/opendap/hyrax/Nimbus7_TOMS_Level3/',\n",
        "        [   'http://acdisc.gsfc.nasa.gov/opendap/Nimbus7_TOMS_Level3/catalog.xml'],\n",
        "        '/opendap/hyrax/'),\n",
        "    (   '/opendap/hyrax/Terra_MODIS_Level3/',\n",
        "        [   'http://acdisc.gsfc.nasa.gov/opendap/Terra_MODIS_Level3/catalog.xml'],\n",
        "        '/opendap/hyrax/'),\n",
        "    (   '/opendap/hyrax/ncml/',\n",
        "        ['http://acdisc.gsfc.nasa.gov/opendap/ncml/catalog.xml'],\n",
        "        '/opendap/hyrax/'),\n",
        "    (   'http://acdisc.gsfc.nasa.gov/opendap/catalog.xml',\n",
        "        ['http://acdisc.gsfc.nasa.gov/catalog.xml'],\n",
        "        'http://acdisc.gsfc.nasa.gov/catalog.xml')]\n",
        "("
       ]
      },
      {
       "output_type": "stream",
       "stream": "stdout",
       "text": [
        "   '/opendap/hyrax/HDF-EOS5.README',\n",
        "    'http://acdisc.gsfc.nasa.gov/HDF-EOS5.README',\n",
        "    False)\n",
        "("
       ]
      },
      {
       "output_type": "stream",
       "stream": "stdout",
       "text": [
        "   '/opendap/hyrax/Aqua_AIRS_Level3/',\n",
        "    'http://acdisc.gsfc.nasa.gov/opendap/Aqua_AIRS_Level3/catalog.xml',\n",
        "    True)\n",
        "("
       ]
      },
      {
       "output_type": "stream",
       "stream": "stdout",
       "text": [
        "   '/opendap/hyrax/Aqua_MODIS_Level3/',\n",
        "    'http://acdisc.gsfc.nasa.gov/opendap/Aqua_MODIS_Level3/catalog.xml',\n",
        "    True)\n",
        "("
       ]
      },
      {
       "output_type": "stream",
       "stream": "stdout",
       "text": [
        "   '/opendap/hyrax/Catalog/',\n",
        "    'http://acdisc.gsfc.nasa.gov/opendap/Catalog/catalog.xml',\n",
        "    True)\n",
        "("
       ]
      },
      {
       "output_type": "stream",
       "stream": "stdout",
       "text": [
        "   '/opendap/hyrax/EarthProbe_TOMS_Level3/',\n",
        "    'http://acdisc.gsfc.nasa.gov/opendap/EarthProbe_TOMS_Level3/catalog.xml',\n",
        "    True)\n",
        "("
       ]
      },
      {
       "output_type": "stream",
       "stream": "stdout",
       "text": [
        "   '/opendap/hyrax/HDF-EOS5/',\n",
        "    'http://acdisc.gsfc.nasa.gov/opendap/HDF-EOS5/catalog.xml',\n",
        "    True)\n",
        "("
       ]
      },
      {
       "output_type": "stream",
       "stream": "stdout",
       "text": [
        "   '/opendap/hyrax/Meteor3_TOMS_Level3/',\n",
        "    'http://acdisc.gsfc.nasa.gov/opendap/Meteor3_TOMS_Level3/catalog.xml',\n",
        "    True)\n",
        "("
       ]
      },
      {
       "output_type": "stream",
       "stream": "stdout",
       "text": [
        "   '/opendap/hyrax/Nimbus7_TOMS_Level3/',\n",
        "    'http://acdisc.gsfc.nasa.gov/opendap/Nimbus7_TOMS_Level3/catalog.xml',\n",
        "    True)\n",
        "("
       ]
      },
      {
       "output_type": "stream",
       "stream": "stdout",
       "text": [
        "   '/opendap/hyrax/Terra_MODIS_Level3/',\n",
        "    'http://acdisc.gsfc.nasa.gov/opendap/Terra_MODIS_Level3/catalog.xml',\n",
        "    True)\n",
        "("
       ]
      },
      {
       "output_type": "stream",
       "stream": "stdout",
       "text": [
        "   '/opendap/hyrax/ncml/',\n",
        "    'http://acdisc.gsfc.nasa.gov/opendap/ncml/catalog.xml',\n",
        "    True)\n",
        "("
       ]
      },
      {
       "output_type": "stream",
       "stream": "stdout",
       "text": [
        "   'http://acdisc.gsfc.nasa.gov/opendap/catalog.xml',\n",
        "    'http://acdisc.gsfc.nasa.gov/catalog.xml',\n",
        "    False)\n"
       ]
      }
     ],
     "prompt_number": 26
    },
    {
     "cell_type": "code",
     "collapsed": false,
     "input": [],
     "language": "python",
     "metadata": {},
     "outputs": []
    }
   ],
   "metadata": {}
  }
 ]
}