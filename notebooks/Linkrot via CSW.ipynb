{
 "metadata": {
  "name": "",
  "signature": "sha256:7251e10d6d7357385aaf396ad6ecd576887926948b2ad686608120348dcd0fdd"
 },
 "nbformat": 3,
 "nbformat_minor": 0,
 "worksheets": [
  {
   "cells": [
    {
     "cell_type": "markdown",
     "metadata": {},
     "source": [
      "### Quick Exploration of linkrot in data.gov harvested metadata\n",
      "\n",
      "Using the CSW endpoint and some sampling per 100 items.\n",
      "\n",
      "This is not looking at linkrot in the harvest endpoints themselves but the links included in the metadata harvested. So the harvest source is still live, possibly unchanged from the initial harvest, and served through data.gov but the links referenced *within* the metadata record are no longer available for some reason. \n",
      "\n",
      "Steps: \n",
      "\n",
      "1. get the CSW GetCapabilities\n",
      "2. make a getrecords/@hits request to know how many isos we'll find\n",
      "3. "
     ]
    },
    {
     "cell_type": "code",
     "collapsed": false,
     "input": [
      "from owslib.csw import CatalogueServiceWeb\n",
      "from lxml import etree\n",
      "import random \n",
      "import requests\n",
      "\n",
      "_csw_service = 'http://catalog.data.gov/csw'\n",
      "_csw_version = '2.0.2'\n",
      "\n",
      "_sample_size = 10\n",
      "_request_size = 100\n"
     ],
     "language": "python",
     "metadata": {},
     "outputs": [],
     "prompt_number": 14
    },
    {
     "cell_type": "code",
     "collapsed": false,
     "input": [
      "init_csw = CatalogueServiceWeb(_csw_service, version=_csw_version)"
     ],
     "language": "python",
     "metadata": {},
     "outputs": [],
     "prompt_number": 15
    },
    {
     "cell_type": "code",
     "collapsed": false,
     "input": [
      "# make the initial getrecords request to get the total number of things\n",
      "# which is doing bupkus. \n",
      "hit_request = init_csw.getrecords2(typenames='gmd:MD_Metadata', \n",
      "                                outputschema='http://www.isotc211.org/2005/gmd', \n",
      "                                resulttype='hits',\n",
      "                                format='application/xml')\n",
      "hit_request"
     ],
     "language": "python",
     "metadata": {},
     "outputs": [],
     "prompt_number": 17
    },
    {
     "cell_type": "code",
     "collapsed": false,
     "input": [
      "# so we'll do it by hand. \n",
      "hit_req = requests.get('http://catalog.data.gov/csw?service=CSW&request=GetRecords&version=2.0.2&outputFormat=application/xml&outputSchema=http://www.isotc211.org/2005/gmd&resultType=hits&typeNames=gmd:MD_Metadata&ElementSetName=summary')\n",
      "\n",
      "if hit_req.status_code != 200:\n",
      "    print hit_req.content"
     ],
     "language": "python",
     "metadata": {},
     "outputs": []
    },
    {
     "cell_type": "code",
     "collapsed": false,
     "input": [
      "xml = etree.fromstring(hit_req.content)\n",
      "\n",
      "total = xml.xpath('//*[local-name()=\"searchResults\"]/@*[local-name()=\"numberOfRecordsMatched\"]')\n",
      "total"
     ],
     "language": "python",
     "metadata": {},
     "outputs": []
    },
    {
     "cell_type": "code",
     "collapsed": false,
     "input": [
      "# okay. so we need to iterate over the service \n",
      "# i think pull down the brief/summary\n",
      "# get the id to pull by id later\n",
      "# (so pull sample and then ping one by one because the service is not speedy)"
     ],
     "language": "python",
     "metadata": {},
     "outputs": []
    },
    {
     "cell_type": "code",
     "collapsed": false,
     "input": [
      "<?xml version=\"1.0\" encoding=\"UTF-8\" standalone=\"no\"?>\n",
      "<!-- pycsw 1.10.1 -->\n",
      "<csw:GetRecordsResponse \n",
      "    xmlns:dc=\"http://purl.org/dc/elements/1.1/\" \n",
      "    xmlns:inspire_common=\"http://inspire.ec.europa.eu/schemas/common/1.0\" \n",
      "    xmlns:atom=\"http://www.w3.org/2005/Atom\" \n",
      "    xmlns:xs=\"http://www.w3.org/2001/XMLSchema\" \n",
      "    xmlns:dct=\"http://purl.org/dc/terms/\" \n",
      "    xmlns:ows=\"http://www.opengis.net/ows\" \n",
      "    xmlns:apiso=\"http://www.opengis.net/cat/csw/apiso/1.0\" \n",
      "    xmlns:gml=\"http://www.opengis.net/gml\" \n",
      "    xmlns:dif=\"http://gcmd.gsfc.nasa.gov/Aboutus/xml/dif/\" \n",
      "    xmlns:xlink=\"http://www.w3.org/1999/xlink\" \n",
      "    xmlns:gco=\"http://www.isotc211.org/2005/gco\" \n",
      "    xmlns:gmd=\"http://www.isotc211.org/2005/gmd\" \n",
      "    xmlns:rdf=\"http://www.w3.org/1999/02/22-rdf-syntax-ns#\" \n",
      "    xmlns:srv=\"http://www.isotc211.org/2005/srv\" \n",
      "    xmlns:ogc=\"http://www.opengis.net/ogc\" \n",
      "    xmlns:fgdc=\"http://www.opengis.net/cat/csw/csdgm\" \n",
      "    xmlns:inspire_ds=\"http://inspire.ec.europa.eu/schemas/inspire_ds/1.0\" \n",
      "    xmlns:csw=\"http://www.opengis.net/cat/csw/2.0.2\" \n",
      "    xmlns:xsi=\"http://www.w3.org/2001/XMLSchema-instance\" \n",
      "    xmlns:os=\"http://a9.com/-/spec/opensearch/1.1/\" \n",
      "    xmlns:soapenv=\"http://www.w3.org/2003/05/soap-envelope\" \n",
      "    xmlns:sitemap=\"http://www.sitemaps.org/schemas/sitemap/0.9\" version=\"2.0.2\" xsi:schemaLocation=\"http://www.opengis.net/cat/csw/2.0.2 http://schemas.opengis.net/csw/2.0.2/CSW-discovery.xsd\">\n",
      "    <csw:SearchStatus timestamp=\"2015-04-22T02:55:48Z\"/>\n",
      "    <csw:SearchResults nextRecord=\"11\" numberOfRecordsMatched=\"102884\" numberOfRecordsReturned=\"10\" recordSchema=\"http://www.isotc211.org/2005/gmd\" elementSet=\"summary\"/>\n",
      "</csw:GetRecordsResponse>"
     ],
     "language": "python",
     "metadata": {},
     "outputs": []
    }
   ],
   "metadata": {}
  }
 ]
}