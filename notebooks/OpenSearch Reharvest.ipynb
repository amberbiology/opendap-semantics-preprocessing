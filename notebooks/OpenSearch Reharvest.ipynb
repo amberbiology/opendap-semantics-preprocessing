{
 "metadata": {
  "name": "",
  "signature": "sha256:61587ea940527b5515e6175b45ff3203e6830a6855122a2ae0cd168d75a74fd6"
 },
 "nbformat": 3,
 "nbformat_minor": 0,
 "worksheets": [
  {
   "cells": [
    {
     "cell_type": "markdown",
     "metadata": {},
     "source": [
      "This notebook contains working notes for identifying types of OpenSearch OSDD responses (catalog | dataset | granule | other) and requirements for semi-generic parsing. So no explicit namespacing and liberal use of xpath."
     ]
    },
    {
     "cell_type": "heading",
     "level": 3,
     "metadata": {},
     "source": [
      "Prep Work "
     ]
    },
    {
     "cell_type": "code",
     "collapsed": false,
     "input": [
      "import requests\n",
      "import json\n",
      "from lxml import etree\n",
      "import urlparse\n",
      "import urllib\n",
      "from bs4 import BeautifulSoup\n",
      "from itertools import chain\n",
      "\n",
      "def extract_urls(xml):\n",
      "    return xml.xpath('//*[local-name()=\"Url\" and (@*[local-name()=\"type\"]=\"application/atom+xml\" or @*[local-name()=\"type\"]=\"text/atom+xml\")]')\n",
      "\n",
      "def extract_template(url, append_limit=True):\n",
      "    # get the base url from the template\n",
      "    template_parts = urlparse.urlparse(url)\n",
      "    base_url = urlparse.urlunparse((\n",
      "        template_parts.scheme,\n",
      "        template_parts.netloc,\n",
      "        template_parts.path,\n",
      "        None,\n",
      "        None,\n",
      "        None\n",
      "    ))\n",
      "\n",
      "    qp = {k: v[0] for k, v in urlparse.parse_qs(template_parts.query).iteritems()}\n",
      "\n",
      "    # get the hard-coded params\n",
      "    defaults = {k:v for k, v in qp.iteritems() \n",
      "            if not v.startswith('{') \n",
      "            and not v.endswith('}')}\n",
      "\n",
      "    if append_limit:\n",
      "        defaults['itemsPerPage'] = 5\n",
      "    \n",
      "    # get the rest (and ignore the optional/namespaces)\n",
      "    parameters = {k: v[1:-1] for k, v in qp.iteritems() \n",
      "            if v.startswith('{') \n",
      "            and v.endswith('}')}\n",
      "    \n",
      "    # return the base, defaults as string, parameters as dict\n",
      "    return base_url, urllib.urlencode(defaults.items()), parameters\n",
      "\n",
      "def extract_catalog_parameters(params):\n",
      "    # we are making the assumption that a catalog search\n",
      "    # uses the default searchTerms so go find a parameter\n",
      "    # value, regardless of namespace or optionality, for that\n",
      "    # can't assume much about the key, fyi, and not great for\n",
      "    # any future xpath needs\n",
      "    \n",
      "    terms = {\n",
      "                k: v.split(':')[-1].replace('?', '') for k, v \n",
      "                in params.iteritems() \n",
      "                if 'searchTerms' in v\n",
      "            }\n",
      "    return terms\n",
      "\n",
      "def extract_query_terms(xml, param_name):\n",
      "    # find a query element that contains an example\n",
      "    # for the provided param_name (no namespace, no optional flag)\n",
      "    example_queries = {}\n",
      "    xp = '//*[local-name()=\"Query\" and @*[local-name()=\"role\"]=\"example\"]/@*[local-name()=\"{0}\"]'.format(param_name)\n",
      "    try:\n",
      "        example_queries = xml.xpath(xp)\n",
      "    except:\n",
      "        print 'failed example query: ', xp\n",
      "        return []\n",
      "    \n",
      "    return example_queries\n",
      "    \n",
      "def extract_links_from_description(elem):\n",
      "    # for the html blobs embedded in the text()\n",
      "    # we don't really have much info about the links\n",
      "    # but at least it ignores cdata.\n",
      "    soup = BeautifulSoup(elem.text)\n",
      "    return [h.get('href') for h in soup.find_all('a')]\n",
      "    \n",
      "def extract_response_stats(xml):\n",
      "    total = next(iter(xml.xpath('//*[local-name()=\"totalResults\"]/text()')), 0)\n",
      "    subset = next(iter(xml.xpath('//*[local-name()=\"itemsPerPage\"]/text()')), 0)\n",
      "    return subset, total\n",
      "\n",
      "\n",
      "# from doug, see notes re: uptime\n",
      "cwic_links = [\n",
      "    'http://dap.onc.uvic.ca/erddap/opensearch1.1/description.xml',\n",
      "    'http://gcmd.gsfc.nasa.gov/KeywordSearch/default/openSearch.jsp?Portal=cwic',\n",
      "    'http://podaac.jpl.nasa.gov/ws/search/dataset/osd.xml',\n",
      "    'http://nsidc.org/api/opensearch/1.1/dataset/description',  \n",
      "    'http://ghrc.nsstc.nasa.gov/hydro/ghost.xml',\n",
      "    'http://mirador.gsfc.nasa.gov/mirador_dataset_opensearch.xml',\n",
      "    'http://eo-virtual-archive4.esa.int/search/ER02_SAR_RAW_0P/description',\n",
      "    'http://www1.usgs.gov/erddap/opensearch1.1/description.xml',\n",
      "    # 'http://bison.usgs.ornl.gov/doc/api.jsp',  # this is now a dead link\n",
      "    # 'http://ceocat.ccrs.nrcan.gc.ca/opensearch_description_document.xml',  # this is 403 access forbidden\n",
      "    # 'http://rs211980.rs.hosteurope.de/mule/os-description/',  # now 503 service down\n",
      "    'http://geo.spacebel.be/opensearch/description.xml'  # from the fedeo documentation page listed\n",
      "]"
     ],
     "language": "python",
     "metadata": {},
     "outputs": [],
     "prompt_number": 125
    },
    {
     "cell_type": "code",
     "collapsed": false,
     "input": [
      "# processing the cwic services\n",
      "# Question 1: do we all have searchTerms parameters?\n",
      "\n",
      "for cwic_link in cwic_links:\n",
      "    print 'Processing {0}'.format(cwic_link)\n",
      "    \n",
      "    req = requests.get(cwic_link)\n",
      "    if req.status_code != 200:\n",
      "        print '\\tFailed request'\n",
      "        continue\n",
      "    \n",
      "    xml = etree.fromstring(req.content)\n",
      "    \n",
      "    extracted_url_elems = extract_urls(xml)\n",
      "    \n",
      "    for extracted_elem in extracted_url_elems:\n",
      "        template_base, template_defaults, template_params = extract_template(extracted_elem.attrib.get('template'))\n",
      "        \n",
      "        catalog_params = extract_catalog_parameters(template_params)\n",
      "        print '\\tCatalog searchTerms: ', catalog_params\n",
      "    \n",
      "        if not catalog_params:\n",
      "            continue\n",
      "        \n",
      "        query_examples = list(chain.from_iterable([extract_query_terms(xml, p) for p in catalog_params.values()]))\n",
      "        \n",
      "        print '\\tExample queries: ', query_examples\n",
      "  \n",
      "        # try two requests, one without the example text (just the empty key) and\n",
      "        # one with the term\n",
      "        first_request = template_base + '?' + '&'.join([template_defaults, catalog_params.keys()[0] + '='])\n",
      "        print '\\tProcessing {0}'.format(first_request)\n",
      "        first_req = requests.get(first_request)\n",
      "        if first_req.status_code != 200:\n",
      "            print '\\t\\tFailed request: {0}'.format(first_req.content)\n",
      "            \n",
      "        if not first_req.content:\n",
      "            print '\\t\\tEmpty response!'\n",
      "            continue\n",
      "            \n",
      "        extract_xml = etree.fromstring(first_req.content)\n",
      "        subset, total = extract_response_stats(extract_xml)\n",
      "        print '\\t\\tRequested {} out of {:,}'.format(subset, int(total))\n",
      "        \n",
      "        if query_examples:\n",
      "            test_query = {catalog_params.keys()[0]: query_examples[0]}\n",
      "            second_request = template_base + '?' + '&'.join(\n",
      "                [template_defaults, urllib.urlencode(test_query.items())]\n",
      "            )\n",
      "            print '\\t\\tProcessing {0}'.format(second_request)\n",
      "            second_req = requests.get(second_request)\n",
      "            if second_req.status_code != 200:\n",
      "                print '\\t\\t\\tFailed request: {0}'.format(second_req.content)\n",
      "            \n",
      "            if not second_req.content:\n",
      "                print '\\t\\tEmpty response!'\n",
      "                continue\n",
      "\n",
      "            extract_xml = etree.fromstring(second_req.content)\n",
      "            subset, total = extract_response_stats(extract_xml)\n",
      "            print '\\t\\t\\tRequested {} out of {:,}'.format(subset, int(total))\n",
      "    \n",
      "    "
     ],
     "language": "python",
     "metadata": {},
     "outputs": [
      {
       "output_type": "stream",
       "stream": "stdout",
       "text": [
        "Processing http://dap.onc.uvic.ca/erddap/opensearch1.1/description.xml\n",
        "\tCatalog searchTerms: "
       ]
      },
      {
       "output_type": "stream",
       "stream": "stdout",
       "text": [
        " {'searchTerms': 'searchTerms'}\n",
        "\tExample queries:  ['temperature']\n",
        "\tProcessing http://dap.onc.uvic.ca/erddap/opensearch1.1/search?format=atom&searchTerms=\n",
        "requested 1000 out of 19"
       ]
      },
      {
       "output_type": "stream",
       "stream": "stdout",
       "text": [
        "\n",
        "\t\tRequested 1000 out of 19\n",
        "\t\tProcessing http://dap.onc.uvic.ca/erddap/opensearch1.1/search?format=atom&searchTerms=temperature\n",
        "requested 1000 out of 16"
       ]
      },
      {
       "output_type": "stream",
       "stream": "stdout",
       "text": [
        "\n",
        "\t\t\tRequested 1000 out of 16\n",
        "Processing http://gcmd.gsfc.nasa.gov/KeywordSearch/default/openSearch.jsp?Portal=cwic\n",
        "\tCatalog searchTerms: "
       ]
      },
      {
       "output_type": "stream",
       "stream": "stdout",
       "text": [
        " {'searchTerms': 'searchTerms'}\n",
        "\tExample queries:  ['modis']\n",
        "\tProcessing http://gcmd.gsfc.nasa.gov/KeywordSearch/OpenSearch.do?output=atom&MetadataType=0&Portal=cwic&clientId=fromgcmd&searchTerms=\n",
        "\t\tEmpty response!"
       ]
      },
      {
       "output_type": "stream",
       "stream": "stdout",
       "text": [
        "\n",
        "Processing http://podaac.jpl.nasa.gov/ws/search/dataset/osd.xml\n",
        "\tCatalog searchTerms: "
       ]
      },
      {
       "output_type": "stream",
       "stream": "stdout",
       "text": [
        " {'keyword': 'searchTerms'}\n",
        "\tExample queries:  []\n",
        "\tProcessing http://podaac.jpl.nasa.gov/ws/search/dataset?format=atom&keyword=\n",
        "requested \n",
        "\t\t7\n",
        "\t out of 441"
       ]
      },
      {
       "output_type": "stream",
       "stream": "stdout",
       "text": [
        "\n",
        "\t\tRequested \n",
        "\t\t7\n",
        "\t out of 441\n",
        "Processing http://nsidc.org/api/opensearch/1.1/dataset/description\n",
        "\tCatalog searchTerms: "
       ]
      },
      {
       "output_type": "stream",
       "stream": "stdout",
       "text": [
        " {'searchterms': 'searchTerms'}\n",
        "\tExample queries:  []\n",
        "\tProcessing http://nsidc.org/api/opensearch/1.1/dataset?&searchterms=\n",
        "\t\tFailed request: <html>\n",
        "<head>\n",
        "<meta http-equiv=\"Content-Type\" content=\"text/html; charset=ISO-8859-1\"/>\n",
        "<title>Error 500 org.apache.cxf.interceptor.Fault: Local name may not be null or empty</title>\n",
        "</head>\n",
        "<body><h2>HTTP ERROR 500</h2>\n",
        "<p>Problem accessing /api/opensearch/1.1/dataset. Reason:\n",
        "<pre>    org.apache.cxf.interceptor.Fault: Local name may not be null or empty</pre></p><h3>Caused by:</h3><pre>java.lang.RuntimeException: org.apache.cxf.interceptor.Fault: Local name may not be null or empty\n",
        "\tat org.apache.cxf.interceptor.AbstractFaultChainInitiatorObserver.onMessage(AbstractFaultChainInitiatorObserver.java:117)\n",
        "\tat org.apache.cxf.phase.PhaseInterceptorChain.doIntercept(PhaseInterceptorChain.java:323)\n",
        "\tat org.apache.cxf.transport.ChainInitiationObserver.onMessage(ChainInitiationObserver.java:122)\n",
        "\tat org.apache.cxf.transport.http.AbstractHTTPDestination.invoke(AbstractHTTPDestination.java:233)\n",
        "\tat org.apache.cxf.transport.servlet.ServletController.invokeDestination(ServletController.java:214)\n",
        "\tat org.apache.cxf.transport.servlet.ServletController.invoke(ServletController.java:194)\n",
        "\tat org.apache.cxf.transport.servlet.CXFNonSpringServlet.invoke(CXFNonSpringServlet.java:129)\n",
        "\tat org.apache.cxf.transport.servlet.AbstractHTTPServlet.handleRequest(AbstractHTTPServlet.java:223)\n",
        "\tat org.apache.cxf.transport.servlet.AbstractHTTPServlet.doGet(AbstractHTTPServlet.java:148)\n",
        "\tat javax.servlet.http.HttpServlet.service(HttpServlet.java:735)\n",
        "\tat org.apache.cxf.transport.servlet.AbstractHTTPServlet.service(AbstractHTTPServlet.java:199)\n",
        "\tat org.eclipse.jetty.servlet.ServletHolder.handle(ServletHolder.java:643)\n",
        "\tat org.eclipse.jetty.servlet.ServletHandler$CachedChain.doFilter(ServletHandler.java:1331)\n",
        "\tat com.thetransactioncompany.cors.CORSFilter.doFilter(Unknown Source)\n",
        "\tat com.thetransactioncompany.cors.CORSFilter.doFilter(Unknown Source)\n",
        "\tat org.eclipse.jetty.servlet.ServletHandler$CachedChain.doFilter(ServletHandler.java:1302)\n",
        "\tat org.springframework.orm.jpa.support.OpenEntityManagerInViewFilter.doFilterInternal(OpenEntityManagerInViewFilter.java:113)\n",
        "\tat org.springframework.web.filter.OncePerRequestFilter.doFilter(OncePerRequestFilter.java:76)\n",
        "\tat org.eclipse.jetty.servlet.ServletHandler$CachedChain.doFilter(ServletHandler.java:1302)\n",
        "\tat org.eclipse.jetty.servlet.ServletHandler.doHandle(ServletHandler.java:448)\n",
        "\tat org.eclipse.jetty.server.handler.ScopedHandler.handle(ScopedHandler.java:131)\n",
        "\tat org.eclipse.jetty.security.SecurityHandler.handle(SecurityHandler.java:524)\n",
        "\tat org.eclipse.jetty.server.session.SessionHandler.doHandle(SessionHandler.java:231)\n",
        "\tat org.eclipse.jetty.server.handler.ContextHandler.doHandle(ContextHandler.java:1067)\n",
        "\tat org.eclipse.jetty.servlet.ServletHandler.doScope(ServletHandler.java:377)\n",
        "\tat org.eclipse.jetty.server.session.SessionHandler.doScope(SessionHandler.java:192)\n",
        "\tat org.eclipse.jetty.server.handler.ContextHandler.doScope(ContextHandler.java:1001)\n",
        "\tat org.eclipse.jetty.server.handler.ScopedHandler.handle(ScopedHandler.java:129)\n",
        "\tat org.eclipse.jetty.server.handler.ContextHandlerCollection.handle(ContextHandlerCollection.java:250)\n",
        "\tat org.eclipse.jetty.server.handler.HandlerCollection.handle(HandlerCollection.java:149)\n",
        "\tat org.eclipse.jetty.server.handler.HandlerWrapper.handle(HandlerWrapper.java:111)\n",
        "\tat org.eclipse.jetty.server.Server.handle(Server.java:360)\n",
        "\tat org.eclipse.jetty.server.AbstractHttpConnection.handleRequest(AbstractHttpConnection.java:454)\n",
        "\tat org.eclipse.jetty.server.AbstractHttpConnection.headerComplete(AbstractHttpConnection.java:890)\n",
        "\tat org.eclipse.jetty.server.AbstractHttpConnection$RequestHandler.headerComplete(AbstractHttpConnection.java:944)\n",
        "\tat org.eclipse.jetty.http.HttpParser.parseNext(HttpParser.java:630)\n",
        "\tat org.eclipse.jetty.http.HttpParser.parseAvailable(HttpParser.java:230)\n",
        "\tat org.eclipse.jetty.server.AsyncHttpConnection.handle(AsyncHttpConnection.java:77)\n",
        "\tat org.eclipse.jetty.io.nio.SelectChannelEndPoint.handle(SelectChannelEndPoint.java:622)\n",
        "\tat org.eclipse.jetty.io.nio.SelectChannelEndPoint$1.run(SelectChannelEndPoint.java:46)\n",
        "\tat org.eclipse.jetty.util.thread.QueuedThreadPool.runJob(QueuedThreadPool.java:603)\n",
        "\tat org.eclipse.jetty.util.thread.QueuedThreadPool$3.run(QueuedThreadPool.java:538)\n",
        "\tat java.lang.Thread.run(Thread.java:619)\n",
        "Caused by: org.apache.cxf.interceptor.Fault: Local name may not be null or empty\n",
        "\tat org.apache.cxf.service.invoker.AbstractInvoker.createFault(AbstractInvoker.java:155)\n",
        "\tat org.apache.cxf.service.invoker.AbstractInvoker.invoke(AbstractInvoker.java:121)\n",
        "\tat org.apache.cxf.jaxrs.JAXRSInvoker.invoke(JAXRSInvoker.java:167)\n",
        "\tat org.apache.cxf.jaxrs.JAXRSInvoker.invoke(JAXRSInvoker.java:243)\n",
        "\tat org.apache.cxf.jaxrs.JAXRSInvoker.invoke(JAXRSInvoker.java:94)\n",
        "\tat org.apache.cxf.interceptor.ServiceInvokerInterceptor$1.run(ServiceInvokerInterceptor.java:58)\n",
        "\tat org.apache.cxf.interceptor.ServiceInvokerInterceptor.handleMessage(ServiceInvokerInterceptor.java:94)\n",
        "\tat org.apache.cxf.phase.PhaseInterceptorChain.doIntercept(PhaseInterceptorChain.java:263)\n",
        "\t... 41 more\n",
        "Caused by: java.lang.IllegalArgumentException: Local name may not be null or empty\n",
        "\tat org.apache.axiom.om.impl.llom.OMAttributeImpl.&lt;init&gt;(OMAttributeImpl.java:52)\n",
        "\tat org.apache.axiom.om.impl.llom.factory.OMLinkedListImplFactory.createOMAttribute(OMLinkedListImplFactory.java:263)\n",
        "\tat org.apache.abdera.parser.stax.FOMElement.setAttributeValue(FOMElement.java:262)\n",
        "\tat org.apache.abdera.parser.stax.FOMElement.setAttributeValue(FOMElement.java:370)\n",
        "\tat org.apache.abdera.model.ElementWrapper.setAttributeValue(ElementWrapper.java:174)\n",
        "\tat org.nsidc.searchlight.service.OpenSearchDatasetImpl.datasetQuery(OpenSearchDatasetImpl.java:158)\n",
        "\tat sun.reflect.GeneratedMethodAccessor57.invoke(Unknown Source)\n",
        "\tat sun.reflect.DelegatingMethodAccessorImpl.invoke(DelegatingMethodAccessorImpl.java:25)\n",
        "\tat java.lang.reflect.Method.invoke(Method.java:597)\n",
        "\tat org.apache.cxf.service.invoker.AbstractInvoker.performInvocation(AbstractInvoker.java:173)\n",
        "\tat org.apache.cxf.service.invoker.AbstractInvoker.invoke(AbstractInvoker.java:89)\n",
        "\t... 47 more\n",
        "</pre>\n",
        "<h3>Caused by:</h3><pre>org.apache.cxf.interceptor.Fault: Local name may not be null or empty\n",
        "\tat org.apache.cxf.service.invoker.AbstractInvoker.createFault(AbstractInvoker.java:155)\n",
        "\tat org.apache.cxf.service.invoker.AbstractInvoker.invoke(AbstractInvoker.java:121)\n",
        "\tat org.apache.cxf.jaxrs.JAXRSInvoker.invoke(JAXRSInvoker.java:167)\n",
        "\tat org.apache.cxf.jaxrs.JAXRSInvoker.invoke(JAXRSInvoker.java:243)\n",
        "\tat org.apache.cxf.jaxrs.JAXRSInvoker.invoke(JAXRSInvoker.java:94)\n",
        "\tat org.apache.cxf.interceptor.ServiceInvokerInterceptor$1.run(ServiceInvokerInterceptor.java:58)\n",
        "\tat org.apache.cxf.interceptor.ServiceInvokerInterceptor.handleMessage(ServiceInvokerInterceptor.java:94)\n",
        "\tat org.apache.cxf.phase.PhaseInterceptorChain.doIntercept(PhaseInterceptorChain.java:263)\n",
        "\tat org.apache.cxf.transport.ChainInitiationObserver.onMessage(ChainInitiationObserver.java:122)\n",
        "\tat org.apache.cxf.transport.http.AbstractHTTPDestination.invoke(AbstractHTTPDestination.java:233)\n",
        "\tat org.apache.cxf.transport.servlet.ServletController.invokeDestination(ServletController.java:214)\n",
        "\tat org.apache.cxf.transport.servlet.ServletController.invoke(ServletController.java:194)\n",
        "\tat org.apache.cxf.transport.servlet.CXFNonSpringServlet.invoke(CXFNonSpringServlet.java:129)\n",
        "\tat org.apache.cxf.transport.servlet.AbstractHTTPServlet.handleRequest(AbstractHTTPServlet.java:223)\n",
        "\tat org.apache.cxf.transport.servlet.AbstractHTTPServlet.doGet(AbstractHTTPServlet.java:148)\n",
        "\tat javax.servlet.http.HttpServlet.service(HttpServlet.java:735)\n",
        "\tat org.apache.cxf.transport.servlet.AbstractHTTPServlet.service(AbstractHTTPServlet.java:199)\n",
        "\tat org.eclipse.jetty.servlet.ServletHolder.handle(ServletHolder.java:643)\n",
        "\tat org.eclipse.jetty.servlet.ServletHandler$CachedChain.doFilter(ServletHandler.java:1331)\n",
        "\tat com.thetransactioncompany.cors.CORSFilter.doFilter(Unknown Source)\n",
        "\tat com.thetransactioncompany.cors.CORSFilter.doFilter(Unknown Source)\n",
        "\tat org.eclipse.jetty.servlet.ServletHandler$CachedChain.doFilter(ServletHandler.java:1302)\n",
        "\tat org.springframework.orm.jpa.support.OpenEntityManagerInViewFilter.doFilterInternal(OpenEntityManagerInViewFilter.java:113)\n",
        "\tat org.springframework.web.filter.OncePerRequestFilter.doFilter(OncePerRequestFilter.java:76)\n",
        "\tat org.eclipse.jetty.servlet.ServletHandler$CachedChain.doFilter(ServletHandler.java:1302)\n",
        "\tat org.eclipse.jetty.servlet.ServletHandler.doHandle(ServletHandler.java:448)\n",
        "\tat org.eclipse.jetty.server.handler.ScopedHandler.handle(ScopedHandler.java:131)\n",
        "\tat org.eclipse.jetty.security.SecurityHandler.handle(SecurityHandler.java:524)\n",
        "\tat org.eclipse.jetty.server.session.SessionHandler.doHandle(SessionHandler.java:231)\n",
        "\tat org.eclipse.jetty.server.handler.ContextHandler.doHandle(ContextHandler.java:1067)\n",
        "\tat org.eclipse.jetty.servlet.ServletHandler.doScope(ServletHandler.java:377)\n",
        "\tat org.eclipse.jetty.server.session.SessionHandler.doScope(SessionHandler.java:192)\n",
        "\tat org.eclipse.jetty.server.handler.ContextHandler.doScope(ContextHandler.java:1001)\n",
        "\tat org.eclipse.jetty.server.handler.ScopedHandler.handle(ScopedHandler.java:129)\n",
        "\tat org.eclipse.jetty.server.handler.ContextHandlerCollection.handle(ContextHandlerCollection.java:250)\n",
        "\tat org.eclipse.jetty.server.handler.HandlerCollection.handle(HandlerCollection.java:149)\n",
        "\tat org.eclipse.jetty.server.handler.HandlerWrapper.handle(HandlerWrapper.java:111)\n",
        "\tat org.eclipse.jetty.server.Server.handle(Server.java:360)\n",
        "\tat org.eclipse.jetty.server.AbstractHttpConnection.handleRequest(AbstractHttpConnection.java:454)\n",
        "\tat org.eclipse.jetty.server.AbstractHttpConnection.headerComplete(AbstractHttpConnection.java:890)\n",
        "\tat org.eclipse.jetty.server.AbstractHttpConnection$RequestHandler.headerComplete(AbstractHttpConnection.java:944)\n",
        "\tat org.eclipse.jetty.http.HttpParser.parseNext(HttpParser.java:630)\n",
        "\tat org.eclipse.jetty.http.HttpParser.parseAvailable(HttpParser.java:230)\n",
        "\tat org.eclipse.jetty.server.AsyncHttpConnection.handle(AsyncHttpConnection.java:77)\n",
        "\tat org.eclipse.jetty.io.nio.SelectChannelEndPoint.handle(SelectChannelEndPoint.java:622)\n",
        "\tat org.eclipse.jetty.io.nio.SelectChannelEndPoint$1.run(SelectChannelEndPoint.java:46)\n",
        "\tat org.eclipse.jetty.util.thread.QueuedThreadPool.runJob(QueuedThreadPool.java:603)\n",
        "\tat org.eclipse.jetty.util.thread.QueuedThreadPool$3.run(QueuedThreadPool.java:538)\n",
        "\tat java.lang.Thread.run(Thread.java:619)\n",
        "Caused by: java.lang.IllegalArgumentException: Local name may not be null or empty\n",
        "\tat org.apache.axiom.om.impl.llom.OMAttributeImpl.&lt;init&gt;(OMAttributeImpl.java:52)\n",
        "\tat org.apache.axiom.om.impl.llom.factory.OMLinkedListImplFactory.createOMAttribute(OMLinkedListImplFactory.java:263)\n",
        "\tat org.apache.abdera.parser.stax.FOMElement.setAttributeValue(FOMElement.java:262)\n",
        "\tat org.apache.abdera.parser.stax.FOMElement.setAttributeValue(FOMElement.java:370)\n",
        "\tat org.apache.abdera.model.ElementWrapper.setAttributeValue(ElementWrapper.java:174)\n",
        "\tat org.nsidc.searchlight.service.OpenSearchDatasetImpl.datasetQuery(OpenSearchDatasetImpl.java:158)\n",
        "\tat sun.reflect.GeneratedMethodAccessor57.invoke(Unknown Source)\n",
        "\tat sun.reflect.DelegatingMethodAccessorImpl.invoke(DelegatingMethodAccessorImpl.java:25)\n",
        "\tat java.lang.reflect.Method.invoke(Method.java:597)\n",
        "\tat org.apache.cxf.service.invoker.AbstractInvoker.performInvocation(AbstractInvoker.java:173)\n",
        "\tat org.apache.cxf.service.invoker.AbstractInvoker.invoke(AbstractInvoker.java:89)\n",
        "\t... 47 more\n",
        "</pre>\n",
        "<h3>Caused by:</h3><pre>java.lang.IllegalArgumentException: Local name may not be null or empty\n",
        "\tat org.apache.axiom.om.impl.llom.OMAttributeImpl.&lt;init&gt;(OMAttributeImpl.java:52)\n",
        "\tat org.apache.axiom.om.impl.llom.factory.OMLinkedListImplFactory.createOMAttribute(OMLinkedListImplFactory.java:263)\n",
        "\tat org.apache.abdera.parser.stax.FOMElement.setAttributeValue(FOMElement.java:262)\n",
        "\tat org.apache.abdera.parser.stax.FOMElement.setAttributeValue(FOMElement.java:370)\n",
        "\tat org.apache.abdera.model.ElementWrapper.setAttributeValue(ElementWrapper.java:174)\n",
        "\tat org.nsidc.searchlight.service.OpenSearchDatasetImpl.datasetQuery(OpenSearchDatasetImpl.java:158)\n",
        "\tat sun.reflect.GeneratedMethodAccessor57.invoke(Unknown Source)\n",
        "\tat sun.reflect.DelegatingMethodAccessorImpl.invoke(DelegatingMethodAccessorImpl.java:25)\n",
        "\tat java.lang.reflect.Method.invoke(Method.java:597)\n",
        "\tat org.apache.cxf.service.invoker.AbstractInvoker.performInvocation(AbstractInvoker.java:173)\n",
        "\tat org.apache.cxf.service.invoker.AbstractInvoker.invoke(AbstractInvoker.java:89)\n",
        "\tat org.apache.cxf.jaxrs.JAXRSInvoker.invoke(JAXRSInvoker.java:167)\n",
        "\tat org.apache.cxf.jaxrs.JAXRSInvoker.invoke(JAXRSInvoker.java:243)\n",
        "\tat org.apache.cxf.jaxrs.JAXRSInvoker.invoke(JAXRSInvoker.java:94)\n",
        "\tat org.apache.cxf.interceptor.ServiceInvokerInterceptor$1.run(ServiceInvokerInterceptor.java:58)\n",
        "\tat org.apache.cxf.interceptor.ServiceInvokerInterceptor.handleMessage(ServiceInvokerInterceptor.java:94)\n",
        "\tat org.apache.cxf.phase.PhaseInterceptorChain.doIntercept(PhaseInterceptorChain.java:263)\n",
        "\tat org.apache.cxf.transport.ChainInitiationObserver.onMessage(ChainInitiationObserver.java:122)\n",
        "\tat org.apache.cxf.transport.http.AbstractHTTPDestination.invoke(AbstractHTTPDestination.java:233)\n",
        "\tat org.apache.cxf.transport.servlet.ServletController.invokeDestination(ServletController.java:214)\n",
        "\tat org.apache.cxf.transport.servlet.ServletController.invoke(ServletController.java:194)\n",
        "\tat org.apache.cxf.transport.servlet.CXFNonSpringServlet.invoke(CXFNonSpringServlet.java:129)\n",
        "\tat org.apache.cxf.transport.servlet.AbstractHTTPServlet.handleRequest(AbstractHTTPServlet.java:223)\n",
        "\tat org.apache.cxf.transport.servlet.AbstractHTTPServlet.doGet(AbstractHTTPServlet.java:148)\n",
        "\tat javax.servlet.http.HttpServlet.service(HttpServlet.java:735)\n",
        "\tat org.apache.cxf.transport.servlet.AbstractHTTPServlet.service(AbstractHTTPServlet.java:199)\n",
        "\tat org.eclipse.jetty.servlet.ServletHolder.handle(ServletHolder.java:643)\n",
        "\tat org.eclipse.jetty.servlet.ServletHandler$CachedChain.doFilter(ServletHandler.java:1331)\n",
        "\tat com.thetransactioncompany.cors.CORSFilter.doFilter(Unknown Source)\n",
        "\tat com.thetransactioncompany.cors.CORSFilter.doFilter(Unknown Source)\n",
        "\tat org.eclipse.jetty.servlet.ServletHandler$CachedChain.doFilter(ServletHandler.java:1302)\n",
        "\tat org.springframework.orm.jpa.support.OpenEntityManagerInViewFilter.doFilterInternal(OpenEntityManagerInViewFilter.java:113)\n",
        "\tat org.springframework.web.filter.OncePerRequestFilter.doFilter(OncePerRequestFilter.java:76)\n",
        "\tat org.eclipse.jetty.servlet.ServletHandler$CachedChain.doFilter(ServletHandler.java:1302)\n",
        "\tat org.eclipse.jetty.servlet.ServletHandler.doHandle(ServletHandler.java:448)\n",
        "\tat org.eclipse.jetty.server.handler.ScopedHandler.handle(ScopedHandler.java:131)\n",
        "\tat org.eclipse.jetty.security.SecurityHandler.handle(SecurityHandler.java:524)\n",
        "\tat org.eclipse.jetty.server.session.SessionHandler.doHandle(SessionHandler.java:231)\n",
        "\tat org.eclipse.jetty.server.handler.ContextHandler.doHandle(ContextHandler.java:1067)\n",
        "\tat org.eclipse.jetty.servlet.ServletHandler.doScope(ServletHandler.java:377)\n",
        "\tat org.eclipse.jetty.server.session.SessionHandler.doScope(SessionHandler.java:192)\n",
        "\tat org.eclipse.jetty.server.handler.ContextHandler.doScope(ContextHandler.java:1001)\n",
        "\tat org.eclipse.jetty.server.handler.ScopedHandler.handle(ScopedHandler.java:129)\n",
        "\tat org.eclipse.jetty.server.handler.ContextHandlerCollection.handle(ContextHandlerCollection.java:250)\n",
        "\tat org.eclipse.jetty.server.handler.HandlerCollection.handle(HandlerCollection.java:149)\n",
        "\tat org.eclipse.jetty.server.handler.HandlerWrapper.handle(HandlerWrapper.java:111)\n",
        "\tat org.eclipse.jetty.server.Server.handle(Server.java:360)\n",
        "\tat org.eclipse.jetty.server.AbstractHttpConnection.handleRequest(AbstractHttpConnection.java:454)\n",
        "\tat org.eclipse.jetty.server.AbstractHttpConnection.headerComplete(AbstractHttpConnection.java:890)\n",
        "\tat org.eclipse.jetty.server.AbstractHttpConnection$RequestHandler.headerComplete(AbstractHttpConnection.java:944)\n",
        "\tat org.eclipse.jetty.http.HttpParser.parseNext(HttpParser.java:630)\n",
        "\tat org.eclipse.jetty.http.HttpParser.parseAvailable(HttpParser.java:230)\n",
        "\tat org.eclipse.jetty.server.AsyncHttpConnection.handle(AsyncHttpConnection.java:77)\n",
        "\tat org.eclipse.jetty.io.nio.SelectChannelEndPoint.handle(SelectChannelEndPoint.java:622)\n",
        "\tat org.eclipse.jetty.io.nio.SelectChannelEndPoint$1.run(SelectChannelEndPoint.java:46)\n",
        "\tat org.eclipse.jetty.util.thread.QueuedThreadPool.runJob(QueuedThreadPool.java:603)\n",
        "\tat org.eclipse.jetty.util.thread.QueuedThreadPool$3.run(QueuedThreadPool.java:538)\n",
        "\tat java.lang.Thread.run(Thread.java:619)\n",
        "</pre>\n",
        "<hr /><i><small>Powered by Jetty://</small></i><br/>                                                \n",
        "<br/>                                                \n",
        "<br/>                                                \n",
        "<br/>                                                \n",
        "<br/>                                                \n",
        "<br/>                                                \n",
        "<br/>                                                \n",
        "<br/>                                                \n",
        "<br/>                                                \n",
        "<br/>                                                \n",
        "<br/>                                                \n",
        "<br/>                                                \n",
        "<br/>                                                \n",
        "<br/>                                                \n",
        "<br/>                                                \n",
        "<br/>                                                \n",
        "<br/>                                                \n",
        "<br/>                                                \n",
        "<br/>                                                \n",
        "<br/>                                                \n",
        "\n",
        "</body>\n",
        "</html>\n"
       ]
      },
      {
       "output_type": "stream",
       "stream": "stdout",
       "text": [
        "\n",
        "requested 0 out of 0\n",
        "\t\tRequested 0 out of 0\n",
        "\tCatalog searchTerms:  {'searchterms': 'searchTerms'}\n",
        "\tExample queries:  []\n",
        "\tProcessing http://nsidc.org/api/opensearch/1.1/dataset?&searchterms=\n",
        "\t\tFailed request: <html>\n",
        "<head>\n",
        "<meta http-equiv=\"Content-Type\" content=\"text/html; charset=ISO-8859-1\"/>\n",
        "<title>Error 500 org.apache.cxf.interceptor.Fault: Local name may not be null or empty</title>\n",
        "</head>\n",
        "<body><h2>HTTP ERROR 500</h2>\n",
        "<p>Problem accessing /api/opensearch/1.1/dataset. Reason:\n",
        "<pre>    org.apache.cxf.interceptor.Fault: Local name may not be null or empty</pre></p><h3>Caused by:</h3><pre>java.lang.RuntimeException: org.apache.cxf.interceptor.Fault: Local name may not be null or empty\n",
        "\tat org.apache.cxf.interceptor.AbstractFaultChainInitiatorObserver.onMessage(AbstractFaultChainInitiatorObserver.java:117)\n",
        "\tat org.apache.cxf.phase.PhaseInterceptorChain.doIntercept(PhaseInterceptorChain.java:323)\n",
        "\tat org.apache.cxf.transport.ChainInitiationObserver.onMessage(ChainInitiationObserver.java:122)\n",
        "\tat org.apache.cxf.transport.http.AbstractHTTPDestination.invoke(AbstractHTTPDestination.java:233)\n",
        "\tat org.apache.cxf.transport.servlet.ServletController.invokeDestination(ServletController.java:214)\n",
        "\tat org.apache.cxf.transport.servlet.ServletController.invoke(ServletController.java:194)\n",
        "\tat org.apache.cxf.transport.servlet.CXFNonSpringServlet.invoke(CXFNonSpringServlet.java:129)\n",
        "\tat org.apache.cxf.transport.servlet.AbstractHTTPServlet.handleRequest(AbstractHTTPServlet.java:223)\n",
        "\tat org.apache.cxf.transport.servlet.AbstractHTTPServlet.doGet(AbstractHTTPServlet.java:148)\n",
        "\tat javax.servlet.http.HttpServlet.service(HttpServlet.java:735)\n",
        "\tat org.apache.cxf.transport.servlet.AbstractHTTPServlet.service(AbstractHTTPServlet.java:199)\n",
        "\tat org.eclipse.jetty.servlet.ServletHolder.handle(ServletHolder.java:643)\n",
        "\tat org.eclipse.jetty.servlet.ServletHandler$CachedChain.doFilter(ServletHandler.java:1331)\n",
        "\tat com.thetransactioncompany.cors.CORSFilter.doFilter(Unknown Source)\n",
        "\tat com.thetransactioncompany.cors.CORSFilter.doFilter(Unknown Source)\n",
        "\tat org.eclipse.jetty.servlet.ServletHandler$CachedChain.doFilter(ServletHandler.java:1302)\n",
        "\tat org.springframework.orm.jpa.support.OpenEntityManagerInViewFilter.doFilterInternal(OpenEntityManagerInViewFilter.java:113)\n",
        "\tat org.springframework.web.filter.OncePerRequestFilter.doFilter(OncePerRequestFilter.java:76)\n",
        "\tat org.eclipse.jetty.servlet.ServletHandler$CachedChain.doFilter(ServletHandler.java:1302)\n",
        "\tat org.eclipse.jetty.servlet.ServletHandler.doHandle(ServletHandler.java:448)\n",
        "\tat org.eclipse.jetty.server.handler.ScopedHandler.handle(ScopedHandler.java:131)\n",
        "\tat org.eclipse.jetty.security.SecurityHandler.handle(SecurityHandler.java:524)\n",
        "\tat org.eclipse.jetty.server.session.SessionHandler.doHandle(SessionHandler.java:231)\n",
        "\tat org.eclipse.jetty.server.handler.ContextHandler.doHandle(ContextHandler.java:1067)\n",
        "\tat org.eclipse.jetty.servlet.ServletHandler.doScope(ServletHandler.java:377)\n",
        "\tat org.eclipse.jetty.server.session.SessionHandler.doScope(SessionHandler.java:192)\n",
        "\tat org.eclipse.jetty.server.handler.ContextHandler.doScope(ContextHandler.java:1001)\n",
        "\tat org.eclipse.jetty.server.handler.ScopedHandler.handle(ScopedHandler.java:129)\n",
        "\tat org.eclipse.jetty.server.handler.ContextHandlerCollection.handle(ContextHandlerCollection.java:250)\n",
        "\tat org.eclipse.jetty.server.handler.HandlerCollection.handle(HandlerCollection.java:149)\n",
        "\tat org.eclipse.jetty.server.handler.HandlerWrapper.handle(HandlerWrapper.java:111)\n",
        "\tat org.eclipse.jetty.server.Server.handle(Server.java:360)\n",
        "\tat org.eclipse.jetty.server.AbstractHttpConnection.handleRequest(AbstractHttpConnection.java:454)\n",
        "\tat org.eclipse.jetty.server.AbstractHttpConnection.headerComplete(AbstractHttpConnection.java:890)\n",
        "\tat org.eclipse.jetty.server.AbstractHttpConnection$RequestHandler.headerComplete(AbstractHttpConnection.java:944)\n",
        "\tat org.eclipse.jetty.http.HttpParser.parseNext(HttpParser.java:630)\n",
        "\tat org.eclipse.jetty.http.HttpParser.parseAvailable(HttpParser.java:230)\n",
        "\tat org.eclipse.jetty.server.AsyncHttpConnection.handle(AsyncHttpConnection.java:77)\n",
        "\tat org.eclipse.jetty.io.nio.SelectChannelEndPoint.handle(SelectChannelEndPoint.java:622)\n",
        "\tat org.eclipse.jetty.io.nio.SelectChannelEndPoint$1.run(SelectChannelEndPoint.java:46)\n",
        "\tat org.eclipse.jetty.util.thread.QueuedThreadPool.runJob(QueuedThreadPool.java:603)\n",
        "\tat org.eclipse.jetty.util.thread.QueuedThreadPool$3.run(QueuedThreadPool.java:538)\n",
        "\tat java.lang.Thread.run(Thread.java:619)\n",
        "Caused by: org.apache.cxf.interceptor.Fault: Local name may not be null or empty\n",
        "\tat org.apache.cxf.service.invoker.AbstractInvoker.createFault(AbstractInvoker.java:155)\n",
        "\tat org.apache.cxf.service.invoker.AbstractInvoker.invoke(AbstractInvoker.java:121)\n",
        "\tat org.apache.cxf.jaxrs.JAXRSInvoker.invoke(JAXRSInvoker.java:167)\n",
        "\tat org.apache.cxf.jaxrs.JAXRSInvoker.invoke(JAXRSInvoker.java:243)\n",
        "\tat org.apache.cxf.jaxrs.JAXRSInvoker.invoke(JAXRSInvoker.java:94)\n",
        "\tat org.apache.cxf.interceptor.ServiceInvokerInterceptor$1.run(ServiceInvokerInterceptor.java:58)\n",
        "\tat org.apache.cxf.interceptor.ServiceInvokerInterceptor.handleMessage(ServiceInvokerInterceptor.java:94)\n",
        "\tat org.apache.cxf.phase.PhaseInterceptorChain.doIntercept(PhaseInterceptorChain.java:263)\n",
        "\t... 41 more\n",
        "Caused by: java.lang.IllegalArgumentException: Local name may not be null or empty\n",
        "\tat org.apache.axiom.om.impl.llom.OMAttributeImpl.&lt;init&gt;(OMAttributeImpl.java:52)\n",
        "\tat org.apache.axiom.om.impl.llom.factory.OMLinkedListImplFactory.createOMAttribute(OMLinkedListImplFactory.java:263)\n",
        "\tat org.apache.abdera.parser.stax.FOMElement.setAttributeValue(FOMElement.java:262)\n",
        "\tat org.apache.abdera.parser.stax.FOMElement.setAttributeValue(FOMElement.java:370)\n",
        "\tat org.apache.abdera.model.ElementWrapper.setAttributeValue(ElementWrapper.java:174)\n",
        "\tat org.nsidc.searchlight.service.OpenSearchDatasetImpl.datasetQuery(OpenSearchDatasetImpl.java:158)\n",
        "\tat sun.reflect.GeneratedMethodAccessor57.invoke(Unknown Source)\n",
        "\tat sun.reflect.DelegatingMethodAccessorImpl.invoke(DelegatingMethodAccessorImpl.java:25)\n",
        "\tat java.lang.reflect.Method.invoke(Method.java:597)\n",
        "\tat org.apache.cxf.service.invoker.AbstractInvoker.performInvocation(AbstractInvoker.java:173)\n",
        "\tat org.apache.cxf.service.invoker.AbstractInvoker.invoke(AbstractInvoker.java:89)\n",
        "\t... 47 more\n",
        "</pre>\n",
        "<h3>Caused by:</h3><pre>org.apache.cxf.interceptor.Fault: Local name may not be null or empty\n",
        "\tat org.apache.cxf.service.invoker.AbstractInvoker.createFault(AbstractInvoker.java:155)\n",
        "\tat org.apache.cxf.service.invoker.AbstractInvoker.invoke(AbstractInvoker.java:121)\n",
        "\tat org.apache.cxf.jaxrs.JAXRSInvoker.invoke(JAXRSInvoker.java:167)\n",
        "\tat org.apache.cxf.jaxrs.JAXRSInvoker.invoke(JAXRSInvoker.java:243)\n",
        "\tat org.apache.cxf.jaxrs.JAXRSInvoker.invoke(JAXRSInvoker.java:94)\n",
        "\tat org.apache.cxf.interceptor.ServiceInvokerInterceptor$1.run(ServiceInvokerInterceptor.java:58)\n",
        "\tat org.apache.cxf.interceptor.ServiceInvokerInterceptor.handleMessage(ServiceInvokerInterceptor.java:94)\n",
        "\tat org.apache.cxf.phase.PhaseInterceptorChain.doIntercept(PhaseInterceptorChain.java:263)\n",
        "\tat org.apache.cxf.transport.ChainInitiationObserver.onMessage(ChainInitiationObserver.java:122)\n",
        "\tat org.apache.cxf.transport.http.AbstractHTTPDestination.invoke(AbstractHTTPDestination.java:233)\n",
        "\tat org.apache.cxf.transport.servlet.ServletController.invokeDestination(ServletController.java:214)\n",
        "\tat org.apache.cxf.transport.servlet.ServletController.invoke(ServletController.java:194)\n",
        "\tat org.apache.cxf.transport.servlet.CXFNonSpringServlet.invoke(CXFNonSpringServlet.java:129)\n",
        "\tat org.apache.cxf.transport.servlet.AbstractHTTPServlet.handleRequest(AbstractHTTPServlet.java:223)\n",
        "\tat org.apache.cxf.transport.servlet.AbstractHTTPServlet.doGet(AbstractHTTPServlet.java:148)\n",
        "\tat javax.servlet.http.HttpServlet.service(HttpServlet.java:735)\n",
        "\tat org.apache.cxf.transport.servlet.AbstractHTTPServlet.service(AbstractHTTPServlet.java:199)\n",
        "\tat org.eclipse.jetty.servlet.ServletHolder.handle(ServletHolder.java:643)\n",
        "\tat org.eclipse.jetty.servlet.ServletHandler$CachedChain.doFilter(ServletHandler.java:1331)\n",
        "\tat com.thetransactioncompany.cors.CORSFilter.doFilter(Unknown Source)\n",
        "\tat com.thetransactioncompany.cors.CORSFilter.doFilter(Unknown Source)\n",
        "\tat org.eclipse.jetty.servlet.ServletHandler$CachedChain.doFilter(ServletHandler.java:1302)\n",
        "\tat org.springframework.orm.jpa.support.OpenEntityManagerInViewFilter.doFilterInternal(OpenEntityManagerInViewFilter.java:113)\n",
        "\tat org.springframework.web.filter.OncePerRequestFilter.doFilter(OncePerRequestFilter.java:76)\n",
        "\tat org.eclipse.jetty.servlet.ServletHandler$CachedChain.doFilter(ServletHandler.java:1302)\n",
        "\tat org.eclipse.jetty.servlet.ServletHandler.doHandle(ServletHandler.java:448)\n",
        "\tat org.eclipse.jetty.server.handler.ScopedHandler.handle(ScopedHandler.java:131)\n",
        "\tat org.eclipse.jetty.security.SecurityHandler.handle(SecurityHandler.java:524)\n",
        "\tat org.eclipse.jetty.server.session.SessionHandler.doHandle(SessionHandler.java:231)\n",
        "\tat org.eclipse.jetty.server.handler.ContextHandler.doHandle(ContextHandler.java:1067)\n",
        "\tat org.eclipse.jetty.servlet.ServletHandler.doScope(ServletHandler.java:377)\n",
        "\tat org.eclipse.jetty.server.session.SessionHandler.doScope(SessionHandler.java:192)\n",
        "\tat org.eclipse.jetty.server.handler.ContextHandler.doScope(ContextHandler.java:1001)\n",
        "\tat org.eclipse.jetty.server.handler.ScopedHandler.handle(ScopedHandler.java:129)\n",
        "\tat org.eclipse.jetty.server.handler.ContextHandlerCollection.handle(ContextHandlerCollection.java:250)\n",
        "\tat org.eclipse.jetty.server.handler.HandlerCollection.handle(HandlerCollection.java:149)\n",
        "\tat org.eclipse.jetty.server.handler.HandlerWrapper.handle(HandlerWrapper.java:111)\n",
        "\tat org.eclipse.jetty.server.Server.handle(Server.java:360)\n",
        "\tat org.eclipse.jetty.server.AbstractHttpConnection.handleRequest(AbstractHttpConnection.java:454)\n",
        "\tat org.eclipse.jetty.server.AbstractHttpConnection.headerComplete(AbstractHttpConnection.java:890)\n",
        "\tat org.eclipse.jetty.server.AbstractHttpConnection$RequestHandler.headerComplete(AbstractHttpConnection.java:944)\n",
        "\tat org.eclipse.jetty.http.HttpParser.parseNext(HttpParser.java:630)\n",
        "\tat org.eclipse.jetty.http.HttpParser.parseAvailable(HttpParser.java:230)\n",
        "\tat org.eclipse.jetty.server.AsyncHttpConnection.handle(AsyncHttpConnection.java:77)\n",
        "\tat org.eclipse.jetty.io.nio.SelectChannelEndPoint.handle(SelectChannelEndPoint.java:622)\n",
        "\tat org.eclipse.jetty.io.nio.SelectChannelEndPoint$1.run(SelectChannelEndPoint.java:46)\n",
        "\tat org.eclipse.jetty.util.thread.QueuedThreadPool.runJob(QueuedThreadPool.java:603)\n",
        "\tat org.eclipse.jetty.util.thread.QueuedThreadPool$3.run(QueuedThreadPool.java:538)\n",
        "\tat java.lang.Thread.run(Thread.java:619)\n",
        "Caused by: java.lang.IllegalArgumentException: Local name may not be null or empty\n",
        "\tat org.apache.axiom.om.impl.llom.OMAttributeImpl.&lt;init&gt;(OMAttributeImpl.java:52)\n",
        "\tat org.apache.axiom.om.impl.llom.factory.OMLinkedListImplFactory.createOMAttribute(OMLinkedListImplFactory.java:263)\n",
        "\tat org.apache.abdera.parser.stax.FOMElement.setAttributeValue(FOMElement.java:262)\n",
        "\tat org.apache.abdera.parser.stax.FOMElement.setAttributeValue(FOMElement.java:370)\n",
        "\tat org.apache.abdera.model.ElementWrapper.setAttributeValue(ElementWrapper.java:174)\n",
        "\tat org.nsidc.searchlight.service.OpenSearchDatasetImpl.datasetQuery(OpenSearchDatasetImpl.java:158)\n",
        "\tat sun.reflect.GeneratedMethodAccessor57.invoke(Unknown Source)\n",
        "\tat sun.reflect.DelegatingMethodAccessorImpl.invoke(DelegatingMethodAccessorImpl.java:25)\n",
        "\tat java.lang.reflect.Method.invoke(Method.java:597)\n",
        "\tat org.apache.cxf.service.invoker.AbstractInvoker.performInvocation(AbstractInvoker.java:173)\n",
        "\tat org.apache.cxf.service.invoker.AbstractInvoker.invoke(AbstractInvoker.java:89)\n",
        "\t... 47 more\n",
        "</pre>\n",
        "<h3>Caused by:</h3><pre>java.lang.IllegalArgumentException: Local name may not be null or empty\n",
        "\tat org.apache.axiom.om.impl.llom.OMAttributeImpl.&lt;init&gt;(OMAttributeImpl.java:52)\n",
        "\tat org.apache.axiom.om.impl.llom.factory.OMLinkedListImplFactory.createOMAttribute(OMLinkedListImplFactory.java:263)\n",
        "\tat org.apache.abdera.parser.stax.FOMElement.setAttributeValue(FOMElement.java:262)\n",
        "\tat org.apache.abdera.parser.stax.FOMElement.setAttributeValue(FOMElement.java:370)\n",
        "\tat org.apache.abdera.model.ElementWrapper.setAttributeValue(ElementWrapper.java:174)\n",
        "\tat org.nsidc.searchlight.service.OpenSearchDatasetImpl.datasetQuery(OpenSearchDatasetImpl.java:158)\n",
        "\tat sun.reflect.GeneratedMethodAccessor57.invoke(Unknown Source)\n",
        "\tat sun.reflect.DelegatingMethodAccessorImpl.invoke(DelegatingMethodAccessorImpl.java:25)\n",
        "\tat java.lang.reflect.Method.invoke(Method.java:597)\n",
        "\tat org.apache.cxf.service.invoker.AbstractInvoker.performInvocation(AbstractInvoker.java:173)\n",
        "\tat org.apache.cxf.service.invoker.AbstractInvoker.invoke(AbstractInvoker.java:89)\n",
        "\tat org.apache.cxf.jaxrs.JAXRSInvoker.invoke(JAXRSInvoker.java:167)\n",
        "\tat org.apache.cxf.jaxrs.JAXRSInvoker.invoke(JAXRSInvoker.java:243)\n",
        "\tat org.apache.cxf.jaxrs.JAXRSInvoker.invoke(JAXRSInvoker.java:94)\n",
        "\tat org.apache.cxf.interceptor.ServiceInvokerInterceptor$1.run(ServiceInvokerInterceptor.java:58)\n",
        "\tat org.apache.cxf.interceptor.ServiceInvokerInterceptor.handleMessage(ServiceInvokerInterceptor.java:94)\n",
        "\tat org.apache.cxf.phase.PhaseInterceptorChain.doIntercept(PhaseInterceptorChain.java:263)\n",
        "\tat org.apache.cxf.transport.ChainInitiationObserver.onMessage(ChainInitiationObserver.java:122)\n",
        "\tat org.apache.cxf.transport.http.AbstractHTTPDestination.invoke(AbstractHTTPDestination.java:233)\n",
        "\tat org.apache.cxf.transport.servlet.ServletController.invokeDestination(ServletController.java:214)\n",
        "\tat org.apache.cxf.transport.servlet.ServletController.invoke(ServletController.java:194)\n",
        "\tat org.apache.cxf.transport.servlet.CXFNonSpringServlet.invoke(CXFNonSpringServlet.java:129)\n",
        "\tat org.apache.cxf.transport.servlet.AbstractHTTPServlet.handleRequest(AbstractHTTPServlet.java:223)\n",
        "\tat org.apache.cxf.transport.servlet.AbstractHTTPServlet.doGet(AbstractHTTPServlet.java:148)\n",
        "\tat javax.servlet.http.HttpServlet.service(HttpServlet.java:735)\n",
        "\tat org.apache.cxf.transport.servlet.AbstractHTTPServlet.service(AbstractHTTPServlet.java:199)\n",
        "\tat org.eclipse.jetty.servlet.ServletHolder.handle(ServletHolder.java:643)\n",
        "\tat org.eclipse.jetty.servlet.ServletHandler$CachedChain.doFilter(ServletHandler.java:1331)\n",
        "\tat com.thetransactioncompany.cors.CORSFilter.doFilter(Unknown Source)\n",
        "\tat com.thetransactioncompany.cors.CORSFilter.doFilter(Unknown Source)\n",
        "\tat org.eclipse.jetty.servlet.ServletHandler$CachedChain.doFilter(ServletHandler.java:1302)\n",
        "\tat org.springframework.orm.jpa.support.OpenEntityManagerInViewFilter.doFilterInternal(OpenEntityManagerInViewFilter.java:113)\n",
        "\tat org.springframework.web.filter.OncePerRequestFilter.doFilter(OncePerRequestFilter.java:76)\n",
        "\tat org.eclipse.jetty.servlet.ServletHandler$CachedChain.doFilter(ServletHandler.java:1302)\n",
        "\tat org.eclipse.jetty.servlet.ServletHandler.doHandle(ServletHandler.java:448)\n",
        "\tat org.eclipse.jetty.server.handler.ScopedHandler.handle(ScopedHandler.java:131)\n",
        "\tat org.eclipse.jetty.security.SecurityHandler.handle(SecurityHandler.java:524)\n",
        "\tat org.eclipse.jetty.server.session.SessionHandler.doHandle(SessionHandler.java:231)\n",
        "\tat org.eclipse.jetty.server.handler.ContextHandler.doHandle(ContextHandler.java:1067)\n",
        "\tat org.eclipse.jetty.servlet.ServletHandler.doScope(ServletHandler.java:377)\n",
        "\tat org.eclipse.jetty.server.session.SessionHandler.doScope(SessionHandler.java:192)\n",
        "\tat org.eclipse.jetty.server.handler.ContextHandler.doScope(ContextHandler.java:1001)\n",
        "\tat org.eclipse.jetty.server.handler.ScopedHandler.handle(ScopedHandler.java:129)\n",
        "\tat org.eclipse.jetty.server.handler.ContextHandlerCollection.handle(ContextHandlerCollection.java:250)\n",
        "\tat org.eclipse.jetty.server.handler.HandlerCollection.handle(HandlerCollection.java:149)\n",
        "\tat org.eclipse.jetty.server.handler.HandlerWrapper.handle(HandlerWrapper.java:111)\n",
        "\tat org.eclipse.jetty.server.Server.handle(Server.java:360)\n",
        "\tat org.eclipse.jetty.server.AbstractHttpConnection.handleRequest(AbstractHttpConnection.java:454)\n",
        "\tat org.eclipse.jetty.server.AbstractHttpConnection.headerComplete(AbstractHttpConnection.java:890)\n",
        "\tat org.eclipse.jetty.server.AbstractHttpConnection$RequestHandler.headerComplete(AbstractHttpConnection.java:944)\n",
        "\tat org.eclipse.jetty.http.HttpParser.parseNext(HttpParser.java:630)\n",
        "\tat org.eclipse.jetty.http.HttpParser.parseAvailable(HttpParser.java:230)\n",
        "\tat org.eclipse.jetty.server.AsyncHttpConnection.handle(AsyncHttpConnection.java:77)\n",
        "\tat org.eclipse.jetty.io.nio.SelectChannelEndPoint.handle(SelectChannelEndPoint.java:622)\n",
        "\tat org.eclipse.jetty.io.nio.SelectChannelEndPoint$1.run(SelectChannelEndPoint.java:46)\n",
        "\tat org.eclipse.jetty.util.thread.QueuedThreadPool.runJob(QueuedThreadPool.java:603)\n",
        "\tat org.eclipse.jetty.util.thread.QueuedThreadPool$3.run(QueuedThreadPool.java:538)\n",
        "\tat java.lang.Thread.run(Thread.java:619)\n",
        "</pre>\n",
        "<hr /><i><small>Powered by Jetty://</small></i><br/>                                                \n",
        "<br/>                                                \n",
        "<br/>                                                \n",
        "<br/>                                                \n",
        "<br/>                                                \n",
        "<br/>                                                \n",
        "<br/>                                                \n",
        "<br/>                                                \n",
        "<br/>                                                \n",
        "<br/>                                                \n",
        "<br/>                                                \n",
        "<br/>                                                \n",
        "<br/>                                                \n",
        "<br/>                                                \n",
        "<br/>                                                \n",
        "<br/>                                                \n",
        "<br/>                                                \n",
        "<br/>                                                \n",
        "<br/>                                                \n",
        "<br/>                                                \n",
        "\n",
        "</body>\n",
        "</html>\n"
       ]
      },
      {
       "output_type": "stream",
       "stream": "stdout",
       "text": [
        "\n",
        "requested 0 out of 0\n",
        "\t\tRequested 0 out of 0\n",
        "\tCatalog searchTerms:  {}\n",
        "\tCatalog searchTerms:  {}\n",
        "\tCatalog searchTerms:  {}\n",
        "Processing http://ghrc.nsstc.nasa.gov/hydro/ghost.xml\n",
        "\tCatalog searchTerms: "
       ]
      },
      {
       "output_type": "stream",
       "stream": "stdout",
       "text": [
        " {'terms': 'searchTerms'}\n",
        "\tExample queries:  ['SSM/I']\n",
        "\tProcessing http://ghrc.nsstc.nasa.gov/hydro/ghost.pl?q=ds&format=atom&terms=\n",
        "requested 0 out of 0"
       ]
      },
      {
       "output_type": "stream",
       "stream": "stdout",
       "text": [
        "\n",
        "\t\tRequested 0 out of 0\n",
        "\t\tProcessing http://ghrc.nsstc.nasa.gov/hydro/ghost.pl?q=ds&format=atom&terms=SSM%2FI\n",
        "requested 0 out of 0"
       ]
      },
      {
       "output_type": "stream",
       "stream": "stdout",
       "text": [
        "\n",
        "\t\t\tRequested 0 out of 0\n",
        "Processing http://mirador.gsfc.nasa.gov/mirador_dataset_opensearch.xml\n",
        "\tCatalog searchTerms: "
       ]
      },
      {
       "output_type": "stream",
       "stream": "stdout",
       "text": [
        " {'keyword': 'searchTerms'}\n",
        "\tExample queries:  ['ozone', 'Surface Air Temperature']\n",
        "\tProcessing http://mirador.gsfc.nasa.gov/cgi-bin/mirador/collectionlist.pl?format=atom&keyword=\n",
        "requested 1500 out of 590"
       ]
      },
      {
       "output_type": "stream",
       "stream": "stdout",
       "text": [
        "\n",
        "\t\tRequested 1500 out of 590\n",
        "\t\tProcessing http://mirador.gsfc.nasa.gov/cgi-bin/mirador/collectionlist.pl?format=atom&keyword=ozone\n",
        "requested 1500 out of 86"
       ]
      },
      {
       "output_type": "stream",
       "stream": "stdout",
       "text": [
        "\n",
        "\t\t\tRequested 1500 out of 86\n",
        "Processing http://eo-virtual-archive4.esa.int/search/ER02_SAR_RAW_0P/description\n",
        "\tCatalog searchTerms: "
       ]
      },
      {
       "output_type": "stream",
       "stream": "stdout",
       "text": [
        " {'q': 'searchTerms'}\n",
        "\tExample queries:  []\n",
        "\tProcessing http://eo-virtual-archive4.esa.int/search/ER02_SAR_RAW_0P/atom/?&q=\n",
        "requested 20 out of 17,746"
       ]
      },
      {
       "output_type": "stream",
       "stream": "stdout",
       "text": [
        "\n",
        "\t\tRequested 20 out of 17,746\n",
        "Processing http://www1.usgs.gov/erddap/opensearch1.1/description.xml\n",
        "\tCatalog searchTerms: "
       ]
      },
      {
       "output_type": "stream",
       "stream": "stdout",
       "text": [
        " {'searchTerms': 'searchTerms'}\n",
        "\tExample queries:  ['datasetID']\n",
        "\tProcessing http://www1.usgs.gov/erddap/opensearch1.1/search?format=atom&searchTerms=\n",
        "requested 1000 out of 1"
       ]
      },
      {
       "output_type": "stream",
       "stream": "stdout",
       "text": [
        "\n",
        "\t\tRequested 1000 out of 1\n",
        "\t\tProcessing http://www1.usgs.gov/erddap/opensearch1.1/search?format=atom&searchTerms=datasetID\n",
        "requested 1000 out of 1"
       ]
      },
      {
       "output_type": "stream",
       "stream": "stdout",
       "text": [
        "\n",
        "\t\t\tRequested 1000 out of 1\n",
        "Processing http://geo.spacebel.be/opensearch/description.xml\n",
        "\tCatalog searchTerms: "
       ]
      },
      {
       "output_type": "stream",
       "stream": "stdout",
       "text": [
        " {'query': 'searchTerms'}\n",
        "\tExample queries:  ['california']\n",
        "\tProcessing http://geo.spacebel.be:80/opensearch/request/?httpAccept=application%2Fatom%2Bxml&query=\n",
        "requested 10 out of 2,583"
       ]
      },
      {
       "output_type": "stream",
       "stream": "stdout",
       "text": [
        "\n",
        "\t\tRequested 10 out of 2,583\n",
        "\t\tProcessing http://geo.spacebel.be:80/opensearch/request/?httpAccept=application%2Fatom%2Bxml&query=california\n",
        "requested 10 out of 128"
       ]
      },
      {
       "output_type": "stream",
       "stream": "stdout",
       "text": [
        "\n",
        "\t\t\tRequested 10 out of 128\n",
        "\tCatalog searchTerms:  {'query': 'searchTerms'}\n",
        "\tExample queries:  ['california']\n",
        "\tProcessing http://geo.spacebel.be:80/opensearch/request/?httpAccept=application%2Fatom%2Bxml&query=\n",
        "requested 10 out of 2,583"
       ]
      },
      {
       "output_type": "stream",
       "stream": "stdout",
       "text": [
        "\n",
        "\t\tRequested 10 out of 2,583\n",
        "\t\tProcessing http://geo.spacebel.be:80/opensearch/request/?httpAccept=application%2Fatom%2Bxml&query=california\n",
        "requested 10 out of 128"
       ]
      },
      {
       "output_type": "stream",
       "stream": "stdout",
       "text": [
        "\n",
        "\t\t\tRequested 10 out of 128\n"
       ]
      }
     ],
     "prompt_number": 135
    },
    {
     "cell_type": "code",
     "collapsed": false,
     "input": [
      "# assume we harvested the description document first\n",
      "catalog_url = 'http://uaf.nodc.noaa.gov/geoportal/openSearchDescription'\n",
      "\n",
      "req = requests.get(catalog_url)\n",
      "osdd = req.content\n",
      "\n",
      "# parse the xml \n",
      "xml = etree.fromstring(osdd)\n",
      "\n",
      "# for reference\n",
      "print osdd\n",
      "\n",
      "# we want to get this: http://uaf.nodc.noaa.gov/geoportal/rest/find/document?searchText=\n",
      "# to trigger the 'return all' scenario (we can count later) and use the georss? sure why not\n",
      "# append ?f=georss\n",
      "\n",
      "urls = xml.xpath('//*[local-name()=\"Url\" and @type=\"application/rss+xml\"]')\n",
      "\n",
      "'''\n",
      "<Url type=\"application/rss+xml\" indexOffset=\"1\" pageOffset=\"1\" \n",
      "template=\"http://uaf.nodc.noaa.gov/geoportal/rest/find/document?\n",
      "    searchText={searchTerms}&amp;\n",
      "    start={startIndex?}&amp;\n",
      "    max={count?}&amp;\n",
      "    bbox={geo:box?}&amp;\n",
      "    f=georss\"/>\n",
      "'''\n",
      "\n",
      "template_url = urls[0].attrib.get('template', '')\n",
      "\n",
      "# if i hadn't seen so many osdd docs, i would say that we could try to use the Query \n",
      "# element to locate the key but it's often missing and searchTerms is common (assumptions are\n",
      "# bad). today let's pretend we are standardized and normal, searchTerms it is.\n",
      "\n",
      "# parse the url first (scheme, netloc and path)\n",
      "template_parts = urlparse.urlparse(template_url)\n",
      "\n",
      "base_url = urlparse.urlunparse((\n",
      "    template_parts.scheme,\n",
      "    template_parts.netloc,\n",
      "    template_parts.path,\n",
      "    None,\n",
      "    None,\n",
      "    None\n",
      "))\n",
      "\n",
      "qp = urlparse.parse_qs(template_parts.query)\n",
      "\n",
      "# or we can get the things that aren't \"parameters\" and the thing that is required?\n",
      "# mildly shaky ground but not the worst\n",
      "qp\n",
      "\n"
     ],
     "language": "python",
     "metadata": {},
     "outputs": [
      {
       "metadata": {},
       "output_type": "pyout",
       "prompt_number": 78,
       "text": [
        "{'bbox': ['{geo:box?}'],\n",
        " 'f': ['georss'],\n",
        " 'max': ['{count?}'],\n",
        " 'searchText': ['{searchTerms}'],\n",
        " 'start': ['{startIndex?}']}"
       ]
      }
     ],
     "prompt_number": 78
    },
    {
     "cell_type": "code",
     "collapsed": false,
     "input": [
      "# and run a second search\n",
      "req = requests.get(base_url + new_qp)\n",
      "if req.status_code != 200:\n",
      "    print 'request failed', req.content\n",
      "\n",
      "req.content"
     ],
     "language": "python",
     "metadata": {},
     "outputs": [
      {
       "metadata": {},
       "output_type": "pyout",
       "prompt_number": 88,
       "text": [
        "'<?xml version=\"1.0\" encoding=\"UTF-8\"?>\\r\\n<rss version=\"2.0\" xmlns:georss=\"http://www.georss.org/georss\" xmlns:media=\"http://search.yahoo.com/mrss/\" xmlns:opensearch=\"http://a9.com/-/spec/opensearch/1.1/\" xmlns:atom=\"http://www.w3.org/2005/Atom\" xmlns:geoportal=\"http://www.esri.com/geoportal\">\\r\\n<channel>\\r\\n<title>UAF Geoportal GeoRSS</title>\\r\\n<description>Most recently updated metadata documents.</description>\\r\\n<link>http://uaf.nodc.noaa.gov/geoportal</link>\\r\\n<docs>http://www.rssboard.org/rss-specification</docs>\\r\\n<category>GeoRss</category>\\r\\n<generator>Geoportal</generator>\\r\\n<managingEditor>NODC.Geoportal.Admins@noaa.gov</managingEditor>\\r\\n<webMaster>NODC.Geoportal.Admins@noaa.gov</webMaster>\\r\\n<atom:link rel=\"search\" type=\"application/opensearchdescription+xml\" href=\"http://uaf.nodc.noaa.gov/geoportal/openSearchDescription\" title=\"UAF OpenSearch\"/>\\r\\n<opensearch:totalResults>1375209</opensearch:totalResults>\\r\\n<opensearch:startIndex>1</opensearch:startIndex>\\r\\n<opensearch:itemsPerPage>10</opensearch:itemsPerPage>\\r\\n<atom:link href=\"http://uaf.nodc.noaa.gov/geoportal/rest/find/document?f=georss&amp;searchTerms=\" rel=\"self\" type=\"application/rss+xml\" />\\r\\n<item>\\r\\n<link>http://uaf.nodc.noaa.gov/geoportal/rest/document?id=%7B6679E4F9-2E03-442E-8826-107AC398C74F%7D</link>\\r\\n<guid isPermaLink=\"true\">http://uaf.nodc.noaa.gov/geoportal/rest/document?id=%7B6679E4F9-2E03-442E-8826-107AC398C74F%7D</guid>\\r\\n<title>NEFSC Continuous Plankton Recorder</title>\\r\\n<pubDate>Sat, 18 Apr 2015 23:39:31 +0000</pubDate>\\r\\n<source url=\"http://uaf.nodc.noaa.gov/geoportal/rest/find/document?f=georss&amp;searchTerms=\">UAF Geoportal GeoRSS</source>\\r\\n<description><![CDATA[\\r\\n<div class=\"snippet\">\\r\\n<div class=\"abstract\" style=\"overflow: auto;\" >\\r\\nA summary for the data\\r\\n</div>\\r\\n<div class=\"links\">\\r\\n<A HREF=\"coastwatch.pfeg.noaa.gov/erddap\" target=\"_blank\">Website</A>\\r\\n<A HREF=\"http://uaf.nodc.noaa.gov/geoportal/catalog/search/resource/details.page?uuid=%7B6679E4F9-2E03-442E-8826-107AC398C74F%7D\" target=\"_blank\">Details</A>\\r\\n<A HREF=\"http://uaf.nodc.noaa.gov/geoportal/rest/document?id=%7B6679E4F9-2E03-442E-8826-107AC398C74F%7D\" target=\"_blank\">Metadata</A>\\r\\n<A HREF=\"http://oceanview.pfeg.noaa.gov/erddap/tabledap/wocecpr.html\" target=\"_blank\">ERDDAP</A>\\r\\n</div>\\r\\n</div>\\r\\n]]></description>\\r\\n<category>downloadableData</category>\\r\\n<media:thumbnail url=\"http://uaf.nodc.noaa.gov/geoportal/catalog/images/ContentType_downloadableData.png\"/>\\r\\n<georss:polygon>43.4346 -43.4346 43.4346 -37.1274 37.1274 -37.1274 37.1274 -43.4346 43.4346 -43.4346</georss:polygon>\\r\\n</item>\\r\\n<item>\\r\\n<link>http://uaf.nodc.noaa.gov/geoportal/rest/document?id=%7B8EB5DEC7-8C41-4EAE-A15E-E5354B783616%7D</link>\\r\\n<guid isPermaLink=\"true\">http://uaf.nodc.noaa.gov/geoportal/rest/document?id=%7B8EB5DEC7-8C41-4EAE-A15E-E5354B783616%7D</guid>\\r\\n<title>World Ocean Atlas 2009 1x1 Seasonal means</title>\\r\\n<pubDate>Sat, 18 Apr 2015 23:39:25 +0000</pubDate>\\r\\n<source url=\"http://uaf.nodc.noaa.gov/geoportal/rest/find/document?f=georss&amp;searchTerms=\">UAF Geoportal GeoRSS</source>\\r\\n<description><![CDATA[\\r\\n<div class=\"snippet\">\\r\\n<div class=\"abstract\" style=\"overflow: auto;\" >\\r\\nWorld Ocean Atlas 2009 (WOA09) is a set of objectively analyzed (1 degree grid) climatological fields of in situ temperature, salinity, dissolved oxygen, Apparent Oxygen Utilization (AOU), percent oxygen saturation, phosphate, silicate, and nitrate at sta...\\r\\n</div>\\r\\n<div class=\"links\">\\r\\n<A HREF=\"http://ferret.pmel.noaa.gov/geoide/wms/woa09_1deg_seasonal?service=WMS&amp;version=1.3.0&amp;request=GetCapabilities\" target=\"_blank\">Open</A>\\r\\n<A HREF=\"http://uaf.nodc.noaa.gov/geoportal/catalog/search/resource/livedata-preview.page?uuid=%7B8EB5DEC7-8C41-4EAE-A15E-E5354B783616%7D&amp;url=http%3A%2F%2Fferret.pmel.noaa.gov%2Fgeoide%2Fwms%2Fwoa09_1deg_seasonal%3Fservice%3DWMS%26version%3D1.3.0%26request%3DGetCapabilities&amp;resourceType=wms&amp;info=http%3A%2F%2Fuaf.nodc.noaa.gov%2Fgeoportal%2Frest%2Fdocument%3Ff%3Dhtml%26id%3D%257B8EB5DEC7-8C41-4EAE-A15E-E5354B783616%257D\" target=\"_blank\">Preview</A>\\r\\n<A HREF=\"http://www.nodc.noaa.gov\" target=\"_blank\">Website</A>\\r\\n<A HREF=\"http://uaf.nodc.noaa.gov/geoportal/catalog/search/resource/details.page?uuid=%7B8EB5DEC7-8C41-4EAE-A15E-E5354B783616%7D\" target=\"_blank\">Details</A>\\r\\n<A HREF=\"http://uaf.nodc.noaa.gov/geoportal/rest/document?id=%7B8EB5DEC7-8C41-4EAE-A15E-E5354B783616%7D\" target=\"_blank\">Metadata</A>\\r\\n<A HREF=\"http://ferret.pmel.noaa.gov/geoide/wms/woa09_1deg_seasonal?service=WMS&amp;version=1.3.0&amp;request=GetCapabilities\" target=\"_blank\">WMS</A>\\r\\n<A HREF=\"http://upwell.pfeg.noaa.gov/erddap/search/index.html?searchFor=http://ferret.pmel.noaa.gov/thredds/dodsC/woa09_1deg_seasonal\" target=\"_blank\">ERDDAP</A>\\r\\n<A HREF=\"http://ferret.pmel.noaa.gov/thredds/wcs/woa09_1deg_seasonal?service=WCS&amp;version=1.0.0&amp;request=GetCapabilities\" target=\"_blank\">WCS</A>\\r\\n<A HREF=\"http://ferret.pmel.noaa.gov/geoideLAS/getUI.do?data_url=http://ferret.pmel.noaa.gov/thredds/dodsC/woa09_1deg_seasonal\" target=\"_blank\">LAS</A>\\r\\n<A HREF=\"http://www.ncdc.noaa.gov/oa/wct/wct-jnlp-beta.php?singlefile=http://ferret.pmel.noaa.gov/thredds/dodsC/woa09_1deg_seasonal\" target=\"_blank\">WCT</A>\\r\\n<A HREF=\"http://ferret.pmel.noaa.gov/thredds/dodsC/woa09_1deg_seasonal\" target=\"_blank\">OPeNDAP</A>\\r\\n</div>\\r\\n</div>\\r\\n]]></description>\\r\\n<category>downloadableData</category>\\r\\n<media:thumbnail url=\"http://uaf.nodc.noaa.gov/geoportal/catalog/images/ContentType_downloadableData.png\"/>\\r\\n<georss:polygon>89.5 0.5 89.5 359.5 -89.5 359.5 -89.5 0.5 89.5 0.5</georss:polygon>\\r\\n<geoportal:resourceUrl resourceType=\"wms\">http://ferret.pmel.noaa.gov/geoide/wms/woa09_1deg_seasonal?service=WMS&amp;version=1.3.0&amp;request=GetCapabilities</geoportal:resourceUrl>\\r\\n</item>\\r\\n<item>\\r\\n<link>http://uaf.nodc.noaa.gov/geoportal/rest/document?id=%7BBFB36397-79D6-4C78-B83B-2DBFFEFD0CBF%7D</link>\\r\\n<guid isPermaLink=\"true\">http://uaf.nodc.noaa.gov/geoportal/rest/document?id=%7BBFB36397-79D6-4C78-B83B-2DBFFEFD0CBF%7D</guid>\\r\\n<title>World Ocean Atlas 2009 1x1 Monthly means</title>\\r\\n<pubDate>Sat, 18 Apr 2015 23:39:22 +0000</pubDate>\\r\\n<source url=\"http://uaf.nodc.noaa.gov/geoportal/rest/find/document?f=georss&amp;searchTerms=\">UAF Geoportal GeoRSS</source>\\r\\n<description><![CDATA[\\r\\n<div class=\"snippet\">\\r\\n<div class=\"abstract\" style=\"overflow: auto;\" >\\r\\nWorld Ocean Atlas 2009 (WOA09) is a set of objectively analyzed (1 degree grid) climatological fields of in situ temperature, salinity, dissolved oxygen, Apparent Oxygen Utilization (AOU), percent oxygen saturation, phosphate, silicate, and nitrate at sta...\\r\\n</div>\\r\\n<div class=\"links\">\\r\\n<A HREF=\"http://ferret.pmel.noaa.gov/geoide/wms/woa09_1deg_monthly?service=WMS&amp;version=1.3.0&amp;request=GetCapabilities\" target=\"_blank\">Open</A>\\r\\n<A HREF=\"http://uaf.nodc.noaa.gov/geoportal/catalog/search/resource/livedata-preview.page?uuid=%7BBFB36397-79D6-4C78-B83B-2DBFFEFD0CBF%7D&amp;url=http%3A%2F%2Fferret.pmel.noaa.gov%2Fgeoide%2Fwms%2Fwoa09_1deg_monthly%3Fservice%3DWMS%26version%3D1.3.0%26request%3DGetCapabilities&amp;resourceType=wms&amp;info=http%3A%2F%2Fuaf.nodc.noaa.gov%2Fgeoportal%2Frest%2Fdocument%3Ff%3Dhtml%26id%3D%257BBFB36397-79D6-4C78-B83B-2DBFFEFD0CBF%257D\" target=\"_blank\">Preview</A>\\r\\n<A HREF=\"http://www.nodc.noaa.gov\" target=\"_blank\">Website</A>\\r\\n<A HREF=\"http://uaf.nodc.noaa.gov/geoportal/catalog/search/resource/details.page?uuid=%7BBFB36397-79D6-4C78-B83B-2DBFFEFD0CBF%7D\" target=\"_blank\">Details</A>\\r\\n<A HREF=\"http://uaf.nodc.noaa.gov/geoportal/rest/document?id=%7BBFB36397-79D6-4C78-B83B-2DBFFEFD0CBF%7D\" target=\"_blank\">Metadata</A>\\r\\n<A HREF=\"http://ferret.pmel.noaa.gov/geoide/wms/woa09_1deg_monthly?service=WMS&amp;version=1.3.0&amp;request=GetCapabilities\" target=\"_blank\">WMS</A>\\r\\n<A HREF=\"http://upwell.pfeg.noaa.gov/erddap/search/index.html?searchFor=http://ferret.pmel.noaa.gov/thredds/dodsC/woa09_1deg_monthly\" target=\"_blank\">ERDDAP</A>\\r\\n<A HREF=\"http://ferret.pmel.noaa.gov/thredds/wcs/woa09_1deg_monthly?service=WCS&amp;version=1.0.0&amp;request=GetCapabilities\" target=\"_blank\">WCS</A>\\r\\n<A HREF=\"http://ferret.pmel.noaa.gov/geoideLAS/getUI.do?data_url=http://ferret.pmel.noaa.gov/thredds/dodsC/woa09_1deg_monthly\" target=\"_blank\">LAS</A>\\r\\n<A HREF=\"http://www.ncdc.noaa.gov/oa/wct/wct-jnlp-beta.php?singlefile=http://ferret.pmel.noaa.gov/thredds/dodsC/woa09_1deg_monthly\" target=\"_blank\">WCT</A>\\r\\n<A HREF=\"http://ferret.pmel.noaa.gov/thredds/dodsC/woa09_1deg_monthly\" target=\"_blank\">OPeNDAP</A>\\r\\n</div>\\r\\n</div>\\r\\n]]></description>\\r\\n<category>downloadableData</category>\\r\\n<media:thumbnail url=\"http://uaf.nodc.noaa.gov/geoportal/catalog/images/ContentType_downloadableData.png\"/>\\r\\n<georss:polygon>89.5 0.5 89.5 359.5 -89.5 359.5 -89.5 0.5 89.5 0.5</georss:polygon>\\r\\n<geoportal:resourceUrl resourceType=\"wms\">http://ferret.pmel.noaa.gov/geoide/wms/woa09_1deg_monthly?service=WMS&amp;version=1.3.0&amp;request=GetCapabilities</geoportal:resourceUrl>\\r\\n</item>\\r\\n<item>\\r\\n<link>http://uaf.nodc.noaa.gov/geoportal/rest/document?id=%7B430DF3A3-1F78-4B92-A71B-6E96EEFA1DF6%7D</link>\\r\\n<guid isPermaLink=\"true\">http://uaf.nodc.noaa.gov/geoportal/rest/document?id=%7B430DF3A3-1F78-4B92-A71B-6E96EEFA1DF6%7D</guid>\\r\\n<title>World Ocean Atlas 2009 1x1 Annual means</title>\\r\\n<pubDate>Sat, 18 Apr 2015 23:39:19 +0000</pubDate>\\r\\n<source url=\"http://uaf.nodc.noaa.gov/geoportal/rest/find/document?f=georss&amp;searchTerms=\">UAF Geoportal GeoRSS</source>\\r\\n<description><![CDATA[\\r\\n<div class=\"snippet\">\\r\\n<div class=\"abstract\" style=\"overflow: auto;\" >\\r\\nWorld Ocean Atlas 2009 (WOA09) is a set of objectively analyzed (1 degree grid) climatological fields of in situ temperature, salinity, dissolved oxygen, Apparent Oxygen Utilization (AOU), percent oxygen saturation, phosphate, silicate, and nitrate at sta...\\r\\n</div>\\r\\n<div class=\"links\">\\r\\n<A HREF=\"http://ferret.pmel.noaa.gov/geoide/wms/woa09_1deg_annual?service=WMS&amp;version=1.3.0&amp;request=GetCapabilities\" target=\"_blank\">Open</A>\\r\\n<A HREF=\"http://uaf.nodc.noaa.gov/geoportal/catalog/search/resource/livedata-preview.page?uuid=%7B430DF3A3-1F78-4B92-A71B-6E96EEFA1DF6%7D&amp;url=http%3A%2F%2Fferret.pmel.noaa.gov%2Fgeoide%2Fwms%2Fwoa09_1deg_annual%3Fservice%3DWMS%26version%3D1.3.0%26request%3DGetCapabilities&amp;resourceType=wms&amp;info=http%3A%2F%2Fuaf.nodc.noaa.gov%2Fgeoportal%2Frest%2Fdocument%3Ff%3Dhtml%26id%3D%257B430DF3A3-1F78-4B92-A71B-6E96EEFA1DF6%257D\" target=\"_blank\">Preview</A>\\r\\n<A HREF=\"http://www.nodc.noaa.gov\" target=\"_blank\">Website</A>\\r\\n<A HREF=\"http://uaf.nodc.noaa.gov/geoportal/catalog/search/resource/details.page?uuid=%7B430DF3A3-1F78-4B92-A71B-6E96EEFA1DF6%7D\" target=\"_blank\">Details</A>\\r\\n<A HREF=\"http://uaf.nodc.noaa.gov/geoportal/rest/document?id=%7B430DF3A3-1F78-4B92-A71B-6E96EEFA1DF6%7D\" target=\"_blank\">Metadata</A>\\r\\n<A HREF=\"http://ferret.pmel.noaa.gov/geoide/wms/woa09_1deg_annual?service=WMS&amp;version=1.3.0&amp;request=GetCapabilities\" target=\"_blank\">WMS</A>\\r\\n<A HREF=\"http://upwell.pfeg.noaa.gov/erddap/search/index.html?searchFor=http://ferret.pmel.noaa.gov/thredds/dodsC/woa09_1deg_annual\" target=\"_blank\">ERDDAP</A>\\r\\n<A HREF=\"http://ferret.pmel.noaa.gov/thredds/wcs/woa09_1deg_annual?service=WCS&amp;version=1.0.0&amp;request=GetCapabilities\" target=\"_blank\">WCS</A>\\r\\n<A HREF=\"http://ferret.pmel.noaa.gov/geoideLAS/getUI.do?data_url=http://ferret.pmel.noaa.gov/thredds/dodsC/woa09_1deg_annual\" target=\"_blank\">LAS</A>\\r\\n<A HREF=\"http://www.ncdc.noaa.gov/oa/wct/wct-jnlp-beta.php?singlefile=http://ferret.pmel.noaa.gov/thredds/dodsC/woa09_1deg_annual\" target=\"_blank\">WCT</A>\\r\\n<A HREF=\"http://ferret.pmel.noaa.gov/thredds/dodsC/woa09_1deg_annual\" target=\"_blank\">OPeNDAP</A>\\r\\n</div>\\r\\n</div>\\r\\n]]></description>\\r\\n<category>downloadableData</category>\\r\\n<media:thumbnail url=\"http://uaf.nodc.noaa.gov/geoportal/catalog/images/ContentType_downloadableData.png\"/>\\r\\n<georss:polygon>89.5 0.5 89.5 359.5 -89.5 359.5 -89.5 0.5 89.5 0.5</georss:polygon>\\r\\n<geoportal:resourceUrl resourceType=\"wms\">http://ferret.pmel.noaa.gov/geoide/wms/woa09_1deg_annual?service=WMS&amp;version=1.3.0&amp;request=GetCapabilities</geoportal:resourceUrl>\\r\\n</item>\\r\\n<item>\\r\\n<link>http://uaf.nodc.noaa.gov/geoportal/rest/document?id=%7B67808387-6E55-417D-958A-87E992BBAEED%7D</link>\\r\\n<guid isPermaLink=\"true\">http://uaf.nodc.noaa.gov/geoportal/rest/document?id=%7B67808387-6E55-417D-958A-87E992BBAEED%7D</guid>\\r\\n<title>Analysed foundation sea surface temperature of Northern and Western Europe</title>\\r\\n<pubDate>Sat, 18 Apr 2015 23:39:16 +0000</pubDate>\\r\\n<source url=\"http://uaf.nodc.noaa.gov/geoportal/rest/find/document?f=georss&amp;searchTerms=\">UAF Geoportal GeoRSS</source>\\r\\n<description><![CDATA[\\r\\n<div class=\"snippet\">\\r\\n<div class=\"links\">\\r\\n<A HREF=\"http://data.nodc.noaa.gov/thredds/wms/testdata/ghrsst_ncml/fullAgg/aggregate__ghrsst_L4_NWE_EUR_ODYSSEA.ncml?service=WMS&amp;version=1.3.0&amp;request=GetCapabilities\" target=\"_blank\">Open</A>\\r\\n<A HREF=\"http://uaf.nodc.noaa.gov/geoportal/catalog/search/resource/livedata-preview.page?uuid=%7B67808387-6E55-417D-958A-87E992BBAEED%7D&amp;url=http%3A%2F%2Fdata.nodc.noaa.gov%2Fthredds%2Fwms%2Ftestdata%2Fghrsst_ncml%2FfullAgg%2Faggregate__ghrsst_L4_NWE_EUR_ODYSSEA.ncml%3Fservice%3DWMS%26version%3D1.3.0%26request%3DGetCapabilities&amp;resourceType=wms&amp;info=http%3A%2F%2Fuaf.nodc.noaa.gov%2Fgeoportal%2Frest%2Fdocument%3Ff%3Dhtml%26id%3D%257B67808387-6E55-417D-958A-87E992BBAEED%257D\" target=\"_blank\">Preview</A>\\r\\n<A HREF=\"http://uaf.nodc.noaa.gov/geoportal/catalog/search/resource/details.page?uuid=%7B67808387-6E55-417D-958A-87E992BBAEED%7D\" target=\"_blank\">Details</A>\\r\\n<A HREF=\"http://uaf.nodc.noaa.gov/geoportal/rest/document?id=%7B67808387-6E55-417D-958A-87E992BBAEED%7D\" target=\"_blank\">Metadata</A>\\r\\n<A HREF=\"http://data.nodc.noaa.gov/thredds/wms/testdata/ghrsst_ncml/fullAgg/aggregate__ghrsst_L4_NWE_EUR_ODYSSEA.ncml?service=WMS&amp;version=1.3.0&amp;request=GetCapabilities\" target=\"_blank\">WMS</A>\\r\\n<A HREF=\"http://upwell.pfeg.noaa.gov/erddap/search/index.html?searchFor=http://data.nodc.noaa.gov/thredds/dodsC/testdata/ghrsst_ncml/fullAgg/aggregate__ghrsst_L4_NWE_EUR_ODYSSEA.ncml\" target=\"_blank\">ERDDAP</A>\\r\\n<A HREF=\"http://data.nodc.noaa.gov/thredds/wcs/testdata/ghrsst_ncml/fullAgg/aggregate__ghrsst_L4_NWE_EUR_ODYSSEA.ncml?service=WCS&amp;version=1.0.0&amp;request=GetCapabilities\" target=\"_blank\">WCS</A>\\r\\n<A HREF=\"http://ferret.pmel.noaa.gov/geoideLAS/getUI.do?data_url=http://data.nodc.noaa.gov/thredds/dodsC/testdata/ghrsst_ncml/fullAgg/aggregate__ghrsst_L4_NWE_EUR_ODYSSEA.ncml\" target=\"_blank\">LAS</A>\\r\\n<A HREF=\"http://www.ncdc.noaa.gov/oa/wct/wct-jnlp-beta.php?singlefile=http://data.nodc.noaa.gov/thredds/dodsC/testdata/ghrsst_ncml/fullAgg/aggregate__ghrsst_L4_NWE_EUR_ODYSSEA.ncml\" target=\"_blank\">WCT</A>\\r\\n<A HREF=\"http://data.nodc.noaa.gov/thredds/dodsC/testdata/ghrsst_ncml/fullAgg/aggregate__ghrsst_L4_NWE_EUR_ODYSSEA.ncml\" target=\"_blank\">OPeNDAP</A>\\r\\n</div>\\r\\n</div>\\r\\n]]></description>\\r\\n<category>downloadableData</category>\\r\\n<media:thumbnail url=\"http://uaf.nodc.noaa.gov/geoportal/catalog/images/ContentType_downloadableData.png\"/>\\r\\n<georss:polygon>59.9900016784668 -12.989999771118164 59.9900016784668 8.989999771118164 43.0099983215332 8.989999771118164 43.0099983215332 -12.989999771118164 59.9900016784668 -12.989999771118164</georss:polygon>\\r\\n<geoportal:resourceUrl resourceType=\"wms\">http://data.nodc.noaa.gov/thredds/wms/testdata/ghrsst_ncml/fullAgg/aggregate__ghrsst_L4_NWE_EUR_ODYSSEA.ncml?service=WMS&amp;version=1.3.0&amp;request=GetCapabilities</geoportal:resourceUrl>\\r\\n</item>\\r\\n<item>\\r\\n<link>http://uaf.nodc.noaa.gov/geoportal/rest/document?id=%7BF4BE4953-918D-450B-8BCA-52086F106A97%7D</link>\\r\\n<guid isPermaLink=\"true\">http://uaf.nodc.noaa.gov/geoportal/rest/document?id=%7BF4BE4953-918D-450B-8BCA-52086F106A97%7D</guid>\\r\\n<title>DMI Sea Surface Temperature analysis</title>\\r\\n<pubDate>Sat, 18 Apr 2015 23:39:13 +0000</pubDate>\\r\\n<source url=\"http://uaf.nodc.noaa.gov/geoportal/rest/find/document?f=georss&amp;searchTerms=\">UAF Geoportal GeoRSS</source>\\r\\n<description><![CDATA[\\r\\n<div class=\"snippet\">\\r\\n<div class=\"links\">\\r\\n<A HREF=\"http://data.nodc.noaa.gov/thredds/wms/testdata/ghrsst_ncml/fullAgg/aggregate__ghrsst_L4_NSEABALTIC_DMI_OI.ncml?service=WMS&amp;version=1.3.0&amp;request=GetCapabilities\" target=\"_blank\">Open</A>\\r\\n<A HREF=\"http://uaf.nodc.noaa.gov/geoportal/catalog/search/resource/livedata-preview.page?uuid=%7BF4BE4953-918D-450B-8BCA-52086F106A97%7D&amp;url=http%3A%2F%2Fdata.nodc.noaa.gov%2Fthredds%2Fwms%2Ftestdata%2Fghrsst_ncml%2FfullAgg%2Faggregate__ghrsst_L4_NSEABALTIC_DMI_OI.ncml%3Fservice%3DWMS%26version%3D1.3.0%26request%3DGetCapabilities&amp;resourceType=wms&amp;info=http%3A%2F%2Fuaf.nodc.noaa.gov%2Fgeoportal%2Frest%2Fdocument%3Ff%3Dhtml%26id%3D%257BF4BE4953-918D-450B-8BCA-52086F106A97%257D\" target=\"_blank\">Preview</A>\\r\\n<A HREF=\"http://uaf.nodc.noaa.gov/geoportal/catalog/search/resource/details.page?uuid=%7BF4BE4953-918D-450B-8BCA-52086F106A97%7D\" target=\"_blank\">Details</A>\\r\\n<A HREF=\"http://uaf.nodc.noaa.gov/geoportal/rest/document?id=%7BF4BE4953-918D-450B-8BCA-52086F106A97%7D\" target=\"_blank\">Metadata</A>\\r\\n<A HREF=\"http://data.nodc.noaa.gov/thredds/wms/testdata/ghrsst_ncml/fullAgg/aggregate__ghrsst_L4_NSEABALTIC_DMI_OI.ncml?service=WMS&amp;version=1.3.0&amp;request=GetCapabilities\" target=\"_blank\">WMS</A>\\r\\n<A HREF=\"http://upwell.pfeg.noaa.gov/erddap/search/index.html?searchFor=http://data.nodc.noaa.gov/thredds/dodsC/testdata/ghrsst_ncml/fullAgg/aggregate__ghrsst_L4_NSEABALTIC_DMI_OI.ncml\" target=\"_blank\">ERDDAP</A>\\r\\n<A HREF=\"http://data.nodc.noaa.gov/thredds/wcs/testdata/ghrsst_ncml/fullAgg/aggregate__ghrsst_L4_NSEABALTIC_DMI_OI.ncml?service=WCS&amp;version=1.0.0&amp;request=GetCapabilities\" target=\"_blank\">WCS</A>\\r\\n<A HREF=\"http://ferret.pmel.noaa.gov/geoideLAS/getUI.do?data_url=http://data.nodc.noaa.gov/thredds/dodsC/testdata/ghrsst_ncml/fullAgg/aggregate__ghrsst_L4_NSEABALTIC_DMI_OI.ncml\" target=\"_blank\">LAS</A>\\r\\n<A HREF=\"http://www.ncdc.noaa.gov/oa/wct/wct-jnlp-beta.php?singlefile=http://data.nodc.noaa.gov/thredds/dodsC/testdata/ghrsst_ncml/fullAgg/aggregate__ghrsst_L4_NSEABALTIC_DMI_OI.ncml\" target=\"_blank\">WCT</A>\\r\\n<A HREF=\"http://data.nodc.noaa.gov/thredds/dodsC/testdata/ghrsst_ncml/fullAgg/aggregate__ghrsst_L4_NSEABALTIC_DMI_OI.ncml\" target=\"_blank\">OPeNDAP</A>\\r\\n</div>\\r\\n</div>\\r\\n]]></description>\\r\\n<category>downloadableData</category>\\r\\n<media:thumbnail url=\"http://uaf.nodc.noaa.gov/geoportal/catalog/images/ContentType_downloadableData.png\"/>\\r\\n<georss:polygon>65.97999572753906 -9.989999771118164 65.97999572753906 30.0 48.0099983215332 30.0 48.0099983215332 -9.989999771118164 65.97999572753906 -9.989999771118164</georss:polygon>\\r\\n<geoportal:resourceUrl resourceType=\"wms\">http://data.nodc.noaa.gov/thredds/wms/testdata/ghrsst_ncml/fullAgg/aggregate__ghrsst_L4_NSEABALTIC_DMI_OI.ncml?service=WMS&amp;version=1.3.0&amp;request=GetCapabilities</geoportal:resourceUrl>\\r\\n</item>\\r\\n<item>\\r\\n<link>http://uaf.nodc.noaa.gov/geoportal/rest/document?id=%7B25287FFF-847A-4A60-9057-18C3CE207F36%7D</link>\\r\\n<guid isPermaLink=\"true\">http://uaf.nodc.noaa.gov/geoportal/rest/document?id=%7B25287FFF-847A-4A60-9057-18C3CE207F36%7D</guid>\\r\\n<title>Analysed foundation sea surface temperature over Mediterranean sea - ODYSSEA</title>\\r\\n<pubDate>Sat, 18 Apr 2015 23:39:10 +0000</pubDate>\\r\\n<source url=\"http://uaf.nodc.noaa.gov/geoportal/rest/find/document?f=georss&amp;searchTerms=\">UAF Geoportal GeoRSS</source>\\r\\n<description><![CDATA[\\r\\n<div class=\"snippet\">\\r\\n<div class=\"links\">\\r\\n<A HREF=\"http://data.nodc.noaa.gov/thredds/wms/testdata/ghrsst_ncml/fullAgg/aggregate__ghrsst_L4_MED_EUR_ODYSSEA.ncml?service=WMS&amp;version=1.3.0&amp;request=GetCapabilities\" target=\"_blank\">Open</A>\\r\\n<A HREF=\"http://uaf.nodc.noaa.gov/geoportal/catalog/search/resource/livedata-preview.page?uuid=%7B25287FFF-847A-4A60-9057-18C3CE207F36%7D&amp;url=http%3A%2F%2Fdata.nodc.noaa.gov%2Fthredds%2Fwms%2Ftestdata%2Fghrsst_ncml%2FfullAgg%2Faggregate__ghrsst_L4_MED_EUR_ODYSSEA.ncml%3Fservice%3DWMS%26version%3D1.3.0%26request%3DGetCapabilities&amp;resourceType=wms&amp;info=http%3A%2F%2Fuaf.nodc.noaa.gov%2Fgeoportal%2Frest%2Fdocument%3Ff%3Dhtml%26id%3D%257B25287FFF-847A-4A60-9057-18C3CE207F36%257D\" target=\"_blank\">Preview</A>\\r\\n<A HREF=\"http://uaf.nodc.noaa.gov/geoportal/catalog/search/resource/details.page?uuid=%7B25287FFF-847A-4A60-9057-18C3CE207F36%7D\" target=\"_blank\">Details</A>\\r\\n<A HREF=\"http://uaf.nodc.noaa.gov/geoportal/rest/document?id=%7B25287FFF-847A-4A60-9057-18C3CE207F36%7D\" target=\"_blank\">Metadata</A>\\r\\n<A HREF=\"http://data.nodc.noaa.gov/thredds/wms/testdata/ghrsst_ncml/fullAgg/aggregate__ghrsst_L4_MED_EUR_ODYSSEA.ncml?service=WMS&amp;version=1.3.0&amp;request=GetCapabilities\" target=\"_blank\">WMS</A>\\r\\n<A HREF=\"http://upwell.pfeg.noaa.gov/erddap/search/index.html?searchFor=http://data.nodc.noaa.gov/thredds/dodsC/testdata/ghrsst_ncml/fullAgg/aggregate__ghrsst_L4_MED_EUR_ODYSSEA.ncml\" target=\"_blank\">ERDDAP</A>\\r\\n<A HREF=\"http://data.nodc.noaa.gov/thredds/wcs/testdata/ghrsst_ncml/fullAgg/aggregate__ghrsst_L4_MED_EUR_ODYSSEA.ncml?service=WCS&amp;version=1.0.0&amp;request=GetCapabilities\" target=\"_blank\">WCS</A>\\r\\n<A HREF=\"http://ferret.pmel.noaa.gov/geoideLAS/getUI.do?data_url=http://data.nodc.noaa.gov/thredds/dodsC/testdata/ghrsst_ncml/fullAgg/aggregate__ghrsst_L4_MED_EUR_ODYSSEA.ncml\" target=\"_blank\">LAS</A>\\r\\n<A HREF=\"http://www.ncdc.noaa.gov/oa/wct/wct-jnlp-beta.php?singlefile=http://data.nodc.noaa.gov/thredds/dodsC/testdata/ghrsst_ncml/fullAgg/aggregate__ghrsst_L4_MED_EUR_ODYSSEA.ncml\" target=\"_blank\">WCT</A>\\r\\n<A HREF=\"http://data.nodc.noaa.gov/thredds/dodsC/testdata/ghrsst_ncml/fullAgg/aggregate__ghrsst_L4_MED_EUR_ODYSSEA.ncml\" target=\"_blank\">OPeNDAP</A>\\r\\n</div>\\r\\n</div>\\r\\n]]></description>\\r\\n<category>downloadableData</category>\\r\\n<media:thumbnail url=\"http://uaf.nodc.noaa.gov/geoportal/catalog/images/ContentType_downloadableData.png\"/>\\r\\n<georss:polygon>46.4900016784668 -18.489999771118164 46.4900016784668 36.4900016784668 30.010000228881836 36.4900016784668 30.010000228881836 -18.489999771118164 46.4900016784668 -18.489999771118164</georss:polygon>\\r\\n<geoportal:resourceUrl resourceType=\"wms\">http://data.nodc.noaa.gov/thredds/wms/testdata/ghrsst_ncml/fullAgg/aggregate__ghrsst_L4_MED_EUR_ODYSSEA.ncml?service=WMS&amp;version=1.3.0&amp;request=GetCapabilities</geoportal:resourceUrl>\\r\\n</item>\\r\\n<item>\\r\\n<link>http://uaf.nodc.noaa.gov/geoportal/rest/document?id=%7B1B2DB961-E39C-48B9-A8C1-2F3756E8F3F5%7D</link>\\r\\n<guid isPermaLink=\"true\">http://uaf.nodc.noaa.gov/geoportal/rest/document?id=%7B1B2DB961-E39C-48B9-A8C1-2F3756E8F3F5%7D</guid>\\r\\n<title>Analysed foundation sea surface temperature over Mediterranean sea - NON-ODYSSEA</title>\\r\\n<pubDate>Sat, 18 Apr 2015 23:39:08 +0000</pubDate>\\r\\n<source url=\"http://uaf.nodc.noaa.gov/geoportal/rest/find/document?f=georss&amp;searchTerms=\">UAF Geoportal GeoRSS</source>\\r\\n<description><![CDATA[\\r\\n<div class=\"snippet\">\\r\\n<div class=\"links\">\\r\\n<A HREF=\"http://data.nodc.noaa.gov/thredds/wms/testdata/ghrsst_ncml/fullAgg/aggregate__ghrsst_L4_MED_EUR.ncml?service=WMS&amp;version=1.3.0&amp;request=GetCapabilities\" target=\"_blank\">Open</A>\\r\\n<A HREF=\"http://uaf.nodc.noaa.gov/geoportal/catalog/search/resource/livedata-preview.page?uuid=%7B1B2DB961-E39C-48B9-A8C1-2F3756E8F3F5%7D&amp;url=http%3A%2F%2Fdata.nodc.noaa.gov%2Fthredds%2Fwms%2Ftestdata%2Fghrsst_ncml%2FfullAgg%2Faggregate__ghrsst_L4_MED_EUR.ncml%3Fservice%3DWMS%26version%3D1.3.0%26request%3DGetCapabilities&amp;resourceType=wms&amp;info=http%3A%2F%2Fuaf.nodc.noaa.gov%2Fgeoportal%2Frest%2Fdocument%3Ff%3Dhtml%26id%3D%257B1B2DB961-E39C-48B9-A8C1-2F3756E8F3F5%257D\" target=\"_blank\">Preview</A>\\r\\n<A HREF=\"http://uaf.nodc.noaa.gov/geoportal/catalog/search/resource/details.page?uuid=%7B1B2DB961-E39C-48B9-A8C1-2F3756E8F3F5%7D\" target=\"_blank\">Details</A>\\r\\n<A HREF=\"http://uaf.nodc.noaa.gov/geoportal/rest/document?id=%7B1B2DB961-E39C-48B9-A8C1-2F3756E8F3F5%7D\" target=\"_blank\">Metadata</A>\\r\\n<A HREF=\"http://data.nodc.noaa.gov/thredds/wms/testdata/ghrsst_ncml/fullAgg/aggregate__ghrsst_L4_MED_EUR.ncml?service=WMS&amp;version=1.3.0&amp;request=GetCapabilities\" target=\"_blank\">WMS</A>\\r\\n<A HREF=\"http://upwell.pfeg.noaa.gov/erddap/search/index.html?searchFor=http://data.nodc.noaa.gov/thredds/dodsC/testdata/ghrsst_ncml/fullAgg/aggregate__ghrsst_L4_MED_EUR.ncml\" target=\"_blank\">ERDDAP</A>\\r\\n<A HREF=\"http://data.nodc.noaa.gov/thredds/wcs/testdata/ghrsst_ncml/fullAgg/aggregate__ghrsst_L4_MED_EUR.ncml?service=WCS&amp;version=1.0.0&amp;request=GetCapabilities\" target=\"_blank\">WCS</A>\\r\\n<A HREF=\"http://ferret.pmel.noaa.gov/geoideLAS/getUI.do?data_url=http://data.nodc.noaa.gov/thredds/dodsC/testdata/ghrsst_ncml/fullAgg/aggregate__ghrsst_L4_MED_EUR.ncml\" target=\"_blank\">LAS</A>\\r\\n<A HREF=\"http://www.ncdc.noaa.gov/oa/wct/wct-jnlp-beta.php?singlefile=http://data.nodc.noaa.gov/thredds/dodsC/testdata/ghrsst_ncml/fullAgg/aggregate__ghrsst_L4_MED_EUR.ncml\" target=\"_blank\">WCT</A>\\r\\n<A HREF=\"http://data.nodc.noaa.gov/thredds/dodsC/testdata/ghrsst_ncml/fullAgg/aggregate__ghrsst_L4_MED_EUR.ncml\" target=\"_blank\">OPeNDAP</A>\\r\\n</div>\\r\\n</div>\\r\\n]]></description>\\r\\n<category>downloadableData</category>\\r\\n<media:thumbnail url=\"http://uaf.nodc.noaa.gov/geoportal/catalog/images/ContentType_downloadableData.png\"/>\\r\\n<georss:polygon>46.4900016784668 -18.489999771118164 46.4900016784668 36.4900016784668 30.010000228881836 36.4900016784668 30.010000228881836 -18.489999771118164 46.4900016784668 -18.489999771118164</georss:polygon>\\r\\n<geoportal:resourceUrl resourceType=\"wms\">http://data.nodc.noaa.gov/thredds/wms/testdata/ghrsst_ncml/fullAgg/aggregate__ghrsst_L4_MED_EUR.ncml?service=WMS&amp;version=1.3.0&amp;request=GetCapabilities</geoportal:resourceUrl>\\r\\n</item>\\r\\n<item>\\r\\n<link>http://uaf.nodc.noaa.gov/geoportal/rest/document?id=%7B9C3B5550-3D81-424C-9D02-E7CAEB0F1E0C%7D</link>\\r\\n<guid isPermaLink=\"true\">http://uaf.nodc.noaa.gov/geoportal/rest/document?id=%7B9C3B5550-3D81-424C-9D02-E7CAEB0F1E0C%7D</guid>\\r\\n<title>Global SST &amp; Sea Ice Analysis, L4 OSTIA, 0.05 deg daily (METOFFICE-GLO-SST-L4-NRT-OBS-SST-V2)</title>\\r\\n<pubDate>Sat, 18 Apr 2015 23:39:05 +0000</pubDate>\\r\\n<source url=\"http://uaf.nodc.noaa.gov/geoportal/rest/find/document?f=georss&amp;searchTerms=\">UAF Geoportal GeoRSS</source>\\r\\n<description><![CDATA[\\r\\n<div class=\"snippet\">\\r\\n<div class=\"links\">\\r\\n<A HREF=\"http://data.nodc.noaa.gov/thredds/wms/testdata/ghrsst_ncml/fullAgg/aggregate__ghrsst_L4_GLOB_UKMO_OSTIA.ncml?service=WMS&amp;version=1.3.0&amp;request=GetCapabilities\" target=\"_blank\">Open</A>\\r\\n<A HREF=\"http://uaf.nodc.noaa.gov/geoportal/catalog/search/resource/livedata-preview.page?uuid=%7B9C3B5550-3D81-424C-9D02-E7CAEB0F1E0C%7D&amp;url=http%3A%2F%2Fdata.nodc.noaa.gov%2Fthredds%2Fwms%2Ftestdata%2Fghrsst_ncml%2FfullAgg%2Faggregate__ghrsst_L4_GLOB_UKMO_OSTIA.ncml%3Fservice%3DWMS%26version%3D1.3.0%26request%3DGetCapabilities&amp;resourceType=wms&amp;info=http%3A%2F%2Fuaf.nodc.noaa.gov%2Fgeoportal%2Frest%2Fdocument%3Ff%3Dhtml%26id%3D%257B9C3B5550-3D81-424C-9D02-E7CAEB0F1E0C%257D\" target=\"_blank\">Preview</A>\\r\\n<A HREF=\"http://uaf.nodc.noaa.gov/geoportal/catalog/search/resource/details.page?uuid=%7B9C3B5550-3D81-424C-9D02-E7CAEB0F1E0C%7D\" target=\"_blank\">Details</A>\\r\\n<A HREF=\"http://uaf.nodc.noaa.gov/geoportal/rest/document?id=%7B9C3B5550-3D81-424C-9D02-E7CAEB0F1E0C%7D\" target=\"_blank\">Metadata</A>\\r\\n<A HREF=\"http://data.nodc.noaa.gov/thredds/wms/testdata/ghrsst_ncml/fullAgg/aggregate__ghrsst_L4_GLOB_UKMO_OSTIA.ncml?service=WMS&amp;version=1.3.0&amp;request=GetCapabilities\" target=\"_blank\">WMS</A>\\r\\n<A HREF=\"http://upwell.pfeg.noaa.gov/erddap/search/index.html?searchFor=http://data.nodc.noaa.gov/thredds/dodsC/testdata/ghrsst_ncml/fullAgg/aggregate__ghrsst_L4_GLOB_UKMO_OSTIA.ncml\" target=\"_blank\">ERDDAP</A>\\r\\n<A HREF=\"http://data.nodc.noaa.gov/thredds/wcs/testdata/ghrsst_ncml/fullAgg/aggregate__ghrsst_L4_GLOB_UKMO_OSTIA.ncml?service=WCS&amp;version=1.0.0&amp;request=GetCapabilities\" target=\"_blank\">WCS</A>\\r\\n<A HREF=\"http://ferret.pmel.noaa.gov/geoideLAS/getUI.do?data_url=http://data.nodc.noaa.gov/thredds/dodsC/testdata/ghrsst_ncml/fullAgg/aggregate__ghrsst_L4_GLOB_UKMO_OSTIA.ncml\" target=\"_blank\">LAS</A>\\r\\n<A HREF=\"http://www.ncdc.noaa.gov/oa/wct/wct-jnlp-beta.php?singlefile=http://data.nodc.noaa.gov/thredds/dodsC/testdata/ghrsst_ncml/fullAgg/aggregate__ghrsst_L4_GLOB_UKMO_OSTIA.ncml\" target=\"_blank\">WCT</A>\\r\\n<A HREF=\"http://data.nodc.noaa.gov/thredds/dodsC/testdata/ghrsst_ncml/fullAgg/aggregate__ghrsst_L4_GLOB_UKMO_OSTIA.ncml\" target=\"_blank\">OPeNDAP</A>\\r\\n</div>\\r\\n</div>\\r\\n]]></description>\\r\\n<category>downloadableData</category>\\r\\n<media:thumbnail url=\"http://uaf.nodc.noaa.gov/geoportal/catalog/images/ContentType_downloadableData.png\"/>\\r\\n<georss:polygon>89.9749984741211 -179.97500610351562 89.9749984741211 179.97500610351562 -89.9749984741211 179.97500610351562 -89.9749984741211 -179.97500610351562 89.9749984741211 -179.97500610351562</georss:polygon>\\r\\n<geoportal:resourceUrl resourceType=\"wms\">http://data.nodc.noaa.gov/thredds/wms/testdata/ghrsst_ncml/fullAgg/aggregate__ghrsst_L4_GLOB_UKMO_OSTIA.ncml?service=WMS&amp;version=1.3.0&amp;request=GetCapabilities</geoportal:resourceUrl>\\r\\n</item>\\r\\n<item>\\r\\n<link>http://uaf.nodc.noaa.gov/geoportal/rest/document?id=%7BDC4B659E-283C-4E63-9A55-73270E7FCBAB%7D</link>\\r\\n<guid isPermaLink=\"true\">http://uaf.nodc.noaa.gov/geoportal/rest/document?id=%7BDC4B659E-283C-4E63-9A55-73270E7FCBAB%7D</guid>\\r\\n<title>Daily-OI-V2, final, Data (Ship, Buoy, AVHRR, GSFC-ice)</title>\\r\\n<pubDate>Sat, 18 Apr 2015 23:39:02 +0000</pubDate>\\r\\n<source url=\"http://uaf.nodc.noaa.gov/geoportal/rest/find/document?f=georss&amp;searchTerms=\">UAF Geoportal GeoRSS</source>\\r\\n<description><![CDATA[\\r\\n<div class=\"snippet\">\\r\\n<div class=\"links\">\\r\\n<A HREF=\"http://data.nodc.noaa.gov/thredds/wms/testdata/ghrsst_ncml/fullAgg/aggregate__ghrsst_L4_GLOB_NCDC_AVHRR_OI.ncml?service=WMS&amp;version=1.3.0&amp;request=GetCapabilities\" target=\"_blank\">Open</A>\\r\\n<A HREF=\"http://uaf.nodc.noaa.gov/geoportal/catalog/search/resource/livedata-preview.page?uuid=%7BDC4B659E-283C-4E63-9A55-73270E7FCBAB%7D&amp;url=http%3A%2F%2Fdata.nodc.noaa.gov%2Fthredds%2Fwms%2Ftestdata%2Fghrsst_ncml%2FfullAgg%2Faggregate__ghrsst_L4_GLOB_NCDC_AVHRR_OI.ncml%3Fservice%3DWMS%26version%3D1.3.0%26request%3DGetCapabilities&amp;resourceType=wms&amp;info=http%3A%2F%2Fuaf.nodc.noaa.gov%2Fgeoportal%2Frest%2Fdocument%3Ff%3Dhtml%26id%3D%257BDC4B659E-283C-4E63-9A55-73270E7FCBAB%257D\" target=\"_blank\">Preview</A>\\r\\n<A HREF=\"http://uaf.nodc.noaa.gov/geoportal/catalog/search/resource/details.page?uuid=%7BDC4B659E-283C-4E63-9A55-73270E7FCBAB%7D\" target=\"_blank\">Details</A>\\r\\n<A HREF=\"http://uaf.nodc.noaa.gov/geoportal/rest/document?id=%7BDC4B659E-283C-4E63-9A55-73270E7FCBAB%7D\" target=\"_blank\">Metadata</A>\\r\\n<A HREF=\"http://data.nodc.noaa.gov/thredds/wms/testdata/ghrsst_ncml/fullAgg/aggregate__ghrsst_L4_GLOB_NCDC_AVHRR_OI.ncml?service=WMS&amp;version=1.3.0&amp;request=GetCapabilities\" target=\"_blank\">WMS</A>\\r\\n<A HREF=\"http://upwell.pfeg.noaa.gov/erddap/search/index.html?searchFor=http://data.nodc.noaa.gov/thredds/dodsC/testdata/ghrsst_ncml/fullAgg/aggregate__ghrsst_L4_GLOB_NCDC_AVHRR_OI.ncml\" target=\"_blank\">ERDDAP</A>\\r\\n<A HREF=\"http://data.nodc.noaa.gov/thredds/wcs/testdata/ghrsst_ncml/fullAgg/aggregate__ghrsst_L4_GLOB_NCDC_AVHRR_OI.ncml?service=WCS&amp;version=1.0.0&amp;request=GetCapabilities\" target=\"_blank\">WCS</A>\\r\\n<A HREF=\"http://ferret.pmel.noaa.gov/geoideLAS/getUI.do?data_url=http://data.nodc.noaa.gov/thredds/dodsC/testdata/ghrsst_ncml/fullAgg/aggregate__ghrsst_L4_GLOB_NCDC_AVHRR_OI.ncml\" target=\"_blank\">LAS</A>\\r\\n<A HREF=\"http://www.ncdc.noaa.gov/oa/wct/wct-jnlp-beta.php?singlefile=http://data.nodc.noaa.gov/thredds/dodsC/testdata/ghrsst_ncml/fullAgg/aggregate__ghrsst_L4_GLOB_NCDC_AVHRR_OI.ncml\" target=\"_blank\">WCT</A>\\r\\n<A HREF=\"http://data.nodc.noaa.gov/thredds/dodsC/testdata/ghrsst_ncml/fullAgg/aggregate__ghrsst_L4_GLOB_NCDC_AVHRR_OI.ncml\" target=\"_blank\">OPeNDAP</A>\\r\\n</div>\\r\\n</div>\\r\\n]]></description>\\r\\n<category>downloadableData</category>\\r\\n<media:thumbnail url=\"http://uaf.nodc.noaa.gov/geoportal/catalog/images/ContentType_downloadableData.png\"/>\\r\\n<georss:polygon>89.875 -179.875 89.875 179.875 -89.875 179.875 -89.875 -179.875 89.875 -179.875</georss:polygon>\\r\\n<geoportal:resourceUrl resourceType=\"wms\">http://data.nodc.noaa.gov/thredds/wms/testdata/ghrsst_ncml/fullAgg/aggregate__ghrsst_L4_GLOB_NCDC_AVHRR_OI.ncml?service=WMS&amp;version=1.3.0&amp;request=GetCapabilities</geoportal:resourceUrl>\\r\\n</item>\\r\\n</channel>\\r\\n</rss>\\r\\n'"
       ]
      }
     ],
     "prompt_number": 88
    },
    {
     "cell_type": "code",
     "collapsed": false,
     "input": [
      "# and on to parsing terrible things\n",
      "items = second_xml.xpath('//*[local-name()=\"item\"]')\n",
      "\n",
      "for item in items:\n",
      "    pass"
     ],
     "language": "python",
     "metadata": {},
     "outputs": []
    },
    {
     "cell_type": "markdown",
     "metadata": {},
     "source": [
      "HAHAHA! The previously harvested WCS:\n",
      "\n",
      "5b51c8131fb57ae10604d6e98746d9b4\t\n",
      "\n",
      "http://ferret.pmel.noaa.gov/thredds/wcs/woa09_1deg_monthly?service=WCS&version=1.0.0&request=GetCapabilities\t\n",
      "\n",
      "\n",
      "http://modwebsrv.modaps.eosdis.nasa.gov/axis2/services/MODAPSservices/getOSDD?product=MOB02CRT"
     ]
    },
    {
     "cell_type": "heading",
     "level": 1,
     "metadata": {},
     "source": [
      "MODIS EOSDIS OpenSearch "
     ]
    },
    {
     "cell_type": "markdown",
     "metadata": {},
     "source": [
      "If we assume we're starting from the parent catalog:\n",
      "\n",
      "http://lance-modis.eosdis.nasa.gov/user_services/dataset_opensearch.xml\n",
      "\n",
      "can we a) execute a search for dataset-level items? and b) from some known dataset- or granule-level OpenSearch entry points, determine the parent catalog service?"
     ]
    },
    {
     "cell_type": "code",
     "collapsed": false,
     "input": [
      "# the parent request for the description document\n",
      "catalog_url = 'http://lance-modis.eosdis.nasa.gov/user_services/dataset_opensearch.xml'\n",
      "req = requests.get(catalog_url)\n",
      "req.content"
     ],
     "language": "python",
     "metadata": {},
     "outputs": [
      {
       "metadata": {},
       "output_type": "pyout",
       "prompt_number": 49,
       "text": [
        "'<?xml version=\"1.0\" encoding=\"UTF-8\"?>\\n<OpenSearchDescription xmlns=\"http://a9.com/-/spec/opensearch/1.1/\"\\n                       xmlns:geo=\"http://a9.com/-/opensearch/extensions/geo/1.0/\"\\n                       xmlns:time=\"http://a9.com/-/opensearch/extensions/time/1.0/\">\\n  <ShortName>LANCE-MODIS Dataset Search</ShortName>\\n  <Description>Use LANCE-MODIS Dataset Search to obtain a list of Near-Real-Time Earth Science Data Sets</Description>\\n  <Tags>LANCE-MODIS Dataset Search</Tags>\\n  <Contact>modapsuso@sigmaspace.com</Contact>\\n  <Url type=\"application/atom+xml\" \\n       template=\"http://lance2.modaps.eosdis.nasa.gov/axis2/services/MWSLance/searchDatasets?pattern={searchTerms}\"/>\\n  <Query role=\"example\" searchTerms=\"adjusted reflectance\"/>\\n</OpenSearchDescription>\\n'"
       ]
      }
     ],
     "prompt_number": 49
    },
    {
     "cell_type": "code",
     "collapsed": false,
     "input": [
      "osdd_xml = etree.fromstring(req.content)\n",
      "\n",
      "url_element = next(iter(osdd_xml.xpath('//*[local-name()=\"Url\"]')), '')\n",
      "url_template = url_element.attrib.get('template', '')\n",
      "url_mimetype = url_element.attrib.get('type', '')\n",
      "                     \n",
      "template_parts = urlparse.urlparse(url_template)\n",
      "\n",
      "base_url = urlparse.urlunparse((\n",
      "    template_parts.scheme,\n",
      "    template_parts.netloc,\n",
      "    template_parts.path,\n",
      "    None,\n",
      "    None,\n",
      "    None\n",
      "))\n",
      "\n",
      "qp = urlparse.parse_qs(template_parts.query)\n",
      "\n",
      "requireds = {k: v[0] for k, v in qp.iteritems() \n",
      "            if v[0].startswith('{') \n",
      "            and v[0].endswith('}') \n",
      "            and '?' not in v[0]}\n",
      "\n",
      "# i will maintain that this is not a safe assumption to make across services, but poc\n",
      "# so get the provided query term for the parameter name as defined by the bracketed \n",
      "# template element\n",
      "example_queries = {}\n",
      "for k, v in requireds.iteritems():\n",
      "    xp = '//*[local-name()=\"Query\" and @role=\"example\"]/@{0}'.format(v[1:-1])\n",
      "    example_query = next(iter(osdd_xml.xpath(xp)), '')\n",
      "    if example_query is not None:\n",
      "        example_queries[k] = example_query\n",
      "\n",
      "# and not url-encoded\n",
      "new_qp = '?' + '&'.join([k+'='+v for k, v in example_queries.iteritems()])\n",
      "\n",
      "# does it return a result?\n",
      "dataset_req = requests.get(base_url + new_qp)\n",
      "dataset_req.content"
     ],
     "language": "python",
     "metadata": {},
     "outputs": [
      {
       "metadata": {},
       "output_type": "pyout",
       "prompt_number": 45,
       "text": [
        "'<feed xmlns=\"http://www.w3.org/2005/Atom\" xmlns:geo=\"http://a9.com/-/opensearch/extensions/geo/1.0/\" xmlns:time=\"http://a9.com/-/opensearch/extensions/time/1.0/\" xmlns:opensearch=\"http://a9.com/-/spec/opensearch/1.1/\" xmlns:georss=\"http://www.georss.org/georss\"> <author><name>MODAPS</name><email>modapsuso@sigmaspace.com</email></author> <updated> Fri Apr 17 18:26:22 EDT 2015</updated> <title>MODAPS collection results for adjusted reflectance</title> <id>http://modwebsrv.modaps.eosdis.nasa.gov/axis2/services/MODAPSservices/searchDatasets</id> <subtitle type=\"html\"> Results for data products matching: adjusted reflectance </subtitle> <link rel=\"self\" href=\"http://modwebsrv.modaps.eosdis.nasa.gov/axis2/services/MODAPSservices/searchDatasets?pattern=adjusted reflectance\" /> <link rel=\"http://esipfed.org/ns/fedsearch/1.0/search#\" href=\"http://modwebsrv.modaps.eosdis.nasa.gov/axis2/services/MODAPSservices/getOpenSearch\" /> <entry> <id>http://modwebsrv.modaps.eosdis.nasa.gov/axis2/services/MODAPSservices/getOSDD?product=MOD09</id> <updated>Fri Apr 17 18:26:22 EDT 2015</updated> <author><name>MODAPS</name><email>modapsuso@sigmaspace.com</email></author> <title>Level 2 5-Min Land Surface Reflectance - 250m, 500m, 1km</title> <link href=\"http://modwebsrv.modaps.eosdis.nasa.gov/axis2/services/MODAPSservices/getOpenSearch?product=MOD09&amp;collection=5&amp;start=2009-01-01&amp;stop=2009-01-02&amp;coordsOrTiles=global&amp;dayNightBoth=DNB\" rel=\"http://esipfed.org/ns/fedsearch/1.0/data#\" /> <time:start>Unknown</time:start> <time:end>Unknown</time:end> <summary type=\"html\">Dataset:MOD09</summary> <link rel=\"search\" type=\"application/opensearchdescription+xml\" title=\"MOD09\" href=\"http://modwebsrv.modaps.eosdis.nasa.gov/axis2/services/MODAPSservices/getOSDD?product=MOD09\" /> </entry> <entry> <id>http://modwebsrv.modaps.eosdis.nasa.gov/axis2/services/MODAPSservices/getOSDD?product=MOD09A1N</id> <updated>Fri Apr 17 18:26:22 EDT 2015</updated> <author><name>MODAPS</name><email>modapsuso@sigmaspace.com</email></author> <title>Level 3 Daily Rolling-8-Day Surface Reflectance - 500m</title> <link href=\"http://modwebsrv.modaps.eosdis.nasa.gov/axis2/services/MODAPSservices/getOpenSearch?product=MOD09A1N&amp;collection=5&amp;start=2009-01-01&amp;stop=2009-01-02&amp;coordsOrTiles=global&amp;dayNightBoth=DNB\" rel=\"http://esipfed.org/ns/fedsearch/1.0/data#\" /> <time:start>Unknown</time:start> <time:end>Unknown</time:end> <summary type=\"html\">Dataset:MOD09A1N</summary> <link rel=\"search\" type=\"application/opensearchdescription+xml\" title=\"MOD09A1N\" href=\"http://modwebsrv.modaps.eosdis.nasa.gov/axis2/services/MODAPSservices/getOSDD?product=MOD09A1N\" /> </entry> <entry> <id>http://modwebsrv.modaps.eosdis.nasa.gov/axis2/services/MODAPSservices/getOSDD?product=MOD09CMG</id> <updated>Fri Apr 17 18:26:22 EDT 2015</updated> <author><name>MODAPS</name><email>modapsuso@sigmaspace.com</email></author> <title>CMG Daily Surface Reflectance - 0.05Deg</title> <link href=\"http://modwebsrv.modaps.eosdis.nasa.gov/axis2/services/MODAPSservices/getOpenSearch?product=MOD09CMG&amp;collection=5&amp;start=2009-01-01&amp;stop=2009-01-02&amp;coordsOrTiles=global&amp;dayNightBoth=DNB\" rel=\"http://esipfed.org/ns/fedsearch/1.0/data#\" /> <time:start>Unknown</time:start> <time:end>Unknown</time:end> <summary type=\"html\">Dataset:MOD09CMG</summary> <link rel=\"search\" type=\"application/opensearchdescription+xml\" title=\"MOD09CMG\" href=\"http://modwebsrv.modaps.eosdis.nasa.gov/axis2/services/MODAPSservices/getOSDD?product=MOD09CMG\" /> </entry> <entry> <id>http://modwebsrv.modaps.eosdis.nasa.gov/axis2/services/MODAPSservices/getOSDD?product=MOD09CRS</id> <updated>Fri Apr 17 18:26:22 EDT 2015</updated> <author><name>MODAPS</name><email>modapsuso@sigmaspace.com</email></author> <title>Level 2 5-Min Coarse Resolution Surface Reflectance - 5km</title> <link href=\"http://modwebsrv.modaps.eosdis.nasa.gov/axis2/services/MODAPSservices/getOpenSearch?product=MOD09CRS&amp;collection=5&amp;start=2009-01-01&amp;stop=2009-01-02&amp;coordsOrTiles=global&amp;dayNightBoth=DNB\" rel=\"http://esipfed.org/ns/fedsearch/1.0/data#\" /> <time:start>Unknown</time:start> <time:end>Unknown</time:end> <summary type=\"html\">Dataset:MOD09CRS</summary> <link rel=\"search\" type=\"application/opensearchdescription+xml\" title=\"MOD09CRS\" href=\"http://modwebsrv.modaps.eosdis.nasa.gov/axis2/services/MODAPSservices/getOSDD?product=MOD09CRS\" /> </entry> <entry> <id>http://modwebsrv.modaps.eosdis.nasa.gov/axis2/services/MODAPSservices/getOSDD?product=MOD09GA</id> <updated>Fri Apr 17 18:26:22 EDT 2015</updated> <author><name>MODAPS</name><email>modapsuso@sigmaspace.com</email></author> <title>Level 2G Light Daily Surface Reflectance - 1km and 500m</title> <link href=\"http://modwebsrv.modaps.eosdis.nasa.gov/axis2/services/MODAPSservices/getOpenSearch?product=MOD09GA&amp;collection=5&amp;start=2009-01-01&amp;stop=2009-01-02&amp;coordsOrTiles=global&amp;dayNightBoth=DNB\" rel=\"http://esipfed.org/ns/fedsearch/1.0/data#\" /> <time:start>Unknown</time:start> <time:end>Unknown</time:end> <summary type=\"html\">Dataset:MOD09GA</summary> <link rel=\"search\" type=\"application/opensearchdescription+xml\" title=\"MOD09GA\" href=\"http://modwebsrv.modaps.eosdis.nasa.gov/axis2/services/MODAPSservices/getOSDD?product=MOD09GA\" /> </entry> <entry> <id>http://modwebsrv.modaps.eosdis.nasa.gov/axis2/services/MODAPSservices/getOSDD?product=MOD09GHK</id> <updated>Fri Apr 17 18:26:22 EDT 2015</updated> <author><name>MODAPS</name><email>modapsuso@sigmaspace.com</email></author> <title>Level 2G Daily Surface Reflectance - 500m</title> <link href=\"http://modwebsrv.modaps.eosdis.nasa.gov/axis2/services/MODAPSservices/getOpenSearch?product=MOD09GHK&amp;collection=5&amp;start=2009-01-01&amp;stop=2009-01-02&amp;coordsOrTiles=global&amp;dayNightBoth=DNB\" rel=\"http://esipfed.org/ns/fedsearch/1.0/data#\" /> <time:start>Unknown</time:start> <time:end>Unknown</time:end> <summary type=\"html\">Dataset:MOD09GHK</summary> <link rel=\"search\" type=\"application/opensearchdescription+xml\" title=\"MOD09GHK\" href=\"http://modwebsrv.modaps.eosdis.nasa.gov/axis2/services/MODAPSservices/getOSDD?product=MOD09GHK\" /> </entry> <entry> <id>http://modwebsrv.modaps.eosdis.nasa.gov/axis2/services/MODAPSservices/getOSDD?product=MOD09GQ</id> <updated>Fri Apr 17 18:26:22 EDT 2015</updated> <author><name>MODAPS</name><email>modapsuso@sigmaspace.com</email></author> <title>Level 2G Light Daily Surface Reflectance - 250m</title> <link href=\"http://modwebsrv.modaps.eosdis.nasa.gov/axis2/services/MODAPSservices/getOpenSearch?product=MOD09GQ&amp;collection=5&amp;start=2009-01-01&amp;stop=2009-01-02&amp;coordsOrTiles=global&amp;dayNightBoth=DNB\" rel=\"http://esipfed.org/ns/fedsearch/1.0/data#\" /> <time:start>Unknown</time:start> <time:end>Unknown</time:end> <summary type=\"html\">Dataset:MOD09GQ</summary> <link rel=\"search\" type=\"application/opensearchdescription+xml\" title=\"MOD09GQ\" href=\"http://modwebsrv.modaps.eosdis.nasa.gov/axis2/services/MODAPSservices/getOSDD?product=MOD09GQ\" /> </entry> <entry> <id>http://modwebsrv.modaps.eosdis.nasa.gov/axis2/services/MODAPSservices/getOSDD?product=MOD09GQK</id> <updated>Fri Apr 17 18:26:22 EDT 2015</updated> <author><name>MODAPS</name><email>modapsuso@sigmaspace.com</email></author> <title>Level 2G Daily Surface Reflectance - 250m</title> <link href=\"http://modwebsrv.modaps.eosdis.nasa.gov/axis2/services/MODAPSservices/getOpenSearch?product=MOD09GQK&amp;collection=5&amp;start=2009-01-01&amp;stop=2009-01-02&amp;coordsOrTiles=global&amp;dayNightBoth=DNB\" rel=\"http://esipfed.org/ns/fedsearch/1.0/data#\" /> <time:start>Unknown</time:start> <time:end>Unknown</time:end> <summary type=\"html\">Dataset:MOD09GQK</summary> <link rel=\"search\" type=\"application/opensearchdescription+xml\" title=\"MOD09GQK\" href=\"http://modwebsrv.modaps.eosdis.nasa.gov/axis2/services/MODAPSservices/getOSDD?product=MOD09GQK\" /> </entry> <entry> <id>http://modwebsrv.modaps.eosdis.nasa.gov/axis2/services/MODAPSservices/getOSDD?product=MOD09GST</id> <updated>Fri Apr 17 18:26:22 EDT 2015</updated> <author><name>MODAPS</name><email>modapsuso@sigmaspace.com</email></author> <title>Level 2G Daily Surface Reflectance State - 1km</title> <link href=\"http://modwebsrv.modaps.eosdis.nasa.gov/axis2/services/MODAPSservices/getOpenSearch?product=MOD09GST&amp;collection=5&amp;start=2009-01-01&amp;stop=2009-01-02&amp;coordsOrTiles=global&amp;dayNightBoth=DNB\" rel=\"http://esipfed.org/ns/fedsearch/1.0/data#\" /> <time:start>Unknown</time:start> <time:end>Unknown</time:end> <summary type=\"html\">Dataset:MOD09GST</summary> <link rel=\"search\" type=\"application/opensearchdescription+xml\" title=\"MOD09GST\" href=\"http://modwebsrv.modaps.eosdis.nasa.gov/axis2/services/MODAPSservices/getOSDD?product=MOD09GST\" /> </entry> <entry> <id>http://modwebsrv.modaps.eosdis.nasa.gov/axis2/services/MODAPSservices/getOSDD?product=MOD09Q1N</id> <updated>Fri Apr 17 18:26:22 EDT 2015</updated> <author><name>MODAPS</name><email>modapsuso@sigmaspace.com</email></author> <title>Level 3 Daily Rolling-8-Day Surface Reflectance - 250m</title> <link href=\"http://modwebsrv.modaps.eosdis.nasa.gov/axis2/services/MODAPSservices/getOpenSearch?product=MOD09Q1N&amp;collection=5&amp;start=2009-01-01&amp;stop=2009-01-02&amp;coordsOrTiles=global&amp;dayNightBoth=DNB\" rel=\"http://esipfed.org/ns/fedsearch/1.0/data#\" /> <time:start>Unknown</time:start> <time:end>Unknown</time:end> <summary type=\"html\">Dataset:MOD09Q1N</summary> <link rel=\"search\" type=\"application/opensearchdescription+xml\" title=\"MOD09Q1N\" href=\"http://modwebsrv.modaps.eosdis.nasa.gov/axis2/services/MODAPSservices/getOSDD?product=MOD09Q1N\" /> </entry> <entry> <id>http://modwebsrv.modaps.eosdis.nasa.gov/axis2/services/MODAPSservices/getOSDD?product=MOD29</id> <updated>Fri Apr 17 18:26:22 EDT 2015</updated> <author><name>MODAPS</name><email>modapsuso@sigmaspace.com</email></author> <title>Level 2 5-Min Sea Ice Cover - 1km</title> <link href=\"http://modwebsrv.modaps.eosdis.nasa.gov/axis2/services/MODAPSservices/getOpenSearch?product=MOD29&amp;collection=5&amp;start=2009-01-01&amp;stop=2009-01-02&amp;coordsOrTiles=global&amp;dayNightBoth=DNB\" rel=\"http://esipfed.org/ns/fedsearch/1.0/data#\" /> <time:start>Unknown</time:start> <time:end>Unknown</time:end> <summary type=\"html\">Dataset:MOD29</summary> <link rel=\"search\" type=\"application/opensearchdescription+xml\" title=\"MOD29\" href=\"http://modwebsrv.modaps.eosdis.nasa.gov/axis2/services/MODAPSservices/getOSDD?product=MOD29\" /> </entry> <entry> <id>http://modwebsrv.modaps.eosdis.nasa.gov/axis2/services/MODAPSservices/getOSDD?product=MOD29L2C</id> <updated>Fri Apr 17 18:26:22 EDT 2015</updated> <author><name>MODAPS</name><email>modapsuso@sigmaspace.com</email></author> <title>Level 2 5-Min Coarse Resolution Sea Ice Cover - 5km</title> <link href=\"http://modwebsrv.modaps.eosdis.nasa.gov/axis2/services/MODAPSservices/getOpenSearch?product=MOD29L2C&amp;collection=5&amp;start=2009-01-01&amp;stop=2009-01-02&amp;coordsOrTiles=global&amp;dayNightBoth=DNB\" rel=\"http://esipfed.org/ns/fedsearch/1.0/data#\" /> <time:start>Unknown</time:start> <time:end>Unknown</time:end> <summary type=\"html\">Dataset:MOD29L2C</summary> <link rel=\"search\" type=\"application/opensearchdescription+xml\" title=\"MOD29L2C\" href=\"http://modwebsrv.modaps.eosdis.nasa.gov/axis2/services/MODAPSservices/getOSDD?product=MOD29L2C\" /> </entry> <entry> <id>http://modwebsrv.modaps.eosdis.nasa.gov/axis2/services/MODAPSservices/getOSDD?product=MODAGAGG</id> <updated>Fri Apr 17 18:26:22 EDT 2015</updated> <author><name>MODAPS</name><email>modapsuso@sigmaspace.com</email></author> <title>Level 3 Daily Aggregated Surface Reflectance - 1km SIN Grid</title> <link href=\"http://modwebsrv.modaps.eosdis.nasa.gov/axis2/services/MODAPSservices/getOpenSearch?product=MODAGAGG&amp;collection=5&amp;start=2009-01-01&amp;stop=2009-01-02&amp;coordsOrTiles=global&amp;dayNightBoth=DNB\" rel=\"http://esipfed.org/ns/fedsearch/1.0/data#\" /> <time:start>Unknown</time:start> <time:end>Unknown</time:end> <summary type=\"html\">Dataset:MODAGAGG</summary> <link rel=\"search\" type=\"application/opensearchdescription+xml\" title=\"MODAGAGG\" href=\"http://modwebsrv.modaps.eosdis.nasa.gov/axis2/services/MODAPSservices/getOSDD?product=MODAGAGG\" /> </entry> <entry> <id>http://modwebsrv.modaps.eosdis.nasa.gov/axis2/services/MODAPSservices/getOSDD?product=MYD09</id> <updated>Fri Apr 17 18:26:22 EDT 2015</updated> <author><name>MODAPS</name><email>modapsuso@sigmaspace.com</email></author> <title>Level 2 5-Min Land Surface Reflectance - 250m, 500m, 1km</title> <link href=\"http://modwebsrv.modaps.eosdis.nasa.gov/axis2/services/MODAPSservices/getOpenSearch?product=MYD09&amp;collection=5&amp;start=2009-01-01&amp;stop=2009-01-02&amp;coordsOrTiles=global&amp;dayNightBoth=DNB\" rel=\"http://esipfed.org/ns/fedsearch/1.0/data#\" /> <time:start>Unknown</time:start> <time:end>Unknown</time:end> <summary type=\"html\">Dataset:MYD09</summary> <link rel=\"search\" type=\"application/opensearchdescription+xml\" title=\"MYD09\" href=\"http://modwebsrv.modaps.eosdis.nasa.gov/axis2/services/MODAPSservices/getOSDD?product=MYD09\" /> </entry> <entry> <id>http://modwebsrv.modaps.eosdis.nasa.gov/axis2/services/MODAPSservices/getOSDD?product=MYD09A1N</id> <updated>Fri Apr 17 18:26:22 EDT 2015</updated> <author><name>MODAPS</name><email>modapsuso@sigmaspace.com</email></author> <title>Level 3 Daily Rolling-8-Day Surface Reflectance - 500m</title> <link href=\"http://modwebsrv.modaps.eosdis.nasa.gov/axis2/services/MODAPSservices/getOpenSearch?product=MYD09A1N&amp;collection=5&amp;start=2009-01-01&amp;stop=2009-01-02&amp;coordsOrTiles=global&amp;dayNightBoth=DNB\" rel=\"http://esipfed.org/ns/fedsearch/1.0/data#\" /> <time:start>Unknown</time:start> <time:end>Unknown</time:end> <summary type=\"html\">Dataset:MYD09A1N</summary> <link rel=\"search\" type=\"application/opensearchdescription+xml\" title=\"MYD09A1N\" href=\"http://modwebsrv.modaps.eosdis.nasa.gov/axis2/services/MODAPSservices/getOSDD?product=MYD09A1N\" /> </entry> <entry> <id>http://modwebsrv.modaps.eosdis.nasa.gov/axis2/services/MODAPSservices/getOSDD?product=MYD09CMG</id> <updated>Fri Apr 17 18:26:22 EDT 2015</updated> <author><name>MODAPS</name><email>modapsuso@sigmaspace.com</email></author> <title>CMG Daily Surface Reflectance - 0.05Deg</title> <link href=\"http://modwebsrv.modaps.eosdis.nasa.gov/axis2/services/MODAPSservices/getOpenSearch?product=MYD09CMG&amp;collection=5&amp;start=2009-01-01&amp;stop=2009-01-02&amp;coordsOrTiles=global&amp;dayNightBoth=DNB\" rel=\"http://esipfed.org/ns/fedsearch/1.0/data#\" /> <time:start>Unknown</time:start> <time:end>Unknown</time:end> <summary type=\"html\">Dataset:MYD09CMG</summary> <link rel=\"search\" type=\"application/opensearchdescription+xml\" title=\"MYD09CMG\" href=\"http://modwebsrv.modaps.eosdis.nasa.gov/axis2/services/MODAPSservices/getOSDD?product=MYD09CMG\" /> </entry> <entry> <id>http://modwebsrv.modaps.eosdis.nasa.gov/axis2/services/MODAPSservices/getOSDD?product=MYD09CRS</id> <updated>Fri Apr 17 18:26:22 EDT 2015</updated> <author><name>MODAPS</name><email>modapsuso@sigmaspace.com</email></author> <title>Level 2 5-Min Coarse Resolution Surface Reflectance - 5km</title> <link href=\"http://modwebsrv.modaps.eosdis.nasa.gov/axis2/services/MODAPSservices/getOpenSearch?product=MYD09CRS&amp;collection=5&amp;start=2009-01-01&amp;stop=2009-01-02&amp;coordsOrTiles=global&amp;dayNightBoth=DNB\" rel=\"http://esipfed.org/ns/fedsearch/1.0/data#\" /> <time:start>Unknown</time:start> <time:end>Unknown</time:end> <summary type=\"html\">Dataset:MYD09CRS</summary> <link rel=\"search\" type=\"application/opensearchdescription+xml\" title=\"MYD09CRS\" href=\"http://modwebsrv.modaps.eosdis.nasa.gov/axis2/services/MODAPSservices/getOSDD?product=MYD09CRS\" /> </entry> <entry> <id>http://modwebsrv.modaps.eosdis.nasa.gov/axis2/services/MODAPSservices/getOSDD?product=MYD09GA</id> <updated>Fri Apr 17 18:26:22 EDT 2015</updated> <author><name>MODAPS</name><email>modapsuso@sigmaspace.com</email></author> <title>Level 2G Light Daily Surface Reflectance - 1km and 500m</title> <link href=\"http://modwebsrv.modaps.eosdis.nasa.gov/axis2/services/MODAPSservices/getOpenSearch?product=MYD09GA&amp;collection=5&amp;start=2009-01-01&amp;stop=2009-01-02&amp;coordsOrTiles=global&amp;dayNightBoth=DNB\" rel=\"http://esipfed.org/ns/fedsearch/1.0/data#\" /> <time:start>Unknown</time:start> <time:end>Unknown</time:end> <summary type=\"html\">Dataset:MYD09GA</summary> <link rel=\"search\" type=\"application/opensearchdescription+xml\" title=\"MYD09GA\" href=\"http://modwebsrv.modaps.eosdis.nasa.gov/axis2/services/MODAPSservices/getOSDD?product=MYD09GA\" /> </entry> <entry> <id>http://modwebsrv.modaps.eosdis.nasa.gov/axis2/services/MODAPSservices/getOSDD?product=MYD09GHK</id> <updated>Fri Apr 17 18:26:22 EDT 2015</updated> <author><name>MODAPS</name><email>modapsuso@sigmaspace.com</email></author> <title>Level 2G Daily Surface Reflectance - 500m</title> <link href=\"http://modwebsrv.modaps.eosdis.nasa.gov/axis2/services/MODAPSservices/getOpenSearch?product=MYD09GHK&amp;collection=5&amp;start=2009-01-01&amp;stop=2009-01-02&amp;coordsOrTiles=global&amp;dayNightBoth=DNB\" rel=\"http://esipfed.org/ns/fedsearch/1.0/data#\" /> <time:start>Unknown</time:start> <time:end>Unknown</time:end> <summary type=\"html\">Dataset:MYD09GHK</summary> <link rel=\"search\" type=\"application/opensearchdescription+xml\" title=\"MYD09GHK\" href=\"http://modwebsrv.modaps.eosdis.nasa.gov/axis2/services/MODAPSservices/getOSDD?product=MYD09GHK\" /> </entry> <entry> <id>http://modwebsrv.modaps.eosdis.nasa.gov/axis2/services/MODAPSservices/getOSDD?product=MYD09GQ</id> <updated>Fri Apr 17 18:26:22 EDT 2015</updated> <author><name>MODAPS</name><email>modapsuso@sigmaspace.com</email></author> <title>Level 2G Light Daily Surface Reflectance - 250m</title> <link href=\"http://modwebsrv.modaps.eosdis.nasa.gov/axis2/services/MODAPSservices/getOpenSearch?product=MYD09GQ&amp;collection=5&amp;start=2009-01-01&amp;stop=2009-01-02&amp;coordsOrTiles=global&amp;dayNightBoth=DNB\" rel=\"http://esipfed.org/ns/fedsearch/1.0/data#\" /> <time:start>Unknown</time:start> <time:end>Unknown</time:end> <summary type=\"html\">Dataset:MYD09GQ</summary> <link rel=\"search\" type=\"application/opensearchdescription+xml\" title=\"MYD09GQ\" href=\"http://modwebsrv.modaps.eosdis.nasa.gov/axis2/services/MODAPSservices/getOSDD?product=MYD09GQ\" /> </entry> <entry> <id>http://modwebsrv.modaps.eosdis.nasa.gov/axis2/services/MODAPSservices/getOSDD?product=MYD09GQK</id> <updated>Fri Apr 17 18:26:22 EDT 2015</updated> <author><name>MODAPS</name><email>modapsuso@sigmaspace.com</email></author> <title>Level 2G Daily Surface Reflectance - 250m</title> <link href=\"http://modwebsrv.modaps.eosdis.nasa.gov/axis2/services/MODAPSservices/getOpenSearch?product=MYD09GQK&amp;collection=5&amp;start=2009-01-01&amp;stop=2009-01-02&amp;coordsOrTiles=global&amp;dayNightBoth=DNB\" rel=\"http://esipfed.org/ns/fedsearch/1.0/data#\" /> <time:start>Unknown</time:start> <time:end>Unknown</time:end> <summary type=\"html\">Dataset:MYD09GQK</summary> <link rel=\"search\" type=\"application/opensearchdescription+xml\" title=\"MYD09GQK\" href=\"http://modwebsrv.modaps.eosdis.nasa.gov/axis2/services/MODAPSservices/getOSDD?product=MYD09GQK\" /> </entry> <entry> <id>http://modwebsrv.modaps.eosdis.nasa.gov/axis2/services/MODAPSservices/getOSDD?product=MYD09GST</id> <updated>Fri Apr 17 18:26:22 EDT 2015</updated> <author><name>MODAPS</name><email>modapsuso@sigmaspace.com</email></author> <title>Level 2G Daily Surface Reflectance State - 1km</title> <link href=\"http://modwebsrv.modaps.eosdis.nasa.gov/axis2/services/MODAPSservices/getOpenSearch?product=MYD09GST&amp;collection=5&amp;start=2009-01-01&amp;stop=2009-01-02&amp;coordsOrTiles=global&amp;dayNightBoth=DNB\" rel=\"http://esipfed.org/ns/fedsearch/1.0/data#\" /> <time:start>Unknown</time:start> <time:end>Unknown</time:end> <summary type=\"html\">Dataset:MYD09GST</summary> <link rel=\"search\" type=\"application/opensearchdescription+xml\" title=\"MYD09GST\" href=\"http://modwebsrv.modaps.eosdis.nasa.gov/axis2/services/MODAPSservices/getOSDD?product=MYD09GST\" /> </entry> <entry> <id>http://modwebsrv.modaps.eosdis.nasa.gov/axis2/services/MODAPSservices/getOSDD?product=MYD09Q1N</id> <updated>Fri Apr 17 18:26:22 EDT 2015</updated> <author><name>MODAPS</name><email>modapsuso@sigmaspace.com</email></author> <title>Level 3 Daily Rolling-8-Day Surface Reflectance - 250m</title> <link href=\"http://modwebsrv.modaps.eosdis.nasa.gov/axis2/services/MODAPSservices/getOpenSearch?product=MYD09Q1N&amp;collection=5&amp;start=2009-01-01&amp;stop=2009-01-02&amp;coordsOrTiles=global&amp;dayNightBoth=DNB\" rel=\"http://esipfed.org/ns/fedsearch/1.0/data#\" /> <time:start>Unknown</time:start> <time:end>Unknown</time:end> <summary type=\"html\">Dataset:MYD09Q1N</summary> <link rel=\"search\" type=\"application/opensearchdescription+xml\" title=\"MYD09Q1N\" href=\"http://modwebsrv.modaps.eosdis.nasa.gov/axis2/services/MODAPSservices/getOSDD?product=MYD09Q1N\" /> </entry> <entry> <id>http://modwebsrv.modaps.eosdis.nasa.gov/axis2/services/MODAPSservices/getOSDD?product=MYD29</id> <updated>Fri Apr 17 18:26:22 EDT 2015</updated> <author><name>MODAPS</name><email>modapsuso@sigmaspace.com</email></author> <title>Level 2 5-Min Sea Ice Cover - 1km</title> <link href=\"http://modwebsrv.modaps.eosdis.nasa.gov/axis2/services/MODAPSservices/getOpenSearch?product=MYD29&amp;collection=5&amp;start=2009-01-01&amp;stop=2009-01-02&amp;coordsOrTiles=global&amp;dayNightBoth=DNB\" rel=\"http://esipfed.org/ns/fedsearch/1.0/data#\" /> <time:start>Unknown</time:start> <time:end>Unknown</time:end> <summary type=\"html\">Dataset:MYD29</summary> <link rel=\"search\" type=\"application/opensearchdescription+xml\" title=\"MYD29\" href=\"http://modwebsrv.modaps.eosdis.nasa.gov/axis2/services/MODAPSservices/getOSDD?product=MYD29\" /> </entry> <entry> <id>http://modwebsrv.modaps.eosdis.nasa.gov/axis2/services/MODAPSservices/getOSDD?product=MYD29L2C</id> <updated>Fri Apr 17 18:26:22 EDT 2015</updated> <author><name>MODAPS</name><email>modapsuso@sigmaspace.com</email></author> <title>Level 2 5-Min Coarse Resolution Sea Ice Cover - 5km</title> <link href=\"http://modwebsrv.modaps.eosdis.nasa.gov/axis2/services/MODAPSservices/getOpenSearch?product=MYD29L2C&amp;collection=5&amp;start=2009-01-01&amp;stop=2009-01-02&amp;coordsOrTiles=global&amp;dayNightBoth=DNB\" rel=\"http://esipfed.org/ns/fedsearch/1.0/data#\" /> <time:start>Unknown</time:start> <time:end>Unknown</time:end> <summary type=\"html\">Dataset:MYD29L2C</summary> <link rel=\"search\" type=\"application/opensearchdescription+xml\" title=\"MYD29L2C\" href=\"http://modwebsrv.modaps.eosdis.nasa.gov/axis2/services/MODAPSservices/getOSDD?product=MYD29L2C\" /> </entry> <entry> <id>http://modwebsrv.modaps.eosdis.nasa.gov/axis2/services/MODAPSservices/getOSDD?product=MYDAGAGG</id> <updated>Fri Apr 17 18:26:22 EDT 2015</updated> <author><name>MODAPS</name><email>modapsuso@sigmaspace.com</email></author> <title>Level 3 Daily Aggregated Surface Reflectance - 1km SIN Grid</title> <link href=\"http://modwebsrv.modaps.eosdis.nasa.gov/axis2/services/MODAPSservices/getOpenSearch?product=MYDAGAGG&amp;collection=5&amp;start=2009-01-01&amp;stop=2009-01-02&amp;coordsOrTiles=global&amp;dayNightBoth=DNB\" rel=\"http://esipfed.org/ns/fedsearch/1.0/data#\" /> <time:start>Unknown</time:start> <time:end>Unknown</time:end> <summary type=\"html\">Dataset:MYDAGAGG</summary> <link rel=\"search\" type=\"application/opensearchdescription+xml\" title=\"MYDAGAGG\" href=\"http://modwebsrv.modaps.eosdis.nasa.gov/axis2/services/MODAPSservices/getOSDD?product=MYDAGAGG\" /> </entry> </feed>'"
       ]
      }
     ],
     "prompt_number": 45
    },
    {
     "cell_type": "code",
     "collapsed": false,
     "input": [
      "# okay, will it return anything without a search term? ie can we return\n",
      "# the set of things that are in the catalog without knowing anything\n",
      "# about the catalog?\n",
      "new_qp = '?' + '&'.join([k+'=' for k in example_queries.keys()])\n",
      "print base_url + new_qp\n",
      "catalog_req = requests.get(base_url + new_qp)\n",
      "catalog_req.content"
     ],
     "language": "python",
     "metadata": {},
     "outputs": [
      {
       "output_type": "stream",
       "stream": "stdout",
       "text": [
        "http://lance2.modaps.eosdis.nasa.gov/axis2/services/MWSLance/searchDatasets?pattern=\n"
       ]
      },
      {
       "metadata": {},
       "output_type": "pyout",
       "prompt_number": 47,
       "text": [
        "'<soapenv:Reason xmlns:soapenv=\"http://www.w3.org/2003/05/soap-envelope\"><soapenv:Text xml:lang=\"en-US\">Parameter pattern is a required parameter</soapenv:Text></soapenv:Reason>'"
       ]
      }
     ],
     "prompt_number": 47
    },
    {
     "cell_type": "markdown",
     "metadata": {},
     "source": [
      "no, it does not.\n",
      "\n",
      "(side note: did not expect the coordOrTiles parameter to be 'global'. i have not read the manual. \n",
      "\n",
      "let's clarify: \n",
      "\n",
      "from interactions driven solely by harvested results and reading specs (opensearch and the esip best practices), i explore the opensearch service responses.\n",
      "\n",
      "but the enumerations and/or formats are described here: http://lance-modis.eosdis.nasa.gov/user_services/api-lance.html#Examples - which is a url not found in the services (still not self-describing just as a link, mind). so for our coordOrTiles parameter, it includes \"coords, tiles, or global\" in a parameter description table for the getOpenSearch API endpoint. \n",
      "\n",
      "i guess, as a human user, that the parameter can be \"coords\" or \"tiles\" but have no inkling about the \"global\" option. when using the template in the OSDD response, i try a request with one of the two options i think exist, but get empty responses (result set = 0) or xml error blobs. so that's me, a person, trying to understand the service response.\n",
      "\n",
      "and these are good examples of opensearch osdd responses - they contain query examples, tags, non-server default titles, contact information. but still no way to understand the parameter enumerations, no way to understand the changes to an enumeration based on some other parameter choice, ie for \"dataset-001\" you can only request \"coords\". so you can't move down through the responses (catalog->dataset->granule) and there's no reference for getting back to the catalog service (issues in content negotiation practices). \n",
      "\n",
      "also, spoiler alert, this link provided in the dataset-level search in the notebook examples\n",
      "\n",
      "(http://modwebsrv.modaps.eosdis.nasa.gov/axis2/services/MODAPSservices/getOpenSearch?product=MOD09GA&collection=5&start=2009-01-01&stop=2009-01-02&coordsOrTiles=global&dayNightBoth=DNB) fails with \n",
      "\n",
      "```\n",
      "<soapenv:Reason \n",
      "    xmlns:soapenv=\"http://www.w3.org/2003/05/soap-envelope\">\n",
      "    <soapenv:Text xml:lang=\"en-US\">Parameter coords has an invalid value</soapenv:Text>\n",
      "</soapenv:Reason>\n",
      "```\n",
      "\n",
      "so a) \"global\" is not a globally supported enumeration item for all datasets? and b) the error doesn't reference the coordsOrTiles parameter in a 1:1 way.\n",
      "\n",
      "but we can look at the fedeo response\n",
      "\n",
      "http://geo.spacebel.be/opensearch/description.xml\n",
      "\n",
      "and how they make use of the opensearch [parameters spec](http://a9.com/-/spec/opensearch/extensions/parameters/1.0/):\n",
      "\n",
      "```\n",
      "<Url type=\"application/atom+xml\" indexOffset=\"1\" pageOffset=\"1\" rel=\"collection\" template=\"http://geo.spacebel.be:80/opensearch/request/?httpAccept=application/atom%2Bxml&parentIdentifier={eo:parentIdentifier?}&subject={dc:subject?}&query={searchTerms?}&startRecord={startIndex?}&startPage={startPage?}&maximumRecords={count?}&startDate={time:start?}&endDate={time:end?}&type={dc:type?}&title={dc:title?}&publisher={dc:publisher?}&bbox={geo:box?}&name={geo:name?}&lat={geo:lat?}&lon={geo:lon?}&radius={geo:radius?}&uid={geo:uid?}&organisationName={eo:organisationName?}&productType={eo:productType?}&platform={eo:platform?}&instrument={eo:instrument?}&classifiedAs={semantic:classifiedAs?}&recordSchema={sru:recordSchema?}\">\n",
      "<param:Parameter name=\"recordSchema\" value=\"{sru:recordSchema}\">\n",
      "<param:Option value=\"iso\" label=\"ISO\"/>\n",
      "</param:Parameter>\n",
      "<param:Parameter name=\"type\" value=\"{dc:type}\">\n",
      "<param:Option value=\"dataset\" label=\"dataset\"/>\n",
      "<param:Option value=\"collection\" label=\"dataset series\"/>\n",
      "<param:Option value=\"service\" label=\"service\"/>\n",
      "</param:Parameter>\n",
      "<param:Parameter name=\"parentIdentifier\" value=\"{eo:parentIdentifier}\">\n",
      "<param:Option value=\"EOP:ESA:FEDEO\" label=\"EOP:ESA:FEDEO\"/>\n",
      "<param:Option value=\"EOP:ESA:FEDEO:COLLECTIONS\" label=\"EOP:ESA:FEDEO:COLLECTIONS\"/>\n",
      "<param:Option value=\"EOP:ESA:GPOD-EO\" label=\"EOP:ESA:GPOD-EO\"/>\n",
      "<param:Option value=\"EOP:ESA:EO-VIRTUAL-ARCHIVE4\" label=\"EOP:ESA:EO-VIRTUAL-ARCHIVE4\"/>\n",
      "<param:Option value=\"EOP:NASA:ECHO\" label=\"EOP:NASA:ECHO\"/>\n",
      "</param:Parameter>\n",
      "</Url>\n",
      "```\n",
      "\n",
      "this is not common in any opensearch osdd response.\n",
      "\n",
      "and from podaac:\n",
      "\n",
      "```\n",
      "<Query role=\"http://esipfed.org/ns/discovery/1.1/#validpatterns\" podaac:instrument=\"\\[a-zA-Z0-9-]*\" podaac:satellite=\"\\[a-zA-Z0-9-]*\" podaac:fileFormat=\"HDF|NetCDF\" podaac:status=\"OPEN|PREVIEW|SIMULATED|RETIRED\" podaac:processLevel=\"2|2P|3|4\" podaac:full=\"true|false\" podaac:datasetId=\"\\[a-zA-Z0-9-]*\" podaac:sortBy=\"timeAsc|timeDesc\" podaac:pretty=\"true|false\"/>\n",
      "```\n",
      "\n",
      ")\n",
      "\n",
      "so can we use the above result set (the reflectance one) to pull some links and identify the parent catalog service?"
     ]
    },
    {
     "cell_type": "code",
     "collapsed": false,
     "input": [
      "dataset_xml = etree.fromstring(dataset_req.content)\n",
      "\n",
      "entries = dataset_xml.xpath('//*[local-name()=\"entry\"]')"
     ],
     "language": "python",
     "metadata": {},
     "outputs": [],
     "prompt_number": 56
    },
    {
     "cell_type": "code",
     "collapsed": false,
     "input": [
      "# working on the theory that an id is a uri/iri and so not\n",
      "# necessarily an externally referencable thing, we will\n",
      "# ignore the url-like uris here and focus on \"does an entry\n",
      "# contain a link element that allows us to make a reasonable\n",
      "# guess about the parent catalog request (stored in catalog_url)\n",
      "\n",
      "def related_to_catalog_service(url):\n",
      "    catalog_parts = urlparse.urlparse(catalog_url)\n",
      "    url_parts = urlparse.urlparse(url)\n",
      "    \n",
      "    # cheated and looked -> this is as bare bones as we can go\n",
      "    return catalog_parts.netloc == url_parts.netloc\n",
      "\n",
      "info = {}\n",
      "for entry in entries:\n",
      "    entry_id = entry.find('{http://www.w3.org/2005/Atom}id').text\n",
      "    entry_title = entry.find('{http://www.w3.org/2005/Atom}title').text\n",
      "    \n",
      "    links = entry.findall('{http://www.w3.org/2005/Atom}link')\n",
      "    \n",
      "    info[entry_id] = {\n",
      "        'title': entry_title,\n",
      "        'links': [\n",
      "            (\n",
      "                link.attrib.get('rel', 'no-rel'),\n",
      "                link.attrib.get('type', 'no-type'),\n",
      "                link.attrib.get('href', 'no-href?'),\n",
      "                link.attrib.get('title', 'no-title'),\n",
      "                related_to_catalog_service(link.attrib.get('href', 'no-href?'))\n",
      "            ) for link in links\n",
      "        ]\n",
      "    }\n",
      "   \n",
      "info"
     ],
     "language": "python",
     "metadata": {},
     "outputs": [
      {
       "metadata": {},
       "output_type": "pyout",
       "prompt_number": 55,
       "text": [
        "{'http://modwebsrv.modaps.eosdis.nasa.gov/axis2/services/MODAPSservices/getOSDD?product=MOD09': {'links': [('http://esipfed.org/ns/fedsearch/1.0/data#',\n",
        "    'no-type',\n",
        "    'http://modwebsrv.modaps.eosdis.nasa.gov/axis2/services/MODAPSservices/getOpenSearch?product=MOD09&collection=5&start=2009-01-01&stop=2009-01-02&coordsOrTiles=global&dayNightBoth=DNB',\n",
        "    'no-title',\n",
        "    False),\n",
        "   ('search',\n",
        "    'application/opensearchdescription+xml',\n",
        "    'http://modwebsrv.modaps.eosdis.nasa.gov/axis2/services/MODAPSservices/getOSDD?product=MOD09',\n",
        "    'MOD09',\n",
        "    False)],\n",
        "  'title': 'Level 2 5-Min Land Surface Reflectance - 250m, 500m, 1km'},\n",
        " 'http://modwebsrv.modaps.eosdis.nasa.gov/axis2/services/MODAPSservices/getOSDD?product=MOD09A1N': {'links': [('http://esipfed.org/ns/fedsearch/1.0/data#',\n",
        "    'no-type',\n",
        "    'http://modwebsrv.modaps.eosdis.nasa.gov/axis2/services/MODAPSservices/getOpenSearch?product=MOD09A1N&collection=5&start=2009-01-01&stop=2009-01-02&coordsOrTiles=global&dayNightBoth=DNB',\n",
        "    'no-title',\n",
        "    False),\n",
        "   ('search',\n",
        "    'application/opensearchdescription+xml',\n",
        "    'http://modwebsrv.modaps.eosdis.nasa.gov/axis2/services/MODAPSservices/getOSDD?product=MOD09A1N',\n",
        "    'MOD09A1N',\n",
        "    False)],\n",
        "  'title': 'Level 3 Daily Rolling-8-Day Surface Reflectance - 500m'},\n",
        " 'http://modwebsrv.modaps.eosdis.nasa.gov/axis2/services/MODAPSservices/getOSDD?product=MOD09CMG': {'links': [('http://esipfed.org/ns/fedsearch/1.0/data#',\n",
        "    'no-type',\n",
        "    'http://modwebsrv.modaps.eosdis.nasa.gov/axis2/services/MODAPSservices/getOpenSearch?product=MOD09CMG&collection=5&start=2009-01-01&stop=2009-01-02&coordsOrTiles=global&dayNightBoth=DNB',\n",
        "    'no-title',\n",
        "    False),\n",
        "   ('search',\n",
        "    'application/opensearchdescription+xml',\n",
        "    'http://modwebsrv.modaps.eosdis.nasa.gov/axis2/services/MODAPSservices/getOSDD?product=MOD09CMG',\n",
        "    'MOD09CMG',\n",
        "    False)],\n",
        "  'title': 'CMG Daily Surface Reflectance - 0.05Deg'},\n",
        " 'http://modwebsrv.modaps.eosdis.nasa.gov/axis2/services/MODAPSservices/getOSDD?product=MOD09CRS': {'links': [('http://esipfed.org/ns/fedsearch/1.0/data#',\n",
        "    'no-type',\n",
        "    'http://modwebsrv.modaps.eosdis.nasa.gov/axis2/services/MODAPSservices/getOpenSearch?product=MOD09CRS&collection=5&start=2009-01-01&stop=2009-01-02&coordsOrTiles=global&dayNightBoth=DNB',\n",
        "    'no-title',\n",
        "    False),\n",
        "   ('search',\n",
        "    'application/opensearchdescription+xml',\n",
        "    'http://modwebsrv.modaps.eosdis.nasa.gov/axis2/services/MODAPSservices/getOSDD?product=MOD09CRS',\n",
        "    'MOD09CRS',\n",
        "    False)],\n",
        "  'title': 'Level 2 5-Min Coarse Resolution Surface Reflectance - 5km'},\n",
        " 'http://modwebsrv.modaps.eosdis.nasa.gov/axis2/services/MODAPSservices/getOSDD?product=MOD09GA': {'links': [('http://esipfed.org/ns/fedsearch/1.0/data#',\n",
        "    'no-type',\n",
        "    'http://modwebsrv.modaps.eosdis.nasa.gov/axis2/services/MODAPSservices/getOpenSearch?product=MOD09GA&collection=5&start=2009-01-01&stop=2009-01-02&coordsOrTiles=global&dayNightBoth=DNB',\n",
        "    'no-title',\n",
        "    False),\n",
        "   ('search',\n",
        "    'application/opensearchdescription+xml',\n",
        "    'http://modwebsrv.modaps.eosdis.nasa.gov/axis2/services/MODAPSservices/getOSDD?product=MOD09GA',\n",
        "    'MOD09GA',\n",
        "    False)],\n",
        "  'title': 'Level 2G Light Daily Surface Reflectance - 1km and 500m'},\n",
        " 'http://modwebsrv.modaps.eosdis.nasa.gov/axis2/services/MODAPSservices/getOSDD?product=MOD09GHK': {'links': [('http://esipfed.org/ns/fedsearch/1.0/data#',\n",
        "    'no-type',\n",
        "    'http://modwebsrv.modaps.eosdis.nasa.gov/axis2/services/MODAPSservices/getOpenSearch?product=MOD09GHK&collection=5&start=2009-01-01&stop=2009-01-02&coordsOrTiles=global&dayNightBoth=DNB',\n",
        "    'no-title',\n",
        "    False),\n",
        "   ('search',\n",
        "    'application/opensearchdescription+xml',\n",
        "    'http://modwebsrv.modaps.eosdis.nasa.gov/axis2/services/MODAPSservices/getOSDD?product=MOD09GHK',\n",
        "    'MOD09GHK',\n",
        "    False)],\n",
        "  'title': 'Level 2G Daily Surface Reflectance - 500m'},\n",
        " 'http://modwebsrv.modaps.eosdis.nasa.gov/axis2/services/MODAPSservices/getOSDD?product=MOD09GQ': {'links': [('http://esipfed.org/ns/fedsearch/1.0/data#',\n",
        "    'no-type',\n",
        "    'http://modwebsrv.modaps.eosdis.nasa.gov/axis2/services/MODAPSservices/getOpenSearch?product=MOD09GQ&collection=5&start=2009-01-01&stop=2009-01-02&coordsOrTiles=global&dayNightBoth=DNB',\n",
        "    'no-title',\n",
        "    False),\n",
        "   ('search',\n",
        "    'application/opensearchdescription+xml',\n",
        "    'http://modwebsrv.modaps.eosdis.nasa.gov/axis2/services/MODAPSservices/getOSDD?product=MOD09GQ',\n",
        "    'MOD09GQ',\n",
        "    False)],\n",
        "  'title': 'Level 2G Light Daily Surface Reflectance - 250m'},\n",
        " 'http://modwebsrv.modaps.eosdis.nasa.gov/axis2/services/MODAPSservices/getOSDD?product=MOD09GQK': {'links': [('http://esipfed.org/ns/fedsearch/1.0/data#',\n",
        "    'no-type',\n",
        "    'http://modwebsrv.modaps.eosdis.nasa.gov/axis2/services/MODAPSservices/getOpenSearch?product=MOD09GQK&collection=5&start=2009-01-01&stop=2009-01-02&coordsOrTiles=global&dayNightBoth=DNB',\n",
        "    'no-title',\n",
        "    False),\n",
        "   ('search',\n",
        "    'application/opensearchdescription+xml',\n",
        "    'http://modwebsrv.modaps.eosdis.nasa.gov/axis2/services/MODAPSservices/getOSDD?product=MOD09GQK',\n",
        "    'MOD09GQK',\n",
        "    False)],\n",
        "  'title': 'Level 2G Daily Surface Reflectance - 250m'},\n",
        " 'http://modwebsrv.modaps.eosdis.nasa.gov/axis2/services/MODAPSservices/getOSDD?product=MOD09GST': {'links': [('http://esipfed.org/ns/fedsearch/1.0/data#',\n",
        "    'no-type',\n",
        "    'http://modwebsrv.modaps.eosdis.nasa.gov/axis2/services/MODAPSservices/getOpenSearch?product=MOD09GST&collection=5&start=2009-01-01&stop=2009-01-02&coordsOrTiles=global&dayNightBoth=DNB',\n",
        "    'no-title',\n",
        "    False),\n",
        "   ('search',\n",
        "    'application/opensearchdescription+xml',\n",
        "    'http://modwebsrv.modaps.eosdis.nasa.gov/axis2/services/MODAPSservices/getOSDD?product=MOD09GST',\n",
        "    'MOD09GST',\n",
        "    False)],\n",
        "  'title': 'Level 2G Daily Surface Reflectance State - 1km'},\n",
        " 'http://modwebsrv.modaps.eosdis.nasa.gov/axis2/services/MODAPSservices/getOSDD?product=MOD09Q1N': {'links': [('http://esipfed.org/ns/fedsearch/1.0/data#',\n",
        "    'no-type',\n",
        "    'http://modwebsrv.modaps.eosdis.nasa.gov/axis2/services/MODAPSservices/getOpenSearch?product=MOD09Q1N&collection=5&start=2009-01-01&stop=2009-01-02&coordsOrTiles=global&dayNightBoth=DNB',\n",
        "    'no-title',\n",
        "    False),\n",
        "   ('search',\n",
        "    'application/opensearchdescription+xml',\n",
        "    'http://modwebsrv.modaps.eosdis.nasa.gov/axis2/services/MODAPSservices/getOSDD?product=MOD09Q1N',\n",
        "    'MOD09Q1N',\n",
        "    False)],\n",
        "  'title': 'Level 3 Daily Rolling-8-Day Surface Reflectance - 250m'},\n",
        " 'http://modwebsrv.modaps.eosdis.nasa.gov/axis2/services/MODAPSservices/getOSDD?product=MOD29': {'links': [('http://esipfed.org/ns/fedsearch/1.0/data#',\n",
        "    'no-type',\n",
        "    'http://modwebsrv.modaps.eosdis.nasa.gov/axis2/services/MODAPSservices/getOpenSearch?product=MOD29&collection=5&start=2009-01-01&stop=2009-01-02&coordsOrTiles=global&dayNightBoth=DNB',\n",
        "    'no-title',\n",
        "    False),\n",
        "   ('search',\n",
        "    'application/opensearchdescription+xml',\n",
        "    'http://modwebsrv.modaps.eosdis.nasa.gov/axis2/services/MODAPSservices/getOSDD?product=MOD29',\n",
        "    'MOD29',\n",
        "    False)],\n",
        "  'title': 'Level 2 5-Min Sea Ice Cover - 1km'},\n",
        " 'http://modwebsrv.modaps.eosdis.nasa.gov/axis2/services/MODAPSservices/getOSDD?product=MOD29L2C': {'links': [('http://esipfed.org/ns/fedsearch/1.0/data#',\n",
        "    'no-type',\n",
        "    'http://modwebsrv.modaps.eosdis.nasa.gov/axis2/services/MODAPSservices/getOpenSearch?product=MOD29L2C&collection=5&start=2009-01-01&stop=2009-01-02&coordsOrTiles=global&dayNightBoth=DNB',\n",
        "    'no-title',\n",
        "    False),\n",
        "   ('search',\n",
        "    'application/opensearchdescription+xml',\n",
        "    'http://modwebsrv.modaps.eosdis.nasa.gov/axis2/services/MODAPSservices/getOSDD?product=MOD29L2C',\n",
        "    'MOD29L2C',\n",
        "    False)],\n",
        "  'title': 'Level 2 5-Min Coarse Resolution Sea Ice Cover - 5km'},\n",
        " 'http://modwebsrv.modaps.eosdis.nasa.gov/axis2/services/MODAPSservices/getOSDD?product=MODAGAGG': {'links': [('http://esipfed.org/ns/fedsearch/1.0/data#',\n",
        "    'no-type',\n",
        "    'http://modwebsrv.modaps.eosdis.nasa.gov/axis2/services/MODAPSservices/getOpenSearch?product=MODAGAGG&collection=5&start=2009-01-01&stop=2009-01-02&coordsOrTiles=global&dayNightBoth=DNB',\n",
        "    'no-title',\n",
        "    False),\n",
        "   ('search',\n",
        "    'application/opensearchdescription+xml',\n",
        "    'http://modwebsrv.modaps.eosdis.nasa.gov/axis2/services/MODAPSservices/getOSDD?product=MODAGAGG',\n",
        "    'MODAGAGG',\n",
        "    False)],\n",
        "  'title': 'Level 3 Daily Aggregated Surface Reflectance - 1km SIN Grid'},\n",
        " 'http://modwebsrv.modaps.eosdis.nasa.gov/axis2/services/MODAPSservices/getOSDD?product=MYD09': {'links': [('http://esipfed.org/ns/fedsearch/1.0/data#',\n",
        "    'no-type',\n",
        "    'http://modwebsrv.modaps.eosdis.nasa.gov/axis2/services/MODAPSservices/getOpenSearch?product=MYD09&collection=5&start=2009-01-01&stop=2009-01-02&coordsOrTiles=global&dayNightBoth=DNB',\n",
        "    'no-title',\n",
        "    False),\n",
        "   ('search',\n",
        "    'application/opensearchdescription+xml',\n",
        "    'http://modwebsrv.modaps.eosdis.nasa.gov/axis2/services/MODAPSservices/getOSDD?product=MYD09',\n",
        "    'MYD09',\n",
        "    False)],\n",
        "  'title': 'Level 2 5-Min Land Surface Reflectance - 250m, 500m, 1km'},\n",
        " 'http://modwebsrv.modaps.eosdis.nasa.gov/axis2/services/MODAPSservices/getOSDD?product=MYD09A1N': {'links': [('http://esipfed.org/ns/fedsearch/1.0/data#',\n",
        "    'no-type',\n",
        "    'http://modwebsrv.modaps.eosdis.nasa.gov/axis2/services/MODAPSservices/getOpenSearch?product=MYD09A1N&collection=5&start=2009-01-01&stop=2009-01-02&coordsOrTiles=global&dayNightBoth=DNB',\n",
        "    'no-title',\n",
        "    False),\n",
        "   ('search',\n",
        "    'application/opensearchdescription+xml',\n",
        "    'http://modwebsrv.modaps.eosdis.nasa.gov/axis2/services/MODAPSservices/getOSDD?product=MYD09A1N',\n",
        "    'MYD09A1N',\n",
        "    False)],\n",
        "  'title': 'Level 3 Daily Rolling-8-Day Surface Reflectance - 500m'},\n",
        " 'http://modwebsrv.modaps.eosdis.nasa.gov/axis2/services/MODAPSservices/getOSDD?product=MYD09CMG': {'links': [('http://esipfed.org/ns/fedsearch/1.0/data#',\n",
        "    'no-type',\n",
        "    'http://modwebsrv.modaps.eosdis.nasa.gov/axis2/services/MODAPSservices/getOpenSearch?product=MYD09CMG&collection=5&start=2009-01-01&stop=2009-01-02&coordsOrTiles=global&dayNightBoth=DNB',\n",
        "    'no-title',\n",
        "    False),\n",
        "   ('search',\n",
        "    'application/opensearchdescription+xml',\n",
        "    'http://modwebsrv.modaps.eosdis.nasa.gov/axis2/services/MODAPSservices/getOSDD?product=MYD09CMG',\n",
        "    'MYD09CMG',\n",
        "    False)],\n",
        "  'title': 'CMG Daily Surface Reflectance - 0.05Deg'},\n",
        " 'http://modwebsrv.modaps.eosdis.nasa.gov/axis2/services/MODAPSservices/getOSDD?product=MYD09CRS': {'links': [('http://esipfed.org/ns/fedsearch/1.0/data#',\n",
        "    'no-type',\n",
        "    'http://modwebsrv.modaps.eosdis.nasa.gov/axis2/services/MODAPSservices/getOpenSearch?product=MYD09CRS&collection=5&start=2009-01-01&stop=2009-01-02&coordsOrTiles=global&dayNightBoth=DNB',\n",
        "    'no-title',\n",
        "    False),\n",
        "   ('search',\n",
        "    'application/opensearchdescription+xml',\n",
        "    'http://modwebsrv.modaps.eosdis.nasa.gov/axis2/services/MODAPSservices/getOSDD?product=MYD09CRS',\n",
        "    'MYD09CRS',\n",
        "    False)],\n",
        "  'title': 'Level 2 5-Min Coarse Resolution Surface Reflectance - 5km'},\n",
        " 'http://modwebsrv.modaps.eosdis.nasa.gov/axis2/services/MODAPSservices/getOSDD?product=MYD09GA': {'links': [('http://esipfed.org/ns/fedsearch/1.0/data#',\n",
        "    'no-type',\n",
        "    'http://modwebsrv.modaps.eosdis.nasa.gov/axis2/services/MODAPSservices/getOpenSearch?product=MYD09GA&collection=5&start=2009-01-01&stop=2009-01-02&coordsOrTiles=global&dayNightBoth=DNB',\n",
        "    'no-title',\n",
        "    False),\n",
        "   ('search',\n",
        "    'application/opensearchdescription+xml',\n",
        "    'http://modwebsrv.modaps.eosdis.nasa.gov/axis2/services/MODAPSservices/getOSDD?product=MYD09GA',\n",
        "    'MYD09GA',\n",
        "    False)],\n",
        "  'title': 'Level 2G Light Daily Surface Reflectance - 1km and 500m'},\n",
        " 'http://modwebsrv.modaps.eosdis.nasa.gov/axis2/services/MODAPSservices/getOSDD?product=MYD09GHK': {'links': [('http://esipfed.org/ns/fedsearch/1.0/data#',\n",
        "    'no-type',\n",
        "    'http://modwebsrv.modaps.eosdis.nasa.gov/axis2/services/MODAPSservices/getOpenSearch?product=MYD09GHK&collection=5&start=2009-01-01&stop=2009-01-02&coordsOrTiles=global&dayNightBoth=DNB',\n",
        "    'no-title',\n",
        "    False),\n",
        "   ('search',\n",
        "    'application/opensearchdescription+xml',\n",
        "    'http://modwebsrv.modaps.eosdis.nasa.gov/axis2/services/MODAPSservices/getOSDD?product=MYD09GHK',\n",
        "    'MYD09GHK',\n",
        "    False)],\n",
        "  'title': 'Level 2G Daily Surface Reflectance - 500m'},\n",
        " 'http://modwebsrv.modaps.eosdis.nasa.gov/axis2/services/MODAPSservices/getOSDD?product=MYD09GQ': {'links': [('http://esipfed.org/ns/fedsearch/1.0/data#',\n",
        "    'no-type',\n",
        "    'http://modwebsrv.modaps.eosdis.nasa.gov/axis2/services/MODAPSservices/getOpenSearch?product=MYD09GQ&collection=5&start=2009-01-01&stop=2009-01-02&coordsOrTiles=global&dayNightBoth=DNB',\n",
        "    'no-title',\n",
        "    False),\n",
        "   ('search',\n",
        "    'application/opensearchdescription+xml',\n",
        "    'http://modwebsrv.modaps.eosdis.nasa.gov/axis2/services/MODAPSservices/getOSDD?product=MYD09GQ',\n",
        "    'MYD09GQ',\n",
        "    False)],\n",
        "  'title': 'Level 2G Light Daily Surface Reflectance - 250m'},\n",
        " 'http://modwebsrv.modaps.eosdis.nasa.gov/axis2/services/MODAPSservices/getOSDD?product=MYD09GQK': {'links': [('http://esipfed.org/ns/fedsearch/1.0/data#',\n",
        "    'no-type',\n",
        "    'http://modwebsrv.modaps.eosdis.nasa.gov/axis2/services/MODAPSservices/getOpenSearch?product=MYD09GQK&collection=5&start=2009-01-01&stop=2009-01-02&coordsOrTiles=global&dayNightBoth=DNB',\n",
        "    'no-title',\n",
        "    False),\n",
        "   ('search',\n",
        "    'application/opensearchdescription+xml',\n",
        "    'http://modwebsrv.modaps.eosdis.nasa.gov/axis2/services/MODAPSservices/getOSDD?product=MYD09GQK',\n",
        "    'MYD09GQK',\n",
        "    False)],\n",
        "  'title': 'Level 2G Daily Surface Reflectance - 250m'},\n",
        " 'http://modwebsrv.modaps.eosdis.nasa.gov/axis2/services/MODAPSservices/getOSDD?product=MYD09GST': {'links': [('http://esipfed.org/ns/fedsearch/1.0/data#',\n",
        "    'no-type',\n",
        "    'http://modwebsrv.modaps.eosdis.nasa.gov/axis2/services/MODAPSservices/getOpenSearch?product=MYD09GST&collection=5&start=2009-01-01&stop=2009-01-02&coordsOrTiles=global&dayNightBoth=DNB',\n",
        "    'no-title',\n",
        "    False),\n",
        "   ('search',\n",
        "    'application/opensearchdescription+xml',\n",
        "    'http://modwebsrv.modaps.eosdis.nasa.gov/axis2/services/MODAPSservices/getOSDD?product=MYD09GST',\n",
        "    'MYD09GST',\n",
        "    False)],\n",
        "  'title': 'Level 2G Daily Surface Reflectance State - 1km'},\n",
        " 'http://modwebsrv.modaps.eosdis.nasa.gov/axis2/services/MODAPSservices/getOSDD?product=MYD09Q1N': {'links': [('http://esipfed.org/ns/fedsearch/1.0/data#',\n",
        "    'no-type',\n",
        "    'http://modwebsrv.modaps.eosdis.nasa.gov/axis2/services/MODAPSservices/getOpenSearch?product=MYD09Q1N&collection=5&start=2009-01-01&stop=2009-01-02&coordsOrTiles=global&dayNightBoth=DNB',\n",
        "    'no-title',\n",
        "    False),\n",
        "   ('search',\n",
        "    'application/opensearchdescription+xml',\n",
        "    'http://modwebsrv.modaps.eosdis.nasa.gov/axis2/services/MODAPSservices/getOSDD?product=MYD09Q1N',\n",
        "    'MYD09Q1N',\n",
        "    False)],\n",
        "  'title': 'Level 3 Daily Rolling-8-Day Surface Reflectance - 250m'},\n",
        " 'http://modwebsrv.modaps.eosdis.nasa.gov/axis2/services/MODAPSservices/getOSDD?product=MYD29': {'links': [('http://esipfed.org/ns/fedsearch/1.0/data#',\n",
        "    'no-type',\n",
        "    'http://modwebsrv.modaps.eosdis.nasa.gov/axis2/services/MODAPSservices/getOpenSearch?product=MYD29&collection=5&start=2009-01-01&stop=2009-01-02&coordsOrTiles=global&dayNightBoth=DNB',\n",
        "    'no-title',\n",
        "    False),\n",
        "   ('search',\n",
        "    'application/opensearchdescription+xml',\n",
        "    'http://modwebsrv.modaps.eosdis.nasa.gov/axis2/services/MODAPSservices/getOSDD?product=MYD29',\n",
        "    'MYD29',\n",
        "    False)],\n",
        "  'title': 'Level 2 5-Min Sea Ice Cover - 1km'},\n",
        " 'http://modwebsrv.modaps.eosdis.nasa.gov/axis2/services/MODAPSservices/getOSDD?product=MYD29L2C': {'links': [('http://esipfed.org/ns/fedsearch/1.0/data#',\n",
        "    'no-type',\n",
        "    'http://modwebsrv.modaps.eosdis.nasa.gov/axis2/services/MODAPSservices/getOpenSearch?product=MYD29L2C&collection=5&start=2009-01-01&stop=2009-01-02&coordsOrTiles=global&dayNightBoth=DNB',\n",
        "    'no-title',\n",
        "    False),\n",
        "   ('search',\n",
        "    'application/opensearchdescription+xml',\n",
        "    'http://modwebsrv.modaps.eosdis.nasa.gov/axis2/services/MODAPSservices/getOSDD?product=MYD29L2C',\n",
        "    'MYD29L2C',\n",
        "    False)],\n",
        "  'title': 'Level 2 5-Min Coarse Resolution Sea Ice Cover - 5km'},\n",
        " 'http://modwebsrv.modaps.eosdis.nasa.gov/axis2/services/MODAPSservices/getOSDD?product=MYDAGAGG': {'links': [('http://esipfed.org/ns/fedsearch/1.0/data#',\n",
        "    'no-type',\n",
        "    'http://modwebsrv.modaps.eosdis.nasa.gov/axis2/services/MODAPSservices/getOpenSearch?product=MYDAGAGG&collection=5&start=2009-01-01&stop=2009-01-02&coordsOrTiles=global&dayNightBoth=DNB',\n",
        "    'no-title',\n",
        "    False),\n",
        "   ('search',\n",
        "    'application/opensearchdescription+xml',\n",
        "    'http://modwebsrv.modaps.eosdis.nasa.gov/axis2/services/MODAPSservices/getOSDD?product=MYDAGAGG',\n",
        "    'MYDAGAGG',\n",
        "    False)],\n",
        "  'title': 'Level 3 Daily Aggregated Surface Reflectance - 1km SIN Grid'}}"
       ]
      }
     ],
     "prompt_number": 55
    },
    {
     "cell_type": "markdown",
     "metadata": {},
     "source": [
      "i am unclear on the esip/#data type and the osd+xml type from a \"what to click on\" perspective. other than the esip one should be a functional search result (?) and the other the description of that service."
     ]
    },
    {
     "cell_type": "heading",
     "level": 4,
     "metadata": {},
     "source": [
      "can we identify catalog services?"
     ]
    },
    {
     "cell_type": "markdown",
     "metadata": {},
     "source": [
      "using the set of opensearch services provided by cwic but where, even then, i have to poke around to find the osdd endpoint.\n",
      "\n",
      "(i am not going to go through any of the above other than to verify that these do have the searchTerms parameter. due diligence is likely along the lines of make catalog request, make searchTerms example query, extract osd+xml link, make request and verify that response does not contain a searchTerms parameter. fine, i will do that.)\n",
      "\n",
      "(later we will have to talk about things like not triggering browser downloads for an xml response and the generation of html views by including an xslt tag in the osdd or oai-pmh service.)"
     ]
    },
    {
     "cell_type": "code",
     "collapsed": false,
     "input": [
      "import urllib\n",
      "from itertools import chain\n",
      "\n",
      "cwic_links = [\n",
      "    'http://dap.onc.uvic.ca/erddap/opensearch1.1/description.xml',\n",
      "    'http://gcmd.gsfc.nasa.gov/KeywordSearch/default/openSearch.jsp?Portal=cwic',\n",
      "    'http://podaac.jpl.nasa.gov/ws/search/dataset/osd.xml',\n",
      "    # 'http://nsidc.org/api/opensearch/1.1/dataset/description',  # skipping due to speed issues (many items?)\n",
      "    'http://ghrc.nsstc.nasa.gov/hydro/ghost.xml',\n",
      "    'http://mirador.gsfc.nasa.gov/mirador_dataset_opensearch.xml',\n",
      "    'http://eo-virtual-archive4.esa.int/search/ER02_SAR_RAW_0P/description',\n",
      "    'http://www1.usgs.gov/erddap/opensearch1.1/description.xml',\n",
      "    # 'http://bison.usgs.ornl.gov/doc/api.jsp',  # this is now a dead link\n",
      "    # 'http://ceocat.ccrs.nrcan.gc.ca/opensearch_description_document.xml',  # this is 403 access forbidden\n",
      "    # 'http://rs211980.rs.hosteurope.de/mule/os-description/',  # now 503 service down\n",
      "    'http://geo.spacebel.be/opensearch/description.xml'  # from the fedeo documentation page listed\n",
      "]\n",
      "\n",
      "def extract_search(xml):\n",
      "    elements = xml.xpath('//*[local-name()=\"Url\"]')\n",
      "    if not elements:\n",
      "        print 'no elems'\n",
      "        return ''\n",
      "\n",
      "    # likely some namespace wonkiness\n",
      "    element = None\n",
      "    for e in elements:\n",
      "        if e.attrib.get('type', '') in ['application/atom+xml', 'text/atom+xml']:\n",
      "            element = e\n",
      "            break\n",
      "            \n",
      "    if e is None:\n",
      "        print 'no atom'\n",
      "        return ''\n",
      "    \n",
      "    # deal with the template for atom \n",
      "    template = element.attrib.get('template', '')              \n",
      "    template_parts = urlparse.urlparse(template)\n",
      "\n",
      "    base_url = urlparse.urlunparse((\n",
      "        template_parts.scheme,\n",
      "        template_parts.netloc,\n",
      "        template_parts.path,\n",
      "        None,\n",
      "        None,\n",
      "        None\n",
      "    ))\n",
      "\n",
      "    # see if there's a searchTerms kvp\n",
      "    qp = urlparse.parse_qs(template_parts.query)\n",
      "    search_terms = {k: v[0] for k, v in qp.iteritems() if 'searchTerms' in v[0]}\n",
      "    \n",
      "    if not search_terms:\n",
      "        print 'no searchTerms'\n",
      "        return ''\n",
      "    \n",
      "    # capture the default query parameters (ie no brackets)\n",
      "    defaults = {k:v[0] for k, v in qp.iteritems() \n",
      "            if not v[0].startswith('{') \n",
      "            and not v[0].endswith('}') \n",
      "            and '?' not in v[0]}\n",
      "    \n",
      "    # generate a search query with the provided query example (if there is one)\n",
      "    example_queries = {}\n",
      "    for k, v in search_terms.iteritems():\n",
      "        # todo: issue with namespacing (prefix)\n",
      "        xp = '//*[local-name()=\"Query\" and @role=\"example\"]/@{0}'.format(v[1:-1])\n",
      "        try:\n",
      "            example_query = next(iter(xml.xpath(xp)), '')\n",
      "        except:\n",
      "            print 'failed example query: ', xp\n",
      "            example_query = ''\n",
      "        example_queries[k] = example_query\n",
      "        \n",
      "    # yikes. carry on.\n",
      "    params = dict(chain(example_queries.items(), defaults.items()))\n",
      "    params = urllib.urlencode(params.items())\n",
      "    return base_url + '?' + params\n",
      "\n",
      "def extract_osdd_links(xml):\n",
      "    links = xml.xpath('//*[local-name()=\"entry\"]/*[local-name()=\"link\"][@type=\"application/opensearchdescription+xml\"]')\n",
      "    print len(links)\n",
      "    if not links:\n",
      "        return []\n",
      "\n",
      "    return [l.attrib.get('href') for l in links]\n",
      "        \n",
      "catalog_searches = {}\n",
      "for link in cwic_links:    \n",
      "    print link\n",
      "    c_req = requests.get(link)\n",
      "    try:\n",
      "        c_xml = etree.fromstring(c_req.content)\n",
      "    except Exception as ex:\n",
      "        print c_req.status_code\n",
      "        print c_req.content[:100]\n",
      "        print ex\n",
      "        continue\n",
      "    \n",
      "    catalog_search_url = extract_search(c_xml)\n",
      "    catalog_searches[link] = {\"search_url\": catalog_search_url}\n",
      "    \n",
      "    if not catalog_search_url:\n",
      "        print 'no search'\n",
      "        continue\n",
      "    \n",
      "    s_req = requests.get(catalog_search_url)\n",
      "    if s_req.status_code != 200:\n",
      "        print '\\tfailed request : ', catalog_search_url\n",
      "        continue\n",
      "    \n",
      "    s_xml = etree.fromstring(s_req.content)\n",
      "    \n",
      "    # look for link/@type=\"application/opensearchdescription+xml\"\n",
      "    # (not interested in atom/rss here, but how the osdd is structured\n",
      "    # to make sure we're safe assuming (haha yes) {searchTerms} is enough\n",
      "    # for the catalog service identification)\n",
      "    osdd_links = extract_osdd_links(s_xml)\n",
      "    \n",
      "    osdd_responses = {}\n",
      "    for o_link in osdd_links:\n",
      "        if not o_link:\n",
      "            continue\n",
      "        l_req = requests.get(o_link)\n",
      "        if l_req.status_code != 200:\n",
      "            print 'failed request: ', o_link\n",
      "            osdd_responses[o_link] = {'failed': l_req.content}\n",
      "            continue\n",
      "        \n",
      "        l_xml = etree.fromstring(l_req.content)\n",
      "        search_url = extract_search(l_xml)\n",
      "        \n",
      "        osdd_responses[o_link] = {\"search\": search_url}\n",
      "\n",
      "    catalog_searches[link].update({\n",
      "        \"dataset_query\": catalog_search_url,\n",
      "        \"dataset_osdd_links\": osdd_responses\n",
      "    })"
     ],
     "language": "python",
     "metadata": {},
     "outputs": [
      {
       "output_type": "stream",
       "stream": "stdout",
       "text": [
        "http://dap.onc.uvic.ca/erddap/opensearch1.1/description.xml\n",
        "0"
       ]
      },
      {
       "output_type": "stream",
       "stream": "stdout",
       "text": [
        "\n",
        "http://gcmd.gsfc.nasa.gov/KeywordSearch/default/openSearch.jsp?Portal=cwic\n",
        "50"
       ]
      },
      {
       "output_type": "stream",
       "stream": "stdout",
       "text": [
        "\n",
        "no searchTerms"
       ]
      },
      {
       "output_type": "stream",
       "stream": "stdout",
       "text": [
        "\n",
        "no searchTerms"
       ]
      },
      {
       "output_type": "stream",
       "stream": "stdout",
       "text": [
        "\n",
        "no searchTerms"
       ]
      },
      {
       "output_type": "stream",
       "stream": "stdout",
       "text": [
        "\n",
        "no searchTerms"
       ]
      },
      {
       "output_type": "stream",
       "stream": "stdout",
       "text": [
        "\n",
        "no searchTerms"
       ]
      },
      {
       "output_type": "stream",
       "stream": "stdout",
       "text": [
        "\n",
        "no searchTerms"
       ]
      },
      {
       "output_type": "stream",
       "stream": "stdout",
       "text": [
        "\n",
        "no searchTerms"
       ]
      },
      {
       "output_type": "stream",
       "stream": "stdout",
       "text": [
        "\n",
        "failed request: "
       ]
      },
      {
       "output_type": "stream",
       "stream": "stdout",
       "text": [
        " http://cwic.wgiss.ceos.org/opensearch/datasets/MYDCSR_B_C6/osdd.xml?clientId=fromgcmd\n",
        "no searchTerms"
       ]
      },
      {
       "output_type": "stream",
       "stream": "stdout",
       "text": [
        "\n",
        "no searchTerms"
       ]
      },
      {
       "output_type": "stream",
       "stream": "stdout",
       "text": [
        "\n",
        "no searchTerms"
       ]
      },
      {
       "output_type": "stream",
       "stream": "stdout",
       "text": [
        "\n",
        "no searchTerms"
       ]
      },
      {
       "output_type": "stream",
       "stream": "stdout",
       "text": [
        "\n",
        "no searchTerms"
       ]
      },
      {
       "output_type": "stream",
       "stream": "stdout",
       "text": [
        "\n",
        "failed request: "
       ]
      },
      {
       "output_type": "stream",
       "stream": "stdout",
       "text": [
        " http://cwic.wgiss.ceos.org/opensearch/datasets/MODCSR_D_C6/osdd.xml?clientId=fromgcmd\n",
        "no searchTerms"
       ]
      },
      {
       "output_type": "stream",
       "stream": "stdout",
       "text": [
        "\n",
        "no searchTerms"
       ]
      },
      {
       "output_type": "stream",
       "stream": "stdout",
       "text": [
        "\n",
        "no searchTerms"
       ]
      },
      {
       "output_type": "stream",
       "stream": "stdout",
       "text": [
        "\n",
        "no searchTerms"
       ]
      },
      {
       "output_type": "stream",
       "stream": "stdout",
       "text": [
        "\n",
        "no searchTerms"
       ]
      },
      {
       "output_type": "stream",
       "stream": "stdout",
       "text": [
        "\n",
        "failed request: "
       ]
      },
      {
       "output_type": "stream",
       "stream": "stdout",
       "text": [
        " http://cwic.wgiss.ceos.org/opensearch/datasets/MYDCSR_D_C6/osdd.xml?clientId=fromgcmd\n",
        "failed request: "
       ]
      },
      {
       "output_type": "stream",
       "stream": "stdout",
       "text": [
        " http://cwic.wgiss.ceos.org/opensearch/datasets/MODCSR_B_C6/osdd.xml?clientId=fromgcmd\n",
        "no searchTerms"
       ]
      },
      {
       "output_type": "stream",
       "stream": "stdout",
       "text": [
        "\n",
        "no searchTerms"
       ]
      },
      {
       "output_type": "stream",
       "stream": "stdout",
       "text": [
        "\n",
        "no searchTerms"
       ]
      },
      {
       "output_type": "stream",
       "stream": "stdout",
       "text": [
        "\n",
        "no searchTerms"
       ]
      },
      {
       "output_type": "stream",
       "stream": "stdout",
       "text": [
        "\n",
        "no searchTerms"
       ]
      },
      {
       "output_type": "stream",
       "stream": "stdout",
       "text": [
        "\n",
        "no searchTerms"
       ]
      },
      {
       "output_type": "stream",
       "stream": "stdout",
       "text": [
        "\n",
        "no searchTerms"
       ]
      },
      {
       "output_type": "stream",
       "stream": "stdout",
       "text": [
        "\n",
        "no searchTerms"
       ]
      },
      {
       "output_type": "stream",
       "stream": "stdout",
       "text": [
        "\n",
        "no searchTerms"
       ]
      },
      {
       "output_type": "stream",
       "stream": "stdout",
       "text": [
        "\n",
        "no searchTerms"
       ]
      },
      {
       "output_type": "stream",
       "stream": "stdout",
       "text": [
        "\n",
        "no searchTerms"
       ]
      },
      {
       "output_type": "stream",
       "stream": "stdout",
       "text": [
        "\n",
        "no searchTerms"
       ]
      },
      {
       "output_type": "stream",
       "stream": "stdout",
       "text": [
        "\n",
        "no searchTerms"
       ]
      },
      {
       "output_type": "stream",
       "stream": "stdout",
       "text": [
        "\n",
        "no searchTerms"
       ]
      },
      {
       "output_type": "stream",
       "stream": "stdout",
       "text": [
        "\n",
        "no searchTerms"
       ]
      },
      {
       "output_type": "stream",
       "stream": "stdout",
       "text": [
        "\n",
        "no searchTerms"
       ]
      },
      {
       "output_type": "stream",
       "stream": "stdout",
       "text": [
        "\n",
        "no searchTerms"
       ]
      },
      {
       "output_type": "stream",
       "stream": "stdout",
       "text": [
        "\n",
        "no searchTerms"
       ]
      },
      {
       "output_type": "stream",
       "stream": "stdout",
       "text": [
        "\n",
        "no searchTerms"
       ]
      },
      {
       "output_type": "stream",
       "stream": "stdout",
       "text": [
        "\n",
        "no searchTerms"
       ]
      },
      {
       "output_type": "stream",
       "stream": "stdout",
       "text": [
        "\n",
        "no searchTerms"
       ]
      },
      {
       "output_type": "stream",
       "stream": "stdout",
       "text": [
        "\n",
        "no searchTerms"
       ]
      },
      {
       "output_type": "stream",
       "stream": "stdout",
       "text": [
        "\n",
        "no searchTerms"
       ]
      },
      {
       "output_type": "stream",
       "stream": "stdout",
       "text": [
        "\n",
        "no searchTerms"
       ]
      },
      {
       "output_type": "stream",
       "stream": "stdout",
       "text": [
        "\n",
        "no searchTerms"
       ]
      },
      {
       "output_type": "stream",
       "stream": "stdout",
       "text": [
        "\n",
        "no searchTerms"
       ]
      },
      {
       "output_type": "stream",
       "stream": "stdout",
       "text": [
        "\n",
        "no searchTerms"
       ]
      },
      {
       "output_type": "stream",
       "stream": "stdout",
       "text": [
        "\n",
        "no searchTerms"
       ]
      },
      {
       "output_type": "stream",
       "stream": "stdout",
       "text": [
        "\n",
        "no searchTerms"
       ]
      },
      {
       "output_type": "stream",
       "stream": "stdout",
       "text": [
        "\n",
        "http://podaac.jpl.nasa.gov/ws/search/dataset/osd.xml\n",
        "0"
       ]
      },
      {
       "output_type": "stream",
       "stream": "stdout",
       "text": [
        "\n",
        "http://ghrc.nsstc.nasa.gov/hydro/ghost.xml\n",
        "failed example query: "
       ]
      },
      {
       "output_type": "stream",
       "stream": "stdout",
       "text": [
        " //*[local-name()=\"Query\" and @role=\"example\"]/@os:searchTerms?\n",
        "285"
       ]
      },
      {
       "output_type": "stream",
       "stream": "stdout",
       "text": [
        "\n",
        "no searchTerms"
       ]
      },
      {
       "output_type": "stream",
       "stream": "stdout",
       "text": [
        "\n",
        "no searchTerms"
       ]
      },
      {
       "output_type": "stream",
       "stream": "stdout",
       "text": [
        "\n",
        "no searchTerms"
       ]
      },
      {
       "output_type": "stream",
       "stream": "stdout",
       "text": [
        "\n",
        "no searchTerms"
       ]
      },
      {
       "output_type": "stream",
       "stream": "stdout",
       "text": [
        "\n",
        "no searchTerms"
       ]
      },
      {
       "output_type": "stream",
       "stream": "stdout",
       "text": [
        "\n",
        "no searchTerms"
       ]
      },
      {
       "output_type": "stream",
       "stream": "stdout",
       "text": [
        "\n",
        "no searchTerms"
       ]
      },
      {
       "output_type": "stream",
       "stream": "stdout",
       "text": [
        "\n",
        "no searchTerms"
       ]
      },
      {
       "output_type": "stream",
       "stream": "stdout",
       "text": [
        "\n",
        "no searchTerms"
       ]
      },
      {
       "output_type": "stream",
       "stream": "stdout",
       "text": [
        "\n",
        "no searchTerms"
       ]
      },
      {
       "output_type": "stream",
       "stream": "stdout",
       "text": [
        "\n",
        "no searchTerms"
       ]
      },
      {
       "output_type": "stream",
       "stream": "stdout",
       "text": [
        "\n",
        "no searchTerms"
       ]
      },
      {
       "output_type": "stream",
       "stream": "stdout",
       "text": [
        "\n",
        "no searchTerms"
       ]
      },
      {
       "output_type": "stream",
       "stream": "stdout",
       "text": [
        "\n",
        "no searchTerms"
       ]
      },
      {
       "output_type": "stream",
       "stream": "stdout",
       "text": [
        "\n",
        "no searchTerms"
       ]
      },
      {
       "output_type": "stream",
       "stream": "stdout",
       "text": [
        "\n",
        "no searchTerms"
       ]
      },
      {
       "output_type": "stream",
       "stream": "stdout",
       "text": [
        "\n",
        "no searchTerms"
       ]
      },
      {
       "output_type": "stream",
       "stream": "stdout",
       "text": [
        "\n",
        "no searchTerms"
       ]
      },
      {
       "output_type": "stream",
       "stream": "stdout",
       "text": [
        "\n",
        "no searchTerms"
       ]
      },
      {
       "output_type": "stream",
       "stream": "stdout",
       "text": [
        "\n",
        "no searchTerms"
       ]
      },
      {
       "output_type": "stream",
       "stream": "stdout",
       "text": [
        "\n",
        "no searchTerms"
       ]
      },
      {
       "output_type": "stream",
       "stream": "stdout",
       "text": [
        "\n",
        "no searchTerms"
       ]
      },
      {
       "output_type": "stream",
       "stream": "stdout",
       "text": [
        "\n",
        "no searchTerms"
       ]
      },
      {
       "output_type": "stream",
       "stream": "stdout",
       "text": [
        "\n",
        "no searchTerms"
       ]
      },
      {
       "output_type": "stream",
       "stream": "stdout",
       "text": [
        "\n",
        "no searchTerms"
       ]
      },
      {
       "output_type": "stream",
       "stream": "stdout",
       "text": [
        "\n",
        "no searchTerms"
       ]
      },
      {
       "output_type": "stream",
       "stream": "stdout",
       "text": [
        "\n",
        "no searchTerms"
       ]
      },
      {
       "output_type": "stream",
       "stream": "stdout",
       "text": [
        "\n",
        "no searchTerms"
       ]
      },
      {
       "output_type": "stream",
       "stream": "stdout",
       "text": [
        "\n",
        "no searchTerms"
       ]
      },
      {
       "output_type": "stream",
       "stream": "stdout",
       "text": [
        "\n",
        "no searchTerms"
       ]
      },
      {
       "output_type": "stream",
       "stream": "stdout",
       "text": [
        "\n",
        "no searchTerms"
       ]
      },
      {
       "output_type": "stream",
       "stream": "stdout",
       "text": [
        "\n",
        "no searchTerms"
       ]
      },
      {
       "output_type": "stream",
       "stream": "stdout",
       "text": [
        "\n",
        "no searchTerms"
       ]
      },
      {
       "output_type": "stream",
       "stream": "stdout",
       "text": [
        "\n",
        "no searchTerms"
       ]
      },
      {
       "output_type": "stream",
       "stream": "stdout",
       "text": [
        "\n",
        "no searchTerms"
       ]
      },
      {
       "output_type": "stream",
       "stream": "stdout",
       "text": [
        "\n",
        "no searchTerms"
       ]
      },
      {
       "output_type": "stream",
       "stream": "stdout",
       "text": [
        "\n",
        "no searchTerms"
       ]
      },
      {
       "output_type": "stream",
       "stream": "stdout",
       "text": [
        "\n",
        "no searchTerms"
       ]
      },
      {
       "output_type": "stream",
       "stream": "stdout",
       "text": [
        "\n",
        "no searchTerms"
       ]
      },
      {
       "output_type": "stream",
       "stream": "stdout",
       "text": [
        "\n",
        "no searchTerms"
       ]
      },
      {
       "output_type": "stream",
       "stream": "stdout",
       "text": [
        "\n",
        "no searchTerms"
       ]
      },
      {
       "output_type": "stream",
       "stream": "stdout",
       "text": [
        "\n",
        "no searchTerms"
       ]
      },
      {
       "output_type": "stream",
       "stream": "stdout",
       "text": [
        "\n",
        "no searchTerms"
       ]
      },
      {
       "output_type": "stream",
       "stream": "stdout",
       "text": [
        "\n",
        "no searchTerms"
       ]
      },
      {
       "output_type": "stream",
       "stream": "stdout",
       "text": [
        "\n",
        "no searchTerms"
       ]
      },
      {
       "output_type": "stream",
       "stream": "stdout",
       "text": [
        "\n",
        "no searchTerms"
       ]
      },
      {
       "output_type": "stream",
       "stream": "stdout",
       "text": [
        "\n",
        "no searchTerms"
       ]
      },
      {
       "output_type": "stream",
       "stream": "stdout",
       "text": [
        "\n",
        "no searchTerms"
       ]
      },
      {
       "output_type": "stream",
       "stream": "stdout",
       "text": [
        "\n"
       ]
      },
      {
       "ename": "KeyboardInterrupt",
       "evalue": "",
       "output_type": "pyerr",
       "traceback": [
        "\u001b[0;31m---------------------------------------------------------------------------\u001b[0m\n\u001b[0;31mKeyboardInterrupt\u001b[0m                         Traceback (most recent call last)",
        "\u001b[0;32m<ipython-input-115-0a7fb9295209>\u001b[0m in \u001b[0;36m<module>\u001b[0;34m()\u001b[0m\n\u001b[1;32m    122\u001b[0m         \u001b[0;32mif\u001b[0m \u001b[0;32mnot\u001b[0m \u001b[0mo_link\u001b[0m\u001b[0;34m:\u001b[0m\u001b[0;34m\u001b[0m\u001b[0m\n\u001b[1;32m    123\u001b[0m             \u001b[0;32mcontinue\u001b[0m\u001b[0;34m\u001b[0m\u001b[0m\n\u001b[0;32m--> 124\u001b[0;31m         \u001b[0ml_req\u001b[0m \u001b[0;34m=\u001b[0m \u001b[0mrequests\u001b[0m\u001b[0;34m.\u001b[0m\u001b[0mget\u001b[0m\u001b[0;34m(\u001b[0m\u001b[0mo_link\u001b[0m\u001b[0;34m)\u001b[0m\u001b[0;34m\u001b[0m\u001b[0m\n\u001b[0m\u001b[1;32m    125\u001b[0m         \u001b[0;32mif\u001b[0m \u001b[0ml_req\u001b[0m\u001b[0;34m.\u001b[0m\u001b[0mstatus_code\u001b[0m \u001b[0;34m!=\u001b[0m \u001b[0;36m200\u001b[0m\u001b[0;34m:\u001b[0m\u001b[0;34m\u001b[0m\u001b[0m\n\u001b[1;32m    126\u001b[0m             \u001b[0;32mprint\u001b[0m \u001b[0;34m'failed request: '\u001b[0m\u001b[0;34m,\u001b[0m \u001b[0mo_link\u001b[0m\u001b[0;34m\u001b[0m\u001b[0m\n",
        "\u001b[0;32m//anaconda/lib/python2.7/site-packages/requests/api.pyc\u001b[0m in \u001b[0;36mget\u001b[0;34m(url, **kwargs)\u001b[0m\n\u001b[1;32m     63\u001b[0m \u001b[0;34m\u001b[0m\u001b[0m\n\u001b[1;32m     64\u001b[0m     \u001b[0mkwargs\u001b[0m\u001b[0;34m.\u001b[0m\u001b[0msetdefault\u001b[0m\u001b[0;34m(\u001b[0m\u001b[0;34m'allow_redirects'\u001b[0m\u001b[0;34m,\u001b[0m \u001b[0mTrue\u001b[0m\u001b[0;34m)\u001b[0m\u001b[0;34m\u001b[0m\u001b[0m\n\u001b[0;32m---> 65\u001b[0;31m     \u001b[0;32mreturn\u001b[0m \u001b[0mrequest\u001b[0m\u001b[0;34m(\u001b[0m\u001b[0;34m'get'\u001b[0m\u001b[0;34m,\u001b[0m \u001b[0murl\u001b[0m\u001b[0;34m,\u001b[0m \u001b[0;34m**\u001b[0m\u001b[0mkwargs\u001b[0m\u001b[0;34m)\u001b[0m\u001b[0;34m\u001b[0m\u001b[0m\n\u001b[0m\u001b[1;32m     66\u001b[0m \u001b[0;34m\u001b[0m\u001b[0m\n\u001b[1;32m     67\u001b[0m \u001b[0;34m\u001b[0m\u001b[0m\n",
        "\u001b[0;32m//anaconda/lib/python2.7/site-packages/requests/api.pyc\u001b[0m in \u001b[0;36mrequest\u001b[0;34m(method, url, **kwargs)\u001b[0m\n\u001b[1;32m     47\u001b[0m \u001b[0;34m\u001b[0m\u001b[0m\n\u001b[1;32m     48\u001b[0m     \u001b[0msession\u001b[0m \u001b[0;34m=\u001b[0m \u001b[0msessions\u001b[0m\u001b[0;34m.\u001b[0m\u001b[0mSession\u001b[0m\u001b[0;34m(\u001b[0m\u001b[0;34m)\u001b[0m\u001b[0;34m\u001b[0m\u001b[0m\n\u001b[0;32m---> 49\u001b[0;31m     \u001b[0mresponse\u001b[0m \u001b[0;34m=\u001b[0m \u001b[0msession\u001b[0m\u001b[0;34m.\u001b[0m\u001b[0mrequest\u001b[0m\u001b[0;34m(\u001b[0m\u001b[0mmethod\u001b[0m\u001b[0;34m=\u001b[0m\u001b[0mmethod\u001b[0m\u001b[0;34m,\u001b[0m \u001b[0murl\u001b[0m\u001b[0;34m=\u001b[0m\u001b[0murl\u001b[0m\u001b[0;34m,\u001b[0m \u001b[0;34m**\u001b[0m\u001b[0mkwargs\u001b[0m\u001b[0;34m)\u001b[0m\u001b[0;34m\u001b[0m\u001b[0m\n\u001b[0m\u001b[1;32m     50\u001b[0m     \u001b[0;31m# By explicitly closing the session, we avoid leaving sockets open which\u001b[0m\u001b[0;34m\u001b[0m\u001b[0;34m\u001b[0m\u001b[0m\n\u001b[1;32m     51\u001b[0m     \u001b[0;31m# can trigger a ResourceWarning in some cases, and look like a memory leak\u001b[0m\u001b[0;34m\u001b[0m\u001b[0;34m\u001b[0m\u001b[0m\n",
        "\u001b[0;32m//anaconda/lib/python2.7/site-packages/requests/sessions.pyc\u001b[0m in \u001b[0;36mrequest\u001b[0;34m(self, method, url, params, data, headers, cookies, files, auth, timeout, allow_redirects, proxies, hooks, stream, verify, cert, json)\u001b[0m\n\u001b[1;32m    459\u001b[0m         }\n\u001b[1;32m    460\u001b[0m         \u001b[0msend_kwargs\u001b[0m\u001b[0;34m.\u001b[0m\u001b[0mupdate\u001b[0m\u001b[0;34m(\u001b[0m\u001b[0msettings\u001b[0m\u001b[0;34m)\u001b[0m\u001b[0;34m\u001b[0m\u001b[0m\n\u001b[0;32m--> 461\u001b[0;31m         \u001b[0mresp\u001b[0m \u001b[0;34m=\u001b[0m \u001b[0mself\u001b[0m\u001b[0;34m.\u001b[0m\u001b[0msend\u001b[0m\u001b[0;34m(\u001b[0m\u001b[0mprep\u001b[0m\u001b[0;34m,\u001b[0m \u001b[0;34m**\u001b[0m\u001b[0msend_kwargs\u001b[0m\u001b[0;34m)\u001b[0m\u001b[0;34m\u001b[0m\u001b[0m\n\u001b[0m\u001b[1;32m    462\u001b[0m \u001b[0;34m\u001b[0m\u001b[0m\n\u001b[1;32m    463\u001b[0m         \u001b[0;32mreturn\u001b[0m \u001b[0mresp\u001b[0m\u001b[0;34m\u001b[0m\u001b[0m\n",
        "\u001b[0;32m//anaconda/lib/python2.7/site-packages/requests/sessions.pyc\u001b[0m in \u001b[0;36msend\u001b[0;34m(self, request, **kwargs)\u001b[0m\n\u001b[1;32m    571\u001b[0m \u001b[0;34m\u001b[0m\u001b[0m\n\u001b[1;32m    572\u001b[0m         \u001b[0;31m# Send the request\u001b[0m\u001b[0;34m\u001b[0m\u001b[0;34m\u001b[0m\u001b[0m\n\u001b[0;32m--> 573\u001b[0;31m         \u001b[0mr\u001b[0m \u001b[0;34m=\u001b[0m \u001b[0madapter\u001b[0m\u001b[0;34m.\u001b[0m\u001b[0msend\u001b[0m\u001b[0;34m(\u001b[0m\u001b[0mrequest\u001b[0m\u001b[0;34m,\u001b[0m \u001b[0;34m**\u001b[0m\u001b[0mkwargs\u001b[0m\u001b[0;34m)\u001b[0m\u001b[0;34m\u001b[0m\u001b[0m\n\u001b[0m\u001b[1;32m    574\u001b[0m \u001b[0;34m\u001b[0m\u001b[0m\n\u001b[1;32m    575\u001b[0m         \u001b[0;31m# Total elapsed time of the request (approximately)\u001b[0m\u001b[0;34m\u001b[0m\u001b[0;34m\u001b[0m\u001b[0m\n",
        "\u001b[0;32m//anaconda/lib/python2.7/site-packages/requests/adapters.pyc\u001b[0m in \u001b[0;36msend\u001b[0;34m(self, request, stream, timeout, verify, cert, proxies)\u001b[0m\n\u001b[1;32m    368\u001b[0m                     \u001b[0mdecode_content\u001b[0m\u001b[0;34m=\u001b[0m\u001b[0mFalse\u001b[0m\u001b[0;34m,\u001b[0m\u001b[0;34m\u001b[0m\u001b[0m\n\u001b[1;32m    369\u001b[0m                     \u001b[0mretries\u001b[0m\u001b[0;34m=\u001b[0m\u001b[0mself\u001b[0m\u001b[0;34m.\u001b[0m\u001b[0mmax_retries\u001b[0m\u001b[0;34m,\u001b[0m\u001b[0;34m\u001b[0m\u001b[0m\n\u001b[0;32m--> 370\u001b[0;31m                     \u001b[0mtimeout\u001b[0m\u001b[0;34m=\u001b[0m\u001b[0mtimeout\u001b[0m\u001b[0;34m\u001b[0m\u001b[0m\n\u001b[0m\u001b[1;32m    371\u001b[0m                 )\n\u001b[1;32m    372\u001b[0m \u001b[0;34m\u001b[0m\u001b[0m\n",
        "\u001b[0;32m//anaconda/lib/python2.7/site-packages/requests/packages/urllib3/connectionpool.pyc\u001b[0m in \u001b[0;36murlopen\u001b[0;34m(self, method, url, body, headers, retries, redirect, assert_same_host, timeout, pool_timeout, release_conn, **response_kw)\u001b[0m\n\u001b[1;32m    516\u001b[0m             httplib_response = self._make_request(conn, method, url,\n\u001b[1;32m    517\u001b[0m                                                   \u001b[0mtimeout\u001b[0m\u001b[0;34m=\u001b[0m\u001b[0mtimeout\u001b[0m\u001b[0;34m,\u001b[0m\u001b[0;34m\u001b[0m\u001b[0m\n\u001b[0;32m--> 518\u001b[0;31m                                                   body=body, headers=headers)\n\u001b[0m\u001b[1;32m    519\u001b[0m \u001b[0;34m\u001b[0m\u001b[0m\n\u001b[1;32m    520\u001b[0m             \u001b[0;31m# If we're going to release the connection in ``finally:``, then\u001b[0m\u001b[0;34m\u001b[0m\u001b[0;34m\u001b[0m\u001b[0m\n",
        "\u001b[0;32m//anaconda/lib/python2.7/site-packages/requests/packages/urllib3/connectionpool.pyc\u001b[0m in \u001b[0;36m_make_request\u001b[0;34m(self, conn, method, url, timeout, **httplib_request_kw)\u001b[0m\n\u001b[1;32m    328\u001b[0m         \u001b[0;31m# conn.request() calls httplib.*.request, not the method in\u001b[0m\u001b[0;34m\u001b[0m\u001b[0;34m\u001b[0m\u001b[0m\n\u001b[1;32m    329\u001b[0m         \u001b[0;31m# urllib3.request. It also calls makefile (recv) on the socket.\u001b[0m\u001b[0;34m\u001b[0m\u001b[0;34m\u001b[0m\u001b[0m\n\u001b[0;32m--> 330\u001b[0;31m         \u001b[0mconn\u001b[0m\u001b[0;34m.\u001b[0m\u001b[0mrequest\u001b[0m\u001b[0;34m(\u001b[0m\u001b[0mmethod\u001b[0m\u001b[0;34m,\u001b[0m \u001b[0murl\u001b[0m\u001b[0;34m,\u001b[0m \u001b[0;34m**\u001b[0m\u001b[0mhttplib_request_kw\u001b[0m\u001b[0;34m)\u001b[0m\u001b[0;34m\u001b[0m\u001b[0m\n\u001b[0m\u001b[1;32m    331\u001b[0m \u001b[0;34m\u001b[0m\u001b[0m\n\u001b[1;32m    332\u001b[0m         \u001b[0;31m# Reset the timeout for the recv() on the socket\u001b[0m\u001b[0;34m\u001b[0m\u001b[0;34m\u001b[0m\u001b[0m\n",
        "\u001b[0;32m//anaconda/lib/python2.7/httplib.pyc\u001b[0m in \u001b[0;36mrequest\u001b[0;34m(self, method, url, body, headers)\u001b[0m\n\u001b[1;32m    999\u001b[0m     \u001b[0;32mdef\u001b[0m \u001b[0mrequest\u001b[0m\u001b[0;34m(\u001b[0m\u001b[0mself\u001b[0m\u001b[0;34m,\u001b[0m \u001b[0mmethod\u001b[0m\u001b[0;34m,\u001b[0m \u001b[0murl\u001b[0m\u001b[0;34m,\u001b[0m \u001b[0mbody\u001b[0m\u001b[0;34m=\u001b[0m\u001b[0mNone\u001b[0m\u001b[0;34m,\u001b[0m \u001b[0mheaders\u001b[0m\u001b[0;34m=\u001b[0m\u001b[0;34m{\u001b[0m\u001b[0;34m}\u001b[0m\u001b[0;34m)\u001b[0m\u001b[0;34m:\u001b[0m\u001b[0;34m\u001b[0m\u001b[0m\n\u001b[1;32m   1000\u001b[0m         \u001b[0;34m\"\"\"Send a complete request to the server.\"\"\"\u001b[0m\u001b[0;34m\u001b[0m\u001b[0m\n\u001b[0;32m-> 1001\u001b[0;31m         \u001b[0mself\u001b[0m\u001b[0;34m.\u001b[0m\u001b[0m_send_request\u001b[0m\u001b[0;34m(\u001b[0m\u001b[0mmethod\u001b[0m\u001b[0;34m,\u001b[0m \u001b[0murl\u001b[0m\u001b[0;34m,\u001b[0m \u001b[0mbody\u001b[0m\u001b[0;34m,\u001b[0m \u001b[0mheaders\u001b[0m\u001b[0;34m)\u001b[0m\u001b[0;34m\u001b[0m\u001b[0m\n\u001b[0m\u001b[1;32m   1002\u001b[0m \u001b[0;34m\u001b[0m\u001b[0m\n\u001b[1;32m   1003\u001b[0m     \u001b[0;32mdef\u001b[0m \u001b[0m_set_content_length\u001b[0m\u001b[0;34m(\u001b[0m\u001b[0mself\u001b[0m\u001b[0;34m,\u001b[0m \u001b[0mbody\u001b[0m\u001b[0;34m)\u001b[0m\u001b[0;34m:\u001b[0m\u001b[0;34m\u001b[0m\u001b[0m\n",
        "\u001b[0;32m//anaconda/lib/python2.7/httplib.pyc\u001b[0m in \u001b[0;36m_send_request\u001b[0;34m(self, method, url, body, headers)\u001b[0m\n\u001b[1;32m   1033\u001b[0m         \u001b[0;32mfor\u001b[0m \u001b[0mhdr\u001b[0m\u001b[0;34m,\u001b[0m \u001b[0mvalue\u001b[0m \u001b[0;32min\u001b[0m \u001b[0mheaders\u001b[0m\u001b[0;34m.\u001b[0m\u001b[0miteritems\u001b[0m\u001b[0;34m(\u001b[0m\u001b[0;34m)\u001b[0m\u001b[0;34m:\u001b[0m\u001b[0;34m\u001b[0m\u001b[0m\n\u001b[1;32m   1034\u001b[0m             \u001b[0mself\u001b[0m\u001b[0;34m.\u001b[0m\u001b[0mputheader\u001b[0m\u001b[0;34m(\u001b[0m\u001b[0mhdr\u001b[0m\u001b[0;34m,\u001b[0m \u001b[0mvalue\u001b[0m\u001b[0;34m)\u001b[0m\u001b[0;34m\u001b[0m\u001b[0m\n\u001b[0;32m-> 1035\u001b[0;31m         \u001b[0mself\u001b[0m\u001b[0;34m.\u001b[0m\u001b[0mendheaders\u001b[0m\u001b[0;34m(\u001b[0m\u001b[0mbody\u001b[0m\u001b[0;34m)\u001b[0m\u001b[0;34m\u001b[0m\u001b[0m\n\u001b[0m\u001b[1;32m   1036\u001b[0m \u001b[0;34m\u001b[0m\u001b[0m\n\u001b[1;32m   1037\u001b[0m     \u001b[0;32mdef\u001b[0m \u001b[0mgetresponse\u001b[0m\u001b[0;34m(\u001b[0m\u001b[0mself\u001b[0m\u001b[0;34m,\u001b[0m \u001b[0mbuffering\u001b[0m\u001b[0;34m=\u001b[0m\u001b[0mFalse\u001b[0m\u001b[0;34m)\u001b[0m\u001b[0;34m:\u001b[0m\u001b[0;34m\u001b[0m\u001b[0m\n",
        "\u001b[0;32m//anaconda/lib/python2.7/httplib.pyc\u001b[0m in \u001b[0;36mendheaders\u001b[0;34m(self, message_body)\u001b[0m\n\u001b[1;32m    995\u001b[0m         \u001b[0;32melse\u001b[0m\u001b[0;34m:\u001b[0m\u001b[0;34m\u001b[0m\u001b[0m\n\u001b[1;32m    996\u001b[0m             \u001b[0;32mraise\u001b[0m \u001b[0mCannotSendHeader\u001b[0m\u001b[0;34m(\u001b[0m\u001b[0;34m)\u001b[0m\u001b[0;34m\u001b[0m\u001b[0m\n\u001b[0;32m--> 997\u001b[0;31m         \u001b[0mself\u001b[0m\u001b[0;34m.\u001b[0m\u001b[0m_send_output\u001b[0m\u001b[0;34m(\u001b[0m\u001b[0mmessage_body\u001b[0m\u001b[0;34m)\u001b[0m\u001b[0;34m\u001b[0m\u001b[0m\n\u001b[0m\u001b[1;32m    998\u001b[0m \u001b[0;34m\u001b[0m\u001b[0m\n\u001b[1;32m    999\u001b[0m     \u001b[0;32mdef\u001b[0m \u001b[0mrequest\u001b[0m\u001b[0;34m(\u001b[0m\u001b[0mself\u001b[0m\u001b[0;34m,\u001b[0m \u001b[0mmethod\u001b[0m\u001b[0;34m,\u001b[0m \u001b[0murl\u001b[0m\u001b[0;34m,\u001b[0m \u001b[0mbody\u001b[0m\u001b[0;34m=\u001b[0m\u001b[0mNone\u001b[0m\u001b[0;34m,\u001b[0m \u001b[0mheaders\u001b[0m\u001b[0;34m=\u001b[0m\u001b[0;34m{\u001b[0m\u001b[0;34m}\u001b[0m\u001b[0;34m)\u001b[0m\u001b[0;34m:\u001b[0m\u001b[0;34m\u001b[0m\u001b[0m\n",
        "\u001b[0;32m//anaconda/lib/python2.7/httplib.pyc\u001b[0m in \u001b[0;36m_send_output\u001b[0;34m(self, message_body)\u001b[0m\n\u001b[1;32m    848\u001b[0m             \u001b[0mmsg\u001b[0m \u001b[0;34m+=\u001b[0m \u001b[0mmessage_body\u001b[0m\u001b[0;34m\u001b[0m\u001b[0m\n\u001b[1;32m    849\u001b[0m             \u001b[0mmessage_body\u001b[0m \u001b[0;34m=\u001b[0m \u001b[0mNone\u001b[0m\u001b[0;34m\u001b[0m\u001b[0m\n\u001b[0;32m--> 850\u001b[0;31m         \u001b[0mself\u001b[0m\u001b[0;34m.\u001b[0m\u001b[0msend\u001b[0m\u001b[0;34m(\u001b[0m\u001b[0mmsg\u001b[0m\u001b[0;34m)\u001b[0m\u001b[0;34m\u001b[0m\u001b[0m\n\u001b[0m\u001b[1;32m    851\u001b[0m         \u001b[0;32mif\u001b[0m \u001b[0mmessage_body\u001b[0m \u001b[0;32mis\u001b[0m \u001b[0;32mnot\u001b[0m \u001b[0mNone\u001b[0m\u001b[0;34m:\u001b[0m\u001b[0;34m\u001b[0m\u001b[0m\n\u001b[1;32m    852\u001b[0m             \u001b[0;31m#message_body was not a string (i.e. it is a file) and\u001b[0m\u001b[0;34m\u001b[0m\u001b[0;34m\u001b[0m\u001b[0m\n",
        "\u001b[0;32m//anaconda/lib/python2.7/httplib.pyc\u001b[0m in \u001b[0;36msend\u001b[0;34m(self, data)\u001b[0m\n\u001b[1;32m    810\u001b[0m         \u001b[0;32mif\u001b[0m \u001b[0mself\u001b[0m\u001b[0;34m.\u001b[0m\u001b[0msock\u001b[0m \u001b[0;32mis\u001b[0m \u001b[0mNone\u001b[0m\u001b[0;34m:\u001b[0m\u001b[0;34m\u001b[0m\u001b[0m\n\u001b[1;32m    811\u001b[0m             \u001b[0;32mif\u001b[0m \u001b[0mself\u001b[0m\u001b[0;34m.\u001b[0m\u001b[0mauto_open\u001b[0m\u001b[0;34m:\u001b[0m\u001b[0;34m\u001b[0m\u001b[0m\n\u001b[0;32m--> 812\u001b[0;31m                 \u001b[0mself\u001b[0m\u001b[0;34m.\u001b[0m\u001b[0mconnect\u001b[0m\u001b[0;34m(\u001b[0m\u001b[0;34m)\u001b[0m\u001b[0;34m\u001b[0m\u001b[0m\n\u001b[0m\u001b[1;32m    813\u001b[0m             \u001b[0;32melse\u001b[0m\u001b[0;34m:\u001b[0m\u001b[0;34m\u001b[0m\u001b[0m\n\u001b[1;32m    814\u001b[0m                 \u001b[0;32mraise\u001b[0m \u001b[0mNotConnected\u001b[0m\u001b[0;34m(\u001b[0m\u001b[0;34m)\u001b[0m\u001b[0;34m\u001b[0m\u001b[0m\n",
        "\u001b[0;32m//anaconda/lib/python2.7/site-packages/requests/packages/urllib3/connection.pyc\u001b[0m in \u001b[0;36mconnect\u001b[0;34m(self)\u001b[0m\n\u001b[1;32m    153\u001b[0m \u001b[0;34m\u001b[0m\u001b[0m\n\u001b[1;32m    154\u001b[0m     \u001b[0;32mdef\u001b[0m \u001b[0mconnect\u001b[0m\u001b[0;34m(\u001b[0m\u001b[0mself\u001b[0m\u001b[0;34m)\u001b[0m\u001b[0;34m:\u001b[0m\u001b[0;34m\u001b[0m\u001b[0m\n\u001b[0;32m--> 155\u001b[0;31m         \u001b[0mconn\u001b[0m \u001b[0;34m=\u001b[0m \u001b[0mself\u001b[0m\u001b[0;34m.\u001b[0m\u001b[0m_new_conn\u001b[0m\u001b[0;34m(\u001b[0m\u001b[0;34m)\u001b[0m\u001b[0;34m\u001b[0m\u001b[0m\n\u001b[0m\u001b[1;32m    156\u001b[0m         \u001b[0mself\u001b[0m\u001b[0;34m.\u001b[0m\u001b[0m_prepare_conn\u001b[0m\u001b[0;34m(\u001b[0m\u001b[0mconn\u001b[0m\u001b[0;34m)\u001b[0m\u001b[0;34m\u001b[0m\u001b[0m\n\u001b[1;32m    157\u001b[0m \u001b[0;34m\u001b[0m\u001b[0m\n",
        "\u001b[0;32m//anaconda/lib/python2.7/site-packages/requests/packages/urllib3/connection.pyc\u001b[0m in \u001b[0;36m_new_conn\u001b[0;34m(self)\u001b[0m\n\u001b[1;32m    132\u001b[0m         \u001b[0;32mtry\u001b[0m\u001b[0;34m:\u001b[0m\u001b[0;34m\u001b[0m\u001b[0m\n\u001b[1;32m    133\u001b[0m             conn = connection.create_connection(\n\u001b[0;32m--> 134\u001b[0;31m                 (self.host, self.port), self.timeout, **extra_kw)\n\u001b[0m\u001b[1;32m    135\u001b[0m \u001b[0;34m\u001b[0m\u001b[0m\n\u001b[1;32m    136\u001b[0m         \u001b[0;32mexcept\u001b[0m \u001b[0mSocketTimeout\u001b[0m\u001b[0;34m:\u001b[0m\u001b[0;34m\u001b[0m\u001b[0m\n",
        "\u001b[0;32m//anaconda/lib/python2.7/site-packages/requests/packages/urllib3/util/connection.pyc\u001b[0m in \u001b[0;36mcreate_connection\u001b[0;34m(address, timeout, source_address, socket_options)\u001b[0m\n\u001b[1;32m     76\u001b[0m             \u001b[0;32mif\u001b[0m \u001b[0msource_address\u001b[0m\u001b[0;34m:\u001b[0m\u001b[0;34m\u001b[0m\u001b[0m\n\u001b[1;32m     77\u001b[0m                 \u001b[0msock\u001b[0m\u001b[0;34m.\u001b[0m\u001b[0mbind\u001b[0m\u001b[0;34m(\u001b[0m\u001b[0msource_address\u001b[0m\u001b[0;34m)\u001b[0m\u001b[0;34m\u001b[0m\u001b[0m\n\u001b[0;32m---> 78\u001b[0;31m             \u001b[0msock\u001b[0m\u001b[0;34m.\u001b[0m\u001b[0mconnect\u001b[0m\u001b[0;34m(\u001b[0m\u001b[0msa\u001b[0m\u001b[0;34m)\u001b[0m\u001b[0;34m\u001b[0m\u001b[0m\n\u001b[0m\u001b[1;32m     79\u001b[0m             \u001b[0;32mreturn\u001b[0m \u001b[0msock\u001b[0m\u001b[0;34m\u001b[0m\u001b[0m\n\u001b[1;32m     80\u001b[0m \u001b[0;34m\u001b[0m\u001b[0m\n",
        "\u001b[0;32m//anaconda/lib/python2.7/socket.pyc\u001b[0m in \u001b[0;36mmeth\u001b[0;34m(name, self, *args)\u001b[0m\n\u001b[1;32m    222\u001b[0m \u001b[0;34m\u001b[0m\u001b[0m\n\u001b[1;32m    223\u001b[0m \u001b[0;32mdef\u001b[0m \u001b[0mmeth\u001b[0m\u001b[0;34m(\u001b[0m\u001b[0mname\u001b[0m\u001b[0;34m,\u001b[0m\u001b[0mself\u001b[0m\u001b[0;34m,\u001b[0m\u001b[0;34m*\u001b[0m\u001b[0margs\u001b[0m\u001b[0;34m)\u001b[0m\u001b[0;34m:\u001b[0m\u001b[0;34m\u001b[0m\u001b[0m\n\u001b[0;32m--> 224\u001b[0;31m     \u001b[0;32mreturn\u001b[0m \u001b[0mgetattr\u001b[0m\u001b[0;34m(\u001b[0m\u001b[0mself\u001b[0m\u001b[0;34m.\u001b[0m\u001b[0m_sock\u001b[0m\u001b[0;34m,\u001b[0m\u001b[0mname\u001b[0m\u001b[0;34m)\u001b[0m\u001b[0;34m(\u001b[0m\u001b[0;34m*\u001b[0m\u001b[0margs\u001b[0m\u001b[0;34m)\u001b[0m\u001b[0;34m\u001b[0m\u001b[0m\n\u001b[0m\u001b[1;32m    225\u001b[0m \u001b[0;34m\u001b[0m\u001b[0m\n\u001b[1;32m    226\u001b[0m \u001b[0;32mfor\u001b[0m \u001b[0m_m\u001b[0m \u001b[0;32min\u001b[0m \u001b[0m_socketmethods\u001b[0m\u001b[0;34m:\u001b[0m\u001b[0;34m\u001b[0m\u001b[0m\n",
        "\u001b[0;31mKeyboardInterrupt\u001b[0m: "
       ]
      }
     ],
     "prompt_number": 115
    },
    {
     "cell_type": "code",
     "collapsed": false,
     "input": [
      "catalog_searches"
     ],
     "language": "python",
     "metadata": {},
     "outputs": [
      {
       "metadata": {},
       "output_type": "pyout",
       "prompt_number": 113,
       "text": [
        "{'http://dap.onc.uvic.ca/erddap/opensearch1.1/description.xml': {'dataset_osdd_links': {},\n",
        "  'dataset_query': 'http://dap.onc.uvic.ca/erddap/opensearch1.1/search?searchTerms=temperature&format=atom',\n",
        "  'search_url': 'http://dap.onc.uvic.ca/erddap/opensearch1.1/search?searchTerms=temperature&format=atom'},\n",
        " 'http://eo-virtual-archive4.esa.int/search/ER02_SAR_RAW_0P/description': {'dataset_osdd_links': {},\n",
        "  'dataset_query': 'http://eo-virtual-archive4.esa.int/search/ER02_SAR_RAW_0P/atom/?q=',\n",
        "  'search_url': 'http://eo-virtual-archive4.esa.int/search/ER02_SAR_RAW_0P/atom/?q='},\n",
        " 'http://gcmd.gsfc.nasa.gov/KeywordSearch/default/openSearch.jsp?Portal=cwic': {'dataset_osdd_links': {},\n",
        "  'dataset_query': 'http://gcmd.gsfc.nasa.gov/KeywordSearch/OpenSearch.do?output=atom&MetadataType=0&Portal=cwic&clientId=fromgcmd&searchTerms=modis',\n",
        "  'search_url': 'http://gcmd.gsfc.nasa.gov/KeywordSearch/OpenSearch.do?output=atom&MetadataType=0&Portal=cwic&clientId=fromgcmd&searchTerms=modis'},\n",
        " 'http://geo.spacebel.be/opensearch/description.xml': {'dataset_osdd_links': {},\n",
        "  'dataset_query': 'http://geo.spacebel.be:80/opensearch/request/?query=&httpAccept=application%2Fatom%2Bxml',\n",
        "  'search_url': 'http://geo.spacebel.be:80/opensearch/request/?query=&httpAccept=application%2Fatom%2Bxml'},\n",
        " 'http://ghrc.nsstc.nasa.gov/hydro/ghost.xml': {'dataset_osdd_links': {},\n",
        "  'dataset_query': 'http://ghrc.nsstc.nasa.gov/hydro/ghost.pl?q=ds&terms=&format=atom',\n",
        "  'search_url': 'http://ghrc.nsstc.nasa.gov/hydro/ghost.pl?q=ds&terms=&format=atom'},\n",
        " 'http://mirador.gsfc.nasa.gov/mirador_dataset_opensearch.xml': {'dataset_osdd_links': {},\n",
        "  'dataset_query': 'http://mirador.gsfc.nasa.gov/cgi-bin/mirador/collectionlist.pl?keyword=&format=atom',\n",
        "  'search_url': 'http://mirador.gsfc.nasa.gov/cgi-bin/mirador/collectionlist.pl?keyword=&format=atom'},\n",
        " 'http://podaac.jpl.nasa.gov/ws/search/dataset/osd.xml': {'dataset_osdd_links': {},\n",
        "  'dataset_query': 'http://podaac.jpl.nasa.gov/ws/search/dataset?keyword=&format=atom',\n",
        "  'search_url': 'http://podaac.jpl.nasa.gov/ws/search/dataset?keyword=&format=atom'},\n",
        " 'http://www1.usgs.gov/erddap/opensearch1.1/description.xml': {'dataset_osdd_links': {},\n",
        "  'dataset_query': 'http://www1.usgs.gov/erddap/opensearch1.1/search?searchTerms=datasetID&format=atom',\n",
        "  'search_url': 'http://www1.usgs.gov/erddap/opensearch1.1/search?searchTerms=datasetID&format=atom'}}"
       ]
      }
     ],
     "prompt_number": 113
    },
    {
     "cell_type": "code",
     "collapsed": false,
     "input": [
      "# just to verify the ick of the url + OR atom+xml check\n",
      "\n",
      "t = '''<OpenSearchDescription xmlns=\"http://a9.com/-/spec/opensearch/1.1/\" xmlns:geo=\"http://a9.com/-/opensearch/extensions/geo/1.0/\" xmlns:time=\"http://a9.com/-/opensearch/extensions/time/1.0/\" xmlns:parameters=\"http://a9.com/-/spec/opensearch/extensions/parameters/1.0/\">\n",
      "<Tags>\n",
      "AGRICULTURE, ATMOSPHERE, BIOLOGICAL CLASSIFICATION, BIOSPHERE, CLIMATE INDICATORS, CRYOSPHERE, HUMAN DIMENSIONS, LAND SURFACE, OCEANS, PALEOCLIMATE, SOLID EARTH, SPECTRAL/ENGINEERING, SUN-EARTH INTERACTIONS, TERRESTRIAL HYDROSPHERE, services\n",
      "</Tags>\n",
      "<ShortName>GCMD CWIC Portal</ShortName>\n",
      "<Image height=\"16\" width=\"16\" type=\"image/x-icon\">http://gcmd.nasa.gov/favicon.ico</Image>\n",
      "<Contact>gsfc-gcmduso@mail.nasa.gov</Contact>\n",
      "<LongName>CEOS WGISS Integrated Catalog (CWIC)</LongName>\n",
      "<Description>\n",
      "The GCMD database holds more than 25,000 descriptions of Earth science data sets and services covering all aspects of Earth and environmental sciences.\n",
      "</Description>\n",
      "<Query role=\"example\" searchTerms=\"modis\"/>\n",
      "<Developer>GCMD Development Team</Developer>\n",
      "<Attribution>Search data copyright GCMD/NASA</Attribution>\n",
      "<SyndicationRight>limited</SyndicationRight>\n",
      "<InputEncoding>UTF-8</InputEncoding>\n",
      "<!--\n",
      " Documentation on searchTerms capabilities: http://gcmd.nasa.gov/learn/faqs/search_directions.html\n",
      "-->\n",
      "<Url type=\"text/html\" template=\"http://gcmd.gsfc.nasa.gov/KeywordSearch/OpenSearch.do?searchTerms={searchTerms}&count={count?}&startPage={startPage?}&geoBox={geo:box?}&timeStart={time:start?}&timeEnd={time:end?}&MetadataType=0&output=html&Portal=cwic&clientId=fromgcmd\">\n",
      "<parameters:Parameter name=\"searchTerms\" value=\"{searchTerms}\"/>\n",
      "<parameters:Parameter name=\"count\" value=\"{count}\" minimum=\"0\" maximum=\"1\" minInclusive=\"1\" maxInclusive=\"1024\" title=\"a value between 1 and 1024\"/>\n",
      "<parameters:Parameter name=\"startPage\" value=\"{startPage}\" minimum=\"0\" maximum=\"1\" minInclusive=\"1\" title=\"starts at 1\"/>\n",
      "<parameters:Parameter name=\"geoBox\" value=\"{geo:box}\" minimum=\"0\" maximum=\"1\"/>\n",
      "<parameters:Parameter name=\"timeStart\" value=\"{time:start}\" minimum=\"0\" maximum=\"1\"/>\n",
      "<parameters:Parameter name=\"timeEnd\" value=\"{time:end}\" minimum=\"0\" maximum=\"1\"/>\n",
      "</Url>\n",
      "<Url type=\"application/rss+xml\" template=\"http://gcmd.gsfc.nasa.gov/KeywordSearch/OpenSearch.do?searchTerms={searchTerms}&count={count?}&startPage={startPage?}&geoBox={geo:box?}&timeStart={time:start?}&timeEnd={time:end?}&MetadataType=0&output=rss&Portal=cwic&clientId=fromgcmd\">\n",
      "<parameters:Parameter name=\"searchTerms\" value=\"{searchTerms}\"/>\n",
      "<parameters:Parameter name=\"count\" value=\"{count}\" minimum=\"0\" maximum=\"1\" minInclusive=\"1\" maxInclusive=\"1024\" title=\"a value between 1 and 1024\"/>\n",
      "<parameters:Parameter name=\"startPage\" value=\"{startPage}\" minimum=\"0\" maximum=\"1\" minInclusive=\"1\" title=\"starts at 1\"/>\n",
      "<parameters:Parameter name=\"geoBox\" value=\"{geo:box}\" minimum=\"0\" maximum=\"1\"/>\n",
      "<parameters:Parameter name=\"timeStart\" value=\"{time:start}\" minimum=\"0\" maximum=\"1\"/>\n",
      "<parameters:Parameter name=\"timeEnd\" value=\"{time:end}\" minimum=\"0\" maximum=\"1\"/>\n",
      "</Url>\n",
      "<Url type=\"application/atom+xml\" template=\"http://gcmd.gsfc.nasa.gov/KeywordSearch/OpenSearch.do?searchTerms={searchTerms}&count={count?}&startPage={startPage?}&geoBox={geo:box?}&timeStart={time:start?}&timeEnd={time:end?}&MetadataType=0&output=atom&Portal=cwic&clientId=fromgcmd\">\n",
      "<parameters:Parameter name=\"searchTerms\" value=\"{searchTerms}\"/>\n",
      "<parameters:Parameter name=\"count\" value=\"{count}\" minimum=\"0\" maximum=\"1\" minInclusive=\"1\" maxInclusive=\"1024\" title=\"a value between 1 and 1024\"/>\n",
      "<parameters:Parameter name=\"startPage\" value=\"{startPage}\" minimum=\"0\" maximum=\"1\" minInclusive=\"1\" title=\"starts at 1\"/>\n",
      "<parameters:Parameter name=\"geoBox\" value=\"{geo:box}\" minimum=\"0\" maximum=\"1\"/>\n",
      "<parameters:Parameter name=\"timeStart\" value=\"{time:start}\" minimum=\"0\" maximum=\"1\"/>\n",
      "<parameters:Parameter name=\"timeEnd\" value=\"{time:end}\" minimum=\"0\" maximum=\"1\"/>\n",
      "</Url>\n",
      "</OpenSearchDescription>'''\n",
      "\n",
      "t2 = '''<?xml version=\"1.0\" encoding=\"UTF-8\"?>\n",
      "<OpenSearchDescription \n",
      "    xmlns=\"http://a9.com/-/spec/opensearch/1.1/\" \n",
      "\t\t\t\n",
      "    xmlns:os=\"http://a9.com/-/spec/opensearch/1.1/\" \n",
      "\t\t\t\n",
      "    xmlns:geo=\"http://a9.com/-/opensearch/extensions/geo/1.0/\"\n",
      "\t\t\t\n",
      "    xmlns:time=\"http://a9.com/-/opensearch/extensions/time/1.0/\" \n",
      "\t\t\t\n",
      "    xmlns:eo=\"http://a9.com/-/opensearch/extensions/eo/1.0/\"\n",
      "\t\t\t\n",
      "    xmlns:sru=\"http://a9.com/-/opensearch/extensions/sru/2.0/\"\n",
      "\t\t\t\n",
      "    xmlns:dc= \"http://purl.org/dc/elements/1.1/\"\n",
      "\t\t\t\n",
      "    xmlns:param=\"http://a9.com/-/spec/opensearch/extensions/parameters/1.0/\"\n",
      "\t\t\t\n",
      "    xmlns:semantic= \"http://a9.com/-/opensearch/extensions/semantic/1.0/\">\n",
      "    <ShortName>FEDEO</ShortName>\n",
      "    <LongName>Earth Observation Catalogue</LongName>\n",
      "    <Description>Provides interoperable access, following ISO/OGC interface guidelines, to Earth Observation metadata.</Description>\n",
      "    <Url type=\"application/opensearchdescription+xml\" rel=\"self\" template=\"http://geo.spacebel.be:80/opensearch/description.xml\"/>\n",
      "    <Url type=\"application/opensearchdescription+xml\" rel=\"search\" template=\"http://geo.spacebel.be:80/opensearch/description.xml?parentIdentifier={eo:parentIdentifier}\"/>\n",
      "    <!-- Url Templates for datasets search -->\n",
      "    <Url type=\"application/atom+xml\" indexOffset=\"1\" pageOffset=\"1\" rel=\"results\" template=\"http://geo.spacebel.be:80/opensearch/request/?httpAccept=application/atom%2Bxml&amp;parentIdentifier={eo:parentIdentifier}&amp;query={searchTerms?}&amp;startRecord={startIndex?}&amp;startPage={startPage?}&amp;maximumRecords={count?}&amp;startDate={time:start?}&amp;endDate={time:end?}&amp;bbox={geo:box?}&amp;name={geo:name?}&amp;lat={geo:lat?}&amp;lon={geo:lon?}&amp;radius={geo:radius?}&amp;uid={geo:uid?}&amp;recordSchema={sru:recordSchema?}\"/>\n",
      "    <Url type=\"application/rss+xml\" indexOffset=\"1\" pageOffset=\"1\" rel=\"results\" template=\"http://geo.spacebel.be:80/opensearch/request/?httpAccept=application/atom%2Bxml&amp;parentIdentifier={eo:parentIdentifier}&amp;query={searchTerms?}&amp;startRecord={startIndex?}&amp;startPage={startPage?}&amp;maximumRecords={count?}&amp;startDate={time:start?}&amp;endDate={time:end?}&amp;bbox={geo:box?}&amp;name={geo:name?}&amp;lat={geo:lat?}&amp;lon={geo:lon?}&amp;radius={geo:radius?}&amp;uid={geo:uid?}&amp;recordSchema={sru:recordSchema?}\"/>\n",
      "    <Url type=\"application/sru+xml\" indexOffset=\"1\" pageOffset=\"1\" rel=\"results\" template=\"http://geo.spacebel.be:80/opensearch/request/?httpAccept=application/atom%2Bxml&amp;parentIdentifier={eo:parentIdentifier}&amp;query={searchTerms?}&amp;startRecord={startIndex?}&amp;startPage={startPage?}&amp;maximumRecords={count?}&amp;startDate={time:start?}&amp;endDate={time:end?}&amp;bbox={geo:box?}&amp;name={geo:name?}&amp;lat={geo:lat?}&amp;lon={geo:lon?}&amp;radius={geo:radius?}&amp;uid={geo:uid?}&amp;recordSchema={sru:recordSchema?}\"/>\n",
      "    <Url type=\"application/rdf+xml\" indexOffset=\"1\" pageOffset=\"1\" rel=\"results\" template=\"http://geo.spacebel.be:80/opensearch/request/?httpAccept=application/atom%2Bxml&amp;parentIdentifier={eo:parentIdentifier}&amp;query={searchTerms?}&amp;startRecord={startIndex?}&amp;startPage={startPage?}&amp;maximumRecords={count?}&amp;startDate={time:start?}&amp;endDate={time:end?}&amp;bbox={geo:box?}&amp;name={geo:name?}&amp;lat={geo:lat?}&amp;lon={geo:lon?}&amp;radius={geo:radius?}&amp;uid={geo:uid?}&amp;recordSchema={sru:recordSchema?}\"/>\n",
      "    <!-- Url Templates for dataset series search -->\n",
      "    <Url type=\"application/atom+xml\" indexOffset=\"1\" pageOffset=\"1\"  rel=\"collection\" template=\"http://geo.spacebel.be:80/opensearch/request/?httpAccept=application/atom%2Bxml&amp;parentIdentifier={eo:parentIdentifier?}&amp;subject={dc:subject?}&amp;query={searchTerms?}&amp;startRecord={startIndex?}&amp;startPage={startPage?}&amp;maximumRecords={count?}&amp;startDate={time:start?}&amp;endDate={time:end?}&amp;type={dc:type?}&amp;title={dc:title?}&amp;publisher={dc:publisher?}&amp;bbox={geo:box?}&amp;name={geo:name?}&amp;lat={geo:lat?}&amp;lon={geo:lon?}&amp;radius={geo:radius?}&amp;uid={geo:uid?}&amp;organisationName={eo:organisationName?}&amp;productType={eo:productType?}&amp;platform={eo:platform?}&amp;instrument={eo:instrument?}&amp;classifiedAs={semantic:classifiedAs?}&amp;recordSchema={sru:recordSchema?}\">\n",
      "        <param:Parameter name=\"recordSchema\" value=\"{sru:recordSchema}\">\n",
      "            <param:Option value=\"iso\" label=\"ISO\"/>\n",
      "        </param:Parameter>\n",
      "        <param:Parameter name=\"type\" value=\"{dc:type}\">\n",
      "            <param:Option value=\"dataset\" label=\"dataset\"/>\n",
      "            <param:Option value=\"collection\" label=\"dataset series\"/>\n",
      "            <param:Option value=\"service\" label=\"service\"/>\n",
      "        </param:Parameter>\n",
      "        <param:Parameter name=\"parentIdentifier\" value=\"{eo:parentIdentifier}\">\n",
      "            <param:Option value=\"EOP:ESA:FEDEO\" label=\"EOP:ESA:FEDEO\"/>\n",
      "            <param:Option value=\"EOP:ESA:FEDEO:COLLECTIONS\" label=\"EOP:ESA:FEDEO:COLLECTIONS\"/>\n",
      "            <param:Option value=\"EOP:ESA:GPOD-EO\" label=\"EOP:ESA:GPOD-EO\"/>\n",
      "            <param:Option value=\"EOP:ESA:EO-VIRTUAL-ARCHIVE4\" label=\"EOP:ESA:EO-VIRTUAL-ARCHIVE4\"/>\n",
      "            <param:Option value=\"EOP:NASA:ECHO\" label=\"EOP:NASA:ECHO\"/>\n",
      "        </param:Parameter>\n",
      "    </Url>\n",
      "    <Url type=\"application/rss+xml\" indexOffset=\"1\" pageOffset=\"1\"  rel=\"collection\" template=\"http://geo.spacebel.be:80/opensearch/request/?httpAccept=application/rss%2Bxml&amp;parentIdentifier={eo:parentIdentifier?}&amp;subject={dc:subject?}&amp;query={searchTerms?}&amp;startRecord={startIndex?}&amp;startPage={startPage?}&amp;maximumRecords={count?}&amp;startDate={time:start?}&amp;endDate={time:end?}&amp;type={dc:type?}&amp;title={dc:title?}&amp;publisher={dc:publisher?}&amp;bbox={geo:box?}&amp;name={geo:name?}&amp;lat={geo:lat?}&amp;lon={geo:lon?}&amp;radius={geo:radius?}&amp;uid={geo:uid?}&amp;organisationName={eo:organisationName?}&amp;productType={eo:productType?}&amp;platform={eo:platform?}&amp;instrument={eo:instrument?}&amp;classifiedAs={semantic:classifiedAs?}&amp;recordSchema={sru:recordSchema?}\">\n",
      "        <param:Parameter name=\"recordSchema\" value=\"{sru:recordSchema}\">\n",
      "            <param:Option value=\"iso\" label=\"ISO\"/>\n",
      "        </param:Parameter>\n",
      "        <param:Parameter name=\"type\" value=\"{dc:type}\">\n",
      "            <param:Option value=\"dataset\" label=\"dataset\"/>\n",
      "            <param:Option value=\"collection\" label=\"dataset series\"/>\n",
      "            <param:Option value=\"service\" label=\"service\"/>\n",
      "        </param:Parameter>\n",
      "        <param:Parameter name=\"parentIdentifier\" value=\"{eo:parentIdentifier}\">\n",
      "            <param:Option value=\"EOP:ESA:FEDEO\" label=\"EOP:ESA:FEDEO\"/>\n",
      "            <param:Option value=\"EOP:ESA:FEDEO:COLLECTIONS\" label=\"EOP:ESA:FEDEO:COLLECTIONS\"/>\n",
      "            <param:Option value=\"EOP:ESA:GPOD-EO\" label=\"EOP:ESA:GPOD-EO\"/>\n",
      "            <param:Option value=\"EOP:ESA:EO-VIRTUAL-ARCHIVE4\" label=\"EOP:ESA:EO-VIRTUAL-ARCHIVE4\"/>\n",
      "            <param:Option value=\"EOP:NASA:ECHO\" label=\"EOP:NASA:ECHO\"/>\n",
      "        </param:Parameter>\n",
      "    </Url>\n",
      "    <Url type=\"application/sru+xml\" indexOffset=\"1\" pageOffset=\"1\"  rel=\"collection\" template=\"http://geo.spacebel.be:80/opensearch/request/?httpAccept=application/sru%2Bxml&amp;parentIdentifier={eo:parentIdentifier?}&amp;subject={dc:subject?}&amp;query={searchTerms?}&amp;startRecord={startIndex?}&amp;startPage={startPage?}&amp;maximumRecords={count?}&amp;startDate={time:start?}&amp;endDate={time:end?}&amp;type={dc:type?}&amp;title={dc:title?}&amp;publisher={dc:publisher?}&amp;bbox={geo:box?}&amp;name={geo:name?}&amp;lat={geo:lat?}&amp;lon={geo:lon?}&amp;radius={geo:radius?}&amp;uid={geo:uid?}&amp;organisationName={eo:organisationName?}&amp;productType={eo:productType?}&amp;platform={eo:platform?}&amp;instrument={eo:instrument?}&amp;classifiedAs={semantic:classifiedAs?}&amp;recordSchema={sru:recordSchema?}\">\n",
      "        <param:Parameter name=\"recordSchema\" value=\"{sru:recordSchema}\">\n",
      "            <param:Option value=\"iso\" label=\"ISO\"/>\n",
      "        </param:Parameter>\n",
      "        <param:Parameter name=\"type\" value=\"{dc:type}\">\n",
      "            <param:Option value=\"dataset\" label=\"dataset\"/>\n",
      "            <param:Option value=\"collection\" label=\"dataset series\"/>\n",
      "            <param:Option value=\"service\" label=\"service\"/>\n",
      "        </param:Parameter>\n",
      "        <param:Parameter name=\"parentIdentifier\" value=\"{eo:parentIdentifier}\">\n",
      "            <param:Option value=\"EOP:ESA:FEDEO\" label=\"EOP:ESA:FEDEO\"/>\n",
      "            <param:Option value=\"EOP:ESA:FEDEO:COLLECTIONS\" label=\"EOP:ESA:FEDEO:COLLECTIONS\"/>\n",
      "            <param:Option value=\"EOP:ESA:GPOD-EO\" label=\"EOP:ESA:GPOD-EO\"/>\n",
      "            <param:Option value=\"EOP:ESA:EO-VIRTUAL-ARCHIVE4\" label=\"EOP:ESA:EO-VIRTUAL-ARCHIVE4\"/>\n",
      "            <param:Option value=\"EOP:NASA:ECHO\" label=\"EOP:NASA:ECHO\"/>\n",
      "        </param:Parameter>\n",
      "    </Url>\n",
      "    <!--  Example Queries for datasets search -->\n",
      "    <Query role=\"example\" eo:parentIdentifier=\"EOP:MDA-GSI:RSAT2_SEGMENTS\" />\n",
      "    <Query role=\"example\" eo:parentIdentifier=\"EOP:DMI:Deimos-1_L1R\" />\n",
      "    <Query role=\"example\" eo:parentIdentifier=\"EOP:DMCii:DMC_L1R\" />\n",
      "    <Query role=\"example\" eo:parentIdentifier=\"ER02_SAR_RAW_0P\" searchTerms=\"california\"/>\n",
      "    <Query role=\"example\" eo:parentIdentifier=\"EOP:MDA-GSI:RSAT2_SEGMENTS\" geo:box=\"-74,17,-67,20.5\" time:start=\"2010-01-01T00:00:00Z\" time:end=\"2011-10-14T00:00:00Z\"/>\n",
      "    <Query role=\"example\" eo:parentIdentifier=\"EOP:SPOT:MULTISPECTRAL_10m\" time:start=\"2009-06-14T00:00:00Z\" time:end=\"2009-06-14T05:00:00Z\" eo:platform=\"SPOT\" eo:instrumentShortName=\"HRG-Nb2\" eo:sensorType=\"OPTICAL\"/>\n",
      "    <!--  Example Queries for dataset series search -->\n",
      "    <Query role=\"example\" eo:parentIdentifier=\"EOP:ESA:GPOD-EO\"/>\n",
      "    <Query role=\"example\" eo:parentIdentifier=\"EOP:ESA:EO-VIRTUAL-ARCHIVE4\"/>\n",
      "    <Query role=\"example\" dc:type=\"collection\" dc:title=\"VEGETATION\"/>\n",
      "    <Query role=\"example\" dc:type=\"collection\" semantic:classifiedAs=\"http://www.eionet.europa.eu/gemet/concept/3650\"/>\n",
      "    <Query role=\"example\" dc:type=\"collection\" semantic:classifiedAs=\"http://www.eionet.europa.eu/gemet/concept/3650\" geo:box=\"-74,17,-67,20.5\"/>\n",
      "    <Tags>FEDEO, ESA, Earth Observation, Digital Repository, HMA, HMA-S, HMA-SE</Tags>\n",
      "    <Image height=\"64\" width=\"64\" type=\"image/png\">http://geo.spacebel.be:80/opensearch/images/esa_favicon.ico</Image>\n",
      "    <Image height=\"16\" width=\"16\" type=\"image/vnd.microsoft.icon\">http://geo.spacebel.be:80/opensearch/images/esa_favicon.ico</Image>\n",
      "    <Developer>Spacebel s.a.</Developer>\n",
      "    <Attribution>Copyright 2014-2015, European Space Agency.</Attribution>\n",
      "    <SyndicationRight>open</SyndicationRight>\n",
      "    <AdultContent>false</AdultContent>\n",
      "    <Language>en-us</Language>\n",
      "    <OutputEncoding>UTF-8</OutputEncoding>\n",
      "    <InputEncoding>UTF-8</InputEncoding>\n",
      "</OpenSearchDescription>\n",
      "'''\n",
      "\n",
      "t3 = '''<?xml version=\"1.0\" encoding=\"UTF-8\"?>\n",
      "<OpenSearchDescription \n",
      "    xmlns=\"http://a9.com/-/spec/opensearch/1.1/\">\n",
      "    <ShortName>ERDDAP</ShortName>\n",
      "    <Description>The ERDDAP at USGS is a data server that gives you a simple, consistent way to download subsets of scientific datasets in common file formats and make graphs and maps.</Description>\n",
      "    <Url type=\"application/atom+xml\"\n",
      "       template=\"http://www1.usgs.gov/erddap/opensearch1.1/search?searchTerms={searchTerms}&#x26;page={startPage?}&#x26;itemsPerPage={count?}&#x26;format=atom\"/>\n",
      "    <Url type=\"application/rss+xml\"\n",
      "       template=\"http://www1.usgs.gov/erddap/opensearch1.1/search?searchTerms={searchTerms}&#x26;page={startPage?}&#x26;itemsPerPage={count?}&#x26;format=rss\"/>\n",
      "    <Contact>csas@usgs.gov</Contact>\n",
      "    <Tags>atmosphere biology biosphere earth environment ocean science</Tags>\n",
      "    <LongName>ERDDAP at USGS</LongName>\n",
      "    <Image height=\"56\" width=\"55\">http://www1.usgs.gov/erddap/images/nlogo.gif</Image>\n",
      "    <Image height=\"313\" width=\"313\">http://www1.usgs.gov/erddap/images/noaa_simple.gif</Image>\n",
      "    <Image height=\"20\" width=\"20\">http://www1.usgs.gov/erddap/images/noaa20.gif</Image>\n",
      "    <Query role=\"example\" searchTerms=\"datasetID\" />\n",
      "    <Developer>Bob Simons (bob.simons at noaa.gov)</Developer>\n",
      "    <Attribution>USGS</Attribution>\n",
      "    <SyndicationRight>open</SyndicationRight>\n",
      "    <AdultContent>false</AdultContent>\n",
      "    <Language>en-us</Language>\n",
      "    <InputEncoding>UTF-8</InputEncoding>\n",
      "    <OutputEncoding>UTF-8</OutputEncoding>\n",
      "</OpenSearchDescription>'''\n",
      "\n",
      "t4 = '''<?xml version=\"1.0\" encoding=\"UTF-8\"?>\n",
      "<OpenSearchDescription xmlns=\"http://a9.com/-/spec/opensearch/1.1/\" \n",
      "                       xmlns:time=\"http://a9.com/-/opensearch/extensions/time/1.0/\"\n",
      "                       xmlns:geo=\"http://a9.com/-/opensearch/extensions/geo/1.0/\"  >\n",
      "<!--\n",
      "    OpenSearch description document for nsidc.org. \n",
      "\n",
      "   Copyright (c) 2011 National Snow and Ice Data Center. All rights reserved.\n",
      "    -->\n",
      "\n",
      "    \n",
      "  <!-- Administrative Details -->\n",
      "  <ShortName>NSIDC Service</ShortName>\n",
      "  <LongName>data set level OpenSearch interface for nsidc.org</LongName>\n",
      "  <Description>This is the opensearch description document that describes how to query our server for data set level information.</Description>\n",
      "  <Tags>nsidc.org opensearch search data set geospatial temporal parameter</Tags>\n",
      "  <Contact>nsidc@nsidc.org</Contact>\n",
      "  \n",
      "  <!-- Images -->\n",
      "  <Image width=\"16\" height=\"16\" type=\"image/jpeg\">http://nsidc.org/favicon.ico</Image>\n",
      "  <Image width=\"76\" height=\"60\" type=\"image/jpeg\">http://nsidc.org/images/logo_nsidc_76x60.jpg</Image>\n",
      "\n",
      "  <!-- URL Template for refreshing this file -->\n",
      "  <Url type=\"application/opensearchdescription+xml\"\n",
      "       rel=\"self\"\n",
      "       template=\"http://nsidc.org/api/opensearch/1.1/dataset/description\"/>\n",
      "\n",
      "\n",
      "  <!-- URL Templates for ATOM results Data Set level search -->\n",
      "  <!-- via Polygon geometry -->\n",
      "  <Url type=\"text/atom+xml\"\n",
      "       rel=\"results\"\n",
      "       indexOffset=\"0\"\n",
      "       template=\"http://nsidc.org/api/opensearch/1.1/dataset?searchterms={searchTerms?}&amp;loc={geo:polygon?}&amp;dtstart={time:start?}&amp;dtend={time:end?}&amp;startIndex={startIndex?}&amp;itemsPerPage={count?}\"/>\n",
      "\n",
      "  <!-- via Bounding Box  -->\n",
      "  <Url type=\"text/atom+xml\"\n",
      "       rel=\"results\"\n",
      "       indexOffset=\"0\"\n",
      "       template=\"http://nsidc.org/api/opensearch/1.1/dataset?searchterms={searchTerms?}&amp;bbox={geo:box?}&amp;dtstart={time:start?}&amp;dtend={time:end?}&amp;startIndex={startIndex?}&amp;itemsPerPage={count?}\"/>\n",
      "       \n",
      "  <!-- via Instrument -->\n",
      "  <Url type=\"text/atom+xml\"\n",
      "       rel=\"results\"\n",
      "       indexOffset=\"1\"\n",
      "       pageOffset=\"1\"\n",
      "       template=\"http://nsidc.org/api/opensearch/1.1/dataset?instrumentId={nsidc:instrumentId}\"/>\n",
      "       \n",
      "  <!-- expands Online Resource URLs based on information from related dataset and measurement -->\n",
      "  <Url type=\"text/atom+xml\"\n",
      "       rel=\"results\"\n",
      "       indexOffset=\"1\"\n",
      "       pageOffset=\"1\"\n",
      "       template=\"http://nsidc.org/api/opensearch/1.1/dataset?relatedDataset={nsidc:authoritativeId}&amp;relatedMeasurement={nsidc:measurementId}\"/>\n",
      "       \n",
      "  <!-- for a single Dataset -->\n",
      "  <Url type=\"text/atom+xml\"\n",
      "       rel=\"results\"\n",
      "       indexOffset=\"1\"\n",
      "       pageOffset=\"1\"\n",
      "       template=\"http://nsidc.org/api/opensearch/1.1/dataset/{nsidc:authoritativeId}/\"/>\n",
      "\n",
      "  \n",
      "  <!-- Example Queries -->\n",
      "  <Query role=\"example\" searchterms=\"Air Temperature\" />\n",
      "  <Query role=\"example\" searchterms=\"Brightness Temperature\" dtstart=\"2000-01-01T00:00:00Z\" dtend=\"2000-01-31T23:59:59Z\" />\n",
      "  <Query role=\"example\" searchterms=\"albedo\" loc=\"10,100,20,100,20,110,10,110,10,100\" dtstart=\"2009-12-24T00:00:00Z\" dtend=\"2009-12-31T00:00:00Z\" />\n",
      "  <Query role=\"example\" bbox=\"100,10,110,20\" dtstart=\"2009-12-24T00:00:00Z\" dtend=\"2009-12-31T00:00:00Z\" />\n",
      "  <Query role=\"example\" instrumentId=\"21\" />\n",
      "  <Query role=\"example\" instrumentId=\"21\" relatedDataset=\"IFLTRPT\" relatedMeasurement=\"2556529\" />\n",
      "  \n",
      "  <!-- Control Params -->\n",
      "  <Language>en-us</Language>\n",
      "  <OutputEncoding>UTF-8</OutputEncoding>\n",
      "  <InputEncoding>UTF-8</InputEncoding>\n",
      "  <SyndicationRight>open</SyndicationRight>\n",
      "  <AdultContent>false</AdultContent>\n",
      "  <Attribution>&#169; 2011 National Snow and Ice Data Center.</Attribution>\n",
      "</OpenSearchDescription>\n",
      "\n",
      "'''\n",
      "\n",
      "xml = etree.fromstring(t4)\n",
      "\n",
      "#'text/atom+xml'\n",
      "urls = xml.xpath('//*[local-name()=\"Url\" and (@*[local-name()=\"type\"]=\"application/atom+xml\" or @*[local-name()=\"type\"]=\"text/atom+xml\")]')\n",
      "urls\n"
     ],
     "language": "python",
     "metadata": {},
     "outputs": [
      {
       "metadata": {},
       "output_type": "pyout",
       "prompt_number": 123,
       "text": [
        "[<Element {http://a9.com/-/spec/opensearch/1.1/}Url at 0x105a5a8c0>,\n",
        " <Element {http://a9.com/-/spec/opensearch/1.1/}Url at 0x106234290>,\n",
        " <Element {http://a9.com/-/spec/opensearch/1.1/}Url at 0x1062346c8>,\n",
        " <Element {http://a9.com/-/spec/opensearch/1.1/}Url at 0x106234dd0>,\n",
        " <Element {http://a9.com/-/spec/opensearch/1.1/}Url at 0x10629def0>]"
       ]
      }
     ],
     "prompt_number": 123
    },
    {
     "cell_type": "code",
     "collapsed": false,
     "input": [],
     "language": "python",
     "metadata": {},
     "outputs": []
    }
   ],
   "metadata": {}
  }
 ]
}