{
 "metadata": {
  "name": "",
  "signature": "sha256:214f54af3cb8bf0ed292429116b26a11addfcbfbe89841522d4c222763cf87bc"
 },
 "nbformat": 3,
 "nbformat_minor": 0,
 "worksheets": [
  {
   "cells": [
    {
     "cell_type": "markdown",
     "metadata": {},
     "source": [
      "This notebook contains working notes for identifying types of OpenSearch OSDD responses (catalog | dataset | granule | other) and requirements for semi-generic parsing. So no explicit namespacing and liberal use of xpath.\n",
      "\n",
      "hanging on to this link for esri cdata testing: http://uaf.nodc.noaa.gov/geoportal/openSearchDescription."
     ]
    },
    {
     "cell_type": "heading",
     "level": 3,
     "metadata": {},
     "source": [
      "Prep Work "
     ]
    },
    {
     "cell_type": "code",
     "collapsed": false,
     "input": [
      "import requests\n",
      "import json\n",
      "from lxml import etree\n",
      "import urlparse\n",
      "import urllib\n",
      "from bs4 import BeautifulSoup\n",
      "from itertools import chain\n",
      "\n",
      "def extract_urls(xml):\n",
      "    return xml.xpath('//*[local-name()=\"Url\" and (@*[local-name()=\"type\"]=\"application/atom+xml\" or @*[local-name()=\"type\"]=\"text/atom+xml\")]')\n",
      "\n",
      "def extract_template(url, append_limit=True):\n",
      "    # get the base url from the template\n",
      "    template_parts = urlparse.urlparse(url)\n",
      "    base_url = urlparse.urlunparse((\n",
      "        template_parts.scheme,\n",
      "        template_parts.netloc,\n",
      "        template_parts.path,\n",
      "        None,\n",
      "        None,\n",
      "        None\n",
      "    ))\n",
      "\n",
      "    qp = {k: v[0] for k, v in urlparse.parse_qs(template_parts.query).iteritems()}\n",
      "\n",
      "    # get the hard-coded params\n",
      "    defaults = {k:v for k, v in qp.iteritems() \n",
      "            if not v.startswith('{') \n",
      "            and not v.endswith('}')}\n",
      "    \n",
      "    # a flag for some hard-coded response format type to manage\n",
      "    # accept headers or no\n",
      "    format_defined = len([v for k, v in defaults.iteritems() if 'atom' in v.lower()]) > 0\n",
      "\n",
      "    # get the rest (and ignore the optional/namespaces)\n",
      "    parameters = {k: v[1:-1] for k, v in qp.iteritems() \n",
      "            if v.startswith('{') \n",
      "            and v.endswith('}')}\n",
      "    \n",
      "    if append_limit:\n",
      "        terms = extract_parameter_key('count', parameters)\n",
      "        if terms:\n",
      "            defaults = dict(\n",
      "                chain(defaults.items(), {k: 5 for k in terms.keys()}.items())\n",
      "            )\n",
      "            \n",
      "    # note: not everyone manages url-encoded query parameter delimiters\n",
      "    #       and not everyone manages non-url-encoded values so yeah. we are\n",
      "    #       ignoring the non-url-encoded group tonight.\n",
      "    # return the base, defaults as string, parameters as dict\n",
      "    return base_url, urllib.urlencode(defaults.items()), parameters, format_defined\n",
      "\n",
      "def extract_parameter_key(value, params):\n",
      "    # sort out the query parameter name for a parameter\n",
      "    # and don't send curly bracketed things, please\n",
      "    return {k: v.split(':')[-1].replace('?', '') for k, v \n",
      "                in params.iteritems() \n",
      "                if value in v}\n",
      "\n",
      "def extract_parameter_defs(url_elem, defined_terms):\n",
      "    # could just go with a namespace check but\n",
      "    # namespaces are included and not used more\n",
      "    # than i'd like. safety first.\n",
      "    params = url_elem.xpath('*[local-name()=\"Parameter\"]')\n",
      "    \n",
      "    # and go crazy pedant with a) does each query param value\n",
      "    # have a defined parameter element? (don't know if it should) \n",
      "    # and b) required or not parameters?\n",
      "    for p in params:\n",
      "        p_value = p.attrib.get('value', '')\n",
      "        if not p_value:\n",
      "            continue\n",
      "        \n",
      "        qps = {k:v for k, v in defined_terms.iteritems() if p_value[1:-1] in v}\n",
      "        \n",
      "        if not qps:\n",
      "            continue\n",
      "        \n",
      "        #todo: sort out required v not and return things\n",
      "\n",
      "def extract_query_terms(xml, param_name):\n",
      "    # find a query element that contains an example\n",
      "    # for the provided param_name (no namespace, no optional flag)\n",
      "    example_queries = {}\n",
      "    xp = '//*[local-name()=\"Query\" and @*[local-name()=\"role\"]=\"example\"]/@*[local-name()=\"{0}\"]'.format(param_name)\n",
      "    try:\n",
      "        example_queries = xml.xpath(xp)\n",
      "    except:\n",
      "        print 'failed example query: ', xp\n",
      "        return []\n",
      "    \n",
      "    return example_queries\n",
      "    \n",
      "def extract_links_from_description(elem):\n",
      "    # for the html blobs embedded in the text()\n",
      "    # we don't really have much info about the links\n",
      "    # but at least it ignores cdata.\n",
      "    soup = BeautifulSoup(elem.text)\n",
      "    return [h.get('href') for h in soup.find_all('a')]\n",
      "    \n",
      "def extract_response_stats(xml):\n",
      "    total = next(iter(xml.xpath('//*[local-name()=\"totalResults\"]/text()')), 'Unknown')\n",
      "    subset = next(iter(xml.xpath('//*[local-name()=\"itemsPerPage\"]/text()')), 'Unknown')\n",
      "    \n",
      "    if subset == 'Unknown':\n",
      "        subset = len(xml.xpath('//*[local-name()=\"entry\"]'))\n",
      "    \n",
      "    return subset, total\n",
      "\n",
      "# from doug, see notes re: uptime\n",
      "cwic_links = [\n",
      "    'http://dap.onc.uvic.ca/erddap/opensearch1.1/description.xml',\n",
      "    'http://gcmd.gsfc.nasa.gov/KeywordSearch/default/openSearch.jsp?Portal=cwic',\n",
      "    'http://podaac.jpl.nasa.gov/ws/search/dataset/osd.xml',\n",
      "    # 'http://nsidc.org/api/opensearch/1.1/dataset/description',  # we're just not going to run this\n",
      "    'http://ghrc.nsstc.nasa.gov/hydro/ghost.xml',\n",
      "    'http://mirador.gsfc.nasa.gov/mirador_dataset_opensearch.xml',\n",
      "    'http://eo-virtual-archive4.esa.int/search/ER02_SAR_RAW_0P/description',\n",
      "    'http://www1.usgs.gov/erddap/opensearch1.1/description.xml',\n",
      "    # 'http://bison.usgs.ornl.gov/doc/api.jsp',  # this is now a dead link\n",
      "    # 'http://ceocat.ccrs.nrcan.gc.ca/opensearch_description_document.xml',  # this is 403 access forbidden\n",
      "    # 'http://rs211980.rs.hosteurope.de/mule/os-description/',  # 503 service down\n",
      "    'http://geo.spacebel.be/opensearch/description.xml',  # from the fedeo documentation page listed\n",
      "    'http://lance-modis.eosdis.nasa.gov/user_services/dataset_opensearch.xml'\n",
      "]"
     ],
     "language": "python",
     "metadata": {},
     "outputs": [],
     "prompt_number": 161
    },
    {
     "cell_type": "code",
     "collapsed": false,
     "input": [
      "# processing the cwic services\n",
      "# Question 1: do we all have searchTerms parameters?\n",
      "\n",
      "for cwic_link in cwic_links:\n",
      "    print 'Processing {0}'.format(cwic_link)\n",
      "    \n",
      "    req = requests.get(cwic_link)\n",
      "    if req.status_code != 200:\n",
      "        print '\\tFailed request'\n",
      "        continue\n",
      "    \n",
      "    xml = etree.fromstring(req.content)\n",
      "    \n",
      "    extracted_url_elems = extract_urls(xml)\n",
      "    \n",
      "    for extracted_elem in extracted_url_elems:\n",
      "        template_base, template_defaults, template_params, format_defined = extract_template(extracted_elem.attrib.get('template'))\n",
      "        accept_type = extracted_elem.attrib.get('type', '')\n",
      "        \n",
      "        # let's see if the url includes some enumerations as Parameter children\n",
      "        # parameter_definitions = extract_parameter_defs(extracted_elem, template_params)\n",
      "        \n",
      "        catalog_params = extract_parameter_key('searchTerms', template_params)\n",
      "        print '\\tCatalog searchTerms: ', catalog_params\n",
      "    \n",
      "        if not catalog_params:\n",
      "            continue\n",
      "        \n",
      "        query_examples = list(chain.from_iterable([extract_query_terms(xml, p) for p in catalog_params.values()]))\n",
      "        \n",
      "        print '\\tExample queries: ', query_examples\n",
      "  \n",
      "        # try two requests, one without the example text (just the empty key) and\n",
      "        # one with the term\n",
      "        qps = '&'.join([template_defaults, catalog_params.keys()[0] + '='])\n",
      "        if qps.startswith('&'):\n",
      "            qps = qps[1:]\n",
      "        first_request = template_base + '?' + qps\n",
      "        \n",
      "        print '\\tProcessing {0}'.format(first_request)\n",
      "        \n",
      "        headers = {'Accept': accept_type} if format_defined == False else {}\n",
      "        first_req = requests.get(first_request, headers=headers) \n",
      "        if first_req.status_code != 200:\n",
      "            print '\\t\\tFailed request: {0}'.format(first_req.content)\n",
      "            continue\n",
      "            \n",
      "        if not first_req.content:\n",
      "            print '\\t\\tEmpty response!'\n",
      "        \n",
      "        else:\n",
      "            extract_xml = etree.fromstring(first_req.content)\n",
      "            subset, total = extract_response_stats(extract_xml)\n",
      "            print '\\t\\tRequested {0} out of {1}'.format(subset, '{:,}'.format(int(total)) if total != 'Unknown' else total)\n",
      "\n",
      "            # see if there's a reference to the parent catalog request \n",
      "            parent_search_elem = next(\n",
      "                iter(\n",
      "                    extract_xml.xpath('/*/*[local-name()=\"link\" and (@*[local-name()=\"rel\"]=\"search\" or @*[local-name()=\"rel\"]=\"http://esipfed.org/ns/fedsearch/1.0/search#\")]')), None\n",
      "                )\n",
      "            print '\\t\\tCatalog reference: ', parent_search_elem.attrib.get('href') if parent_search_elem is not None else 'Not found'\n",
      "        \n",
      "        if query_examples:\n",
      "            test_query = {catalog_params.keys()[0]: query_examples[0]}\n",
      "            qps = '&'.join(\n",
      "                # TODO: urlencode just the values\n",
      "                [template_defaults, urllib.urlencode(test_query.items())]\n",
      "            )\n",
      "            if qps.startswith('&'):\n",
      "                qps = qps[1:]\n",
      "            second_request = template_base + '?' + qps\n",
      "            \n",
      "            print '\\t\\tProcessing {0}'.format(second_request)\n",
      "            \n",
      "            # reuse the headers\n",
      "            second_req = requests.get(second_request, headers=headers)\n",
      "            if second_req.status_code != 200:\n",
      "                print '\\t\\t\\tFailed request: {0}'.format(second_req.content)\n",
      "                continue\n",
      "            \n",
      "            if not second_req.content:\n",
      "                print '\\t\\tEmpty response!'\n",
      "                continue\n",
      "\n",
      "            extract_xml = etree.fromstring(second_req.content)\n",
      "            subset, total = extract_response_stats(extract_xml)\n",
      "            print '\\t\\t\\tRequested {0} out of {1}'.format(subset, '{:,}'.format(int(total)) if total != 'Unknown' else total)"
     ],
     "language": "python",
     "metadata": {},
     "outputs": [
      {
       "output_type": "stream",
       "stream": "stdout",
       "text": [
        "Processing http://dap.onc.uvic.ca/erddap/opensearch1.1/description.xml\n",
        "\tCatalog searchTerms: "
       ]
      },
      {
       "output_type": "stream",
       "stream": "stdout",
       "text": [
        " {'searchTerms': 'searchTerms'}\n",
        "\tExample queries:  ['temperature']\n",
        "\tProcessing http://dap.onc.uvic.ca/erddap/opensearch1.1/search?itemsPerPage=5&format=atom&searchTerms=\n",
        "\t\tRequested 5 out of 19\n",
        "\t\tCatalog reference:  Not found\n",
        "\t\tProcessing http://dap.onc.uvic.ca/erddap/opensearch1.1/search?itemsPerPage=5&format=atom&searchTerms=temperature\n",
        "\t\t\tRequested 5 out of 16"
       ]
      },
      {
       "output_type": "stream",
       "stream": "stdout",
       "text": [
        "\n",
        "Processing http://gcmd.gsfc.nasa.gov/KeywordSearch/default/openSearch.jsp?Portal=cwic\n",
        "\tCatalog searchTerms: "
       ]
      },
      {
       "output_type": "stream",
       "stream": "stdout",
       "text": [
        " {'searchTerms': 'searchTerms'}\n",
        "\tExample queries:  ['modis']\n",
        "\tProcessing http://gcmd.gsfc.nasa.gov/KeywordSearch/OpenSearch.do?count=5&output=atom&MetadataType=0&Portal=cwic&clientId=fromgcmd&searchTerms=\n",
        "\t\tEmpty response!"
       ]
      },
      {
       "output_type": "stream",
       "stream": "stdout",
       "text": [
        "\n",
        "\t\tProcessing http://gcmd.gsfc.nasa.gov/KeywordSearch/OpenSearch.do?count=5&output=atom&MetadataType=0&Portal=cwic&clientId=fromgcmd&searchTerms=modis\n",
        "\t\t\tRequested 5 out of 137"
       ]
      },
      {
       "output_type": "stream",
       "stream": "stdout",
       "text": [
        "\n",
        "Processing http://podaac.jpl.nasa.gov/ws/search/dataset/osd.xml\n",
        "\tCatalog searchTerms: "
       ]
      },
      {
       "output_type": "stream",
       "stream": "stdout",
       "text": [
        " {'keyword': 'searchTerms'}\n",
        "\tExample queries:  []\n",
        "\tProcessing http://podaac.jpl.nasa.gov/ws/search/dataset?itemsPerPage=5&format=atom&keyword=\n",
        "\t\tRequested \n",
        "\t\t5\n",
        "\t out of 441"
       ]
      },
      {
       "output_type": "stream",
       "stream": "stdout",
       "text": [
        "\n",
        "\t\tCatalog reference:  http://podaac.jpl.nasa.gov/ws/search/podaac-granule-osd.xml\n",
        "Processing http://ghrc.nsstc.nasa.gov/hydro/ghost.xml\n",
        "\tCatalog searchTerms: "
       ]
      },
      {
       "output_type": "stream",
       "stream": "stdout",
       "text": [
        " {'terms': 'searchTerms'}\n",
        "\tExample queries:  ['SSM/I']\n",
        "\tProcessing http://ghrc.nsstc.nasa.gov/hydro/ghost.pl?q=ds&format=atom&terms=\n",
        "\t\tRequested 285 out of Unknown"
       ]
      },
      {
       "output_type": "stream",
       "stream": "stdout",
       "text": [
        "\n",
        "\t\tCatalog reference:  Not found\n",
        "\t\tProcessing http://ghrc.nsstc.nasa.gov/hydro/ghost.pl?q=ds&format=atom&terms=SSM%2FI\n",
        "\t\t\tRequested 25 out of Unknown"
       ]
      },
      {
       "output_type": "stream",
       "stream": "stdout",
       "text": [
        "\n",
        "Processing http://mirador.gsfc.nasa.gov/mirador_dataset_opensearch.xml\n",
        "\tCatalog searchTerms: "
       ]
      },
      {
       "output_type": "stream",
       "stream": "stdout",
       "text": [
        " {'keyword': 'searchTerms'}\n",
        "\tExample queries:  ['ozone', 'Surface Air Temperature']\n",
        "\tProcessing http://mirador.gsfc.nasa.gov/cgi-bin/mirador/collectionlist.pl?count=5&format=atom&keyword=\n",
        "\t\tRequested 5 out of 590"
       ]
      },
      {
       "output_type": "stream",
       "stream": "stdout",
       "text": [
        "\n",
        "\t\tCatalog reference:  Not found\n",
        "\t\tProcessing http://mirador.gsfc.nasa.gov/cgi-bin/mirador/collectionlist.pl?count=5&format=atom&keyword=ozone\n",
        "\t\t\tRequested 5 out of 86"
       ]
      },
      {
       "output_type": "stream",
       "stream": "stdout",
       "text": [
        "\n",
        "Processing http://eo-virtual-archive4.esa.int/search/ER02_SAR_RAW_0P/description\n",
        "\tCatalog searchTerms: "
       ]
      },
      {
       "output_type": "stream",
       "stream": "stdout",
       "text": [
        " {'q': 'searchTerms'}\n",
        "\tExample queries:  []\n",
        "\tProcessing http://eo-virtual-archive4.esa.int/search/ER02_SAR_RAW_0P/atom/?count=5&q=\n",
        "\t\tRequested 5 out of 17,746"
       ]
      },
      {
       "output_type": "stream",
       "stream": "stdout",
       "text": [
        "\n",
        "\t\tCatalog reference:  http://eo-virtual-archive4.esa.int/search/ER02_SAR_RAW_0P/description\n",
        "Processing http://www1.usgs.gov/erddap/opensearch1.1/description.xml\n",
        "\tCatalog searchTerms: "
       ]
      },
      {
       "output_type": "stream",
       "stream": "stdout",
       "text": [
        " {'searchTerms': 'searchTerms'}\n",
        "\tExample queries:  ['datasetID']\n",
        "\tProcessing http://www1.usgs.gov/erddap/opensearch1.1/search?itemsPerPage=5&format=atom&searchTerms=\n",
        "\t\tRequested 5 out of 1"
       ]
      },
      {
       "output_type": "stream",
       "stream": "stdout",
       "text": [
        "\n",
        "\t\tCatalog reference:  Not found\n",
        "\t\tProcessing http://www1.usgs.gov/erddap/opensearch1.1/search?itemsPerPage=5&format=atom&searchTerms=datasetID\n",
        "\t\t\tRequested 5 out of 1"
       ]
      },
      {
       "output_type": "stream",
       "stream": "stdout",
       "text": [
        "\n",
        "Processing http://geo.spacebel.be/opensearch/description.xml\n",
        "\tCatalog searchTerms: "
       ]
      },
      {
       "output_type": "stream",
       "stream": "stdout",
       "text": [
        " {'query': 'searchTerms'}\n",
        "\tExample queries:  ['california']\n",
        "\tProcessing http://geo.spacebel.be:80/opensearch/request/?httpAccept=application%2Fatom%2Bxml&maximumRecords=5&query=\n",
        "\t\tRequested 5 out of 2,583"
       ]
      },
      {
       "output_type": "stream",
       "stream": "stdout",
       "text": [
        "\n",
        "\t\tCatalog reference:  http://geo.spacebel.be/opensearch/description.xml\n",
        "\t\tProcessing http://geo.spacebel.be:80/opensearch/request/?httpAccept=application%2Fatom%2Bxml&maximumRecords=5&query=california\n",
        "\t\t\tRequested 5 out of 128"
       ]
      },
      {
       "output_type": "stream",
       "stream": "stdout",
       "text": [
        "\n",
        "\tCatalog searchTerms:  {'query': 'searchTerms'}\n",
        "\tExample queries:  ['california']\n",
        "\tProcessing http://geo.spacebel.be:80/opensearch/request/?httpAccept=application%2Fatom%2Bxml&maximumRecords=5&query=\n",
        "\t\tRequested 5 out of 2,583"
       ]
      },
      {
       "output_type": "stream",
       "stream": "stdout",
       "text": [
        "\n",
        "\t\tCatalog reference:  http://geo.spacebel.be/opensearch/description.xml\n",
        "\t\tProcessing http://geo.spacebel.be:80/opensearch/request/?httpAccept=application%2Fatom%2Bxml&maximumRecords=5&query=california\n",
        "\t\t\tRequested 5 out of 128"
       ]
      },
      {
       "output_type": "stream",
       "stream": "stdout",
       "text": [
        "\n",
        "Processing http://lance-modis.eosdis.nasa.gov/user_services/dataset_opensearch.xml\n",
        "\tCatalog searchTerms: "
       ]
      },
      {
       "output_type": "stream",
       "stream": "stdout",
       "text": [
        " {'pattern': 'searchTerms'}\n",
        "\tExample queries:  ['adjusted reflectance']\n",
        "\tProcessing http://lance2.modaps.eosdis.nasa.gov/axis2/services/MWSLance/searchDatasets?pattern=\n",
        "\t\tFailed request: <soapenv:Reason xmlns:soapenv=\"http://www.w3.org/2003/05/soap-envelope\"><soapenv:Text xml:lang=\"en-US\">Parameter pattern is a required parameter</soapenv:Text></soapenv:Reason>"
       ]
      },
      {
       "output_type": "stream",
       "stream": "stdout",
       "text": [
        "\n"
       ]
      }
     ],
     "prompt_number": 165
    },
    {
     "cell_type": "markdown",
     "metadata": {},
     "source": [
      "## Notes\n",
      "\n",
      "\n",
      "### Parameter Constraints\n",
      "\n",
      "From this set, we see two options - using the OpenSearch [Parameters extension](http://a9.com/-/spec/opensearch/extensions/parameters/1.0/) (ex: FEDEO service) or a custom [extension](http://podaac.jpl.nasa.gov/opensearch/) (ex: PO.DAAC service).\n",
      "\n",
      "Using the Parameter extension:\n",
      "\n",
      "```\n",
      "<Url type=\"application/rss+xml\" indexOffset=\"1\" pageOffset=\"1\"  rel=\"collection\" template=\"http://geo.spacebel.be:80/opensearch/request/?httpAccept=application/rss%2Bxml&amp;parentIdentifier={eo:parentIdentifier?}&amp;subject={dc:subject?}&amp;query={searchTerms?}&amp;startRecord={startIndex?}&amp;startPage={startPage?}&amp;maximumRecords={count?}&amp;startDate={time:start?}&amp;endDate={time:end?}&amp;type={dc:type?}&amp;title={dc:title?}&amp;publisher={dc:publisher?}&amp;bbox={geo:box?}&amp;name={geo:name?}&amp;lat={geo:lat?}&amp;lon={geo:lon?}&amp;radius={geo:radius?}&amp;uid={geo:uid?}&amp;organisationName={eo:organisationName?}&amp;productType={eo:productType?}&amp;platform={eo:platform?}&amp;instrument={eo:instrument?}&amp;classifiedAs={semantic:classifiedAs?}&amp;recordSchema={sru:recordSchema?}\">\n",
      "            \n",
      "    <param:Parameter name=\"recordSchema\" value=\"{sru:recordSchema}\">\n",
      "        <param:Option value=\"iso\" label=\"ISO\"/>             \n",
      "    </param:Parameter>\n",
      "    \n",
      "    <param:Parameter name=\"type\" value=\"{dc:type}\">\n",
      "        <param:Option value=\"dataset\" label=\"dataset\"/>     \n",
      "        <param:Option value=\"collection\" label=\"dataset series\"/>       \n",
      "        <param:Option value=\"service\" label=\"service\"/>             \n",
      "    </param:Parameter>\n",
      "    \n",
      "    <param:Parameter name=\"parentIdentifier\" value=\"{eo:parentIdentifier}\">     \n",
      "        <param:Option value=\"EOP:ESA:FEDEO\" label=\"EOP:ESA:FEDEO\"/>     \n",
      "        <param:Option value=\"EOP:ESA:FEDEO:COLLECTIONS\" label=\"EOP:ESA:FEDEO:COLLECTIONS\"/>     \n",
      "        <param:Option value=\"EOP:ESA:GPOD-EO\" label=\"EOP:ESA:GPOD-EO\"/>     \n",
      "        <param:Option value=\"EOP:ESA:EO-VIRTUAL-ARCHIVE4\" label=\"EOP:ESA:EO-VIRTUAL-ARCHIVE4\"/>     \n",
      "        <param:Option value=\"EOP:NASA:ECHO\" label=\"EOP:NASA:ECHO\"/>             \n",
      "    </param:Parameter>\n",
      "</Url>\n",
      "```\n",
      "\n",
      "Using the custom extension:\n",
      "\n",
      "```\n",
      "<Url type=\"application/atom+xml\" template=\"http://podaac.jpl.nasa.gov/ws/search/dataset?keyword={searchTerms}&startIndex={startIndex?}&itemsPerPage={count?}&bbox={georss:box?}&startTime={time:start?}&endTime={time:end?}&datasetId={podaac:datasetId?}&instrument={podaac:instrument}&satellite={podaac:satellite}&fileFormat={podaac:fileFormat}&status={podaac:status}&processLevel={podaac:processLevel}&full={podaac:full}&sortBy={podaac:sortBy?}&pretty={podaac:pretty?}&format=atom\"/>\n",
      "\n",
      "<Query role=\"http://esipfed.org/ns/discovery/1.1/#validpatterns\" podaac:instrument=\"\\[a-zA-Z0-9-]*\" podaac:satellite=\"\\[a-zA-Z0-9-]*\" podaac:fileFormat=\"HDF|NetCDF\" podaac:status=\"OPEN|PREVIEW|SIMULATED|RETIRED\" podaac:processLevel=\"2|2P|3|4\" \n",
      "podaac:full=\"true|false\" podaac:datasetId=\"\\[a-zA-Z0-9-]*\" podaac:sortBy=\"timeAsc|timeDesc\" podaac:pretty=\"true|false\"/>\n",
      "```\n",
      "\n",
      "The things that immediately jump out to me are 1) the PO.DAAC structure using ESIP \"valid patterns\" seems ill-suited for large enumerations, 2) for a parameter like \"instrument\" that is assumed to be a known list, a generic regex pattern (alphanumeric of any case and length) doesn't provide enough understanding to generate API documentation or a user-friendly interface, 3) the Parameter element is limited in scope (no format definitions, no range constraints, etc) and 4) I, at least, am unclear on when a Parameter with enumeration is included for a query parameter and when it isn't.  \n",
      "\n",
      "But almost all of this is part of the CWIC best practices document. One update would maybe be related to the use of Accept headers versus query parameters for the response format. And a more consistent error response would be fantastic.\n",
      "\n",
      "Issues (in no particular order): \n",
      "\n",
      "- url encoding support (must, must not be, either way) (Url/@template values not always url-encoded in the responses)\n",
      "- accept headers (accept headers vs accept format query param - issues with parsable errors)\n",
      "- response result set total/subset values not always present\n",
      "- if we assume that a searchTerms parameter is supported for the catalog service, ie \"Return all datasets\", not all services support an empty value in that query parameter (ex. EOSDIS Lance)\n",
      "- not all dataset-level responses include another OSDD request but that could be dataset-as-granule and not \n",
      "\n",
      "\n"
     ]
    }
   ],
   "metadata": {}
  }
 ]
}