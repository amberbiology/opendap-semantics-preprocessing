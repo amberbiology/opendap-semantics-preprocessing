{
 "metadata": {
  "name": "",
  "signature": "sha256:bb64bbee9b94acd8106c7822a56e184150080430411016fbebb751438ed4478f"
 },
 "nbformat": 3,
 "nbformat_minor": 0,
 "worksheets": [
  {
   "cells": [
    {
     "cell_type": "markdown",
     "metadata": {},
     "source": [
      "This notebook contains working notes for identifying types of OpenSearch OSDD responses (catalog | dataset | granule | other) and requirements for semi-generic parsing. So no explicit namespacing and liberal use of xpath.\n",
      "\n",
      "hanging on to this link for esri cdata testing: http://uaf.nodc.noaa.gov/geoportal/openSearchDescription."
     ]
    },
    {
     "cell_type": "heading",
     "level": 3,
     "metadata": {},
     "source": [
      "Prep Work "
     ]
    },
    {
     "cell_type": "code",
     "collapsed": false,
     "input": [
      "import requests\n",
      "import json\n",
      "from lxml import etree\n",
      "import urlparse\n",
      "import urllib\n",
      "from bs4 import BeautifulSoup\n",
      "from itertools import chain\n",
      "\n",
      "def extract_urls(xml):\n",
      "    return xml.xpath('//*[local-name()=\"Url\" and (@*[local-name()=\"type\"]=\"application/atom+xml\" or @*[local-name()=\"type\"]=\"text/atom+xml\")]')\n",
      "\n",
      "def extract_template(url, append_limit=True):\n",
      "    # get the base url from the template\n",
      "    template_parts = urlparse.urlparse(url)\n",
      "    \n",
      "    if not template_parts.scheme:\n",
      "        return '', '', {}, False\n",
      "    \n",
      "    base_url = urlparse.urlunparse((\n",
      "        template_parts.scheme,\n",
      "        template_parts.netloc,\n",
      "        template_parts.path,\n",
      "        None,\n",
      "        None,\n",
      "        None\n",
      "    ))\n",
      "\n",
      "    qp = {k: v[0] for k, v in urlparse.parse_qs(template_parts.query).iteritems()}\n",
      "\n",
      "    # get the hard-coded params\n",
      "    defaults = {k:v for k, v in qp.iteritems() \n",
      "            if not v.startswith('{') \n",
      "            and not v.endswith('}')}\n",
      "    \n",
      "    # a flag for some hard-coded response format type to manage\n",
      "    # accept headers or no\n",
      "    format_defined = len([v for k, v in defaults.iteritems() if 'atom' in v.lower()]) > 0\n",
      "\n",
      "    # get the rest (and ignore the optional/namespaces)\n",
      "    parameters = {k: v[1:-1] for k, v in qp.iteritems() \n",
      "            if v.startswith('{') \n",
      "            and v.endswith('}')}\n",
      "    \n",
      "    if append_limit:\n",
      "        terms = extract_parameter_key('count', parameters)\n",
      "        if terms:\n",
      "            defaults = dict(\n",
      "                chain(defaults.items(), {k: 5 for k in terms.keys()}.items())\n",
      "            )\n",
      "            \n",
      "    # note: not everyone manages url-encoded query parameter delimiters\n",
      "    #       and not everyone manages non-url-encoded values so yeah. we are\n",
      "    #       ignoring the non-url-encoded group tonight.\n",
      "    # return the base, defaults as string, parameters as dict\n",
      "    return base_url, urllib.urlencode(defaults.items()), parameters, format_defined\n",
      "\n",
      "def extract_parameter_key(value, params):\n",
      "    # sort out the query parameter name for a parameter\n",
      "    # and don't send curly bracketed things, please\n",
      "    return {k: v.split(':')[-1].replace('?', '') for k, v \n",
      "                in params.iteritems() \n",
      "                if value in v}\n",
      "\n",
      "def extract_parameter_defs(url_elem, defined_terms):\n",
      "    # could just go with a namespace check but\n",
      "    # namespaces are included and not used more\n",
      "    # than i'd like. safety first.\n",
      "    params = url_elem.xpath('*[local-name()=\"Parameter\"]')\n",
      "    \n",
      "    # and go crazy pedant with a) does each query param value\n",
      "    # have a defined parameter element? (don't know if it should) \n",
      "    # and b) required or not parameters?\n",
      "    for p in params:\n",
      "        p_value = p.attrib.get('value', '')\n",
      "        if not p_value:\n",
      "            continue\n",
      "        \n",
      "        qps = {k:v for k, v in defined_terms.iteritems() if p_value[1:-1] in v}\n",
      "        \n",
      "        if not qps:\n",
      "            continue\n",
      "        \n",
      "        #todo: sort out required v not and return things\n",
      "\n",
      "def extract_query_terms(xml, param_name):\n",
      "    # find a query element that contains an example\n",
      "    # for the provided param_name (no namespace, no optional flag)\n",
      "    example_queries = {}\n",
      "    xp = '//*[local-name()=\"Query\" and @*[local-name()=\"role\"]=\"example\"]/@*[local-name()=\"{0}\"]'.format(param_name)\n",
      "    try:\n",
      "        example_queries = xml.xpath(xp)\n",
      "    except:\n",
      "        print 'failed example query: ', xp\n",
      "        return []\n",
      "    \n",
      "    return example_queries\n",
      "    \n",
      "def extract_links_from_description(elem):\n",
      "    # for the html blobs embedded in the text()\n",
      "    # we don't really have much info about the links\n",
      "    # but at least it ignores cdata.\n",
      "    soup = BeautifulSoup(elem.text)\n",
      "    return [h.get('href') for h in soup.find_all('a')]\n",
      "    \n",
      "def extract_response_stats(xml):\n",
      "    total = next(iter(xml.xpath('//*[local-name()=\"totalResults\"]/text()')), 'Unknown')\n",
      "    subset = next(iter(xml.xpath('//*[local-name()=\"itemsPerPage\"]/text()')), 'Unknown')\n",
      "    \n",
      "    if subset == 'Unknown':\n",
      "        subset = len(xml.xpath('//*[local-name()=\"entry\"]'))\n",
      "    \n",
      "    return subset, total\n",
      "\n",
      "# from doug, see notes re: uptime\n",
      "cwic_links = [\n",
      "    'http://dap.onc.uvic.ca/erddap/opensearch1.1/description.xml',\n",
      "    'http://gcmd.gsfc.nasa.gov/KeywordSearch/default/openSearch.jsp?Portal=cwic',\n",
      "    'http://podaac.jpl.nasa.gov/ws/search/dataset/osd.xml',\n",
      "    # 'http://nsidc.org/api/opensearch/1.1/dataset/description',  # we're just not going to run this\n",
      "    'http://ghrc.nsstc.nasa.gov/hydro/ghost.xml',\n",
      "    'http://mirador.gsfc.nasa.gov/mirador_dataset_opensearch.xml',\n",
      "    'http://eo-virtual-archive4.esa.int/search/ER02_SAR_RAW_0P/description',\n",
      "    'http://www1.usgs.gov/erddap/opensearch1.1/description.xml',\n",
      "    # 'http://bison.usgs.ornl.gov/doc/api.jsp',  # this is now a dead link\n",
      "    # 'http://ceocat.ccrs.nrcan.gc.ca/opensearch_description_document.xml',  # this is 403 access forbidden\n",
      "    # 'http://rs211980.rs.hosteurope.de/mule/os-description/',  # 503 service down\n",
      "    'http://geo.spacebel.be/opensearch/description.xml',  # from the fedeo documentation page listed\n",
      "    'http://lance-modis.eosdis.nasa.gov/user_services/dataset_opensearch.xml'\n",
      "]"
     ],
     "language": "python",
     "metadata": {},
     "outputs": [],
     "prompt_number": 177
    },
    {
     "cell_type": "code",
     "collapsed": false,
     "input": [
      "# processing the cwic services\n",
      "# Question 1: do we all have searchTerms parameters?\n",
      "\n",
      "for cwic_link in cwic_links:\n",
      "    print 'Processing {0}'.format(cwic_link)\n",
      "    \n",
      "    req = requests.get(cwic_link)\n",
      "    if req.status_code != 200:\n",
      "        print '\\tFailed request'\n",
      "        continue\n",
      "    \n",
      "    xml = etree.fromstring(req.content)\n",
      "    \n",
      "    extracted_url_elems = extract_urls(xml)\n",
      "    \n",
      "    for extracted_elem in extracted_url_elems:\n",
      "        template_base, template_defaults, template_params, format_defined = extract_template(extracted_elem.attrib.get('template'))\n",
      "        accept_type = extracted_elem.attrib.get('type', '')\n",
      "        \n",
      "        # let's see if the url includes some enumerations as Parameter children\n",
      "        # parameter_definitions = extract_parameter_defs(extracted_elem, template_params)\n",
      "        \n",
      "        catalog_params = extract_parameter_key('searchTerms', template_params)\n",
      "        print '\\tCatalog searchTerms: ', catalog_params\n",
      "    \n",
      "        if not catalog_params:\n",
      "            continue\n",
      "        \n",
      "        query_examples = list(chain.from_iterable([extract_query_terms(xml, p) for p in catalog_params.values()]))\n",
      "        \n",
      "        print '\\tExample queries: ', query_examples\n",
      "  \n",
      "        # try two requests, one without the example text (just the empty key) and\n",
      "        # one with the term\n",
      "        qps = '&'.join([template_defaults, catalog_params.keys()[0] + '='])\n",
      "        if qps.startswith('&'):\n",
      "            qps = qps[1:]\n",
      "        first_request = template_base + '?' + qps\n",
      "        \n",
      "        print '\\tProcessing {0}'.format(first_request)\n",
      "        \n",
      "        headers = {'Accept': accept_type} if format_defined == False else {}\n",
      "        first_req = requests.get(first_request, headers=headers) \n",
      "        if first_req.status_code != 200:\n",
      "            print '\\t\\tFailed request: {0}'.format(first_req.content)\n",
      "            continue\n",
      "            \n",
      "        if not first_req.content:\n",
      "            print '\\t\\tEmpty response!'\n",
      "        \n",
      "        else:\n",
      "            extract_xml = etree.fromstring(first_req.content)\n",
      "            subset, total = extract_response_stats(extract_xml)\n",
      "            print '\\t\\tRequested {0} out of {1}'.format(subset, '{:,}'.format(int(total)) if total != 'Unknown' else total)\n",
      "\n",
      "            # see if there's a reference to the parent catalog request \n",
      "            parent_search_elem = next(\n",
      "                iter(\n",
      "                    extract_xml.xpath('/*/*[local-name()=\"link\" and (@*[local-name()=\"rel\"]=\"search\" or @*[local-name()=\"rel\"]=\"http://esipfed.org/ns/fedsearch/1.0/search#\")]')), None\n",
      "                )\n",
      "            print '\\t\\tCatalog reference: ', parent_search_elem.attrib.get('href') if parent_search_elem is not None else 'Not found'\n",
      "        \n",
      "        if query_examples:\n",
      "            test_query = {catalog_params.keys()[0]: query_examples[0]}\n",
      "            qps = '&'.join(\n",
      "                # TODO: urlencode just the values\n",
      "                [template_defaults, urllib.urlencode(test_query.items())]\n",
      "            )\n",
      "            if qps.startswith('&'):\n",
      "                qps = qps[1:]\n",
      "            second_request = template_base + '?' + qps\n",
      "            \n",
      "            print '\\t\\tProcessing {0}'.format(second_request)\n",
      "            \n",
      "            # reuse the headers\n",
      "            second_req = requests.get(second_request, headers=headers)\n",
      "            if second_req.status_code != 200:\n",
      "                print '\\t\\t\\tFailed request: {0}'.format(second_req.content)\n",
      "                continue\n",
      "            \n",
      "            if not second_req.content:\n",
      "                print '\\t\\tEmpty response!'\n",
      "                continue\n",
      "\n",
      "            extract_xml = etree.fromstring(second_req.content)\n",
      "            subset, total = extract_response_stats(extract_xml)\n",
      "            print '\\t\\tRequested {0} out of {1}'.format(subset, '{:,}'.format(int(total)) if total != 'Unknown' else total)"
     ],
     "language": "python",
     "metadata": {},
     "outputs": [
      {
       "output_type": "stream",
       "stream": "stdout",
       "text": [
        "Processing http://dap.onc.uvic.ca/erddap/opensearch1.1/description.xml\n",
        "\tCatalog searchTerms: "
       ]
      },
      {
       "output_type": "stream",
       "stream": "stdout",
       "text": [
        " {'searchTerms': 'searchTerms'}\n",
        "\tExample queries:  ['temperature']\n",
        "\tProcessing http://dap.onc.uvic.ca/erddap/opensearch1.1/search?itemsPerPage=5&format=atom&searchTerms=\n",
        "\t\tRequested 5 out of 19\n",
        "\t\tCatalog reference:  Not found\n",
        "\t\tProcessing http://dap.onc.uvic.ca/erddap/opensearch1.1/search?itemsPerPage=5&format=atom&searchTerms=temperature\n",
        "\t\t\tRequested 5 out of 16"
       ]
      },
      {
       "output_type": "stream",
       "stream": "stdout",
       "text": [
        "\n",
        "Processing http://gcmd.gsfc.nasa.gov/KeywordSearch/default/openSearch.jsp?Portal=cwic\n",
        "\tCatalog searchTerms: "
       ]
      },
      {
       "output_type": "stream",
       "stream": "stdout",
       "text": [
        " {'searchTerms': 'searchTerms'}\n",
        "\tExample queries:  ['modis']\n",
        "\tProcessing http://gcmd.gsfc.nasa.gov/KeywordSearch/OpenSearch.do?count=5&output=atom&MetadataType=0&Portal=cwic&clientId=fromgcmd&searchTerms=\n",
        "\t\tEmpty response!"
       ]
      },
      {
       "output_type": "stream",
       "stream": "stdout",
       "text": [
        "\n",
        "\t\tProcessing http://gcmd.gsfc.nasa.gov/KeywordSearch/OpenSearch.do?count=5&output=atom&MetadataType=0&Portal=cwic&clientId=fromgcmd&searchTerms=modis\n",
        "\t\t\tRequested 5 out of 137"
       ]
      },
      {
       "output_type": "stream",
       "stream": "stdout",
       "text": [
        "\n",
        "Processing http://podaac.jpl.nasa.gov/ws/search/dataset/osd.xml\n",
        "\tCatalog searchTerms: "
       ]
      },
      {
       "output_type": "stream",
       "stream": "stdout",
       "text": [
        " {'keyword': 'searchTerms'}\n",
        "\tExample queries:  []\n",
        "\tProcessing http://podaac.jpl.nasa.gov/ws/search/dataset?itemsPerPage=5&format=atom&keyword=\n",
        "\t\tRequested \n",
        "\t\t5\n",
        "\t out of 441"
       ]
      },
      {
       "output_type": "stream",
       "stream": "stdout",
       "text": [
        "\n",
        "\t\tCatalog reference:  http://podaac.jpl.nasa.gov/ws/search/podaac-granule-osd.xml\n",
        "Processing http://ghrc.nsstc.nasa.gov/hydro/ghost.xml\n",
        "\tCatalog searchTerms: "
       ]
      },
      {
       "output_type": "stream",
       "stream": "stdout",
       "text": [
        " {'terms': 'searchTerms'}\n",
        "\tExample queries:  ['SSM/I']\n",
        "\tProcessing http://ghrc.nsstc.nasa.gov/hydro/ghost.pl?q=ds&format=atom&terms=\n",
        "\t\tRequested 285 out of Unknown"
       ]
      },
      {
       "output_type": "stream",
       "stream": "stdout",
       "text": [
        "\n",
        "\t\tCatalog reference:  Not found\n",
        "\t\tProcessing http://ghrc.nsstc.nasa.gov/hydro/ghost.pl?q=ds&format=atom&terms=SSM%2FI\n",
        "\t\t\tRequested 25 out of Unknown"
       ]
      },
      {
       "output_type": "stream",
       "stream": "stdout",
       "text": [
        "\n",
        "Processing http://mirador.gsfc.nasa.gov/mirador_dataset_opensearch.xml\n",
        "\tCatalog searchTerms: "
       ]
      },
      {
       "output_type": "stream",
       "stream": "stdout",
       "text": [
        " {'keyword': 'searchTerms'}\n",
        "\tExample queries:  ['ozone', 'Surface Air Temperature']\n",
        "\tProcessing http://mirador.gsfc.nasa.gov/cgi-bin/mirador/collectionlist.pl?count=5&format=atom&keyword=\n",
        "\t\tRequested 5 out of 590"
       ]
      },
      {
       "output_type": "stream",
       "stream": "stdout",
       "text": [
        "\n",
        "\t\tCatalog reference:  Not found\n",
        "\t\tProcessing http://mirador.gsfc.nasa.gov/cgi-bin/mirador/collectionlist.pl?count=5&format=atom&keyword=ozone\n",
        "\t\t\tRequested 5 out of 86"
       ]
      },
      {
       "output_type": "stream",
       "stream": "stdout",
       "text": [
        "\n",
        "Processing http://eo-virtual-archive4.esa.int/search/ER02_SAR_RAW_0P/description\n",
        "\tCatalog searchTerms: "
       ]
      },
      {
       "output_type": "stream",
       "stream": "stdout",
       "text": [
        " {'q': 'searchTerms'}\n",
        "\tExample queries:  []\n",
        "\tProcessing http://eo-virtual-archive4.esa.int/search/ER02_SAR_RAW_0P/atom/?count=5&q=\n",
        "\t\tRequested 5 out of 17,746"
       ]
      },
      {
       "output_type": "stream",
       "stream": "stdout",
       "text": [
        "\n",
        "\t\tCatalog reference:  http://eo-virtual-archive4.esa.int/search/ER02_SAR_RAW_0P/description\n",
        "Processing http://www1.usgs.gov/erddap/opensearch1.1/description.xml\n",
        "\tCatalog searchTerms: "
       ]
      },
      {
       "output_type": "stream",
       "stream": "stdout",
       "text": [
        " {'searchTerms': 'searchTerms'}\n",
        "\tExample queries:  ['datasetID']\n",
        "\tProcessing http://www1.usgs.gov/erddap/opensearch1.1/search?itemsPerPage=5&format=atom&searchTerms=\n",
        "\t\tRequested 5 out of 1"
       ]
      },
      {
       "output_type": "stream",
       "stream": "stdout",
       "text": [
        "\n",
        "\t\tCatalog reference:  Not found\n",
        "\t\tProcessing http://www1.usgs.gov/erddap/opensearch1.1/search?itemsPerPage=5&format=atom&searchTerms=datasetID\n",
        "\t\t\tRequested 5 out of 1"
       ]
      },
      {
       "output_type": "stream",
       "stream": "stdout",
       "text": [
        "\n",
        "Processing http://geo.spacebel.be/opensearch/description.xml\n",
        "\tCatalog searchTerms: "
       ]
      },
      {
       "output_type": "stream",
       "stream": "stdout",
       "text": [
        " {'query': 'searchTerms'}\n",
        "\tExample queries:  ['california']\n",
        "\tProcessing http://geo.spacebel.be:80/opensearch/request/?httpAccept=application%2Fatom%2Bxml&maximumRecords=5&query=\n",
        "\t\tRequested 5 out of 2,583"
       ]
      },
      {
       "output_type": "stream",
       "stream": "stdout",
       "text": [
        "\n",
        "\t\tCatalog reference:  http://geo.spacebel.be/opensearch/description.xml\n",
        "\t\tProcessing http://geo.spacebel.be:80/opensearch/request/?httpAccept=application%2Fatom%2Bxml&maximumRecords=5&query=california\n",
        "\t\t\tRequested 5 out of 128"
       ]
      },
      {
       "output_type": "stream",
       "stream": "stdout",
       "text": [
        "\n",
        "\tCatalog searchTerms:  {'query': 'searchTerms'}\n",
        "\tExample queries:  ['california']\n",
        "\tProcessing http://geo.spacebel.be:80/opensearch/request/?httpAccept=application%2Fatom%2Bxml&maximumRecords=5&query=\n",
        "\t\tRequested 5 out of 2,583"
       ]
      },
      {
       "output_type": "stream",
       "stream": "stdout",
       "text": [
        "\n",
        "\t\tCatalog reference:  http://geo.spacebel.be/opensearch/description.xml\n",
        "\t\tProcessing http://geo.spacebel.be:80/opensearch/request/?httpAccept=application%2Fatom%2Bxml&maximumRecords=5&query=california\n",
        "\t\t\tRequested 5 out of 128"
       ]
      },
      {
       "output_type": "stream",
       "stream": "stdout",
       "text": [
        "\n",
        "Processing http://lance-modis.eosdis.nasa.gov/user_services/dataset_opensearch.xml\n",
        "\tCatalog searchTerms: "
       ]
      },
      {
       "output_type": "stream",
       "stream": "stdout",
       "text": [
        " {'pattern': 'searchTerms'}\n",
        "\tExample queries:  ['adjusted reflectance']\n",
        "\tProcessing http://lance2.modaps.eosdis.nasa.gov/axis2/services/MWSLance/searchDatasets?pattern=\n",
        "\t\tFailed request: <soapenv:Reason xmlns:soapenv=\"http://www.w3.org/2003/05/soap-envelope\"><soapenv:Text xml:lang=\"en-US\">Parameter pattern is a required parameter</soapenv:Text></soapenv:Reason>"
       ]
      },
      {
       "output_type": "stream",
       "stream": "stdout",
       "text": [
        "\n"
       ]
      }
     ],
     "prompt_number": 165
    },
    {
     "cell_type": "markdown",
     "metadata": {},
     "source": [
      "## Notes\n",
      "\n",
      "\n",
      "### Parameter Constraints\n",
      "\n",
      "From this set, we see two options - using the OpenSearch [Parameters extension](http://a9.com/-/spec/opensearch/extensions/parameters/1.0/) (ex: FEDEO service) or a custom [extension](http://podaac.jpl.nasa.gov/opensearch/) (ex: PO.DAAC service).\n",
      "\n",
      "Using the Parameter extension:\n",
      "\n",
      "```\n",
      "<Url type=\"application/rss+xml\" indexOffset=\"1\" pageOffset=\"1\"  rel=\"collection\" template=\"http://geo.spacebel.be:80/opensearch/request/?httpAccept=application/rss%2Bxml&amp;parentIdentifier={eo:parentIdentifier?}&amp;subject={dc:subject?}&amp;query={searchTerms?}&amp;startRecord={startIndex?}&amp;startPage={startPage?}&amp;maximumRecords={count?}&amp;startDate={time:start?}&amp;endDate={time:end?}&amp;type={dc:type?}&amp;title={dc:title?}&amp;publisher={dc:publisher?}&amp;bbox={geo:box?}&amp;name={geo:name?}&amp;lat={geo:lat?}&amp;lon={geo:lon?}&amp;radius={geo:radius?}&amp;uid={geo:uid?}&amp;organisationName={eo:organisationName?}&amp;productType={eo:productType?}&amp;platform={eo:platform?}&amp;instrument={eo:instrument?}&amp;classifiedAs={semantic:classifiedAs?}&amp;recordSchema={sru:recordSchema?}\">\n",
      "            \n",
      "    <param:Parameter name=\"recordSchema\" value=\"{sru:recordSchema}\">\n",
      "        <param:Option value=\"iso\" label=\"ISO\"/>             \n",
      "    </param:Parameter>\n",
      "    \n",
      "    <param:Parameter name=\"type\" value=\"{dc:type}\">\n",
      "        <param:Option value=\"dataset\" label=\"dataset\"/>     \n",
      "        <param:Option value=\"collection\" label=\"dataset series\"/>       \n",
      "        <param:Option value=\"service\" label=\"service\"/>             \n",
      "    </param:Parameter>\n",
      "    \n",
      "    <param:Parameter name=\"parentIdentifier\" value=\"{eo:parentIdentifier}\">     \n",
      "        <param:Option value=\"EOP:ESA:FEDEO\" label=\"EOP:ESA:FEDEO\"/>     \n",
      "        <param:Option value=\"EOP:ESA:FEDEO:COLLECTIONS\" label=\"EOP:ESA:FEDEO:COLLECTIONS\"/>     \n",
      "        <param:Option value=\"EOP:ESA:GPOD-EO\" label=\"EOP:ESA:GPOD-EO\"/>     \n",
      "        <param:Option value=\"EOP:ESA:EO-VIRTUAL-ARCHIVE4\" label=\"EOP:ESA:EO-VIRTUAL-ARCHIVE4\"/>     \n",
      "        <param:Option value=\"EOP:NASA:ECHO\" label=\"EOP:NASA:ECHO\"/>             \n",
      "    </param:Parameter>\n",
      "</Url>\n",
      "```\n",
      "\n",
      "Using the custom extension:\n",
      "\n",
      "```\n",
      "<Url type=\"application/atom+xml\" template=\"http://podaac.jpl.nasa.gov/ws/search/dataset?keyword={searchTerms}&startIndex={startIndex?}&itemsPerPage={count?}&bbox={georss:box?}&startTime={time:start?}&endTime={time:end?}&datasetId={podaac:datasetId?}&instrument={podaac:instrument}&satellite={podaac:satellite}&fileFormat={podaac:fileFormat}&status={podaac:status}&processLevel={podaac:processLevel}&full={podaac:full}&sortBy={podaac:sortBy?}&pretty={podaac:pretty?}&format=atom\"/>\n",
      "\n",
      "<Query role=\"http://esipfed.org/ns/discovery/1.1/#validpatterns\" podaac:instrument=\"\\[a-zA-Z0-9-]*\" podaac:satellite=\"\\[a-zA-Z0-9-]*\" podaac:fileFormat=\"HDF|NetCDF\" podaac:status=\"OPEN|PREVIEW|SIMULATED|RETIRED\" podaac:processLevel=\"2|2P|3|4\" \n",
      "podaac:full=\"true|false\" podaac:datasetId=\"\\[a-zA-Z0-9-]*\" podaac:sortBy=\"timeAsc|timeDesc\" podaac:pretty=\"true|false\"/>\n",
      "```\n",
      "\n",
      "The things that immediately jump out to me are 1) the PO.DAAC structure using ESIP \"valid patterns\" seems ill-suited for large enumerations, 2) for a parameter like \"instrument\" that is assumed to be a known list, a generic regex pattern (alphanumeric of any case and length) doesn't provide enough understanding to generate API documentation or a user-friendly interface, 3) the Parameter element is limited in scope (no format definitions, no range constraints, etc) and 4) I, at least, am unclear on when a Parameter with enumeration is included for a query parameter and when it isn't.  \n",
      "\n",
      "But almost all of this is part of the CWIC best practices document. One update would maybe be related to the use of Accept headers versus query parameters for the response format. And a more consistent error response would be fantastic.\n",
      "\n",
      "Issues (in no particular order): \n",
      "\n",
      "- url encoding support (must, must not be, either way) (Url/@template values not always url-encoded in the responses)\n",
      "- accept headers (accept headers vs accept format query param - issues with parsable errors)\n",
      "- response result set total/subset values not always present\n",
      "- if we assume that a searchTerms parameter is supported for the catalog service, ie \"Return all datasets\", not all services support an empty value in that query parameter (ex. EOSDIS Lance)\n",
      "- not all dataset-level responses include another OSDD request but that could be dataset-as-granule and not \n",
      "\n",
      "Possible EUMETSAT URL:\n",
      "\n",
      "http://vnavigator.eumetsat.int/discovery/os-description.xml\n",
      "\n",
      "although the response is a template that isn't correctly executed:\n",
      "\n",
      "```\n",
      "template=\"$WEBAPP_SERVER_URL/OpenSearch\n",
      "```\n"
     ]
    },
    {
     "cell_type": "heading",
     "level": 1,
     "metadata": {},
     "source": [
      "So what happens with our list of OSDD responses?"
     ]
    },
    {
     "cell_type": "code",
     "collapsed": false,
     "input": [
      "import os\n",
      "\n",
      "with open('opensearch_hrefs.txt', 'r') as f:\n",
      "    urls = f.readlines()\n",
      "\n",
      "for index, url in enumerate(urls):\n",
      "    print 'Processing {0}: {1}'.format(index, url.strip())\n",
      "    \n",
      "    try:\n",
      "        req = requests.get(url.strip())\n",
      "    except:\n",
      "        print '\\tSkipping connection issue`s'\n",
      "        continue\n",
      "        \n",
      "    if req.status_code != 200:\n",
      "        print '\\tFailed request'\n",
      "        continue\n",
      "    \n",
      "    try:\n",
      "        xml = etree.fromstring(req.content)\n",
      "    except etree.XMLSyntaxError:\n",
      "        print '\\t\\tInvalid XML'\n",
      "        continue\n",
      "    \n",
      "    extracted_url_elems = extract_urls(xml)\n",
      "    \n",
      "    if not extracted_url_elems:\n",
      "        print '\\tFailed to extract Urls: likely rss+xml instead'\n",
      "    \n",
      "    for extracted_elem in extracted_url_elems:\n",
      "        template_base, template_defaults, template_params, format_defined = extract_template(extracted_elem.attrib.get('template'))\n",
      "        accept_type = extracted_elem.attrib.get('type', '')\n",
      "        \n",
      "        if not template_base:\n",
      "            print '\\tInvalid URL: ', etree.tostring(extracted_elem)\n",
      "            continue\n",
      "        \n",
      "        # let's see if the url includes some enumerations as Parameter children\n",
      "        # parameter_definitions = extract_parameter_defs(extracted_elem, template_params)\n",
      "        \n",
      "        catalog_params = extract_parameter_key('searchTerms', template_params)\n",
      "        print '\\tCatalog searchTerms: ', catalog_params\n",
      "    \n",
      "        if not catalog_params:\n",
      "            continue\n",
      "        \n",
      "        query_examples = list(chain.from_iterable([extract_query_terms(xml, p) for p in catalog_params.values()]))\n",
      "        \n",
      "        print '\\tExample queries: ', query_examples\n",
      "  \n",
      "        # try two requests, one without the example text (just the empty key) and\n",
      "        # one with the term\n",
      "        qps = '&'.join([template_defaults, catalog_params.keys()[0] + '='])\n",
      "        if qps.startswith('&'):\n",
      "            qps = qps[1:]\n",
      "        first_request = template_base + '?' + qps\n",
      "        \n",
      "        print '\\tProcessing {0}'.format(first_request)\n",
      "        \n",
      "        headers = {'Accept': accept_type} if format_defined == False else {}\n",
      "        first_req = requests.get(first_request, headers=headers) \n",
      "        if first_req.status_code != 200:\n",
      "            print '\\t\\tFailed request: {0}'.format(first_req.status_code)\n",
      "            continue\n",
      "            \n",
      "        if not first_req.content:\n",
      "            print '\\t\\tEmpty response!'\n",
      "        \n",
      "        if 'html' in first_req.headers.get('content-type'):\n",
      "            print '\\t\\tHTML response'\n",
      "            continue\n",
      "        \n",
      "        else:\n",
      "            try:\n",
      "                extract_xml = etree.fromstring(first_req.content)\n",
      "                subset, total = extract_response_stats(extract_xml)\n",
      "                print '\\t\\tRequested {0} out of {1}'.format(subset, '{:,}'.format(int(total)) if total != 'Unknown' else total)\n",
      "\n",
      "                # see if there's a reference to the parent catalog request \n",
      "                parent_search_elem = next(\n",
      "                    iter(\n",
      "                        extract_xml.xpath('/*/*[local-name()=\"link\" and (@*[local-name()=\"rel\"]=\"search\" or @*[local-name()=\"rel\"]=\"http://esipfed.org/ns/fedsearch/1.0/search#\")]')), None\n",
      "                    )\n",
      "                print '\\t\\tCatalog reference: ', parent_search_elem.attrib.get('href') if parent_search_elem is not None else 'Not found'\n",
      "\n",
      "            except etree.XMLSyntaxError:\n",
      "                print '\\t\\tInvalid XML'\n",
      "            \n",
      "        if query_examples:\n",
      "            test_query = {catalog_params.keys()[0]: query_examples[0]}\n",
      "            qps = '&'.join(\n",
      "                # TODO: urlencode just the values\n",
      "                [template_defaults, urllib.urlencode(test_query.items())]\n",
      "            )\n",
      "            if qps.startswith('&'):\n",
      "                qps = qps[1:]\n",
      "            second_request = template_base + '?' + qps\n",
      "            \n",
      "            print '\\t\\tProcessing {0}'.format(second_request)\n",
      "            \n",
      "            # reuse the headers\n",
      "            second_req = requests.get(second_request, headers=headers)\n",
      "            if second_req.status_code != 200:\n",
      "                print '\\t\\t\\tFailed request: {0}'.format(second_req.status_code)\n",
      "                continue\n",
      "            \n",
      "            if not second_req.content:\n",
      "                print '\\t\\tEmpty response!'\n",
      "                continue\n",
      "            \n",
      "            if 'html' in second_req.headers.get('content-type'):\n",
      "                print '\\t\\tHTML response'\n",
      "                continue\n",
      "\n",
      "            try:\n",
      "                extract_xml = etree.fromstring(second_req.content)\n",
      "                subset, total = extract_response_stats(extract_xml)\n",
      "                print '\\t\\tRequested {0} out of {1}'.format(subset, '{:,}'.format(int(total)) if total != 'Unknown' else total)\n",
      "            except etree.XMLSyntaxError:\n",
      "                print '\\t\\tInvalid XML'\n",
      "                "
     ],
     "language": "python",
     "metadata": {},
     "outputs": [
      {
       "output_type": "stream",
       "stream": "stdout",
       "text": [
        "Processing http://academiccommons.columbia.edu/catalog/opensearch.xml\n",
        "\tFailed to extract Urls: likely rss+xml instead"
       ]
      },
      {
       "output_type": "stream",
       "stream": "stdout",
       "text": [
        "\n",
        "Processing http://admissions.chem.ox.ac.uk/SearchEngineInfo.ashx\n",
        "\tCatalog searchTerms: "
       ]
      },
      {
       "output_type": "stream",
       "stream": "stdout",
       "text": [
        " {'q': 'searchTerms'}\n",
        "\tExample queries:  []\n",
        "\tProcessing http://admissions.chem.ox.ac.uk/SearchResults.ashx?q=\n",
        "\t\tRequested 10 out of 0"
       ]
      },
      {
       "output_type": "stream",
       "stream": "stdout",
       "text": [
        "\n",
        "\t\tCatalog reference:  http://admissions.chem.ox.ac.uk/SearchEngineInfo.ashx\n",
        "Processing http://arsf-dan.nerc.ac.uk/trac/search/opensearch\n",
        "\tFailed to extract Urls: likely rss+xml instead"
       ]
      },
      {
       "output_type": "stream",
       "stream": "stdout",
       "text": [
        "\n",
        "Processing http://astrodocs.wr.usgs.gov/opensearch_desc.php\n",
        "\tFailed to extract Urls: likely rss+xml instead"
       ]
      },
      {
       "output_type": "stream",
       "stream": "stdout",
       "text": [
        "\n",
        "Processing http://aura.abdn.ac.uk/open-search/description.xml\n",
        "\tFailed to extract Urls: likely rss+xml instead"
       ]
      },
      {
       "output_type": "stream",
       "stream": "stdout",
       "text": [
        "\n",
        "Processing http://bahainyc.org/opensearch.axd\n",
        "\tFailed to extract Urls: likely rss+xml instead"
       ]
      },
      {
       "output_type": "stream",
       "stream": "stdout",
       "text": [
        "\n",
        "Processing http://bakerinstitute.org/search/open-search/\n",
        "\tFailed to extract Urls: likely rss+xml instead"
       ]
      },
      {
       "output_type": "stream",
       "stream": "stdout",
       "text": [
        "\n",
        "Processing http://beaker.readthedocs.org/en/latest/_static/opensearch.xml\n",
        "\tFailed to extract Urls: likely rss+xml instead"
       ]
      },
      {
       "output_type": "stream",
       "stream": "stdout",
       "text": [
        "\n",
        "Processing http://cadair.aber.ac.uk/dspace/open-search/description.xml\n",
        "\tFailed to extract Urls: likely rss+xml instead"
       ]
      },
      {
       "output_type": "stream",
       "stream": "stdout",
       "text": [
        "\n",
        "Processing http://caspian.iwlearn.org/@@opensearch_description.xml\n",
        "\tCatalog searchTerms: "
       ]
      },
      {
       "output_type": "stream",
       "stream": "stdout",
       "text": [
        " {'SearchableText': 'searchTerms'}\n",
        "\tExample queries:  ['None']\n",
        "\tProcessing http://caspian.iwlearn.org/opensearch_atom.xml?b_size%3Aint=5&SearchableText=\n",
        "\t\tRequested 5 out of 0"
       ]
      },
      {
       "output_type": "stream",
       "stream": "stdout",
       "text": [
        "\n",
        "\t\tCatalog reference:  http://caspian.iwlearn.org/opensearch_description.xml\n",
        "\t\tProcessing http://caspian.iwlearn.org/opensearch_atom.xml?b_size%3Aint=5&SearchableText=None\n",
        "\t\tRequested 5 out of 12"
       ]
      },
      {
       "output_type": "stream",
       "stream": "stdout",
       "text": [
        "\n",
        "Processing http://catalog.utexas.edu/search/opensearch.xml\n",
        "\tFailed to extract Urls: likely rss+xml instead"
       ]
      },
      {
       "output_type": "stream",
       "stream": "stdout",
       "text": [
        "\n",
        "Processing http://catalog.uthscsa.edu/search/opensearch.xml\n",
        "\tFailed to extract Urls: likely rss+xml instead"
       ]
      },
      {
       "output_type": "stream",
       "stream": "stdout",
       "text": [
        "\n",
        "Processing http://centermaryland.org/index.php?option=com_search&format=opensearch\n",
        "\tFailed to extract Urls: likely rss+xml instead"
       ]
      },
      {
       "output_type": "stream",
       "stream": "stdout",
       "text": [
        "\n",
        "Processing http://citizenscienceassociation.org/osd.xml\n",
        "\tCatalog searchTerms: "
       ]
      },
      {
       "output_type": "stream",
       "stream": "stdout",
       "text": [
        " {'s': 'searchTerms'}\n",
        "\tExample queries:  ['photography']\n",
        "\tProcessing http://citizenscienceassociation.org/?feed=atom&s=\n",
        "\t\tRequested 10 out of Unknown"
       ]
      },
      {
       "output_type": "stream",
       "stream": "stdout",
       "text": [
        "\n",
        "\t\tCatalog reference:  http://citizenscienceassociation.org/osd.xml\n",
        "\t\tProcessing http://citizenscienceassociation.org/?feed=atom&s=photography\n",
        "\t\tRequested 1 out of Unknown"
       ]
      },
      {
       "output_type": "stream",
       "stream": "stdout",
       "text": [
        "\n",
        "Processing http://classics.rutgers.edu/component/search/?format=opensearch\n",
        "\tFailed to extract Urls: likely rss+xml instead"
       ]
      },
      {
       "output_type": "stream",
       "stream": "stdout",
       "text": [
        "\n",
        "Processing http://climateaudit.org/osd.xml\n",
        "\tCatalog searchTerms: "
       ]
      },
      {
       "output_type": "stream",
       "stream": "stdout",
       "text": [
        " {'s': 'searchTerms'}\n",
        "\tExample queries:  ['photography']\n",
        "\tProcessing http://climateaudit.org/?feed=atom&s=\n",
        "\t\tRequested 10 out of Unknown"
       ]
      },
      {
       "output_type": "stream",
       "stream": "stdout",
       "text": [
        "\n",
        "\t\tCatalog reference:  http://climateaudit.org/osd.xml\n",
        "\t\tProcessing http://climateaudit.org/?feed=atom&s=photography\n",
        "\t\tRequested 2 out of Unknown"
       ]
      },
      {
       "output_type": "stream",
       "stream": "stdout",
       "text": [
        "\n",
        "Processing http://cnx.org/opensearch.xml\n",
        "\tFailed to extract Urls: likely rss+xml instead"
       ]
      },
      {
       "output_type": "stream",
       "stream": "stdout",
       "text": [
        "\n",
        "Processing http://coastwatch.pfeg.noaa.gov/erddap/opensearch1.1/description.xml\n",
        "\tCatalog searchTerms: "
       ]
      },
      {
       "output_type": "stream",
       "stream": "stdout",
       "text": [
        " {'searchTerms': 'searchTerms'}\n",
        "\tExample queries:  ['temperature']\n",
        "\tProcessing http://coastwatch.pfeg.noaa.gov/erddap/opensearch1.1/search?itemsPerPage=5&format=atom&searchTerms=\n",
        "\t\tRequested 5 out of 894"
       ]
      },
      {
       "output_type": "stream",
       "stream": "stdout",
       "text": [
        "\n",
        "\t\tCatalog reference:  Not found\n",
        "\t\tProcessing http://coastwatch.pfeg.noaa.gov/erddap/opensearch1.1/search?itemsPerPage=5&format=atom&searchTerms=temperature\n",
        "\t\tRequested 5 out of 372"
       ]
      },
      {
       "output_type": "stream",
       "stream": "stdout",
       "text": [
        "\n",
        "Processing http://cookbooks.opengrads.org/opensearch_desc.php\n",
        "\tFailed to extract Urls: likely rss+xml instead"
       ]
      },
      {
       "output_type": "stream",
       "stream": "stdout",
       "text": [
        "\n",
        "Processing http://data-search.nerc.ac.uk/search/opensearch/catalogue/full.xml\n",
        "\tCatalog searchTerms: "
       ]
      },
      {
       "output_type": "stream",
       "stream": "stdout",
       "text": [
        " {'q': 'searchTerms'}\n",
        "\tExample queries:  ['cat']\n",
        "\tProcessing http://data-search.nerc.ac.uk/search/full/catalogue.atom?c=5&q=\n",
        "\t\tRequested 5 out of 2,222"
       ]
      },
      {
       "output_type": "stream",
       "stream": "stdout",
       "text": [
        "\n",
        "\t\tCatalog reference:  http://data-search.nerc.ac.uk/search/opensearch/catalogue/full.xml\n",
        "\t\tProcessing http://data-search.nerc.ac.uk/search/full/catalogue.atom?c=5&q=cat\n",
        "\t\tRequested 5 out of 6"
       ]
      },
      {
       "output_type": "stream",
       "stream": "stdout",
       "text": [
        "\n",
        "Processing http://data.tickets.iatistandard.org/search/opensearch\n",
        "\tFailed to extract Urls: likely rss+xml instead"
       ]
      },
      {
       "output_type": "stream",
       "stream": "stdout",
       "text": [
        "\n",
        "Processing http://data.un.org/OpenSearch.xml\n",
        "\tFailed to extract Urls: likely rss+xml instead"
       ]
      },
      {
       "output_type": "stream",
       "stream": "stdout",
       "text": [
        "\n",
        "Processing http://datapub.cdlib.org/osd.xml\n",
        "\tCatalog searchTerms: "
       ]
      },
      {
       "output_type": "stream",
       "stream": "stdout",
       "text": [
        " {'s': 'searchTerms'}\n",
        "\tExample queries:  ['photography']\n",
        "\tProcessing http://datapub.cdlib.org/?feed=atom&s=\n",
        "\t\tRequested 10 out of Unknown"
       ]
      },
      {
       "output_type": "stream",
       "stream": "stdout",
       "text": [
        "\n",
        "\t\tCatalog reference:  http://datapub.cdlib.org/osd.xml\n",
        "\t\tProcessing http://datapub.cdlib.org/?feed=atom&s=photography\n",
        "\t\tRequested 1 out of Unknown"
       ]
      },
      {
       "output_type": "stream",
       "stream": "stdout",
       "text": [
        "\n",
        "Processing http://datashare.is.ed.ac.uk/open-search/description.xml\n",
        "\tFailed to extract Urls: likely rss+xml instead"
       ]
      },
      {
       "output_type": "stream",
       "stream": "stdout",
       "text": [
        "\n",
        "Processing http://development.chem.ox.ac.uk/SearchEngineInfo.ashx\n",
        "\tCatalog searchTerms: "
       ]
      },
      {
       "output_type": "stream",
       "stream": "stdout",
       "text": [
        " {'q': 'searchTerms'}\n",
        "\tExample queries:  []\n",
        "\tProcessing http://development.chem.ox.ac.uk/SearchResults.ashx?q=\n",
        "\t\tRequested 10 out of 0"
       ]
      },
      {
       "output_type": "stream",
       "stream": "stdout",
       "text": [
        "\n",
        "\t\tCatalog reference:  http://development.chem.ox.ac.uk/SearchEngineInfo.ashx\n",
        "Processing http://dh2014.org/osd.xml\n",
        "\tCatalog searchTerms: "
       ]
      },
      {
       "output_type": "stream",
       "stream": "stdout",
       "text": [
        " {'s': 'searchTerms'}\n",
        "\tExample queries:  ['photography']\n",
        "\tProcessing http://dh2014.org/?feed=atom&s=\n",
        "\t\tRequested 10 out of Unknown"
       ]
      },
      {
       "output_type": "stream",
       "stream": "stdout",
       "text": [
        "\n",
        "\t\tCatalog reference:  http://dh2014.org/osd.xml\n",
        "\t\tProcessing http://dh2014.org/?feed=atom&s=photography\n",
        "\t\tRequested 0 out of Unknown"
       ]
      },
      {
       "output_type": "stream",
       "stream": "stdout",
       "text": [
        "\n",
        "Processing http://dict.leo.org/pages/helpers/shared/searches/opensearch_ende_de.xml\n",
        "\tFailed to extract Urls: likely rss+xml instead"
       ]
      },
      {
       "output_type": "stream",
       "stream": "stdout",
       "text": [
        "\n",
        "Processing http://dictionary.cambridge.org/us/gadgets/british/opensearch.xml\n",
        "\tFailed to extract Urls: likely rss+xml instead"
       ]
      },
      {
       "output_type": "stream",
       "stream": "stdout",
       "text": [
        "\n",
        "Processing http://diglib.eg.org/open-search/description.xml\n",
        "\tFailed to extract Urls: likely rss+xml instead"
       ]
      },
      {
       "output_type": "stream",
       "stream": "stdout",
       "text": [
        "\n",
        "Processing http://distruc.chem.ox.ac.uk/SearchEngineInfo.ashx\n",
        "\tCatalog searchTerms: "
       ]
      },
      {
       "output_type": "stream",
       "stream": "stdout",
       "text": [
        " {'q': 'searchTerms'}\n",
        "\tExample queries:  []\n",
        "\tProcessing http://distruc.chem.ox.ac.uk/SearchResults.ashx?q=\n",
        "\t\tRequested 10 out of 0"
       ]
      },
      {
       "output_type": "stream",
       "stream": "stdout",
       "text": [
        "\n",
        "\t\tCatalog reference:  http://distruc.chem.ox.ac.uk/SearchEngineInfo.ashx\n",
        "Processing http://docs.codehaus.org/opensearch/osd.action\n",
        "\tFailed to extract Urls: likely rss+xml instead"
       ]
      },
      {
       "output_type": "stream",
       "stream": "stdout",
       "text": [
        "\n",
        "Processing http://docs.mongodb.org/osd.xml\n",
        "\tFailed to extract Urls: likely rss+xml instead"
       ]
      },
      {
       "output_type": "stream",
       "stream": "stdout",
       "text": [
        "\n",
        "Processing http://docs.plone.org/_static/opensearch.xml\n",
        "\tFailed to extract Urls: likely rss+xml instead"
       ]
      },
      {
       "output_type": "stream",
       "stream": "stdout",
       "text": [
        "\n",
        "Processing http://docs.virtualsolar.org/search/opensearch\n",
        "\tFailed to extract Urls: likely rss+xml instead"
       ]
      },
      {
       "output_type": "stream",
       "stream": "stdout",
       "text": [
        "\n",
        "Processing http://docs.wxwidgets.org/3.0.1/search-opensearch.php?v=opensearch.xml\n",
        "\tFailed to extract Urls: likely rss+xml instead"
       ]
      },
      {
       "output_type": "stream",
       "stream": "stdout",
       "text": [
        "\n",
        "Processing http://docs.wxwidgets.org/trunk/search-opensearch.php?v=opensearch.xml\n",
        "\tFailed to extract Urls: likely rss+xml instead\n",
        "Processing http://dspace.stir.ac.uk/open-search/description.xml\n",
        "\tFailed to extract Urls: likely rss+xml instead"
       ]
      },
      {
       "output_type": "stream",
       "stream": "stdout",
       "text": [
        "\n",
        "Processing http://dspacecris.eurocris.org/open-search/description.xml\n",
        "\tFailed to extract Urls: likely rss+xml instead"
       ]
      },
      {
       "output_type": "stream",
       "stream": "stdout",
       "text": [
        "\n",
        "Processing http://dualcredit.uidaho.edu/osd.xml\n",
        "\tCatalog searchTerms: "
       ]
      },
      {
       "output_type": "stream",
       "stream": "stdout",
       "text": [
        " {'s': 'searchTerms'}\n",
        "\tExample queries:  ['photography']\n",
        "\tProcessing http://dualcredit.uidaho.edu/?feed=atom&s=\n",
        "\t\tRequested 10 out of Unknown"
       ]
      },
      {
       "output_type": "stream",
       "stream": "stdout",
       "text": [
        "\n",
        "\t\tCatalog reference:  http://dualcredit.uidaho.edu/osd.xml\n",
        "\t\tProcessing http://dualcredit.uidaho.edu/?feed=atom&s=photography\n",
        "\t\tRequested 0 out of Unknown"
       ]
      },
      {
       "output_type": "stream",
       "stream": "stdout",
       "text": [
        "\n",
        "Processing http://eands.caltech.edu/osd.xml\n",
        "\tCatalog searchTerms: "
       ]
      },
      {
       "output_type": "stream",
       "stream": "stdout",
       "text": [
        " {'s': 'searchTerms'}\n",
        "\tExample queries:  ['photography']\n",
        "\tProcessing http://eands.caltech.edu/?feed=atom&s=\n",
        "\t\tRequested 15 out of Unknown"
       ]
      },
      {
       "output_type": "stream",
       "stream": "stdout",
       "text": [
        "\n",
        "\t\tCatalog reference:  http://eands.caltech.edu/osd.xml\n",
        "\t\tProcessing http://eands.caltech.edu/?feed=atom&s=photography\n",
        "\t\tRequested 1 out of Unknown"
       ]
      },
      {
       "output_type": "stream",
       "stream": "stdout",
       "text": [
        "\n",
        "Processing http://earthtosky.org/component/search/?format=opensearch\n",
        "\tFailed to extract Urls: likely rss+xml instead"
       ]
      },
      {
       "output_type": "stream",
       "stream": "stdout",
       "text": [
        "\n",
        "Processing http://ebtc.eu/index.php/component/search/?format=opensearch\n",
        "\tFailed to extract Urls: likely rss+xml instead"
       ]
      },
      {
       "output_type": "stream",
       "stream": "stdout",
       "text": [
        "\n",
        "Processing http://eepartnership.org/osd.xml\n",
        "\tCatalog searchTerms: "
       ]
      },
      {
       "output_type": "stream",
       "stream": "stdout",
       "text": [
        " {'s': 'searchTerms'}\n",
        "\tExample queries:  ['photography']\n",
        "\tProcessing http://eepartnership.org/?feed=atom&s=\n",
        "\t\tRequested 10 out of Unknown"
       ]
      },
      {
       "output_type": "stream",
       "stream": "stdout",
       "text": [
        "\n",
        "\t\tCatalog reference:  http://eepartnership.org/osd.xml\n",
        "\t\tProcessing http://eepartnership.org/?feed=atom&s=photography\n",
        "\t\tRequested 0 out of Unknown"
       ]
      },
      {
       "output_type": "stream",
       "stream": "stdout",
       "text": [
        "\n",
        "Processing http://elag2013.org/osd.xml\n",
        "\tCatalog searchTerms: "
       ]
      },
      {
       "output_type": "stream",
       "stream": "stdout",
       "text": [
        " {'s': 'searchTerms'}\n",
        "\tExample queries:  ['photography']\n",
        "\tProcessing http://elag2013.org/?feed=atom&s=\n",
        "\t\tRequested 10 out of Unknown"
       ]
      },
      {
       "output_type": "stream",
       "stream": "stdout",
       "text": [
        "\n",
        "\t\tCatalog reference:  http://elag2013.org/osd.xml\n",
        "\t\tProcessing http://elag2013.org/?feed=atom&s=photography\n",
        "\t\tRequested 0 out of Unknown"
       ]
      },
      {
       "output_type": "stream",
       "stream": "stdout",
       "text": [
        "\n",
        "Processing http://elinux.org/opensearch_desc.php\n",
        "\tFailed to extract Urls: likely rss+xml instead"
       ]
      },
      {
       "output_type": "stream",
       "stream": "stdout",
       "text": [
        "\n",
        "Processing http://emergencysavings.org/osd.xml\n",
        "\tCatalog searchTerms: "
       ]
      },
      {
       "output_type": "stream",
       "stream": "stdout",
       "text": [
        " {'s': 'searchTerms'}\n",
        "\tExample queries:  ['photography']\n",
        "\tProcessing http://emergencysavings.org/?feed=atom&s=\n",
        "\t\tRequested 10 out of Unknown"
       ]
      },
      {
       "output_type": "stream",
       "stream": "stdout",
       "text": [
        "\n",
        "\t\tCatalog reference:  http://emergencysavings.org/osd.xml\n",
        "\t\tProcessing http://emergencysavings.org/?feed=atom&s=photography\n",
        "\t\tRequested 0 out of Unknown"
       ]
      },
      {
       "output_type": "stream",
       "stream": "stdout",
       "text": [
        "\n",
        "Processing http://en.openei.org/w/opensearch_desc.php\n",
        "\tFailed to extract Urls: likely rss+xml instead"
       ]
      },
      {
       "output_type": "stream",
       "stream": "stdout",
       "text": [
        "\n",
        "Processing http://eo-virtual-archive4.esa.int/search/description\n",
        "\tCatalog searchTerms: "
       ]
      },
      {
       "output_type": "stream",
       "stream": "stdout",
       "text": [
        " {'q': 'searchTerms'}\n",
        "\tExample queries:  []\n",
        "\tProcessing http://eo-virtual-archive4.esa.int/search/atom/?count=5&q=\n",
        "\t\tRequested 5 out of 20"
       ]
      },
      {
       "output_type": "stream",
       "stream": "stdout",
       "text": [
        "\n",
        "\t\tCatalog reference:  http://eo-virtual-archive4.esa.int/search/description\n",
        "Processing http://fedoraproject.org/w/opensearch_desc.php\n",
        "\tFailed to extract Urls: likely rss+xml instead"
       ]
      },
      {
       "output_type": "stream",
       "stream": "stdout",
       "text": [
        "\n",
        "Processing http://foldoc.org/search.xml\n",
        "\tFailed to extract Urls: likely rss+xml instead"
       ]
      },
      {
       "output_type": "stream",
       "stream": "stdout",
       "text": [
        "\n",
        "Processing http://frontierfields.org/osd.xml\n",
        "\tCatalog searchTerms: "
       ]
      },
      {
       "output_type": "stream",
       "stream": "stdout",
       "text": [
        " {'s': 'searchTerms'}\n",
        "\tExample queries:  ['photography']\n",
        "\tProcessing http://frontierfields.org/?feed=atom&s=\n",
        "\t\tRequested 10 out of Unknown"
       ]
      },
      {
       "output_type": "stream",
       "stream": "stdout",
       "text": [
        "\n",
        "\t\tCatalog reference:  http://frontierfields.org/osd.xml\n",
        "\t\tProcessing http://frontierfields.org/?feed=atom&s=photography\n",
        "\t\tRequested 0 out of Unknown"
       ]
      },
      {
       "output_type": "stream",
       "stream": "stdout",
       "text": [
        "\n",
        "Processing http://gateway.ceh.ac.uk/terraCatalog/os-description.xml\n",
        "\tSkipping connection issues"
       ]
      },
      {
       "output_type": "stream",
       "stream": "stdout",
       "text": [
        "\n",
        "Processing http://gcmd.gsfc.nasa.gov/KeywordSearch/default/openSearch.jsp?Portal=GCMD\n",
        "\tCatalog searchTerms: "
       ]
      },
      {
       "output_type": "stream",
       "stream": "stdout",
       "text": [
        " {'searchTerms': 'searchTerms'}\n",
        "\tExample queries:  ['modis']\n",
        "\tProcessing http://gcmd.gsfc.nasa.gov/KeywordSearch/OpenSearch.do?count=5&output=atom&MetadataType=0&Portal=GCMD&clientId=fromgcmd&searchTerms=\n",
        "\t\tEmpty response!"
       ]
      },
      {
       "output_type": "stream",
       "stream": "stdout",
       "text": [
        "\n",
        "\t\tHTML response\n",
        "Processing http://gcmd.gsfc.nasa.gov/KeywordSearch/default/openSearch.jsp?Portal=solas\n",
        "\tCatalog searchTerms: "
       ]
      },
      {
       "output_type": "stream",
       "stream": "stdout",
       "text": [
        " {'searchTerms': 'searchTerms'}\n",
        "\tExample queries:  ['modis']\n",
        "\tProcessing http://gcmd.gsfc.nasa.gov/KeywordSearch/OpenSearch.do?count=5&output=atom&MetadataType=0&Portal=solas&clientId=fromgcmd&searchTerms=\n",
        "\t\tEmpty response!"
       ]
      },
      {
       "output_type": "stream",
       "stream": "stdout",
       "text": [
        "\n",
        "\t\tHTML response\n",
        "Processing http://gianluca.dellavedova.org/osd.xml\n",
        "\tCatalog searchTerms: "
       ]
      },
      {
       "output_type": "stream",
       "stream": "stdout",
       "text": [
        " {'s': 'searchTerms'}\n",
        "\tExample queries:  ['photography']\n",
        "\tProcessing http://gianluca.dellavedova.org/?feed=atom&s=\n",
        "\t\tRequested 10 out of Unknown"
       ]
      },
      {
       "output_type": "stream",
       "stream": "stdout",
       "text": [
        "\n",
        "\t\tCatalog reference:  http://gianluca.dellavedova.org/osd.xml\n",
        "\t\tProcessing http://gianluca.dellavedova.org/?feed=atom&s=photography\n",
        "\t\tRequested 0 out of Unknown"
       ]
      },
      {
       "output_type": "stream",
       "stream": "stdout",
       "text": [
        "\n",
        "Processing http://gis.colostate.edu/SearchEngineInfo.ashx\n",
        "\tCatalog searchTerms:  {'q': 'searchTerms'}\n",
        "\tExample queries:  []\n",
        "\tProcessing http://gis.colostate.edu/SearchResults.ashx?q=\n",
        "\t\tRequested 10 out of 0"
       ]
      },
      {
       "output_type": "stream",
       "stream": "stdout",
       "text": [
        "\n",
        "\t\tCatalog reference:  http://gis.colostate.edu/SearchEngineInfo.ashx\n",
        "Processing http://glossary.ametsoc.org/w/opensearch_desc.php\n",
        "\tFailed to extract Urls: likely rss+xml instead"
       ]
      },
      {
       "output_type": "stream",
       "stream": "stdout",
       "text": [
        "\n",
        "Processing http://golang.org/opensearch.xml\n",
        "\tFailed to extract Urls: likely rss+xml instead"
       ]
      },
      {
       "output_type": "stream",
       "stream": "stdout",
       "text": [
        "\n",
        "Processing http://goworldwind.org/osd.xml\n",
        "\tCatalog searchTerms: "
       ]
      },
      {
       "output_type": "stream",
       "stream": "stdout",
       "text": [
        " {'s': 'searchTerms'}\n",
        "\tExample queries:  ['photography']\n",
        "\tProcessing http://goworldwind.org/?feed=atom&s=\n",
        "\t\tRequested 10 out of Unknown"
       ]
      },
      {
       "output_type": "stream",
       "stream": "stdout",
       "text": [
        "\n",
        "\t\tCatalog reference:  http://goworldwind.org/osd.xml\n",
        "\t\tProcessing http://goworldwind.org/?feed=atom&s=photography\n",
        "\t\tRequested 1 out of Unknown"
       ]
      },
      {
       "output_type": "stream",
       "stream": "stdout",
       "text": [
        "\n",
        "Processing http://grist.org/osd.xml\n",
        "\tCatalog searchTerms: "
       ]
      },
      {
       "output_type": "stream",
       "stream": "stdout",
       "text": [
        " {'s': 'searchTerms'}\n",
        "\tExample queries:  ['photography']\n",
        "\tProcessing http://grist.org/?feed=atom&s=\n",
        "\t\tHTML response"
       ]
      },
      {
       "output_type": "stream",
       "stream": "stdout",
       "text": [
        "\n",
        "Processing http://highplainsmuseum.org/osd.xml\n",
        "\tCatalog searchTerms: "
       ]
      },
      {
       "output_type": "stream",
       "stream": "stdout",
       "text": [
        " {'s': 'searchTerms'}\n",
        "\tExample queries:  ['photography']\n",
        "\tProcessing http://highplainsmuseum.org/?feed=atom&s=\n",
        "\t\tRequested 5 out of Unknown"
       ]
      },
      {
       "output_type": "stream",
       "stream": "stdout",
       "text": [
        "\n",
        "\t\tCatalog reference:  http://highplainsmuseum.org/osd.xml\n",
        "\t\tProcessing http://highplainsmuseum.org/?feed=atom&s=photography\n",
        "\t\tRequested 5 out of Unknown"
       ]
      },
      {
       "output_type": "stream",
       "stream": "stdout",
       "text": [
        "\n",
        "Processing http://housing.colostate.edu/SearchEngineInfo.ashx\n",
        "\tCatalog searchTerms: "
       ]
      },
      {
       "output_type": "stream",
       "stream": "stdout",
       "text": [
        " {'q': 'searchTerms'}\n",
        "\tExample queries:  []\n",
        "\tProcessing http://housing.colostate.edu/SearchResults.ashx?q=\n",
        "\t\tRequested 20 out of 0\n",
        "\t\tCatalog reference:  http://housing.colostate.edu/SearchEngineInfo.ashx\n",
        "Processing http://html5apps-project.eu/osd.xml\n",
        "\tCatalog searchTerms: "
       ]
      },
      {
       "output_type": "stream",
       "stream": "stdout",
       "text": [
        " {'s': 'searchTerms'}\n",
        "\tExample queries:  ['photography']\n",
        "\tProcessing http://html5apps-project.eu/?feed=atom&s=\n",
        "\t\tRequested 5 out of Unknown"
       ]
      },
      {
       "output_type": "stream",
       "stream": "stdout",
       "text": [
        "\n",
        "\t\tCatalog reference:  http://html5apps-project.eu/osd.xml\n",
        "\t\tProcessing http://html5apps-project.eu/?feed=atom&s=photography\n",
        "\t\tRequested 0 out of Unknown"
       ]
      },
      {
       "output_type": "stream",
       "stream": "stdout",
       "text": [
        "\n",
        "Processing http://idn.ceos.org/KeywordSearch/default/openSearch.jsp?Portal=idn_ceos\n",
        "\tCatalog searchTerms: "
       ]
      },
      {
       "output_type": "stream",
       "stream": "stdout",
       "text": [
        " {'searchTerms': 'searchTerms'}\n",
        "\tExample queries:  ['modis']\n",
        "\tProcessing http://gcmd.gsfc.nasa.gov/KeywordSearch/OpenSearch.do?count=5&output=atom&MetadataType=0&Portal=idn_ceos&clientId=fromgcmd&searchTerms=\n",
        "\t\tEmpty response!"
       ]
      },
      {
       "output_type": "stream",
       "stream": "stdout",
       "text": [
        "\n",
        "\t\tHTML response\n",
        "Processing http://inthelightofhumanenature.org/osd.xml\n",
        "\tCatalog searchTerms: "
       ]
      },
      {
       "output_type": "stream",
       "stream": "stdout",
       "text": [
        " {'s': 'searchTerms'}\n",
        "\tExample queries:  ['photography']\n",
        "\tProcessing http://inthelightofhumanenature.org/?feed=atom&s=\n",
        "\t\tRequested 9 out of Unknown"
       ]
      },
      {
       "output_type": "stream",
       "stream": "stdout",
       "text": [
        "\n",
        "\t\tCatalog reference:  http://inthelightofhumanenature.org/osd.xml\n",
        "\t\tProcessing http://inthelightofhumanenature.org/?feed=atom&s=photography\n",
        "\t\tRequested 0 out of Unknown"
       ]
      },
      {
       "output_type": "stream",
       "stream": "stdout",
       "text": [
        "\n",
        "Processing http://is4oa.org/osd.xml\n",
        "\tCatalog searchTerms: "
       ]
      },
      {
       "output_type": "stream",
       "stream": "stdout",
       "text": [
        " {'s': 'searchTerms'}\n",
        "\tExample queries:  ['photography']\n",
        "\tProcessing http://is4oa.org/?feed=atom&s=\n",
        "\t\tRequested 10 out of Unknown"
       ]
      },
      {
       "output_type": "stream",
       "stream": "stdout",
       "text": [
        "\n",
        "\t\tCatalog reference:  http://is4oa.org/osd.xml\n",
        "\t\tProcessing http://is4oa.org/?feed=atom&s=photography\n",
        "\t\tRequested 0 out of Unknown"
       ]
      },
      {
       "output_type": "stream",
       "stream": "stdout",
       "text": [
        "\n",
        "Processing http://itsgettinghotinhere.org/osd.xml\n",
        "\tFailed request"
       ]
      },
      {
       "output_type": "stream",
       "stream": "stdout",
       "text": [
        "\n",
        "Processing http://jobs.rsc.org/opensearch/\n",
        "\tFailed to extract Urls: likely rss+xml instead"
       ]
      },
      {
       "output_type": "stream",
       "stream": "stdout",
       "text": [
        "\n",
        "Processing http://jobs.sciencecareers.org/opensearch/\n",
        "\tFailed to extract Urls: likely rss+xml instead"
       ]
      },
      {
       "output_type": "stream",
       "stream": "stdout",
       "text": [
        "\n",
        "Processing http://jobs.theguardian.com/opensearch/\n",
        "\tFailed to extract Urls: likely rss+xml instead"
       ]
      },
      {
       "output_type": "stream",
       "stream": "stdout",
       "text": [
        "\n",
        "Processing http://journals.cambridge.org/jsp/cjo/help/cjo.xml\n",
        "\tFailed to extract Urls: likely rss+xml instead"
       ]
      },
      {
       "output_type": "stream",
       "stream": "stdout",
       "text": [
        "\n",
        "Processing http://json-rpc.org/search/opensearch\n",
        "\tFailed to extract Urls: likely rss+xml instead"
       ]
      },
      {
       "output_type": "stream",
       "stream": "stdout",
       "text": [
        "\n",
        "Processing http://kaiserhealthnews.org/osd.xml\n",
        "\tCatalog searchTerms: "
       ]
      },
      {
       "output_type": "stream",
       "stream": "stdout",
       "text": [
        " {'s': 'searchTerms'}\n",
        "\tExample queries:  ['photography']\n",
        "\tProcessing http://kaiserhealthnews.org/?feed=atom&s=\n",
        "\t\tRequested 10 out of Unknown"
       ]
      },
      {
       "output_type": "stream",
       "stream": "stdout",
       "text": [
        "\n",
        "\t\tCatalog reference:  http://kaiserhealthnews.org/osd.xml\n",
        "\t\tProcessing http://kaiserhealthnews.org/?feed=atom&s=photography\n",
        "\t\tRequested 10 out of Unknown"
       ]
      },
      {
       "output_type": "stream",
       "stream": "stdout",
       "text": [
        "\n",
        "Processing http://kulturmasche.com/osd.xml\n",
        "\tCatalog searchTerms: "
       ]
      },
      {
       "output_type": "stream",
       "stream": "stdout",
       "text": [
        " {'s': 'searchTerms'}\n",
        "\tExample queries:  ['photography']\n",
        "\tProcessing http://kulturmasche.com/?feed=atom&s=\n",
        "\t\tRequested 10 out of Unknown"
       ]
      },
      {
       "output_type": "stream",
       "stream": "stdout",
       "text": [
        "\n",
        "\t\tCatalog reference:  http://kulturmasche.com/osd.xml\n",
        "\t\tProcessing http://kulturmasche.com/?feed=atom&s=photography\n",
        "\t\tRequested 0 out of Unknown"
       ]
      },
      {
       "output_type": "stream",
       "stream": "stdout",
       "text": [
        "\n",
        "Processing http://ladsweb.nascom.nasa.gov/data/dataset_opensearch.xml\n",
        "\tCatalog searchTerms: "
       ]
      },
      {
       "output_type": "stream",
       "stream": "stdout",
       "text": [
        " {'pattern': 'searchTerms'}\n",
        "\tExample queries:  ['adjusted reflectance']\n",
        "\tProcessing http://modwebsrv.modaps.eosdis.nasa.gov/axis2/services/MODAPSservices/searchDatasets?pattern=\n",
        "\t\tFailed request: 500"
       ]
      },
      {
       "output_type": "stream",
       "stream": "stdout",
       "text": [
        "\n",
        "Processing http://ladsweb.nascom.nasa.gov/data/opensearch.xml\n",
        "\tFailed to extract Urls: likely rss+xml instead"
       ]
      },
      {
       "output_type": "stream",
       "stream": "stdout",
       "text": [
        "\n",
        "Processing http://leon.bottou.org/lib/exe/opensearch.php\n",
        "\tFailed to extract Urls: likely rss+xml instead"
       ]
      },
      {
       "output_type": "stream",
       "stream": "stdout",
       "text": [
        "\n",
        "Processing http://lib.icimod.org/opensearchdescription\n",
        "\tFailed to extract Urls: likely rss+xml instead"
       ]
      },
      {
       "output_type": "stream",
       "stream": "stdout",
       "text": [
        "\n",
        "Processing http://lostsouls.org/search.xml\n",
        "\tFailed to extract Urls: likely rss+xml instead"
       ]
      },
      {
       "output_type": "stream",
       "stream": "stdout",
       "text": [
        "\n",
        "Processing http://marcrogers.org/osd.xml\n",
        "\tCatalog searchTerms: "
       ]
      },
      {
       "output_type": "stream",
       "stream": "stdout",
       "text": [
        " {'s': 'searchTerms'}\n",
        "\tExample queries:  ['photography']\n",
        "\tProcessing http://marcrogers.org/?feed=atom&s=\n",
        "\t\tRequested 10 out of Unknown"
       ]
      },
      {
       "output_type": "stream",
       "stream": "stdout",
       "text": [
        "\n",
        "\t\tCatalog reference:  http://marcrogers.org/osd.xml\n",
        "\t\tProcessing http://marcrogers.org/?feed=atom&s=photography\n",
        "\t\tRequested 0 out of Unknown"
       ]
      },
      {
       "output_type": "stream",
       "stream": "stdout",
       "text": [
        "\n",
        "Processing http://matplotlib.org/_static/opensearch.xml\n",
        "\tFailed to extract Urls: likely rss+xml instead"
       ]
      },
      {
       "output_type": "stream",
       "stream": "stdout",
       "text": [
        "\n",
        "Processing http://members.aas.org/services/OpenSearch.aspx\n",
        "\tFailed to extract Urls: likely rss+xml instead"
       ]
      },
      {
       "output_type": "stream",
       "stream": "stdout",
       "text": [
        "\n",
        "Processing http://members.tei-c.org/opensearch.ashx\n",
        "\tFailed to extract Urls: likely rss+xml instead"
       ]
      },
      {
       "output_type": "stream",
       "stream": "stdout",
       "text": [
        "\n",
        "Processing http://mhcten.mtholyoke.edu/osd.xml\n",
        "\tCatalog searchTerms: "
       ]
      },
      {
       "output_type": "stream",
       "stream": "stdout",
       "text": [
        " {'s': 'searchTerms'}\n",
        "\tExample queries:  ['photography']\n",
        "\tProcessing http://mhcten.mtholyoke.edu/?feed=atom&s=\n",
        "\t\tRequested 10 out of Unknown"
       ]
      },
      {
       "output_type": "stream",
       "stream": "stdout",
       "text": [
        "\n",
        "\t\tCatalog reference:  http://mhcten.mtholyoke.edu/osd.xml\n",
        "\t\tProcessing http://mhcten.mtholyoke.edu/?feed=atom&s=photography\n",
        "\t\tRequested 1 out of Unknown"
       ]
      },
      {
       "output_type": "stream",
       "stream": "stdout",
       "text": [
        "\n",
        "Processing http://mobiwebapp.eu/osd.xml\n",
        "\tCatalog searchTerms: "
       ]
      },
      {
       "output_type": "stream",
       "stream": "stdout",
       "text": [
        " {'s': 'searchTerms'}\n",
        "\tExample queries:  ['photography']\n",
        "\tProcessing http://mobiwebapp.eu/?feed=atom&s=\n",
        "\t\tRequested 10 out of Unknown"
       ]
      },
      {
       "output_type": "stream",
       "stream": "stdout",
       "text": [
        "\n",
        "\t\tCatalog reference:  http://mobiwebapp.eu/osd.xml\n",
        "\t\tProcessing http://mobiwebapp.eu/?feed=atom&s=photography\n",
        "\t\tRequested 1 out of Unknown"
       ]
      },
      {
       "output_type": "stream",
       "stream": "stdout",
       "text": [
        "\n",
        "Processing http://modwebsrv.modaps.eosdis.nasa.gov/axis2/services/MODAPSservices/getOSDD?product=MOB02CRT\n",
        "\tFailed to extract Urls: likely rss+xml instead"
       ]
      },
      {
       "output_type": "stream",
       "stream": "stdout",
       "text": [
        "\n",
        "Processing http://nacc.colostate.edu/SearchEngineInfo.ashx\n",
        "\tCatalog searchTerms:  {'q': 'searchTerms'}\n",
        "\tExample queries:  []\n",
        "\tProcessing http://nacc.colostate.edu/SearchResults.ashx?q=\n",
        "\t\tRequested 20 out of 0"
       ]
      },
      {
       "output_type": "stream",
       "stream": "stdout",
       "text": [
        "\n",
        "\t\tCatalog reference:  http://nacc.colostate.edu/SearchEngineInfo.ashx\n",
        "Processing http://netimpactboston.org/osd.xml\n",
        "\tCatalog searchTerms: "
       ]
      },
      {
       "output_type": "stream",
       "stream": "stdout",
       "text": [
        " {'s': 'searchTerms'}\n",
        "\tExample queries:  ['photography']\n",
        "\tProcessing http://netimpactboston.org/?feed=atom&s=\n",
        "\t\tRequested 4 out of Unknown"
       ]
      },
      {
       "output_type": "stream",
       "stream": "stdout",
       "text": [
        "\n",
        "\t\tCatalog reference:  http://netimpactboston.org/osd.xml\n",
        "\t\tProcessing http://netimpactboston.org/?feed=atom&s=photography\n",
        "\t\tRequested 0 out of Unknown"
       ]
      },
      {
       "output_type": "stream",
       "stream": "stdout",
       "text": [
        "\n",
        "Processing http://ngdc.noaa.gov/geoportal/openSearchDescription\n",
        "\tFailed to extract Urls: likely rss+xml instead\n",
        "Processing http://nwrwic.org/osd.xml\n",
        "\tCatalog searchTerms: "
       ]
      },
      {
       "output_type": "stream",
       "stream": "stdout",
       "text": [
        " {'s': 'searchTerms'}\n",
        "\tExample queries:  ['photography']\n",
        "\tProcessing http://nwrwic.org/?feed=atom&s=\n",
        "\t\tRequested 10 out of Unknown"
       ]
      },
      {
       "output_type": "stream",
       "stream": "stdout",
       "text": [
        "\n",
        "\t\tCatalog reference:  http://nwrwic.org/osd.xml\n",
        "\t\tProcessing http://nwrwic.org/?feed=atom&s=photography\n",
        "\t\tRequested 4 out of Unknown"
       ]
      },
      {
       "output_type": "stream",
       "stream": "stdout",
       "text": [
        "\n",
        "Processing http://nwsidebar.wsba.org/osd.xml\n",
        "\tCatalog searchTerms: "
       ]
      },
      {
       "output_type": "stream",
       "stream": "stdout",
       "text": [
        " {'s': 'searchTerms'}\n",
        "\tExample queries:  ['photography']\n",
        "\tProcessing http://nwsidebar.wsba.org/?feed=atom&s=\n",
        "\t\tRequested 10 out of Unknown"
       ]
      },
      {
       "output_type": "stream",
       "stream": "stdout",
       "text": [
        "\n",
        "\t\tCatalog reference:  http://nwsidebar.wsba.org/osd.xml\n",
        "\t\tProcessing http://nwsidebar.wsba.org/?feed=atom&s=photography\n",
        "\t\tRequested 1 out of Unknown"
       ]
      },
      {
       "output_type": "stream",
       "stream": "stdout",
       "text": [
        "\n",
        "Processing http://opendata.stackexchange.com/opensearch.xml\n",
        "\tFailed to extract Urls: likely rss+xml instead"
       ]
      },
      {
       "output_type": "stream",
       "stream": "stdout",
       "text": [
        "\n",
        "Processing http://openwetware.org/opensearch_desc.php\n",
        "\tFailed to extract Urls: likely rss+xml instead"
       ]
      },
      {
       "output_type": "stream",
       "stream": "stdout",
       "text": [
        "\n",
        "Processing http://oxsync.chem.ox.ac.uk/SearchEngineInfo.ashx\n",
        "\tCatalog searchTerms: "
       ]
      },
      {
       "output_type": "stream",
       "stream": "stdout",
       "text": [
        " {'q': 'searchTerms'}\n",
        "\tExample queries:  []\n",
        "\tProcessing http://oxsync.chem.ox.ac.uk/SearchResults.ashx?q=\n",
        "\t\tRequested 10 out of 0"
       ]
      },
      {
       "output_type": "stream",
       "stream": "stdout",
       "text": [
        "\n",
        "\t\tCatalog reference:  http://oxsync.chem.ox.ac.uk/SearchEngineInfo.ashx\n",
        "Processing http://perldoc.perl.org/static/search.xml\n",
        "\tFailed to extract Urls: likely rss+xml instead"
       ]
      },
      {
       "output_type": "stream",
       "stream": "stdout",
       "text": [
        "\n",
        "Processing http://physicsfrontline.aps.org/osd.xml\n",
        "\tCatalog searchTerms: "
       ]
      },
      {
       "output_type": "stream",
       "stream": "stdout",
       "text": [
        " {'s': 'searchTerms'}\n",
        "\tExample queries:  ['photography']\n",
        "\tProcessing http://physicsfrontline.aps.org/?feed=atom&s=\n",
        "\t\tRequested 10 out of Unknown"
       ]
      },
      {
       "output_type": "stream",
       "stream": "stdout",
       "text": [
        "\n",
        "\t\tCatalog reference:  http://physicsfrontline.aps.org/osd.xml\n",
        "\t\tProcessing http://physicsfrontline.aps.org/?feed=atom&s=photography\n",
        "\t\tRequested 0 out of Unknown"
       ]
      },
      {
       "output_type": "stream",
       "stream": "stdout",
       "text": [
        "\n",
        "Processing http://portal.oceannet.org/search/opensearch/catalogue/full.xml\n",
        "\tCatalog searchTerms: "
       ]
      },
      {
       "output_type": "stream",
       "stream": "stdout",
       "text": [
        " {'q': 'searchTerms'}\n",
        "\tExample queries:  ['cat']\n",
        "\tProcessing http://portal.oceannet.org/search/full/catalogue.atom?c=5&q=\n",
        "\t\tRequested 5 out of 9,552"
       ]
      },
      {
       "output_type": "stream",
       "stream": "stdout",
       "text": [
        "\n",
        "\t\tCatalog reference:  http://portal.oceannet.org/search/opensearch/catalogue/full.xml\n",
        "\t\tProcessing http://portal.oceannet.org/search/full/catalogue.atom?c=5&q=cat\n",
        "\t\tRequested 5 out of 7"
       ]
      },
      {
       "output_type": "stream",
       "stream": "stdout",
       "text": [
        "\n",
        "Processing http://portal.oceannet.org/search/opensearch/catalogue/light.xml\n",
        "\tCatalog searchTerms: "
       ]
      },
      {
       "output_type": "stream",
       "stream": "stdout",
       "text": [
        " {'q': 'searchTerms'}\n",
        "\tExample queries:  ['cat']\n",
        "\tProcessing http://portal.oceannet.org/search/light/catalogue.atom?c=5&q=\n",
        "\t\tRequested 5 out of 9,552"
       ]
      },
      {
       "output_type": "stream",
       "stream": "stdout",
       "text": [
        "\n",
        "\t\tCatalog reference:  http://portal.oceannet.org/search/opensearch/catalogue/light.xml\n",
        "\t\tProcessing http://portal.oceannet.org/search/light/catalogue.atom?c=5&q=cat\n",
        "\t\tRequested 5 out of 7"
       ]
      },
      {
       "output_type": "stream",
       "stream": "stdout",
       "text": [
        "\n",
        "Processing http://proj.badc.rl.ac.uk/cedaservices/search/opensearch\n",
        "\tFailed to extract Urls: likely rss+xml instead"
       ]
      },
      {
       "output_type": "stream",
       "stream": "stdout",
       "text": [
        "\n",
        "Processing http://proj.badc.rl.ac.uk/mirp/search/opensearch\n",
        "\tFailed to extract Urls: likely rss+xml instead"
       ]
      },
      {
       "output_type": "stream",
       "stream": "stdout",
       "text": [
        "\n",
        "Processing http://proj.badc.rl.ac.uk/preparde/search/opensearch\n",
        "\tFailed to extract Urls: likely rss+xml instead"
       ]
      },
      {
       "output_type": "stream",
       "stream": "stdout",
       "text": [
        "\n",
        "Processing http://projecthydra.org/osd.xml\n",
        "\tCatalog searchTerms: "
       ]
      },
      {
       "output_type": "stream",
       "stream": "stdout",
       "text": [
        " {'s': 'searchTerms'}\n",
        "\tExample queries:  ['photography']\n",
        "\tProcessing http://projecthydra.org/?feed=atom&s=\n",
        "\t\tRequested 10 out of Unknown"
       ]
      },
      {
       "output_type": "stream",
       "stream": "stdout",
       "text": [
        "\n",
        "\t\tCatalog reference:  http://projecthydra.org/osd.xml\n",
        "\t\tProcessing http://projecthydra.org/?feed=atom&s=photography\n",
        "\t\tRequested 0 out of Unknown"
       ]
      },
      {
       "output_type": "stream",
       "stream": "stdout",
       "text": [
        "\n",
        "Processing http://protect-your-home.org/osd.xml\n",
        "\tCatalog searchTerms: "
       ]
      },
      {
       "output_type": "stream",
       "stream": "stdout",
       "text": [
        " {'s': 'searchTerms'}\n",
        "\tExample queries:  ['photography']\n",
        "\tProcessing http://protect-your-home.org/?feed=atom&s=\n",
        "\t\tRequested 10 out of Unknown"
       ]
      },
      {
       "output_type": "stream",
       "stream": "stdout",
       "text": [
        "\n",
        "\t\tCatalog reference:  http://protect-your-home.org/osd.xml\n",
        "\t\tProcessing http://protect-your-home.org/?feed=atom&s=photography\n",
        "\t\tRequested 0 out of Unknown"
       ]
      },
      {
       "output_type": "stream",
       "stream": "stdout",
       "text": [
        "\n",
        "Processing http://pubs.er.usgs.gov/opensearch.xml\n",
        "\tFailed to extract Urls: likely rss+xml instead"
       ]
      },
      {
       "output_type": "stream",
       "stream": "stdout",
       "text": [
        "\n",
        "Processing http://pyyaml.org/search/opensearch\n",
        "\tFailed to extract Urls: likely rss+xml instead"
       ]
      },
      {
       "output_type": "stream",
       "stream": "stdout",
       "text": [
        "\n",
        "Processing http://qutecom.org/search/opensearch\n",
        "\tFailed request"
       ]
      },
      {
       "output_type": "stream",
       "stream": "stdout",
       "text": [
        "\n",
        "Processing http://ragenglewood.org/osd.xml\n",
        "\tCatalog searchTerms: "
       ]
      },
      {
       "output_type": "stream",
       "stream": "stdout",
       "text": [
        " {'s': 'searchTerms'}\n",
        "\tExample queries:  ['photography']\n",
        "\tProcessing http://ragenglewood.org/?feed=atom&s=\n",
        "\t\tRequested 10 out of Unknown"
       ]
      },
      {
       "output_type": "stream",
       "stream": "stdout",
       "text": [
        "\n",
        "\t\tCatalog reference:  http://ragenglewood.org/osd.xml\n",
        "\t\tProcessing http://ragenglewood.org/?feed=atom&s=photography\n",
        "\t\tRequested 0 out of Unknown"
       ]
      },
      {
       "output_type": "stream",
       "stream": "stdout",
       "text": [
        "\n",
        "Processing http://refbase.arl.noaa.gov/opensearch.php?operation=explain\n",
        "\tCatalog searchTerms: "
       ]
      },
      {
       "output_type": "stream",
       "stream": "stdout",
       "text": [
        " {'query': 'searchTerms'}\n",
        "\tExample queries:  ['Miller']\n",
        "\tProcessing http://refbase.arl.noaa.gov/opensearch.php?maximumRecords=5&recordSchema=atom&query=\n",
        "\t\tInvalid XML"
       ]
      },
      {
       "output_type": "stream",
       "stream": "stdout",
       "text": [
        "\n",
        "\t\tProcessing http://refbase.arl.noaa.gov/opensearch.php?maximumRecords=5&recordSchema=atom&query=Miller\n",
        "\t\tHTML response"
       ]
      },
      {
       "output_type": "stream",
       "stream": "stdout",
       "text": [
        "\n",
        "Processing http://research-repository.st-andrews.ac.uk/open-search/description.xml\n",
        "\tSkipping connection issues"
       ]
      },
      {
       "output_type": "stream",
       "stream": "stdout",
       "text": [
        "\n",
        "Processing http://richard.esplins.org/opensearch.xml\n",
        "\tFailed to extract Urls: likely rss+xml instead"
       ]
      },
      {
       "output_type": "stream",
       "stream": "stdout",
       "text": [
        "\n",
        "Processing http://sas.rutgers.edu/component/search/?format=opensearch\n",
        "\tFailed to extract Urls: likely rss+xml instead"
       ]
      },
      {
       "output_type": "stream",
       "stream": "stdout",
       "text": [
        "\n",
        "Processing http://science-center.org/Search?format=opensearch&id=46\n",
        "\tFailed to extract Urls: likely rss+xml instead"
       ]
      },
      {
       "output_type": "stream",
       "stream": "stdout",
       "text": [
        "\n",
        "Processing http://scienceunderthestars.org/osd.xml\n",
        "\tCatalog searchTerms: "
       ]
      },
      {
       "output_type": "stream",
       "stream": "stdout",
       "text": [
        " {'s': 'searchTerms'}\n",
        "\tExample queries:  ['photography']\n",
        "\tProcessing http://scienceunderthestars.org/?feed=atom&s=\n",
        "\t\tRequested 10 out of Unknown"
       ]
      },
      {
       "output_type": "stream",
       "stream": "stdout",
       "text": [
        "\n",
        "\t\tCatalog reference:  http://scienceunderthestars.org/osd.xml\n",
        "\t\tProcessing http://scienceunderthestars.org/?feed=atom&s=photography\n",
        "\t\tRequested 2 out of Unknown"
       ]
      },
      {
       "output_type": "stream",
       "stream": "stdout",
       "text": [
        "\n",
        "Processing http://search.creativecommons.org/ccsearch.xml\n",
        "\tFailed to extract Urls: likely rss+xml instead"
       ]
      },
      {
       "output_type": "stream",
       "stream": "stdout",
       "text": [
        "\n",
        "Processing http://search.crossref.org/opensearch.xml\n",
        "\tFailed to extract Urls: likely rss+xml instead"
       ]
      },
      {
       "output_type": "stream",
       "stream": "stdout",
       "text": [
        "\n",
        "Processing http://search.warwick.ac.uk/static/search/osd.xml\n",
        "\tCatalog searchTerms: "
       ]
      },
      {
       "output_type": "stream",
       "stream": "stdout",
       "text": [
        " {'q': 'searchTerms'}\n",
        "\tExample queries:  ['undergraduate']\n",
        "\tProcessing http://search.warwick.ac.uk/atom?indexSection=sitebuilder&q=\n",
        "\t\tRequested 20 out of 0"
       ]
      },
      {
       "output_type": "stream",
       "stream": "stdout",
       "text": [
        "\n",
        "\t\tCatalog reference:  http://search.warwick.ac.uk/static/search/osd.xml\n",
        "\t\tProcessing http://search.warwick.ac.uk/atom?indexSection=sitebuilder&q=undergraduate\n",
        "\t\tRequested 20 out of 12,411"
       ]
      },
      {
       "output_type": "stream",
       "stream": "stdout",
       "text": [
        "\n",
        "Processing http://softlibre.gloobe.org/lib/exe/opensearch.php\n",
        "\tFailed to extract Urls: likely rss+xml instead"
       ]
      },
      {
       "output_type": "stream",
       "stream": "stdout",
       "text": [
        "\n",
        "Processing http://south.aeracode.org/search/opensearch\n",
        "\tFailed to extract Urls: likely rss+xml instead"
       ]
      },
      {
       "output_type": "stream",
       "stream": "stdout",
       "text": [
        "\n",
        "Processing http://sowiport.gesis.org/Search/OpenSearch\n",
        "\tFailed to extract Urls: likely rss+xml instead"
       ]
      },
      {
       "output_type": "stream",
       "stream": "stdout",
       "text": [
        "\n",
        "Processing http://sphinx-doc.org/latest/_static/opensearch.xml\n",
        "\tFailed to extract Urls: likely rss+xml instead"
       ]
      },
      {
       "output_type": "stream",
       "stream": "stdout",
       "text": [
        "\n",
        "Processing http://stackoverflow.com/opensearch.xml\n",
        "\tFailed to extract Urls: likely rss+xml instead"
       ]
      },
      {
       "output_type": "stream",
       "stream": "stdout",
       "text": [
        "\n",
        "Processing http://sumasa.org/osd.xml\n",
        "\tCatalog searchTerms: "
       ]
      },
      {
       "output_type": "stream",
       "stream": "stdout",
       "text": [
        " {'s': 'searchTerms'}\n",
        "\tExample queries:  ['photography']\n",
        "\tProcessing http://sumasa.org/?feed=atom&s=\n",
        "\t\tRequested 10 out of Unknown"
       ]
      },
      {
       "output_type": "stream",
       "stream": "stdout",
       "text": [
        "\n",
        "\t\tCatalog reference:  http://sumasa.org/osd.xml\n",
        "\t\tProcessing http://sumasa.org/?feed=atom&s=photography\n",
        "\t\tRequested 5 out of Unknown"
       ]
      },
      {
       "output_type": "stream",
       "stream": "stdout",
       "text": [
        "\n",
        "Processing http://texaspipelinewatch.org/osd.xml\n",
        "\tCatalog searchTerms: "
       ]
      },
      {
       "output_type": "stream",
       "stream": "stdout",
       "text": [
        " {'s': 'searchTerms'}\n",
        "\tExample queries:  ['photography']\n",
        "\tProcessing http://texaspipelinewatch.org/?feed=atom&s=\n",
        "\t\tRequested 10 out of Unknown"
       ]
      },
      {
       "output_type": "stream",
       "stream": "stdout",
       "text": [
        "\n",
        "\t\tCatalog reference:  http://texaspipelinewatch.org/osd.xml\n",
        "\t\tProcessing http://texaspipelinewatch.org/?feed=atom&s=photography\n",
        "\t\tRequested 0 out of Unknown"
       ]
      },
      {
       "output_type": "stream",
       "stream": "stdout",
       "text": [
        "\n",
        "Processing http://theritualproject.org/osd.xml\n",
        "\tCatalog searchTerms: "
       ]
      },
      {
       "output_type": "stream",
       "stream": "stdout",
       "text": [
        " {'s': 'searchTerms'}\n",
        "\tExample queries:  ['photography']\n",
        "\tProcessing http://theritualproject.org/?feed=atom&s=\n",
        "\t\tRequested 10 out of Unknown"
       ]
      },
      {
       "output_type": "stream",
       "stream": "stdout",
       "text": [
        "\n",
        "\t\tCatalog reference:  http://theritualproject.org/osd.xml\n",
        "\t\tProcessing http://theritualproject.org/?feed=atom&s=photography\n",
        "\t\tRequested 0 out of Unknown"
       ]
      },
      {
       "output_type": "stream",
       "stream": "stdout",
       "text": [
        "\n",
        "Processing http://thunderbird.markmail.org/BrowserPlugins/markmail.xml\n",
        "\tFailed to extract Urls: likely rss+xml instead"
       ]
      },
      {
       "output_type": "stream",
       "stream": "stdout",
       "text": [
        "\n",
        "Processing http://tools.ietf.org/group/irtf/trac/search/opensearch\n",
        "\tFailed to extract Urls: likely rss+xml instead"
       ]
      },
      {
       "output_type": "stream",
       "stream": "stdout",
       "text": [
        "\n",
        "Processing http://tools.ietf.org/group/tools/trac/search/opensearch\n",
        "\tFailed to extract Urls: likely rss+xml instead"
       ]
      },
      {
       "output_type": "stream",
       "stream": "stdout",
       "text": [
        "\n",
        "Processing http://tools.ietf.org/wg/httpbis/trac/search/opensearch\n",
        "\tFailed to extract Urls: likely rss+xml instead"
       ]
      },
      {
       "output_type": "stream",
       "stream": "stdout",
       "text": [
        "\n",
        "Processing http://trac.ckan.org/search/opensearch\n",
        "\tFailed to extract Urls: likely rss+xml instead"
       ]
      },
      {
       "output_type": "stream",
       "stream": "stdout",
       "text": [
        "\n",
        "Processing http://trac.ffmpeg.org/search/opensearch\n",
        "\tFailed to extract Urls: likely rss+xml instead"
       ]
      },
      {
       "output_type": "stream",
       "stream": "stdout",
       "text": [
        "\n",
        "Processing http://trac.marineopec.eu/search/opensearch\n",
        "\tFailed to extract Urls: likely rss+xml instead"
       ]
      },
      {
       "output_type": "stream",
       "stream": "stdout",
       "text": [
        "\n",
        "Processing http://trac.osgeo.org/gdal/search/opensearch\n",
        "\tFailed to extract Urls: likely rss+xml instead"
       ]
      },
      {
       "output_type": "stream",
       "stream": "stdout",
       "text": [
        "\n",
        "Processing http://trac.osgeo.org/geotiff/search/opensearch\n",
        "\tFailed to extract Urls: likely rss+xml instead"
       ]
      },
      {
       "output_type": "stream",
       "stream": "stdout",
       "text": [
        "\n",
        "Processing http://trac.osgeo.org/mapserver/search/opensearch\n",
        "\tFailed to extract Urls: likely rss+xml instead"
       ]
      },
      {
       "output_type": "stream",
       "stream": "stdout",
       "text": [
        "\n",
        "Processing http://trac.osgeo.org/osgeo4w/search/opensearch\n",
        "\tFailed to extract Urls: likely rss+xml instead"
       ]
      },
      {
       "output_type": "stream",
       "stream": "stdout",
       "text": [
        "\n",
        "Processing http://trac.osgeo.org/ossim/search/opensearch\n",
        "\tFailed to extract Urls: likely rss+xml instead"
       ]
      },
      {
       "output_type": "stream",
       "stream": "stdout",
       "text": [
        "\n",
        "Processing http://trac.osgeo.org/proj/search/opensearch\n",
        "\tFailed to extract Urls: likely rss+xml instead"
       ]
      },
      {
       "output_type": "stream",
       "stream": "stdout",
       "text": [
        "\n",
        "Processing http://trac.tools.ietf.org/bof/trac/search/opensearch\n",
        "\tFailed to extract Urls: likely rss+xml instead"
       ]
      },
      {
       "output_type": "stream",
       "stream": "stdout",
       "text": [
        "\n",
        "Processing http://trac.tools.ietf.org/group/tools/trac/search/opensearch\n",
        "\tFailed to extract Urls: likely rss+xml instead"
       ]
      },
      {
       "output_type": "stream",
       "stream": "stdout",
       "text": [
        "\n",
        "Processing http://transitfuture.org/osd.xml\n",
        "\tCatalog searchTerms: "
       ]
      },
      {
       "output_type": "stream",
       "stream": "stdout",
       "text": [
        " {'s': 'searchTerms'}\n",
        "\tExample queries:  ['photography']\n",
        "\tProcessing http://transitfuture.org/?feed=atom&s=\n",
        "\t\tRequested 10 out of Unknown"
       ]
      },
      {
       "output_type": "stream",
       "stream": "stdout",
       "text": [
        "\n",
        "\t\tCatalog reference:  http://transitfuture.org/osd.xml\n",
        "\t\tProcessing http://transitfuture.org/?feed=atom&s=photography\n",
        "\t\tRequested 0 out of Unknown"
       ]
      },
      {
       "output_type": "stream",
       "stream": "stdout",
       "text": [
        "\n",
        "Processing http://uaf.nodc.noaa.gov/geoportal/openSearchDescription\n",
        "\tCatalog searchTerms: "
       ]
      },
      {
       "output_type": "stream",
       "stream": "stdout",
       "text": [
        " {'searchText': 'searchTerms'}\n",
        "\tExample queries:  ['land']\n",
        "\tProcessing http://uaf.nodc.noaa.gov/geoportal/rest/find/document?max=5&f=atom&searchText=\n",
        "\t\tRequested 5 out of 1,375,209"
       ]
      },
      {
       "output_type": "stream",
       "stream": "stdout",
       "text": [
        "\n",
        "\t\tCatalog reference:  Not found\n",
        "\t\tProcessing http://uaf.nodc.noaa.gov/geoportal/rest/find/document?max=5&f=atom&searchText=land\n",
        "\t\tRequested 5 out of 62,809"
       ]
      },
      {
       "output_type": "stream",
       "stream": "stdout",
       "text": [
        "\n",
        "Processing http://uasreno.org/osd.xml\n",
        "\tCatalog searchTerms: "
       ]
      },
      {
       "output_type": "stream",
       "stream": "stdout",
       "text": [
        " {'s': 'searchTerms'}\n",
        "\tExample queries:  ['photography']\n",
        "\tProcessing http://uasreno.org/?feed=atom&s=\n",
        "\t\tRequested 10 out of Unknown"
       ]
      },
      {
       "output_type": "stream",
       "stream": "stdout",
       "text": [
        "\n",
        "\t\tCatalog reference:  http://uasreno.org/osd.xml\n",
        "\t\tProcessing http://uasreno.org/?feed=atom&s=photography\n",
        "\t\tRequested 1 out of Unknown"
       ]
      },
      {
       "output_type": "stream",
       "stream": "stdout",
       "text": [
        "\n",
        "Processing http://udspace.udel.edu/open-search/description.xml\n",
        "\tFailed to extract Urls: likely rss+xml instead"
       ]
      },
      {
       "output_type": "stream",
       "stream": "stdout",
       "text": [
        "\n",
        "Processing http://unheardvoicesproject.org/osd.xml\n",
        "\tCatalog searchTerms: "
       ]
      },
      {
       "output_type": "stream",
       "stream": "stdout",
       "text": [
        " {'s': 'searchTerms'}\n",
        "\tExample queries:  ['photography']\n",
        "\tProcessing http://unheardvoicesproject.org/?feed=atom&s=\n",
        "\t\tRequested 10 out of Unknown"
       ]
      },
      {
       "output_type": "stream",
       "stream": "stdout",
       "text": [
        "\n",
        "\t\tCatalog reference:  http://unheardvoicesproject.org/osd.xml\n",
        "\t\tProcessing http://unheardvoicesproject.org/?feed=atom&s=photography\n",
        "\t\tRequested 0 out of Unknown"
       ]
      },
      {
       "output_type": "stream",
       "stream": "stdout",
       "text": [
        "\n",
        "Processing http://viaf.org/allFieldsSearch.xml\n",
        "\tFailed to extract Urls: likely rss+xml instead"
       ]
      },
      {
       "output_type": "stream",
       "stream": "stdout",
       "text": [
        "\n",
        "Processing http://vnavigator.eumetsat.int/discovery/os-description.xml\n",
        "\tInvalid URL: "
       ]
      },
      {
       "output_type": "stream",
       "stream": "stdout",
       "text": [
        " <Url xmlns=\"http://a9.com/-/spec/opensearch/1.1/\" xmlns:geo=\"http://a9.com/-/opensearch/extensions/geo/1.0/\" xmlns:eum=\"http://a9.com/-/opensearch/extensions/eumetsat/1.0/\" type=\"application/atom+xml\" template=\"$WEBAPP_SERVER_URL/OpenSearch?q={searchTerms}&amp;pw={startPage?}&amp;bbox={geo:box?}&amp;dtstart={time:start?}&amp;dtend={time:end?}&amp;cat={eum:category?}&amp;pp={eum:productProvider?}&amp;dis={eum:dissemination?}&amp;ins={eum:instrument?}&amp;sat={eum:satellite?}&amp;uL={eum:useLimitation?}&amp;format=atom\"/>\n",
        "\t\n",
        "\tInvalid URL:  <Url xmlns=\"http://a9.com/-/spec/opensearch/1.1/\" xmlns:geo=\"http://a9.com/-/opensearch/extensions/geo/1.0/\" xmlns:eum=\"http://a9.com/-/opensearch/extensions/eumetsat/1.0/\" type=\"application/atom+xml\" template=\"$WEBAPP_SERVER_URL/OpenSearch?id={geo:uid}&amp;format=atom\"/>\t\n",
        "\t\n",
        "Processing http://wakeforestmuseum.org/osd.xml\n",
        "\tCatalog searchTerms: "
       ]
      },
      {
       "output_type": "stream",
       "stream": "stdout",
       "text": [
        " {'s': 'searchTerms'}\n",
        "\tExample queries:  ['photography']\n",
        "\tProcessing http://wakeforestmuseum.org/?feed=atom&s=\n",
        "\t\tRequested 15 out of Unknown"
       ]
      },
      {
       "output_type": "stream",
       "stream": "stdout",
       "text": [
        "\n",
        "\t\tCatalog reference:  http://wakeforestmuseum.org/osd.xml\n",
        "\t\tProcessing http://wakeforestmuseum.org/?feed=atom&s=photography\n",
        "\t\tRequested 1 out of Unknown"
       ]
      },
      {
       "output_type": "stream",
       "stream": "stdout",
       "text": [
        "\n",
        "Processing http://web.mit.edu/opensearch.xml\n",
        "\tFailed to extract Urls: likely rss+xml instead"
       ]
      },
      {
       "output_type": "stream",
       "stream": "stdout",
       "text": [
        "\n",
        "Processing http://webhost.salford.ac.uk/search.salford.ac.uk/search.xml\n",
        "\t\tInvalid XML"
       ]
      },
      {
       "output_type": "stream",
       "stream": "stdout",
       "text": [
        "\n",
        "Processing http://whalesense.org/osd.xml\n",
        "\tCatalog searchTerms: "
       ]
      },
      {
       "output_type": "stream",
       "stream": "stdout",
       "text": [
        " {'s': 'searchTerms'}\n",
        "\tExample queries:  ['photography']\n",
        "\tProcessing http://whalesense.org/?feed=atom&s=\n",
        "\t\tRequested 10 out of Unknown"
       ]
      },
      {
       "output_type": "stream",
       "stream": "stdout",
       "text": [
        "\n",
        "\t\tCatalog reference:  http://whalesense.org/osd.xml\n",
        "\t\tProcessing http://whalesense.org/?feed=atom&s=photography\n",
        "\t\tRequested 0 out of Unknown"
       ]
      },
      {
       "output_type": "stream",
       "stream": "stdout",
       "text": [
        "\n",
        "Processing http://whatworkswellbeing.org/osd.xml\n",
        "\tCatalog searchTerms: "
       ]
      },
      {
       "output_type": "stream",
       "stream": "stdout",
       "text": [
        " {'s': 'searchTerms'}\n",
        "\tExample queries:  ['photography']\n",
        "\tProcessing http://whatworkswellbeing.org/?feed=atom&s=\n",
        "\t\tRequested 10 out of Unknown"
       ]
      },
      {
       "output_type": "stream",
       "stream": "stdout",
       "text": [
        "\n",
        "\t\tCatalog reference:  http://whatworkswellbeing.org/osd.xml\n",
        "\t\tProcessing http://whatworkswellbeing.org/?feed=atom&s=photography\n",
        "\t\tRequested 0 out of Unknown"
       ]
      },
      {
       "output_type": "stream",
       "stream": "stdout",
       "text": [
        "\n",
        "Processing http://whc.unesco.org/pg_opensearch.cfm\n",
        "\tFailed to extract Urls: likely rss+xml instead"
       ]
      },
      {
       "output_type": "stream",
       "stream": "stdout",
       "text": [
        "\n",
        "Processing http://wiki.eclipse.org/opensearch_desc.php\n",
        "\tFailed to extract Urls: likely rss+xml instead"
       ]
      },
      {
       "output_type": "stream",
       "stream": "stdout",
       "text": [
        "\n",
        "Processing http://wtda.alc.org/open-search/description.xml\n",
        "\tFailed to extract Urls: likely rss+xml instead"
       ]
      },
      {
       "output_type": "stream",
       "stream": "stdout",
       "text": [
        "\n",
        "Processing http://www.aacap.org/OpenSearch.aspx\n",
        "\tFailed to extract Urls: likely rss+xml instead"
       ]
      },
      {
       "output_type": "stream",
       "stream": "stdout",
       "text": [
        "\n",
        "Processing http://www.aca.org/ACA_PROD_IMIS/OpenSearch.aspx\n",
        "\tFailed to extract Urls: likely rss+xml instead"
       ]
      },
      {
       "output_type": "stream",
       "stream": "stdout",
       "text": [
        "\n",
        "Processing http://www.acpe.edu/imis_prod/OpenSearch.aspx\n",
        "\tFailed to extract Urls: likely rss+xml instead"
       ]
      },
      {
       "output_type": "stream",
       "stream": "stdout",
       "text": [
        "\n",
        "Processing http://www.africanremotesensing.org/opensearch.ashx\n",
        "\tFailed to extract Urls: likely rss+xml instead"
       ]
      },
      {
       "output_type": "stream",
       "stream": "stdout",
       "text": [
        "\n",
        "Processing http://www.agnic.org/search/opensearch.xml\n",
        "\tFailed to extract Urls: likely rss+xml instead"
       ]
      },
      {
       "output_type": "stream",
       "stream": "stdout",
       "text": [
        "\n",
        "Processing http://www.ancon.org/index.php?option=com_search&format=opensearch\n",
        "\tFailed request"
       ]
      },
      {
       "output_type": "stream",
       "stream": "stdout",
       "text": [
        "\n",
        "Processing http://www.arkive.org/misc/search_plugin/arkivesearchplugin.xml\n",
        "\tFailed to extract Urls: likely rss+xml instead"
       ]
      },
      {
       "output_type": "stream",
       "stream": "stdout",
       "text": [
        "\n",
        "Processing http://www.asbar.org/index.php?option=com_search&format=opensearch\n",
        "\tFailed to extract Urls: likely rss+xml instead"
       ]
      },
      {
       "output_type": "stream",
       "stream": "stdout",
       "text": [
        "\n",
        "Processing http://www.baacc.colostate.edu/SearchEngineInfo.ashx\n",
        "\tCatalog searchTerms: "
       ]
      },
      {
       "output_type": "stream",
       "stream": "stdout",
       "text": [
        " {'q': 'searchTerms'}\n",
        "\tExample queries:  []\n",
        "\tProcessing http://www.baacc.colostate.edu/SearchResults.ashx?q=\n",
        "\t\tRequested 20 out of 0"
       ]
      },
      {
       "output_type": "stream",
       "stream": "stdout",
       "text": [
        "\n",
        "\t\tCatalog reference:  http://www.baacc.colostate.edu/SearchEngineInfo.ashx\n",
        "Processing http://www.bahainyc.org/opensearch.axd\n",
        "\tFailed to extract Urls: likely rss+xml instead"
       ]
      },
      {
       "output_type": "stream",
       "stream": "stdout",
       "text": [
        "\n",
        "Processing http://www.bath.ac.uk/search/gsa/bathsearch.xml\n",
        "\tFailed to extract Urls: likely rss+xml instead"
       ]
      },
      {
       "output_type": "stream",
       "stream": "stdout",
       "text": [
        "\n",
        "Processing http://www.bnc.ox.ac.uk/search?format=opensearch\n",
        "\tFailed to extract Urls: likely rss+xml instead"
       ]
      },
      {
       "output_type": "stream",
       "stream": "stdout",
       "text": [
        "\n",
        "Processing http://www.boonshoftmuseum.org/component/search/?format=opensearch\n",
        "\tFailed to extract Urls: likely rss+xml instead"
       ]
      },
      {
       "output_type": "stream",
       "stream": "stdout",
       "text": [
        "\n",
        "Processing http://www.britishmuseum.org/OpenSearchBMSite.xml\n",
        "\tFailed to extract Urls: likely rss+xml instead"
       ]
      },
      {
       "output_type": "stream",
       "stream": "stdout",
       "text": [
        "\n",
        "Processing http://www.britishmuseum.org/OpenSearchCollection.xml\n",
        "\tFailed to extract Urls: likely rss+xml instead"
       ]
      },
      {
       "output_type": "stream",
       "stream": "stdout",
       "text": [
        "\n",
        "Processing http://www.bsa.ac.uk/index.php?option=com_search&format=opensearch\n",
        "\tFailed to extract Urls: likely rss+xml instead"
       ]
      },
      {
       "output_type": "stream",
       "stream": "stdout",
       "text": [
        "\n",
        "Processing http://www.catmondoux.org/index.php/component/search/?format=opensearch\n",
        "\tFailed to extract Urls: likely rss+xml instead"
       ]
      },
      {
       "output_type": "stream",
       "stream": "stdout",
       "text": [
        "\n",
        "Processing http://www.ceemar.org/ceemar/open-search/description.xml\n",
        "\tFailed to extract Urls: likely rss+xml instead"
       ]
      },
      {
       "output_type": "stream",
       "stream": "stdout",
       "text": [
        "\n",
        "Processing http://www.charmouth.org/chcc/component/search/?format=opensearch\n",
        "\tFailed to extract Urls: likely rss+xml instead"
       ]
      },
      {
       "output_type": "stream",
       "stream": "stdout",
       "text": [
        "\n",
        "Processing http://www.coreboot.org/opensearch_desc.php\n",
        "\tFailed to extract Urls: likely rss+xml instead"
       ]
      },
      {
       "output_type": "stream",
       "stream": "stdout",
       "text": [
        "\n",
        "Processing http://www.coris.noaa.gov/geoportal/openSearchDescription\n",
        "\tFailed to extract Urls: likely rss+xml instead"
       ]
      },
      {
       "output_type": "stream",
       "stream": "stdout",
       "text": [
        "\n",
        "Processing http://www.cra.org/ccc/component/search/?format=opensearch\n",
        "\tFailed to extract Urls: likely rss+xml instead"
       ]
      },
      {
       "output_type": "stream",
       "stream": "stdout",
       "text": [
        "\n",
        "Processing http://www.cs.ox.ac.uk/csatox2/opensearch_desc.php\n",
        "\tFailed to extract Urls: likely rss+xml instead"
       ]
      },
      {
       "output_type": "stream",
       "stream": "stdout",
       "text": [
        "\n",
        "Processing http://www.ctan.org/search/open-search.xml\n",
        "\tFailed to extract Urls: likely rss+xml instead"
       ]
      },
      {
       "output_type": "stream",
       "stream": "stdout",
       "text": [
        "\n",
        "Processing http://www.democracynow.org/images/dn.opensearch\n",
        "\tFailed to extract Urls: likely rss+xml instead"
       ]
      },
      {
       "output_type": "stream",
       "stream": "stdout",
       "text": [
        "\n",
        "Processing http://www.drihm.eu/index.php/component/search/?format=opensearch\n",
        "\tFailed to extract Urls: likely rss+xml instead"
       ]
      },
      {
       "output_type": "stream",
       "stream": "stdout",
       "text": [
        "\n",
        "Processing http://www.earth-prints.org/open-search/description.xml\n",
        "\tFailed to extract Urls: likely rss+xml instead"
       ]
      },
      {
       "output_type": "stream",
       "stream": "stdout",
       "text": [
        "\n",
        "Processing http://www.ecca2015.eu/component/search/?format=opensearch\n",
        "\tFailed to extract Urls: likely rss+xml instead"
       ]
      },
      {
       "output_type": "stream",
       "stream": "stdout",
       "text": [
        "\n",
        "Processing http://www.economics.ox.ac.uk/Search?format=opensearch\n",
        "\tFailed to extract Urls: likely rss+xml instead"
       ]
      },
      {
       "output_type": "stream",
       "stream": "stdout",
       "text": [
        "\n",
        "Processing http://www.emsa.europa.eu/component/search/?format=opensearch\n",
        "\tFailed to extract Urls: likely rss+xml instead"
       ]
      },
      {
       "output_type": "stream",
       "stream": "stdout",
       "text": [
        "\n",
        "Processing http://www.enlightenment.org/search_docs.xml\n",
        "\tFailed request"
       ]
      },
      {
       "output_type": "stream",
       "stream": "stdout",
       "text": [
        "\n",
        "Processing http://www.esa-ozone-cci.org/Private/opensearch_desc.php\n",
        "\tFailed to extract Urls: likely rss+xml instead"
       ]
      },
      {
       "output_type": "stream",
       "stream": "stdout",
       "text": [
        "\n",
        "Processing http://www.espas-fp7.eu/trac/search/opensearch\n",
        "\tFailed to extract Urls: likely rss+xml instead"
       ]
      },
      {
       "output_type": "stream",
       "stream": "stdout",
       "text": [
        "\n",
        "Processing http://www.eucross.eu/cms/index.php?option=com_search&format=opensearch\n",
        "\tFailed to extract Urls: likely rss+xml instead"
       ]
      },
      {
       "output_type": "stream",
       "stream": "stdout",
       "text": [
        "\n",
        "Processing http://www.fapac.org/opensearch.ashx\n",
        "\tFailed to extract Urls: likely rss+xml instead"
       ]
      },
      {
       "output_type": "stream",
       "stream": "stdout",
       "text": [
        "\n",
        "Processing http://www.feha.org/opensearch.ashx\n",
        "\tFailed to extract Urls: likely rss+xml instead"
       ]
      },
      {
       "output_type": "stream",
       "stream": "stdout",
       "text": [
        "\n",
        "Processing http://www.fertilizer.org/OpenSearch.aspx\n",
        "\tFailed to extract Urls: likely rss+xml instead"
       ]
      },
      {
       "output_type": "stream",
       "stream": "stdout",
       "text": [
        "\n",
        "Processing http://www.file-extensions.org/extensionsearchplugin.xml\n",
        "\tFailed to extract Urls: likely rss+xml instead"
       ]
      },
      {
       "output_type": "stream",
       "stream": "stdout",
       "text": [
        "\n",
        "Processing http://www.findingaugustine.org/Search/OpenSearch?method=describe\n",
        "\tFailed to extract Urls: likely rss+xml instead"
       ]
      },
      {
       "output_type": "stream",
       "stream": "stdout",
       "text": [
        "\n",
        "Processing http://www.fio.usf.edu/component/search/?format=opensearch\n",
        "\tFailed to extract Urls: likely rss+xml instead"
       ]
      },
      {
       "output_type": "stream",
       "stream": "stdout",
       "text": [
        "\n",
        "Processing http://www.fordfoundation.org/2012-annual/opensearchdescription.xml\n",
        "\tFailed to extract Urls: likely rss+xml instead"
       ]
      },
      {
       "output_type": "stream",
       "stream": "stdout",
       "text": [
        "\n",
        "Processing http://www.fraud.org/component/search/?format=opensearch\n",
        "\tFailed to extract Urls: likely rss+xml instead"
       ]
      },
      {
       "output_type": "stream",
       "stream": "stdout",
       "text": [
        "\n",
        "Processing http://www.geftwap.org/@@opensearch_description.xml\n",
        "\tCatalog searchTerms: "
       ]
      },
      {
       "output_type": "stream",
       "stream": "stdout",
       "text": [
        " {'SearchableText': 'searchTerms'}\n",
        "\tExample queries:  ['None']\n",
        "\tProcessing http://www.geftwap.org/opensearch_atom.xml?b_size%3Aint=5&SearchableText=\n",
        "\t\tRequested 5 out of 0"
       ]
      },
      {
       "output_type": "stream",
       "stream": "stdout",
       "text": [
        "\n",
        "\t\tCatalog reference:  http://www.geftwap.org/opensearch_description.xml\n",
        "\t\tProcessing http://www.geftwap.org/opensearch_atom.xml?b_size%3Aint=5&SearchableText=None\n",
        "\t\tRequested 5 out of 5"
       ]
      },
      {
       "output_type": "stream",
       "stream": "stdout",
       "text": [
        "\n",
        "Processing http://www.geonames.org/opensearch-description.xml\n",
        "\tFailed to extract Urls: likely rss+xml instead"
       ]
      },
      {
       "output_type": "stream",
       "stream": "stdout",
       "text": [
        "\n",
        "Processing http://www.geonames.org/opensearch-plugin.xml\n",
        "\tFailed to extract Urls: likely rss+xml instead"
       ]
      },
      {
       "output_type": "stream",
       "stream": "stdout",
       "text": [
        "\n",
        "Processing http://www.georgiascienceteacher.org/opensearch.ashx\n",
        "\tFailed to extract Urls: likely rss+xml instead"
       ]
      },
      {
       "output_type": "stream",
       "stream": "stdout",
       "text": [
        "\n",
        "Processing http://www.geotraces.org/component/search/?format=opensearch\n",
        "\tFailed to extract Urls: likely rss+xml instead"
       ]
      },
      {
       "output_type": "stream",
       "stream": "stdout",
       "text": [
        "\n",
        "Processing http://www.getluckytc.org/Search.html?format=opensearch&id=28\n",
        "\tFailed to extract Urls: likely rss+xml instead"
       ]
      },
      {
       "output_type": "stream",
       "stream": "stdout",
       "text": [
        "\n",
        "Processing http://www.getluckytc.org/Search.html?format=opensearch&id=5\n",
        "\tFailed to extract Urls: likely rss+xml instead"
       ]
      },
      {
       "output_type": "stream",
       "stream": "stdout",
       "text": [
        "\n",
        "Processing http://www.greenfestivals.org/search?format=opensearch\n",
        "\tFailed request"
       ]
      },
      {
       "output_type": "stream",
       "stream": "stdout",
       "text": [
        "\n",
        "Processing http://www.greenlights.org/component/search/?format=opensearch\n",
        "\tFailed to extract Urls: likely rss+xml instead"
       ]
      },
      {
       "output_type": "stream",
       "stream": "stdout",
       "text": [
        "\n",
        "Processing http://www.groom-fp7.eu/lib/exe/opensearch.php\n",
        "\tFailed to extract Urls: likely rss+xml instead"
       ]
      },
      {
       "output_type": "stream",
       "stream": "stdout",
       "text": [
        "\n",
        "Processing http://www.gwascentral.org/os/phenotypes.xml\n",
        "\tCatalog searchTerms: "
       ]
      },
      {
       "output_type": "stream",
       "stream": "stdout",
       "text": [
        " {'q': 'searchTerms'}\n",
        "\tExample queries:  ['cancer']\n",
        "\tProcessing http://www.gwascentral.org/phenotypes?page_size=5&format=atom&q=\n",
        "\t\tFailed request: 400"
       ]
      },
      {
       "output_type": "stream",
       "stream": "stdout",
       "text": [
        "\n",
        "Processing http://www.gwascentral.org/os/studies.xml\n",
        "\tCatalog searchTerms: "
       ]
      },
      {
       "output_type": "stream",
       "stream": "stdout",
       "text": [
        " {'q': 'searchTerms'}\n",
        "\tExample queries:  ['cancer']\n",
        "\tProcessing http://www.gwascentral.org/studies?page_size=5&format=atom&q=\n",
        "\t\tFailed request: 400"
       ]
      },
      {
       "output_type": "stream",
       "stream": "stdout",
       "text": [
        "\n",
        "Processing http://www.harwin-fp7.eu/component/search/?format=opensearch\n",
        "\tFailed to extract Urls: likely rss+xml instead"
       ]
      },
      {
       "output_type": "stream",
       "stream": "stdout",
       "text": [
        "\n",
        "Processing http://www.housing.colostate.edu/SearchEngineInfo.ashx\n",
        "\tCatalog searchTerms:  {'q': 'searchTerms'}\n",
        "\tExample queries:  []\n",
        "\tProcessing http://www.housing.colostate.edu/SearchResults.ashx?q=\n",
        "\t\tRequested 20 out of 0"
       ]
      },
      {
       "output_type": "stream",
       "stream": "stdout",
       "text": [
        "\n",
        "\t\tCatalog reference:  http://www.housing.colostate.edu/SearchEngineInfo.ashx\n",
        "Processing http://www.iacet.org/component/search/?format=opensearch\n",
        "\tFailed request"
       ]
      },
      {
       "output_type": "stream",
       "stream": "stdout",
       "text": [
        "\n",
        "Processing http://www.iagc.org/search/open-search/\n",
        "\tFailed to extract Urls: likely rss+xml instead"
       ]
      },
      {
       "output_type": "stream",
       "stream": "stdout",
       "text": [
        "\n",
        "Processing http://www.ibe.org/component/search/?format=opensearch\n",
        "\tFailed to extract Urls: likely rss+xml instead"
       ]
      },
      {
       "output_type": "stream",
       "stream": "stdout",
       "text": [
        "\n",
        "Processing http://www.ic3.gov/opensearch.xml\n",
        "\tFailed to extract Urls: likely rss+xml instead"
       ]
      },
      {
       "output_type": "stream",
       "stream": "stdout",
       "text": [
        "\n",
        "Processing http://www.ieaghg.org/component/search/?format=opensearch\n",
        "\tFailed to extract Urls: likely rss+xml instead"
       ]
      },
      {
       "output_type": "stream",
       "stream": "stdout",
       "text": [
        "\n",
        "Processing http://www.iesc.org/SearchEngineInfo.ashx\n",
        "\tCatalog searchTerms: "
       ]
      },
      {
       "output_type": "stream",
       "stream": "stdout",
       "text": [
        " {'q': 'searchTerms'}\n",
        "\tExample queries:  []\n",
        "\tProcessing http://www.iesc.org/SearchResults.ashx?q=\n",
        "\t\tRequested 10 out of 0\n",
        "\t\tCatalog reference:  http://www.iesc.org/SearchEngineInfo.ashx\n",
        "Processing http://www.ifalpa.org/component/search/?format=opensearch\n",
        "\tFailed to extract Urls: likely rss+xml instead"
       ]
      },
      {
       "output_type": "stream",
       "stream": "stdout",
       "text": [
        "\n",
        "Processing http://www.ihasa.org/Search.html?catid=77&format=opensearch&id=68\n",
        "\tFailed to extract Urls: likely rss+xml instead"
       ]
      },
      {
       "output_type": "stream",
       "stream": "stdout",
       "text": [
        "\n",
        "Processing http://www.iho.int/srv1/index.php?option=com_search&format=opensearch&lang=en\n",
        "\tFailed to extract Urls: likely rss+xml instead"
       ]
      },
      {
       "output_type": "stream",
       "stream": "stdout",
       "text": [
        "\n",
        "Processing http://www.iktimed.eu/index.php/component/search/?plugin=cbgroupjive&action=groups&func=show&cat=1&grp=5&tab=File&task=pluginclass&format=opensearch\n",
        "\tFailed to extract Urls: likely rss+xml instead"
       ]
      },
      {
       "output_type": "stream",
       "stream": "stdout",
       "text": [
        "\n",
        "Processing http://www.iktimed.eu/index.php/component/search/?plugin=cbgroupjive&action=groups&func=show&cat=1&grp=6&task=pluginclass&format=opensearch\n",
        "\tFailed to extract Urls: likely rss+xml instead"
       ]
      },
      {
       "output_type": "stream",
       "stream": "stdout",
       "text": [
        "\n",
        "Processing http://www.intcent.org/opensearch.ashx\n",
        "\tFailed to extract Urls: likely rss+xml instead"
       ]
      },
      {
       "output_type": "stream",
       "stream": "stdout",
       "text": [
        "\n",
        "Processing http://www.interpeace.org/index.php/component/search/?ctrl=archive&listid=2-job-applicants&format=opensearch\n",
        "\tFailed request"
       ]
      },
      {
       "output_type": "stream",
       "stream": "stdout",
       "text": [
        "\n",
        "Processing http://www.its.umich.edu/itssearch.xml\n",
        "\tFailed to extract Urls: likely rss+xml instead"
       ]
      },
      {
       "output_type": "stream",
       "stream": "stdout",
       "text": [
        "\n",
        "Processing http://www.lco.edu/component/search/?format=opensearch\n",
        "\tFailed to extract Urls: likely rss+xml instead"
       ]
      },
      {
       "output_type": "stream",
       "stream": "stdout",
       "text": [
        "\n",
        "Processing http://www.lib.utexas.edu/gadgets/firefoxsearch/utcddvdsearch.xml\n",
        "\tFailed to extract Urls: likely rss+xml instead"
       ]
      },
      {
       "output_type": "stream",
       "stream": "stdout",
       "text": [
        "\n",
        "Processing http://www.lib.utexas.edu/gadgets/firefoxsearch/utdrsearch.xml\n",
        "\tFailed to extract Urls: likely rss+xml instead"
       ]
      },
      {
       "output_type": "stream",
       "stream": "stdout",
       "text": [
        "\n",
        "Processing http://www.lightstalkers.org/opensearch.xml\n",
        "\tFailed to extract Urls: likely rss+xml instead"
       ]
      },
      {
       "output_type": "stream",
       "stream": "stdout",
       "text": [
        "\n",
        "Processing http://www.localharvest.org/opensearch.xml\n",
        "\tFailed to extract Urls: likely rss+xml instead"
       ]
      },
      {
       "output_type": "stream",
       "stream": "stdout",
       "text": [
        "\n",
        "Processing http://www.lofar.org/operations/lib/exe/opensearch.php\n",
        "\tFailed to extract Urls: likely rss+xml instead"
       ]
      },
      {
       "output_type": "stream",
       "stream": "stdout",
       "text": [
        "\n",
        "Processing http://www.magip.org/opensearch.ashx\n",
        "\tFailed to extract Urls: likely rss+xml instead"
       ]
      },
      {
       "output_type": "stream",
       "stream": "stdout",
       "text": [
        "\n",
        "Processing http://www.marinespecies.org/provider.xml\n",
        "\tFailed to extract Urls: likely rss+xml instead"
       ]
      },
      {
       "output_type": "stream",
       "stream": "stdout",
       "text": [
        "\n",
        "Processing http://www.metrotransit.org/SearchEngineInfo.ashx\n",
        "\tCatalog searchTerms: "
       ]
      },
      {
       "output_type": "stream",
       "stream": "stdout",
       "text": [
        " {'q': 'searchTerms'}\n",
        "\tExample queries:  []\n",
        "\tProcessing http://www.metrotransit.org/SearchResults.ashx?q=\n",
        "\t\tRequested 10 out of 0"
       ]
      },
      {
       "output_type": "stream",
       "stream": "stdout",
       "text": [
        "\n",
        "\t\tCatalog reference:  http://www.metrotransit.org/SearchEngineInfo.ashx\n",
        "Processing http://www.minnesota.edu/searchplugin.xml\n",
        "\tFailed to extract Urls: likely rss+xml instead"
       ]
      },
      {
       "output_type": "stream",
       "stream": "stdout",
       "text": [
        "\n",
        "Processing http://www.miworksmo.org/component/search/?format=opensearch\n",
        "\tFailed to extract Urls: likely rss+xml instead"
       ]
      },
      {
       "output_type": "stream",
       "stream": "stdout",
       "text": [
        "\n",
        "Processing http://www.ms-sc.org/SearchEngineInfo.ashx\n",
        "\tCatalog searchTerms: "
       ]
      },
      {
       "output_type": "stream",
       "stream": "stdout",
       "text": [
        " {'q': 'searchTerms'}\n",
        "\tExample queries:  []\n",
        "\tProcessing http://www.ms-sc.org/SearchResults.ashx?q=\n",
        "\t\tRequested 10 out of 0"
       ]
      },
      {
       "output_type": "stream",
       "stream": "stdout",
       "text": [
        "\n",
        "\t\tCatalog reference:  http://www.ms-sc.org/SearchEngineInfo.ashx\n",
        "Processing http://www.nabe.org/opensearch.ashx\n",
        "\tFailed to extract Urls: likely rss+xml instead"
       ]
      },
      {
       "output_type": "stream",
       "stream": "stdout",
       "text": [
        "\n",
        "Processing http://www.nacme.org/component/search/?format=opensearch\n",
        "\tFailed to extract Urls: likely rss+xml instead"
       ]
      },
      {
       "output_type": "stream",
       "stream": "stdout",
       "text": [
        "\n",
        "Processing http://www.njheps.org/opensearch.ashx\n",
        "\tFailed to extract Urls: likely rss+xml instead"
       ]
      },
      {
       "output_type": "stream",
       "stream": "stdout",
       "text": [
        "\n",
        "Processing http://www.nrdc.org/opensearch.xml\n",
        "\tFailed to extract Urls: likely rss+xml instead"
       ]
      },
      {
       "output_type": "stream",
       "stream": "stdout",
       "text": [
        "\n",
        "Processing http://www.openflowhub.org/opensearch/osd.action\n",
        "\tSkipping connection issues\n",
        "Processing http://www.opensha.org/trac/search/opensearch\n",
        "\tFailed to extract Urls: likely rss+xml instead"
       ]
      },
      {
       "output_type": "stream",
       "stream": "stdout",
       "text": [
        "\n",
        "Processing http://www.pacificsciencecenter.org/Search?format=opensearch\n",
        "\tFailed to extract Urls: likely rss+xml instead"
       ]
      },
      {
       "output_type": "stream",
       "stream": "stdout",
       "text": [
        "\n",
        "Processing http://www.pratham.org/component/search/?format=opensearch\n",
        "\tFailed to extract Urls: likely rss+xml instead"
       ]
      },
      {
       "output_type": "stream",
       "stream": "stdout",
       "text": [
        "\n",
        "Processing http://www.pri.org/opensearch.xml\n",
        "\tFailed to extract Urls: likely rss+xml instead"
       ]
      },
      {
       "output_type": "stream",
       "stream": "stdout",
       "text": [
        "\n",
        "Processing http://www.rasdaman.org/search/opensearch\n",
        "\tFailed to extract Urls: likely rss+xml instead"
       ]
      },
      {
       "output_type": "stream",
       "stream": "stdout",
       "text": [
        "\n",
        "Processing http://www.rds.colostate.edu/SearchEngineInfo.ashx\n",
        "\tCatalog searchTerms: "
       ]
      },
      {
       "output_type": "stream",
       "stream": "stdout",
       "text": [
        " {'q': 'searchTerms'}\n",
        "\tExample queries:  []\n",
        "\tProcessing http://www.rds.colostate.edu/SearchResults.ashx?q=\n",
        "\t\tRequested 20 out of 0"
       ]
      },
      {
       "output_type": "stream",
       "stream": "stdout",
       "text": [
        "\n",
        "\t\tCatalog reference:  http://www.rds.colostate.edu/SearchEngineInfo.ashx\n",
        "Processing http://www.resc.rdg.ac.uk/trac/ncWMS/search/opensearch\n",
        "\tFailed to extract Urls: likely rss+xml instead"
       ]
      },
      {
       "output_type": "stream",
       "stream": "stdout",
       "text": [
        "\n",
        "Processing http://www.ros.hw.ac.uk/open-search/description.xml\n",
        "\tFailed to extract Urls: likely rss+xml instead"
       ]
      },
      {
       "output_type": "stream",
       "stream": "stdout",
       "text": [
        "\n",
        "Processing http://www.saicm.org/index.php?option=com_search&format=opensearch\n",
        "\tFailed to extract Urls: likely rss+xml instead"
       ]
      },
      {
       "output_type": "stream",
       "stream": "stdout",
       "text": [
        "\n",
        "Processing http://www.saja.org/opensearch.ashx\n",
        "\tFailed to extract Urls: likely rss+xml instead"
       ]
      },
      {
       "output_type": "stream",
       "stream": "stdout",
       "text": [
        "\n",
        "Processing http://www.sc.colostate.edu/SearchEngineInfo.ashx\n",
        "\tCatalog searchTerms: "
       ]
      },
      {
       "output_type": "stream",
       "stream": "stdout",
       "text": [
        " {'q': 'searchTerms'}\n",
        "\tExample queries:  []\n",
        "\tProcessing http://www.sc.colostate.edu/SearchResults.ashx?q=\n",
        "\t\tRequested 10 out of 0"
       ]
      },
      {
       "output_type": "stream",
       "stream": "stdout",
       "text": [
        "\n",
        "\t\tCatalog reference:  http://www.sc.colostate.edu/SearchEngineInfo.ashx\n",
        "Processing http://www.scar.org/component/search/?format=opensearch\n",
        "\tFailed to extract Urls: likely rss+xml instead"
       ]
      },
      {
       "output_type": "stream",
       "stream": "stdout",
       "text": [
        "\n",
        "Processing http://www.scran.ac.uk/opensearchdescription.xml\n",
        "\tFailed to extract Urls: likely rss+xml instead"
       ]
      },
      {
       "output_type": "stream",
       "stream": "stdout",
       "text": [
        "\n",
        "Processing http://www.sea-cadets.org/SearchEngineInfo.ashx\n",
        "\tCatalog searchTerms: "
       ]
      },
      {
       "output_type": "stream",
       "stream": "stdout",
       "text": [
        " {'q': 'searchTerms'}\n",
        "\tExample queries:  []\n",
        "\tProcessing http://www.sea-cadets.org/SearchResults.ashx?q=\n",
        "\t\tRequested 10 out of 0"
       ]
      },
      {
       "output_type": "stream",
       "stream": "stdout",
       "text": [
        "\n",
        "\t\tCatalog reference:  http://www.sea-cadets.org/SearchEngineInfo.ashx\n",
        "Processing http://www.sharegeo.ac.uk/open-search/description.xml\n",
        "\tFailed to extract Urls: likely rss+xml instead"
       ]
      },
      {
       "output_type": "stream",
       "stream": "stdout",
       "text": [
        "\n",
        "Processing http://www.skiandsnowboardmonth.org/component/search/?format=opensearch\n",
        "\tFailed to extract Urls: likely rss+xml instead"
       ]
      },
      {
       "output_type": "stream",
       "stream": "stdout",
       "text": [
        "\n",
        "Processing http://www.slice.colostate.edu/SearchEngineInfo.ashx\n",
        "\tCatalog searchTerms:  {'q': 'searchTerms'}\n",
        "\tExample queries:  []\n",
        "\tProcessing http://www.slice.colostate.edu/SearchResults.ashx?q=\n",
        "\t\tRequested 10 out of 0"
       ]
      },
      {
       "output_type": "stream",
       "stream": "stdout",
       "text": [
        "\n",
        "\t\tCatalog reference:  http://www.slice.colostate.edu/SearchEngineInfo.ashx\n",
        "Processing http://www.sourcewatch.org/opensearch_desc.php\n",
        "\tFailed to extract Urls: likely rss+xml instead"
       ]
      },
      {
       "output_type": "stream",
       "stream": "stdout",
       "text": [
        "\n",
        "Processing http://www.st-andrews.ac.uk/opensearch/www.xml\n",
        "\tFailed to extract Urls: likely rss+xml instead"
       ]
      },
      {
       "output_type": "stream",
       "stream": "stdout",
       "text": [
        "\n",
        "Processing http://www.sweregiond.org/opensearch.ashx\n",
        "\tFailed to extract Urls: likely rss+xml instead"
       ]
      },
      {
       "output_type": "stream",
       "stream": "stdout",
       "text": [
        "\n",
        "Processing http://www.sympa.org/lib/exe/opensearch.php\n",
        "\tFailed to extract Urls: likely rss+xml instead"
       ]
      },
      {
       "output_type": "stream",
       "stream": "stdout",
       "text": [
        "\n",
        "Processing http://www.team2489.org/index.php/component/search/?format=opensearch\n",
        "\tFailed to extract Urls: likely rss+xml instead"
       ]
      },
      {
       "output_type": "stream",
       "stream": "stdout",
       "text": [
        "\n",
        "Processing http://www.tmcs.ac.uk/SearchEngineInfo.ashx\n",
        "\tCatalog searchTerms: "
       ]
      },
      {
       "output_type": "stream",
       "stream": "stdout",
       "text": [
        " {'q': 'searchTerms'}\n",
        "\tExample queries:  []\n",
        "\tProcessing http://www.tmcs.ac.uk/SearchResults.ashx?q=\n",
        "\t\tRequested 10 out of 0"
       ]
      },
      {
       "output_type": "stream",
       "stream": "stdout",
       "text": [
        "\n",
        "\t\tCatalog reference:  http://www.tmcs.ac.uk/SearchEngineInfo.ashx\n",
        "Processing http://www.tofga.org/opensearch.ashx\n",
        "\tFailed to extract Urls: likely rss+xml instead"
       ]
      },
      {
       "output_type": "stream",
       "stream": "stdout",
       "text": [
        "\n",
        "Processing http://www.uah.edu/opensearch.xml\n",
        "\tFailed to extract Urls: likely rss+xml instead"
       ]
      },
      {
       "output_type": "stream",
       "stream": "stdout",
       "text": [
        "\n",
        "Processing http://www.uflib.ufl.edu/opensearchdescription.xml\n",
        "\tFailed to extract Urls: likely rss+xml instead"
       ]
      },
      {
       "output_type": "stream",
       "stream": "stdout",
       "text": [
        "\n",
        "Processing http://www.unidata.ucar.edu/software/netcdf/docs/search_opensearch.php?v=opensearch.xml\n",
        "\tFailed to extract Urls: likely rss+xml instead"
       ]
      },
      {
       "output_type": "stream",
       "stream": "stdout",
       "text": [
        "\n",
        "Processing http://www.usgbcga.org/opensearch.ashx\n",
        "\tFailed to extract Urls: likely rss+xml instead"
       ]
      },
      {
       "output_type": "stream",
       "stream": "stdout",
       "text": [
        "\n",
        "Processing http://www.usgs.gov/shell/usgssearch.xml\n",
        "\tFailed to extract Urls: likely rss+xml instead"
       ]
      },
      {
       "output_type": "stream",
       "stream": "stdout",
       "text": [
        "\n",
        "Processing http://www.vafweb.wildapricot.org/opensearch.ashx\n",
        "\tFailed to extract Urls: likely rss+xml instead"
       ]
      },
      {
       "output_type": "stream",
       "stream": "stdout",
       "text": [
        "\n",
        "Processing http://www.vips.ecs.soton.ac.uk/opensearch_desc.php\n",
        "\tFailed to extract Urls: likely rss+xml instead"
       ]
      },
      {
       "output_type": "stream",
       "stream": "stdout",
       "text": [
        "\n",
        "Processing http://www.w3.org/2005/01/w3c-public-lists.xml\n",
        "\tFailed to extract Urls: likely rss+xml instead"
       ]
      },
      {
       "output_type": "stream",
       "stream": "stdout",
       "text": [
        "\n",
        "Processing http://www.w3.org/2009/cheatsheet/opensearch.xml\n",
        "\tFailed to extract Urls: likely rss+xml instead"
       ]
      },
      {
       "output_type": "stream",
       "stream": "stdout",
       "text": [
        "\n",
        "Processing http://www.waw.spatiallearning.org/index.php/component/search/?format=opensearch\n",
        "\tFailed to extract Urls: likely rss+xml instead"
       ]
      },
      {
       "output_type": "stream",
       "stream": "stdout",
       "text": [
        "\n",
        "Processing http://www.wfmc.org/component/search/?format=opensearch\n",
        "\tFailed to extract Urls: likely rss+xml instead"
       ]
      },
      {
       "output_type": "stream",
       "stream": "stdout",
       "text": [
        "\n",
        "Processing http://www.xdmf.org/opensearch_desc.php\n",
        "\tFailed to extract Urls: likely rss+xml instead"
       ]
      },
      {
       "output_type": "stream",
       "stream": "stdout",
       "text": [
        "\n",
        "Processing http://www.znyswap.org/SearchEngineInfo.ashx\n",
        "\tCatalog searchTerms: "
       ]
      },
      {
       "output_type": "stream",
       "stream": "stdout",
       "text": [
        " {'q': 'searchTerms'}\n",
        "\tExample queries:  []\n",
        "\tProcessing http://www.znyswap.org/SearchResults.ashx?q=\n",
        "\t\tRequested 10 out of 0"
       ]
      },
      {
       "output_type": "stream",
       "stream": "stdout",
       "text": [
        "\n",
        "\t\tCatalog reference:  http://www.znyswap.org/SearchEngineInfo.ashx\n",
        "Processing http://www.zonta-tallahassee.org/opensearch.ashx\n",
        "\tFailed to extract Urls: likely rss+xml instead"
       ]
      },
      {
       "output_type": "stream",
       "stream": "stdout",
       "text": [
        "\n",
        "Processing http://www1.unece.org/stat/platform/opensearch/osd.action\n",
        "\tFailed to extract Urls: likely rss+xml instead"
       ]
      },
      {
       "output_type": "stream",
       "stream": "stdout",
       "text": [
        "\n",
        "Processing http://www1.usgs.gov/erddap/opensearch1.1/description.xml\n",
        "\tCatalog searchTerms: "
       ]
      },
      {
       "output_type": "stream",
       "stream": "stdout",
       "text": [
        " {'searchTerms': 'searchTerms'}\n",
        "\tExample queries:  ['datasetID']\n",
        "\tProcessing http://www1.usgs.gov/erddap/opensearch1.1/search?itemsPerPage=5&format=atom&searchTerms=\n",
        "\t\tRequested 5 out of 1"
       ]
      },
      {
       "output_type": "stream",
       "stream": "stdout",
       "text": [
        "\n",
        "\t\tCatalog reference:  Not found\n",
        "\t\tProcessing http://www1.usgs.gov/erddap/opensearch1.1/search?itemsPerPage=5&format=atom&searchTerms=datasetID\n",
        "\t\tRequested 5 out of 1"
       ]
      },
      {
       "output_type": "stream",
       "stream": "stdout",
       "text": [
        "\n",
        "Processing http://www2.aag.org/aag_prod_imis/OpenSearch.aspx\n",
        "\tFailed to extract Urls: likely rss+xml instead"
       ]
      },
      {
       "output_type": "stream",
       "stream": "stdout",
       "text": [
        "\n",
        "Processing https://amergeog.org/component/search/?format=opensearch\n",
        "\tFailed request"
       ]
      },
      {
       "output_type": "stream",
       "stream": "stdout",
       "text": [
        "\n",
        "Processing https://api.drupal.org/api/opensearch\n",
        "\tFailed to extract Urls: likely rss+xml instead"
       ]
      },
      {
       "output_type": "stream",
       "stream": "stdout",
       "text": [
        "\n",
        "Processing https://bitbucket.org/opensearch.xml\n",
        "\tFailed to extract Urls: likely rss+xml instead"
       ]
      },
      {
       "output_type": "stream",
       "stream": "stdout",
       "text": [
        "\n",
        "Processing https://bscw.ercim.eu/pub/bscw.cgi?op=opensearch&noses=1\n",
        "\tFailed to extract Urls: likely rss+xml instead"
       ]
      },
      {
       "output_type": "stream",
       "stream": "stdout",
       "text": [
        "\n",
        "Processing https://casere3.dspacedirect.org/open-search/description.xml\n",
        "\tFailed to extract Urls: likely rss+xml instead"
       ]
      },
      {
       "output_type": "stream",
       "stream": "stdout",
       "text": [
        "\n",
        "Processing https://catalog.libraries.wm.edu/Search/OpenSearch?method=describe\n",
        "\tFailed to extract Urls: likely rss+xml instead"
       ]
      },
      {
       "output_type": "stream",
       "stream": "stdout",
       "text": [
        "\n",
        "Processing https://cgspace.cgiar.org/open-search/description.xml\n",
        "\tFailed to extract Urls: likely rss+xml instead"
       ]
      },
      {
       "output_type": "stream",
       "stream": "stdout",
       "text": [
        "\n",
        "Processing https://codex.wordpress.org/opensearch_desc.php\n",
        "\tFailed to extract Urls: likely rss+xml instead"
       ]
      },
      {
       "output_type": "stream",
       "stream": "stdout",
       "text": [
        "\n",
        "Processing https://commons.lbl.gov/opensearch/osd.action\n",
        "\tFailed to extract Urls: likely rss+xml instead"
       ]
      },
      {
       "output_type": "stream",
       "stream": "stdout",
       "text": [
        "\n",
        "Processing https://confluence.sakaiproject.org/opensearch/osd.action\n",
        "\tFailed to extract Urls: likely rss+xml instead"
       ]
      },
      {
       "output_type": "stream",
       "stream": "stdout",
       "text": [
        "\n",
        "Processing https://controllerdata.lacity.org/opensearch.xml\n",
        "\tFailed to extract Urls: likely rss+xml instead"
       ]
      },
      {
       "output_type": "stream",
       "stream": "stdout",
       "text": [
        "\n",
        "Processing https://cwiki.apache.org/confluence/opensearch/osd.action\n",
        "\tFailed to extract Urls: likely rss+xml instead"
       ]
      },
      {
       "output_type": "stream",
       "stream": "stdout",
       "text": [
        "\n",
        "Processing https://data.cityofboston.gov/opensearch.xml\n",
        "\tFailed to extract Urls: likely rss+xml instead"
       ]
      },
      {
       "output_type": "stream",
       "stream": "stdout",
       "text": [
        "\n",
        "Processing https://data.cityofchicago.org/opensearch.xml\n",
        "\tFailed to extract Urls: likely rss+xml instead"
       ]
      },
      {
       "output_type": "stream",
       "stream": "stdout",
       "text": [
        "\n",
        "Processing https://data.culvercity.org/opensearch.xml\n",
        "\tFailed to extract Urls: likely rss+xml instead"
       ]
      },
      {
       "output_type": "stream",
       "stream": "stdout",
       "text": [
        "\n",
        "Processing https://data.kcmo.org/opensearch.xml\n",
        "\tFailed to extract Urls: likely rss+xml instead"
       ]
      },
      {
       "output_type": "stream",
       "stream": "stdout",
       "text": [
        "\n",
        "Processing https://data.nasa.gov/opensearch.xml\n",
        "\tFailed to extract Urls: likely rss+xml instead"
       ]
      },
      {
       "output_type": "stream",
       "stream": "stdout",
       "text": [
        "\n",
        "Processing https://data.ny.gov/opensearch.xml\n",
        "\tFailed to extract Urls: likely rss+xml instead"
       ]
      },
      {
       "output_type": "stream",
       "stream": "stdout",
       "text": [
        "\n",
        "Processing https://data.providenceri.gov/opensearch.xml\n",
        "\tFailed to extract Urls: likely rss+xml instead"
       ]
      },
      {
       "output_type": "stream",
       "stream": "stdout",
       "text": [
        "\n",
        "Processing https://data.sfgov.org/opensearch.xml\n",
        "\tFailed to extract Urls: likely rss+xml instead"
       ]
      },
      {
       "output_type": "stream",
       "stream": "stdout",
       "text": [
        "\n",
        "Processing https://data.smcgov.org/opensearch.xml\n",
        "\tFailed to extract Urls: likely rss+xml instead"
       ]
      },
      {
       "output_type": "stream",
       "stream": "stdout",
       "text": [
        "\n",
        "Processing https://data.vta.org/opensearch.xml\n",
        "\tFailed to extract Urls: likely rss+xml instead"
       ]
      },
      {
       "output_type": "stream",
       "stream": "stdout",
       "text": [
        "\n",
        "Processing https://datatracker.ietf.org/js/datatracker-search.xml\n",
        "\tFailed request"
       ]
      },
      {
       "output_type": "stream",
       "stream": "stdout",
       "text": [
        "\n",
        "Processing https://datorium.gesis.org/xmlui/open-search/description.xml\n",
        "\tFailed to extract Urls: likely rss+xml instead"
       ]
      },
      {
       "output_type": "stream",
       "stream": "stdout",
       "text": [
        "\n",
        "Processing https://developer.mozilla.org/ja/search/xml\n",
        "\tFailed to extract Urls: likely rss+xml instead"
       ]
      },
      {
       "output_type": "stream",
       "stream": "stdout",
       "text": [
        "\n",
        "Processing https://developer.mozilla.org/pt-BR/search/xml\n",
        "\tFailed to extract Urls: likely rss+xml instead"
       ]
      },
      {
       "output_type": "stream",
       "stream": "stdout",
       "text": [
        "\n",
        "Processing https://docs.python.org/3/_static/opensearch.xml\n",
        "\tFailed to extract Urls: likely rss+xml instead"
       ]
      },
      {
       "output_type": "stream",
       "stream": "stdout",
       "text": [
        "\n",
        "Processing https://events.vanderbilt.edu/opensearch.php\n",
        "\tFailed to extract Urls: likely rss+xml instead"
       ]
      },
      {
       "output_type": "stream",
       "stream": "stdout",
       "text": [
        "\n",
        "Processing https://hackpad.com/static/opensearch.xml\n",
        "\tFailed to extract Urls: likely rss+xml instead"
       ]
      },
      {
       "output_type": "stream",
       "stream": "stdout",
       "text": [
        "\n",
        "Processing https://kb.iu.edu/resources/kms/opensearch.xml\n",
        "\tFailed to extract Urls: likely rss+xml instead"
       ]
      },
      {
       "output_type": "stream",
       "stream": "stdout",
       "text": [
        "\n",
        "Processing https://kcstat.kcmo.org/opensearch.xml\n",
        "\tFailed to extract Urls: likely rss+xml instead"
       ]
      },
      {
       "output_type": "stream",
       "stream": "stdout",
       "text": [
        "\n",
        "Processing https://locationtech.org/bugs/search_plugin.cgi\n",
        "\tFailed to extract Urls: likely rss+xml instead"
       ]
      },
      {
       "output_type": "stream",
       "stream": "stdout",
       "text": [
        "\n",
        "Processing https://lra.le.ac.uk/open-search/description.xml\n",
        "\tFailed to extract Urls: likely rss+xml instead"
       ]
      },
      {
       "output_type": "stream",
       "stream": "stdout",
       "text": [
        "\n",
        "Processing https://metacpan.org/static/opensearch.xml\n",
        "\tFailed to extract Urls: likely rss+xml instead"
       ]
      },
      {
       "output_type": "stream",
       "stream": "stdout",
       "text": [
        "\n",
        "Processing https://qmro.qmul.ac.uk/jspui/open-search/description.xml\n",
        "\tSkipping connection issues"
       ]
      },
      {
       "output_type": "stream",
       "stream": "stdout",
       "text": [
        "\n",
        "Processing https://radsci.uthscsa.edu/opensearch_desc.php\n",
        "\tSkipping connection issues"
       ]
      },
      {
       "output_type": "stream",
       "stream": "stdout",
       "text": [
        "\n",
        "Processing https://repository.abertay.ac.uk/jspui/open-search/description.xml\n",
        "\tFailed to extract Urls: likely rss+xml instead"
       ]
      },
      {
       "output_type": "stream",
       "stream": "stdout",
       "text": [
        "\n",
        "Processing https://rubygems.org/opensearch.xml\n",
        "\tFailed to extract Urls: likely rss+xml instead"
       ]
      },
      {
       "output_type": "stream",
       "stream": "stdout",
       "text": [
        "\n",
        "Processing https://secure.apha.org/imis/OpenSearch.aspx\n",
        "\tFailed to extract Urls: likely rss+xml instead"
       ]
      },
      {
       "output_type": "stream",
       "stream": "stdout",
       "text": [
        "\n",
        "Processing https://secure.fisheries.org/OpenSearch.aspx\n",
        "\tFailed to extract Urls: likely rss+xml instead"
       ]
      },
      {
       "output_type": "stream",
       "stream": "stdout",
       "text": [
        "\n",
        "Processing https://services.nycbar.org/OpenSearch.aspx\n",
        "\tFailed to extract Urls: likely rss+xml instead"
       ]
      },
      {
       "output_type": "stream",
       "stream": "stdout",
       "text": [
        "\n",
        "Processing https://spaceapps.hackpad.com/static/opensearch.xml\n",
        "\tFailed to extract Urls: likely rss+xml instead"
       ]
      },
      {
       "output_type": "stream",
       "stream": "stdout",
       "text": [
        "\n",
        "Processing https://status.fsf.org/opensearch/notice\n",
        "\tFailed to extract Urls: likely rss+xml instead"
       ]
      },
      {
       "output_type": "stream",
       "stream": "stdout",
       "text": [
        "\n",
        "Processing https://support.mozilla.org/en-US/search/xml\n",
        "\tFailed to extract Urls: likely rss+xml instead"
       ]
      },
      {
       "output_type": "stream",
       "stream": "stdout",
       "text": [
        "\n",
        "Processing https://tccon-wiki.caltech.edu/@gui/opensearch/description\n",
        "\tCatalog searchTerms: "
       ]
      },
      {
       "output_type": "stream",
       "stream": "stdout",
       "text": [
        " {'q': 'searchTerms'}\n",
        "\tExample queries:  ['Wiki']\n",
        "\tProcessing https://tccon-wiki.caltech.edu/@api/deki/site/opensearch?limit=5&format=atom&q=\n",
        "\t\tFailed request: 400"
       ]
      },
      {
       "output_type": "stream",
       "stream": "stdout",
       "text": [
        "\n",
        "Processing https://tools.ietf.org/group/rsoc/search/opensearch\n",
        "\tFailed to extract Urls: likely rss+xml instead"
       ]
      },
      {
       "output_type": "stream",
       "stream": "stdout",
       "text": [
        "\n",
        "Processing https://tracker.debian.org/search.xml\n",
        "\tFailed to extract Urls: likely rss+xml instead"
       ]
      },
      {
       "output_type": "stream",
       "stream": "stdout",
       "text": [
        "\n",
        "Processing https://weblearn.ox.ac.uk/portal/tool/8c2d6a6e-f977-42c4-8423-7728ba28e6f9/opensearch\n",
        "\tFailed to extract Urls: likely rss+xml instead"
       ]
      },
      {
       "output_type": "stream",
       "stream": "stdout",
       "text": [
        "\n",
        "Processing https://wiki.ceh.ac.uk/plugins/builder/layout-resources.action?layoutId=UKIPI&amp;key=ukipi&resource=opensearch&hash=1425296093258\n",
        "\tFailed to extract Urls: likely rss+xml instead"
       ]
      },
      {
       "output_type": "stream",
       "stream": "stdout",
       "text": [
        "\n",
        "Processing https://wiki.earthdata.nasa.gov/opensearch/osd.action\n",
        "\tFailed to extract Urls: likely rss+xml instead"
       ]
      },
      {
       "output_type": "stream",
       "stream": "stdout",
       "text": [
        "\n",
        "Processing https://wiki.ucar.edu/opensearch/osd.action\n",
        "\tFailed to extract Urls: likely rss+xml instead"
       ]
      },
      {
       "output_type": "stream",
       "stream": "stdout",
       "text": [
        "\n",
        "Processing https://www.amergeog.org/component/search/?format=opensearch\n",
        "\tFailed request"
       ]
      },
      {
       "output_type": "stream",
       "stream": "stdout",
       "text": [
        "\n",
        "Processing https://www.debian.org/search.en.xml\n",
        "\tFailed to extract Urls: likely rss+xml instead"
       ]
      },
      {
       "output_type": "stream",
       "stream": "stdout",
       "text": [
        "\n",
        "Processing https://www.efmd.org/component/search/?formId=120&format=opensearch\n",
        "\tFailed to extract Urls: likely rss+xml instead"
       ]
      },
      {
       "output_type": "stream",
       "stream": "stdout",
       "text": [
        "\n",
        "Processing https://www.eg.org/index.php/component/search/?format=opensearch\n",
        "\tFailed to extract Urls: likely rss+xml instead"
       ]
      },
      {
       "output_type": "stream",
       "stream": "stdout",
       "text": [
        "\n",
        "Processing https://www.flickr.com/opensearch.xml\n",
        "\tFailed to extract Urls: likely rss+xml instead"
       ]
      },
      {
       "output_type": "stream",
       "stream": "stdout",
       "text": [
        "\n",
        "Processing https://www.genesys-pgr.org/acn/opensearch/desc\n",
        "\tFailed to extract Urls: likely rss+xml instead"
       ]
      },
      {
       "output_type": "stream",
       "stream": "stdout",
       "text": [
        "\n",
        "Processing https://www.helcats-fp7.eu/trac/search/opensearch\n",
        "\tFailed to extract Urls: likely rss+xml instead"
       ]
      },
      {
       "output_type": "stream",
       "stream": "stdout",
       "text": [
        "\n",
        "Processing https://www.khronos.org/bugzilla/search_plugin.cgi\n",
        "\tFailed to extract Urls: likely rss+xml instead"
       ]
      },
      {
       "output_type": "stream",
       "stream": "stdout",
       "text": [
        "\n",
        "Processing https://www.metrochicagodata.org/opensearch.xml\n",
        "\tFailed to extract Urls: likely rss+xml instead"
       ]
      },
      {
       "output_type": "stream",
       "stream": "stdout",
       "text": [
        "\n",
        "Processing https://www.metrotransit.org/SearchEngineInfo.ashx\n",
        "\tCatalog searchTerms: "
       ]
      },
      {
       "output_type": "stream",
       "stream": "stdout",
       "text": [
        " {'q': 'searchTerms'}\n",
        "\tExample queries:  []\n",
        "\tProcessing https://www.metrotransit.org/SearchResults.ashx?q=\n",
        "\t\tRequested 10 out of 0"
       ]
      },
      {
       "output_type": "stream",
       "stream": "stdout",
       "text": [
        "\n",
        "\t\tCatalog reference:  https://www.metrotransit.org/SearchEngineInfo.ashx\n",
        "Processing https://www.ogf.org/ogf/lib/exe/opensearch.php\n",
        "\tSkipping connection issues"
       ]
      },
      {
       "output_type": "stream",
       "stream": "stdout",
       "text": [
        "\n",
        "Processing https://www.onepetro.org/opensearch.xml?title=OnePetro&autocompletePath=%2Fautocomplete%3Fq%3D%7BsearchTerms%7D\n",
        "\tFailed to extract Urls: likely rss+xml instead"
       ]
      },
      {
       "output_type": "stream",
       "stream": "stdout",
       "text": [
        "\n",
        "Processing https://www.openstreetmap.org/assets/osm-d89d01267300bca667d9f78511f5cb4c.xml\n",
        "\tFailed to extract Urls: likely rss+xml instead"
       ]
      },
      {
       "output_type": "stream",
       "stream": "stdout",
       "text": [
        "\n",
        "Processing https://www.owasp.org/opensearch_desc.php\n",
        "\tFailed to extract Urls: likely rss+xml instead"
       ]
      },
      {
       "output_type": "stream",
       "stream": "stdout",
       "text": [
        "\n",
        "Processing https://www.pacificsciencecenter.org/Search?format=opensearch\n",
        "\tFailed to extract Urls: likely rss+xml instead"
       ]
      },
      {
       "output_type": "stream",
       "stream": "stdout",
       "text": [
        "\n",
        "Processing https://www.sanger.ac.uk/i/xml/sanger-search.xml\n",
        "\tFailed to extract Urls: likely rss+xml instead"
       ]
      },
      {
       "output_type": "stream",
       "stream": "stdout",
       "text": [
        "\n",
        "Processing https://www.segweb.org/OpenSearch.aspx\n",
        "\tFailed to extract Urls: likely rss+xml instead"
       ]
      },
      {
       "output_type": "stream",
       "stream": "stdout",
       "text": [
        "\n",
        "Processing https://www.sida-info-service.org/sites/sida/squelettes/opensearch.xml\n",
        "\tFailed to extract Urls: likely rss+xml instead"
       ]
      },
      {
       "output_type": "stream",
       "stream": "stdout",
       "text": [
        "\n",
        "Processing https://www.terc.edu/opensearch/osd.action\n",
        "\tFailed to extract Urls: likely rss+xml instead"
       ]
      },
      {
       "output_type": "stream",
       "stream": "stdout",
       "text": [
        "\n",
        "Processing https://www.tiaacommunities.org/opensearch.xml\n",
        "\tFailed to extract Urls: likely rss+xml instead"
       ]
      },
      {
       "output_type": "stream",
       "stream": "stdout",
       "text": [
        "\n",
        "Processing https://www.xpra.org/trac/search/opensearch\n",
        "\tFailed to extract Urls: likely rss+xml instead"
       ]
      },
      {
       "output_type": "stream",
       "stream": "stdout",
       "text": [
        "\n",
        "Processing https://www.zotero.org/support/lib/exe/opensearch.php\n",
        "\tFailed to extract Urls: likely rss+xml instead"
       ]
      },
      {
       "output_type": "stream",
       "stream": "stdout",
       "text": [
        "\n",
        "Processing https://zenodo.org/opensearchdescription\n",
        "\tFailed to extract Urls: likely rss+xml instead"
       ]
      },
      {
       "output_type": "stream",
       "stream": "stdout",
       "text": [
        "\n"
       ]
      },
      {
       "output_type": "stream",
       "stream": "stderr",
       "text": [
        "//anaconda/lib/python2.7/site-packages/requests/packages/urllib3/connection.py:251: SecurityWarning: Certificate has no `subjectAltName`, falling back to check for a `commonName` for now. This feature is being removed by major browsers and deprecated by RFC 2818. (See https://github.com/shazow/urllib3/issues/497 for details.)\n",
        "  SecurityWarning\n"
       ]
      }
     ],
     "prompt_number": 180
    },
    {
     "cell_type": "code",
     "collapsed": false,
     "input": [],
     "language": "python",
     "metadata": {},
     "outputs": []
    }
   ],
   "metadata": {}
  }
 ]
}