{
 "cells": [
  {
   "cell_type": "markdown",
   "metadata": {},
   "source": [
    "### run the new processors for routing and dict building"
   ]
  },
  {
   "cell_type": "code",
   "execution_count": 2,
   "metadata": {
    "collapsed": false
   },
   "outputs": [
    {
     "ename": "SyntaxError",
     "evalue": "invalid syntax (<ipython-input-2-6149f0368d3d>, line 6)",
     "output_type": "error",
     "traceback": [
      "\u001b[0;36m  File \u001b[0;32m\"<ipython-input-2-6149f0368d3d>\"\u001b[0;36m, line \u001b[0;32m6\u001b[0m\n\u001b[0;31m    from semantics-preprocessing.lib.process_router import Router\u001b[0m\n\u001b[0m                  ^\u001b[0m\n\u001b[0;31mSyntaxError\u001b[0m\u001b[0;31m:\u001b[0m invalid syntax\n"
     ]
    }
   ],
   "source": [
    "%reload_ext autoreload\n",
    "%autoreload 2\n",
    "\n",
    "import os\n",
    "import json\n",
    "from lib.process_router import Router\n",
    "from lib.raw_response import RawResponse\n"
   ]
  },
  {
   "cell_type": "code",
   "execution_count": null,
   "metadata": {
    "collapsed": true
   },
   "outputs": [],
   "source": [
    "def _prep_response(filename):\n",
    "    # open it and get rid of all the newline junk.\n",
    "    with open(filename, 'r') as f:\n",
    "        response = f.read()\n",
    "    \n",
    "    response = response.replace('\\\\\\n', '').replace('\\r\\n', '').replace('\\\\r', '').replace('\\\\n', '')\n",
    "    return response.encode('unicode_escape')\n"
   ]
  },
  {
   "cell_type": "code",
   "execution_count": null,
   "metadata": {
    "collapsed": true
   },
   "outputs": [],
   "source": [
    "### opensearch osdd\n",
    "identity = {\n",
    "    \"protocol\": \"OpenSearch\",\n",
    "    \"service\": {\n",
    "        \"name\": \"OpenSearchDescription\"\n",
    "    }\n",
    "}\n",
    "url = 'http://www.example.com/opensearch.xml'\n",
    "response = _prep_response('../response_examples/opensearch_blended_parameters.xml')\n",
    "\n",
    "router = Router(identity, response, url)\n",
    "\n",
    "print type(router.reader)\n"
   ]
  },
  {
   "cell_type": "code",
   "execution_count": null,
   "metadata": {
    "collapsed": true
   },
   "outputs": [],
   "source": [
    "### opensearch atom feed\n",
    "identity = {\n",
    "    \"protocol\": \"OpenSearch\",\n",
    "    \"resultset\": {\n",
    "        \"dialect\": \"ATOM\"\n",
    "    }\n",
    "}\n",
    "url = ''\n",
    "response = _prep_response('')\n",
    "\n",
    "router = Router(identity, response, url)\n",
    "\n",
    "print type(router.reader)"
   ]
  },
  {
   "cell_type": "code",
   "execution_count": null,
   "metadata": {
    "collapsed": true
   },
   "outputs": [],
   "source": [
    "### oai-pmh identify\n",
    "identity = {\n",
    "    \"protocol\": \"OAI-PMH\",\n",
    "    \"service\": {\n",
    "        \"name\": \"OAI-PMH\",\n",
    "        \"request\": \"Identify\"\n",
    "    }\n",
    "}\n",
    "url = ''\n",
    "response = _prep_response('')\n",
    "\n",
    "router = Router(identity, response, url)\n",
    "\n",
    "print type(router.reader)"
   ]
  },
  {
   "cell_type": "code",
   "execution_count": null,
   "metadata": {
    "collapsed": true
   },
   "outputs": [],
   "source": [
    "### oai-pmh listrecords\n",
    "identity = {\n",
    "    \"protocol\": \"OAI-PMH\",\n",
    "    \"resultset\": {\n",
    "        \"name\": \"OAI-PMH\",\n",
    "        \"request\": \"ListRecords\",\n",
    "        \"dialect\": \"oai_dc\"\n",
    "    }\n",
    "}\n",
    "url = ''\n",
    "response = _prep_response('')\n",
    "\n",
    "router = Router(identity, response, url)\n",
    "\n",
    "print type(router.reader)"
   ]
  },
  {
   "cell_type": "code",
   "execution_count": null,
   "metadata": {
    "collapsed": true
   },
   "outputs": [],
   "source": [
    "### ogc wms\n",
    "identity = {\n",
    "    \"protocol\": \"OGC\",\n",
    "    \"service\": {\n",
    "        \"name\": \"WMS\",\n",
    "        \"request\": \"GetCapabilities\"\n",
    "    }\n",
    "}\n",
    "url = ''\n",
    "response = _prep_response('')\n",
    "\n",
    "router = Router(identity, response, url)\n",
    "\n",
    "print type(router.reader)"
   ]
  },
  {
   "cell_type": "code",
   "execution_count": null,
   "metadata": {
    "collapsed": true
   },
   "outputs": [],
   "source": [
    "### ogc wfs\n",
    "identity = {\n",
    "    \"protocol\": \"OGC\",\n",
    "    \"service\": {\n",
    "        \"name\": \"WFS\",\n",
    "        \"request\": \"GetCapabilities\"\n",
    "    }\n",
    "}\n",
    "url = ''\n",
    "response = _prep_response('')\n",
    "\n",
    "router = Router(identity, response, url)\n",
    "\n",
    "print type(router.reader)"
   ]
  },
  {
   "cell_type": "code",
   "execution_count": null,
   "metadata": {
    "collapsed": true
   },
   "outputs": [],
   "source": [
    "### ogc wfs features\n",
    "identity = {\n",
    "    \"protocol\": \"OGC\",\n",
    "    \"dataset\": {\n",
    "        \"name\": \"WFS\",\n",
    "        \"request\": \"GetCapabilities\"\n",
    "    }\n",
    "}\n",
    "url = ''\n",
    "response = _prep_response('')\n",
    "\n",
    "router = Router(identity, response, url)\n",
    "\n",
    "print type(router.reader)"
   ]
  },
  {
   "cell_type": "code",
   "execution_count": null,
   "metadata": {
    "collapsed": true
   },
   "outputs": [],
   "source": [
    "### ogc wcs\n",
    "identity = {\n",
    "    \"protocol\": \"OGC\",\n",
    "    \"service\": {\n",
    "        \"name\": \"WCS\",\n",
    "        \"request\": \"GetCapabilities\"\n",
    "    }\n",
    "}\n",
    "url = ''\n",
    "response = _prep_response('')\n",
    "\n",
    "router = Router(identity, response, url)\n",
    "\n",
    "print type(router.reader)"
   ]
  },
  {
   "cell_type": "code",
   "execution_count": null,
   "metadata": {
    "collapsed": true
   },
   "outputs": [],
   "source": [
    "### ogc wcs features\n",
    "identity = {\n",
    "    \"protocol\": \"OGC\",\n",
    "    \"dataset\": {\n",
    "        \"name\": \"WCS\",\n",
    "        \"request\": \"DescribeCoverage\"\n",
    "    }\n",
    "}\n",
    "url = ''\n",
    "response = _prep_response('')\n",
    "\n",
    "router = Router(identity, response, url)\n",
    "\n",
    "print type(router.reader)"
   ]
  },
  {
   "cell_type": "code",
   "execution_count": null,
   "metadata": {
    "collapsed": true
   },
   "outputs": [],
   "source": [
    "### ogc csw\n",
    "identity = {\n",
    "    \"protocol\": \"OGC\",\n",
    "    \"service\": {\n",
    "        \"name\": \"CSW\",\n",
    "        \"request\": \"GetCapabilities\"\n",
    "    }\n",
    "}\n",
    "url = ''\n",
    "response = _prep_response('')\n",
    "\n",
    "router = Router(identity, response, url)\n",
    "\n",
    "print type(router.reader)"
   ]
  },
  {
   "cell_type": "code",
   "execution_count": null,
   "metadata": {
    "collapsed": true
   },
   "outputs": [],
   "source": [
    "### ogc csw results\n",
    "identity = {\n",
    "    \"protocol\": \"OGC\",\n",
    "    \"resultset\": {\n",
    "        \"name\": \"CSW\",\n",
    "        \"request\": \"GetRecords\",\n",
    "        \"dialect\": \"\"\n",
    "    }\n",
    "}\n",
    "url = ''\n",
    "response = _prep_response('')\n",
    "\n",
    "router = Router(identity, response, url)\n",
    "\n",
    "print type(router.reader)"
   ]
  },
  {
   "cell_type": "code",
   "execution_count": null,
   "metadata": {
    "collapsed": true
   },
   "outputs": [],
   "source": [
    "### thredds\n",
    "identity = {\n",
    "    \"protocol\": \"UNIDATA\",\n",
    "    \"service\": {\n",
    "        \"name\": \"THREDDS-Catalog\"\n",
    "    }\n",
    "}\n",
    "url = ''\n",
    "response = _prep_response('')\n",
    "\n",
    "router = Router(identity, response, url)\n",
    "\n",
    "print type(router.reader)"
   ]
  },
  {
   "cell_type": "code",
   "execution_count": null,
   "metadata": {
    "collapsed": true
   },
   "outputs": [],
   "source": [
    "### iso mi/md\n",
    "identity = {\n",
    "    \"protocol\": \"ISO\",\n",
    "    \"metadata\": {\n",
    "        \"name\": \"19115\"\n",
    "    }\n",
    "}\n",
    "url = ''\n",
    "response = _prep_response('')\n",
    "\n",
    "router = Router(identity, response, url)\n",
    "\n",
    "print type(router.reader)"
   ]
  },
  {
   "cell_type": "code",
   "execution_count": null,
   "metadata": {
    "collapsed": true
   },
   "outputs": [],
   "source": [
    "### iso data series\n",
    "identity = {\n",
    "    \"protocol\": \"ISO\",\n",
    "    \"metadata\": {\n",
    "        \"name\": \"Data Series\"\n",
    "    }\n",
    "}\n",
    "url = ''\n",
    "response = _prep_response('')\n",
    "\n",
    "router = Router(identity, response, url)\n",
    "\n",
    "print type(router.reader)"
   ]
  }
 ],
 "metadata": {
  "kernelspec": {
   "display_name": "Python 2",
   "language": "python",
   "name": "python2"
  },
  "language_info": {
   "codemirror_mode": {
    "name": "ipython",
    "version": 2
   },
   "file_extension": ".py",
   "mimetype": "text/x-python",
   "name": "python",
   "nbconvert_exporter": "python",
   "pygments_lexer": "ipython2",
   "version": "2.7.10"
  }
 },
 "nbformat": 4,
 "nbformat_minor": 0
}
