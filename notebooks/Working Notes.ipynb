{
 "cells": [
  {
   "cell_type": "markdown",
   "metadata": {},
   "source": [
    "On excluding ISO chunks"
   ]
  },
  {
   "cell_type": "code",
   "execution_count": 44,
   "metadata": {
    "collapsed": false
   },
   "outputs": [
    {
     "name": "stdout",
     "output_type": "stream",
     "text": [
      "[]\n",
      "[<Element {http://www.isotc211.org/2005/gmi}CI_Citation at 0x107cce440>]\n"
     ]
    }
   ],
   "source": [
    "from lxml import etree\n",
    "\n",
    "to_test = '''<?xml version = '1.0' encoding = 'UTF-8'?>\n",
    "<gmd:CI_Citation xmlns:gmd=\"http://www.isotc211.org/2005/gmd\"\n",
    "    xmlns:gml=\"http://www.opengis.net/gml/3.2\" xmlns:xlink=\"http://www.w3.org/1999/xlink\"\n",
    "    xmlns:gco=\"http://www.isotc211.org/2005/gco\" xmlns:gmi=\"http://www.isotc211.org/2005/gmi\"\n",
    "    xmlns:gmx=\"http://www.isotc211.org/2005/gmx\" xmlns:gsr=\"http://www.isotc211.org/2005/gsr\"\n",
    "    xmlns=\"http://www.isotc211.org/2005/gmi\" xmlns:xsi=\"http://www.w3.org/2001/XMLSchema-instance\"\n",
    "    xsi:schemaLocation=\"http://www.isotc211.org/2005/gmi  http://www.ngdc.noaa.gov/metadata/published/xsd/schema.xsd\"\n",
    "    uuid=\"227737d0-428b-11df-9879-0800200c9a66\">\n",
    "    <gmd:title>\n",
    "        <gco:CharacterString>NASA/GCMD Science Keywords</gco:CharacterString>\n",
    "    </gmd:title>\n",
    "    <gmd:date gco:nilReason=\"unknown\"/>\n",
    "    <gmd:citedResponsibleParty\n",
    "        xlink:href=\"http://www.ngdc.noaa.gov/docucomp/8294BEE08B11359FE040AC8C5AB460D1\"\n",
    "        xlink:title=\"GCMD User Support Office\"/>\n",
    "    <gmd:citedResponsibleParty\n",
    "        xlink:href=\"http://www.ngdc.noaa.gov/docucomp/1edb41d0-428a-11df-9879-0800200c9a66\"\n",
    "        xlink:title=\"GCMD Valids\"/>\n",
    "</gmd:CI_Citation>\n",
    "'''\n",
    "\n",
    "\n",
    "# strip out the xml ref\n",
    "xml = etree.fromstring(to_test)\n",
    "to_test = etree.tostring(xml)\n",
    "\n",
    "ns = dict(xml.xpath('/*/namespace::*'))\n",
    "if None in ns:\n",
    "    ns['default'] = ns[None]\n",
    "    del ns[None]\n",
    "\n",
    "node = xml.xpath('/*[local-name() = \"MD_Metadata\"] | /*[local-name() = \"MI_Metadata\"]', namespaces=ns)\n",
    "print node\n",
    "\n",
    "node = xml.xpath('/*[local-name() = \"CI_Citation\"]', namespaces=ns)\n",
    "node\n",
    "\n",
    "to_test = '''<?xml version = '1.0' encoding = 'UTF-8'?>\n",
    "<CI_Citation xmlns:gmd=\"http://www.isotc211.org/2005/gmd\"\n",
    "    xmlns:gml=\"http://www.opengis.net/gml/3.2\" xmlns:xlink=\"http://www.w3.org/1999/xlink\"\n",
    "    xmlns:gco=\"http://www.isotc211.org/2005/gco\" xmlns:gmi=\"http://www.isotc211.org/2005/gmi\"\n",
    "    xmlns:gmx=\"http://www.isotc211.org/2005/gmx\" xmlns:gsr=\"http://www.isotc211.org/2005/gsr\"\n",
    "    xmlns=\"http://www.isotc211.org/2005/gmi\" xmlns:xsi=\"http://www.w3.org/2001/XMLSchema-instance\"\n",
    "    xsi:schemaLocation=\"http://www.isotc211.org/2005/gmi  http://www.ngdc.noaa.gov/metadata/published/xsd/schema.xsd\"\n",
    "    uuid=\"227737d0-428b-11df-9879-0800200c9a66\">\n",
    "    <gmd:title>\n",
    "        <gco:CharacterString>NASA/GCMD Science Keywords</gco:CharacterString>\n",
    "    </gmd:title>\n",
    "    <gmd:date gco:nilReason=\"unknown\"/>\n",
    "    <gmd:citedResponsibleParty\n",
    "        xlink:href=\"http://www.ngdc.noaa.gov/docucomp/8294BEE08B11359FE040AC8C5AB460D1\"\n",
    "        xlink:title=\"GCMD User Support Office\"/>\n",
    "    <gmd:citedResponsibleParty\n",
    "        xlink:href=\"http://www.ngdc.noaa.gov/docucomp/1edb41d0-428a-11df-9879-0800200c9a66\"\n",
    "        xlink:title=\"GCMD Valids\"/>\n",
    "</CI_Citation>\n",
    "'''\n",
    "xml = etree.fromstring(to_test)\n",
    "to_test = etree.tostring(xml)\n",
    "\n",
    "ns = dict(xml.xpath('/*/namespace::*'))\n",
    "if None in ns:\n",
    "    ns['default'] = ns[None]\n",
    "    del ns[None]\n",
    "\n",
    "# verify the default namespace \n",
    "node = xml.xpath('/*[local-name() = \"CI_Citation\"]', namespaces=ns)\n",
    "print node"
   ]
  },
  {
   "cell_type": "code",
   "execution_count": 23,
   "metadata": {
    "collapsed": false
   },
   "outputs": [
    {
     "name": "stdout",
     "output_type": "stream",
     "text": [
      "[]\n"
     ]
    }
   ],
   "source": [
    "to_test = '''<?xml version = '1.0' encoding = 'UTF-8'?>\n",
    "<gmd:CI_Citation xmlns:gmd=\"http://www.isotc211.org/2005/gmd\"\n",
    "    xmlns:gml=\"http://www.opengis.net/gml/3.2\" xmlns:xlink=\"http://www.w3.org/1999/xlink\"\n",
    "    xmlns:gco=\"http://www.isotc211.org/2005/gco\" xmlns:gmi=\"http://www.isotc211.org/2005/gmi\"\n",
    "    xmlns:gmx=\"http://www.isotc211.org/2005/gmx\" xmlns:gsr=\"http://www.isotc211.org/2005/gsr\"\n",
    "    xmlns=\"http://www.isotc211.org/2005/gmi\" xmlns:xsi=\"http://www.w3.org/2001/XMLSchema-instance\"\n",
    "    xsi:schemaLocation=\"http://www.isotc211.org/2005/gmi  http://www.ngdc.noaa.gov/metadata/published/xsd/schema.xsd\"\n",
    "    uuid=\"227737d0-428b-11df-9879-0800200c9a66\">\n",
    "    <gmd:title>\n",
    "        <gco:CharacterString>NASA/GCMD Science Keywords</gco:CharacterString>\n",
    "    </gmd:title>\n",
    "    <gmd:date gco:nilReason=\"unknown\"/>\n",
    "    <gmd:citedResponsibleParty\n",
    "        xlink:href=\"http://www.ngdc.noaa.gov/docucomp/8294BEE08B11359FE040AC8C5AB460D1\"\n",
    "        xlink:title=\"GCMD User Support Office\"/>\n",
    "    <gmd:citedResponsibleParty\n",
    "        xlink:href=\"http://www.ngdc.noaa.gov/docucomp/1edb41d0-428a-11df-9879-0800200c9a66\"\n",
    "        xlink:title=\"GCMD Valids\"/>\n",
    "</gmd:CI_Citation>\n",
    "'''\n",
    "\n",
    "\n",
    "# strip out the xml ref\n",
    "xml = etree.fromstring(to_test)\n",
    "to_test = etree.tostring(xml)\n",
    "\n",
    "ns = dict(xml.xpath('/*/namespace::*'))\n",
    "if None in ns:\n",
    "    ns['default'] = ns[None]\n",
    "    del ns[None]\n",
    "\n",
    "node = xml.xpath('/*[local-name() = \"MD_Metadata\"] | /*[local-name() = \"MI_Metadata\"]', namespaces=ns)\n",
    "\n",
    "has_md = node not in [None, '', []]\n",
    "print node"
   ]
  },
  {
   "cell_type": "markdown",
   "metadata": {},
   "source": [
    "Checking for some depth of Layer in a WMS GetCapabilities"
   ]
  },
  {
   "cell_type": "code",
   "execution_count": 26,
   "metadata": {
    "collapsed": false
   },
   "outputs": [
    {
     "name": "stdout",
     "output_type": "stream",
     "text": [
      "http://www.example.com/parent\n",
      "http://www.example.com/child\n"
     ]
    }
   ],
   "source": [
    "text = '''<metadata>\n",
    "    <Contents>\n",
    "        <Layer>\n",
    "            <name>parent</name>\n",
    "            <MetadataUrl>http://www.example.com/parent</MetadataUrl>\n",
    "            <Layer>\n",
    "                <name>child</name>\n",
    "                <MetadataUrl>http://www.example.com/child</MetadataUrl>\n",
    "            </Layer>\n",
    "        </Layer>\n",
    "    </Contents>\n",
    "</metadata>\n",
    "'''\n",
    "\n",
    "xml = etree.fromstring(text)\n",
    "layers = xml.xpath('//Layer/MetadataUrl')\n",
    "for layer in layers:\n",
    "    print layer.text"
   ]
  },
  {
   "cell_type": "markdown",
   "metadata": {},
   "source": [
    "For the ds metadata flagging"
   ]
  },
  {
   "cell_type": "code",
   "execution_count": 28,
   "metadata": {
    "collapsed": false
   },
   "outputs": [
    {
     "data": {
      "text/plain": [
       "[<Element {http://www.isotc211.org/2005/gmd}MD_Metadata at 0x104e91b90>]"
      ]
     },
     "execution_count": 28,
     "metadata": {},
     "output_type": "execute_result"
    }
   ],
   "source": [
    "text = '''<DS_Series xmlns=\"http://www.isotc211.org/2005/gmd\" xmlns:gco=\"http://www.isotc211.org/2005/gco\" xmlns:gml=\"http://www.opengis.net/gml/3.2\" xmlns:gsr=\"http://www.isotc211.org/2005/gsr\" xmlns:gss=\"http://www.isotc211.org/2005/gss\" xmlns:gts=\"http://www.isotc211.org/2005/gts\" xmlns:xlink=\"http://www.w3.org/1999/xlink\" xmlns:xsi=\"http://www.w3.org/2001/XMLSchema-instance\" xsi:schemaLocation=\"http://www.isotc211.org/2005/gmd http://schemas.opengis.net/iso/19139/20070417/gmd/gmd.xsd\">\n",
    "    <composedOf>\n",
    "        <DS_DataSet>\n",
    "            <has>\n",
    "                <MD_Metadata>\n",
    "                    <parentIdentifier>\n",
    "                        <gco:CharacterString>NOAA ENC Product Catalog MN State</gco:CharacterString>\n",
    "                    </parentIdentifier>\n",
    "                    <hierarchyLevel>\n",
    "                        <MD_ScopeCode codeList=\"http://www.isotc211.org/2005/resources/Codelist/gmxCodelists.xml#MD_ScopeCode\" codeListValue=\"dataset\">dataset</MD_ScopeCode>\n",
    "                    </hierarchyLevel>\n",
    "                    <hierarchyLevelName>\n",
    "                        <gco:CharacterString>NOAA ENC</gco:CharacterString>\n",
    "                    </hierarchyLevelName>\n",
    "                </MD_Metadata>\n",
    "            </has>\n",
    "        </DS_DataSet>\n",
    "    </composedOf>\n",
    "</DS_Series>'''\n",
    "\n",
    "xml = etree.fromstring(text)\n",
    "xp = '/*/gmd:composedOf/gmd:DS_DataSet/gmd:has/gmd:MD_Metadata'\n",
    "ns = dict(xml.xpath('/*/namespace::*'))\n",
    "if None in ns:\n",
    "    ns['gmd'] = ns[None]\n",
    "    del ns[None]\n",
    "\n",
    "xml.xpath(xp, namespaces=ns)\n"
   ]
  },
  {
   "cell_type": "markdown",
   "metadata": {},
   "source": [
    "For some thredds xpaths tests"
   ]
  },
  {
   "cell_type": "code",
   "execution_count": 47,
   "metadata": {
    "collapsed": false
   },
   "outputs": [
    {
     "data": {
      "text/plain": [
       "[<Element {http://www.unidata.ucar.edu/namespaces/thredds/InvCatalog/v1.0}catalog at 0x111542dd0>]"
      ]
     },
     "execution_count": 47,
     "metadata": {},
     "output_type": "execute_result"
    }
   ],
   "source": [
    "text = '''<?xml version=\"1.0\" encoding=\"UTF-8\"?>\n",
    "<catalog xmlns=\"http://www.unidata.ucar.edu/namespaces/thredds/InvCatalog/v1.0\" \n",
    "    xmlns:xlink=\"http://www.w3.org/1999/xlink\" \n",
    "    xmlns:xsi=\"http://www.w3.org/2001/XMLSchema-instance\" \n",
    "    xsi:schemaLocation=\"http://www.unidata.ucar.edu/namespaces/thredds/InvCatalog/v1.0 http://www.unidata.ucar.edu/schemas/thredds/InvCatalog.1.0.2.xsd\" \n",
    "    version=\"1.0.2\" name=\"Actinic Flux measurements during OASIS Barrow field intensive Spring 2009\">\n",
    "    <service name=\"codiac_order\" base=\"http://data.eol.ucar.edu/codiac/fgr_form/id=\" serviceType=\"WebForm\" desc=\"Codiac access: order, subset, change formats; pickup data by FTP\"/>\n",
    "    <dataset authority=\"edu.ucar.eol.codiac\" ID=\"ucar.ncar.eol.dataset.106_359\" name=\"Actinic Flux measurements during OASIS Barrow field intensive Spring 2009\" harvest=\"true\">\n",
    "        <metadata xlink:href=\"http://data.eol.ucar.edu/jedi/catalog/ucar.ncar.eol.dataset.106_359.metadata.xml\" metadataType=\"THREDDS\" inherited=\"true\"/>\n",
    "        <access serviceName=\"codiac_order\" urlPath=\"106.359\"/>\n",
    "        <catalogRef xlink:title=\"companion: Location information and pictures of the OASIS Barrow field intensive Spring 2009\" xlink:href=\"http://data.eol.ucar.edu/jedi/catalog/ucar.ncar.eol.dataset.106_366.thredds.xml\"/>\n",
    "    </dataset>\n",
    "</catalog>'''\n",
    "xml = etree.fromstring(text)\n",
    "ns = dict(xml.xpath('/*/namespace::*'))\n",
    "if None in ns:\n",
    "    ns['t'] = ns[None]\n",
    "    del ns[None]\n",
    "\n",
    "xp = '/t:catalog/t:service'\n",
    "elem = xml.xpath(xp, namespaces=ns)\n",
    "elem[0].attrib['name']\n",
    "\n",
    "xml.xpath('/*[local-name()=\"catalog\"]')"
   ]
  },
  {
   "cell_type": "code",
   "execution_count": 16,
   "metadata": {
    "collapsed": false
   },
   "outputs": [
    {
     "data": {
      "text/plain": [
       "['i', 'a', 'b', 'c', 'd', 'e']"
      ]
     },
     "execution_count": 16,
     "metadata": {},
     "output_type": "execute_result"
    }
   ],
   "source": [
    "from itertools import chain\n",
    "import operator\n",
    "import collections\n",
    "\n",
    "i = ['1', ['2', '3']]\n",
    "reduce(operator.add, map(lambda x: list(x), [a for a in i]))\n",
    "\n",
    "c = ['i', ['a', 'b'], [['c', 'd'], 'e']]\n",
    "reduce(operator.add, map(lambda x: list(x), [a for a in c]))\n",
    "\n",
    "def flatten(item):\n",
    "    for i in item:\n",
    "        if isinstance(i, collections.Iterable) and not isinstance(i, basestring):\n",
    "            for subitem in flatten(i):\n",
    "                yield subitem\n",
    "        else: \n",
    "            yield i\n",
    "    \n",
    "list(flatten(c))    "
   ]
  },
  {
   "cell_type": "markdown",
   "metadata": {},
   "source": [
    "sigh. flattening some dict to get terminal strings."
   ]
  },
  {
   "cell_type": "code",
   "execution_count": 41,
   "metadata": {
    "collapsed": false
   },
   "outputs": [
    {
     "name": "stdout",
     "output_type": "stream",
     "text": [
      "dict:  {'url': 'nope', 'second': ['a', 'b'], 'third': [{'child': ['c', 'd']}, 'e'], 'first': 'i'}\n",
      "dict:  {'child': ['c', 'd']}\n",
      "basic string:  i\n",
      "['a', 'b', 'c', 'd', 'e', 'i']\n",
      "['i', 'a', 'b', 'c', 'd', 'e']\n"
     ]
    }
   ],
   "source": [
    "# our recursion\n",
    "def flatten(items, excluded_keys=['url']):\n",
    "    def _flatten(item):\n",
    "        if isinstance(item, dict):\n",
    "            print 'dict: ', item\n",
    "            for k, v in item.iteritems():\n",
    "                if k in excluded_keys:\n",
    "                    continue\n",
    "                yield list(_flatten(v))\n",
    "        elif isinstance(item, list):\n",
    "            for i in item:\n",
    "                if isinstance(i, collections.Iterable) and not isinstance(i, basestring):\n",
    "                    for subitem in _flatten(i):\n",
    "                        yield subitem\n",
    "                else: \n",
    "                    yield i\n",
    "            # yield list(flatten(item))\n",
    "        elif isinstance(item, str):\n",
    "            print 'basic string: ', item\n",
    "            yield item\n",
    "\n",
    "    arr = list(_flatten(items))\n",
    "    #print 'arr: ', [isinstance(a, collections.Iterable) and not isinstance(a, basestring) for a in arr]\n",
    "    if len([isinstance(a, collections.Iterable) and not isinstance(a, basestring) for a in arr]) > 0:\n",
    "        return list(_flatten(arr))\n",
    "\n",
    "    return arr\n",
    "\n",
    "# TODO: run the generator\n",
    "# bag_of_words = ['i', ['a', 'b'], [['c', 'd'], 'e']]\n",
    "\n",
    "bag_of_words = {'first': 'i', \n",
    "                    'second': ['a', 'b'], \n",
    "                    'third': [{'child': ['c', 'd']}, 'e'],\n",
    "                    'url': 'nope'\n",
    "                }\n",
    "print list(flatten(bag_of_words))\n",
    "\n",
    "\n",
    "bag_of_words = ['i', ['a', 'b'], [['c', 'd'], 'e']]\n",
    "print list(flatten(bag_of_words))"
   ]
  },
  {
   "cell_type": "code",
   "execution_count": 1,
   "metadata": {
    "collapsed": false
   },
   "outputs": [
    {
     "ename": "ImportError",
     "evalue": "No module named lib.thredds_preprocessors",
     "output_type": "error",
     "traceback": [
      "\u001b[0;31m---------------------------------------------------------------------------\u001b[0m\n\u001b[0;31mImportError\u001b[0m                               Traceback (most recent call last)",
      "\u001b[0;32m<ipython-input-1-9df6fb46362f>\u001b[0m in \u001b[0;36m<module>\u001b[0;34m()\u001b[0m\n\u001b[0;32m----> 1\u001b[0;31m \u001b[0;32mfrom\u001b[0m \u001b[0mlib\u001b[0m\u001b[0;34m.\u001b[0m\u001b[0mthredds_preprocessors\u001b[0m \u001b[0;32mimport\u001b[0m \u001b[0mThreddsReader\u001b[0m\u001b[0;34m\u001b[0m\u001b[0m\n\u001b[0m\u001b[1;32m      2\u001b[0m \u001b[0;34m\u001b[0m\u001b[0m\n\u001b[1;32m      3\u001b[0m \u001b[0;32mwith\u001b[0m \u001b[0mopen\u001b[0m\u001b[0;34m(\u001b[0m\u001b[0;34m'../testdata/thredds/acdisc.xml'\u001b[0m\u001b[0;34m,\u001b[0m \u001b[0;34m'r'\u001b[0m\u001b[0;34m)\u001b[0m \u001b[0;32mas\u001b[0m \u001b[0mf\u001b[0m\u001b[0;34m:\u001b[0m\u001b[0;34m\u001b[0m\u001b[0m\n\u001b[1;32m      4\u001b[0m     \u001b[0mtext\u001b[0m \u001b[0;34m=\u001b[0m \u001b[0mf\u001b[0m\u001b[0;34m.\u001b[0m\u001b[0mread\u001b[0m\u001b[0;34m(\u001b[0m\u001b[0;34m)\u001b[0m\u001b[0;34m\u001b[0m\u001b[0m\n\u001b[1;32m      5\u001b[0m \u001b[0;34m\u001b[0m\u001b[0m\n",
      "\u001b[0;31mImportError\u001b[0m: No module named lib.thredds_preprocessors"
     ]
    }
   ],
   "source": [
    "from lib.thredds_preprocessors import ThreddsReader\n",
    "\n",
    "with open('../testdata/thredds/acdisc.xml', 'r') as f:\n",
    "    text = f.read()\n",
    "\n",
    "thredds = ThreddsReader(text)\n",
    "\n",
    "\n",
    "\n",
    "\n",
    "\n",
    "\n"
   ]
  },
  {
   "cell_type": "code",
   "execution_count": 29,
   "metadata": {
    "collapsed": false
   },
   "outputs": [
    {
     "name": "stdout",
     "output_type": "stream",
     "text": [
      "[u'text/xml', u'text/turtle', u'text/tab-separated-values', u'text/csv', u'multipart/form-data', u'image/tiff', u'image/png', u'image/jpeg', u'image/gif', u'application/wsdl+xml', u'application/wspolicy+xml', u'application/x-www-form-urlencoded', u'application/xenc+xml', u'application/xhtml+xml', u'application/xml', u'application/vnd.lotus-1-2-3', u'application/vnd.ogc.wms_xml', u'application/vnd.google-earth.kml+xml']\n",
      "\n",
      "Classic Northern Chinese noodle dish. Mama makes it with fresh organic egg \n",
      "noodle topped with savory ground  pork sauce and julienne vegetables. Chicken, \n",
      "pickled greens, sprouts, ginger, and  rice noodle in chicken  broth with \n",
      "lots of love. \n",
      "\n",
      "[u'Classic', u'Northern', u'Chines', u'noodl', u'dish', u'Mama', u'make', u'fresh', u'organ', u'egg', u'noodl', u'top', u'savori', u'ground', u'pork', u'sauc', u'julienn', u'veget', u'Chicken', u'pickl', u'green', u'sprout', u'ginger', u'rice', u'noodl', u'chicken', u'broth', u'lot', u'love']\n",
      "['Classic', 'Northern', 'Chinese', 'noodle', 'dish', 'Mama', u'make', 'fresh', 'organic', 'egg', 'noodle', 'topped', 'savory', 'ground', 'pork', 'sauce', 'julienne', u'vegetable', 'Chicken', 'pickled', u'green', u'sprout', 'ginger', 'rice', 'noodle', 'chicken', 'broth', u'lot', 'love']\n"
     ]
    }
   ],
   "source": [
    "from nltk.corpus import WordListCorpusReader\n",
    "corpus_root = '../lib/corpus'\n",
    "mimetypes = WordListCorpusReader(corpus_root, 'mimetypes.txt')\n",
    "print mimetypes.words()\n",
    "\n",
    "from nltk.tokenize import word_tokenize\n",
    "from nltk.corpus import stopwords\n",
    "from nltk.stem.wordnet import WordNetLemmatizer\n",
    "from nltk.stem.porter import *\n",
    "\n",
    "_stemmer = PorterStemmer()\n",
    "_stopwords = set(stopwords.words('english'))\n",
    "_lem = WordNetLemmatizer()\n",
    "\n",
    "\n",
    "import re\n",
    "\n",
    "test = '''\n",
    "Classic Northern Chinese noodle dish. Mama makes it with fresh organic egg \n",
    "noodle topped with savory ground text/turtle pork sauce and julienne vegetables. Chicken, \n",
    "pickled greens, sprouts, ginger, and image/gif rice noodle in chicken application/vnd.google-earth.kml+xml broth with \n",
    "lots of love. \n",
    "'''\n",
    "\n",
    "# and escape some of the chars for the regex (the plus)\n",
    "words = [w.replace('+', '\\+') for w in mimetypes.words()]\n",
    "\n",
    "pttn = re.compile('|'.join(words))\n",
    "replaced = pttn.sub('', test)\n",
    "print replaced\n",
    "\n",
    "# re.sub(r'application/vnd.google-earth.kml\\+xml', '?', test)\n",
    "\n",
    "# what about identifying the mimetypes in the text\n",
    "[w for w in mimetypes.words() if w in test]\n",
    "\n",
    "\n",
    "# use the replaced text for the stemming tests\n",
    "# remove the punctuation (in the easiest way no cares given)\n",
    "all_words = replaced.replace('.', '').replace(',', '')\n",
    "# tokenize the words\n",
    "all_words = word_tokenize(all_words) \n",
    "# remove stopwords\n",
    "all_words = [w for w in all_words if w not in _stopwords]\n",
    "# stemming\n",
    "stemmed_words = [_stemmer.stem(w) for w in all_words]\n",
    "print stemmed_words\n",
    "# lemmatization\n",
    "lemmatized_words = [_lem.lemmatize(w, pos='n') for w in all_words]\n",
    "print lemmatized_words"
   ]
  },
  {
   "cell_type": "code",
   "execution_count": 40,
   "metadata": {
    "collapsed": false
   },
   "outputs": [
    {
     "data": {
      "text/plain": [
       "['testdata/luigi/parse',\n",
       " 'testdata/luigi/text',\n",
       " 'testdata/luigi/identify',\n",
       " 'testdata/luigi/clean']"
      ]
     },
     "execution_count": 40,
     "metadata": {},
     "output_type": "execute_result"
    }
   ],
   "source": [
    "import yaml \n",
    "\n",
    "text = '''Clean:\n",
    "  input_directory: 'testdata/docs'\n",
    "  output_directory: 'testdata/luigi/clean'\n",
    "    \n",
    "Identify:\n",
    "  identifiers:\n",
    "    - lib/configs/rdf_identifier.yaml\n",
    "    - lib/configs/ogc_identifier.yaml\n",
    "    - lib/configs/opensearch_identifier.yaml\n",
    "    - lib/configs/iso_identifier.yaml\n",
    "    - lib/configs/oaipmh_identifier.yaml\n",
    "    - lib/configs/thredds_identifier.yaml\n",
    "  input_directory: 'testdata/luigi/clean'\n",
    "  output_directory: 'testdata/luigi/identify'\n",
    "\n",
    "Parse:\n",
    "  input_directory: 'testdata/luigi/identify'\n",
    "  output_directory: 'testdata/luigi/parse'\n",
    "  params:\n",
    "    process_unidentified: true\n",
    "\n",
    "TextPreprocessing:\n",
    "  input_directory: 'testdata/luigi/parse'\n",
    "  output_directory: 'testdata/luigi/text'\n",
    "  tasks: \n",
    "    detect_language:\n",
    "      params:\n",
    "        keep_text: true\n",
    "    normalize_keywords:\n",
    "      # params:\n",
    "'''\n",
    "\n",
    "data = yaml.load(text)\n",
    "data\n",
    "\n",
    "data.get('Clean', '')\n",
    "\n",
    "[a['output_directory'] for a in data.values() if 'output_directory' in a]"
   ]
  },
  {
   "cell_type": "code",
   "execution_count": 42,
   "metadata": {
    "collapsed": false
   },
   "outputs": [
    {
     "data": {
      "text/plain": [
       "[('Hydrographic Surveys for Selected Locations Within the United States (hydro_bathy_2006)',\n",
       "  ('en', 0.9999999999999278)),\n",
       " ('EARTH SCIENCE > Oceans > Bathymetry/Seafloor Topography > Bathymetry',\n",
       "  ('en', 0.45004643535610744)),\n",
       " ('EARTH SCIENCE > Oceans > Bathymetry/Seafloor Topography > Seafloor Topography',\n",
       "  ('nl', 0.9490887215214763)),\n",
       " ('EARTH SCIENCE > Oceans > Bathymetry/Seafloor Topography > Water Depth',\n",
       "  ('en', 0.45004643535610744)),\n",
       " ('EARTH SCIENCE > Oceans > Marine Sediments > Sediment Composition',\n",
       "  ('fr', 0.609544322402004)),\n",
       " ('DOC/NOAA/NESDIS/NGDC > National Geophysical Data Center, NESDIS, NOAA, U.S. Department of Commerce',\n",
       "  ('en', 0.9999983509700777)),\n",
       " ('In Situ Ocean-based Platforms > SHIPS', ('en', 0.9513107933024825)),\n",
       " ('In Situ/Laboratory Instruments > Profilers/Sounders > Acoustic Sounders > > MSBS > Multibeam Swath Bathymetry System',\n",
       "  ('en', 0.9998591699188669)),\n",
       " ('In Situ/Laboratory Instruments > Profilers/Sounders > Acoustic Sounders > > MBES > Multibeam Mapping System',\n",
       "  ('en', 0.9975842306925397)),\n",
       " ('In Situ/Laboratory Instruments > Profilers/Sounders > Acoustic Sounders > > SONAR > Sound Navigation and Ranging',\n",
       "  ('en', 0.9999999625391928)),\n",
       " ('In Situ/Laboratory Instruments > Profilers/Sounders > Acoustic Sounders',\n",
       "  ('en', 0.9975842306925397)),\n",
       " ('Earth Remote Sensing Instruments > Passive Remote Sensing > Positioning/Navigation > GPS > GPS RECEIVERS',\n",
       "  ('en', 0.754014972323513)),\n",
       " ('Earth Remote Sensing Instruments > Passive Remote Sensing > Positioning/Navigation > GPS > GPS/IMU > Global Positioning System/Inertial Measurement Unit',\n",
       "  ('en', 0.9770843192044882)),\n",
       " ('Connecticut', ('en', 0.16946150595865334)),\n",
       " ('HAMMONASSET PT.', ('fr', 0.2231261885549759)),\n",
       " ('HAMMONASSET PT.', ('fr', 0.2231261885549759))]"
      ]
     },
     "execution_count": 42,
     "metadata": {},
     "output_type": "execute_result"
    }
   ],
   "source": [
    "import re\n",
    "import HTMLParser\n",
    "import langid\n",
    "\n",
    "def normalize_subjects(subjects, do_split=False, return_unique=True):\n",
    "    if not subjects:\n",
    "        return\n",
    "\n",
    "    normalized_subjects = []\n",
    "    for subject in subjects:\n",
    "        if not subject:\n",
    "            # skip any empty tag\n",
    "            continue\n",
    "        normalized = normalize_keyword_text(subject)\n",
    "        normalized_subjects += [n.strip() for n in normalized.split(',')] \\\n",
    "            if do_split else [normalized]\n",
    "\n",
    "    return list(set(normalized_subjects)) if return_unique else normalized_subjects\n",
    "\n",
    "\n",
    "def normalize_keyword_text(keyword_string):\n",
    "    if not keyword_string:\n",
    "        return\n",
    "\n",
    "    # unescape\n",
    "    hp = HTMLParser.HTMLParser()\n",
    "    keyword_string = hp.unescape(keyword_string)\n",
    "\n",
    "    # replace underscores (assume these are NOT delimiters\n",
    "    #    but phrase concatenators)\n",
    "    underscore_pattern = r'[_]'\n",
    "    keyword_string = re.sub(underscore_pattern, ' ', keyword_string)\n",
    "\n",
    "    punctuation_pattern = r'[;|>+:=+]'\n",
    "    return re.sub(punctuation_pattern, ',', keyword_string)\n",
    "\n",
    "def is_english(test_string):\n",
    "    language, confidence = langid.classify(test_string)\n",
    "    return language, confidence\n",
    "\n",
    "subjects = [\n",
    "                \"Hydrographic Surveys for Selected Locations Within the United States (hydro_bathy_2006)\", \n",
    "                \"EARTH SCIENCE > Oceans > Bathymetry/Seafloor Topography > Bathymetry\", \n",
    "                \"EARTH SCIENCE > Oceans > Bathymetry/Seafloor Topography > Seafloor Topography\", \n",
    "                \"EARTH SCIENCE > Oceans > Bathymetry/Seafloor Topography > Water Depth\", \n",
    "                \"EARTH SCIENCE > Oceans > Marine Sediments > Sediment Composition\", \n",
    "                \"DOC/NOAA/NESDIS/NGDC > National Geophysical Data Center, NESDIS, NOAA, U.S. Department of Commerce\", \n",
    "                \"In Situ Ocean-based Platforms > SHIPS\", \n",
    "                \"In Situ/Laboratory Instruments > Profilers/Sounders > Acoustic Sounders > > MSBS > Multibeam Swath Bathymetry System\", \n",
    "                \"In Situ/Laboratory Instruments > Profilers/Sounders > Acoustic Sounders > > MBES > Multibeam Mapping System\", \n",
    "                \"In Situ/Laboratory Instruments > Profilers/Sounders > Acoustic Sounders > > SONAR > Sound Navigation and Ranging\", \n",
    "                \"In Situ/Laboratory Instruments > Profilers/Sounders > Acoustic Sounders\", \n",
    "                \"Earth Remote Sensing Instruments > Passive Remote Sensing > Positioning/Navigation > GPS > GPS RECEIVERS\", \n",
    "                \"Earth Remote Sensing Instruments > Passive Remote Sensing > Positioning/Navigation > GPS > GPS/IMU > Global Positioning System/Inertial Measurement Unit\", \n",
    "                \"Connecticut\", \n",
    "                \"HAMMONASSET PT.\", \n",
    "                \"HAMMONASSET PT.\"\n",
    "            ]\n",
    "\n",
    "# normalize_subjects(subjects, True, True)\n",
    "\n",
    "[(s, is_english(s)) for s in subjects]\n"
   ]
  },
  {
   "cell_type": "code",
   "execution_count": 6,
   "metadata": {
    "collapsed": false
   },
   "outputs": [
    {
     "name": "stdout",
     "output_type": "stream",
     "text": [
      "Qk3uNwEAAAAAADYAAAAoAAAAyAAAAIUAAAABABgAAAAAALg3AQAAAAAAAAAAAAAAAAAAAAAA////\n",
      "///////////////////////\n"
     ]
    }
   ],
   "source": [
    "import requests\n",
    "from lxml import etree\n",
    "\n",
    "req = requests.get('http://eusoils.jrc.ec.europa.eu/wms/Metadata/SOMIS_metadata.xml')\n",
    "content = req.content\n",
    "\n",
    "xml = etree.fromstring(content)\n",
    "blob = xml.xpath('//Binary/Thumbnail/Data[@EsriPropertyType=\"Picture\"]')\n",
    "print blob[0].text[0:100]\n",
    "\n",
    "# from base64 import decodestring\n",
    "\n",
    "# with open(\"foo.png\",\"wb\") as f:\n",
    "#     f.write(decodestring(blob[0].text))\n"
   ]
  },
  {
   "cell_type": "code",
   "execution_count": 6,
   "metadata": {
    "collapsed": false
   },
   "outputs": [
    {
     "name": "stdout",
     "output_type": "stream",
     "text": [
      "&lt;?xml version=&quot;1.0&quot; encoding=&quot;UTF-8&quot;?&gt;\n",
      "&lt;catalog xmlns=&quot;http://www.unidata.ucar.edu/namespaces/thredds/InvCatalog/v1.0&quot; xmlns:xlink=&quot;http://www.w3.org/1999/xlink&quot; version=&quot;1.0.1&quot;&gt;\n",
      "  &lt;service name=&quot;allServices&quot; serviceType=&quot;Compound&quot; base=&quot;&quot;&gt;\n",
      "    &lt;service name=&quot;ncdods&quot; serviceType=&quot;OPENDAP&quot; base=&quot;/thredds/dodsC/&quot; /&gt;\n",
      "    &lt;service name=&quot;HTTPServer&quot; serviceType=&quot;HTTPServer&quot; base=&quot;/thredds/fileServer/&quot; /&gt;\n",
      "    &lt;service name=&quot;wcs&quot; serviceType=&quot;WCS&quot; base=&quot;/thredds/wcs/&quot; /&gt;\n",
      "    &lt;service name=&quot;ncss&quot; serviceType=&quot;NetcdfSubset&quot; base=&quot;/thredds/ncss/grid/&quot; /&gt;\n",
      "    &lt;service name=&quot;wms&quot; serviceType=&quot;WMS&quot; base=&quot;/thredds/wms/&quot; /&gt;\n",
      "    &lt;service name=&quot;iso&quot; serviceType=&quot;ISO&quot; base=&quot;/thredds/iso/&quot; /&gt;\n",
      "    &lt;service name=&quot;ncml&quot; serviceType=&quot;NCML&quot; base=&quot;/thredds/ncml/&quot; /&gt;\n",
      "    &lt;service name=&quot;uddc&quot; serviceType=&quot;UDDC&quot; base=&quot;/thredds/uddc/&quot; /&gt;\n",
      "  &lt;/service&gt;\n",
      "  &lt;dataset name=&quot;PV_SHELF&quot; ID=&quot;TSdata/PV_SHELF&quot;&gt;\n",
      "    &lt;metadata inherited=&quot;true&quot;&gt;\n",
      "      &lt;serviceName&gt;allServices&lt;/serviceName&gt;\n",
      "      &lt;publisher&gt;\n",
      "        &lt;name vocabulary=&quot;DIF&quot;&gt;USGS/ER/WHCMSC/Ellyn Montgomery&lt;/name&gt;\n",
      "        &lt;contact url=&quot;http://www.usgs.gov/&quot; email=&quot;emontgomery@usgs.gov&quot; /&gt;\n",
      "      &lt;/publisher&gt;\n",
      "    &lt;/metadata&gt;\n",
      "    &lt;dataset name=&quot;3981-a.nc&quot; ID=&quot;TSdata/PV_SHELF/3981-a.nc&quot; urlPath=&quot;TSdata/PV_SHELF/3981-a.nc&quot;&gt;\n",
      "      &lt;dataSize units=&quot;Mbytes&quot;&gt;1.051&lt;/dataSize&gt;\n",
      "      &lt;date type=&quot;modified&quot;&gt;2014-12-02T21:12:29Z&lt;/date&gt;\n",
      "    &lt;/dataset&gt;\n",
      "    &lt;dataset name=&quot;3982-a.nc&quot; ID=&quot;TSdata/PV_SHELF/3982-a.nc&quot; urlPath=&quot;TSdata/PV_SHELF/3982-a.nc&quot;&gt;\n",
      "      &lt;dataSize units=&quot;Mbytes&quot;&gt;1.350&lt;/dataSize&gt;\n",
      "      &lt;date type=&quot;modified&quot;&gt;2014-12-02T21:12:29Z&lt;/date&gt;\n",
      "    &lt;/dataset&gt;\n",
      "    &lt;dataset name=&quot;3982cs-a.nc&quot; ID=&quot;TSdata/PV_SHELF/3982cs-a.nc&quot; urlPath=&quot;TSdata/PV_SHELF/3982cs-a.nc&quot;&gt;\n",
      "      &lt;dataSize units=&quot;Kbytes&quot;&gt;600.8&lt;/dataSize&gt;\n",
      "      &lt;date type=&quot;modified&quot;&gt;2014-12-02T21:12:29Z&lt;/date&gt;\n",
      "    &lt;/dataset&gt;\n",
      "  &lt;/dataset&gt;\n",
      "&lt;/catalog&gt;\n"
     ]
    }
   ],
   "source": [
    "text = '''<?xml version=\"1.0\" encoding=\"UTF-8\"?>\n",
    "<catalog xmlns=\"http://www.unidata.ucar.edu/namespaces/thredds/InvCatalog/v1.0\" xmlns:xlink=\"http://www.w3.org/1999/xlink\" version=\"1.0.1\">\n",
    "  <service name=\"allServices\" serviceType=\"Compound\" base=\"\">\n",
    "    <service name=\"ncdods\" serviceType=\"OPENDAP\" base=\"/thredds/dodsC/\" />\n",
    "    <service name=\"HTTPServer\" serviceType=\"HTTPServer\" base=\"/thredds/fileServer/\" />\n",
    "    <service name=\"wcs\" serviceType=\"WCS\" base=\"/thredds/wcs/\" />\n",
    "    <service name=\"ncss\" serviceType=\"NetcdfSubset\" base=\"/thredds/ncss/grid/\" />\n",
    "    <service name=\"wms\" serviceType=\"WMS\" base=\"/thredds/wms/\" />\n",
    "    <service name=\"iso\" serviceType=\"ISO\" base=\"/thredds/iso/\" />\n",
    "    <service name=\"ncml\" serviceType=\"NCML\" base=\"/thredds/ncml/\" />\n",
    "    <service name=\"uddc\" serviceType=\"UDDC\" base=\"/thredds/uddc/\" />\n",
    "  </service>\n",
    "  <dataset name=\"PV_SHELF\" ID=\"TSdata/PV_SHELF\">\n",
    "    <metadata inherited=\"true\">\n",
    "      <serviceName>allServices</serviceName>\n",
    "      <publisher>\n",
    "        <name vocabulary=\"DIF\">USGS/ER/WHCMSC/Ellyn Montgomery</name>\n",
    "        <contact url=\"http://www.usgs.gov/\" email=\"emontgomery@usgs.gov\" />\n",
    "      </publisher>\n",
    "    </metadata>\n",
    "    <dataset name=\"3981-a.nc\" ID=\"TSdata/PV_SHELF/3981-a.nc\" urlPath=\"TSdata/PV_SHELF/3981-a.nc\">\n",
    "      <dataSize units=\"Mbytes\">1.051</dataSize>\n",
    "      <date type=\"modified\">2014-12-02T21:12:29Z</date>\n",
    "    </dataset>\n",
    "    <dataset name=\"3982-a.nc\" ID=\"TSdata/PV_SHELF/3982-a.nc\" urlPath=\"TSdata/PV_SHELF/3982-a.nc\">\n",
    "      <dataSize units=\"Mbytes\">1.350</dataSize>\n",
    "      <date type=\"modified\">2014-12-02T21:12:29Z</date>\n",
    "    </dataset>\n",
    "    <dataset name=\"3982cs-a.nc\" ID=\"TSdata/PV_SHELF/3982cs-a.nc\" urlPath=\"TSdata/PV_SHELF/3982cs-a.nc\">\n",
    "      <dataSize units=\"Kbytes\">600.8</dataSize>\n",
    "      <date type=\"modified\">2014-12-02T21:12:29Z</date>\n",
    "    </dataset>\n",
    "  </dataset>\n",
    "</catalog>'''\n",
    "\n",
    "from xml.sax.saxutils import escape\n",
    "import pprint\n",
    "\n",
    "html_escape_table = {\n",
    "'\"': \"&quot;\",\n",
    "\"'\": \"&apos;\"\n",
    "}\n",
    "\n",
    "new_lines = []\n",
    "for line in text.split('\\n'):\n",
    "    new_lines.append(escape(line, html_escape_table))\n",
    "print '\\n'.join(new_lines)"
   ]
  },
  {
   "cell_type": "code",
   "execution_count": 8,
   "metadata": {
    "collapsed": false
   },
   "outputs": [
    {
     "data": {
      "text/plain": [
       "<Blob a=some, b=thing>"
      ]
     },
     "execution_count": 8,
     "metadata": {},
     "output_type": "execute_result"
    }
   ],
   "source": [
    "import sys\n",
    "\n",
    "class Blob():\n",
    "    def __init__(self, a, b):\n",
    "        self.a = a\n",
    "        self.b = b\n",
    "    \n",
    "    def __repr__(self):\n",
    "        return '<Blob a={0}, b={1}>'.format(self.a, self.b)\n",
    "\n",
    "class Thing():\n",
    "    def __init__(self, a, b):\n",
    "        self.c = a\n",
    "        self.d = b\n",
    "    \n",
    "    def __repr__(self):\n",
    "        return '<Thing c={0}, d={1}>'.format(self.c, self.d)\n",
    "    \n",
    "c = getattr(sys.modules[__name__], \"Blob\")\n",
    "\n",
    "w = c('some', 'thing')\n",
    "w"
   ]
  },
  {
   "cell_type": "code",
   "execution_count": null,
   "metadata": {
    "collapsed": true
   },
   "outputs": [],
   "source": []
  }
 ],
 "metadata": {
  "kernelspec": {
   "display_name": "Python 2",
   "language": "python",
   "name": "python2"
  },
  "language_info": {
   "codemirror_mode": {
    "name": "ipython",
    "version": 2
   },
   "file_extension": ".py",
   "mimetype": "text/x-python",
   "name": "python",
   "nbconvert_exporter": "python",
   "pygments_lexer": "ipython2",
   "version": "2.7.9"
  }
 },
 "nbformat": 4,
 "nbformat_minor": 0
}
