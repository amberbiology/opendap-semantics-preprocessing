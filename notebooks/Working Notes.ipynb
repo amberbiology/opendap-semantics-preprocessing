{
 "metadata": {
  "name": "",
  "signature": "sha256:3f40644752334bbf6d6955d9d998d8137aa8a81de596d67d89d920861479aeb6"
 },
 "nbformat": 3,
 "nbformat_minor": 0,
 "worksheets": [
  {
   "cells": [
    {
     "cell_type": "markdown",
     "metadata": {},
     "source": [
      "On excluding ISO chunks"
     ]
    },
    {
     "cell_type": "code",
     "collapsed": false,
     "input": [
      "from lxml import etree\n",
      "\n",
      "to_test = '''<?xml version = '1.0' encoding = 'UTF-8'?>\n",
      "<gmd:CI_Citation xmlns:gmd=\"http://www.isotc211.org/2005/gmd\"\n",
      "    xmlns:gml=\"http://www.opengis.net/gml/3.2\" xmlns:xlink=\"http://www.w3.org/1999/xlink\"\n",
      "    xmlns:gco=\"http://www.isotc211.org/2005/gco\" xmlns:gmi=\"http://www.isotc211.org/2005/gmi\"\n",
      "    xmlns:gmx=\"http://www.isotc211.org/2005/gmx\" xmlns:gsr=\"http://www.isotc211.org/2005/gsr\"\n",
      "    xmlns=\"http://www.isotc211.org/2005/gmi\" xmlns:xsi=\"http://www.w3.org/2001/XMLSchema-instance\"\n",
      "    xsi:schemaLocation=\"http://www.isotc211.org/2005/gmi  http://www.ngdc.noaa.gov/metadata/published/xsd/schema.xsd\"\n",
      "    uuid=\"227737d0-428b-11df-9879-0800200c9a66\">\n",
      "    <gmd:title>\n",
      "        <gco:CharacterString>NASA/GCMD Science Keywords</gco:CharacterString>\n",
      "    </gmd:title>\n",
      "    <gmd:date gco:nilReason=\"unknown\"/>\n",
      "    <gmd:citedResponsibleParty\n",
      "        xlink:href=\"http://www.ngdc.noaa.gov/docucomp/8294BEE08B11359FE040AC8C5AB460D1\"\n",
      "        xlink:title=\"GCMD User Support Office\"/>\n",
      "    <gmd:citedResponsibleParty\n",
      "        xlink:href=\"http://www.ngdc.noaa.gov/docucomp/1edb41d0-428a-11df-9879-0800200c9a66\"\n",
      "        xlink:title=\"GCMD Valids\"/>\n",
      "</gmd:CI_Citation>\n",
      "'''\n",
      "\n",
      "\n",
      "# strip out the xml ref\n",
      "xml = etree.fromstring(to_test)\n",
      "to_test = etree.tostring(xml)\n",
      "\n",
      "ns = dict(xml.xpath('/*/namespace::*'))\n",
      "if None in ns:\n",
      "    ns['default'] = ns[None]\n",
      "    del ns[None]\n",
      "\n",
      "node = xml.xpath('/*[local-name() = \"MD_Metadata\"] | /*[local-name() = \"MI_Metadata\"]', namespaces=ns)\n",
      "print node\n",
      "\n",
      "node = xml.xpath('/*[local-name() = \"CI_Citation\"]', namespaces=ns)\n",
      "node\n",
      "\n",
      "to_test = '''<?xml version = '1.0' encoding = 'UTF-8'?>\n",
      "<CI_Citation xmlns:gmd=\"http://www.isotc211.org/2005/gmd\"\n",
      "    xmlns:gml=\"http://www.opengis.net/gml/3.2\" xmlns:xlink=\"http://www.w3.org/1999/xlink\"\n",
      "    xmlns:gco=\"http://www.isotc211.org/2005/gco\" xmlns:gmi=\"http://www.isotc211.org/2005/gmi\"\n",
      "    xmlns:gmx=\"http://www.isotc211.org/2005/gmx\" xmlns:gsr=\"http://www.isotc211.org/2005/gsr\"\n",
      "    xmlns=\"http://www.isotc211.org/2005/gmi\" xmlns:xsi=\"http://www.w3.org/2001/XMLSchema-instance\"\n",
      "    xsi:schemaLocation=\"http://www.isotc211.org/2005/gmi  http://www.ngdc.noaa.gov/metadata/published/xsd/schema.xsd\"\n",
      "    uuid=\"227737d0-428b-11df-9879-0800200c9a66\">\n",
      "    <gmd:title>\n",
      "        <gco:CharacterString>NASA/GCMD Science Keywords</gco:CharacterString>\n",
      "    </gmd:title>\n",
      "    <gmd:date gco:nilReason=\"unknown\"/>\n",
      "    <gmd:citedResponsibleParty\n",
      "        xlink:href=\"http://www.ngdc.noaa.gov/docucomp/8294BEE08B11359FE040AC8C5AB460D1\"\n",
      "        xlink:title=\"GCMD User Support Office\"/>\n",
      "    <gmd:citedResponsibleParty\n",
      "        xlink:href=\"http://www.ngdc.noaa.gov/docucomp/1edb41d0-428a-11df-9879-0800200c9a66\"\n",
      "        xlink:title=\"GCMD Valids\"/>\n",
      "</CI_Citation>\n",
      "'''\n",
      "xml = etree.fromstring(to_test)\n",
      "to_test = etree.tostring(xml)\n",
      "\n",
      "ns = dict(xml.xpath('/*/namespace::*'))\n",
      "if None in ns:\n",
      "    ns['default'] = ns[None]\n",
      "    del ns[None]\n",
      "\n",
      "# verify the default namespace \n",
      "node = xml.xpath('/*[local-name() = \"CI_Citation\"]', namespaces=ns)\n",
      "print node"
     ],
     "language": "python",
     "metadata": {},
     "outputs": [
      {
       "output_type": "stream",
       "stream": "stdout",
       "text": [
        "[]\n",
        "[<Element {http://www.isotc211.org/2005/gmi}CI_Citation at 0x104e91c20>]\n"
       ]
      }
     ],
     "prompt_number": 19
    },
    {
     "cell_type": "code",
     "collapsed": false,
     "input": [
      "to_test = '''<?xml version = '1.0' encoding = 'UTF-8'?>\n",
      "<gmd:CI_Citation xmlns:gmd=\"http://www.isotc211.org/2005/gmd\"\n",
      "    xmlns:gml=\"http://www.opengis.net/gml/3.2\" xmlns:xlink=\"http://www.w3.org/1999/xlink\"\n",
      "    xmlns:gco=\"http://www.isotc211.org/2005/gco\" xmlns:gmi=\"http://www.isotc211.org/2005/gmi\"\n",
      "    xmlns:gmx=\"http://www.isotc211.org/2005/gmx\" xmlns:gsr=\"http://www.isotc211.org/2005/gsr\"\n",
      "    xmlns=\"http://www.isotc211.org/2005/gmi\" xmlns:xsi=\"http://www.w3.org/2001/XMLSchema-instance\"\n",
      "    xsi:schemaLocation=\"http://www.isotc211.org/2005/gmi  http://www.ngdc.noaa.gov/metadata/published/xsd/schema.xsd\"\n",
      "    uuid=\"227737d0-428b-11df-9879-0800200c9a66\">\n",
      "    <gmd:title>\n",
      "        <gco:CharacterString>NASA/GCMD Science Keywords</gco:CharacterString>\n",
      "    </gmd:title>\n",
      "    <gmd:date gco:nilReason=\"unknown\"/>\n",
      "    <gmd:citedResponsibleParty\n",
      "        xlink:href=\"http://www.ngdc.noaa.gov/docucomp/8294BEE08B11359FE040AC8C5AB460D1\"\n",
      "        xlink:title=\"GCMD User Support Office\"/>\n",
      "    <gmd:citedResponsibleParty\n",
      "        xlink:href=\"http://www.ngdc.noaa.gov/docucomp/1edb41d0-428a-11df-9879-0800200c9a66\"\n",
      "        xlink:title=\"GCMD Valids\"/>\n",
      "</gmd:CI_Citation>\n",
      "'''\n",
      "\n",
      "\n",
      "# strip out the xml ref\n",
      "xml = etree.fromstring(to_test)\n",
      "to_test = etree.tostring(xml)\n",
      "\n",
      "ns = dict(xml.xpath('/*/namespace::*'))\n",
      "if None in ns:\n",
      "    ns['default'] = ns[None]\n",
      "    del ns[None]\n",
      "\n",
      "node = xml.xpath('/*[local-name() = \"MD_Metadata\"] | /*[local-name() = \"MI_Metadata\"]', namespaces=ns)\n",
      "\n",
      "has_md = node not in [None, '', []]\n",
      "print node"
     ],
     "language": "python",
     "metadata": {},
     "outputs": [
      {
       "output_type": "stream",
       "stream": "stdout",
       "text": [
        "[]\n"
       ]
      }
     ],
     "prompt_number": 23
    },
    {
     "cell_type": "code",
     "collapsed": false,
     "input": [],
     "language": "python",
     "metadata": {},
     "outputs": []
    }
   ],
   "metadata": {}
  }
 ]
}