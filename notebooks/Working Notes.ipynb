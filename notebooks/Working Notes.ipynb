{
 "metadata": {
  "name": "",
  "signature": "sha256:c69239ac3895c6b92f8b848d6d06503dca8bcb8f4b32694923415335d6f02a24"
 },
 "nbformat": 3,
 "nbformat_minor": 0,
 "worksheets": [
  {
   "cells": [
    {
     "cell_type": "markdown",
     "metadata": {},
     "source": [
      "On excluding ISO chunks"
     ]
    },
    {
     "cell_type": "code",
     "collapsed": false,
     "input": [
      "from lxml import etree\n",
      "\n",
      "to_test = '''<?xml version = '1.0' encoding = 'UTF-8'?>\n",
      "<gmd:CI_Citation xmlns:gmd=\"http://www.isotc211.org/2005/gmd\"\n",
      "    xmlns:gml=\"http://www.opengis.net/gml/3.2\" xmlns:xlink=\"http://www.w3.org/1999/xlink\"\n",
      "    xmlns:gco=\"http://www.isotc211.org/2005/gco\" xmlns:gmi=\"http://www.isotc211.org/2005/gmi\"\n",
      "    xmlns:gmx=\"http://www.isotc211.org/2005/gmx\" xmlns:gsr=\"http://www.isotc211.org/2005/gsr\"\n",
      "    xmlns=\"http://www.isotc211.org/2005/gmi\" xmlns:xsi=\"http://www.w3.org/2001/XMLSchema-instance\"\n",
      "    xsi:schemaLocation=\"http://www.isotc211.org/2005/gmi  http://www.ngdc.noaa.gov/metadata/published/xsd/schema.xsd\"\n",
      "    uuid=\"227737d0-428b-11df-9879-0800200c9a66\">\n",
      "    <gmd:title>\n",
      "        <gco:CharacterString>NASA/GCMD Science Keywords</gco:CharacterString>\n",
      "    </gmd:title>\n",
      "    <gmd:date gco:nilReason=\"unknown\"/>\n",
      "    <gmd:citedResponsibleParty\n",
      "        xlink:href=\"http://www.ngdc.noaa.gov/docucomp/8294BEE08B11359FE040AC8C5AB460D1\"\n",
      "        xlink:title=\"GCMD User Support Office\"/>\n",
      "    <gmd:citedResponsibleParty\n",
      "        xlink:href=\"http://www.ngdc.noaa.gov/docucomp/1edb41d0-428a-11df-9879-0800200c9a66\"\n",
      "        xlink:title=\"GCMD Valids\"/>\n",
      "</gmd:CI_Citation>\n",
      "'''\n",
      "\n",
      "\n",
      "# strip out the xml ref\n",
      "xml = etree.fromstring(to_test)\n",
      "to_test = etree.tostring(xml)\n",
      "\n",
      "ns = dict(xml.xpath('/*/namespace::*'))\n",
      "if None in ns:\n",
      "    ns['default'] = ns[None]\n",
      "    del ns[None]\n",
      "\n",
      "node = xml.xpath('/*[local-name() = \"MD_Metadata\"] | /*[local-name() = \"MI_Metadata\"]', namespaces=ns)\n",
      "print node\n",
      "\n",
      "node = xml.xpath('/*[local-name() = \"CI_Citation\"]', namespaces=ns)\n",
      "node\n",
      "\n",
      "to_test = '''<?xml version = '1.0' encoding = 'UTF-8'?>\n",
      "<CI_Citation xmlns:gmd=\"http://www.isotc211.org/2005/gmd\"\n",
      "    xmlns:gml=\"http://www.opengis.net/gml/3.2\" xmlns:xlink=\"http://www.w3.org/1999/xlink\"\n",
      "    xmlns:gco=\"http://www.isotc211.org/2005/gco\" xmlns:gmi=\"http://www.isotc211.org/2005/gmi\"\n",
      "    xmlns:gmx=\"http://www.isotc211.org/2005/gmx\" xmlns:gsr=\"http://www.isotc211.org/2005/gsr\"\n",
      "    xmlns=\"http://www.isotc211.org/2005/gmi\" xmlns:xsi=\"http://www.w3.org/2001/XMLSchema-instance\"\n",
      "    xsi:schemaLocation=\"http://www.isotc211.org/2005/gmi  http://www.ngdc.noaa.gov/metadata/published/xsd/schema.xsd\"\n",
      "    uuid=\"227737d0-428b-11df-9879-0800200c9a66\">\n",
      "    <gmd:title>\n",
      "        <gco:CharacterString>NASA/GCMD Science Keywords</gco:CharacterString>\n",
      "    </gmd:title>\n",
      "    <gmd:date gco:nilReason=\"unknown\"/>\n",
      "    <gmd:citedResponsibleParty\n",
      "        xlink:href=\"http://www.ngdc.noaa.gov/docucomp/8294BEE08B11359FE040AC8C5AB460D1\"\n",
      "        xlink:title=\"GCMD User Support Office\"/>\n",
      "    <gmd:citedResponsibleParty\n",
      "        xlink:href=\"http://www.ngdc.noaa.gov/docucomp/1edb41d0-428a-11df-9879-0800200c9a66\"\n",
      "        xlink:title=\"GCMD Valids\"/>\n",
      "</CI_Citation>\n",
      "'''\n",
      "xml = etree.fromstring(to_test)\n",
      "to_test = etree.tostring(xml)\n",
      "\n",
      "ns = dict(xml.xpath('/*/namespace::*'))\n",
      "if None in ns:\n",
      "    ns['default'] = ns[None]\n",
      "    del ns[None]\n",
      "\n",
      "# verify the default namespace \n",
      "node = xml.xpath('/*[local-name() = \"CI_Citation\"]', namespaces=ns)\n",
      "print node"
     ],
     "language": "python",
     "metadata": {},
     "outputs": [
      {
       "output_type": "stream",
       "stream": "stdout",
       "text": [
        "[]\n",
        "[<Element {http://www.isotc211.org/2005/gmi}CI_Citation at 0x104e91c20>]\n"
       ]
      }
     ],
     "prompt_number": 19
    },
    {
     "cell_type": "code",
     "collapsed": false,
     "input": [
      "to_test = '''<?xml version = '1.0' encoding = 'UTF-8'?>\n",
      "<gmd:CI_Citation xmlns:gmd=\"http://www.isotc211.org/2005/gmd\"\n",
      "    xmlns:gml=\"http://www.opengis.net/gml/3.2\" xmlns:xlink=\"http://www.w3.org/1999/xlink\"\n",
      "    xmlns:gco=\"http://www.isotc211.org/2005/gco\" xmlns:gmi=\"http://www.isotc211.org/2005/gmi\"\n",
      "    xmlns:gmx=\"http://www.isotc211.org/2005/gmx\" xmlns:gsr=\"http://www.isotc211.org/2005/gsr\"\n",
      "    xmlns=\"http://www.isotc211.org/2005/gmi\" xmlns:xsi=\"http://www.w3.org/2001/XMLSchema-instance\"\n",
      "    xsi:schemaLocation=\"http://www.isotc211.org/2005/gmi  http://www.ngdc.noaa.gov/metadata/published/xsd/schema.xsd\"\n",
      "    uuid=\"227737d0-428b-11df-9879-0800200c9a66\">\n",
      "    <gmd:title>\n",
      "        <gco:CharacterString>NASA/GCMD Science Keywords</gco:CharacterString>\n",
      "    </gmd:title>\n",
      "    <gmd:date gco:nilReason=\"unknown\"/>\n",
      "    <gmd:citedResponsibleParty\n",
      "        xlink:href=\"http://www.ngdc.noaa.gov/docucomp/8294BEE08B11359FE040AC8C5AB460D1\"\n",
      "        xlink:title=\"GCMD User Support Office\"/>\n",
      "    <gmd:citedResponsibleParty\n",
      "        xlink:href=\"http://www.ngdc.noaa.gov/docucomp/1edb41d0-428a-11df-9879-0800200c9a66\"\n",
      "        xlink:title=\"GCMD Valids\"/>\n",
      "</gmd:CI_Citation>\n",
      "'''\n",
      "\n",
      "\n",
      "# strip out the xml ref\n",
      "xml = etree.fromstring(to_test)\n",
      "to_test = etree.tostring(xml)\n",
      "\n",
      "ns = dict(xml.xpath('/*/namespace::*'))\n",
      "if None in ns:\n",
      "    ns['default'] = ns[None]\n",
      "    del ns[None]\n",
      "\n",
      "node = xml.xpath('/*[local-name() = \"MD_Metadata\"] | /*[local-name() = \"MI_Metadata\"]', namespaces=ns)\n",
      "\n",
      "has_md = node not in [None, '', []]\n",
      "print node"
     ],
     "language": "python",
     "metadata": {},
     "outputs": [
      {
       "output_type": "stream",
       "stream": "stdout",
       "text": [
        "[]\n"
       ]
      }
     ],
     "prompt_number": 23
    },
    {
     "cell_type": "markdown",
     "metadata": {},
     "source": [
      "Checking for some depth of Layer in a WMS GetCapabilities"
     ]
    },
    {
     "cell_type": "code",
     "collapsed": false,
     "input": [
      "text = '''<metadata>\n",
      "    <Contents>\n",
      "        <Layer>\n",
      "            <name>parent</name>\n",
      "            <MetadataUrl>http://www.example.com/parent</MetadataUrl>\n",
      "            <Layer>\n",
      "                <name>child</name>\n",
      "                <MetadataUrl>http://www.example.com/child</MetadataUrl>\n",
      "            </Layer>\n",
      "        </Layer>\n",
      "    </Contents>\n",
      "</metadata>\n",
      "'''\n",
      "\n",
      "xml = etree.fromstring(text)\n",
      "layers = xml.xpath('//Layer/MetadataUrl')\n",
      "for layer in layers:\n",
      "    print layer.text"
     ],
     "language": "python",
     "metadata": {},
     "outputs": [
      {
       "output_type": "stream",
       "stream": "stdout",
       "text": [
        "http://www.example.com/parent\n",
        "http://www.example.com/child\n"
       ]
      }
     ],
     "prompt_number": 26
    },
    {
     "cell_type": "markdown",
     "metadata": {},
     "source": [
      "For the ds metadata flagging"
     ]
    },
    {
     "cell_type": "code",
     "collapsed": false,
     "input": [
      "text = '''<DS_Series xmlns=\"http://www.isotc211.org/2005/gmd\" xmlns:gco=\"http://www.isotc211.org/2005/gco\" xmlns:gml=\"http://www.opengis.net/gml/3.2\" xmlns:gsr=\"http://www.isotc211.org/2005/gsr\" xmlns:gss=\"http://www.isotc211.org/2005/gss\" xmlns:gts=\"http://www.isotc211.org/2005/gts\" xmlns:xlink=\"http://www.w3.org/1999/xlink\" xmlns:xsi=\"http://www.w3.org/2001/XMLSchema-instance\" xsi:schemaLocation=\"http://www.isotc211.org/2005/gmd http://schemas.opengis.net/iso/19139/20070417/gmd/gmd.xsd\">\n",
      "    <composedOf>\n",
      "        <DS_DataSet>\n",
      "            <has>\n",
      "                <MD_Metadata>\n",
      "                    <parentIdentifier>\n",
      "                        <gco:CharacterString>NOAA ENC Product Catalog MN State</gco:CharacterString>\n",
      "                    </parentIdentifier>\n",
      "                    <hierarchyLevel>\n",
      "                        <MD_ScopeCode codeList=\"http://www.isotc211.org/2005/resources/Codelist/gmxCodelists.xml#MD_ScopeCode\" codeListValue=\"dataset\">dataset</MD_ScopeCode>\n",
      "                    </hierarchyLevel>\n",
      "                    <hierarchyLevelName>\n",
      "                        <gco:CharacterString>NOAA ENC</gco:CharacterString>\n",
      "                    </hierarchyLevelName>\n",
      "                </MD_Metadata>\n",
      "            </has>\n",
      "        </DS_DataSet>\n",
      "    </composedOf>\n",
      "</DS_Series>'''\n",
      "\n",
      "xml = etree.fromstring(text)\n",
      "xp = '/*/gmd:composedOf/gmd:DS_DataSet/gmd:has/gmd:MD_Metadata'\n",
      "ns = dict(xml.xpath('/*/namespace::*'))\n",
      "if None in ns:\n",
      "    ns['gmd'] = ns[None]\n",
      "    del ns[None]\n",
      "\n",
      "xml.xpath(xp, namespaces=ns)\n"
     ],
     "language": "python",
     "metadata": {},
     "outputs": [
      {
       "metadata": {},
       "output_type": "pyout",
       "prompt_number": 28,
       "text": [
        "[<Element {http://www.isotc211.org/2005/gmd}MD_Metadata at 0x104e91b90>]"
       ]
      }
     ],
     "prompt_number": 28
    },
    {
     "cell_type": "code",
     "collapsed": false,
     "input": [],
     "language": "python",
     "metadata": {},
     "outputs": []
    }
   ],
   "metadata": {}
  }
 ]
}