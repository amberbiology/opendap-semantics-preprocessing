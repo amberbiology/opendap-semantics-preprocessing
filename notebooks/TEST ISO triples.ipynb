{
 "cells": [
  {
   "cell_type": "code",
   "execution_count": 32,
   "metadata": {
    "collapsed": true
   },
   "outputs": [],
   "source": [
    "%reload_ext autoreload\n",
    "%autoreload 2\n",
    "\n",
    "import os\n",
    "import json\n",
    "import glob\n",
    "from semproc.parser import Parser\n",
    "from semproc.preprocessors.iso_preprocessors import IsoReader, MxParser"
   ]
  },
  {
   "cell_type": "code",
   "execution_count": 33,
   "metadata": {
    "collapsed": true
   },
   "outputs": [],
   "source": [
    "with open('xmls/proto_iso_bluehub.xml', 'r') as f:\n",
    "    response = f.read()\n",
    "\n",
    "# this shouldn't be necessary but cargo-culting here is fine by me.\n",
    "response = response.replace('\\\\\\n', '').replace('\\r\\n', '').replace('\\\\r', '').replace('\\\\n', '').replace('\\n', '')\n",
    "response = response.decode('utf-8', errors='replace').encode('unicode_escape') \n",
    "    \n",
    "url = 'https://bluehub.jrc.ec.europa.eu/erddap/metadata/iso/xml/noaa_pfeg_d543_8870_bc7f_iso.xml'\n",
    "identity = {\n",
    "    \"protocol\": \"ISO\", \n",
    "     \"metadata\": {\n",
    "    \"version\": [\"ISO 19115-2:2009(E)\"], \n",
    "    \"name\": \"19115\"}\n",
    "}\n"
   ]
  },
  {
   "cell_type": "code",
   "execution_count": 34,
   "metadata": {
    "collapsed": false
   },
   "outputs": [],
   "source": [
    "reader = IsoReader(identity, response, url, '2015-09-15T12:45:00Z')\n",
    "reader.parse()"
   ]
  },
  {
   "cell_type": "code",
   "execution_count": 35,
   "metadata": {
    "collapsed": false
   },
   "outputs": [
    {
     "data": {
      "text/plain": [
       "{'catalog_record': {'conformsTo': 'http://www.isotc211.org/2005/gmi http://www.ngdc.noaa.gov/metadata/published/xsd/schema.xsd',\n",
       "  'harvestDate': '2015-09-15T12:45:00Z',\n",
       "  'object_id': 'urn:sha:c2fb667c42f9774d79c895a499f319fe5795f4b3c157cc4d2cd01228',\n",
       "  'url': 'https://bluehub.jrc.ec.europa.eu/erddap/metadata/iso/xml/noaa_pfeg_d543_8870_bc7f_iso.xml'},\n",
       " 'dataset': {'abstract': \"Level-3 Standard Mapped Image (SMI), Global, 4km, Diffuse Attenuation Coefficient K490, Daily composite data from the Visible and Infrared Imager/Radiometer Suite (VIIRS). VIIRS is a multi-disciplinary instrument that flies on the Suomi-NPP (National Polar-orbiting Partnership) satellite.  Suomi-NPP is the initial spacecraft in the JPSS (Joint Polar Satellite Systems) series of spacecraft. JPSS is our Nation's next generation polar-orbiting operational environmental satellite system. JPSS is a collaborative program between NOAA and its acquisition agent NASA. VIIRS is the successor to MODIS for Earth science data product generation. (This version of the VH data was first released in December 2014.)\",\n",
       "  'identifier': 'erdVH2k4901day',\n",
       "  'object_id': 'urn:sha:3a5b1e07fa71be8320545bc0e4a277259d5794e020cd6ceb5c8bd487',\n",
       "  'relationships': [{'object_id': 'urn:uuid:ec41bd3b-f155-4a69-97fa-742bbd8101df',\n",
       "    'relate': 'conformsTo'},\n",
       "   {'object_id': 'urn:uuid:1d8a8c9e-ab7b-4652-b462-3052da5d110d',\n",
       "    'relate': 'conformsTo'},\n",
       "   {'object_id': 'urn:uuid:adfdd1ad-1a68-4679-b845-6932a72e03d5',\n",
       "    'relate': 'conformsTo'},\n",
       "   {'object_id': 'urn:uuid:afebfe0d-7538-40a2-8588-7ee5f3345e25',\n",
       "    'relate': 'conformsTo'},\n",
       "   {'object_id': 'urn:sha:c2fb667c42f9774d79c895a499f319fe5795f4b3c157cc4d2cd01228',\n",
       "    'relate': 'description'},\n",
       "   {'object_id': 'urn:uuid:8ce102ac-a536-4f1c-8b59-425a43528ba8',\n",
       "    'relate': 'publisher'},\n",
       "   {'object_id': 'urn:sha:4eaf6d197e57441768eda082ae24f20587d4c277e0e81011b661089e',\n",
       "    'relate': 'relation'},\n",
       "   {'object_id': 'urn:sha:afc1dbffb4e9e210a7dbf86e0f728a4e14ddb436462026570cb68f44',\n",
       "    'relate': 'relation'}],\n",
       "  'spatial_extent': {'east': 179.9792,\n",
       "   'north': 89.97916,\n",
       "   'south': -89.97918,\n",
       "   'west': -179.9792,\n",
       "   'wkt': 'POLYGON ((-179.9792 -89.97918,-179.9792 89.97916,179.9792 89.97916,179.9792 -89.97918,-179.9792 -89.97918))'},\n",
       "  'temporal_extent': {'endDate': '2015-09-12T12:00:00+00:00',\n",
       "   'startDate': '2012-01-02T12:00:00+00:00'},\n",
       "  'title': 'VIIRSN, Suomi-NPP, Level-3 SMI, Global, 4km, K490, Daily'},\n",
       " 'keywords': [{'object_id': 'urn:uuid:ec41bd3b-f155-4a69-97fa-742bbd8101df',\n",
       "   'terms': ['4km',\n",
       "    'attentuation',\n",
       "    'coefficient',\n",
       "    'composite',\n",
       "    'daily',\n",
       "    'diffuse',\n",
       "    'diffuse attenuation coefficient',\n",
       "    'gsfc',\n",
       "    'image',\n",
       "    'joint',\n",
       "    'jpss',\n",
       "    'k490',\n",
       "    'level',\n",
       "    'level-3',\n",
       "    'mapped',\n",
       "    'mean',\n",
       "    'nasa',\n",
       "    'noaa',\n",
       "    'npoess',\n",
       "    'npp',\n",
       "    'obpg',\n",
       "    'ocean',\n",
       "    'ocean color',\n",
       "    'oceans',\n",
       "    'optical',\n",
       "    'orbiting',\n",
       "    'polar',\n",
       "    'properties',\n",
       "    'satellite',\n",
       "    'sea',\n",
       "    'seawater',\n",
       "    'smi',\n",
       "    'standard',\n",
       "    'suomi',\n",
       "    'viirs',\n",
       "    'viirsn',\n",
       "    'water'],\n",
       "   'type': 'theme'},\n",
       "  {'object_id': 'urn:uuid:1d8a8c9e-ab7b-4652-b462-3052da5d110d',\n",
       "   'terms': ['Ocean Biology Processing Group (NASA/GSFC/OBPG)'],\n",
       "   'type': 'project'},\n",
       "  {'object_id': 'urn:uuid:adfdd1ad-1a68-4679-b845-6932a72e03d5',\n",
       "   'terms': ['time',\n",
       "    'latitude',\n",
       "    'longitude',\n",
       "    'diffuse_attenuation_coefficient_of_downwelling_radiative_flux_in_sea_water'],\n",
       "   'thesaurus': 'CF Standard Name Table v29',\n",
       "   'type': 'theme'},\n",
       "  {'object_id': 'urn:uuid:afebfe0d-7538-40a2-8588-7ee5f3345e25',\n",
       "   'terms': ['geoscientificInformation'],\n",
       "   'thesaurus': 'IsoTopicCategories'}],\n",
       " 'publisher': {'name': 'NASA/GSFC OBPG',\n",
       "  'object_id': 'urn:uuid:8ce102ac-a536-4f1c-8b59-425a43528ba8'},\n",
       " 'relationships': [{'object_id': 'urn:sha:3a5b1e07fa71be8320545bc0e4a277259d5794e020cd6ceb5c8bd487',\n",
       "   'relate': 'primaryTopic'}],\n",
       " 'webpages': [{'format': 'OPeNDAP DAP/2.0',\n",
       "   'object_id': 'urn:sha:4eaf6d197e57441768eda082ae24f20587d4c277e0e81011b661089e',\n",
       "   'url': 'https://bluehub.jrc.ec.europa.eu/erddap/griddap/erdVH2k4901day.html'},\n",
       "  {'format': 'OPeNDAP DAP/2.0',\n",
       "   'object_id': 'urn:sha:afc1dbffb4e9e210a7dbf86e0f728a4e14ddb436462026570cb68f44',\n",
       "   'url': 'https://bluehub.jrc.ec.europa.eu/erddap/griddap/erdVH2k4901day.graph'}]}"
      ]
     },
     "execution_count": 35,
     "metadata": {},
     "output_type": "execute_result"
    }
   ],
   "source": [
    "reader.description"
   ]
  },
  {
   "cell_type": "code",
   "execution_count": 13,
   "metadata": {
    "collapsed": false
   },
   "outputs": [
    {
     "data": {
      "text/plain": [
       "<Element {http://www.isotc211.org/2005/gmi}MI_Metadata at 0x10a833f38>"
      ]
     },
     "execution_count": 13,
     "metadata": {},
     "output_type": "execute_result"
    }
   ],
   "source": [
    "from semproc.preprocessors.iso_helpers import parse_identification_info\n",
    "from semproc.preprocessors.iso_helpers import parse_distribution\n",
    "from semproc.preprocessors.iso_helpers import parse_extent\n",
    "from semproc.xml_utils import extract_item\n",
    "from semproc.xml_utils import extract_elem, extract_elems\n",
    "from semproc.xml_utils import extract_attrib\n",
    "\n",
    "elem = reader.parser.xml\n"
   ]
  },
  {
   "cell_type": "code",
   "execution_count": null,
   "metadata": {
    "collapsed": true
   },
   "outputs": [],
   "source": []
  }
 ],
 "metadata": {
  "kernelspec": {
   "display_name": "Python 2",
   "language": "python",
   "name": "python2"
  },
  "language_info": {
   "codemirror_mode": {
    "name": "ipython",
    "version": 2
   },
   "file_extension": ".py",
   "mimetype": "text/x-python",
   "name": "python",
   "nbconvert_exporter": "python",
   "pygments_lexer": "ipython2",
   "version": "2.7.10"
  }
 },
 "nbformat": 4,
 "nbformat_minor": 0
}
