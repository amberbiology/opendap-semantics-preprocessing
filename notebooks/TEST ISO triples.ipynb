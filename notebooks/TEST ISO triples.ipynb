{
 "cells": [
  {
   "cell_type": "code",
   "execution_count": 33,
   "metadata": {
    "collapsed": true
   },
   "outputs": [],
   "source": [
    "%reload_ext autoreload\n",
    "%autoreload 2\n",
    "\n",
    "import os\n",
    "import json\n",
    "import glob\n",
    "from semproc.parser import Parser\n",
    "from semproc.preprocessors.iso_preprocessors import IsoReader, MxParser"
   ]
  },
  {
   "cell_type": "code",
   "execution_count": 34,
   "metadata": {
    "collapsed": true
   },
   "outputs": [],
   "source": [
    "with open('xmls/proto_iso_bluehub.xml', 'r') as f:\n",
    "    response = f.read()\n",
    "\n",
    "# this shouldn't be necessary but cargo-culting here is fine by me.\n",
    "response = response.replace('\\\\\\n', '').replace('\\r\\n', '').replace('\\\\r', '').replace('\\\\n', '').replace('\\n', '')\n",
    "response = response.decode('utf-8', errors='replace').encode('unicode_escape') \n",
    "    \n",
    "url = 'https://bluehub.jrc.ec.europa.eu/erddap/metadata/iso/xml/noaa_pfeg_d543_8870_bc7f_iso.xml'\n",
    "identity = {\n",
    "    \"protocol\": \"ISO\", \n",
    "     \"metadata\": {\n",
    "    \"version\": [\"ISO 19115-2:2009(E)\"], \n",
    "    \"name\": \"19115\"}\n",
    "}\n"
   ]
  },
  {
   "cell_type": "code",
   "execution_count": 35,
   "metadata": {
    "collapsed": false
   },
   "outputs": [],
   "source": [
    "reader = IsoReader(identity, response, url, '2015-09-15T12:45:00Z')\n",
    "reader.parse()"
   ]
  },
  {
   "cell_type": "code",
   "execution_count": 23,
   "metadata": {
    "collapsed": false
   },
   "outputs": [
    {
     "data": {
      "text/plain": [
       "{'catalog_record': {'conformsTo': 'http://www.isotc211.org/2005/gmi http://www.ngdc.noaa.gov/metadata/published/xsd/schema.xsd',\n",
       "  'harvestDate': '2015-09-15T12:45:00Z',\n",
       "  'object_id': 'urn:sha:c2fb667c42f9774d79c895a499f319fe5795f4b3c157cc4d2cd01228',\n",
       "  'relationships': [{'object_id': 'urn:sha:3a5b1e07fa71be8320545bc0e4a277259d5794e020cd6ceb5c8bd487',\n",
       "    'relate': 'primaryTopic'}],\n",
       "  'url': 'https://bluehub.jrc.ec.europa.eu/erddap/metadata/iso/xml/noaa_pfeg_d543_8870_bc7f_iso.xml'},\n",
       " 'dataset': {'abstract': \"Level-3 Standard Mapped Image (SMI), Global, 4km, Diffuse Attenuation Coefficient K490, Daily composite data from the Visible and Infrared Imager/Radiometer Suite (VIIRS). VIIRS is a multi-disciplinary instrument that flies on the Suomi-NPP (National Polar-orbiting Partnership) satellite.  Suomi-NPP is the initial spacecraft in the JPSS (Joint Polar Satellite Systems) series of spacecraft. JPSS is our Nation's next generation polar-orbiting operational environmental satellite system. JPSS is a collaborative program between NOAA and its acquisition agent NASA. VIIRS is the successor to MODIS for Earth science data product generation. (This version of the VH data was first released in December 2014.)\",\n",
       "  'identifier': 'erdVH2k4901day',\n",
       "  'object_id': 'urn:sha:3a5b1e07fa71be8320545bc0e4a277259d5794e020cd6ceb5c8bd487',\n",
       "  'relationships': [{'object_id': 'urn:uuid:3acc70a6-d0a1-4165-ad57-d8b897f8bad8',\n",
       "    'relate': 'conformsTo'},\n",
       "   {'object_id': 'urn:uuid:3136b444-33ab-46ec-8118-2f243e489bab',\n",
       "    'relate': 'conformsTo'},\n",
       "   {'object_id': 'urn:uuid:8beaa18d-8bba-4fd1-a62a-0c0489ac8d69',\n",
       "    'relate': 'conformsTo'},\n",
       "   {'object_id': 'urn:uuid:c6b29c2d-2c13-4601-ba9a-7feb6fc86b9e',\n",
       "    'relate': 'conformsTo'},\n",
       "   {'object_id': 'urn:sha:c2fb667c42f9774d79c895a499f319fe5795f4b3c157cc4d2cd01228',\n",
       "    'relate': 'description'},\n",
       "   {'object_id': 'urn:uuid:fb10ed11-599d-47d3-99f9-b7869e36be57',\n",
       "    'relate': 'publisher'},\n",
       "   {'object_id': 'urn:sha:4eaf6d197e57441768eda082ae24f20587d4c277e0e81011b661089e',\n",
       "    'relate': 'relation'},\n",
       "   {'object_id': 'urn:sha:afc1dbffb4e9e210a7dbf86e0f728a4e14ddb436462026570cb68f44',\n",
       "    'relate': 'relation'}],\n",
       "  'spatial_extent': {'east': 179.9792,\n",
       "   'north': 89.97916,\n",
       "   'south': -89.97918,\n",
       "   'west': -179.9792,\n",
       "   'wkt': 'POLYGON ((-179.9792 -89.97918,-179.9792 89.97916,179.9792 89.97916,179.9792 -89.97918,-179.9792 -89.97918))'},\n",
       "  'temporal_extent': {'endDate': '2015-09-12T12:00:00+00:00',\n",
       "   'startDate': '2012-01-02T12:00:00+00:00'},\n",
       "  'title': 'VIIRSN, Suomi-NPP, Level-3 SMI, Global, 4km, K490, Daily'},\n",
       " 'keywords': [{'object_id': 'urn:uuid:3acc70a6-d0a1-4165-ad57-d8b897f8bad8',\n",
       "   'terms': ['4km',\n",
       "    'attentuation',\n",
       "    'coefficient',\n",
       "    'composite',\n",
       "    'daily',\n",
       "    'diffuse',\n",
       "    'diffuse attenuation coefficient',\n",
       "    'gsfc',\n",
       "    'image',\n",
       "    'joint',\n",
       "    'jpss',\n",
       "    'k490',\n",
       "    'level',\n",
       "    'level-3',\n",
       "    'mapped',\n",
       "    'mean',\n",
       "    'nasa',\n",
       "    'noaa',\n",
       "    'npoess',\n",
       "    'npp',\n",
       "    'obpg',\n",
       "    'ocean',\n",
       "    'ocean color',\n",
       "    'oceans',\n",
       "    'optical',\n",
       "    'orbiting',\n",
       "    'polar',\n",
       "    'properties',\n",
       "    'satellite',\n",
       "    'sea',\n",
       "    'seawater',\n",
       "    'smi',\n",
       "    'standard',\n",
       "    'suomi',\n",
       "    'viirs',\n",
       "    'viirsn',\n",
       "    'water'],\n",
       "   'type': 'theme'},\n",
       "  {'object_id': 'urn:uuid:3136b444-33ab-46ec-8118-2f243e489bab',\n",
       "   'terms': ['Ocean Biology Processing Group (NASA/GSFC/OBPG)'],\n",
       "   'type': 'project'},\n",
       "  {'object_id': 'urn:uuid:8beaa18d-8bba-4fd1-a62a-0c0489ac8d69',\n",
       "   'terms': ['time',\n",
       "    'latitude',\n",
       "    'longitude',\n",
       "    'diffuse_attenuation_coefficient_of_downwelling_radiative_flux_in_sea_water'],\n",
       "   'thesaurus': 'CF Standard Name Table v29',\n",
       "   'type': 'theme'},\n",
       "  {'object_id': 'urn:uuid:c6b29c2d-2c13-4601-ba9a-7feb6fc86b9e',\n",
       "   'terms': ['geoscientificInformation'],\n",
       "   'thesaurus': 'IsoTopicCategories'}],\n",
       " 'publisher': {'name': 'NASA/GSFC OBPG',\n",
       "  'object_id': 'urn:uuid:fb10ed11-599d-47d3-99f9-b7869e36be57'},\n",
       " 'webpages': [{'format': 'OPeNDAP DAP/2.0',\n",
       "   'object_id': 'urn:sha:4eaf6d197e57441768eda082ae24f20587d4c277e0e81011b661089e',\n",
       "   'url': 'https://bluehub.jrc.ec.europa.eu/erddap/griddap/erdVH2k4901day.html'},\n",
       "  {'format': 'OPeNDAP DAP/2.0',\n",
       "   'object_id': 'urn:sha:afc1dbffb4e9e210a7dbf86e0f728a4e14ddb436462026570cb68f44',\n",
       "   'url': 'https://bluehub.jrc.ec.europa.eu/erddap/griddap/erdVH2k4901day.graph'}]}"
      ]
     },
     "execution_count": 23,
     "metadata": {},
     "output_type": "execute_result"
    }
   ],
   "source": [
    "reader.description"
   ]
  },
  {
   "cell_type": "code",
   "execution_count": 17,
   "metadata": {
    "collapsed": false
   },
   "outputs": [
    {
     "data": {
      "text/plain": [
       "[{'object_id': 'urn:sha:3a5b1e07fa71be8320545bc0e4a277259d5794e020cd6ceb5c8bd487',\n",
       "  'relate': 'primaryTopic'}]"
      ]
     },
     "execution_count": 17,
     "metadata": {},
     "output_type": "execute_result"
    }
   ],
   "source": [
    "reader.description['relationships']"
   ]
  },
  {
   "cell_type": "code",
   "execution_count": 36,
   "metadata": {
    "collapsed": false
   },
   "outputs": [],
   "source": [
    "from semproc.serializers.rdfgraphs import RdfGrapher"
   ]
  },
  {
   "cell_type": "code",
   "execution_count": 37,
   "metadata": {
    "collapsed": false
   },
   "outputs": [
    {
     "name": "stdout",
     "output_type": "stream",
     "text": [
      "@prefix bcube: <http://purl.org/BCube/#> .\n",
      "@prefix bibo: <http://purl.org/ontology/bibo/#> .\n",
      "@prefix dc: <http://purl.org/dc/elements/1.1/> .\n",
      "@prefix dcat: <http://www.w3.org/TR/vocab-dcat/#> .\n",
      "@prefix dct: <http://purl.org/dc/terms/> .\n",
      "@prefix esip: <http://purl.org/esip/#> .\n",
      "@prefix foaf: <http://xmlns.com/foaf/0.1/> .\n",
      "@prefix owl: <http://www.w3.org/2002/07/owl#> .\n",
      "@prefix rdf: <http://www.w3.org/1999/02/22-rdf-syntax-ns#> .\n",
      "@prefix rdfs: <http://www.w3.org/2000/01/rdf-schema#> .\n",
      "@prefix vcard: <http://www.w3.org/TR/vcard-rdf/#> .\n",
      "@prefix vivo: <http://vivo.ufl.edu/ontology/vivo-ufl/#> .\n",
      "@prefix xml: <http://www.w3.org/XML/1998/namespace> .\n",
      "@prefix xsd: <http://www.w3.org/2001/XMLSchema#> .\n",
      "\n",
      "<urn:sha:3a5b1e07fa71be8320545bc0e4a277259d5794e020cd6ceb5c8bd487> dc:conformsTo <urn:uuid:16273615-7213-4187-ba5f-8dc9c3cbcac2>,\n",
      "        <urn:uuid:2576a7e2-929a-4744-a30d-28502687fcda>,\n",
      "        <urn:uuid:26b1387e-2535-4394-ac7b-5ed8fcc80a7d>,\n",
      "        <urn:uuid:b092a6f8-f6af-4b20-8764-21362dff5114> ;\n",
      "    dc:description <urn:sha:c2fb667c42f9774d79c895a499f319fe5795f4b3c157cc4d2cd01228>,\n",
      "        \"\\\"Level-3 Standard Mapped Image (SMI), Global, 4km, Diffuse Attenuation Coefficient K490, Daily composite data from the Visible and Infrared Imager/Radiometer Suite (VIIRS). VIIRS is a multi-disciplinary instrument that flies on the Suomi-NPP (National Polar-orbiting Partnership) satellite.  Suomi-NPP is the initial spacecraft in the JPSS (Joint Polar Satellite Systems) series of spacecraft. JPSS is our Nation's next generation polar-orbiting operational environmental satellite system. JPSS is a collaborative program between NOAA and its acquisition agent NASA. VIIRS is the successor to MODIS for Earth science data product generation. (This version of the VH data was first released in December 2014.)\\\"\" ;\n",
      "    dc:relation <urn:sha:4eaf6d197e57441768eda082ae24f20587d4c277e0e81011b661089e>,\n",
      "        <urn:sha:afc1dbffb4e9e210a7dbf86e0f728a4e14ddb436462026570cb68f44> ;\n",
      "    dc:spatial \"POLYGON ((-179.9792 -89.97918,-179.9792 89.97916,179.9792 89.97916,179.9792 -89.97918,-179.9792 -89.97918))\" ;\n",
      "    dct:identifier \"erdVH2k4901day\" ;\n",
      "    dct:title \"\\\"VIIRSN, Suomi-NPP, Level-3 SMI, Global, 4km, K490, Daily\\\"\"^^xsd:string ;\n",
      "    esip:eastBound \"179.9792\"^^xsd:float ;\n",
      "    esip:endDate \"2015-09-12\"^^xsd:date ;\n",
      "    esip:northBound \"89.97916\"^^xsd:float ;\n",
      "    esip:southBound \"-89.97918\"^^xsd:float ;\n",
      "    esip:startDate \"2012-01-02\"^^xsd:date ;\n",
      "    esip:westBound \"-179.9792\"^^xsd:float ;\n",
      "    owl:a dcat:Dataset ;\n",
      "    dcat:publisher <urn:uuid:1c681d40-3ba1-47a1-b498-eacdd9d3fde0> .\n",
      "\n",
      "<urn:sha:4eaf6d197e57441768eda082ae24f20587d4c277e0e81011b661089e> owl:a bibo:WebPage ;\n",
      "    vcard:hasURL \"https://bluehub.jrc.ec.europa.eu/erddap/griddap/erdVH2k4901day.html\" .\n",
      "\n",
      "<urn:sha:afc1dbffb4e9e210a7dbf86e0f728a4e14ddb436462026570cb68f44> owl:a bibo:WebPage ;\n",
      "    vcard:hasURL \"https://bluehub.jrc.ec.europa.eu/erddap/griddap/erdVH2k4901day.graph\" .\n",
      "\n",
      "<urn:sha:c2fb667c42f9774d79c895a499f319fe5795f4b3c157cc4d2cd01228> dc:conformsTo \"http://www.isotc211.org/2005/gmi http://www.ngdc.noaa.gov/metadata/published/xsd/schema.xsd\" ;\n",
      "    vivo:harvestDate \"2015-09-15T12:45:00Z\" ;\n",
      "    owl:a dcat:CatalogRecord ;\n",
      "    vcard:hasURL \"https://bluehub.jrc.ec.europa.eu/erddap/metadata/iso/xml/noaa_pfeg_d543_8870_bc7f_iso.xml\" ;\n",
      "    foaf:primaryTopic <urn:sha:3a5b1e07fa71be8320545bc0e4a277259d5794e020cd6ceb5c8bd487> .\n",
      "\n",
      "<urn:uuid:16273615-7213-4187-ba5f-8dc9c3cbcac2> bcube:hasValue \"\\\"Ocean Biology Processing Group (NASA/GSFC/OBPG)\\\"\" ;\n",
      "    dc:hasType \"\\\"project\\\"\" ;\n",
      "    owl:a bcube:thesaurusSubset .\n",
      "\n",
      "<urn:uuid:1c681d40-3ba1-47a1-b498-eacdd9d3fde0> owl:a dcat:publisher ;\n",
      "    foaf:name \"\\\"NASA/GSFC OBPG\\\"\" .\n",
      "\n",
      "<urn:uuid:2576a7e2-929a-4744-a30d-28502687fcda> bcube:hasValue \"\\\"diffuse_attenuation_coefficient_of_downwelling_radiative_flux_in_sea_water\\\"\",\n",
      "        \"\\\"latitude\\\"\",\n",
      "        \"\\\"longitude\\\"\",\n",
      "        \"\\\"time\\\"\" ;\n",
      "    dc:hasType \"\\\"theme\\\"\" ;\n",
      "    dc:partOf \"\\\"CF Standard Name Table v29\\\"\" ;\n",
      "    owl:a bcube:thesaurusSubset .\n",
      "\n",
      "<urn:uuid:26b1387e-2535-4394-ac7b-5ed8fcc80a7d> bcube:hasValue \"\\\"geoscientificInformation\\\"\" ;\n",
      "    dc:partOf \"\\\"IsoTopicCategories\\\"\" ;\n",
      "    owl:a bcube:thesaurusSubset .\n",
      "\n",
      "<urn:uuid:b092a6f8-f6af-4b20-8764-21362dff5114> bcube:hasValue \"\\\"4km\\\"\",\n",
      "        \"\\\"attentuation\\\"\",\n",
      "        \"\\\"coefficient\\\"\",\n",
      "        \"\\\"composite\\\"\",\n",
      "        \"\\\"daily\\\"\",\n",
      "        \"\\\"diffuse attenuation coefficient\\\"\",\n",
      "        \"\\\"diffuse\\\"\",\n",
      "        \"\\\"gsfc\\\"\",\n",
      "        \"\\\"image\\\"\",\n",
      "        \"\\\"joint\\\"\",\n",
      "        \"\\\"jpss\\\"\",\n",
      "        \"\\\"k490\\\"\",\n",
      "        \"\\\"level\\\"\",\n",
      "        \"\\\"level-3\\\"\",\n",
      "        \"\\\"mapped\\\"\",\n",
      "        \"\\\"mean\\\"\",\n",
      "        \"\\\"nasa\\\"\",\n",
      "        \"\\\"noaa\\\"\",\n",
      "        \"\\\"npoess\\\"\",\n",
      "        \"\\\"npp\\\"\",\n",
      "        \"\\\"obpg\\\"\",\n",
      "        \"\\\"ocean color\\\"\",\n",
      "        \"\\\"ocean\\\"\",\n",
      "        \"\\\"oceans\\\"\",\n",
      "        \"\\\"optical\\\"\",\n",
      "        \"\\\"orbiting\\\"\",\n",
      "        \"\\\"polar\\\"\",\n",
      "        \"\\\"properties\\\"\",\n",
      "        \"\\\"satellite\\\"\",\n",
      "        \"\\\"sea\\\"\",\n",
      "        \"\\\"seawater\\\"\",\n",
      "        \"\\\"smi\\\"\",\n",
      "        \"\\\"standard\\\"\",\n",
      "        \"\\\"suomi\\\"\",\n",
      "        \"\\\"viirs\\\"\",\n",
      "        \"\\\"viirsn\\\"\",\n",
      "        \"\\\"water\\\"\" ;\n",
      "    dc:hasType \"\\\"theme\\\"\" ;\n",
      "    owl:a bcube:thesaurusSubset .\n",
      "\n",
      "\n"
     ]
    }
   ],
   "source": [
    "graph = RdfGrapher(reader.description)\n",
    "graph.serialize()\n",
    "ttl = graph.emit_format()\n",
    "\n",
    "print ttl"
   ]
  },
  {
   "cell_type": "code",
   "execution_count": 13,
   "metadata": {
    "collapsed": false
   },
   "outputs": [
    {
     "data": {
      "text/plain": [
       "<Element {http://www.isotc211.org/2005/gmi}MI_Metadata at 0x10a833f38>"
      ]
     },
     "execution_count": 13,
     "metadata": {},
     "output_type": "execute_result"
    }
   ],
   "source": [
    "from semproc.preprocessors.iso_helpers import parse_identification_info\n",
    "from semproc.preprocessors.iso_helpers import parse_distribution\n",
    "from semproc.preprocessors.iso_helpers import parse_extent\n",
    "from semproc.xml_utils import extract_item\n",
    "from semproc.xml_utils import extract_elem, extract_elems\n",
    "from semproc.xml_utils import extract_attrib\n",
    "\n",
    "elem = reader.parser.xml\n"
   ]
  },
  {
   "cell_type": "code",
   "execution_count": null,
   "metadata": {
    "collapsed": true
   },
   "outputs": [],
   "source": []
  }
 ],
 "metadata": {
  "kernelspec": {
   "display_name": "Python 2",
   "language": "python",
   "name": "python2"
  },
  "language_info": {
   "codemirror_mode": {
    "name": "ipython",
    "version": 2
   },
   "file_extension": ".py",
   "mimetype": "text/x-python",
   "name": "python",
   "nbconvert_exporter": "python",
   "pygments_lexer": "ipython2",
   "version": "2.7.10"
  }
 },
 "nbformat": 4,
 "nbformat_minor": 0
}
