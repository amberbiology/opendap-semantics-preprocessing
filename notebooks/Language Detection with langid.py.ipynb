{
 "metadata": {
  "name": "",
  "signature": "sha256:b44f881754d4d09cd18ff150ee96108587ab4b66679b7ad463ab2312ee03547e"
 },
 "nbformat": 3,
 "nbformat_minor": 0,
 "worksheets": [
  {
   "cells": [
    {
     "cell_type": "heading",
     "level": 1,
     "metadata": {},
     "source": [
      "Let's Talk Language Detection"
     ]
    },
    {
     "cell_type": "markdown",
     "metadata": {},
     "source": [
      "Basically by punting and giving langid a whirl. Our needs are basically \"if not English, drop it\" so this is likely a good low-risk option for that (and in python).\n",
      "\n",
      "To install:\n",
      "```\n",
      "$ pip install --pre langid\n",
      "```\n",
      "(fails to install without the --pre flag)\n"
     ]
    },
    {
     "cell_type": "code",
     "collapsed": false,
     "input": [
      "import langid\n",
      "\n",
      "langid.classify(\"This is a test\")"
     ],
     "language": "python",
     "metadata": {},
     "outputs": [
      {
       "metadata": {},
       "output_type": "pyout",
       "prompt_number": 1,
       "text": [
        "('en', 0.999999990990354)"
       ]
      }
     ],
     "prompt_number": 1
    },
    {
     "cell_type": "markdown",
     "metadata": {},
     "source": [
      "And, done.\n",
      "\n",
      "Let's dump our German example in (due diligence once again)."
     ]
    },
    {
     "cell_type": "code",
     "collapsed": false,
     "input": [
      "langid.classify(\"Landesamt f\u00fcr innere Verwaltung Mecklenburg-Vorpommern; Amt f\u00fcr Geoinformation, Vermessung und Katasterwesen\")"
     ],
     "language": "python",
     "metadata": {},
     "outputs": [
      {
       "metadata": {},
       "output_type": "pyout",
       "prompt_number": 2,
       "text": [
        "('de', 1.0)"
       ]
      }
     ],
     "prompt_number": 2
    },
    {
     "cell_type": "markdown",
     "metadata": {},
     "source": [
      "And that's okay. For a very short German string without stopwords (I know some of those :))."
     ]
    },
    {
     "cell_type": "code",
     "collapsed": false,
     "input": [
      "langid.classify(\"Landesamt innere Verwaltung Mecklenburg-Vorpommern; Geoinformation, Vermessung Katasterwesen\")"
     ],
     "language": "python",
     "metadata": {},
     "outputs": [
      {
       "metadata": {},
       "output_type": "pyout",
       "prompt_number": 3,
       "text": [
        "('de', 0.9999999999999942)"
       ]
      }
     ],
     "prompt_number": 3
    },
    {
     "cell_type": "code",
     "collapsed": false,
     "input": [
      "langid.classify(\"Landesamt innere Verwaltung Mecklenburg-Vorpommern\")"
     ],
     "language": "python",
     "metadata": {},
     "outputs": [
      {
       "metadata": {},
       "output_type": "pyout",
       "prompt_number": 4,
       "text": [
        "('de', 0.9999999999555629)"
       ]
      }
     ],
     "prompt_number": 4
    },
    {
     "cell_type": "code",
     "collapsed": false,
     "input": [
      "langid.classify(\"Landesamt innere\")"
     ],
     "language": "python",
     "metadata": {},
     "outputs": [
      {
       "metadata": {},
       "output_type": "pyout",
       "prompt_number": 5,
       "text": [
        "('de', 0.3545723107808423)"
       ]
      }
     ],
     "prompt_number": 5
    },
    {
     "cell_type": "markdown",
     "metadata": {},
     "source": [
      "Two words, still tagged as not English. And there's a setting to limit the languages, so let's see what that does."
     ]
    },
    {
     "cell_type": "code",
     "collapsed": false,
     "input": [
      "langid.set_languages(['en'])\n",
      "print 'Do not expect English: ', langid.classify(\"Landesamt innere Verwaltung Mecklenburg-Vorpommern\")\n",
      "\n",
      "langid.set_languages(['en', 'de'])\n",
      "print 'Expect German: ', langid.classify(\"Landesamt innere Verwaltung Mecklenburg-Vorpommern\")\n",
      "\n",
      "langid.set_languages(['de', 'it'])\n",
      "print 'Expect German: ', langid.classify(\"Landesamt innere Verwaltung Mecklenburg-Vorpommern\")\n",
      "\n",
      "# some italian\n",
      "langid.set_languages(['de', 'it'])\n",
      "print 'Expect Italian: ', langid.classify('Vada dritto! e poi giri a destra')\n",
      "\n",
      "langid.set_languages(['de'])\n",
      "print 'Do not expect German: ', langid.classify('Vada dritto! e poi giri a destra')\n",
      "\n"
     ],
     "language": "python",
     "metadata": {},
     "outputs": [
      {
       "output_type": "stream",
       "stream": "stdout",
       "text": [
        "Do not expect English:  ('en', 1.0)\n",
        "Expect German:  ('de', 1.0)\n",
        "Expect German:  ('de', 1.0)\n",
        "Expect Italian:  ('it', 0.9999999962054371)\n",
        "Do not expect German:  ('de', 1.0)\n"
       ]
      }
     ],
     "prompt_number": 14
    },
    {
     "cell_type": "markdown",
     "metadata": {},
     "source": [
      "It behaves quite oddly, actually. If there's only the one language, it just picks it? That is a really big bug.\n",
      "\n",
      "Anyway, best not to constrain it then. So how to reset the language list?"
     ]
    },
    {
     "cell_type": "code",
     "collapsed": false,
     "input": [
      "# not sure about this but now I'm \n",
      "# curious after the previous chunk\n",
      "\n",
      "from langid.langid import LanguageIdentifier, model\n",
      "identifier = LanguageIdentifier.from_modelstring(model, norm_probs=False)\n",
      "\n",
      "# reset the language list, phew.\n",
      "langid.set_languages(None)\n",
      "\n",
      "print langid.classify(\"Landesamt innere Verwaltung Mecklenburg-Vorpommern\")\n",
      "print langid.classify(\"It behaves quite oddly, actually.\")\n",
      "print langid.classify('Vada dritto! e poi giri a destra')"
     ],
     "language": "python",
     "metadata": {},
     "outputs": [
      {
       "output_type": "stream",
       "stream": "stdout",
       "text": [
        "('de', 0.9999999999555629)\n",
        "('en', 0.9285646591669207)\n",
        "('pt', 0.7473066529636256)\n"
       ]
      }
     ],
     "prompt_number": 19
    },
    {
     "cell_type": "markdown",
     "metadata": {},
     "source": [
      "Off to write our binary Is it English? check. "
     ]
    }
   ],
   "metadata": {}
  }
 ]
}