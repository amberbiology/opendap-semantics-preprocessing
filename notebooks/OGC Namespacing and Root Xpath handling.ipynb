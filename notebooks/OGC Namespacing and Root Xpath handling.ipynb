{
 "metadata": {
  "name": "",
  "signature": "sha256:da284bc140ec2b0b4e40641a93bb7a6ddafd374eba273c9323d42d26b27edb37"
 },
 "nbformat": 3,
 "nbformat_minor": 0,
 "worksheets": [
  {
   "cells": [
    {
     "cell_type": "markdown",
     "metadata": {},
     "source": [
      "Some tests for a generic (as much as possible) handling of OGC GetCapabilities responses, starting with a solution for the changes in the root element name. This is not a complete list.\n",
      "\n",
      "Root Tags:\n",
      "WMS 1.0.0 <WMS_Capabilities>\n",
      "WMS 1.1.1 <WMS_MS_Capabilities>\n",
      "WFS 1.0.0 <WFS_Capabilities>\n",
      "WFS 1.1.0\n",
      "WCS 1.0.0 <WCS_Capabilities>\n",
      "WCS 1.1.2 <Capabilities>\n",
      "\n",
      "where the default (and, in this case, namespace of the root tag) is like the following: xmlns=\"http://www.opengis.net/wfs\""
     ]
    },
    {
     "cell_type": "code",
     "collapsed": false,
     "input": [
      "from lxml import etree\n",
      "\n",
      "# our set of root elements with a default namespace\n",
      "# note that this namespace is not correct for an acutal \n",
      "# service response, we just want to test the root xpath\n",
      "test_strings = [\n",
      "    (\n",
      "        'xxx_Capabilities with a default namespace', \n",
      "        '<?xml version=\"1.0\" encoding=\"UTF-8\"?><WFS_Capabilities xmlns=\"http://www.opengis.net/wxs\"><service>Other Content</service></WFS_Capabilities>'\n",
      "    ),\n",
      "    (\n",
      "        'Capabilities with a default namespace',\n",
      "        '<?xml version=\"1.0\" encoding=\"UTF-8\"?><Capabilities xmlns=\"http://www.opengis.net/wxs\"><service>Other Content</service></Capabilities>'\n",
      "    ),\n",
      "    (\n",
      "        'WMS_MS_Capabilities with a default namespace',\n",
      "        '<?xml version=\"1.0\" encoding=\"UTF-8\"?><WMS_MS_Capabilities xmlns=\"http://www.opengis.net/wxs\"><service>Other Content</service></WMS_MS_Capabilities>'\n",
      "    )\n",
      "]\n",
      "\n",
      "# and we'll start with a default, un-prefixed namespace\n",
      "ns = {'default': 'http://www.opengis.net/wxs'}\n",
      "\n",
      "test_xpath = '/default:*/default:service/text()'\n",
      "\n",
      "for label, xml_as_string in test_strings:\n",
      "    try:\n",
      "        xml = etree.fromstring(xml_as_string)\n",
      "    except:\n",
      "        print 'failed to parse the xml for \"%s\"' % label\n",
      "        continue\n",
      "    \n",
      "    content = xml.xpath(test_xpath, namespaces=ns)\n",
      "    if not content:\n",
      "        print 'failed to locate the main content for \"%s\"' % label\n",
      "        continue\n",
      "    \n",
      "    print label, ': '\n",
      "    print '\\t', content\n",
      "\n"
     ],
     "language": "python",
     "metadata": {},
     "outputs": [
      {
       "output_type": "stream",
       "stream": "stdout",
       "text": [
        "xxx_Capabilities with a default namespace : \n",
        "\t['Other Content']\n",
        "Capabilities with a default namespace : \n",
        "\t['Other Content']\n",
        "WMS_MS_Capabilities with a default namespace : \n",
        "\t['Other Content']\n"
       ]
      }
     ],
     "prompt_number": 2
    },
    {
     "cell_type": "markdown",
     "metadata": {},
     "source": [
      "So that's good for default unprefixed namespaces. Let's verify for the ows:WMS_Capabilities as well (no idea why it would be any different)."
     ]
    },
    {
     "cell_type": "code",
     "collapsed": false,
     "input": [
      "test_strings = [\n",
      "    (\n",
      "        'xxx_Capabilities with a default namespace', \n",
      "        '<WMS_Capabilities xmlns=\"http://www.opengis.net/wxs\" xmlns:ogc=\"http://www.opengis.net/ows\"><ogc:service>Other Content</ogc:service></WMS_Capabilities>'\n",
      "    ),\n",
      "    (\n",
      "        'Capabilities with a default namespace',\n",
      "        '<Capabilities xmlns=\"http://www.opengis.net/wxs\" xmlns:ogc=\"http://www.opengis.net/ows\"><ogc:service>Other Content</ogc:service></Capabilities>'\n",
      "    ),\n",
      "    (\n",
      "        'WMS_MS_Capabilities with a default namespace',\n",
      "        '<WMS_MS_Capabilities xmlns=\"http://www.opengis.net/wxs\" xmlns:ogc=\"http://www.opengis.net/ows\"><ogc:service>Other Content</ogc:service></WMS_MS_Capabilities>'\n",
      "    )\n",
      "]\n",
      "\n",
      "ns = {'default': 'http://www.opengis.net/wxs', 'ogc': 'http://www.opengis.net/ows'}\n",
      "\n",
      "test_xpath = '/default:*/ogc:service/text()'\n",
      "\n",
      "for label, xml_as_string in test_strings:\n",
      "    try:\n",
      "        xml = etree.fromstring(xml_as_string)\n",
      "    except:\n",
      "        print 'failed to parse the xml for \"%s\"' % label\n",
      "        continue\n",
      "    \n",
      "    content = xml.xpath(test_xpath, namespaces=ns)\n",
      "    if not content:\n",
      "        print 'failed to locate the main content for \"%s\"' % label\n",
      "        continue\n",
      "    \n",
      "    print label, ': '\n",
      "    print '\\t', content"
     ],
     "language": "python",
     "metadata": {},
     "outputs": [
      {
       "output_type": "stream",
       "stream": "stdout",
       "text": [
        "xxx_Capabilities with a default namespace : \n",
        "\t['Other Content']\n",
        "Capabilities with a default namespace : \n",
        "\t['Other Content']\n",
        "WMS_MS_Capabilities with a default namespace : \n",
        "\t['Other Content']\n"
       ]
      }
     ],
     "prompt_number": 3
    },
    {
     "cell_type": "markdown",
     "metadata": {},
     "source": [
      "And it's not, so that's one problem solved.\n",
      "\n",
      "Moving on to the parameter value constructs. So the empty elements where the relevant piece of information is the element tag vs the more straightforward get the text of all Value elements. And then deal with the controlled vocab terms in the resulting lists."
     ]
    },
    {
     "cell_type": "code",
     "collapsed": false,
     "input": [
      "# we are ignoring any and all namespaces here.\n",
      "tag_names_as_values = '''<Capability>\n",
      "<Format>\n",
      "    <GML2/>\n",
      "    <XMLSCHEMA/>\n",
      "</Format>\n",
      "</Capability>\n",
      "'''\n",
      "xml = etree.fromstring(tag_names_as_values)\n",
      "formats = xml.xpath('/Capability/Format/*')\n",
      "print 'tags as terms: ', [f.tag for f in formats]\n",
      "\n",
      "# any nested Format text()\n",
      "format_elements_with_text = '''<Capability>\n",
      "<Format>image/png</Format>\n",
      "<Format>image/png;mode=32bit</Format>\n",
      "<Format>image/gif</Format>\n",
      "</Capability>\n",
      "'''\n",
      "xml = etree.fromstring(format_elements_with_text)\n",
      "formats = xml.xpath('/Capability/Format/text()')\n",
      "print 'formats as terms: ', formats\n",
      "\n",
      "# the nested parameter.value text()\n",
      "nested_value_elements_with_text = '''<Capability>\n",
      "<Parameter name=\"OutputFormat\">\n",
      "<Value>image/png</Value>\n",
      "<Value>image/png;mode=32bit</Value>\n",
      "<Value>image/gif</Value>\n",
      "</Parameter>\n",
      "</Capability>\n",
      "'''\n",
      "\n",
      "xml = etree.fromstring(nested_value_elements_with_text)\n",
      "formats = xml.xpath('/Capability/Parameter[@name=\"OutputFormat\"]/Value/text()')\n",
      "print 'nested formats as terms: ', formats"
     ],
     "language": "python",
     "metadata": {},
     "outputs": [
      {
       "output_type": "stream",
       "stream": "stdout",
       "text": [
        "tags as terms:  ['GML2', 'XMLSCHEMA']\n",
        "formats as terms:  ['image/png', 'image/png;mode=32bit', 'image/gif']\n",
        "nested formats as terms:  ['image/png', 'image/png;mode=32bit', 'image/gif']\n"
       ]
      }
     ],
     "prompt_number": 28
    },
    {
     "cell_type": "markdown",
     "metadata": {},
     "source": [
      "Hmmm, why doesn't the XPath \"/Capability/Format/\\*/name()\" work for the element tag as term option? (It's an etree error.) It's XPath 1 and not part of the subset supported by etree anyway. That's awkward for an xpath-based extraction system. "
     ]
    }
   ],
   "metadata": {}
  }
 ]
}