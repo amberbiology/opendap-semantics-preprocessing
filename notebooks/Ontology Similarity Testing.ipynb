{
 "metadata": {
  "name": "",
  "signature": "sha256:7b7e615b470d8d05b183414e8d84dec2a98d5109f44ce567057d19d8b374175f"
 },
 "nbformat": 3,
 "nbformat_minor": 0,
 "worksheets": [
  {
   "cells": [
    {
     "cell_type": "markdown",
     "metadata": {},
     "source": [
      "Time to compare keyword term lists with some ontologies. This is a very abbreviated test to demonstrate doing things.\n",
      "\n",
      "Basically we're seeing what happens when we take a parsed array of terms/phrases, as identified by metadata parsing and tokenizing (not shown here) and calculating similarity to some set of ontology \"phrases\". I'm taking the cryosphere terms from GCMD and SWEET.\n",
      "\n",
      "Set up the imports for later."
     ]
    },
    {
     "cell_type": "code",
     "collapsed": false,
     "input": [
      "import pprint\n",
      "from sklearn.feature_extraction.text import TfidfVectorizer\n",
      "from sklearn.metrics.pairwise import cosine_similarity\n",
      "from sklearn.metrics.pairwise import linear_kernel\n",
      "from sklearn import metrics"
     ],
     "language": "python",
     "metadata": {},
     "outputs": [],
     "prompt_number": 2
    },
    {
     "cell_type": "markdown",
     "metadata": {},
     "source": [
      "The GCMD terms, as comma-delimited strings:"
     ]
    },
    {
     "cell_type": "code",
     "collapsed": false,
     "input": [
      "GCMD_strings = [\n",
      "    \"EARTH SCIENCE,CLIMATE INDICATORS,CRYOSPHERIC INDICATORS,,,\",\n",
      "    \"EARTH SCIENCE,CLIMATE INDICATORS,CRYOSPHERIC INDICATORS,AVALANCHE,,\",\n",
      "    \"EARTH SCIENCE,CLIMATE INDICATORS,CRYOSPHERIC INDICATORS,DEPTH HOAR,,\",\n",
      "    \"EARTH SCIENCE,CLIMATE INDICATORS,CRYOSPHERIC INDICATORS,FIRN LIMIT,\",\n",
      "    \"EARTH SCIENCE,CLIMATE INDICATORS,CRYOSPHERIC INDICATORS,GLACIAL MEASUREMENTS,\",\n",
      "    \"EARTH SCIENCE,CLIMATE INDICATORS,CRYOSPHERIC INDICATORS,GLACIAL MEASUREMENTS,GLACIER ELEVATION/ICE SHEET ELEVATION\",\n",
      "    \"EARTH SCIENCE,CLIMATE INDICATORS,CRYOSPHERIC INDICATORS,GLACIAL MEASUREMENTS,GLACIER FACIES\",\n",
      "    \"EARTH SCIENCE,CLIMATE INDICATORS,CRYOSPHERIC INDICATORS,GLACIAL MEASUREMENTS,GLACIER MASS BALANCE/ICE SHEET MASS BALANCE\",\n",
      "    \"EARTH SCIENCE,CLIMATE INDICATORS,CRYOSPHERIC INDICATORS,GLACIAL MEASUREMENTS,GLACIER MOTION/ICE SHEET MOTION\",\n",
      "    \"EARTH SCIENCE,CLIMATE INDICATORS,CRYOSPHERIC INDICATORS,GLACIAL MEASUREMENTS,GLACIER/ICE SHEET THICKNESS\",\n",
      "    \"EARTH SCIENCE,CLIMATE INDICATORS,CRYOSPHERIC INDICATORS,GLACIAL MEASUREMENTS,GLACIER/ICE SHEET TOPOGRAPHY\",\n",
      "    \"EARTH SCIENCE,CLIMATE INDICATORS,CRYOSPHERIC INDICATORS,ICE DEPTH/THICKNESS,\",\n",
      "    \"EARTH SCIENCE,CLIMATE INDICATORS,CRYOSPHERIC INDICATORS,ICE EDGES,\",\n",
      "    \"EARTH SCIENCE,CLIMATE INDICATORS,CRYOSPHERIC INDICATORS,ICE EXTENT,\",\n",
      "    \"EARTH SCIENCE,CLIMATE INDICATORS,CRYOSPHERIC INDICATORS,ICE FLOES,\",\n",
      "    \"EARTH SCIENCE,CLIMATE INDICATORS,CRYOSPHERIC INDICATORS,ICE GROWTH/MELT,\",\n",
      "    \"EARTH SCIENCE,CLIMATE INDICATORS,CRYOSPHERIC INDICATORS,RIVER ICE DEPTH/EXTENT,\",\n",
      "    \"EARTH SCIENCE,CLIMATE INDICATORS,CRYOSPHERIC INDICATORS,SALINITY,\",\n",
      "    \"EARTH SCIENCE,CLIMATE INDICATORS,CRYOSPHERIC INDICATORS,SEA ICE CONCENTRATION,\",\n",
      "    \"EARTH SCIENCE,CLIMATE INDICATORS,CRYOSPHERIC INDICATORS,SEA ICE ELEVATION,\",\n",
      "    \"EARTH SCIENCE,CLIMATE INDICATORS,CRYOSPHERIC INDICATORS,SNOW COVER,\",\n",
      "    \"EARTH SCIENCE,CLIMATE INDICATORS,CRYOSPHERIC INDICATORS,SNOW DEPTH,\",\n",
      "    \"EARTH SCIENCE,CLIMATE INDICATORS,CRYOSPHERIC INDICATORS,SNOW ENERGY BALANCE,\",\n",
      "    \"EARTH SCIENCE,CLIMATE INDICATORS,CRYOSPHERIC INDICATORS,SNOW MELT,\"\n",
      "]"
     ],
     "language": "python",
     "metadata": {},
     "outputs": [],
     "prompt_number": 3
    },
    {
     "cell_type": "markdown",
     "metadata": {},
     "source": [
      "I'm just going to say that the example keyword sets may not be representative of real world sets. Or even a good test of this process. "
     ]
    },
    {
     "cell_type": "code",
     "collapsed": false,
     "input": [
      "keyword_strings = [\n",
      "    \"cryosphere,earth-science,snow-ice,surface-water,terrestrial-hydrosphere\",\n",
      "    \"apps,arctic-sea-ice,carbon-dioxide,climate,electricity,ephemerides,geodetics,land-ice,news,radar,waves\",\n",
      "    \"cryosphere,earth-science,glaciers-ice-sheets\",\n",
      "    \"density,inlandwaters,census,conterminous 48,population\"\n",
      "]"
     ],
     "language": "python",
     "metadata": {},
     "outputs": [],
     "prompt_number": 4
    },
    {
     "cell_type": "markdown",
     "metadata": {},
     "source": [
      "[Another note, I am pulling these from data.gov holdings. First thing, not using the full depth of the GCMD structure (if it actually still is GCMD, close yes...). Second thing, we should be catching these? See http://catalog.data.gov/harvest/object/d0c05b46-6d57-4870-84e3-904c0b6665b3. Third thing, is this pulling from reverb or ECHO or something? There's some wackiness in the data.json (see undefined for contact and what is going on with the $oid?? (that actually happens everywhere but still)). This one (non-NSIDC) is not the same as NSIDC's: http://catalog.data.gov/dataset/monthly-snow-ice-averages-isccp]"
     ]
    },
    {
     "cell_type": "markdown",
     "metadata": {},
     "source": [
      "Anyway. Let's chunk the keyword string into lists (or not)."
     ]
    },
    {
     "cell_type": "code",
     "collapsed": false,
     "input": [
      "# try it on the one string first\n",
      "sample_set = [keyword_strings[0]]\n",
      "\n",
      "# our gcmd terms are already in a reasonable structure here.\n",
      "# so we just want to prepend the training terms to the others.\n",
      "sample_set += GCMD_strings\n",
      "\n",
      "# set up the tfidf widget\n",
      "tfidf_vectorizer = TfidfVectorizer()\n",
      "tfidf_matrix_trainer = tfidf_vectorizer.fit_transform(sample_set)\n",
      "\n",
      "# calculate the cosine scores (which, i don't know, is not necessary\n",
      "# and we can do with the linear_kernel but i'm going to just leave this)\n",
      "cos_sim = cosine_similarity(tfidf_matrix_trainer[0:1], tfidf_matrix_trainer)\n",
      "print cos_sim\n"
     ],
     "language": "python",
     "metadata": {},
     "outputs": [
      {
       "output_type": "stream",
       "stream": "stdout",
       "text": [
        "[[ 1.          0.07982372  0.050498    0.04376938  0.03992475  0.05482985\n",
        "   0.06041542  0.03872635  0.04621886  0.05628789  0.0791571   0.07669455\n",
        "   0.09690851  0.10534977  0.1120218   0.10534977  0.08831013  0.08031663\n",
        "   0.050498    0.08831013  0.09213028  0.179889    0.2022335   0.15391244\n",
        "   0.18961721]]\n"
       ]
      }
     ],
     "prompt_number": 5
    },
    {
     "cell_type": "code",
     "collapsed": false,
     "input": [
      "# the linear kernel\n",
      "lk = linear_kernel(tfidf_matrix_trainer[0:1], tfidf_matrix_trainer).flatten()\n",
      "\n",
      "# and let's see what has the highest matches\n",
      "related_indices = cos_sim.argsort()[:-len(sample_set)-1:-1] \n",
      "print related_indices\n",
      "\n",
      "related_indices_with_lk_value = [r for r in related_indices[0] if lk[r]]\n",
      "related_indices_with_lk_value.reverse()\n",
      "print related_indices_with_lk_value"
     ],
     "language": "python",
     "metadata": {},
     "outputs": [
      {
       "output_type": "stream",
       "stream": "stdout",
       "text": [
        "[[ 7  4  3  8  2 18  5  9  6 11 10  1 17 19 16 20 12 13 15 14 23 21 24 22\n",
        "   0]]\n",
        "[0, 22, 24, 21, 23, 14, 15, 13, 12, 20, 16, 19, 17, 1, 10, 11, 6, 9, 5, 18, 2, 8, 3, 4, 7]\n"
       ]
      }
     ],
     "prompt_number": 6
    },
    {
     "cell_type": "code",
     "collapsed": false,
     "input": [
      "# and those print statements are not very useful\n",
      "related_set = [(lk[k], sample_set[k]) for k in related_indices_with_lk_value]\n",
      "pp = pprint.PrettyPrinter(indent=4)\n",
      "pp.pprint(sample_set[0])\n",
      "pp.pprint(related_set[1:])"
     ],
     "language": "python",
     "metadata": {},
     "outputs": [
      {
       "output_type": "stream",
       "stream": "stdout",
       "text": [
        "'cryosphere,earth-science,snow-ice,surface-water,terrestrial-hydrosphere'\n",
        "[   (   0.20223350187933986,\n",
        "        'EARTH SCIENCE,CLIMATE INDICATORS,CRYOSPHERIC INDICATORS,SNOW DEPTH,'),\n",
        "    (   0.18961720690250145,\n",
        "        'EARTH SCIENCE,CLIMATE INDICATORS,CRYOSPHERIC INDICATORS,SNOW MELT,'),\n",
        "    (   0.17988899632452651,\n",
        "        'EARTH SCIENCE,CLIMATE INDICATORS,CRYOSPHERIC INDICATORS,SNOW COVER,'),\n",
        "    (   0.15391243682343778,\n",
        "        'EARTH SCIENCE,CLIMATE INDICATORS,CRYOSPHERIC INDICATORS,SNOW ENERGY BALANCE,'),\n",
        "    (   0.11202179734455582,\n",
        "        'EARTH SCIENCE,CLIMATE INDICATORS,CRYOSPHERIC INDICATORS,ICE EXTENT,'),\n",
        "    (   0.10534976580520881,\n",
        "        'EARTH SCIENCE,CLIMATE INDICATORS,CRYOSPHERIC INDICATORS,ICE FLOES,'),\n",
        "    (   0.10534976580520881,\n",
        "        'EARTH SCIENCE,CLIMATE INDICATORS,CRYOSPHERIC INDICATORS,ICE EDGES,'),\n",
        "    (   0.09690851287817559,\n",
        "        'EARTH SCIENCE,CLIMATE INDICATORS,CRYOSPHERIC INDICATORS,ICE DEPTH/THICKNESS,'),\n",
        "    (   0.09213028247441378,\n",
        "        'EARTH SCIENCE,CLIMATE INDICATORS,CRYOSPHERIC INDICATORS,SEA ICE ELEVATION,'),\n",
        "    (   0.088310130477180615,\n",
        "        'EARTH SCIENCE,CLIMATE INDICATORS,CRYOSPHERIC INDICATORS,ICE GROWTH/MELT,'),\n",
        "    (   0.088310130477180615,\n",
        "        'EARTH SCIENCE,CLIMATE INDICATORS,CRYOSPHERIC INDICATORS,SEA ICE CONCENTRATION,'),\n",
        "    (   0.080316631902235675,\n",
        "        'EARTH SCIENCE,CLIMATE INDICATORS,CRYOSPHERIC INDICATORS,RIVER ICE DEPTH/EXTENT,'),\n",
        "    (   0.079823718545545236,\n",
        "        'EARTH SCIENCE,CLIMATE INDICATORS,CRYOSPHERIC INDICATORS,,,'),\n",
        "    (   0.079157104617644136,\n",
        "        'EARTH SCIENCE,CLIMATE INDICATORS,CRYOSPHERIC INDICATORS,GLACIAL MEASUREMENTS,GLACIER/ICE SHEET THICKNESS'),\n",
        "    (   0.076694549372575388,\n",
        "        'EARTH SCIENCE,CLIMATE INDICATORS,CRYOSPHERIC INDICATORS,GLACIAL MEASUREMENTS,GLACIER/ICE SHEET TOPOGRAPHY'),\n",
        "    (   0.060415423399353421,\n",
        "        'EARTH SCIENCE,CLIMATE INDICATORS,CRYOSPHERIC INDICATORS,GLACIAL MEASUREMENTS,GLACIER ELEVATION/ICE SHEET ELEVATION'),\n",
        "    (   0.056287886658941765,\n",
        "        'EARTH SCIENCE,CLIMATE INDICATORS,CRYOSPHERIC INDICATORS,GLACIAL MEASUREMENTS,GLACIER MOTION/ICE SHEET MOTION'),\n",
        "    (   0.054829847471272848,\n",
        "        'EARTH SCIENCE,CLIMATE INDICATORS,CRYOSPHERIC INDICATORS,GLACIAL MEASUREMENTS,'),\n",
        "    (   0.050497999524942556,\n",
        "        'EARTH SCIENCE,CLIMATE INDICATORS,CRYOSPHERIC INDICATORS,SALINITY,'),\n",
        "    (   0.050497999524942556,\n",
        "        'EARTH SCIENCE,CLIMATE INDICATORS,CRYOSPHERIC INDICATORS,AVALANCHE,,'),\n",
        "    (   0.046218856798563322,\n",
        "        'EARTH SCIENCE,CLIMATE INDICATORS,CRYOSPHERIC INDICATORS,GLACIAL MEASUREMENTS,GLACIER MASS BALANCE/ICE SHEET MASS BALANCE'),\n",
        "    (   0.043769377689314083,\n",
        "        'EARTH SCIENCE,CLIMATE INDICATORS,CRYOSPHERIC INDICATORS,DEPTH HOAR,,'),\n",
        "    (   0.03992475386312648,\n",
        "        'EARTH SCIENCE,CLIMATE INDICATORS,CRYOSPHERIC INDICATORS,FIRN LIMIT,'),\n",
        "    (   0.038726348063552553,\n",
        "        'EARTH SCIENCE,CLIMATE INDICATORS,CRYOSPHERIC INDICATORS,GLACIAL MEASUREMENTS,GLACIER FACIES')]\n"
       ]
      }
     ],
     "prompt_number": 7
    },
    {
     "cell_type": "markdown",
     "metadata": {},
     "source": [
      "That doesn't work very well? So let's try the three strings and cut off similar at 0.10, ie not very."
     ]
    },
    {
     "cell_type": "code",
     "collapsed": false,
     "input": [
      "for keywords in keyword_strings:\n",
      "    sample_set = [keywords] + GCMD_strings\n",
      "    \n",
      "    tfidf_vectorizer = TfidfVectorizer()\n",
      "    tfidf_matrix_trainer = tfidf_vectorizer.fit_transform(sample_set)\n",
      "    \n",
      "    cos_sim = cosine_similarity(tfidf_matrix_trainer[0:1], tfidf_matrix_trainer)\n",
      "    \n",
      "    lk = linear_kernel(tfidf_matrix_trainer[0:1], tfidf_matrix_trainer).flatten()\n",
      "    \n",
      "    # grab the number of items with any similarity value\n",
      "    lk_sims = filter(lambda x: x > 0, lk)\n",
      "\n",
      "    related_indices = cos_sim.argsort()[:-len(sample_set)-1:-1] \n",
      "\n",
      "    # add the filter for \"high\" similarity\n",
      "    related_indices_with_lk_value = [r for r in related_indices[0] if lk[r] >= 0.1]\n",
      "    related_indices_with_lk_value.reverse()\n",
      "    \n",
      "    related_set = [(lk[k], sample_set[k]) for k in related_indices_with_lk_value]\n",
      "    # and the results (note, skipping the first element - it is the \"training\" string)\n",
      "    print 'Trainer: %s (matched %s of %s strings)' % (sample_set[0], \n",
      "                                                      len(lk_sims) - 1, \n",
      "                                                      len(GCMD_strings))\n",
      "    for cs, s in related_set[1:]:\n",
      "        print '   Similarity: %s (%s)' % (cs, s)\n",
      "    print '-'*30"
     ],
     "language": "python",
     "metadata": {},
     "outputs": [
      {
       "output_type": "stream",
       "stream": "stdout",
       "text": [
        "Trainer: cryosphere,earth-science,snow-ice,surface-water,terrestrial-hydrosphere (matched 24 of 24 strings)\n",
        "<type 'str'>\n",
        "   Similarity: 0.202233501879 (EARTH SCIENCE,CLIMATE INDICATORS,CRYOSPHERIC INDICATORS,SNOW DEPTH,)\n",
        "<type 'str'>\n",
        "   Similarity: 0.189617206903 (EARTH SCIENCE,CLIMATE INDICATORS,CRYOSPHERIC INDICATORS,SNOW MELT,)\n",
        "<type 'str'>\n",
        "   Similarity: 0.179888996325 (EARTH SCIENCE,CLIMATE INDICATORS,CRYOSPHERIC INDICATORS,SNOW COVER,)\n",
        "<type 'str'>\n",
        "   Similarity: 0.153912436823 (EARTH SCIENCE,CLIMATE INDICATORS,CRYOSPHERIC INDICATORS,SNOW ENERGY BALANCE,)\n",
        "<type 'str'>\n",
        "   Similarity: 0.112021797345 (EARTH SCIENCE,CLIMATE INDICATORS,CRYOSPHERIC INDICATORS,ICE EXTENT,)\n",
        "<type 'str'>\n",
        "   Similarity: 0.105349765805 (EARTH SCIENCE,CLIMATE INDICATORS,CRYOSPHERIC INDICATORS,ICE FLOES,)\n",
        "<type 'str'>\n",
        "   Similarity: 0.105349765805 (EARTH SCIENCE,CLIMATE INDICATORS,CRYOSPHERIC INDICATORS,ICE EDGES,)\n",
        "------------------------------\n",
        "Trainer: apps,arctic-sea-ice,carbon-dioxide,climate,electricity,ephemerides,geodetics,land-ice,news,radar,waves (matched 24 of 24 strings)\n",
        "<type 'str'>\n",
        "   Similarity: 0.20648797031 (EARTH SCIENCE,CLIMATE INDICATORS,CRYOSPHERIC INDICATORS,SEA ICE ELEVATION,)\n",
        "<type 'str'>\n",
        "   Similarity: 0.19747191739 (EARTH SCIENCE,CLIMATE INDICATORS,CRYOSPHERIC INDICATORS,SEA ICE CONCENTRATION,)\n",
        "<type 'str'>\n",
        "   Similarity: 0.100706579063 (EARTH SCIENCE,CLIMATE INDICATORS,CRYOSPHERIC INDICATORS,ICE EXTENT,)\n",
        "------------------------------\n",
        "Trainer: cryosphere,earth-science,glaciers-ice-sheets (matched 24 of 24 strings)\n",
        "<type 'str'>\n",
        "   Similarity: 0.147795762886 (EARTH SCIENCE,CLIMATE INDICATORS,CRYOSPHERIC INDICATORS,ICE EXTENT,)\n",
        "<type 'str'>\n",
        "   Similarity: 0.138993029715 (EARTH SCIENCE,CLIMATE INDICATORS,CRYOSPHERIC INDICATORS,ICE FLOES,)\n",
        "<type 'str'>\n",
        "   Similarity: 0.138993029715 (EARTH SCIENCE,CLIMATE INDICATORS,CRYOSPHERIC INDICATORS,ICE EDGES,)\n",
        "<type 'str'>\n",
        "   Similarity: 0.127856077393 (EARTH SCIENCE,CLIMATE INDICATORS,CRYOSPHERIC INDICATORS,ICE DEPTH/THICKNESS,)\n",
        "<type 'str'>\n",
        "   Similarity: 0.121551927446 (EARTH SCIENCE,CLIMATE INDICATORS,CRYOSPHERIC INDICATORS,SEA ICE ELEVATION,)\n",
        "<type 'str'>\n",
        "   Similarity: 0.116511816573 (EARTH SCIENCE,CLIMATE INDICATORS,CRYOSPHERIC INDICATORS,SEA ICE CONCENTRATION,)\n",
        "<type 'str'>\n",
        "   Similarity: 0.116511816573 (EARTH SCIENCE,CLIMATE INDICATORS,CRYOSPHERIC INDICATORS,ICE GROWTH/MELT,)\n",
        "<type 'str'>\n",
        "   Similarity: 0.105965608174 (EARTH SCIENCE,CLIMATE INDICATORS,CRYOSPHERIC INDICATORS,RIVER ICE DEPTH/EXTENT,)\n",
        "<type 'str'>\n",
        "   Similarity: 0.105315283797 (EARTH SCIENCE,CLIMATE INDICATORS,CRYOSPHERIC INDICATORS,,,)\n",
        "<type 'str'>\n",
        "   Similarity: 0.104435787874 (EARTH SCIENCE,CLIMATE INDICATORS,CRYOSPHERIC INDICATORS,GLACIAL MEASUREMENTS,GLACIER/ICE SHEET THICKNESS)\n",
        "<type 'str'>\n",
        "   Similarity: 0.101186819908 (EARTH SCIENCE,CLIMATE INDICATORS,CRYOSPHERIC INDICATORS,GLACIAL MEASUREMENTS,GLACIER/ICE SHEET TOPOGRAPHY)\n",
        "------------------------------\n",
        "Trainer: density,inlandwaters,census,conterminous 48,population (matched 0 of 24 strings)\n",
        "------------------------------\n"
       ]
      }
     ],
     "prompt_number": 8
    },
    {
     "cell_type": "markdown",
     "metadata": {},
     "source": [
      "As an indication of matching some ontology term, no, it does not go very well. I suppose we could say that the first and third keyword strings are more likely to be cryospheric-related things in that they matched more of the GCMD strings than the second one except that they are all cryosphere data (middle == Monthly snow/ice averages (ISCCP)). At least that last one, from a census dataset, failed utterly.  "
     ]
    },
    {
     "cell_type": "code",
     "collapsed": false,
     "input": [],
     "language": "python",
     "metadata": {},
     "outputs": [],
     "prompt_number": 8
    }
   ],
   "metadata": {}
  }
 ]
}