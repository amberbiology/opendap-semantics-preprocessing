{
 "cells": [
  {
   "cell_type": "code",
   "execution_count": 22,
   "metadata": {
    "collapsed": true
   },
   "outputs": [],
   "source": [
    "%reload_ext autoreload\n",
    "%autoreload 2\n",
    "\n",
    "import json as js  # name conflict with sqla\n",
    "import sqlalchemy as sqla\n",
    "from sqlalchemy.orm import sessionmaker\n",
    "from mpp.models import Response\n",
    "from datetime import datetime\n",
    "\n",
    "import subprocess\n"
   ]
  },
  {
   "cell_type": "code",
   "execution_count": 23,
   "metadata": {
    "collapsed": false
   },
   "outputs": [],
   "source": [
    "# grab the clean text from the rds\n",
    "with open('../../Response-Identification-Info/local/big_rds.conf', 'r') as f:\n",
    "    conf = js.loads(f.read())\n",
    "\n",
    "# our connection\n",
    "engine = sqla.create_engine(conf.get('connection'))\n",
    "Session = sessionmaker()\n",
    "Session.configure(bind=engine)\n",
    "session = Session()"
   ]
  },
  {
   "cell_type": "code",
   "execution_count": 55,
   "metadata": {
    "collapsed": true
   },
   "outputs": [],
   "source": [
    "response_id = 426777\n",
    "\n",
    "response_url, response_cleaned, = session.query(\n",
    "    Response.source_url,\n",
    "    Response.cleaned_content\n",
    ").filter(Response.id==response_id).first()"
   ]
  },
  {
   "cell_type": "code",
   "execution_count": 56,
   "metadata": {
    "collapsed": true
   },
   "outputs": [],
   "source": [
    "tfile = 'tmp/%s.xml' % response_id\n",
    "with open(tfile, 'w') as f:\n",
    "    f.write(response_cleaned)\n",
    "    "
   ]
  },
  {
   "cell_type": "code",
   "execution_count": 66,
   "metadata": {
    "collapsed": false
   },
   "outputs": [
    {
     "data": {
      "text/plain": [
       "'python ../../Response-Identification-Info/scripts/unique_identifier_cli.py -f tmp/426777.xml -u \"https://sam.research.sc.edu/uscera/vita.do?d-4000339-o=2&d-4000339-p=1&d-3986641-p=1&d-443474-o=2&d-3986641-o=1&d-443474-p=1&d-4000339-s=1&d-443474-s=3&d-3986641-s=3&d-5243094-s=4&d-5243094-o=2&d-5243094-p=1&6578706f7274=1&d-148452-o=2&userId=5113&action=detail&d-148452-p=1&d-148452-s=2&d-4000339-e=3\" -d True'"
      ]
     },
     "execution_count": 66,
     "metadata": {},
     "output_type": "execute_result"
    }
   ],
   "source": [
    "script = '../../Response-Identification-Info/scripts/unique_identifier_cli.py'\n",
    "cmd = 'python {0} -f {1} -u \"{2}\" -d True'.format(script, tfile, response_url)\n",
    "cmd"
   ]
  },
  {
   "cell_type": "code",
   "execution_count": 67,
   "metadata": {
    "collapsed": true
   },
   "outputs": [],
   "source": [
    "s = subprocess.Popen(cmd, shell=True, stdout=subprocess.PIPE, stderr=subprocess.PIPE)\n",
    "stdout, stderr = s.communicate()"
   ]
  },
  {
   "cell_type": "code",
   "execution_count": 68,
   "metadata": {
    "collapsed": false
   },
   "outputs": [
    {
     "data": {
      "text/plain": [
       "['{\"original_text\": \"https://sam.research.sc.edu/uscera/vita.do?d-4000339-o=2&d-4000339-p=1&d-3986641-p=1&d-443474-o=2&d-3986641-o=1&d-443474-p=1&d-4000339-s=1&d-443474-s=3&d-3986641-s=3&d-5243094-s=4&d-5243094-o=2&d-5243094-p=1&6578706f7274=1&d-148452-o=2&userId=5113&action=detail&d-148452-p=1&d-148452-s=2&d-4000339-e=3\", \"extraction_type\": \"extract\", \"tag\": \"\", \"match_type\": \"url\", \"potential_identifier\": \"https://sam.research.sc.edu/uscera/vita.do?d-4000339-o=2&d-4000339-p=1&d-3986641-p=1&d-443474-o=2&d-3986641-o=1&d-443474-p=1&d-4000339-s=1&d-443474-s=3&d-3986641-s=3&d-5243094-s=4&d-5243094-o=2&d-5243094-p=1&6578706f7274=1&d-148452-o=2&userId=5113&action=detail&d-148452-p=1&d-148452-s=2&d-4000339-e=3\"}',\n",
       " '{\"original_text\": \"https://sam.research.sc.edu/uscera/vita.do\", \"extraction_type\": \"extract\", \"tag\": \"\", \"match_type\": \"url\", \"potential_identifier\": \"https://sam.research.sc.edu/uscera/vita.do\"}',\n",
       " '']"
      ]
     },
     "execution_count": 68,
     "metadata": {},
     "output_type": "execute_result"
    }
   ],
   "source": [
    "stdout.split('\\n')"
   ]
  },
  {
   "cell_type": "code",
   "execution_count": 65,
   "metadata": {
    "collapsed": false
   },
   "outputs": [
    {
     "data": {
      "text/plain": [
       "''"
      ]
     },
     "execution_count": 65,
     "metadata": {},
     "output_type": "execute_result"
    }
   ],
   "source": [
    "stderr"
   ]
  },
  {
   "cell_type": "code",
   "execution_count": null,
   "metadata": {
    "collapsed": true
   },
   "outputs": [],
   "source": []
  },
  {
   "cell_type": "code",
   "execution_count": 54,
   "metadata": {
    "collapsed": false
   },
   "outputs": [
    {
     "data": {
      "text/plain": [
       "'python ../../Response-Identification-Info/scripts/unique_identifier_cli.py -f tmp/426437.xml -u \"http://gcmd.nasa.gov/KeywordSearch/Titles.do?KeywordPath=ServiceParameters\\\\|METADATAHANDLING\\\\|DATADISCOVERY&Portal=GCMD&clientId=null&Output=atom\" -d True'"
      ]
     },
     "execution_count": 54,
     "metadata": {},
     "output_type": "execute_result"
    }
   ],
   "source": [
    "cmd"
   ]
  },
  {
   "cell_type": "code",
   "execution_count": null,
   "metadata": {
    "collapsed": true
   },
   "outputs": [],
   "source": [
    "python ../../Response-Identification-Info/scripts/unique_identifier_cli.py -f tmp/426437.xml -u \"http://gcmd.nasa.gov/KeywordSearch/Titles.do?KeywordPath=ServiceParameters|METADATAHANDLING|DATADISCOVERY&Portal=GCMD&clientId=null&Output=atom\" -d True"
   ]
  }
 ],
 "metadata": {
  "kernelspec": {
   "display_name": "Python 2",
   "language": "python",
   "name": "python2"
  },
  "language_info": {
   "codemirror_mode": {
    "name": "ipython",
    "version": 2
   },
   "file_extension": ".py",
   "mimetype": "text/x-python",
   "name": "python",
   "nbconvert_exporter": "python",
   "pygments_lexer": "ipython2",
   "version": "2.7.10"
  }
 },
 "nbformat": 4,
 "nbformat_minor": 0
}
