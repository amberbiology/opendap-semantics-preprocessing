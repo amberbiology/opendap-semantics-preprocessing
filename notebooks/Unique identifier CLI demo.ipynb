{
 "cells": [
  {
   "cell_type": "code",
   "execution_count": 17,
   "metadata": {
    "collapsed": true
   },
   "outputs": [],
   "source": [
    "%reload_ext autoreload\n",
    "%autoreload 2\n",
    "\n",
    "import json as js  # name conflict with sqla\n",
    "import sqlalchemy as sqla\n",
    "from sqlalchemy.orm import sessionmaker\n",
    "from mpp.models import Response\n",
    "from datetime import datetime\n",
    "\n",
    "import subprocess\n"
   ]
  },
  {
   "cell_type": "code",
   "execution_count": 18,
   "metadata": {
    "collapsed": false
   },
   "outputs": [],
   "source": [
    "# grab the clean text from the rds\n",
    "with open('../../Response-Identification-Info/local/big_rds.conf', 'r') as f:\n",
    "    conf = js.loads(f.read())\n",
    "\n",
    "# our connection\n",
    "engine = sqla.create_engine(conf.get('connection'))\n",
    "Session = sessionmaker()\n",
    "Session.configure(bind=engine)\n",
    "session = Session()"
   ]
  },
  {
   "cell_type": "code",
   "execution_count": 19,
   "metadata": {
    "collapsed": true
   },
   "outputs": [],
   "source": [
    "response_id = 155033\n",
    "\n",
    "response_url, response_cleaned, = session.query(\n",
    "    Response.source_url,\n",
    "    Response.cleaned_content\n",
    ").filter(Response.id==response_id).first()"
   ]
  },
  {
   "cell_type": "code",
   "execution_count": 10,
   "metadata": {
    "collapsed": true
   },
   "outputs": [],
   "source": [
    "tfile = 'tmp/%s.xml' % response_id\n",
    "with open(tfile, 'w') as f:\n",
    "    f.write(response_cleaned)\n",
    "    "
   ]
  },
  {
   "cell_type": "code",
   "execution_count": 20,
   "metadata": {
    "collapsed": true
   },
   "outputs": [],
   "source": [
    "script = '../../Response-Identification-Info/scripts/unique_identifier_cli.py'\n",
    "cmd = 'python {0} -f {1} -u {2}'.format(script, tfile, response_url)"
   ]
  },
  {
   "cell_type": "code",
   "execution_count": 21,
   "metadata": {
    "collapsed": true
   },
   "outputs": [],
   "source": [
    "s = subprocess.Popen(cmd, shell=True, stdout=subprocess.PIPE, stderr=subprocess.PIPE)\n",
    "stdout, stderr = s.communicate()"
   ]
  },
  {
   "cell_type": "code",
   "execution_count": 22,
   "metadata": {
    "collapsed": false
   },
   "outputs": [
    {
     "data": {
      "text/plain": [
       "['{\"original_text\": \"http://oos.soest.hawaii.edu/las/UI.vm?dsid=dhw&varid=CRW_DHW-dhw\", \"extraction_type\": \"extract\", \"tag\": \"MI_Metadata/distributionInfo/MD_Distribution/distributor/MD_Distributor/distributorTransferOptions/MD_DigitalTransferOptions/onLine/CI_OnlineResource/linkage/URL\", \"match_type\": \"url\", \"potential_identifier\": \"http://oos.soest.hawaii.edu/las/UI.vm?dsid=dhw&varid=CRW_DHW-dhw\"}',\n",
       " '{\"original_text\": \"http://oos.soest.hawaii.edu/las/UI.vm\", \"extraction_type\": \"extract\", \"tag\": \"MI_Metadata/distributionInfo/MD_Distribution/distributor/MD_Distributor/distributorTransferOptions/MD_DigitalTransferOptions/onLine/CI_OnlineResource/linkage/URL\", \"match_type\": \"url\", \"potential_identifier\": \"http://oos.soest.hawaii.edu/las/UI.vm\"}',\n",
       " '{\"original_text\": \"http://oos.soest.hawaii.edu/dchart/index.html?dsetid=af866abc27c1df2b887ef6aac9a4e124\", \"extraction_type\": \"extract\", \"tag\": \"MI_Metadata/distributionInfo/MD_Distribution/distributor/MD_Distributor/distributorTransferOptions/MD_DigitalTransferOptions/onLine/CI_OnlineResource/linkage/URL\", \"match_type\": \"url\", \"potential_identifier\": \"http://oos.soest.hawaii.edu/dchart/index.html?dsetid=af866abc27c1df2b887ef6aac9a4e124\"}',\n",
       " '{\"original_text\": \"http://oos.soest.hawaii.edu/dchart/index.html?dsetid=af866abc27c1df2b887ef6aac9a4e124\", \"extraction_type\": \"regex\", \"tag\": \"MI_Metadata/distributionInfo/MD_Distribution/distributor/MD_Distributor/distributorTransferOptions/MD_DigitalTransferOptions/onLine/CI_OnlineResource/linkage/URL\", \"match_type\": \"md5\", \"potential_identifier\": \"af866abc27c1df2b887ef6aac9a4e124\"}',\n",
       " '{\"original_text\": \"http://oos.soest.hawaii.edu/dchart/index.html\", \"extraction_type\": \"extract\", \"tag\": \"MI_Metadata/distributionInfo/MD_Distribution/distributor/MD_Distributor/distributorTransferOptions/MD_DigitalTransferOptions/onLine/CI_OnlineResource/linkage/URL\", \"match_type\": \"url\", \"potential_identifier\": \"http://oos.soest.hawaii.edu/dchart/index.html\"}',\n",
       " '{\"original_text\": \"http://oos.soest.hawaii.edu/erddap/griddap/NOAA_DHW.graph\", \"extraction_type\": \"extract\", \"tag\": \"MI_Metadata/distributionInfo/MD_Distribution/distributor/MD_Distributor/distributorTransferOptions/MD_DigitalTransferOptions/onLine/CI_OnlineResource/linkage/URL\", \"match_type\": \"url\", \"potential_identifier\": \"http://oos.soest.hawaii.edu/erddap/griddap/NOAA_DHW.graph\"}',\n",
       " '{\"original_text\": \"http://pacioos.org/voyager/index.html?b=-75.845169%2C-180%2C75.845169%2C180&o=sat:5:fweeks:d6\", \"extraction_type\": \"extract\", \"tag\": \"MI_Metadata/distributionInfo/MD_Distribution/distributor/MD_Distributor/distributorTransferOptions/MD_DigitalTransferOptions/onLine/CI_OnlineResource/linkage/URL\", \"match_type\": \"url\", \"potential_identifier\": \"http://pacioos.org/voyager/index.html?b=-75.845169,-180,75.845169,180&o=sat:5:fweeks:d6\"}',\n",
       " '{\"original_text\": \"http://pacioos.org/voyager/index.html\", \"extraction_type\": \"extract\", \"tag\": \"MI_Metadata/distributionInfo/MD_Distribution/distributor/MD_Distributor/distributorTransferOptions/MD_DigitalTransferOptions/onLine/CI_OnlineResource/linkage/URL\", \"match_type\": \"url\", \"potential_identifier\": \"http://pacioos.org/voyager/index.html\"}',\n",
       " '{\"original_text\": \"sat:5:fweeks:d6\", \"extraction_type\": \"regex\", \"tag\": \"MI_Metadata/distributionInfo/MD_Distribution/distributor/MD_Distributor/distributorTransferOptions/MD_DigitalTransferOptions/onLine/CI_OnlineResource/linkage/URL\", \"match_type\": \"urn\", \"potential_identifier\": \"sat:5:fweeks:d6\"}',\n",
       " '{\"original_text\": \"http://oos.soest.hawaii.edu/thredds/dodsC/hioos/satellite/dhw.html\", \"extraction_type\": \"extract\", \"tag\": \"MI_Metadata/distributionInfo/MD_Distribution/distributor/MD_Distributor/distributorTransferOptions/MD_DigitalTransferOptions/onLine/CI_OnlineResource/linkage/URL\", \"match_type\": \"url\", \"potential_identifier\": \"http://oos.soest.hawaii.edu/thredds/dodsC/hioos/satellite/dhw.html\"}',\n",
       " '{\"original_text\": \"http://oos.soest.hawaii.edu/thredds/idd/satellite.html?dataset=dhw\", \"extraction_type\": \"extract\", \"tag\": \"MI_Metadata/distributionInfo/MD_Distribution/distributor/MD_Distributor/distributorTransferOptions/MD_DigitalTransferOptions/onLine/CI_OnlineResource/linkage/URL\", \"match_type\": \"url\", \"potential_identifier\": \"http://oos.soest.hawaii.edu/thredds/idd/satellite.html?dataset=dhw\"}',\n",
       " '{\"original_text\": \"http://oos.soest.hawaii.edu/thredds/idd/satellite.html\", \"extraction_type\": \"extract\", \"tag\": \"MI_Metadata/distributionInfo/MD_Distribution/distributor/MD_Distributor/distributorTransferOptions/MD_DigitalTransferOptions/onLine/CI_OnlineResource/linkage/URL\", \"match_type\": \"url\", \"potential_identifier\": \"http://oos.soest.hawaii.edu/thredds/idd/satellite.html\"}',\n",
       " '{\"original_text\": \"http://pacioos.org\", \"extraction_type\": \"extract\", \"tag\": \"MI_Metadata/distributionInfo/MD_Distribution/distributor/MD_Distributor/distributorContact/CI_ResponsibleParty/contactInfo/CI_Contact/onlineResource/CI_OnlineResource/linkage/URL\", \"match_type\": \"url\", \"potential_identifier\": \"http://pacioos.org\"}',\n",
       " '{\"original_text\": \"http://example.org/someUnitsDictionary.xml#days%20since%201970-1-1%2000%3A00%3A00\", \"extraction_type\": \"extract\", \"tag\": \"MI_Metadata/contentInfo/MI_CoverageDescription/dimension/MD_Band/units/@href\", \"match_type\": \"url\", \"potential_identifier\": \"http://example.org/someUnitsDictionary.xml#days\"}',\n",
       " '{\"original_text\": \"http://example.org/someUnitsDictionary.xml\", \"extraction_type\": \"extract\", \"tag\": \"MI_Metadata/contentInfo/MI_CoverageDescription/dimension/MD_Band/units/@href\", \"match_type\": \"url\", \"potential_identifier\": \"http://example.org/someUnitsDictionary.xml\"}',\n",
       " '{\"original_text\": \"http://example.org/someUnitsDictionary.xml#degrees_north\", \"extraction_type\": \"extract\", \"tag\": \"MI_Metadata/contentInfo/MI_CoverageDescription/dimension/MD_Band/units/@href\", \"match_type\": \"url\", \"potential_identifier\": \"http://example.org/someUnitsDictionary.xml#degrees_north\"}',\n",
       " '{\"original_text\": \"http://example.org/someUnitsDictionary.xml#degrees_east\", \"extraction_type\": \"extract\", \"tag\": \"MI_Metadata/contentInfo/MI_CoverageDescription/dimension/MD_Band/units/@href\", \"match_type\": \"url\", \"potential_identifier\": \"http://example.org/someUnitsDictionary.xml#degrees_east\"}',\n",
       " '{\"original_text\": \"http://example.org/someUnitsDictionary.xml#none\", \"extraction_type\": \"extract\", \"tag\": \"MI_Metadata/contentInfo/MI_CoverageDescription/dimension/MD_Band/units/@href\", \"match_type\": \"url\", \"potential_identifier\": \"http://example.org/someUnitsDictionary.xml#none\"}',\n",
       " '{\"original_text\": \"http://example.org/someUnitsDictionary.xml#Celsius%20weeks\", \"extraction_type\": \"extract\", \"tag\": \"MI_Metadata/contentInfo/MI_CoverageDescription/dimension/MD_Band/units/@href\", \"match_type\": \"url\", \"potential_identifier\": \"http://example.org/someUnitsDictionary.xml#Celsius\"}',\n",
       " '{\"original_text\": \"http://oos.soest.hawaii.edu/thredds/ncss/grid/hioos/satellite/dhw/dataset.html\", \"extraction_type\": \"extract\", \"tag\": \"MI_Metadata/identificationInfo/SV_ServiceIdentification/containsOperations/SV_OperationMetadata/connectPoint/CI_OnlineResource/linkage/URL\", \"match_type\": \"url\", \"potential_identifier\": \"http://oos.soest.hawaii.edu/thredds/ncss/grid/hioos/satellite/dhw/dataset.html\"}',\n",
       " '{\"original_text\": \"http://coralreefwatch.noaa.gov/satellite\", \"extraction_type\": \"extract\", \"tag\": \"MI_Metadata/identificationInfo/SV_ServiceIdentification/citation/CI_Citation/citedResponsibleParty/CI_ResponsibleParty/contactInfo/CI_Contact/onlineResource/CI_OnlineResource/linkage/URL\", \"match_type\": \"url\", \"potential_identifier\": \"http://coralreefwatch.noaa.gov/satellite\"}',\n",
       " '{\"original_text\": \"http://oos.soest.hawaii.edu/thredds/wms/hioos/satellite/dhw?service=WMS&version=1.3.0&request=GetCapabilities\", \"extraction_type\": \"extract\", \"tag\": \"MI_Metadata/identificationInfo/SV_ServiceIdentification/containsOperations/SV_OperationMetadata/connectPoint/CI_OnlineResource/linkage/URL\", \"match_type\": \"url\", \"potential_identifier\": \"http://oos.soest.hawaii.edu/thredds/wms/hioos/satellite/dhw?service=WMS&version=1.3.0&request=GetCapabilities\"}',\n",
       " '{\"original_text\": \"http://oos.soest.hawaii.edu/thredds/wms/hioos/satellite/dhw\", \"extraction_type\": \"extract\", \"tag\": \"MI_Metadata/identificationInfo/SV_ServiceIdentification/containsOperations/SV_OperationMetadata/connectPoint/CI_OnlineResource/linkage/URL\", \"match_type\": \"url\", \"potential_identifier\": \"http://oos.soest.hawaii.edu/thredds/wms/hioos/satellite/dhw\"}',\n",
       " '{\"original_text\": \"http://oos.soest.hawaii.edu/thredds/wcs/hioos/satellite/dhw?service=WCS&version=1.0.0&request=GetCapabilities\", \"extraction_type\": \"extract\", \"tag\": \"MI_Metadata/identificationInfo/SV_ServiceIdentification/containsOperations/SV_OperationMetadata/connectPoint/CI_OnlineResource/linkage/URL\", \"match_type\": \"url\", \"potential_identifier\": \"http://oos.soest.hawaii.edu/thredds/wcs/hioos/satellite/dhw?service=WCS&version=1.0.0&request=GetCapabilities\"}',\n",
       " '{\"original_text\": \"http://oos.soest.hawaii.edu/thredds/wcs/hioos/satellite/dhw\", \"extraction_type\": \"extract\", \"tag\": \"MI_Metadata/identificationInfo/SV_ServiceIdentification/containsOperations/SV_OperationMetadata/connectPoint/CI_OnlineResource/linkage/URL\", \"match_type\": \"url\", \"potential_identifier\": \"http://oos.soest.hawaii.edu/thredds/wcs/hioos/satellite/dhw\"}',\n",
       " '{\"original_text\": \"http://oos.soest.hawaii.edu/thredds/dodsC/hioos/satellite/dhw\", \"extraction_type\": \"extract\", \"tag\": \"MI_Metadata/identificationInfo/SV_ServiceIdentification/containsOperations/SV_OperationMetadata/connectPoint/CI_OnlineResource/linkage/URL\", \"match_type\": \"url\", \"potential_identifier\": \"http://oos.soest.hawaii.edu/thredds/dodsC/hioos/satellite/dhw\"}',\n",
       " '{\"original_text\": \"http://pacioos.org/metadata/browse/dhw.png\", \"extraction_type\": \"extract\", \"tag\": \"MI_Metadata/identificationInfo/MD_DataIdentification/graphicOverview/MD_BrowseGraphic/fileName/CharacterString\", \"match_type\": \"url\", \"potential_identifier\": \"http://pacioos.org/metadata/browse/dhw.png\"}',\n",
       " '{\"original_text\": \"dhw\", \"extraction_type\": \"rule_set\", \"tag\": \"MI_Metadata/identificationInfo/MD_DataIdentification/citation/CI_Citation/identifier/MD_Identifier/code/CharacterString\", \"match_type\": \"text\", \"potential_identifier\": \"dhw\"}',\n",
       " '{\"original_text\": \"org.pacioos\", \"extraction_type\": \"rule_set\", \"tag\": \"MI_Metadata/identificationInfo/MD_DataIdentification/citation/CI_Citation/identifier/MD_Identifier/authority/CI_Citation/title/CharacterString\", \"match_type\": \"text\", \"potential_identifier\": \"org.pacioos\"}',\n",
       " '{\"original_text\": \"http://oos.soest.hawaii.edu/pacioos/metadata/iso/dhw.xml\", \"extraction_type\": \"extract\", \"tag\": \"\", \"match_type\": \"url\", \"potential_identifier\": \"http://oos.soest.hawaii.edu/pacioos/metadata/iso/dhw.xml\"}',\n",
       " '']"
      ]
     },
     "execution_count": 22,
     "metadata": {},
     "output_type": "execute_result"
    }
   ],
   "source": [
    "stdout.split('\\n')"
   ]
  },
  {
   "cell_type": "code",
   "execution_count": 23,
   "metadata": {
    "collapsed": false
   },
   "outputs": [
    {
     "data": {
      "text/plain": [
       "''"
      ]
     },
     "execution_count": 23,
     "metadata": {},
     "output_type": "execute_result"
    }
   ],
   "source": [
    "stderr"
   ]
  },
  {
   "cell_type": "code",
   "execution_count": null,
   "metadata": {
    "collapsed": true
   },
   "outputs": [],
   "source": []
  }
 ],
 "metadata": {
  "kernelspec": {
   "display_name": "Python 2",
   "language": "python",
   "name": "python2"
  },
  "language_info": {
   "codemirror_mode": {
    "name": "ipython",
    "version": 2
   },
   "file_extension": ".py",
   "mimetype": "text/x-python",
   "name": "python",
   "nbconvert_exporter": "python",
   "pygments_lexer": "ipython2",
   "version": "2.7.10"
  }
 },
 "nbformat": 4,
 "nbformat_minor": 0
}
