{
 "cells": [
  {
   "cell_type": "markdown",
   "metadata": {},
   "source": [
    "because avenue didn't support recursion or any of these fancypants things. \n",
    "\n",
    "sigh.\n",
    "\n",
    "get off my lawn.\n",
    "\n",
    "anyway. a little widget to test mapreduce with pooling (not threaded) for integration into a local simhash indexer (to test things without needing a database)."
   ]
  },
  {
   "cell_type": "code",
   "execution_count": 1,
   "metadata": {
    "collapsed": true
   },
   "outputs": [],
   "source": [
    "import sys\n",
    "from multiprocessing import Pool\n",
    "from uuid import uuid4  \n",
    "import re\n",
    "from collections import defaultdict\n",
    "\n",
    "WORKERS = 5\n",
    "\n",
    "def generate_uuid():\n",
    "    return str(uuid4()).split('-')[0]\n",
    "\n",
    "def _map(arr):\n",
    "    # count by first char\n",
    "    \n",
    "    mapping = defaultdict(lambda: 0)\n",
    "    for a in arr:\n",
    "        mapping[a[0]] += 1\n",
    "        \n",
    "    return dict(mapping)\n",
    "\n",
    "def _partition(items):\n",
    "    # chunk into bits\n",
    "    cut = int(round(len(items) / WORKERS + 0.5))\n",
    "    i = 0\n",
    "    while i < len(items):\n",
    "        yield items[i:1+cut]\n",
    "        i += cut\n",
    "\n",
    "def _reduce(sub_mappings):\n",
    "    r = defaultdict(lambda: 0)\n",
    "    for sub in sub_mappings:\n",
    "        for ch, count in sub.iteritems():\n",
    "            r[ch] += count\n",
    "        \n",
    "    return sorted(r.items(), key=lambda t: (-t[1], t[0]))\n",
    "  \n",
    "def chunk(arr, r):\n",
    "    for i in xrange(0, len(arr), r):\n",
    "        yield arr[i:i+r]"
   ]
  },
  {
   "cell_type": "code",
   "execution_count": 4,
   "metadata": {
    "collapsed": false
   },
   "outputs": [
    {
     "data": {
      "text/plain": [
       "[('a', 18),\n",
       " ('7', 17),\n",
       " ('3', 16),\n",
       " ('c', 16),\n",
       " ('1', 15),\n",
       " ('9', 15),\n",
       " ('2', 14),\n",
       " ('d', 13),\n",
       " ('4', 12),\n",
       " ('0', 11),\n",
       " ('5', 11),\n",
       " ('8', 11),\n",
       " ('6', 10),\n",
       " ('e', 9),\n",
       " ('f', 8),\n",
       " ('b', 7)]"
      ]
     },
     "execution_count": 4,
     "metadata": {},
     "output_type": "execute_result"
    }
   ],
   "source": [
    "big_list = [generate_uuid() for i in xrange(0, 1000)]\n",
    "\n",
    "pool = Pool(processes=WORKERS,)\n",
    "\n",
    "partitioned_list = list(_partition(big_list))\n",
    "\n",
    "# get uuids starting with a digit\n",
    "sub_maps = pool.map(_map, partitioned_list)\n",
    "\n",
    "_reduce(sub_maps)\n",
    "# # reduce to a histogram effectively\n",
    "#counts = pool.map(_reduce, sub_maps.items())\n",
    "\n",
    "#print counts"
   ]
  },
  {
   "cell_type": "code",
   "execution_count": null,
   "metadata": {
    "collapsed": true
   },
   "outputs": [],
   "source": []
  },
  {
   "cell_type": "code",
   "execution_count": null,
   "metadata": {
    "collapsed": true
   },
   "outputs": [],
   "source": []
  }
 ],
 "metadata": {
  "kernelspec": {
   "display_name": "Python 2",
   "language": "python",
   "name": "python2"
  },
  "language_info": {
   "codemirror_mode": {
    "name": "ipython",
    "version": 2
   },
   "file_extension": ".py",
   "mimetype": "text/x-python",
   "name": "python",
   "nbconvert_exporter": "python",
   "pygments_lexer": "ipython2",
   "version": "2.7.9"
  }
 },
 "nbformat": 4,
 "nbformat_minor": 0
}
