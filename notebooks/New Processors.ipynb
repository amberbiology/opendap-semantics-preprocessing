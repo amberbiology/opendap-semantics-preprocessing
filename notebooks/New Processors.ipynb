{
 "cells": [
  {
   "cell_type": "code",
   "execution_count": null,
   "metadata": {
    "collapsed": true
   },
   "outputs": [],
   "source": [
    "import os\n",
    "from lxml import etree\n",
    "from HTMLParser import HTMLParser\n",
    "import urlparse\n",
    "import urllib\n"
   ]
  },
  {
   "cell_type": "code",
   "execution_count": null,
   "metadata": {
    "collapsed": true
   },
   "outputs": [],
   "source": [
    "### UTILS\n",
    "\n",
    "def generate_localname_xpath(tags):\n",
    "    unchangeds = ['*', '..', '.', '//*']\n",
    "    return '/'.join(\n",
    "        ['%s*[local-name()=\"%s\"]' % ('@' if '@' in t else '', t.replace('@', ''))\n",
    "         if t not in unchangeds else t for t in tags])\n",
    "\n",
    "\n",
    "def extract_attrib(elem, tags):\n",
    "    e = extract_elem(elem, tags)\n",
    "    return e.strip() if e else ''\n",
    "\n",
    "\n",
    "def extract_attribs(elem, tags):\n",
    "    e = extract_elem(elem, tags)\n",
    "    return [m.strip() for m in e]\n",
    "\n",
    "\n",
    "def extract_item(elem, tags):\n",
    "    e = extract_elem(elem, tags)\n",
    "    return e.text.strip() if e is not None and e.text else ''\n",
    "\n",
    "\n",
    "def extract_items(elem, tags):\n",
    "    es = extract_elems(elem, tags)\n",
    "    return [e.text.strip() for e in es if e is not None and e.text]\n",
    "\n",
    "\n",
    "def extract_elems(elem, tags):\n",
    "    xp = generate_localname_xpath(tags)\n",
    "    return elem.xpath(xp)\n",
    "\n",
    "\n",
    "def extract_elem(elem, tags):\n",
    "    xp = generate_localname_xpath(tags)\n",
    "    return next(iter(elem.xpath(xp)), None)\n",
    "\n",
    "\n",
    "def unquote(url):\n",
    "    return urllib.unquote(url)\n",
    "\n",
    "\n",
    "def tidy_dict(items):\n",
    "    # cleanup a dict (remove empty elements)\n",
    "    # but only at the single depth\n",
    "    to_remove = []\n",
    "    for k, v in items.iteritems():\n",
    "        if not v:\n",
    "            to_remove.append(k)\n",
    "    for k in to_remove:\n",
    "        del items[k]\n",
    "\n",
    "    return items"
   ]
  },
  {
   "cell_type": "code",
   "execution_count": null,
   "metadata": {
    "collapsed": true
   },
   "outputs": [],
   "source": [
    "### CLASSES\n",
    "\n",
    "class BasicParser():\n",
    "    '''\n",
    "    not concerned about namespaces or querying\n",
    "\n",
    "    note: these could merge at some point\n",
    "    '''\n",
    "    def __init__(self, text):\n",
    "        try:\n",
    "            self.text = text.encode('unicode_escape')\n",
    "        except UnicodeDecodeError:\n",
    "            # TODO: this should be somewhere else and also maybe not this\n",
    "            self.text = text.decode('utf-8', 'replace').encode('unicode_escape')\n",
    "        self.parser = etree.XMLParser(\n",
    "            remove_blank_text=True,\n",
    "            remove_comments=True,\n",
    "            recover=True,\n",
    "            remove_pis=True,\n",
    "            ns_clean=True\n",
    "        )\n",
    "        self._parse()\n",
    "        self._extract_namespaces()\n",
    "\n",
    "    def _parse(self):\n",
    "        try:\n",
    "            self.xml = etree.fromstring(self.text, parser=self.parser)\n",
    "        except Exception as ex:\n",
    "            print ex\n",
    "            raise ex\n",
    "\n",
    "    def _extract_namespaces(self):\n",
    "        '''\n",
    "        Pull all of the namespaces in the source document\n",
    "        and generate a list of tuples (prefix, URI) to dict\n",
    "        '''\n",
    "        if self.xml is None:\n",
    "            self.namespaces = {}\n",
    "            return\n",
    "\n",
    "        document_namespaces = dict(self.xml.xpath('/*/namespace::*'))\n",
    "        if None in document_namespaces:\n",
    "            document_namespaces['default'] = document_namespaces[None]\n",
    "            del document_namespaces[None]\n",
    "\n",
    "        # now run through any child namespace issues\n",
    "        all_namespaces = self.xml.xpath('//namespace::*')\n",
    "        for i, ns in enumerate(all_namespaces):\n",
    "            if ns[1] in document_namespaces.values():\n",
    "                continue\n",
    "            new_key = ns[0] if ns[0] else 'default%s' % i\n",
    "            document_namespaces[new_key] = ns[1]\n",
    "\n",
    "        self.namespaces = document_namespaces"
   ]
  },
  {
   "cell_type": "code",
   "execution_count": null,
   "metadata": {
    "collapsed": true
   },
   "outputs": [],
   "source": []
  }
 ],
 "metadata": {
  "kernelspec": {
   "display_name": "Python 2",
   "language": "python",
   "name": "python2"
  },
  "language_info": {
   "codemirror_mode": {
    "name": "ipython",
    "version": 2
   },
   "file_extension": ".py",
   "mimetype": "text/x-python",
   "name": "python",
   "nbconvert_exporter": "python",
   "pygments_lexer": "ipython2",
   "version": "2.7.10"
  }
 },
 "nbformat": 4,
 "nbformat_minor": 0
}
