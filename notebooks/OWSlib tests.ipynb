{
 "metadata": {
  "name": "",
  "signature": "sha256:d1bf687d8beca52f200d40852e324695f56b877db4e4dd3309a0f3a8c6ef8698"
 },
 "nbformat": 3,
 "nbformat_minor": 0,
 "worksheets": [
  {
   "cells": [
    {
     "cell_type": "code",
     "collapsed": false,
     "input": [
      "from owslib.wms import WebMapService\n",
      "\n",
      "# sorry, sorry, sorry\n",
      "wms_as_xml = '''<?xml version='1.0' encoding=\"ISO-8859-1\" standalone=\"no\" ?>\n",
      "<!DOCTYPE WMT_MS_Capabilities SYSTEM \"http://schemas.opengis.net/wms/1.1.1/WMS_MS_Capabilities.dtd\"\n",
      " [\n",
      " <!ELEMENT VendorSpecificCapabilities EMPTY>\n",
      " ]>  <!-- end of DOCTYPE declaration -->\n",
      "\n",
      "<WMT_MS_Capabilities version=\"1.1.1\">\n",
      "\n",
      "<!-- MapServer version 6.4.1 OUTPUT=PNG OUTPUT=JPEG OUTPUT=KML SUPPORTS=PROJ SUPPORTS=AGG SUPPORTS=FREETYPE SUPPORTS=CAIRO SUPPORTS=ICONV SUPPORTS=XMP SUPPORTS=FRIBIDI SUPPORTS=WMS_SERVER SUPPORTS=WMS_CLIENT SUPPORTS=WFS_SERVER SUPPORTS=WFS_CLIENT SUPPORTS=WCS_SERVER SUPPORTS=SOS_SERVER SUPPORTS=FASTCGI SUPPORTS=GEOS INPUT=JPEG INPUT=POSTGIS INPUT=OGR INPUT=GDAL INPUT=SHAPEFILE -->\n",
      "\n",
      "<Service>\n",
      "  <Name>OGC:WMS</Name>\n",
      "  <Title>Tropical Rainfall Measuring Mission (TRMM) Data from NASA Goddard Earth Sciences Data and Information Services Center (GES DISC)</Title>\n",
      "  <OnlineResource xmlns:xlink=\"http://www.w3.org/1999/xlink\" xlink:href=\"http://disc1.sci.gsfc.nasa.gov/daac-bin/wms_trmm?\"/>\n",
      "  <ContactInformation>\n",
      "    <ContactPersonPrimary>\n",
      "<!-- WARNING: Mandatory metadata '..._contactperson' was missing in this context. -->\n",
      "      <ContactOrganization>Goddard Earth Sciences Data and Information Services Center</ContactOrganization>\n",
      "    </ContactPersonPrimary>\n",
      "      <ContactVoiceTelephone>301-614-5224</ContactVoiceTelephone>\n",
      "  <ContactElectronicMailAddress>help-disc@listserv.gsfc.nasa.gov</ContactElectronicMailAddress>\n",
      "  </ContactInformation>\n",
      "</Service>\n",
      "\n",
      "<Capability>\n",
      "  <Request>\n",
      "    <GetCapabilities>\n",
      "      <Format>application/vnd.ogc.wms_xml</Format>\n",
      "      <DCPType>\n",
      "        <HTTP>\n",
      "          <Get><OnlineResource xmlns:xlink=\"http://www.w3.org/1999/xlink\" xlink:href=\"http://disc1.sci.gsfc.nasa.gov/daac-bin/wms_trmm?\"/></Get>\n",
      "          <Post><OnlineResource xmlns:xlink=\"http://www.w3.org/1999/xlink\" xlink:href=\"http://disc1.sci.gsfc.nasa.gov/daac-bin/wms_trmm?\"/></Post>\n",
      "        </HTTP>\n",
      "      </DCPType>\n",
      "    </GetCapabilities>\n",
      "  </Request>\n",
      "  <Exception>\n",
      "    <Format>application/vnd.ogc.se_xml</Format>\n",
      "    <Format>application/vnd.ogc.se_inimage</Format>\n",
      "    <Format>application/vnd.ogc.se_blank</Format>\n",
      "  </Exception>\n",
      "  <VendorSpecificCapabilities />\n",
      "  <UserDefinedSymbolization SupportSLD=\"1\" UserLayer=\"0\" UserStyle=\"1\" RemoteWFS=\"0\"/>\n",
      "  <Layer>\n",
      "    <Name>GES_DISC_WMS_AG</Name>\n",
      "    <Title>Tropical Rainfall Measuring Mission (TRMM) Data from NASA Goddard Earth Sciences Data and Information Services Center (GES DISC)</Title>\n",
      "    <Abstract>GES_DISC_WMS_AG</Abstract>\n",
      "    <SRS>EPSG:4326</SRS>\n",
      "    <LatLonBoundingBox minx=\"-180\" miny=\"-90\" maxx=\"180\" maxy=\"90\" />\n",
      "    <BoundingBox SRS=\"EPSG:4326\"\n",
      "                minx=\"-180\" miny=\"-90\" maxx=\"180\" maxy=\"90\" />\n",
      "    <Layer queryable=\"0\" opaque=\"0\" cascaded=\"0\">\n",
      "        <Name>TRMM_3A11_V7_MONTHLY_rain</Name>\n",
      "        <Title>TRMM_3A11_V7_MONTHLY_rain</Title>\n",
      "        <Abstract></Abstract>\n",
      "        <SRS>EPSG:4326</SRS>\n",
      "        <LatLonBoundingBox minx=\"-180\" miny=\"-40\" maxx=\"180\" maxy=\"40\" />\n",
      "        <BoundingBox SRS=\"EPSG:4326\"\n",
      "                    minx=\"-180\" miny=\"-40\" maxx=\"180\" maxy=\"40\" />\n",
      "        <Dimension name=\"time\" units=\"ISO8601\"/>\n",
      "        <Extent name=\"time\" default=\"2014-01-01\" nearestValue=\"0\">1997-12-01/2015-01-01</Extent>\n",
      "        <MetadataURL type=\"GCMD DIF\">\n",
      "          <Format>text/html</Format>\n",
      "          <OnlineResource xmlns:xlink=\"http://www.w3.org/1999/xlink\" xlink:type=\"simple\" xlink:href=\"http://gcmd.gsfc.nasa.gov/getdif.htm?GES_DISC_TRMM_3A11_V7\"/>\n",
      "        </MetadataURL>\n",
      "        <Style>\n",
      "          <Name>default</Name>\n",
      "          <Title>default</Title>\n",
      "          <LegendURL width=\"777\" height=\"80\">\n",
      "             <Format>image/png</Format>\n",
      "             <OnlineResource xmlns:xlink=\"http://www.w3.org/1999/xlink\" xlink:type=\"simple\" xlink:href=\"http://disc1.sci.gsfc.nasa.gov/daac-bin/wms_trmm?version=1.1.1&amp;service=WMS&amp;request=GetLegendGraphic&amp;layer=TRMM_3A11_V7_MONTHLY_rain&amp;format=image/png&amp;STYLE=default\"/>\n",
      "          </LegendURL>\n",
      "        </Style>\n",
      "    </Layer>\n",
      "  </Layer>\n",
      "</Capability>\n",
      "</WMT_MS_Capabilities>\n",
      "'''\n",
      "wms = WebMapService('', xml=wms_as_xml, version='1.1.1')\n",
      "\n",
      "wms.identification.title\n"
     ],
     "language": "python",
     "metadata": {},
     "outputs": [
      {
       "metadata": {},
       "output_type": "pyout",
       "prompt_number": 13,
       "text": [
        "'Tropical Rainfall Measuring Mission (TRMM) Data from NASA Goddard Earth Sciences Data and Information Services Center (GES DISC)'"
       ]
      }
     ],
     "prompt_number": 13
    },
    {
     "cell_type": "code",
     "collapsed": false,
     "input": [
      "wms"
     ],
     "language": "python",
     "metadata": {},
     "outputs": [
      {
       "metadata": {},
       "output_type": "pyout",
       "prompt_number": 14,
       "text": [
        "<owslib.wms.WebMapService at 0x104f049d0>"
       ]
      }
     ],
     "prompt_number": 14
    },
    {
     "cell_type": "code",
     "collapsed": false,
     "input": [
      "wms.provider.contact.name"
     ],
     "language": "python",
     "metadata": {},
     "outputs": [],
     "prompt_number": 15
    },
    {
     "cell_type": "code",
     "collapsed": false,
     "input": [
      "[op.name for op in wms.operations]"
     ],
     "language": "python",
     "metadata": {},
     "outputs": [
      {
       "metadata": {},
       "output_type": "pyout",
       "prompt_number": 16,
       "text": [
        "['GetCapabilities']"
       ]
      }
     ],
     "prompt_number": 16
    },
    {
     "cell_type": "code",
     "collapsed": false,
     "input": [
      "for op in wms.operations:\n",
      "    print op.name\n",
      "    operation = wms.getOperationByName(op.name)\n",
      "    print operation.methods\n",
      "    print operation.formatOptions"
     ],
     "language": "python",
     "metadata": {},
     "outputs": [
      {
       "output_type": "stream",
       "stream": "stdout",
       "text": [
        "GetCapabilities\n",
        "[{'url': 'http://disc1.sci.gsfc.nasa.gov/daac-bin/wms_trmm?', 'type': 'Get'}, {'url': 'http://disc1.sci.gsfc.nasa.gov/daac-bin/wms_trmm?', 'type': 'Post'}]\n",
        "['application/vnd.ogc.wms_xml']\n"
       ]
      }
     ],
     "prompt_number": 17
    },
    {
     "cell_type": "code",
     "collapsed": false,
     "input": [
      "from lib.ows_preprocessors import OwsWmsPreprocessor\n",
      "\n",
      "ows = OwsWmsPreprocessor(wms_as_xml, '1.1.1')\n",
      "ows.version"
     ],
     "language": "python",
     "metadata": {},
     "outputs": [
      {
       "ename": "ValueError",
       "evalue": "Attempted relative import in non-package",
       "output_type": "pyerr",
       "traceback": [
        "\u001b[0;31m---------------------------------------------------------------------------\u001b[0m\n\u001b[0;31mValueError\u001b[0m                                Traceback (most recent call last)",
        "\u001b[0;32m<ipython-input-19-20e571af9a80>\u001b[0m in \u001b[0;36m<module>\u001b[0;34m()\u001b[0m\n\u001b[0;32m----> 1\u001b[0;31m \u001b[0;32mfrom\u001b[0m \u001b[0;34m.\u001b[0m\u001b[0mlib\u001b[0m\u001b[0;34m.\u001b[0m\u001b[0mows_preprocessors\u001b[0m \u001b[0;32mimport\u001b[0m \u001b[0mOwsWmsPreprocessor\u001b[0m\u001b[0;34m\u001b[0m\u001b[0m\n\u001b[0m\u001b[1;32m      2\u001b[0m \u001b[0;34m\u001b[0m\u001b[0m\n\u001b[1;32m      3\u001b[0m \u001b[0mows\u001b[0m \u001b[0;34m=\u001b[0m \u001b[0mOwsWmsPreprocessor\u001b[0m\u001b[0;34m(\u001b[0m\u001b[0mwms_as_xml\u001b[0m\u001b[0;34m,\u001b[0m \u001b[0;34m'1.1.1'\u001b[0m\u001b[0;34m)\u001b[0m\u001b[0;34m\u001b[0m\u001b[0m\n\u001b[1;32m      4\u001b[0m \u001b[0mows\u001b[0m\u001b[0;34m.\u001b[0m\u001b[0mversion\u001b[0m\u001b[0;34m\u001b[0m\u001b[0m\n",
        "\u001b[0;31mValueError\u001b[0m: Attempted relative import in non-package"
       ]
      }
     ],
     "prompt_number": 19
    },
    {
     "cell_type": "code",
     "collapsed": false,
     "input": [],
     "language": "python",
     "metadata": {},
     "outputs": []
    }
   ],
   "metadata": {}
  }
 ]
}