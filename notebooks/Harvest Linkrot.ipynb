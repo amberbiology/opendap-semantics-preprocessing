{
 "cells": [
  {
   "cell_type": "markdown",
   "metadata": {},
   "source": [
    "### Quick check for linkrot in the harvested endpoints, both sets\n",
    "\n",
    "using a head request to start\n",
    "\n",
    "With timeouts and capturing redirects\n"
   ]
  },
  {
   "cell_type": "code",
   "execution_count": null,
   "metadata": {
    "collapsed": false,
    "scrolled": true
   },
   "outputs": [],
   "source": [
    "import glob\n",
    "import json\n",
    "import os\n",
    "import requests\n",
    "from datetime import datetime\n",
    "\n",
    "import logging\n",
    "reload(logging)\n",
    "\n",
    "logger = logging.getLogger(__name__)\n",
    "handler = logging.FileHandler(filename=\"harvest_linkrot_%s.log\" % datetime.now().strftime('%Y%m%d-%H%M'), mode=\"a\", encoding=\"UTF-8\")\n",
    "logger.addHandler(handler)\n",
    "logger.setLevel(logging.INFO)\n",
    "\n",
    "files = glob.glob('../solr_superset/docs/*.json')\n",
    "\n",
    "for i, f in enumerate(files):\n",
    "    if i % 5000 == 0 and i > 0:\n",
    "        print '{0} complete'.format(i)\n",
    "    \n",
    "    with open(f, 'r') as g:\n",
    "        data = json.loads(g.read())\n",
    "    \n",
    "    url = data['url']\n",
    "    \n",
    "    try:\n",
    "        req = requests.head(url, allow_redirects=True, timeout=10)\n",
    "    except Exception as ex:\n",
    "        logger.error('ERROR :: {0} :: {1} :: '.format(url, ex))\n",
    "        continue\n",
    "        \n",
    "    if req.url != url:\n",
    "        logger.info('REDIRECT :: {0} :: {1} :: {2}'.format(url, req.status_code, req.url))\n",
    "    \n",
    "    logger.info('RESPONSE :: {0} :: {1} :: '.format(url, req.status_code))\n"
   ]
  },
  {
   "cell_type": "code",
   "execution_count": null,
   "metadata": {
    "collapsed": true
   },
   "outputs": [],
   "source": []
  }
 ],
 "metadata": {
  "kernelspec": {
   "display_name": "Python 2",
   "language": "python",
   "name": "python2"
  },
  "language_info": {
   "codemirror_mode": {
    "name": "ipython",
    "version": 2
   },
   "file_extension": ".py",
   "mimetype": "text/x-python",
   "name": "python",
   "nbconvert_exporter": "python",
   "pygments_lexer": "ipython2",
   "version": "2.7.9"
  }
 },
 "nbformat": 4,
 "nbformat_minor": 0
}
