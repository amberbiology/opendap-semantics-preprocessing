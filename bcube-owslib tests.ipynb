{
 "metadata": {
  "name": "",
  "signature": "sha256:76a64175d1088ca77ba6b2ee520b80b326ed888fac3687937ff1eff88f399c64"
 },
 "nbformat": 3,
 "nbformat_minor": 0,
 "worksheets": [
  {
   "cells": [
    {
     "cell_type": "markdown",
     "metadata": {},
     "source": [
      "mostly interested in the consistency for the capabilities/operations sections and the layers (dataset info + metadata info) through the preprocessor and the owslib-based classes\n",
      "\n",
      "and that the configs are complete. ugh."
     ]
    },
    {
     "cell_type": "code",
     "collapsed": false,
     "input": [
      "%reload_ext autoreload\n",
      "%autoreload 2\n",
      "\n",
      "import os\n",
      "import json\n",
      "from lib.preprocessors.ogc_preprocessors import OgcReader\n",
      "import pprint\n",
      "\n",
      "pp = pprint.PrettyPrinter(indent=4)\n",
      "\n",
      "# method for extracting our sample text from a \"cleaned\" response\n",
      "# because we don't need a proper parser obj, just some text\n",
      "\n",
      "INPUT_DIR = 'testdata/solr_20150320/identify_20150325_p/'\n",
      "\n",
      "def return_response(digest):\n",
      "    with open(os.path.join(INPUT_DIR, digest + '_identified.json'), 'r') as f:\n",
      "        data = json.loads(f.read())\n",
      "    \n",
      "    return data['content'], data['identity'], data['source_url']"
     ],
     "language": "python",
     "metadata": {},
     "outputs": [],
     "prompt_number": 8
    },
    {
     "cell_type": "markdown",
     "metadata": {},
     "source": [
      "### WMS"
     ]
    },
    {
     "cell_type": "code",
     "collapsed": false,
     "input": [
      "# version 1.1.1\n",
      "\n",
      "digest = 'e2e2932abf6bb47ab15492781c873bb8'\n",
      "\n",
      "response, identity, url = return_response(digest)\n",
      "\n",
      "service = identity['protocol'].split(':')[-1]\n",
      "reader = OgcReader (service, identity['version'], response.encode('unicode_escape'), url)\n",
      "\n",
      "print reader.service, reader.version, reader.url\n",
      "\n",
      "service_description = reader.return_service_descriptors()\n",
      "pp.pprint(service_description)\n",
      "\n",
      "dataset_description = reader.return_dataset_descriptors()\n",
      "pp.pprint(dataset_description)\n",
      "\n",
      "metadata_description = reader.return_metadata_descriptors()\n",
      "pp.pprint(metadata_description)\n"
     ],
     "language": "python",
     "metadata": {},
     "outputs": [
      {
       "output_type": "stream",
       "stream": "stdout",
       "text": [
        "WMS 1.1.1 http://limaims.cr.usgs.gov/WMS_Capabilities/USGS_EDC_Antarctic_Data/capabilities_1_1_1.xml\n",
        "{   'abstract': 'ArcIMS Web Map Service: USGS_EDC_Antarctic_Data',\n",
        "    'contact': 'Customer Services Representative',\n",
        "    'endpoints': [   {   'actionable': 1,\n",
        "                         'formats': ['application/vnd.ogc.wms_xml'],\n",
        "                         'name': 'GetCapabilities',\n",
        "                         'parameters': [   {   'name': 'service',\n",
        "                                               'type': 'string'},\n",
        "                                           {   'name': 'request',\n",
        "                                               'type': 'string'},\n",
        "                                           {   'name': 'version',\n",
        "                                               'type': 'string'},\n",
        "                                           {   }],\n",
        "                         'type': 'Get',\n",
        "                         'url': u'http://imsref.cr.usgs.gov:80/wmsconnector/com.esri.wms.Esrimap/USGS_EDC_Antarctic_Data?SERVICE=WMS&VERSION=1.1.1&REQUEST=GetCapabilities'},\n",
        "                     {   'actionable': 2,\n",
        "                         'formats': ['image/png', 'image/jpeg', 'image/gif'],\n",
        "                         'name': 'GetMap',\n",
        "                         'parameters': [   {   'name': 'service',\n",
        "                                               'type': 'string'},\n",
        "                                           {   'name': 'request',\n",
        "                                               'type': 'string'},\n",
        "                                           {   'name': 'version',\n",
        "                                               'type': 'string'},\n",
        "                                           {   'name': 'format',\n",
        "                                               'type': 'string'},\n",
        "                                           {   'format': 'comma-delimtied string',\n",
        "                                               'name': 'layers',\n",
        "                                               'type': 'string'},\n",
        "                                           {   'format': 'minx,miny,maxx,maxy',\n",
        "                                               'name': 'bbox',\n",
        "                                               'type': 'string'},\n",
        "                                           {   'name': 'height',\n",
        "                                               'type': 'int'},\n",
        "                                           {   'name': 'width', 'type': 'int'},\n",
        "                                           {   'name': 'styles',\n",
        "                                               'type': 'string'},\n",
        "                                           {   'name': 'srs',\n",
        "                                               'type': 'string'},\n",
        "                                           {   'name': 'transparent',\n",
        "                                               'type': 'string'},\n",
        "                                           {   'name': 'bgcolor',\n",
        "                                               'type': 'hexadecimal'},\n",
        "                                           {   'name': 'elevation',\n",
        "                                               'type': 'string'},\n",
        "                                           {   'name': 'time',\n",
        "                                               'type': 'string'}],\n",
        "                         'type': 'Get',\n",
        "                         'url': u'http://imsref.cr.usgs.gov:80/wmsconnector/com.esri.wms.Esrimap/USGS_EDC_Antarctic_Data?SERVICE=WMS&VERSION=1.1.1&REQUEST=GetMap'},\n",
        "                     {   'actionable': 2,\n",
        "                         'formats': [   'application/vnd.ogc.wms_xml',\n",
        "                                        'text/xml',\n",
        "                                        'text/html',\n",
        "                                        'text/plain'],\n",
        "                         'name': 'GetFeatureInfo',\n",
        "                         'parameters': [   {   'name': 'service',\n",
        "                                               'type': 'string'},\n",
        "                                           {   'name': 'request',\n",
        "                                               'type': 'string'},\n",
        "                                           {   'name': 'version',\n",
        "                                               'type': 'string'},\n",
        "                                           {   'name': 'info_format',\n",
        "                                               'type': 'string'},\n",
        "                                           {   'name': 'feature_count',\n",
        "                                               'type': 'int'}],\n",
        "                         'type': 'Get',\n",
        "                         'url': u'http://imsref.cr.usgs.gov:80/wmsconnector/com.esri.wms.Esrimap/USGS_EDC_Antarctic_Data?SERVICE=WMS&VERSION=1.1.1&REQUEST=GetFeatureInfo'}],\n",
        "    'rights': 'none',\n",
        "    'subject': ['ArcIMS'],\n",
        "    'title': 'USGS EROS Web Map Service: USGS_EDC_Antarctic_Data'}\n",
        "None\n",
        "None\n"
       ]
      }
     ],
     "prompt_number": 9
    },
    {
     "cell_type": "code",
     "collapsed": false,
     "input": [
      "# version 1.3.0\n",
      "\n",
      "digest = '08efde1a9c4a90ab737675467a238c75'\n",
      "\n",
      "response, identity, url = return_response(digest)"
     ],
     "language": "python",
     "metadata": {},
     "outputs": []
    },
    {
     "cell_type": "markdown",
     "metadata": {},
     "source": [
      "### WFS"
     ]
    },
    {
     "cell_type": "code",
     "collapsed": false,
     "input": [
      "# version 1.0.0\n",
      "\n",
      "digest = '5cb48377a5936d8d933e32bf76f114ce'\n",
      "\n",
      "response, identity, url = return_response(digest)"
     ],
     "language": "python",
     "metadata": {},
     "outputs": []
    },
    {
     "cell_type": "code",
     "collapsed": false,
     "input": [
      "# version 1.1.0\n",
      "\n",
      "digest = '5a417deb50f3aac558b967f0ff5f45fa'\n",
      "\n",
      "response, identity, url = return_response(digest)"
     ],
     "language": "python",
     "metadata": {},
     "outputs": []
    },
    {
     "cell_type": "markdown",
     "metadata": {},
     "source": [
      "### WCS"
     ]
    },
    {
     "cell_type": "code",
     "collapsed": false,
     "input": [
      "# version 1.0.0\n",
      "\n",
      "digest = '6547479c4d6b2113adf75dd1c0c0bc1c'\n",
      "\n",
      "response, identity, url = return_response(digest)"
     ],
     "language": "python",
     "metadata": {},
     "outputs": []
    },
    {
     "cell_type": "code",
     "collapsed": false,
     "input": [
      "# version 1.1.0\n",
      "\n",
      "# no valid service"
     ],
     "language": "python",
     "metadata": {},
     "outputs": []
    },
    {
     "cell_type": "code",
     "collapsed": false,
     "input": [
      "# version 1.1.1\n",
      "\n",
      "#not sure why the diff btwn url version and xml version, but we'll use the xml version\n",
      "\n",
      "digest = '470d36294dd7b52c4182ba01d3c1b993'\n",
      "\n",
      "response, identity, url = return_response(digest)"
     ],
     "language": "python",
     "metadata": {},
     "outputs": []
    },
    {
     "cell_type": "code",
     "collapsed": false,
     "input": [
      "# version 1.1.2\n",
      "\n",
      "digest = 'b5534db24d627cba6495b09c546d282b'\n",
      "\n",
      "response, identity, url = return_response(digest)"
     ],
     "language": "python",
     "metadata": {},
     "outputs": []
    },
    {
     "cell_type": "markdown",
     "metadata": {},
     "source": [
      "### CSW"
     ]
    },
    {
     "cell_type": "code",
     "collapsed": false,
     "input": [
      "# version 2.0.2\n",
      "\n",
      "digest = '4fae8c425742c252feb46604f3170afd'\n",
      "\n",
      "response, identity, url = return_response(digest)"
     ],
     "language": "python",
     "metadata": {},
     "outputs": []
    },
    {
     "cell_type": "markdown",
     "metadata": {},
     "source": [
      "### SOS"
     ]
    },
    {
     "cell_type": "code",
     "collapsed": false,
     "input": [
      "# version 1.0.0\n",
      "\n",
      "digest = 'b0f4b528fc8f110c9b6aafa5e9d8aada'\n",
      "\n",
      "response, identity, url = return_response(digest)"
     ],
     "language": "python",
     "metadata": {},
     "outputs": []
    }
   ],
   "metadata": {}
  }
 ]
}